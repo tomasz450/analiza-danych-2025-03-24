{
 "cells": [
  {
   "cell_type": "markdown",
   "id": "b2849e6c",
   "metadata": {},
   "source": [
    "### NumPy - biblioteka do obliczeń numerycznych\n",
    "\n",
    "- Podstawy obliczeń numerycznych\n",
    "- Porównanie szybkości z czystym Pythonem\n",
    "- Kluczowe różnice pomiędzy tablicami Numpy i listami pythonowymi\n",
    "- Typowe operacje na wektorach i macierzach\n",
    "- Algebra liniowa"
   ]
  },
  {
   "cell_type": "markdown",
   "id": "458d511d",
   "metadata": {},
   "source": [
    "**NumPy**, czyli **Numerical Python**, to biblioteka programistyczna w języku Python, która dostarcza wsparcie dla efektywnych operacji numerycznych, zwłaszcza na dużych tablicach i macierzach danych. Jest jednym z podstawowych narzędzi w dziedzinie naukowych obliczeń i analizy danych w języku Python.\n",
    "\n",
    "Główne cechy i funkcje biblioteki NumPy:\n",
    "\n",
    "1. Tablice wielowymiarowe: NumPy wprowadza nowy typ danych, znany jako **\"array\" (tablica)**, który pozwala na przechowywanie i operowanie danymi wielowymiarowymi. Tablice w NumPy są bardziej wydajne niż standardowe listy w Pythonie i pozwalają na efektywne wykonywanie operacji matematycznych i statystycznych na danych.\n",
    "\n",
    "2. Efektywne operacje numeryczne: NumPy dostarcza wiele wbudowanych funkcji i operacji, takich jak **dodawanie, mnożenie, podnoszenie do potęgi, funkcje trygonometryczne itp.**, które działają efektywnie na dużych zbiorach danych.\n",
    "\n",
    "3. Indeksowanie i wycinanie: NumPy oferuje zaawansowane możliwości indeksowania i wycinania danych z tablic, co pozwala na dostęp do konkretnych elementów lub podtablic z dużą precyzją.\n",
    "\n",
    "4. Losowanie liczb: Biblioteka umożliwia generowanie losowych liczb o różnych rozkładach, co jest przydatne w symulacjach i analizach statystycznych.\n",
    "\n",
    "5. Integracja z innymi bibliotekami: NumPy jest często używany w połączeniu z innymi bibliotekami do naukowych obliczeń i analizy danych, takimi jak SciPy, pandas, matplotlib i scikit-learn.\n",
    "\n",
    "6. Obsługa danych brakujących: NumPy ma wbudowane funkcje do pracy z danymi brakującymi, co jest istotne w analizie danych."
   ]
  },
  {
   "cell_type": "markdown",
   "id": "c76a9258",
   "metadata": {},
   "source": [
    "## NumPy\n",
    "\n",
    "Dokumentacja: [https://NumPy.org/doc/](https://NumPy.org/doc/)\n",
    "\n",
    "Biblioteka do przetwarzania numerycznego dużych wielowymiarowych tablic liczbowych. \n",
    "\n",
    "Typowy import:"
   ]
  },
  {
   "cell_type": "markdown",
   "id": "7359daf2",
   "metadata": {},
   "source": [
    "- Strona biblioteki: https://numpy.org/\n",
    "- Dokumentacja: https://numpy.org/doc/\n",
    "-  ---\n",
    "\n",
    "- Aby zainstalować bibliotekę NumPy, użyj polecenia poniżej:\n",
    "\n",
    "```python\n",
    "pip install numpy\n",
    "```"
   ]
  },
  {
   "cell_type": "code",
   "execution_count": 1,
   "id": "1e3d7a57",
   "metadata": {},
   "outputs": [
    {
     "name": "stdout",
     "output_type": "stream",
     "text": [
      "Requirement already satisfied: numpy in c:\\users\\tomas\\appdata\\local\\programs\\anaconda3\\lib\\site-packages (1.24.3)\n"
     ]
    }
   ],
   "source": [
    "!pip install numpy"
   ]
  },
  {
   "cell_type": "code",
   "execution_count": 4,
   "id": "f0899d92",
   "metadata": {},
   "outputs": [
    {
     "data": {
      "text/plain": [
       "'1.24.3'"
      ]
     },
     "execution_count": 4,
     "metadata": {},
     "output_type": "execute_result"
    }
   ],
   "source": [
    "import numpy as np\n",
    "np.__version__"
   ]
  },
  {
   "cell_type": "markdown",
   "id": "1dcea987-c9e0-4cd2-a526-fcef330c4d26",
   "metadata": {},
   "source": [
    "## `np.ndarray`\n",
    "\n",
    "\n",
    "* Reprezentuje jedno lub wielowymiarową tablicę wartości. Jest to podstawowa klasa definiowana przez bibliotekę.\n",
    "* Wszystkie wartości w tablicy musza być tego samego typu, czyli `np.ndarray` jest tablicą jednorodną (homogeniczną) .\n",
    "* Każda wartość zajmuje tę samą określoną przez typ porcję pamięci."
   ]
  },
  {
   "cell_type": "markdown",
   "id": "159adaac-ef4b-47ca-910b-de599c020698",
   "metadata": {},
   "source": [
    "## `np.array()`\n",
    "\n",
    "Tworzy tablice z \"tablicopodobnych\" obiektów, np. z list:"
   ]
  },
  {
   "cell_type": "code",
   "execution_count": 13,
   "id": "aa4f073d-0f46-4afa-8043-fa7fb13debbc",
   "metadata": {},
   "outputs": [
    {
     "data": {
      "text/plain": [
       "[1, 2, '3', [1]]"
      ]
     },
     "execution_count": 13,
     "metadata": {},
     "output_type": "execute_result"
    }
   ],
   "source": [
    "lista_pythonowa = [1,2,'3',[1]]\n",
    "lista_pythonowa"
   ]
  },
  {
   "cell_type": "code",
   "execution_count": 26,
   "id": "7b6aade4-47ae-4ac4-8f5e-674460a537c1",
   "metadata": {},
   "outputs": [],
   "source": [
    "a = np.array([1,2,3])"
   ]
  },
  {
   "cell_type": "code",
   "execution_count": 28,
   "id": "b498e089-79d7-4ff4-aafd-3968433bb377",
   "metadata": {},
   "outputs": [
    {
     "data": {
      "text/plain": [
       "array([1, 2, 3])"
      ]
     },
     "execution_count": 28,
     "metadata": {},
     "output_type": "execute_result"
    }
   ],
   "source": [
    "a"
   ]
  },
  {
   "cell_type": "code",
   "execution_count": 21,
   "id": "d2535f2d-96aa-45cc-bee5-852a02db1f42",
   "metadata": {},
   "outputs": [
    {
     "name": "stdout",
     "output_type": "stream",
     "text": [
      "[1 2 3]\n"
     ]
    }
   ],
   "source": [
    "print(a)"
   ]
  },
  {
   "cell_type": "code",
   "execution_count": 20,
   "id": "54445be4-4835-4447-b706-753b7ff8af6f",
   "metadata": {},
   "outputs": [
    {
     "data": {
      "text/plain": [
       "array([1, 2, 3])"
      ]
     },
     "execution_count": 20,
     "metadata": {},
     "output_type": "execute_result"
    }
   ],
   "source": [
    "a"
   ]
  },
  {
   "cell_type": "code",
   "execution_count": 10,
   "id": "f7205b20-65af-47a0-9f62-ef0d41864f98",
   "metadata": {},
   "outputs": [
    {
     "data": {
      "text/plain": [
       "numpy.ndarray"
      ]
     },
     "execution_count": 10,
     "metadata": {},
     "output_type": "execute_result"
    }
   ],
   "source": [
    "type(a)"
   ]
  },
  {
   "cell_type": "code",
   "execution_count": 29,
   "id": "99411fd4-a0f5-463c-8b19-97f47f197b95",
   "metadata": {},
   "outputs": [
    {
     "data": {
      "text/plain": [
       "dtype('int32')"
      ]
     },
     "execution_count": 29,
     "metadata": {},
     "output_type": "execute_result"
    }
   ],
   "source": [
    "a.dtype"
   ]
  },
  {
   "cell_type": "markdown",
   "id": "e9cbf591-e8a0-40ae-b568-8d06d590f3d6",
   "metadata": {},
   "source": [
    "Automatyczne rozszerzanie typu:"
   ]
  },
  {
   "cell_type": "code",
   "execution_count": 30,
   "id": "4df35abe-3368-465c-add5-9f1d124c4157",
   "metadata": {},
   "outputs": [
    {
     "data": {
      "text/plain": [
       "dtype('float64')"
      ]
     },
     "execution_count": 30,
     "metadata": {},
     "output_type": "execute_result"
    }
   ],
   "source": [
    "a = np.array([1.5, 2, 3.14])\n",
    "a.dtype"
   ]
  },
  {
   "cell_type": "code",
   "execution_count": 31,
   "id": "88ab9243-c9cf-4563-a2b2-bb68cb3eba03",
   "metadata": {},
   "outputs": [
    {
     "data": {
      "text/plain": [
       "array([1.5 , 2.  , 3.14])"
      ]
     },
     "execution_count": 31,
     "metadata": {},
     "output_type": "execute_result"
    }
   ],
   "source": [
    "a"
   ]
  },
  {
   "cell_type": "code",
   "execution_count": 32,
   "id": "249d7dca-bdd4-4c7a-914b-e183a3ae0ece",
   "metadata": {},
   "outputs": [
    {
     "data": {
      "text/plain": [
       "array([1., 2., 3.])"
      ]
     },
     "execution_count": 32,
     "metadata": {},
     "output_type": "execute_result"
    }
   ],
   "source": [
    "a = np.array([1, 2, 3], dtype='float64')\n",
    "a"
   ]
  },
  {
   "cell_type": "markdown",
   "id": "6e6736b1-db74-4237-a1cc-f98ebeac9c44",
   "metadata": {},
   "source": [
    "## NumPy: typy wbudowane\n",
    "\n",
    "Data type |Description\n",
    "---|---\n",
    "bool_ |Boolean (True or False) stored as a byte\n",
    "int_ |Default integer type (same as C long; normally either int64 or int32)\n",
    "intc |Identical to C int (normally int32 or int64)\n",
    "intp |Integer used for indexing (same as C ssize_t; normally either int32 or int64)\n",
    "int8 |Byte (-128 to 127)\n",
    "int16 |Integer (-32768 to 32767)\n",
    "int32 |Integer (-2147483648 to 2147483647)\n",
    "int64 |Integer (-9223372036854775808 to 9223372036854775807)\n",
    "uint8 |Unsigned integer (0 to 255)\n",
    "uint16 |Unsigned integer (0 to 65535)\n",
    "uint32 |Unsigned integer (0 to 4294967295)\n",
    "uint64 |Unsigned integer (0 to 18446744073709551615)\n",
    "float_ |Shorthand for float64.\n",
    "float16 |Half precision float: sign bit, 5 bits exponent, 10 bits mantissa\n",
    "float32 |Single precision float: sign bit, 8 bits exponent, 23 bits mantissa\n",
    "float64 |Double precision float: sign bit, 11 bits exponent, 52 bits mantissa\n",
    "complex_ |Shorthand for complex128.\n",
    "complex64 |Complex number, represented by two 32-bit floats\n",
    "complex128 |Complex number, represented by two 64-bit floats"
   ]
  },
  {
   "cell_type": "markdown",
   "id": "d46d4213-0155-4d39-9fc0-1628b4ffc18c",
   "metadata": {},
   "source": [
    "## Dygresja: pamięć zajmowana przez tablicę\n",
    "### `np.nbytes`\n",
    "\n",
    "Liczba bajtów zajęta przez jedną wartość danego typu:"
   ]
  },
  {
   "cell_type": "code",
   "execution_count": 33,
   "id": "497cc684-7e32-48e2-b61e-c13cf4bbf001",
   "metadata": {},
   "outputs": [
    {
     "data": {
      "text/plain": [
       "{numpy.bool_: 1,\n",
       " numpy.int8: 1,\n",
       " numpy.uint8: 1,\n",
       " numpy.int16: 2,\n",
       " numpy.uint16: 2,\n",
       " numpy.intc: 4,\n",
       " numpy.uintc: 4,\n",
       " numpy.int64: 8,\n",
       " numpy.uint64: 8,\n",
       " numpy.int32: 4,\n",
       " numpy.uint32: 4,\n",
       " numpy.float16: 2,\n",
       " numpy.float32: 4,\n",
       " numpy.float64: 8,\n",
       " numpy.longdouble: 8,\n",
       " numpy.complex64: 8,\n",
       " numpy.complex128: 16,\n",
       " numpy.clongdouble: 16,\n",
       " numpy.object_: 8,\n",
       " numpy.bytes_: 0,\n",
       " numpy.str_: 0,\n",
       " numpy.void: 0,\n",
       " numpy.datetime64: 8,\n",
       " numpy.timedelta64: 8}"
      ]
     },
     "execution_count": 33,
     "metadata": {},
     "output_type": "execute_result"
    }
   ],
   "source": [
    "np.nbytes"
   ]
  },
  {
   "cell_type": "code",
   "execution_count": 34,
   "id": "a122f73f-a295-42f0-b3c9-b49be08424db",
   "metadata": {},
   "outputs": [
    {
     "data": {
      "text/plain": [
       "array([[1, 2, 3]])"
      ]
     },
     "execution_count": 34,
     "metadata": {},
     "output_type": "execute_result"
    }
   ],
   "source": [
    "a = np.array([[1, 2, 3]])\n",
    "a"
   ]
  },
  {
   "cell_type": "code",
   "execution_count": null,
   "id": "bf1c3c27-1428-45a6-aacc-6d69446b3d08",
   "metadata": {},
   "outputs": [],
   "source": []
  }
 ],
 "metadata": {
  "kernelspec": {
   "display_name": "Python 3 (ipykernel)",
   "language": "python",
   "name": "python3"
  },
  "language_info": {
   "codemirror_mode": {
    "name": "ipython",
    "version": 3
   },
   "file_extension": ".py",
   "mimetype": "text/x-python",
   "name": "python",
   "nbconvert_exporter": "python",
   "pygments_lexer": "ipython3",
   "version": "3.9.20"
  }
 },
 "nbformat": 4,
 "nbformat_minor": 5
}
