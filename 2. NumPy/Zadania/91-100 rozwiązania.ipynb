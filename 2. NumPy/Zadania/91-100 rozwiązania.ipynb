{
 "cells": [
  {
   "cell_type": "markdown",
   "metadata": {
    "id": "zeLOLmTj1kBM"
   },
   "source": [
    "### <a name='0'></a>Import biblioteki"
   ]
  },
  {
   "cell_type": "code",
   "execution_count": 1,
   "metadata": {
    "colab": {
     "base_uri": "https://localhost:8080/",
     "height": 34
    },
    "id": "HXMB7SMe1Wnz",
    "outputId": "2db8c9db-d4ba-45b6-f20b-e7e9cac40bba"
   },
   "outputs": [
    {
     "data": {
      "text/plain": [
       "'1.24.4'"
      ]
     },
     "execution_count": 1,
     "metadata": {},
     "output_type": "execute_result"
    }
   ],
   "source": [
    "import numpy as np\n",
    "\n",
    "np.set_printoptions(linewidth=160, suppress=True)\n",
    "np.__version__"
   ]
  },
  {
   "cell_type": "markdown",
   "metadata": {
    "id": "cyc70pMe1oCg"
   },
   "source": [
    "### <a name='1'></a> Ćwiczenie 91\n",
    "Podany jest poniższy string _wig_games_raw_ zawierający dane dotyczące indeksu sektorowego WIG.GAMES:\n",
    "\n",
    "```\n",
    "wig_games_raw = \"\"\"Profil\tCzas\tKurs\tZmiana\tZmiana %\tOdn.\tOtw.\tMin.\tMax.\tWolumen\tObrót\tUdział\n",
    "11B (11BIT)\t17 kwi 17:01\t391.00\t+8.00\t(+2.09%)\t383.00\t383.50\t383.00\t394.00\t12 784\t4 994 874\t19.034%\n",
    "CDR (CDPROJEKT)\t17 kwi 17:01\t339.50\t+5.30\t(+1.59%)\t334.20\t338.30\t337.00\t344.20\t233 059\t79 245 368\t39.618%\n",
    "CIG (CIGAMES)\t17 kwi 17:03\t0.742\t-0.012\t(-1.59%)\t0.754\t0.772\t0.730\t0.772\t1 311 078\t971 459\t1.855%\n",
    "PLW (PLAYWAY)\t17 kwi 17:03\t387.50\t+18.00\t(+4.87%)\t369.50\t374.00\t373.00\t388.00\t33 206\t12 661 786\t10.638%\n",
    "TEN (TSGAMES)\t17 kwi 17:02\t349.50\t+22.50\t(+6.88%)\t327.00\t332.00\t330.00\t353.50\t39 793\t13 697 060\t28.855%\"\"\"\n",
    "```\n",
    "\n",
    "Zbuduj z tych danych tablicę numpy i nazwij ją _wig_games_.\n",
    "\n",
    "__Oczekiwany wynik:__\n",
    "\n",
    "\n",
    "```\n",
    "array([['Profil', 'Czas', 'Kurs', 'Zmiana', 'Zmiana%', 'Odn.', 'Otw.', 'Min.', 'Max.', 'Wolumen', 'Obrót', 'Udział'],\n",
    "       ['11B(11BIT)', '17kwi17:01', '391.00', '+8.00', '(+2.09%)', '383.00', '383.50', '383.00', '394.00', '12784', '4994874', '19.034%'],\n",
    "       ['CDR(CDPROJEKT)', '17kwi17:01', '339.50', '+5.30', '(+1.59%)', '334.20', '338.30', '337.00', '344.20', '233059', '79245368', '39.618%'],\n",
    "       ['CIG(CIGAMES)', '17kwi17:03', '0.742', '-0.012', '(-1.59%)', '0.754', '0.772', '0.730', '0.772', '1311078', '971459', '1.855%'],\n",
    "       ['PLW(PLAYWAY)', '17kwi17:03', '387.50', '+18.00', '(+4.87%)', '369.50', '374.00', '373.00', '388.00', '33206', '12661786', '10.638%'],\n",
    "       ['TEN(TSGAMES)', '17kwi17:02', '349.50', '+22.50', '(+6.88%)', '327.00', '332.00', '330.00', '353.50', '39793', '13697060', '28.855%']], dtype='<U14')\n",
    "```\n",
    "\n",
    "\n",
    "\n",
    "\n"
   ]
  },
  {
   "cell_type": "code",
   "execution_count": 3,
   "metadata": {
    "colab": {
     "base_uri": "https://localhost:8080/",
     "height": 119
    },
    "id": "p0S46C_Lc2GH",
    "outputId": "e9885d64-1caf-4e29-8cfc-9dcc432cc4ed"
   },
   "outputs": [
    {
     "data": {
      "text/plain": [
       "array([['Profil', 'Czas', 'Kurs', 'Zmiana', 'Zmiana%', 'Odn.', 'Otw.', 'Min.', 'Max.', 'Wolumen', 'Obrót', 'Udział'],\n",
       "       ['11B(11BIT)', '17kwi17:01', '391.00', '+8.00', '(+2.09%)', '383.00', '383.50', '383.00', '394.00', '12784', '4994874', '19.034%'],\n",
       "       ['CDR(CDPROJEKT)', '17kwi17:01', '339.50', '+5.30', '(+1.59%)', '334.20', '338.30', '337.00', '344.20', '233059', '79245368', '39.618%'],\n",
       "       ['CIG(CIGAMES)', '17kwi17:03', '0.742', '-0.012', '(-1.59%)', '0.754', '0.772', '0.730', '0.772', '1311078', '971459', '1.855%'],\n",
       "       ['PLW(PLAYWAY)', '17kwi17:03', '387.50', '+18.00', '(+4.87%)', '369.50', '374.00', '373.00', '388.00', '33206', '12661786', '10.638%'],\n",
       "       ['TEN(TSGAMES)', '17kwi17:02', '349.50', '+22.50', '(+6.88%)', '327.00', '332.00', '330.00', '353.50', '39793', '13697060', '28.855%']], dtype='<U14')"
      ]
     },
     "execution_count": 3,
     "metadata": {},
     "output_type": "execute_result"
    }
   ],
   "source": [
    "wig_games_raw = \"\"\"Profil\tCzas\tKurs\tZmiana\tZmiana %\tOdn.\tOtw.\tMin.\tMax.\tWolumen\tObrót\tUdział\n",
    "11B (11BIT)\t17 kwi 17:01\t391.00\t+8.00\t(+2.09%)\t383.00\t383.50\t383.00\t394.00\t12 784\t4 994 874\t19.034%\n",
    "CDR (CDPROJEKT)\t17 kwi 17:01\t339.50\t+5.30\t(+1.59%)\t334.20\t338.30\t337.00\t344.20\t233 059\t79 245 368\t39.618%\n",
    "CIG (CIGAMES)\t17 kwi 17:03\t0.742\t-0.012\t(-1.59%)\t0.754\t0.772\t0.730\t0.772\t1 311 078\t971 459\t1.855%\n",
    "PLW (PLAYWAY)\t17 kwi 17:03\t387.50\t+18.00\t(+4.87%)\t369.50\t374.00\t373.00\t388.00\t33 206\t12 661 786\t10.638%\n",
    "TEN (TSGAMES)\t17 kwi 17:02\t349.50\t+22.50\t(+6.88%)\t327.00\t332.00\t330.00\t353.50\t39 793\t13 697 060\t28.855%\"\"\"\n",
    "\n",
    "lines = wig_games_raw.splitlines()\n",
    "lines = [line.split('\\t') for line in lines]\n",
    "wig_games = np.array(lines, dtype=str)\n",
    "wig_games = np.char.replace(wig_games, ' ', '')\n",
    "wig_games"
   ]
  },
  {
   "cell_type": "markdown",
   "metadata": {
    "id": "J9pY1rtr1sC0"
   },
   "source": [
    "### <a name='2'></a> Ćwiczenie 92\n",
    "Z tablicy _wig_games_ z poprzedniego ćwiczenia usuń kolumny:\n",
    "* Zmiana\n",
    "* Zmiana %\n",
    "* Odn.\n",
    "* Wolumen\n",
    "\n",
    "__Oczekiwany wynik:__\n",
    "\n",
    "\n",
    "```\n",
    "array([['Profil', 'Czas', 'Kurs', 'Otw.', 'Min.', 'Max.', 'Obrót', 'Udział'],\n",
    "       ['11B (11BIT)', '17 kwi 17:01', '391.00', '383.50', '383.00', '394.00', '4 994 874', '19.034%'],\n",
    "       ['CDR (CDPROJEKT)', '17 kwi 17:01', '339.50', '338.30', '337.00', '344.20', '79 245 368', '39.618%'],\n",
    "       ['CIG (CIGAMES)', '17 kwi 17:03', '0.742', '0.772', '0.730', '0.772', '971 459', '1.855%'],\n",
    "       ['PLW (PLAYWAY)', '17 kwi 17:03', '387.50', '374.00', '373.00', '388.00', '12 661 786', '10.638%'],\n",
    "       ['TEN (TSGAMES)', '17 kwi 17:02', '349.50', '332.00', '330.00', '353.50', '13 697 060', '28.855%']], dtype='<U15')\n",
    "```\n",
    "\n"
   ]
  },
  {
   "cell_type": "code",
   "execution_count": 4,
   "metadata": {
    "colab": {
     "base_uri": "https://localhost:8080/",
     "height": 119
    },
    "id": "0iG7wIXvdrGn",
    "outputId": "32945e5c-08a4-4af1-a2e8-54847621ddb0"
   },
   "outputs": [
    {
     "data": {
      "text/plain": [
       "array([['Profil', 'Czas', 'Kurs', 'Otw.', 'Min.', 'Max.', 'Obrót', 'Udział'],\n",
       "       ['11B(11BIT)', '17kwi17:01', '391.00', '383.50', '383.00', '394.00', '4994874', '19.034%'],\n",
       "       ['CDR(CDPROJEKT)', '17kwi17:01', '339.50', '338.30', '337.00', '344.20', '79245368', '39.618%'],\n",
       "       ['CIG(CIGAMES)', '17kwi17:03', '0.742', '0.772', '0.730', '0.772', '971459', '1.855%'],\n",
       "       ['PLW(PLAYWAY)', '17kwi17:03', '387.50', '374.00', '373.00', '388.00', '12661786', '10.638%'],\n",
       "       ['TEN(TSGAMES)', '17kwi17:02', '349.50', '332.00', '330.00', '353.50', '13697060', '28.855%']], dtype='<U14')"
      ]
     },
     "execution_count": 4,
     "metadata": {},
     "output_type": "execute_result"
    }
   ],
   "source": [
    "wig_games = np.delete(wig_games, [3, 4, 5, 9], axis=1)\n",
    "wig_games"
   ]
  },
  {
   "cell_type": "markdown",
   "metadata": {
    "id": "XQLYT2m11wVG"
   },
   "source": [
    "### <a name='3'></a> Ćwiczenie 93\n",
    "Tablicę z poprzedniego ćwiczenia _wig_games_ zapisz do pliku _wig_games.csv_."
   ]
  },
  {
   "cell_type": "code",
   "execution_count": 5,
   "metadata": {
    "id": "ZC0aA_OxeXrv"
   },
   "outputs": [],
   "source": [
    "np.savetxt(fname='wig_games.csv', X=wig_games, fmt='%s', delimiter=',')"
   ]
  },
  {
   "cell_type": "markdown",
   "metadata": {
    "id": "fJUl7w_SJX4B"
   },
   "source": [
    "Uruchom poniższą komórkę w celu sprawdzenia."
   ]
  },
  {
   "cell_type": "code",
   "execution_count": 7,
   "metadata": {
    "colab": {
     "base_uri": "https://localhost:8080/",
     "height": 119
    },
    "id": "QBWqXA_ns7CR",
    "outputId": "39397b90-2aba-41b8-ea17-eb35f8af07fd"
   },
   "outputs": [],
   "source": [
    "#!head wig_games.csv"
   ]
  },
  {
   "cell_type": "markdown",
   "metadata": {
    "id": "4xTKSUzg10MK"
   },
   "source": [
    "### <a name='4'></a> Ćwiczenie 94\n",
    "Wczytaj do zmiennej _wig_games_new_ zawartość pliku _wig_games.csv_."
   ]
  },
  {
   "cell_type": "code",
   "execution_count": 9,
   "metadata": {
    "colab": {
     "base_uri": "https://localhost:8080/",
     "height": 119
    },
    "id": "YqkrgA6Tgjcx",
    "outputId": "0fb779c8-124a-4ae0-c9fa-8f5a4f4078ac"
   },
   "outputs": [
    {
     "data": {
      "text/plain": [
       "array([['Profil', 'Czas', 'Kurs', 'Otw.', 'Min.', 'Max.', 'Obrót', 'Udział'],\n",
       "       ['11B(11BIT)', '17kwi17:01', '391.00', '383.50', '383.00', '394.00', '4994874', '19.034%'],\n",
       "       ['CDR(CDPROJEKT)', '17kwi17:01', '339.50', '338.30', '337.00', '344.20', '79245368', '39.618%'],\n",
       "       ['CIG(CIGAMES)', '17kwi17:03', '0.742', '0.772', '0.730', '0.772', '971459', '1.855%'],\n",
       "       ['PLW(PLAYWAY)', '17kwi17:03', '387.50', '374.00', '373.00', '388.00', '12661786', '10.638%'],\n",
       "       ['TEN(TSGAMES)', '17kwi17:02', '349.50', '332.00', '330.00', '353.50', '13697060', '28.855%']], dtype='<U14')"
      ]
     },
     "execution_count": 9,
     "metadata": {},
     "output_type": "execute_result"
    }
   ],
   "source": [
    "wig_games_new = np.loadtxt(fname='wig_games.csv', delimiter=',', dtype=str)\n",
    "wig_games_new"
   ]
  },
  {
   "cell_type": "markdown",
   "metadata": {
    "id": "o3HKIKlP15Ro"
   },
   "source": [
    "### <a name='5'></a> Ćwiczenie 95\n",
    "Podany jest poniższy string _playway_raw_ zawierający notowania spółki Playway z marca 2020.\n",
    "\n",
    "\n",
    "\n",
    "```\n",
    "playway_raw = \"\"\"Data,Otwarcie,Najwyzszy,Najnizszy,Zamkniecie,Wolumen\n",
    "2020-03-02,305,324.5,283.5,310,64081\n",
    "2020-03-03,325.5,340.5,320,340.5,55496\n",
    "2020-03-04,324,340.5,315,330,36152\n",
    "2020-03-05,344,344,310,315,35992\n",
    "2020-03-06,306.5,307,291,305,32539\n",
    "2020-03-09,274,291,250,258,79402\n",
    "2020-03-10,278,284.5,256,264,35700\n",
    "2020-03-11,270,270,238.5,245,60445\n",
    "2020-03-12,218,228,196,197,94031\n",
    "2020-03-13,210,229,198.8,211,100412\n",
    "2020-03-16,205,248,197.8,240.5,50659\n",
    "2020-03-17,245,269,232.5,264,99480\n",
    "2020-03-18,264,280,251,270,70136\n",
    "2020-03-19,267,280,267,279.5,30732\n",
    "2020-03-20,297.5,307,280,280.5,43426\n",
    "2020-03-23,274,289,258,285,37098\n",
    "2020-03-24,305,309,296.5,309,31939\n",
    "2020-03-25,313,330,295,304,46724\n",
    "2020-03-26,300,309,295.5,300,27213\n",
    "2020-03-27,302,306.5,290,296,13466\n",
    "2020-03-30,299,300,287,300,10316\n",
    "2020-03-31,302.5,309,302,306.5,15698\"\"\"\n",
    "```\n",
    "\n",
    "Utwórz tablicę o nazwie _playway_ i przypisz do niej poniższe dane."
   ]
  },
  {
   "cell_type": "code",
   "execution_count": 12,
   "metadata": {
    "colab": {
     "base_uri": "https://localhost:8080/",
     "height": 408
    },
    "id": "WJNvgoNDlumI",
    "outputId": "f24968e9-5deb-4e7e-aa30-e4df2840e436"
   },
   "outputs": [
    {
     "data": {
      "text/plain": [
       "array([['Data', 'Otwarcie', 'Najwyzszy', 'Najnizszy', 'Zamkniecie', 'Wolumen'],\n",
       "       ['2020-03-02', '305', '324.5', '283.5', '310', '64081'],\n",
       "       ['2020-03-03', '325.5', '340.5', '320', '340.5', '55496'],\n",
       "       ['2020-03-04', '324', '340.5', '315', '330', '36152'],\n",
       "       ['2020-03-05', '344', '344', '310', '315', '35992'],\n",
       "       ['2020-03-06', '306.5', '307', '291', '305', '32539'],\n",
       "       ['2020-03-09', '274', '291', '250', '258', '79402'],\n",
       "       ['2020-03-10', '278', '284.5', '256', '264', '35700'],\n",
       "       ['2020-03-11', '270', '270', '238.5', '245', '60445'],\n",
       "       ['2020-03-12', '218', '228', '196', '197', '94031'],\n",
       "       ['2020-03-13', '210', '229', '198.8', '211', '100412'],\n",
       "       ['2020-03-16', '205', '248', '197.8', '240.5', '50659'],\n",
       "       ['2020-03-17', '245', '269', '232.5', '264', '99480'],\n",
       "       ['2020-03-18', '264', '280', '251', '270', '70136'],\n",
       "       ['2020-03-19', '267', '280', '267', '279.5', '30732'],\n",
       "       ['2020-03-20', '297.5', '307', '280', '280.5', '43426'],\n",
       "       ['2020-03-23', '274', '289', '258', '285', '37098'],\n",
       "       ['2020-03-24', '305', '309', '296.5', '309', '31939'],\n",
       "       ['2020-03-25', '313', '330', '295', '304', '46724'],\n",
       "       ['2020-03-26', '300', '309', '295.5', '300', '27213'],\n",
       "       ['2020-03-27', '302', '306.5', '290', '296', '13466'],\n",
       "       ['2020-03-30', '299', '300', '287', '300', '10316'],\n",
       "       ['2020-03-31', '302.5', '309', '302', '306.5', '15698']], dtype='<U10')"
      ]
     },
     "execution_count": 12,
     "metadata": {},
     "output_type": "execute_result"
    }
   ],
   "source": [
    "playway_raw = \"\"\"Data,Otwarcie,Najwyzszy,Najnizszy,Zamkniecie,Wolumen\n",
    "2020-03-02,305,324.5,283.5,310,64081\n",
    "2020-03-03,325.5,340.5,320,340.5,55496\n",
    "2020-03-04,324,340.5,315,330,36152\n",
    "2020-03-05,344,344,310,315,35992\n",
    "2020-03-06,306.5,307,291,305,32539\n",
    "2020-03-09,274,291,250,258,79402\n",
    "2020-03-10,278,284.5,256,264,35700\n",
    "2020-03-11,270,270,238.5,245,60445\n",
    "2020-03-12,218,228,196,197,94031\n",
    "2020-03-13,210,229,198.8,211,100412\n",
    "2020-03-16,205,248,197.8,240.5,50659\n",
    "2020-03-17,245,269,232.5,264,99480\n",
    "2020-03-18,264,280,251,270,70136\n",
    "2020-03-19,267,280,267,279.5,30732\n",
    "2020-03-20,297.5,307,280,280.5,43426\n",
    "2020-03-23,274,289,258,285,37098\n",
    "2020-03-24,305,309,296.5,309,31939\n",
    "2020-03-25,313,330,295,304,46724\n",
    "2020-03-26,300,309,295.5,300,27213\n",
    "2020-03-27,302,306.5,290,296,13466\n",
    "2020-03-30,299,300,287,300,10316\n",
    "2020-03-31,302.5,309,302,306.5,15698\"\"\"\n",
    "\n",
    "lines = playway_raw.splitlines()\n",
    "lines = [line.split(',') for line in lines]\n",
    "playway = np.array(lines, dtype=str)\n",
    "playway"
   ]
  },
  {
   "cell_type": "markdown",
   "metadata": {
    "id": "3uGy3BAVnWIe"
   },
   "source": [
    "Usuń kolumnę o nazwie 'Data'. Do zmiennej _playway_values_ przypisz tylko warotści kolumn bez nagłówków. Skonwertuj tak otrzymaną tablicę na typ danych _float_.\n",
    "\n",
    "__Oczekiwany wynik:__\n",
    "\n",
    "\n",
    "\n",
    "```\n",
    "array([[   305. ,    324.5,    283.5,    310. ,  64081. ],\n",
    "       [   325.5,    340.5,    320. ,    340.5,  55496. ],\n",
    "       [   324. ,    340.5,    315. ,    330. ,  36152. ],\n",
    "       [   344. ,    344. ,    310. ,    315. ,  35992. ],\n",
    "       [   306.5,    307. ,    291. ,    305. ,  32539. ],\n",
    "       [   274. ,    291. ,    250. ,    258. ,  79402. ],\n",
    "       [   278. ,    284.5,    256. ,    264. ,  35700. ],\n",
    "       [   270. ,    270. ,    238.5,    245. ,  60445. ],\n",
    "       [   218. ,    228. ,    196. ,    197. ,  94031. ],\n",
    "       [   210. ,    229. ,    198.8,    211. , 100412. ],\n",
    "       [   205. ,    248. ,    197.8,    240.5,  50659. ],\n",
    "       [   245. ,    269. ,    232.5,    264. ,  99480. ],\n",
    "       [   264. ,    280. ,    251. ,    270. ,  70136. ],\n",
    "       [   267. ,    280. ,    267. ,    279.5,  30732. ],\n",
    "       [   297.5,    307. ,    280. ,    280.5,  43426. ],\n",
    "       [   274. ,    289. ,    258. ,    285. ,  37098. ],\n",
    "       [   305. ,    309. ,    296.5,    309. ,  31939. ],\n",
    "       [   313. ,    330. ,    295. ,    304. ,  46724. ],\n",
    "       [   300. ,    309. ,    295.5,    300. ,  27213. ],\n",
    "       [   302. ,    306.5,    290. ,    296. ,  13466. ],\n",
    "       [   299. ,    300. ,    287. ,    300. ,  10316. ],\n",
    "       [   302.5,    309. ,    302. ,    306.5,  15698. ]])\n",
    "```\n",
    "\n"
   ]
  },
  {
   "cell_type": "code",
   "execution_count": 13,
   "metadata": {
    "colab": {
     "base_uri": "https://localhost:8080/",
     "height": 391
    },
    "id": "h2CM34hNl8Or",
    "outputId": "78a468d6-267d-448b-ad44-fa9754df01d5"
   },
   "outputs": [
    {
     "data": {
      "text/plain": [
       "array([[   305. ,    324.5,    283.5,    310. ,  64081. ],\n",
       "       [   325.5,    340.5,    320. ,    340.5,  55496. ],\n",
       "       [   324. ,    340.5,    315. ,    330. ,  36152. ],\n",
       "       [   344. ,    344. ,    310. ,    315. ,  35992. ],\n",
       "       [   306.5,    307. ,    291. ,    305. ,  32539. ],\n",
       "       [   274. ,    291. ,    250. ,    258. ,  79402. ],\n",
       "       [   278. ,    284.5,    256. ,    264. ,  35700. ],\n",
       "       [   270. ,    270. ,    238.5,    245. ,  60445. ],\n",
       "       [   218. ,    228. ,    196. ,    197. ,  94031. ],\n",
       "       [   210. ,    229. ,    198.8,    211. , 100412. ],\n",
       "       [   205. ,    248. ,    197.8,    240.5,  50659. ],\n",
       "       [   245. ,    269. ,    232.5,    264. ,  99480. ],\n",
       "       [   264. ,    280. ,    251. ,    270. ,  70136. ],\n",
       "       [   267. ,    280. ,    267. ,    279.5,  30732. ],\n",
       "       [   297.5,    307. ,    280. ,    280.5,  43426. ],\n",
       "       [   274. ,    289. ,    258. ,    285. ,  37098. ],\n",
       "       [   305. ,    309. ,    296.5,    309. ,  31939. ],\n",
       "       [   313. ,    330. ,    295. ,    304. ,  46724. ],\n",
       "       [   300. ,    309. ,    295.5,    300. ,  27213. ],\n",
       "       [   302. ,    306.5,    290. ,    296. ,  13466. ],\n",
       "       [   299. ,    300. ,    287. ,    300. ,  10316. ],\n",
       "       [   302.5,    309. ,    302. ,    306.5,  15698. ]])"
      ]
     },
     "execution_count": 13,
     "metadata": {},
     "output_type": "execute_result"
    }
   ],
   "source": [
    "playway = np.delete(playway, [0], axis=1)\n",
    "playway_values = playway[1:].astype(float)\n",
    "playway_values"
   ]
  },
  {
   "cell_type": "markdown",
   "metadata": {
    "id": "PunXd_Ey16so"
   },
   "source": [
    "### <a name='6'></a> Ćwiczenie 96\n",
    "Dla tablicy _playway_values_ z poprzedniego ćwiczenia policz wartość średnią dla każdej kolumny. Wynik zaokrąglij do 2 miejsca po przecinku."
   ]
  },
  {
   "cell_type": "code",
   "execution_count": 14,
   "metadata": {
    "colab": {
     "base_uri": "https://localhost:8080/",
     "height": 34
    },
    "id": "4R_zihb-mNQI",
    "outputId": "f52f379a-41b6-480d-92c3-2a0159692077"
   },
   "outputs": [
    {
     "data": {
      "text/plain": [
       "array([  283.14,   295.25,   268.69,   282.3 , 48688.05])"
      ]
     },
     "execution_count": 14,
     "metadata": {},
     "output_type": "execute_result"
    }
   ],
   "source": [
    "np.round(playway_values.mean(axis=0), 2)"
   ]
  },
  {
   "cell_type": "markdown",
   "metadata": {
    "id": "vYku8sDioVv0"
   },
   "source": [
    "Dla tablicy _playway_values_ z poprzedniego ćwiczenia policz wartość minimalną dla każdej kolumny. Wynik zaokrąglij do 2 miejsca po przecinku."
   ]
  },
  {
   "cell_type": "code",
   "execution_count": 15,
   "metadata": {
    "colab": {
     "base_uri": "https://localhost:8080/",
     "height": 34
    },
    "id": "6tXybjFPoYuH",
    "outputId": "74c2bdf1-dcdf-4479-a8c6-4e4480d6b6f9"
   },
   "outputs": [
    {
     "data": {
      "text/plain": [
       "array([  205.,   228.,   196.,   197., 10316.])"
      ]
     },
     "execution_count": 15,
     "metadata": {},
     "output_type": "execute_result"
    }
   ],
   "source": [
    "np.round(playway_values.min(axis=0), 2)"
   ]
  },
  {
   "cell_type": "markdown",
   "metadata": {
    "id": "R8h54smpogS-"
   },
   "source": [
    "Dla tablicy _playway_values_ z poprzedniego ćwiczenia policz wartość maksymalną dla każdej kolumny. Wynik zaokrąglij do 2 miejsca po przecinku."
   ]
  },
  {
   "cell_type": "code",
   "execution_count": 16,
   "metadata": {
    "colab": {
     "base_uri": "https://localhost:8080/",
     "height": 34
    },
    "id": "fSPfLYUpoi-9",
    "outputId": "ea7dbe9b-b480-4f6a-8ddc-a353aa2258bd"
   },
   "outputs": [
    {
     "data": {
      "text/plain": [
       "array([   344. ,    344. ,    320. ,    340.5, 100412. ])"
      ]
     },
     "execution_count": 16,
     "metadata": {},
     "output_type": "execute_result"
    }
   ],
   "source": [
    "np.round(playway_values.max(axis=0), 2)"
   ]
  },
  {
   "cell_type": "markdown",
   "metadata": {
    "id": "kBHvcXSPoyt7"
   },
   "source": [
    "Policz różnicę pomiędzy wartością maksymalną i minimalną dla każdej kolumny."
   ]
  },
  {
   "cell_type": "code",
   "execution_count": 17,
   "metadata": {
    "colab": {
     "base_uri": "https://localhost:8080/",
     "height": 34
    },
    "id": "Gk6HsA-rotzG",
    "outputId": "548ddee8-ef0c-4b63-b405-3ff4ed69a9e5"
   },
   "outputs": [
    {
     "data": {
      "text/plain": [
       "array([  139. ,   116. ,   124. ,   143.5, 90096. ])"
      ]
     },
     "execution_count": 17,
     "metadata": {},
     "output_type": "execute_result"
    }
   ],
   "source": [
    "playway_values.max(axis=0) - playway_values.min(axis=0)"
   ]
  },
  {
   "cell_type": "markdown",
   "metadata": {
    "id": "hOhqDRz618Tx"
   },
   "source": [
    "### <a name='7'></a> Ćwiczenie 97\n",
    "Wykorzystując tablicę _playway_values_ oblicz nową kolumnę będącą różnicą ceny najwyższej i najniższej.\n",
    "\n",
    "Kroki pomocnicze:\n",
    "1. do zmiennej _max_min_diff_ przypisz obliczoną różnicę\n",
    "2. dodaj obliczoną kolumnę (zmienna _max_min_diff_) do tablicy _playway_values_ na końcu.\n",
    "\n",
    "__Oczekiwany wynik:__\n",
    "\n",
    "\n",
    "```\n",
    "array([[   305. ,    324.5,    283.5,    310. ,  64081. ,     41. ],\n",
    "       [   325.5,    340.5,    320. ,    340.5,  55496. ,     20.5],\n",
    "       [   324. ,    340.5,    315. ,    330. ,  36152. ,     25.5],\n",
    "       [   344. ,    344. ,    310. ,    315. ,  35992. ,     34. ],\n",
    "       [   306.5,    307. ,    291. ,    305. ,  32539. ,     16. ],\n",
    "       [   274. ,    291. ,    250. ,    258. ,  79402. ,     41. ],\n",
    "       [   278. ,    284.5,    256. ,    264. ,  35700. ,     28.5],\n",
    "       [   270. ,    270. ,    238.5,    245. ,  60445. ,     31.5],\n",
    "       [   218. ,    228. ,    196. ,    197. ,  94031. ,     32. ],\n",
    "       [   210. ,    229. ,    198.8,    211. , 100412. ,     30.2],\n",
    "       [   205. ,    248. ,    197.8,    240.5,  50659. ,     50.2],\n",
    "       [   245. ,    269. ,    232.5,    264. ,  99480. ,     36.5],\n",
    "       [   264. ,    280. ,    251. ,    270. ,  70136. ,     29. ],\n",
    "       [   267. ,    280. ,    267. ,    279.5,  30732. ,     13. ],\n",
    "       [   297.5,    307. ,    280. ,    280.5,  43426. ,     27. ],\n",
    "       [   274. ,    289. ,    258. ,    285. ,  37098. ,     31. ],\n",
    "       [   305. ,    309. ,    296.5,    309. ,  31939. ,     12.5],\n",
    "       [   313. ,    330. ,    295. ,    304. ,  46724. ,     35. ],\n",
    "       [   300. ,    309. ,    295.5,    300. ,  27213. ,     13.5],\n",
    "       [   302. ,    306.5,    290. ,    296. ,  13466. ,     16.5],\n",
    "       [   299. ,    300. ,    287. ,    300. ,  10316. ,     13. ],\n",
    "       [   302.5,    309. ,    302. ,    306.5,  15698. ,      7. ]])\n",
    "```\n",
    "\n"
   ]
  },
  {
   "cell_type": "code",
   "execution_count": 18,
   "metadata": {
    "colab": {
     "base_uri": "https://localhost:8080/",
     "height": 391
    },
    "id": "Uo-LawS_pbEx",
    "outputId": "4066b403-073b-452f-bbb4-e0c2b9352f14"
   },
   "outputs": [
    {
     "data": {
      "text/plain": [
       "array([[   305. ,    324.5,    283.5,    310. ,  64081. ,     41. ],\n",
       "       [   325.5,    340.5,    320. ,    340.5,  55496. ,     20.5],\n",
       "       [   324. ,    340.5,    315. ,    330. ,  36152. ,     25.5],\n",
       "       [   344. ,    344. ,    310. ,    315. ,  35992. ,     34. ],\n",
       "       [   306.5,    307. ,    291. ,    305. ,  32539. ,     16. ],\n",
       "       [   274. ,    291. ,    250. ,    258. ,  79402. ,     41. ],\n",
       "       [   278. ,    284.5,    256. ,    264. ,  35700. ,     28.5],\n",
       "       [   270. ,    270. ,    238.5,    245. ,  60445. ,     31.5],\n",
       "       [   218. ,    228. ,    196. ,    197. ,  94031. ,     32. ],\n",
       "       [   210. ,    229. ,    198.8,    211. , 100412. ,     30.2],\n",
       "       [   205. ,    248. ,    197.8,    240.5,  50659. ,     50.2],\n",
       "       [   245. ,    269. ,    232.5,    264. ,  99480. ,     36.5],\n",
       "       [   264. ,    280. ,    251. ,    270. ,  70136. ,     29. ],\n",
       "       [   267. ,    280. ,    267. ,    279.5,  30732. ,     13. ],\n",
       "       [   297.5,    307. ,    280. ,    280.5,  43426. ,     27. ],\n",
       "       [   274. ,    289. ,    258. ,    285. ,  37098. ,     31. ],\n",
       "       [   305. ,    309. ,    296.5,    309. ,  31939. ,     12.5],\n",
       "       [   313. ,    330. ,    295. ,    304. ,  46724. ,     35. ],\n",
       "       [   300. ,    309. ,    295.5,    300. ,  27213. ,     13.5],\n",
       "       [   302. ,    306.5,    290. ,    296. ,  13466. ,     16.5],\n",
       "       [   299. ,    300. ,    287. ,    300. ,  10316. ,     13. ],\n",
       "       [   302.5,    309. ,    302. ,    306.5,  15698. ,      7. ]])"
      ]
     },
     "execution_count": 18,
     "metadata": {},
     "output_type": "execute_result"
    }
   ],
   "source": [
    "max_min_diff = playway_values[:, [1]] - playway_values[:, [2]]\n",
    "playway_values = np.concatenate((playway_values, max_min_diff), axis=1)\n",
    "playway_values"
   ]
  },
  {
   "cell_type": "markdown",
   "metadata": {
    "id": "TXUd_4631-gw"
   },
   "source": [
    "### <a name='8'></a> Ćwiczenie 98\n",
    "Z tablicy _playway_values_ wytnij wiersze, dla których cena zamknięcia wynosi powyżej 300.00 PLN."
   ]
  },
  {
   "cell_type": "code",
   "execution_count": 19,
   "metadata": {
    "colab": {
     "base_uri": "https://localhost:8080/",
     "height": 153
    },
    "id": "rwuMJLk1rS01",
    "outputId": "d6481c2a-b41e-4d08-8ef7-fe602c3f8fd4"
   },
   "outputs": [
    {
     "data": {
      "text/plain": [
       "array([[  305. ,   324.5,   283.5,   310. , 64081. ,    41. ],\n",
       "       [  325.5,   340.5,   320. ,   340.5, 55496. ,    20.5],\n",
       "       [  324. ,   340.5,   315. ,   330. , 36152. ,    25.5],\n",
       "       [  344. ,   344. ,   310. ,   315. , 35992. ,    34. ],\n",
       "       [  306.5,   307. ,   291. ,   305. , 32539. ,    16. ],\n",
       "       [  305. ,   309. ,   296.5,   309. , 31939. ,    12.5],\n",
       "       [  313. ,   330. ,   295. ,   304. , 46724. ,    35. ],\n",
       "       [  302.5,   309. ,   302. ,   306.5, 15698. ,     7. ]])"
      ]
     },
     "execution_count": 19,
     "metadata": {},
     "output_type": "execute_result"
    }
   ],
   "source": [
    "playway_values[playway_values[:, 3] > 300.0]"
   ]
  },
  {
   "cell_type": "markdown",
   "metadata": {
    "id": "tgI6xEn-2AQo"
   },
   "source": [
    "### <a name='9'></a> Ćwiczenie 99\n",
    "Z tablicy _playway_values_ wytnij 10 pierwszych wierszy z najwyższą wartością wolumenu posortowane malejąco."
   ]
  },
  {
   "cell_type": "code",
   "execution_count": 20,
   "metadata": {
    "colab": {
     "base_uri": "https://localhost:8080/",
     "height": 187
    },
    "id": "BNaPPvhssbmW",
    "outputId": "26ab2875-49e2-4dbf-a596-28bf18cbeb6c"
   },
   "outputs": [
    {
     "data": {
      "text/plain": [
       "array([[   210. ,    229. ,    198.8,    211. , 100412. ,     30.2],\n",
       "       [   245. ,    269. ,    232.5,    264. ,  99480. ,     36.5],\n",
       "       [   218. ,    228. ,    196. ,    197. ,  94031. ,     32. ],\n",
       "       [   274. ,    291. ,    250. ,    258. ,  79402. ,     41. ],\n",
       "       [   264. ,    280. ,    251. ,    270. ,  70136. ,     29. ],\n",
       "       [   305. ,    324.5,    283.5,    310. ,  64081. ,     41. ],\n",
       "       [   270. ,    270. ,    238.5,    245. ,  60445. ,     31.5],\n",
       "       [   325.5,    340.5,    320. ,    340.5,  55496. ,     20.5],\n",
       "       [   205. ,    248. ,    197.8,    240.5,  50659. ,     50.2],\n",
       "       [   313. ,    330. ,    295. ,    304. ,  46724. ,     35. ]])"
      ]
     },
     "execution_count": 20,
     "metadata": {},
     "output_type": "execute_result"
    }
   ],
   "source": [
    "playway_values[playway_values[:, 4].argsort()[::-1]][:10]"
   ]
  },
  {
   "cell_type": "markdown",
   "metadata": {
    "id": "wxhpf-uq2B1I"
   },
   "source": [
    "### <a name='10'></a> Ćwiczenie 100\n",
    "Do tablicy _playway_values_ dodaj 7 kolumnę, która będzie zwracać 1 w przypadku, gdy cena zamknięcia jest wyższa niż cena otwarcia oraz 0 przeciwnie.\n",
    "\n",
    "__Oczekiwany wynik:__\n",
    "\n",
    "\n",
    "```\n",
    "array([[   305. ,    324.5,    283.5,    310. ,  64081. ,     41. ,      1. ],\n",
    "       [   325.5,    340.5,    320. ,    340.5,  55496. ,     20.5,      1. ],\n",
    "       [   324. ,    340.5,    315. ,    330. ,  36152. ,     25.5,      1. ],\n",
    "       [   344. ,    344. ,    310. ,    315. ,  35992. ,     34. ,      0. ],\n",
    "       [   306.5,    307. ,    291. ,    305. ,  32539. ,     16. ,      0. ],\n",
    "       [   274. ,    291. ,    250. ,    258. ,  79402. ,     41. ,      0. ],\n",
    "       [   278. ,    284.5,    256. ,    264. ,  35700. ,     28.5,      0. ],\n",
    "       [   270. ,    270. ,    238.5,    245. ,  60445. ,     31.5,      0. ],\n",
    "       [   218. ,    228. ,    196. ,    197. ,  94031. ,     32. ,      0. ],\n",
    "       [   210. ,    229. ,    198.8,    211. , 100412. ,     30.2,      1. ],\n",
    "       [   205. ,    248. ,    197.8,    240.5,  50659. ,     50.2,      1. ],\n",
    "       [   245. ,    269. ,    232.5,    264. ,  99480. ,     36.5,      1. ],\n",
    "       [   264. ,    280. ,    251. ,    270. ,  70136. ,     29. ,      1. ],\n",
    "       [   267. ,    280. ,    267. ,    279.5,  30732. ,     13. ,      1. ],\n",
    "       [   297.5,    307. ,    280. ,    280.5,  43426. ,     27. ,      0. ],\n",
    "       [   274. ,    289. ,    258. ,    285. ,  37098. ,     31. ,      1. ],\n",
    "       [   305. ,    309. ,    296.5,    309. ,  31939. ,     12.5,      1. ],\n",
    "       [   313. ,    330. ,    295. ,    304. ,  46724. ,     35. ,      0. ],\n",
    "       [   300. ,    309. ,    295.5,    300. ,  27213. ,     13.5,      0. ],\n",
    "       [   302. ,    306.5,    290. ,    296. ,  13466. ,     16.5,      0. ],\n",
    "       [   299. ,    300. ,    287. ,    300. ,  10316. ,     13. ,      1. ],\n",
    "       [   302.5,    309. ,    302. ,    306.5,  15698. ,      7. ,      1. ]])\n",
    "```\n",
    "\n"
   ]
  },
  {
   "cell_type": "code",
   "execution_count": 21,
   "metadata": {
    "colab": {
     "base_uri": "https://localhost:8080/",
     "height": 391
    },
    "id": "Bg9OBn0Lt6Mu",
    "outputId": "01fb43bd-34b9-4cba-d99a-a5079f679bcc"
   },
   "outputs": [
    {
     "data": {
      "text/plain": [
       "array([[   305. ,    324.5,    283.5,    310. ,  64081. ,     41. ,      1. ],\n",
       "       [   325.5,    340.5,    320. ,    340.5,  55496. ,     20.5,      1. ],\n",
       "       [   324. ,    340.5,    315. ,    330. ,  36152. ,     25.5,      1. ],\n",
       "       [   344. ,    344. ,    310. ,    315. ,  35992. ,     34. ,      0. ],\n",
       "       [   306.5,    307. ,    291. ,    305. ,  32539. ,     16. ,      0. ],\n",
       "       [   274. ,    291. ,    250. ,    258. ,  79402. ,     41. ,      0. ],\n",
       "       [   278. ,    284.5,    256. ,    264. ,  35700. ,     28.5,      0. ],\n",
       "       [   270. ,    270. ,    238.5,    245. ,  60445. ,     31.5,      0. ],\n",
       "       [   218. ,    228. ,    196. ,    197. ,  94031. ,     32. ,      0. ],\n",
       "       [   210. ,    229. ,    198.8,    211. , 100412. ,     30.2,      1. ],\n",
       "       [   205. ,    248. ,    197.8,    240.5,  50659. ,     50.2,      1. ],\n",
       "       [   245. ,    269. ,    232.5,    264. ,  99480. ,     36.5,      1. ],\n",
       "       [   264. ,    280. ,    251. ,    270. ,  70136. ,     29. ,      1. ],\n",
       "       [   267. ,    280. ,    267. ,    279.5,  30732. ,     13. ,      1. ],\n",
       "       [   297.5,    307. ,    280. ,    280.5,  43426. ,     27. ,      0. ],\n",
       "       [   274. ,    289. ,    258. ,    285. ,  37098. ,     31. ,      1. ],\n",
       "       [   305. ,    309. ,    296.5,    309. ,  31939. ,     12.5,      1. ],\n",
       "       [   313. ,    330. ,    295. ,    304. ,  46724. ,     35. ,      0. ],\n",
       "       [   300. ,    309. ,    295.5,    300. ,  27213. ,     13.5,      0. ],\n",
       "       [   302. ,    306.5,    290. ,    296. ,  13466. ,     16.5,      0. ],\n",
       "       [   299. ,    300. ,    287. ,    300. ,  10316. ,     13. ,      1. ],\n",
       "       [   302.5,    309. ,    302. ,    306.5,  15698. ,      7. ,      1. ]])"
      ]
     },
     "execution_count": 21,
     "metadata": {},
     "output_type": "execute_result"
    }
   ],
   "source": [
    "flag = playway_values[:, [0]] < playway_values[:, [3]]\n",
    "flag = flag.astype(int)\n",
    "playway_values = np.concatenate((playway_values, flag), axis=1)\n",
    "playway_values"
   ]
  }
 ],
 "metadata": {
  "colab": {
   "provenance": []
  },
  "kernelspec": {
   "display_name": "Python 3 (ipykernel)",
   "language": "python",
   "name": "python3"
  },
  "language_info": {
   "codemirror_mode": {
    "name": "ipython",
    "version": 3
   },
   "file_extension": ".py",
   "mimetype": "text/x-python",
   "name": "python",
   "nbconvert_exporter": "python",
   "pygments_lexer": "ipython3",
   "version": "3.9.13"
  }
 },
 "nbformat": 4,
 "nbformat_minor": 1
}
