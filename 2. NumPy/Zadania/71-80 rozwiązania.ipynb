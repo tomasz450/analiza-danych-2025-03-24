{
 "cells": [
  {
   "cell_type": "markdown",
   "metadata": {
    "id": "zeLOLmTj1kBM"
   },
   "source": [
    "### <a name='0'></a>Import biblioteki"
   ]
  },
  {
   "cell_type": "code",
   "execution_count": 1,
   "metadata": {
    "colab": {
     "base_uri": "https://localhost:8080/",
     "height": 34
    },
    "id": "HXMB7SMe1Wnz",
    "outputId": "5734b8ca-f7fb-4c90-ab8d-fa5326a57d1e"
   },
   "outputs": [
    {
     "data": {
      "text/plain": [
       "'1.24.4'"
      ]
     },
     "execution_count": 1,
     "metadata": {},
     "output_type": "execute_result"
    }
   ],
   "source": [
    "import numpy as np\n",
    "\n",
    "np.random.seed(42)\n",
    "np.__version__"
   ]
  },
  {
   "cell_type": "markdown",
   "metadata": {
    "id": "cyc70pMe1oCg"
   },
   "source": [
    "### <a name='1'></a> Ćwiczenie 71\n",
    "Podana jest poniższa tablica $A$:\n",
    "\n",
    "```\n",
    "A = np.array([['id', 'price'],\n",
    "              ['001', 14.99],\n",
    "              ['002', 4.99],\n",
    "              ['003', 7.99],\n",
    "              ['004', 2.49],\n",
    "              ['005', 1.49]])\n",
    "```\n",
    "Od drugiego wiersza tablicy $A$ przestaw losowo wiersze w tablicy.\n",
    "\n",
    "__Wskazówka:__ Użyj funkcji _np.random.shuffle()_.\n"
   ]
  },
  {
   "cell_type": "code",
   "execution_count": 2,
   "metadata": {
    "colab": {
     "base_uri": "https://localhost:8080/",
     "height": 119
    },
    "id": "RFIhGhiJtLW5",
    "outputId": "e20a45c0-fee5-49b1-f5b2-20db55b079a8"
   },
   "outputs": [
    {
     "data": {
      "text/plain": [
       "array([['id', 'price'],\n",
       "       ['002', '4.99'],\n",
       "       ['005', '1.49'],\n",
       "       ['003', '7.99'],\n",
       "       ['001', '14.99'],\n",
       "       ['004', '2.49']], dtype='<U32')"
      ]
     },
     "execution_count": 2,
     "metadata": {},
     "output_type": "execute_result"
    }
   ],
   "source": [
    "A = np.array([['id', 'price'],\n",
    "              ['001', 14.99],\n",
    "              ['002', 4.99],\n",
    "              ['003', 7.99],\n",
    "              ['004', 2.49],\n",
    "              ['005', 1.49]])\n",
    "\n",
    "np.random.shuffle(A[1:])\n",
    "A"
   ]
  },
  {
   "cell_type": "markdown",
   "metadata": {
    "id": "J9pY1rtr1sC0"
   },
   "source": [
    "### <a name='2'></a> Ćwiczenie 72\n",
    "Podana jest poniższa tablica $A$:\n",
    "\n",
    "```\n",
    "A = np.array([0.2, 0.15, 0.1, 0.3, 0.2, 0.05])\n",
    "```\n",
    "Zwróć tablicę indeksów, które posortują tablicę $A$ rosnąco.\n",
    "\n",
    "__Oczekiwny wynik:__\n",
    "\n",
    "\n",
    "```\n",
    "array([5, 2, 1, 0, 4, 3])\n",
    "```\n",
    "__Wskazówka:__ Użyj funkcji _np.argsort()_.\n",
    "\n"
   ]
  },
  {
   "cell_type": "code",
   "execution_count": 3,
   "metadata": {
    "colab": {
     "base_uri": "https://localhost:8080/",
     "height": 34
    },
    "id": "JXEkxNh_wAwB",
    "outputId": "1dcef052-686a-46d7-a5f4-7f5e603eadbb"
   },
   "outputs": [
    {
     "data": {
      "text/plain": [
       "array([5, 2, 1, 0, 4, 3], dtype=int64)"
      ]
     },
     "execution_count": 3,
     "metadata": {},
     "output_type": "execute_result"
    }
   ],
   "source": [
    "A = np.array([0.2, 0.15, 0.1, 0.3, 0.2, 0.05])\n",
    "\n",
    "np.argsort(A)"
   ]
  },
  {
   "cell_type": "markdown",
   "metadata": {
    "id": "XQLYT2m11wVG"
   },
   "source": [
    "### <a name='3'></a> Ćwiczenie 73\n",
    "Podana jest poniższa tablica $A$:\n",
    "\n",
    "```\n",
    "A = np.random.randn(10, 8)\n",
    "```\n",
    "\n",
    "Zaokrąglij wartości tej tablicy do trzeciego miejsca po przecinku.\n",
    "\n",
    "__Wskazówka:__ Użyj funkcji _np.round()_."
   ]
  },
  {
   "cell_type": "code",
   "execution_count": 10,
   "metadata": {
    "colab": {
     "base_uri": "https://localhost:8080/",
     "height": 187
    },
    "id": "oh4E35mU0ikP",
    "outputId": "f0bc8793-1d8e-4472-8f7c-6d7dd95bf6ab"
   },
   "outputs": [
    {
     "data": {
      "text/plain": [
       "array([[ 1.794,  0.581,  0.298, -1.028, -1.419,  0.19 ,  0.136,  0.608],\n",
       "       [ 0.705,  0.361, -1.467,  0.893, -0.105, -0.955, -0.415, -1.399],\n",
       "       [-0.344,  0.751, -0.328, -0.862, -0.258,  0.461, -1.349, -1.019],\n",
       "       [ 0.127, -1.249,  1.945, -0.153, -0.907, -0.817, -0.483, -0.57 ],\n",
       "       [-2.092,  1.264, -0.015, -0.027,  0.818, -1.055, -0.758,  0.457],\n",
       "       [-0.064,  0.345, -0.08 , -0.241,  1.434,  1.066, -2.499,  1.48 ],\n",
       "       [ 2.159,  1.232, -0.214, -0.689,  0.728, -0.619,  0.356, -0.022],\n",
       "       [ 1.218, -0.389, -0.443,  0.378,  1.934,  0.081, -0.416,  0.858],\n",
       "       [ 0.718, -0.951, -0.536,  1.097,  0.428, -2.47 ,  0.482,  0.926],\n",
       "       [-0.838,  0.677,  1.872,  0.396, -0.626, -0.522,  0.013,  0.378]])"
      ]
     },
     "execution_count": 10,
     "metadata": {},
     "output_type": "execute_result"
    }
   ],
   "source": [
    "A = np.random.randn(10, 8)\n",
    "\n",
    "np.round(A, decimals=3)"
   ]
  },
  {
   "cell_type": "markdown",
   "metadata": {
    "id": "4xTKSUzg10MK"
   },
   "source": [
    "### <a name='4'></a> Ćwiczenie 74\n",
    "Wyznacz pierwiastki wielomianu:\n",
    "* $W(x) = 4x^2 + 5x + 1$\n",
    "\n",
    "\n",
    "__Wskazówka:__ Użyj funkcji _np.roots()_ oraz _np.polyval()_."
   ]
  },
  {
   "cell_type": "code",
   "execution_count": 11,
   "metadata": {
    "colab": {
     "base_uri": "https://localhost:8080/",
     "height": 34
    },
    "id": "RjwHkYO86qeM",
    "outputId": "8b8ef350-04dd-429c-d522-f0843ef2098d"
   },
   "outputs": [
    {
     "data": {
      "text/plain": [
       "array([-1.  , -0.25])"
      ]
     },
     "execution_count": 11,
     "metadata": {},
     "output_type": "execute_result"
    }
   ],
   "source": [
    "W = np.array([4, 5, 1])\n",
    "np.roots(W)"
   ]
  },
  {
   "cell_type": "markdown",
   "metadata": {
    "id": "YDKyTjl59GcT"
   },
   "source": [
    "Dokonaj sprawdzenia."
   ]
  },
  {
   "cell_type": "code",
   "execution_count": 12,
   "metadata": {
    "colab": {
     "base_uri": "https://localhost:8080/",
     "height": 51
    },
    "id": "8ryP41w78rvf",
    "outputId": "5ed10dd9-6fca-4e59-ac5c-718b2b830dd1"
   },
   "outputs": [
    {
     "name": "stdout",
     "output_type": "stream",
     "text": [
      "0\n",
      "0.0\n"
     ]
    }
   ],
   "source": [
    "print(np.polyval(W, -1))\n",
    "print(np.polyval(W, -0.25))"
   ]
  },
  {
   "cell_type": "markdown",
   "metadata": {
    "id": "o3HKIKlP15Ro"
   },
   "source": [
    "### <a name='5'></a> Ćwiczenie 75\n",
    "Wyznacz pierwiastki wielomianów:\n",
    "* $Q(x) = 2x^3 + 4x^2 -5x + 1$\n",
    "* $R(x) = 2x^3 -5x + 1$\n",
    "\n",
    "__Wskazówka:__ Użyj funkcji _np.roots()_."
   ]
  },
  {
   "cell_type": "code",
   "execution_count": 13,
   "metadata": {
    "colab": {
     "base_uri": "https://localhost:8080/",
     "height": 34
    },
    "id": "Kxjx96O57wTY",
    "outputId": "13711149-2182-4431-e8a0-57685a936507"
   },
   "outputs": [
    {
     "data": {
      "text/plain": [
       "array([-2.91610583,  0.65388685,  0.26221898])"
      ]
     },
     "execution_count": 13,
     "metadata": {},
     "output_type": "execute_result"
    }
   ],
   "source": [
    "Q = np.array([2, 4, -5, 1])\n",
    "np.roots(Q)"
   ]
  },
  {
   "cell_type": "code",
   "execution_count": 14,
   "metadata": {
    "colab": {
     "base_uri": "https://localhost:8080/",
     "height": 34
    },
    "id": "sYhhHGSg9T82",
    "outputId": "78549a33-1bb9-49ce-f075-aa0e27501259"
   },
   "outputs": [
    {
     "data": {
      "text/plain": [
       "array([-1.67298165,  1.46961743,  0.20336421])"
      ]
     },
     "execution_count": 14,
     "metadata": {},
     "output_type": "execute_result"
    }
   ],
   "source": [
    "R = np.array([2, 0, -5, 1])\n",
    "np.roots(R)"
   ]
  },
  {
   "cell_type": "markdown",
   "metadata": {
    "id": "PunXd_Ey16so"
   },
   "source": [
    "### <a name='6'></a> Ćwiczenie 76\n",
    "Podane są wielomiany:\n",
    "\n",
    "* $W(x) = 4x^2 + 5x + 1$\n",
    "* $Q(x) = 2x^3 + 4x^2 -5x + 1$\n"
   ]
  },
  {
   "cell_type": "code",
   "execution_count": 15,
   "metadata": {
    "id": "D-XbUU9Nln5y"
   },
   "outputs": [],
   "source": [
    "W = np.array([4, 5, 1])\n",
    "Q = np.array([2, 4, -5, 1])"
   ]
  },
  {
   "cell_type": "markdown",
   "metadata": {
    "id": "vYiT4ikklqaQ"
   },
   "source": [
    "Wykonaj działania:\n",
    "* $W(x) + Q(x)$"
   ]
  },
  {
   "cell_type": "code",
   "execution_count": 19,
   "metadata": {
    "colab": {
     "base_uri": "https://localhost:8080/",
     "height": 34
    },
    "id": "9JKvun7C9raH",
    "outputId": "a61ce355-96eb-474e-f14d-2f2afa021a3c"
   },
   "outputs": [
    {
     "data": {
      "text/plain": [
       "array([2, 8, 0, 2])"
      ]
     },
     "execution_count": 19,
     "metadata": {},
     "output_type": "execute_result"
    }
   ],
   "source": [
    "np.polyadd(W, Q)"
   ]
  },
  {
   "cell_type": "markdown",
   "metadata": {
    "id": "f6qXMj30lhrn"
   },
   "source": [
    "* $W(x) - Q(x)$\n"
   ]
  },
  {
   "cell_type": "code",
   "execution_count": 20,
   "metadata": {
    "colab": {
     "base_uri": "https://localhost:8080/",
     "height": 34
    },
    "id": "HFlLC37f94Lr",
    "outputId": "bbda2d6b-f923-4095-a9e0-6b19c20cda16"
   },
   "outputs": [
    {
     "data": {
      "text/plain": [
       "array([-2,  0, 10,  0])"
      ]
     },
     "execution_count": 20,
     "metadata": {},
     "output_type": "execute_result"
    }
   ],
   "source": [
    "np.polysub(W, Q)"
   ]
  },
  {
   "cell_type": "markdown",
   "metadata": {
    "id": "o8xnmuwfljHU"
   },
   "source": [
    "* $W(x) * Q(x)$\n"
   ]
  },
  {
   "cell_type": "code",
   "execution_count": 21,
   "metadata": {
    "colab": {
     "base_uri": "https://localhost:8080/",
     "height": 34
    },
    "id": "Z4B28oMe-p8J",
    "outputId": "4859cabe-dde8-4ca5-f50d-b59e9a7538ea"
   },
   "outputs": [
    {
     "data": {
      "text/plain": [
       "array([  8,  26,   2, -17,   0,   1])"
      ]
     },
     "execution_count": 21,
     "metadata": {},
     "output_type": "execute_result"
    }
   ],
   "source": [
    "np.polymul(W, Q)"
   ]
  },
  {
   "cell_type": "markdown",
   "metadata": {
    "id": "BIHBf0PllkXe"
   },
   "source": [
    "* $W(x) + 2Q(x)$"
   ]
  },
  {
   "cell_type": "code",
   "execution_count": 22,
   "metadata": {
    "colab": {
     "base_uri": "https://localhost:8080/",
     "height": 34
    },
    "id": "UbaoDx6E-90V",
    "outputId": "eea0a6c7-ac59-46ff-f62f-e9f6b37c73a9"
   },
   "outputs": [
    {
     "data": {
      "text/plain": [
       "array([ 4, 12, -5,  3])"
      ]
     },
     "execution_count": 22,
     "metadata": {},
     "output_type": "execute_result"
    }
   ],
   "source": [
    "np.polyadd(W, 2 * Q)"
   ]
  },
  {
   "cell_type": "markdown",
   "metadata": {
    "id": "hOhqDRz618Tx"
   },
   "source": [
    "### <a name='7'></a> Ćwiczenie 77\n",
    "Podana jest poniższa tablica:\n",
    "\n",
    "```\n",
    "A = np.array([[-4, 3, 0, 1, -5],\n",
    "              [6, -4, -2, 1, 3]])\n",
    "```\n",
    "\n",
    "Użyj funkcji znaku (_sign function_) dla tablicy $A$. Dla przypomnienia funkcja działa nastpująco: dla wartości ujemnych zwraca -1, dla zera wartość zero, dla wartości dodatnich 1.\n",
    "\n",
    "__Oczekiwany wynik:__\n",
    "\n",
    "\n",
    "```\n",
    "array([[-1,  1,  0,  1, -1],\n",
    "       [ 1, -1, -1,  1,  1]])\n",
    "```\n",
    "__Wskazówka:__ Użyj funkcji _np.sign()_.\n"
   ]
  },
  {
   "cell_type": "code",
   "execution_count": 23,
   "metadata": {
    "colab": {
     "base_uri": "https://localhost:8080/",
     "height": 51
    },
    "id": "bo-L_-_1AF0o",
    "outputId": "62789fd5-2480-4db5-c328-85c3bab7d355"
   },
   "outputs": [
    {
     "data": {
      "text/plain": [
       "array([[-1,  1,  0,  1, -1],\n",
       "       [ 1, -1, -1,  1,  1]])"
      ]
     },
     "execution_count": 23,
     "metadata": {},
     "output_type": "execute_result"
    }
   ],
   "source": [
    "A = np.array([[-4, 3, 0, 1, -5],\n",
    "              [6, -4, -2, 1, 3]])\n",
    "\n",
    "np.sign(A)"
   ]
  },
  {
   "cell_type": "markdown",
   "metadata": {
    "id": "TXUd_4631-gw"
   },
   "source": [
    "### <a name='8'></a> Ćwiczenie 78\n",
    "Wykorzystując funkcję _np.arange()_ wygeneruj poniższą tablicę:\n",
    "\n",
    "\n",
    "```\n",
    "array(['2024-06-10', '2024-06-11', '2024-06-12', '2024-06-13',\n",
    "       '2024-06-14', '2024-06-15', '2024-06-16', '2024-06-17',\n",
    "       '2024-06-18', '2024-06-19', '2024-06-20', '2024-06-21',\n",
    "       '2024-06-22', '2024-06-23', '2024-06-24', '2024-06-25',\n",
    "       '2024-06-26', '2024-06-27', '2024-06-28', '2024-06-29',\n",
    "       '2024-06-30', '2024-07-01', '2024-07-02', '2024-07-03',\n",
    "       '2024-07-04', '2024-07-05', '2024-07-06', '2024-07-07',\n",
    "       '2024-07-08', '2024-07-09'], dtype='datetime64[D]')\n",
    "```\n",
    "\n"
   ]
  },
  {
   "cell_type": "code",
   "execution_count": 26,
   "metadata": {
    "colab": {
     "base_uri": "https://localhost:8080/",
     "height": 153
    },
    "id": "oAdYOzbJDFmv",
    "outputId": "619b0f29-aa2b-4a19-d5fd-7f9be6482416"
   },
   "outputs": [
    {
     "data": {
      "text/plain": [
       "array(['2024-06-10', '2024-06-11', '2024-06-12', '2024-06-13',\n",
       "       '2024-06-14', '2024-06-15', '2024-06-16', '2024-06-17',\n",
       "       '2024-06-18', '2024-06-19', '2024-06-20', '2024-06-21',\n",
       "       '2024-06-22', '2024-06-23', '2024-06-24', '2024-06-25',\n",
       "       '2024-06-26', '2024-06-27', '2024-06-28', '2024-06-29',\n",
       "       '2024-06-30', '2024-07-01', '2024-07-02', '2024-07-03',\n",
       "       '2024-07-04', '2024-07-05', '2024-07-06', '2024-07-07',\n",
       "       '2024-07-08', '2024-07-09'], dtype='datetime64[D]')"
      ]
     },
     "execution_count": 26,
     "metadata": {},
     "output_type": "execute_result"
    }
   ],
   "source": [
    "np.arange('2024-06-10', '2024-07-10', dtype='datetime64[D]')"
   ]
  },
  {
   "cell_type": "markdown",
   "metadata": {
    "id": "tgI6xEn-2AQo"
   },
   "source": [
    "\n",
    "### <a name='9'></a> Ćwiczenie 79\n",
    "\n",
    "Wykorzystując funkcję _np.arange()_ wygeneruj poniższą tablicę:\n",
    "\n",
    "\n",
    "\n",
    "```\n",
    "array([['2024-01', '2024-02', '2024-03'],\n",
    "       ['2024-04', '2024-05', '2024-06'],\n",
    "       ['2024-07', '2024-08', '2024-09'],\n",
    "       ['2024-10', '2024-11', '2024-12']], dtype='datetime64[M]')\n",
    "```\n",
    "\n"
   ]
  },
  {
   "cell_type": "code",
   "execution_count": 29,
   "metadata": {
    "colab": {
     "base_uri": "https://localhost:8080/",
     "height": 85
    },
    "id": "oJRlRIThDehG",
    "outputId": "15e530c2-d71d-4ac3-9fea-d8ed1448643d"
   },
   "outputs": [
    {
     "data": {
      "text/plain": [
       "array([['2024-01', '2024-02', '2024-03'],\n",
       "       ['2024-04', '2024-05', '2024-06'],\n",
       "       ['2024-07', '2024-08', '2024-09'],\n",
       "       ['2024-10', '2024-11', '2024-12']], dtype='datetime64[M]')"
      ]
     },
     "execution_count": 29,
     "metadata": {},
     "output_type": "execute_result"
    }
   ],
   "source": [
    "A = np.arange('2024-01', '2025-01', dtype='datetime64[M]')\n",
    "A = A.reshape(-1, 3)\n",
    "A"
   ]
  },
  {
   "cell_type": "markdown",
   "metadata": {
    "id": "wxhpf-uq2B1I"
   },
   "source": [
    "### <a name='10'></a> Ćwiczenie 80\n",
    "\n",
    "Wykorzystując funkcję _np.datetime64()_ wygeneruj dzisiejszą datę (datę w chwili robienia ćwiczenia)."
   ]
  },
  {
   "cell_type": "code",
   "execution_count": 30,
   "metadata": {
    "colab": {
     "base_uri": "https://localhost:8080/",
     "height": 34
    },
    "id": "YFc0KW6URsuc",
    "outputId": "e905cab4-3804-4447-ea3b-3917faa92e5f"
   },
   "outputs": [
    {
     "data": {
      "text/plain": [
       "numpy.datetime64('2024-06-01')"
      ]
     },
     "execution_count": 30,
     "metadata": {},
     "output_type": "execute_result"
    }
   ],
   "source": [
    "np.datetime64('today')"
   ]
  }
 ],
 "metadata": {
  "colab": {
   "provenance": []
  },
  "kernelspec": {
   "display_name": "Python 3 (ipykernel)",
   "language": "python",
   "name": "python3"
  },
  "language_info": {
   "codemirror_mode": {
    "name": "ipython",
    "version": 3
   },
   "file_extension": ".py",
   "mimetype": "text/x-python",
   "name": "python",
   "nbconvert_exporter": "python",
   "pygments_lexer": "ipython3",
   "version": "3.9.20"
  }
 },
 "nbformat": 4,
 "nbformat_minor": 4
}
