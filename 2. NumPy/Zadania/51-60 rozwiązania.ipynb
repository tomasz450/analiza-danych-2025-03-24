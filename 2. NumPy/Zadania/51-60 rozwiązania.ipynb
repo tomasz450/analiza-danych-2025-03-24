{
 "cells": [
  {
   "cell_type": "markdown",
   "metadata": {
    "id": "zeLOLmTj1kBM"
   },
   "source": [
    "### <a name='0'></a>Import biblioteki"
   ]
  },
  {
   "cell_type": "code",
   "execution_count": 1,
   "metadata": {
    "colab": {
     "base_uri": "https://localhost:8080/",
     "height": 34
    },
    "id": "HXMB7SMe1Wnz",
    "outputId": "262f7b6f-11a4-4827-c203-4cf4b1b18574"
   },
   "outputs": [
    {
     "data": {
      "text/plain": [
       "'1.24.4'"
      ]
     },
     "execution_count": 1,
     "metadata": {},
     "output_type": "execute_result"
    }
   ],
   "source": [
    "import numpy as np\n",
    "\n",
    "np.random.seed(42)\n",
    "np.__version__"
   ]
  },
  {
   "cell_type": "markdown",
   "metadata": {
    "id": "cyc70pMe1oCg"
   },
   "source": [
    "### <a name='1'></a> Ćwiczenie 51\n",
    "Podane są poniżej dwie tablice $A$ i $B$:\n",
    "\n",
    "\n",
    "```\n",
    "A = np.array([[3, 4, 5],\n",
    "              [8, 3, 1]])\n",
    "B = np.array([[0, 5, 2],\n",
    "              [4, 2, 1]])\n",
    "```\n",
    "* Połącz te tablice w następujący sposób:\n",
    "\n",
    "\n",
    "```\n",
    "array([[3, 4, 5],\n",
    "       [8, 3, 1],\n",
    "       [0, 5, 2],\n",
    "       [4, 2, 1]])\n",
    "```\n",
    "__Wskazówka:__ Wykorzystaj funkcję _np.concatenate()_.\n",
    "\n",
    "\n",
    "\n"
   ]
  },
  {
   "cell_type": "code",
   "execution_count": 2,
   "metadata": {
    "colab": {
     "base_uri": "https://localhost:8080/",
     "height": 85
    },
    "id": "G06kZluT8eIh",
    "outputId": "f2d82787-e248-43b9-f849-a292924f135e"
   },
   "outputs": [
    {
     "data": {
      "text/plain": [
       "array([[3, 4, 5],\n",
       "       [8, 3, 1],\n",
       "       [0, 5, 2],\n",
       "       [4, 2, 1]])"
      ]
     },
     "execution_count": 2,
     "metadata": {},
     "output_type": "execute_result"
    }
   ],
   "source": [
    "A = np.array([[3, 4, 5],\n",
    "              [8, 3, 1]])\n",
    "B = np.array([[0, 5, 2],\n",
    "              [4, 2, 1]])\n",
    "\n",
    "np.concatenate((A, B), axis=0)"
   ]
  },
  {
   "cell_type": "markdown",
   "metadata": {
    "id": "ODw_gitA98Ul"
   },
   "source": [
    "* Połącz te tablice w następujący sposób:\n",
    "\n",
    "\n",
    "```\n",
    "array([[3, 4, 5, 0, 5, 2],\n",
    "       [8, 3, 1, 4, 2, 1]])\n",
    "```\n",
    "__Wskazówka:__ Wykorzystaj funkcję _np.concatenate()_."
   ]
  },
  {
   "cell_type": "code",
   "execution_count": 3,
   "metadata": {
    "colab": {
     "base_uri": "https://localhost:8080/",
     "height": 51
    },
    "id": "1pmGjLj88tcf",
    "outputId": "1851e206-8902-4963-aaf4-4fae103c5941"
   },
   "outputs": [
    {
     "data": {
      "text/plain": [
       "array([[3, 4, 5, 0, 5, 2],\n",
       "       [8, 3, 1, 4, 2, 1]])"
      ]
     },
     "execution_count": 3,
     "metadata": {},
     "output_type": "execute_result"
    }
   ],
   "source": [
    "np.concatenate((A, B), axis=1)"
   ]
  },
  {
   "cell_type": "markdown",
   "metadata": {
    "id": "J9pY1rtr1sC0"
   },
   "source": [
    "### <a name='2'></a> Ćwiczenie 52\n",
    "Podana jest tablica zawierająca dane _data_ oraz tablica zawierająca docelową klasę dla danego wiersza _target_:\n",
    "\n",
    "```\n",
    "data = np.array([[4.3, 4.2],\n",
    "                 [3.1, 3.6]])\n",
    "target = np.array([[0],\n",
    "                   [1]])\n",
    "```\n",
    "\n"
   ]
  },
  {
   "cell_type": "markdown",
   "metadata": {
    "id": "8cAKF7ok-RjX"
   },
   "source": [
    "Połącz te tablice w jedną tak jak pokazano poniżej:\n",
    "\n",
    "\n",
    "```\n",
    "array([[4.3, 4.2, 0. ],\n",
    "       [3.1, 3.6, 1. ]])\n",
    "```\n",
    "\n"
   ]
  },
  {
   "cell_type": "code",
   "execution_count": 4,
   "metadata": {
    "colab": {
     "base_uri": "https://localhost:8080/",
     "height": 51
    },
    "id": "4lc68Wfr8z3u",
    "outputId": "9163d831-bde2-47b7-ba28-c9697d9fa01e"
   },
   "outputs": [
    {
     "data": {
      "text/plain": [
       "array([[4.3, 4.2, 0. ],\n",
       "       [3.1, 3.6, 1. ]])"
      ]
     },
     "execution_count": 4,
     "metadata": {},
     "output_type": "execute_result"
    }
   ],
   "source": [
    "data = np.array([[4.3, 4.2],\n",
    "                 [3.1, 3.6]])\n",
    "target = np.array([[0],\n",
    "                   [1]])\n",
    "\n",
    "np.concatenate((data, target), axis=1)"
   ]
  },
  {
   "cell_type": "markdown",
   "metadata": {
    "id": "XQLYT2m11wVG"
   },
   "source": [
    "### <a name='3'></a> Ćwiczenie 53\n",
    "Podane są trzy poniższe jednowymiarowe tablice:  \n",
    "\n",
    "\n",
    "```\n",
    "feature1 = np.array([1.6, 0.9, 2.2])\n",
    "feature2 = np.array([0.4, 1.3, 3.2])\n",
    "feature3 = np.array([1.4, 0.3, 1.2])\n",
    "```\n",
    "Przekształć każdą z tych tablic w kolumnę i sklej w jedną dużą tablicę.\n",
    "\n",
    "__Oczekiwany wynik:__\n",
    "\n",
    "\n",
    "```\n",
    "array([[1.6, 0.4, 1.4],\n",
    "       [0.9, 1.3, 0.3],\n",
    "       [2.2, 3.2, 1.2]])\n",
    "```\n",
    "\n",
    "__Wskazówka:__ Wykorzystaj funkcję _np.column_stack()_.\n",
    "\n"
   ]
  },
  {
   "cell_type": "code",
   "execution_count": 5,
   "metadata": {
    "colab": {
     "base_uri": "https://localhost:8080/",
     "height": 68
    },
    "id": "xfPf_vq7-jBP",
    "outputId": "87b18c54-c8c4-4e53-e0f3-3db3a0417f74"
   },
   "outputs": [
    {
     "data": {
      "text/plain": [
       "array([[1.6, 0.4, 1.4],\n",
       "       [0.9, 1.3, 0.3],\n",
       "       [2.2, 3.2, 1.2]])"
      ]
     },
     "execution_count": 5,
     "metadata": {},
     "output_type": "execute_result"
    }
   ],
   "source": [
    "feature1 = np.array([1.6, 0.9, 2.2])\n",
    "feature2 = np.array([0.4, 1.3, 3.2])\n",
    "feature3 = np.array([1.4, 0.3, 1.2])\n",
    "\n",
    "np.column_stack((feature1, feature2, feature3))"
   ]
  },
  {
   "cell_type": "markdown",
   "metadata": {
    "id": "4xTKSUzg10MK"
   },
   "source": [
    "### <a name='4'></a> Ćwiczenie 54\n",
    "Podana jest poniższa dwuwymiarowa tablica:\n",
    "\n",
    "```\n",
    "A = np.random.randint(low=0, high=7, size=(5, 8))\n",
    "A[:, :2] = 0\n",
    "A[:, -2:] = 1\n",
    "A\n",
    "```\n",
    "```\n",
    "array([[0, 0, 4, 6, 2, 4, 1, 1],\n",
    "       [0, 0, 6, 2, 2, 4, 1, 1],\n",
    "       [0, 0, 1, 3, 5, 5, 1, 1],\n",
    "       [0, 0, 3, 1, 5, 4, 1, 1],\n",
    "       [0, 0, 2, 6, 1, 3, 1, 1]])\n",
    "```\n",
    "\n",
    "Podziel tablicę na 3 części tak aby pierwsze dwie kolumny stanowiły pierwszą tablicę $A1$, cztery kolejne drugą tablicę $A2$ oraz dwie ostatnie trzecią tablicę $A3$.\n",
    "\n",
    "__Wskazówka:__ Wykorzystaj funkcję _np.split()_."
   ]
  },
  {
   "cell_type": "code",
   "execution_count": 6,
   "metadata": {
    "colab": {
     "base_uri": "https://localhost:8080/",
     "height": 272
    },
    "id": "U5MFrLUHBsEf",
    "outputId": "f41c83e2-1171-4dfe-c8da-a591eea9705d"
   },
   "outputs": [
    {
     "name": "stdout",
     "output_type": "stream",
     "text": [
      "[[0 0]\n",
      " [0 0]\n",
      " [0 0]\n",
      " [0 0]\n",
      " [0 0]]\n",
      "[[4 6 2 4]\n",
      " [6 2 2 4]\n",
      " [1 3 5 5]\n",
      " [3 1 5 4]\n",
      " [2 6 1 3]]\n",
      "[[1 1]\n",
      " [1 1]\n",
      " [1 1]\n",
      " [1 1]\n",
      " [1 1]]\n"
     ]
    }
   ],
   "source": [
    "A = np.random.randint(low=0, high=7, size=(5, 8))\n",
    "A[:, :2] = 0\n",
    "A[:, -2:] = 1\n",
    "A"
   ]
  },
  {
   "cell_type": "code",
   "execution_count": null,
   "metadata": {},
   "outputs": [],
   "source": [
    "A1, A2, A3 = np.split(A, [2, 6], axis=1)\n",
    "print(A1)\n",
    "print(A2)\n",
    "print(A3)"
   ]
  },
  {
   "cell_type": "markdown",
   "metadata": {
    "id": "o3HKIKlP15Ro"
   },
   "source": [
    "### <a name='5'></a> Ćwiczenie 55\n",
    "Podana jest poniższa tablica $A$:\n",
    "\n",
    "```\n",
    "A = np.random.randint(low=0, high=2, size=(10, 6))\n",
    "```\n",
    "Wyznacz łączną liczbę elementów niezerowych dla tej tablicy.\n",
    "\n",
    "__Wskazówka:__ Wykorzystaj funkcję _np.count_nonzero()_.\n"
   ]
  },
  {
   "cell_type": "code",
   "execution_count": 7,
   "metadata": {
    "colab": {
     "base_uri": "https://localhost:8080/",
     "height": 34
    },
    "id": "j5E2nOFyDy1b",
    "outputId": "6c096d15-d9f8-4829-b6ca-430963c5708d"
   },
   "outputs": [
    {
     "data": {
      "text/plain": [
       "38"
      ]
     },
     "execution_count": 7,
     "metadata": {},
     "output_type": "execute_result"
    }
   ],
   "source": [
    "A = np.random.randint(low=0, high=2, size=(10, 6))\n",
    "\n",
    "np.count_nonzero(A)"
   ]
  },
  {
   "cell_type": "markdown",
   "metadata": {
    "id": "wJde65uYhJ2f"
   },
   "source": [
    "Wyznacz łączną liczbę elementów niezerowych dla każdego wiersza tej tablicy.\n",
    "\n",
    "__Wskazówka:__ Wykorzystaj funkcję _np.count_nonzero()_."
   ]
  },
  {
   "cell_type": "code",
   "execution_count": 8,
   "metadata": {
    "colab": {
     "base_uri": "https://localhost:8080/",
     "height": 34
    },
    "id": "BWG-icQuEEPS",
    "outputId": "6d585f1b-47cc-44a6-dcd4-aa5ef51a53fb"
   },
   "outputs": [
    {
     "data": {
      "text/plain": [
       "array([4, 2, 1, 5, 4, 3, 3, 6, 4, 6], dtype=int64)"
      ]
     },
     "execution_count": 8,
     "metadata": {},
     "output_type": "execute_result"
    }
   ],
   "source": [
    "np.count_nonzero(A, axis=1)"
   ]
  },
  {
   "cell_type": "markdown",
   "metadata": {
    "id": "PunXd_Ey16so"
   },
   "source": [
    "### <a name='6'></a> Ćwiczenie 56\n",
    "Poniżej podana jest przykładowa tablica $A$:\n",
    "\n",
    "```\n",
    "A = np.random.randn(10, 4)\n",
    "```\n",
    "\n",
    "```\n",
    "array([[-0.53441645, -1.49505387, -0.78925833,  0.74371128],\n",
    "       [-0.21216142, -0.42686879,  0.50144833,  1.15818665],\n",
    "       [ 0.25711687,  0.3145129 ,  1.37186213,  0.17555329],\n",
    "       [-0.30928855,  0.6731255 , -0.25663018, -0.36782572],\n",
    "       [ 1.27373362, -0.29195267, -2.65517605,  0.34551794],\n",
    "       [-0.39551645, -0.28913686,  0.45293633, -0.16606091],\n",
    "       [ 0.21493883, -2.02231493, -0.94305681,  1.40395874],\n",
    "       [-0.0185508 , -1.67350462, -1.07253183, -0.99258618],\n",
    "       [ 0.10234768, -0.43260928, -0.6591823 ,  0.0039373 ],\n",
    "       [ 0.4777541 , -0.25902864, -0.57470921, -0.42149822]])\n",
    "```\n",
    "\n",
    "\n",
    "Ustaw odopowiednią opcję biblioteki numpy pozwalającą drukować tablice z określoną precyzją. Ustaw jej wartość na 4 i wydrukuj tablicę $A$.\n",
    "\n"
   ]
  },
  {
   "cell_type": "code",
   "execution_count": 9,
   "metadata": {
    "colab": {
     "base_uri": "https://localhost:8080/",
     "height": 187
    },
    "id": "aL6C9MYSYkaL",
    "outputId": "6bd556d4-b590-46f2-eb78-9ab213265cbc"
   },
   "outputs": [
    {
     "data": {
      "text/plain": [
       "array([[ 0.7385,  0.1714, -0.1156, -0.3011],\n",
       "       [-1.4785, -0.7198, -0.4606,  1.0571],\n",
       "       [ 0.3436, -1.763 ,  0.3241, -0.3851],\n",
       "       [-0.6769,  0.6117,  1.031 ,  0.9313],\n",
       "       [-0.8392, -0.3092,  0.3313,  0.9755],\n",
       "       [-0.4792, -0.1857, -1.1063, -1.1962],\n",
       "       [ 0.8125,  1.3562, -0.072 ,  1.0035],\n",
       "       [ 0.3616, -0.6451,  0.3614,  1.538 ],\n",
       "       [-0.0358,  1.5646, -2.6197,  0.8219],\n",
       "       [ 0.087 , -0.299 ,  0.0918, -1.9876]])"
      ]
     },
     "execution_count": 9,
     "metadata": {},
     "output_type": "execute_result"
    }
   ],
   "source": [
    "A = np.random.randn(10, 4)\n",
    "\n",
    "np.set_printoptions(precision=4)\n",
    "A"
   ]
  },
  {
   "cell_type": "markdown",
   "metadata": {
    "id": "hOhqDRz618Tx"
   },
   "source": [
    "### <a name='7'></a> Ćwiczenie 57\n",
    "Podana jest poniższa tablica numpy $A$:\n",
    "\n",
    "```\n",
    "A = np.array([1.2e-6, 1.7e-7])\n",
    "```\n",
    "\n",
    "Ustaw wartość precyzji na 8. Następnie ustaw odopowiednią opcję biblioteki numpy pozwalającą stłumić notację wykładniczą. Wydrukuj tablicę $A$.\n",
    "\n",
    "__Oczekiwany wynik:__\n",
    "\n",
    "\n",
    "```\n",
    "array([0.0000012 , 0.00000017])\n",
    "```\n",
    "\n",
    "\n",
    "\n"
   ]
  },
  {
   "cell_type": "code",
   "execution_count": 10,
   "metadata": {
    "colab": {
     "base_uri": "https://localhost:8080/",
     "height": 34
    },
    "id": "BUr3XXiWdUWi",
    "outputId": "ca7b0eaa-295f-4c6d-c302-c311cabbb29a"
   },
   "outputs": [
    {
     "data": {
      "text/plain": [
       "array([0.0000012 , 0.00000017])"
      ]
     },
     "execution_count": 10,
     "metadata": {},
     "output_type": "execute_result"
    }
   ],
   "source": [
    "A = np.array([1.2e-6, 1.7e-7])\n",
    "\n",
    "np.set_printoptions(suppress=True, precision=8)\n",
    "A"
   ]
  },
  {
   "cell_type": "markdown",
   "metadata": {
    "id": "TXUd_4631-gw"
   },
   "source": [
    "### <a name='8'></a> Ćwiczenie 58\n",
    "Podana jest poniższa tablica numpy $A$:\n",
    "\n",
    "```\n",
    "A = np.random.randn(8, 4)\n",
    "```\n",
    "Usuń trzecią kolumnę z tablicy $A$.\n",
    "\n",
    "__Oczekiwany wynik:__\n",
    "\n",
    "\n",
    "```\n",
    "array([[-0.55692881, -0.66003196,  0.70856031],\n",
    "       [ 0.22378737, -0.19796576, -0.16889332],\n",
    "       [ 0.26062786,  0.29865445, -0.92259267],\n",
    "       [-2.40317659,  1.79961876, -1.96495796],\n",
    "       [ 0.13051561, -1.7085185 ,  0.54885043],\n",
    "       [ 1.77268727,  0.38751181, -0.05141955],\n",
    "       [-1.80858596, -0.45075211,  0.15332866],\n",
    "       [ 1.94218961, -1.93679529, -1.83350954]])\n",
    "```\n",
    "__Wskazówka:__ Wykorzystaj funkcję _np.delete()_.\n",
    "\n",
    "\n"
   ]
  },
  {
   "cell_type": "code",
   "execution_count": 11,
   "metadata": {
    "colab": {
     "base_uri": "https://localhost:8080/",
     "height": 153
    },
    "id": "o5PxnILogU6z",
    "outputId": "c7111e47-c244-4db0-b1f0-9d9dfcbb9d12"
   },
   "outputs": [
    {
     "data": {
      "text/plain": [
       "array([[-0.21967189,  0.35711257, -0.51827022],\n",
       "       [-0.8084936 , -0.50175704,  0.32875111],\n",
       "       [-0.5297602 ,  0.51326743,  0.96864499],\n",
       "       [-0.70205309, -0.32766215, -1.46351495],\n",
       "       [ 0.29612028,  0.26105527, -0.23458713],\n",
       "       [-1.41537074, -0.42064532, -0.80227727],\n",
       "       [-0.16128571,  0.40405086,  0.17457781],\n",
       "       [ 0.25755039, -0.07444592, -0.02651388]])"
      ]
     },
     "execution_count": 11,
     "metadata": {},
     "output_type": "execute_result"
    }
   ],
   "source": [
    "A = np.random.randn(8, 4)\n",
    "\n",
    "np.delete(A, [2], axis=1)"
   ]
  },
  {
   "cell_type": "markdown",
   "metadata": {
    "id": "tgI6xEn-2AQo"
   },
   "source": [
    "### <a name='9'></a> Ćwiczenie 59\n",
    "Podana jest tablica jednowymiarowa $v$ (wektor):\n",
    "\n",
    "```\n",
    "v = np.array([3, 4, -2])\n",
    "```\n",
    "Policz normę wektora $v$.\n"
   ]
  },
  {
   "cell_type": "code",
   "execution_count": 12,
   "metadata": {
    "colab": {
     "base_uri": "https://localhost:8080/",
     "height": 34
    },
    "id": "TYPzAZCwi-Ky",
    "outputId": "7be66458-e867-4655-b8da-d6fd011f5909"
   },
   "outputs": [
    {
     "data": {
      "text/plain": [
       "5.385164807134504"
      ]
     },
     "execution_count": 12,
     "metadata": {},
     "output_type": "execute_result"
    }
   ],
   "source": [
    "v = np.array([3, 4, -2])\n",
    "\n",
    "np.linalg.norm(v)"
   ]
  },
  {
   "cell_type": "markdown",
   "metadata": {},
   "source": [
    "### Norma Wektora\n",
    "\n",
    "Norma wektora jest miarą jego długości lub wielkości. W kontekście przestrzeni wektorowych, norma wektora przypisuje każdemu wektorowi nieujemną liczbę rzeczywistą, która intuicyjnie reprezentuje jego długość. Istnieje wiele różnych norm wektorów, a każda z nich może być używana w różnych sytuacjach i dla różnych celów.\n",
    "\n",
    "#### Właściwości normy wektora\n",
    "\n",
    "Norma wektora \\( \\|\\mathbf{v}\\| \\) spełnia następujące właściwości:\n",
    "\n",
    "1. **Nieujemność**: \\( \\|\\mathbf{v}\\| \\geq 0 \\) i \\( \\|\\mathbf{v}\\| = 0 \\) wtedy i tylko wtedy, gdy \\( \\mathbf{v} \\) jest wektorem zerowym.\n",
    "2. **Jednorodność (homogeniczność) względem skalara**: Dla każdego skalara \\( \\alpha \\) i wektora \\( \\mathbf{v} \\), \\( \\|\\alpha \\mathbf{v}\\| = |\\alpha| \\|\\mathbf{v}\\| \\).\n",
    "3. **Nierówność trójkąta**: Dla dowolnych wektorów \\( \\mathbf{u} \\) i \\( \\mathbf{v} \\), \\( \\|\\mathbf{u} + \\mathbf{v}\\| \\leq \\|\\mathbf{u}\\| + \\|\\mathbf{v}\\| \\).\n",
    "\n",
    "#### Typy norm\n",
    "\n",
    "Najbardziej popularne normy wektorów to:\n",
    "\n",
    "1. **Norma euklidesowa (L2-norma)**:\n",
    "   Norma euklidesowa, oznaczana jako \\( \\|\\mathbf{v}\\|_2 \\), jest standardową miarą długości wektora w przestrzeni euklidesowej.\n",
    "   \n",
    "   \\[\n",
    "   \\|\\mathbf{v}\\|_2 = \\sqrt{\\sum_{i=1}^n v_i^2}\n",
    "   \\]\n",
    "   \n",
    "   Gdzie \\( v_i \\) są składowymi wektora \\( \\mathbf{v} \\).\n",
    "\n",
    "2. **Norma taksówkowa (L1-norma)**:\n",
    "   Norma taksówkowa, oznaczana jako \\( \\|\\mathbf{v}\\|_1 \\), jest sumą wartości bezwzględnych składowych wektora.\n",
    "   \n",
    "   \\[\n",
    "   \\|\\mathbf{v}\\|_1 = \\sum_{i=1}^n |v_i|\n",
    "   \\]\n",
    "\n",
    "3. **Maksymalna norma (L∞-norma)**:\n",
    "   Maksymalna norma, oznaczana jako \\( \\|\\mathbf{v}\\|_\\infty \\), jest maksymalną wartością bezwzględną składowych wektora.\n",
    "   \n",
    "   \\[\n",
    "   \\|\\mathbf{v}\\|_\\infty = \\max(|v_1|, |v_2|, \\ldots, |v_n|)\n",
    "   \\]\n",
    "\n",
    "#### Przykłady w Pythonie z użyciem NumPy\n",
    "\n",
    "Poniżej znajdują się przykłady obliczania różnych norm wektorów z użyciem biblioteki NumPy.\n",
    "\n",
    "```python\n",
    "import numpy as np\n",
    "\n",
    "# Przykładowy wektor\n",
    "v = np.array([3, 4])\n",
    "\n",
    "# Norma euklidesowa (L2-norma)\n",
    "l2_norm = np.linalg.norm(v)\n",
    "print(\"L2-norma:\", l2_norm)\n",
    "\n",
    "# Norma taksówkowa (L1-norma)\n",
    "l1_norm = np.linalg.norm(v, ord=1)\n",
    "print(\"L1-norma:\", l1_norm)\n",
    "\n",
    "# Maksymalna norma (L∞-norma)\n",
    "max_norm = np.linalg.norm(v, ord=np.inf)\n",
    "print(\"L∞-norma:\", max_norm)\n",
    "```\n",
    "\n",
    "Wyniki dla wektora \\( v = [3, 4] \\):\n",
    "\n",
    "- **L2-norma**: \\(\\sqrt{3^2 + 4^2} = \\sqrt{9 + 16} = \\sqrt{25} = 5\\)\n",
    "- **L1-norma**: \\(|3| + |4| = 3 + 4 = 7\\)\n",
    "- **L∞-norma**: \\(\\max(|3|, |4|) = \\max(3, 4) = 4\\)\n",
    "\n",
    "#### Zastosowania norm wektorowych\n",
    "\n",
    "Normy wektorowe mają szerokie zastosowanie w różnych dziedzinach, takich jak:\n",
    "\n",
    "- **Analiza danych**: Pomiar odległości między punktami danych.\n",
    "- **Optymalizacja**: Minimalizacja funkcji kosztu.\n",
    "- **Uczenie maszynowe**: Regularyzacja w modelach regresyjnych.\n",
    "- **Grafika komputerowa**: Obliczanie odległości i długości wektorów w przestrzeni trójwymiarowej.\n",
    "- **Równania różniczkowe**: Analiza stabilności rozwiązań.\n",
    "\n",
    "Normy wektorowe są fundamentalnym narzędziem w matematyce stosowanej i informatyce, pozwalającym na analizę i przetwarzanie danych w różnych kontekstach."
   ]
  },
  {
   "cell_type": "markdown",
   "metadata": {
    "id": "wxhpf-uq2B1I"
   },
   "source": [
    "### <a name='10'></a> Ćwiczenie 60\n",
    "Poniżej podana jest przykładowa tablica $A$:\n",
    "\n",
    "\n",
    "```\n",
    "A = np.random.randint(10, size=(100, 30))\n",
    "```\n",
    "Ustaw odopowiednią opcję biblioteki numpy pozwalającą drukować 10 skrajnych elementów. Wydrukuj tablicę $A$.\n"
   ]
  },
  {
   "cell_type": "code",
   "execution_count": 13,
   "metadata": {
    "colab": {
     "base_uri": "https://localhost:8080/",
     "height": 374
    },
    "id": "liJX2nIBk-gO",
    "outputId": "6fcbfefb-6fbd-4d64-a6ff-64b6383207fc"
   },
   "outputs": [
    {
     "data": {
      "text/plain": [
       "array([[0, 7, 0, 0, 1, 1, 5, 6, 4, 0, ..., 0, 5, 7, 4, 3, 1, 5, 5, 0, 8],\n",
       "       [5, 2, 3, 3, 2, 9, 2, 2, 3, 6, ..., 1, 6, 9, 2, 6, 9, 8, 3, 0, 1],\n",
       "       [0, 4, 4, 6, 8, 8, 2, 2, 2, 3, ..., 7, 3, 2, 8, 2, 8, 1, 1, 1, 5],\n",
       "       [2, 8, 3, 0, 3, 0, 4, 3, 7, 7, ..., 2, 5, 7, 1, 4, 0, 0, 4, 2, 3],\n",
       "       [2, 0, 0, 4, 5, 2, 8, 4, 7, 0, ..., 9, 5, 9, 2, 7, 7, 1, 5, 6, 1],\n",
       "       [9, 1, 9, 0, 7, 0, 8, 5, 6, 9, ..., 3, 0, 7, 2, 6, 1, 1, 6, 5, 2],\n",
       "       [8, 9, 5, 9, 9, 5, 0, 3, 9, 5, ..., 2, 6, 7, 3, 1, 9, 2, 0, 7, 2],\n",
       "       [9, 6, 9, 4, 9, 4, 6, 8, 4, 0, ..., 4, 5, 6, 2, 9, 2, 4, 5, 8, 4],\n",
       "       [0, 3, 4, 9, 9, 4, 6, 3, 0, 4, ..., 2, 9, 0, 7, 4, 3, 7, 6, 1, 0],\n",
       "       [3, 7, 1, 2, 0, 0, 2, 4, 2, 0, ..., 7, 9, 9, 9, 1, 2, 8, 6, 3, 9],\n",
       "       ...,\n",
       "       [6, 3, 5, 2, 5, 1, 7, 1, 6, 8, ..., 9, 7, 2, 9, 0, 8, 0, 2, 7, 2],\n",
       "       [3, 7, 0, 5, 0, 0, 7, 3, 0, 9, ..., 0, 8, 0, 7, 4, 2, 6, 6, 8, 6],\n",
       "       [2, 0, 7, 2, 7, 7, 4, 0, 9, 6, ..., 1, 3, 0, 3, 1, 4, 2, 7, 3, 0],\n",
       "       [0, 9, 2, 8, 6, 1, 8, 9, 1, 2, ..., 4, 1, 5, 2, 7, 1, 0, 8, 2, 0],\n",
       "       [6, 9, 4, 4, 0, 8, 6, 7, 8, 5, ..., 1, 2, 2, 8, 6, 7, 9, 8, 5, 3],\n",
       "       [0, 7, 6, 1, 7, 4, 6, 3, 4, 7, ..., 4, 7, 1, 3, 7, 5, 0, 3, 0, 1],\n",
       "       [4, 7, 7, 2, 3, 9, 5, 9, 2, 1, ..., 5, 3, 1, 8, 0, 3, 0, 5, 3, 4],\n",
       "       [4, 8, 0, 1, 5, 4, 6, 2, 2, 9, ..., 7, 2, 1, 3, 2, 0, 2, 1, 7, 5],\n",
       "       [8, 7, 9, 2, 4, 6, 4, 7, 4, 0, ..., 6, 4, 0, 7, 3, 8, 9, 5, 0, 2],\n",
       "       [2, 9, 3, 5, 6, 9, 3, 5, 0, 7, ..., 6, 2, 8, 7, 3, 0, 0, 0, 0, 7]])"
      ]
     },
     "execution_count": 13,
     "metadata": {},
     "output_type": "execute_result"
    }
   ],
   "source": [
    "A = np.random.randint(10, size=(100, 30))\n",
    "\n",
    "np.set_printoptions(edgeitems=10)\n",
    "A"
   ]
  }
 ],
 "metadata": {
  "colab": {
   "provenance": []
  },
  "kernelspec": {
   "display_name": "Python 3 (ipykernel)",
   "language": "python",
   "name": "python3"
  },
  "language_info": {
   "codemirror_mode": {
    "name": "ipython",
    "version": 3
   },
   "file_extension": ".py",
   "mimetype": "text/x-python",
   "name": "python",
   "nbconvert_exporter": "python",
   "pygments_lexer": "ipython3",
   "version": "3.9.13"
  }
 },
 "nbformat": 4,
 "nbformat_minor": 1
}
