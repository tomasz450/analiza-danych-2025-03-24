{
 "cells": [
  {
   "cell_type": "markdown",
   "metadata": {
    "id": "zeLOLmTj1kBM"
   },
   "source": [
    "### <a name='0'></a>Import biblioteki"
   ]
  },
  {
   "cell_type": "code",
   "execution_count": 1,
   "metadata": {
    "colab": {
     "base_uri": "https://localhost:8080/",
     "height": 34
    },
    "id": "HXMB7SMe1Wnz",
    "outputId": "00478ca7-a7f5-4d7c-a90c-1d4592a6fe95"
   },
   "outputs": [
    {
     "data": {
      "text/plain": [
       "'1.24.4'"
      ]
     },
     "execution_count": 1,
     "metadata": {},
     "output_type": "execute_result"
    }
   ],
   "source": [
    "import numpy as np\n",
    "\n",
    "np.set_printoptions(suppress=True, precision=4)\n",
    "np.random.seed(42)\n",
    "np.__version__"
   ]
  },
  {
   "cell_type": "markdown",
   "metadata": {
    "id": "cyc70pMe1oCg"
   },
   "source": [
    "### <a name='1'></a> Ćwiczenie 61\n",
    "Podane są poniższe dwie tablice $A$ i $B$:\n",
    "\n",
    "```\n",
    "A = np.array([[3, 4, 9, 2],\n",
    "              [5, 3, 2, 5]])\n",
    "B = np.array([[4, 3, 2, 5],\n",
    "              [6, 3, 1, 6]])\n",
    "```\n",
    "\n",
    "Wyznacz tablicę składającą się ze średnich arytmetycznych tablic $A$ i $B$ odpowiadających im elementów.\n",
    "\n",
    "__Oczekiwany wynik:__\n",
    "\n",
    "\n",
    "```\n",
    "array([[3.5, 3.5, 5.5, 3.5],\n",
    "       [5.5, 3. , 1.5, 5.5]])\n",
    "```\n",
    "\n"
   ]
  },
  {
   "cell_type": "code",
   "execution_count": 2,
   "metadata": {
    "colab": {
     "base_uri": "https://localhost:8080/",
     "height": 51
    },
    "id": "9zMjVYfP-tI6",
    "outputId": "19c79a93-406d-4250-fe31-8557a76a3b9c"
   },
   "outputs": [
    {
     "data": {
      "text/plain": [
       "array([[3.5, 3.5, 5.5, 3.5],\n",
       "       [5.5, 3. , 1.5, 5.5]])"
      ]
     },
     "execution_count": 2,
     "metadata": {},
     "output_type": "execute_result"
    }
   ],
   "source": [
    "A = np.array([[3, 4, 9, 2],\n",
    "              [5, 3, 2, 5]])\n",
    "B = np.array([[4, 3, 2, 5],\n",
    "              [6, 3, 1, 6]])\n",
    "\n",
    "# Rozwiązanie 1\n",
    "(A + B) / 2"
   ]
  },
  {
   "cell_type": "code",
   "execution_count": 3,
   "metadata": {
    "colab": {
     "base_uri": "https://localhost:8080/",
     "height": 51
    },
    "id": "ruTHzXaVJcXU",
    "outputId": "88043a21-ecd7-4369-df75-7412e483250c"
   },
   "outputs": [
    {
     "data": {
      "text/plain": [
       "array([[3.5, 3.5, 5.5, 3.5],\n",
       "       [5.5, 3. , 1.5, 5.5]])"
      ]
     },
     "execution_count": 3,
     "metadata": {},
     "output_type": "execute_result"
    }
   ],
   "source": [
    "# Rozwiązanie 2\n",
    "np.divide(np.add(A, B), 2)"
   ]
  },
  {
   "cell_type": "markdown",
   "metadata": {
    "id": "J9pY1rtr1sC0"
   },
   "source": [
    "### <a name='2'></a> Ćwiczenie 62\n",
    "Podane są poniższe dwie tablice $A$ i $B$:\n",
    "\n",
    "```\n",
    "A = np.array([[3, 4, 9, 2],\n",
    "              [5, 3, 2, 5]])\n",
    "B = np.array([[4, 3, 2, 5],\n",
    "              [6, 3, 1, 6]])\n",
    "```\n",
    "Pomnóż tablice przez siebie - element po elemencie (element-wise).\n"
   ]
  },
  {
   "cell_type": "code",
   "execution_count": 4,
   "metadata": {
    "colab": {
     "base_uri": "https://localhost:8080/",
     "height": 51
    },
    "id": "9b_Bhik1Jqo7",
    "outputId": "f1c95cf1-a958-44c8-be6a-084a10572ce7"
   },
   "outputs": [
    {
     "data": {
      "text/plain": [
       "array([[12, 12, 18, 10],\n",
       "       [30,  9,  2, 30]])"
      ]
     },
     "execution_count": 4,
     "metadata": {},
     "output_type": "execute_result"
    }
   ],
   "source": [
    "A = np.array([[3, 4, 9, 2],\n",
    "              [5, 3, 2, 5]])\n",
    "B = np.array([[4, 3, 2, 5],\n",
    "              [6, 3, 1, 6]])\n",
    "\n",
    "# Rozwiązanie 1\n",
    "A * B"
   ]
  },
  {
   "cell_type": "code",
   "execution_count": 5,
   "metadata": {
    "colab": {
     "base_uri": "https://localhost:8080/",
     "height": 51
    },
    "id": "s5YsGo-OJuSx",
    "outputId": "6dedafc9-3f94-49a5-e718-7fc091d748a6"
   },
   "outputs": [
    {
     "data": {
      "text/plain": [
       "array([[12, 12, 18, 10],\n",
       "       [30,  9,  2, 30]])"
      ]
     },
     "execution_count": 5,
     "metadata": {},
     "output_type": "execute_result"
    }
   ],
   "source": [
    "# Rozwiązanie 2\n",
    "np.multiply(A, B)"
   ]
  },
  {
   "cell_type": "markdown",
   "metadata": {
    "id": "XQLYT2m11wVG"
   },
   "source": [
    "### <a name='3'></a> Ćwiczenie 63\n",
    "Podana jest poniższa tablica $A$:\n",
    "\n",
    "```\n",
    "A = np.array([[3, 4, 9, 2],\n",
    "              [5, 3, 2, 5]])\n",
    "```\n",
    "Wyznacz pierwiastek z każdego elementu tablicy $A$.\n",
    "\n",
    "__Wskazówka:__ Użyj funkcji _np.sqrt()_.\n",
    "\n"
   ]
  },
  {
   "cell_type": "code",
   "execution_count": 6,
   "metadata": {
    "colab": {
     "base_uri": "https://localhost:8080/",
     "height": 51
    },
    "id": "vcAGgYGhKOTd",
    "outputId": "f7b96ffb-502b-4b33-8004-caec6ffbd6e4"
   },
   "outputs": [
    {
     "data": {
      "text/plain": [
       "array([[1.7321, 2.    , 3.    , 1.4142],\n",
       "       [2.2361, 1.7321, 1.4142, 2.2361]])"
      ]
     },
     "execution_count": 6,
     "metadata": {},
     "output_type": "execute_result"
    }
   ],
   "source": [
    "A = np.array([[3, 4, 9, 2],\n",
    "              [5, 3, 2, 5]])\n",
    "\n",
    "np.sqrt(A)"
   ]
  },
  {
   "cell_type": "markdown",
   "metadata": {
    "id": "4xTKSUzg10MK"
   },
   "source": [
    "### <a name='4'></a> Ćwiczenie 64\n",
    "Podane są poniższe tablice $A$ oraz $B$:\n",
    "\n",
    "\n",
    "```\n",
    "A = np.linspace(0, np.pi / 2, 20)\n",
    "B = np.full(shape=(20,), fill_value=1, dtype='float')\n",
    "```\n",
    "Sprawdź działanie jedynki trygonometrycznej na tablicy $A$ i następnie porównaj wynik z tablicą $B$. Użyj funkcji _np.allclose()_.\n",
    "\n",
    "__Jedynka trygonometryczna:__ Dla dowolnej wartości kąta $\\alpha \\in R$ zachodzi:\n",
    "$$sin^2\\alpha + cos^2\\alpha = 1$$\n",
    "\n"
   ]
  },
  {
   "cell_type": "code",
   "execution_count": 7,
   "metadata": {
    "colab": {
     "base_uri": "https://localhost:8080/",
     "height": 34
    },
    "id": "jI143TodMDId",
    "outputId": "29447d83-89f1-45cb-9408-fa763875223c"
   },
   "outputs": [],
   "source": [
    "A = np.linspace(0, np.pi / 2, 20)\n",
    "B = np.full(shape=(20,), fill_value=1, dtype='float')"
   ]
  },
  {
   "cell_type": "code",
   "execution_count": 8,
   "metadata": {},
   "outputs": [
    {
     "data": {
      "text/plain": [
       "array([0.    , 0.0827, 0.1653, 0.248 , 0.3307, 0.4134, 0.496 , 0.5787,\n",
       "       0.6614, 0.7441, 0.8267, 0.9094, 0.9921, 1.0748, 1.1574, 1.2401,\n",
       "       1.3228, 1.4054, 1.4881, 1.5708])"
      ]
     },
     "execution_count": 8,
     "metadata": {},
     "output_type": "execute_result"
    }
   ],
   "source": [
    "A"
   ]
  },
  {
   "cell_type": "code",
   "execution_count": 9,
   "metadata": {},
   "outputs": [
    {
     "data": {
      "text/plain": [
       "array([1., 1., 1., 1., 1., 1., 1., 1., 1., 1., 1., 1., 1., 1., 1., 1., 1.,\n",
       "       1., 1., 1.])"
      ]
     },
     "execution_count": 9,
     "metadata": {},
     "output_type": "execute_result"
    }
   ],
   "source": [
    "np.sin(A) ** 2 + np.cos(A) ** 2"
   ]
  },
  {
   "cell_type": "code",
   "execution_count": 10,
   "metadata": {},
   "outputs": [
    {
     "data": {
      "text/plain": [
       "array([1., 1., 1., 1., 1., 1., 1., 1., 1., 1., 1., 1., 1., 1., 1., 1., 1.,\n",
       "       1., 1., 1.])"
      ]
     },
     "execution_count": 10,
     "metadata": {},
     "output_type": "execute_result"
    }
   ],
   "source": [
    "B"
   ]
  },
  {
   "cell_type": "code",
   "execution_count": 11,
   "metadata": {},
   "outputs": [
    {
     "data": {
      "text/plain": [
       "True"
      ]
     },
     "execution_count": 11,
     "metadata": {},
     "output_type": "execute_result"
    }
   ],
   "source": [
    "# Rozwiązanie 1\n",
    "np.allclose(np.sin(A) ** 2 + np.cos(A) ** 2, B)"
   ]
  },
  {
   "cell_type": "code",
   "execution_count": 12,
   "metadata": {
    "colab": {
     "base_uri": "https://localhost:8080/",
     "height": 34
    },
    "id": "emJpFSRSMd49",
    "outputId": "f1ed1a16-6a94-4007-d45d-7c7cb5060f8f"
   },
   "outputs": [
    {
     "data": {
      "text/plain": [
       "True"
      ]
     },
     "execution_count": 12,
     "metadata": {},
     "output_type": "execute_result"
    }
   ],
   "source": [
    "# Rozwiązanie 2\n",
    "np.allclose(np.power(np.sin(A), 2) + np.power(np.cos(A), 2), B)"
   ]
  },
  {
   "cell_type": "markdown",
   "metadata": {},
   "source": [
    "### Jedynka trygonometryczna\n",
    "\n",
    "Jedynka trygonometryczna to fundamentalna tożsamość w trygonometrii, która wyraża podstawową relację między sinusami i cosinusami kątów. Jest to jedno z najważniejszych twierdzeń w trygonometrii, używane do rozwiązywania równań trygonometrycznych i dowodzenia innych tożsamości trygonometrycznych.\n",
    "\n",
    "#### Definicja\n",
    "\n",
    "Jedynka trygonometryczna mówi, że dla dowolnego kąta \\(\\theta\\) w układzie współrzędnych:\n",
    "\n",
    "\\[ \\sin^2(\\theta) + \\cos^2(\\theta) = 1 \\]\n",
    "\n",
    "Gdzie:\n",
    "- \\(\\sin(\\theta)\\) to sinus kąta \\(\\theta\\),\n",
    "- \\(\\cos(\\theta)\\) to cosinus kąta \\(\\theta\\).\n",
    "\n",
    "#### Dowód Jedynki Trygonometrycznej\n",
    "\n",
    "Jedynkę trygonometryczną można dowieść na kilka sposobów. Jednym z najprostszych jest użycie definicji funkcji trygonometrycznych w odniesieniu do trójkąta prostokątnego.\n",
    "\n",
    "W trójkącie prostokątnym o kącie \\(\\theta\\), przyprostokątne mają długości \\(a\\) i \\(b\\), a przeciwprostokątna ma długość \\(c\\). Funkcje trygonometryczne sinus i cosinus są zdefiniowane jako:\n",
    "\n",
    "\\[ \\sin(\\theta) = \\frac{a}{c} \\]\n",
    "\\[ \\cos(\\theta) = \\frac{b}{c} \\]\n",
    "\n",
    "Z twierdzenia Pitagorasa wiemy, że:\n",
    "\n",
    "\\[ a^2 + b^2 = c^2 \\]\n",
    "\n",
    "Podstawiając definicje sinusa i cosinusa, mamy:\n",
    "\n",
    "\\[ \\left(\\frac{a}{c}\\right)^2 + \\left(\\frac{b}{c}\\right)^2 = 1 \\]\n",
    "\\[ \\sin^2(\\theta) + \\cos^2(\\theta) = 1 \\]\n",
    "\n",
    "#### Przykłady i Zastosowania\n",
    "\n",
    "Jedynka trygonometryczna jest często używana w matematyce i inżynierii. Oto kilka przykładów jej zastosowania:\n",
    "\n",
    "1. **Rozwiązywanie równań trygonometrycznych**:\n",
    "   Równanie \\(\\sin^2(x) = \\cos^2(x)\\) można uprościć do \\(\\sin^2(x) + \\cos^2(x) = 1\\).\n",
    "\n",
    "2. **Przekształcanie wyrażeń trygonometrycznych**:\n",
    "   Można przekształcić wyrażenia takie jak \\(\\sin^2(x)\\) na \\(1 - \\cos^2(x)\\) lub odwrotnie, w celu uproszczenia obliczeń.\n",
    "\n",
    "3. **Fale i drgania**:\n",
    "   Jedynka trygonometryczna jest używana do analizy ruchów harmonicznych i fal sinusoidalnych, gdzie relacje między sinusami i cosinusami są kluczowe.\n",
    "\n",
    "4. **Geometria analityczna**:\n",
    "   W geometrii analitycznej jedynka trygonometryczna pomaga w analizie kół i elips, ponieważ \\(\\sin^2(\\theta) + \\cos^2(\\theta) = 1\\) jest równaniem okręgu o promieniu 1.\n",
    "\n",
    "#### Przykład w Pythonie\n",
    "\n",
    "Możemy użyć biblioteki `numpy` w Pythonie do demonstracji jedynki trygonometrycznej.\n",
    "\n",
    "```python\n",
    "import numpy as np\n",
    "\n",
    "# Przykładowy kąt w radianach\n",
    "theta = np.pi / 4  # 45 stopni\n",
    "\n",
    "# Obliczanie wartości sinusa i cosinusa\n",
    "sin_theta = np.sin(theta)\n",
    "cos_theta = np.cos(theta)\n",
    "\n",
    "# Weryfikacja jedynki trygonometrycznej\n",
    "identity = sin_theta**2 + cos_theta**2\n",
    "print(f\"sin^2(θ) + cos^2(θ) = {identity}\")\n",
    "```\n",
    "\n",
    "Wynik powinien być bardzo bliski 1, co potwierdza jedynkę trygonometryczną.\n",
    "\n",
    "Jedynka trygonometryczna jest fundamentem wielu innych tożsamości trygonometrycznych i znajduje szerokie zastosowanie w różnych dziedzinach matematyki oraz nauk przyrodniczych."
   ]
  },
  {
   "cell_type": "code",
   "execution_count": null,
   "metadata": {},
   "outputs": [],
   "source": []
  },
  {
   "cell_type": "code",
   "execution_count": 13,
   "metadata": {},
   "outputs": [],
   "source": [
    "# TEORIA"
   ]
  },
  {
   "cell_type": "markdown",
   "metadata": {},
   "source": [
    "### Mnożenie macierzy\n",
    "\n",
    "Mnożenie macierzy jest operacją algebraiczną, w której dwie macierze są łączone, aby utworzyć nową macierz. Aby mnożenie macierzy było możliwe, liczba kolumn pierwszej macierzy musi być równa liczbie wierszy drugiej macierzy. Wynikowa macierz ma wymiary równe liczbie wierszy pierwszej macierzy oraz liczbie kolumn drugiej macierzy. Każdy element w wynikowej macierzy jest obliczany jako suma iloczynów odpowiadających sobie elementów wiersza pierwszej macierzy i kolumny drugiej macierzy.\n",
    "\n",
    "### Wyznacznik macierzy\n",
    "\n",
    "Wyznacznik macierzy (determinant) jest wartością scalarną przypisaną do kwadratowej macierzy, która może być interpretowana jako miara objętości równoległościanu rozpiętego przez wiersze (lub kolumny) macierzy. Wyznacznik macierzy \\(A\\) oznacza się jako \\(\\det(A)\\) lub \\(|A|\\). Wyznacznik jest wykorzystywany do badania właściwości macierzy, takich jak odwracalność. Macierz jest odwracalna, jeśli jej wyznacznik jest różny od zera.\n",
    "\n",
    "### Wartości własne i odpowiadające im wektory własne macierzy\n",
    "\n",
    "Wartości własne (eigenvalues) i wektory własne (eigenvectors) są pojęciami używanymi do analizy macierzy kwadratowych. Wektor własny macierzy \\(A\\) to taki wektor \\(v\\), który po pomnożeniu przez macierz \\(A\\) daje wektor równoległy do \\(v\\), czyli \\(A \\mathbf{v} = \\lambda \\mathbf{v}\\), gdzie \\(\\lambda\\) to wartość własna odpowiadająca wektorowi własnemu \\(\\mathbf{v}\\). Wartości własne i wektory własne mają kluczowe znaczenie w wielu dziedzinach, takich jak mechanika kwantowa, analiza danych czy teoria stabilności.\n",
    "\n",
    "### Macierz kwadratowa\n",
    "\n",
    "Macierz kwadratowa to macierz, która ma tę samą liczbę wierszy i kolumn, czyli wymiar \\(n \\times n\\). Przykładem macierzy kwadratowej jest macierz identycznościowa (jednostkowa), która ma jedynki na głównej przekątnej i zera w pozostałych miejscach. Macierze kwadratowe odgrywają ważną rolę w algebrze liniowej, szczególnie w kontekście wyznaczników, wartości własnych i macierzy odwrotnych.\n",
    "\n",
    "### Macierz odwrotna\n",
    "\n",
    "Macierz odwrotna (inversematrix) macierzy \\(A\\) to taka macierz \\(A^{-1}\\), która po pomnożeniu przez \\(A\\) daje macierz jednostkową \\(I\\), czyli \\(A A^{-1} = I\\). Macierz \\(A\\) jest odwracalna wtedy i tylko wtedy, gdy jej wyznacznik jest różny od zera. Znalezienie macierzy odwrotnej jest kluczowe w rozwiązywaniu układów równań liniowych i innych problemów matematycznych.\n",
    "\n",
    "### Ślad macierzy\n",
    "\n",
    "Ślad macierzy (trace) to suma elementów znajdujących się na głównej przekątnej macierzy kwadratowej. Dla macierzy \\(A\\) ślad oznacza się jako \\(\\operatorname{tr}(A)\\). Ślad macierzy jest używany w różnych dziedzinach matematyki i fizyki, w szczególności w teorii macierzy, mechanice kwantowej i statystyce.\n",
    "\n",
    "### Macierz transponowana\n",
    "\n",
    "Macierz transponowana (transposed matrix) macierzy \\(A\\) to macierz oznaczona jako \\(A^T\\), która powstaje przez zamianę miejscami wierszy i kolumn macierzy \\(A\\). Jeśli \\(A\\) jest macierzą o wymiarach \\(m \\times n\\), to \\(A^T\\) będzie macierzą o wymiarach \\(n \\times m\\). Transponowanie macierzy jest podstawową operacją w algebrze liniowej i jest używane w wielu obliczeniach matematycznych.\n",
    "\n",
    "```python\n",
    "import numpy as np\n",
    "\n",
    "# Przykład mnożenia macierzy\n",
    "A = np.array([[1, 2], [3, 4]])\n",
    "B = np.array([[5, 6], [7, 8]])\n",
    "C = np.dot(A, B)\n",
    "print(\"Mnożenie macierzy:\\n\", C)\n",
    "\n",
    "# Przykład wyznacznika macierzy\n",
    "det_A = np.linalg.det(A)\n",
    "print(\"Wyznacznik macierzy A:\", det_A)\n",
    "\n",
    "# Przykład wartości własnych i wektorów własnych\n",
    "eigenvalues, eigenvectors = np.linalg.eig(A)\n",
    "print(\"Wartości własne:\", eigenvalues)\n",
    "print(\"Wektory własne:\\n\", eigenvectors)\n",
    "\n",
    "# Przykład macierzy odwrotnej\n",
    "A_inv = np.linalg.inv(A)\n",
    "print(\"Macierz odwrotna A:\\n\", A_inv)\n",
    "\n",
    "# Przykład śladu macierzy\n",
    "trace_A = np.trace(A)\n",
    "print(\"Ślad macierzy A:\", trace_A)\n",
    "\n",
    "# Przykład macierzy transponowanej\n",
    "A_T = A.T\n",
    "print(\"Macierz transponowana A:\\n\", A_T)\n",
    "```\n",
    "\n",
    "Te podstawowe pojęcia i operacje są fundamentem algebry liniowej i mają szerokie zastosowanie w analizie danych, statystyce, inżynierii i wielu innych dziedzinach nauki i techniki."
   ]
  },
  {
   "cell_type": "markdown",
   "metadata": {
    "id": "o3HKIKlP15Ro"
   },
   "source": [
    "### Przypomnienie\n",
    "### Mnożenie macierzy:\n",
    "$${A} ={\\begin{bmatrix}a_{11}&a_{12}&\\cdots &a_{1n}\\\\a_{21}&a_{22}&\\cdots &a_{2n}\\\\\\vdots &\\vdots &\\ddots &\\vdots \\\\a_{m1}&a_{m2}&\\cdots &a_{mn}\\\\\\end{bmatrix}}$$\n",
    "A - macierz wymairu $m\\ x\\ n$\n",
    "\n",
    "$$ {B} ={\\begin{bmatrix}b_{11}&b_{12}&\\cdots &b_{1p}\\\\b_{21}&b_{22}&\\cdots &b_{2p}\\\\\\vdots &\\vdots &\\ddots &\\vdots \\\\b_{n1}&b_{n2}&\\cdots &b_{np}\\\\\\end{bmatrix}}$$\n",
    "B - macierz wymairu $n\\ x\\ p$\n",
    "\n",
    "$$C = AB$$\n",
    "C - macierz wymiaru $m\\ x\\ p$  \n",
    "Aby móc pomnożyć dwie macierze liczba kolumn w lewej macierzy musi zgadzać się z liczbą wierszy prawej macierzy.\n",
    "\n",
    "Mnożenie macierzy nie jest przemienne! Tzn. $$AB \\neq BA$$\n",
    "\n",
    "### Przykład 1\n",
    "$ X = \\begin{bmatrix}5&3\\\\3&9\\end{bmatrix}$, $ Y= \\begin{bmatrix}1\\\\-1\\end{bmatrix} $  \n",
    "$X$ macierz 2x2  \n",
    "$Y$ macierz 2x1\n",
    "$$Z = X \\cdot Y = \\begin{bmatrix}5&3\\\\3&9\\end{bmatrix} \\cdot \\begin{bmatrix}1\\\\-1\\end{bmatrix} = \\begin{bmatrix}2\\\\-6\\end{bmatrix}$$\n",
    "$Z$ macierz 2x1\n",
    "\n",
    "### Przykład 2\n",
    "$X = \\begin{bmatrix}2&-1&3\\\\3&1&0\\end{bmatrix}$, $Y = \\begin{bmatrix}2&1&-1\\\\0&-1&2\\\\3&2&0\\end{bmatrix}$\n",
    "\n",
    "$X$ macierz 2x3  \n",
    "$Y$ macierz 3x3\n",
    "$$Z = X \\cdot Y =  \\begin{bmatrix}2&-1&3\\\\3&1&0\\end{bmatrix} \\cdot \\begin{bmatrix}2&1&-1\\\\0&-1&2\\\\3&2&0\\end{bmatrix} = \\begin{bmatrix}13&9&-4\\\\6&2&-1\\end{bmatrix}$$\n",
    "$Z$ macierz 2x3\n",
    "\n",
    "\n"
   ]
  },
  {
   "cell_type": "markdown",
   "metadata": {
    "id": "cDCQVpQUr6qb"
   },
   "source": [
    "### <a name='5'></a> Ćwiczenie 65\n",
    "\n",
    "Podane są dwie dwuwymiarowe tablice numpy $A$ oraz $B$.  \n",
    "$A$ - macierz wymiaru $(3, 2)$  \n",
    "$B$ - macierz wymiaru $(2, 3)$\n",
    "\n",
    "```\n",
    "A = np.array([[2, 3],\n",
    "              [-4, 2],\n",
    "              [5, 0]])\n",
    "B = np.array([[4, 3, 2],\n",
    "              [-1, 0, 2]])\n",
    "```\n",
    "Dokonaj mnożenia macierzowego tablic $A$ i $B$.\n",
    "\n",
    "__Wskazówka:__ Użyj funkcji _np.dot()_.\n"
   ]
  },
  {
   "cell_type": "code",
   "execution_count": 16,
   "metadata": {
    "colab": {
     "base_uri": "https://localhost:8080/",
     "height": 102
    },
    "id": "wXd9qiJLQyfs",
    "outputId": "56a6d488-5817-4639-d332-1952aee191db"
   },
   "outputs": [
    {
     "name": "stdout",
     "output_type": "stream",
     "text": [
      "(3, 2)\n",
      "(2, 3)\n"
     ]
    },
    {
     "data": {
      "text/plain": [
       "array([[  5,   6,  10],\n",
       "       [-18, -12,  -4],\n",
       "       [ 20,  15,  10]])"
      ]
     },
     "execution_count": 16,
     "metadata": {},
     "output_type": "execute_result"
    }
   ],
   "source": [
    "A = np.array([[2, 3],\n",
    "              [-4, 2],\n",
    "              [5, 0]])\n",
    "B = np.array([[4, 3, 2],\n",
    "              [-1, 0, 2]])\n",
    "\n",
    "print(A.shape)\n",
    "print(B.shape)\n",
    "\n",
    "# Rozwiązanie 1\n",
    "np.dot(A, B)"
   ]
  },
  {
   "cell_type": "code",
   "execution_count": 17,
   "metadata": {
    "colab": {
     "base_uri": "https://localhost:8080/",
     "height": 68
    },
    "id": "Z2Ab6nQuR5KK",
    "outputId": "d73ac61f-d06f-42d5-e24e-d22123097da7"
   },
   "outputs": [
    {
     "data": {
      "text/plain": [
       "array([[  5,   6,  10],\n",
       "       [-18, -12,  -4],\n",
       "       [ 20,  15,  10]])"
      ]
     },
     "execution_count": 17,
     "metadata": {},
     "output_type": "execute_result"
    }
   ],
   "source": [
    "# Rozwiązanie 2\n",
    "A.dot(B)"
   ]
  },
  {
   "cell_type": "markdown",
   "metadata": {
    "id": "Yemog0IvsNsH"
   },
   "source": [
    "### Przypomnienie\n",
    "\n",
    "### Wyznacznik macierzy:\n",
    "\n",
    "$${\\displaystyle A={\\begin{bmatrix}a_{11}&a_{12}&\\dots &a_{1n}\\\\a_{21}&a_{22}&\\dots &a_{2n}\\\\\\vdots &\\vdots &\\ddots &\\vdots \\\\a_{n1}&a_{n2}&\\dots &a_{nn}\\end{bmatrix}}}$$\n",
    "$A$ - macierz wymiaru nxn\n",
    "\n",
    "#### Oznaczenia:\n",
    "\n",
    "${\\displaystyle |A|=\\left|{\\begin{array}{c}a_{11}&a_{12}&\\dots &a_{1n}\\\\a_{21}&a_{22}&\\dots &a_{2n}\\\\\\vdots &\\vdots &\\ddots &\\vdots \\\\a_{n1}&a_{n2}&\\dots &a_{nn}\\end{array}}\\right|} $  lub  $ {\\displaystyle \\det A=\\det {\\begin{bmatrix}a_{11}&a_{12}&\\dots &a_{1n}\\\\a_{21}&a_{22}&\\dots &a_{2n}\\\\\\vdots &\\vdots &\\ddots &\\vdots \\\\a_{n1}&a_{n2}&\\dots &a_{nn}\\end{bmatrix}}}$\n",
    "\n",
    "#### Przykład:\n",
    "${\\displaystyle \\det A={\\begin{vmatrix}a_{11}&a_{12}\\\\a_{21}&a_{22}\\end{vmatrix}}=a_{11}a_{22}-a_{12}a_{21}}$\n",
    "\n",
    "${\\displaystyle \\det A={\\begin{vmatrix}a_{11}&a_{12}&a_{13}\\\\a_{21}&a_{22}&a_{23}\\\\a_{31}&a_{32}&a_{33}\\end{vmatrix}}=a_{11}a_{22}a_{33}+a_{21}a_{32}a_{13}+a_{31}a_{12}a_{23}-a_{21}a_{12}a_{33}-a_{11}a_{32}a_{23}-a_{31}a_{22}a_{13}}$\n",
    "\n",
    "${\\displaystyle \\det A={\\begin{vmatrix}2&4\\\\-1&3\\end{vmatrix}}=2\\cdot3-4\\cdot(-1)} = 6 + 4 = 10 $\n",
    "\n",
    "\n",
    "\n"
   ]
  },
  {
   "cell_type": "markdown",
   "metadata": {
    "id": "PunXd_Ey16so"
   },
   "source": [
    "### <a name='6'></a> Ćwiczenie 66\n",
    "Podana jest poniższa tablica (macierz kwadratowa) $A$:\n",
    "\n",
    "```\n",
    "A = np.array([[-2, 0, 4],\n",
    "              [5, 2, -1],\n",
    "              [-4, 2, 4]])\n",
    "```\n",
    "Wyznacz wyznacznik macierzy $A$.\n",
    "\n",
    "__Wskazówka:__ Użyj funkcji _np.linalg.det()_.\n"
   ]
  },
  {
   "cell_type": "code",
   "execution_count": 18,
   "metadata": {
    "colab": {
     "base_uri": "https://localhost:8080/",
     "height": 34
    },
    "id": "90J6eB4RSmAG",
    "outputId": "5238b7a4-fb6b-4877-fb65-aac654a95256"
   },
   "outputs": [
    {
     "data": {
      "text/plain": [
       "51.999999999999986"
      ]
     },
     "execution_count": 18,
     "metadata": {},
     "output_type": "execute_result"
    }
   ],
   "source": [
    "A = np.array([[-2, 0, 4],\n",
    "              [5, 2, -1],\n",
    "              [-4, 2, 4]])\n",
    "\n",
    "np.linalg.det(A)"
   ]
  },
  {
   "cell_type": "markdown",
   "metadata": {
    "id": "hOhqDRz618Tx"
   },
   "source": [
    "### <a name='7'></a> Ćwiczenie 67\n",
    "Podana jest poniższa tablica (macierz kwadratowa) $A$:\n",
    "\n",
    "```\n",
    "A = np.array([[5, 8, 16],\n",
    "              [4, 1, 8],\n",
    "              [-4, 4, -11]])\n",
    "```\n",
    "Wyzancz wartości własne i odpowiadające im wektory własne macierzy $A$.\n",
    "\n",
    "__Wskazówka:__ Użyj funkcji _np.linalg.eig()_.\n"
   ]
  },
  {
   "cell_type": "code",
   "execution_count": 19,
   "metadata": {
    "colab": {
     "base_uri": "https://localhost:8080/",
     "height": 85
    },
    "id": "DYG72PcWTvPT",
    "outputId": "f7ea16e6-cdb1-41ec-9274-d3518cb12d85"
   },
   "outputs": [
    {
     "name": "stdout",
     "output_type": "stream",
     "text": [
      "[-9.2462 -3.      7.2462]\n",
      "[[-0.6262 -0.8944  0.8902]\n",
      " [-0.3131  0.      0.4451]\n",
      " [ 0.7141  0.4472 -0.0976]]\n"
     ]
    }
   ],
   "source": [
    "A = np.array([[5, 8, 16],\n",
    "              [4, 1, 8],\n",
    "              [-4, 4, -11]])\n",
    "\n",
    "eigenvalues, eigenvectors = np.linalg.eig(A)\n",
    "print(eigenvalues)\n",
    "print(eigenvectors)"
   ]
  },
  {
   "cell_type": "markdown",
   "metadata": {
    "id": "bj6TWh-9s7fL"
   },
   "source": [
    "### Przypomnienie\n",
    "### Macierz odwrotna:\n",
    "\n",
    "$A$ - macierz kwadratowa stopnia $n$. Macierz $A$ posiada macierz odwrotną, gdy istnieje macierz $B$, taka, że\n",
    "$$AB = BA = I$$\n",
    "\n",
    "$A = \\begin{bmatrix}2&4\\\\-1&3\\end{bmatrix}$"
   ]
  },
  {
   "cell_type": "markdown",
   "metadata": {
    "id": "TXUd_4631-gw"
   },
   "source": [
    "### <a name='8'></a> Ćwiczenie 68\n",
    "Podana jest poniższa tablica (macierz kwadratowa) $A$:\n",
    "\n",
    "```\n",
    "A = np.array([[5, 8, 16],\n",
    "              [4, 1, 8],\n",
    "              [-4, 4, -11]])\n",
    "```\n",
    "Wyznacz macierz odwrotną do macierzy $A$.\n",
    "\n",
    "__Wskazówka:__ Użyj funkcji _np.linalg.inv()_.\n"
   ]
  },
  {
   "cell_type": "code",
   "execution_count": 20,
   "metadata": {
    "colab": {
     "base_uri": "https://localhost:8080/",
     "height": 68
    },
    "id": "l0duTp0Db7EM",
    "outputId": "afeffe0e-a492-43e4-89de-ab34a970ea2b"
   },
   "outputs": [
    {
     "data": {
      "text/plain": [
       "array([[-0.2139,  0.7562,  0.2388],\n",
       "       [ 0.0597,  0.0448,  0.1194],\n",
       "       [ 0.0995, -0.2587, -0.1343]])"
      ]
     },
     "execution_count": 20,
     "metadata": {},
     "output_type": "execute_result"
    }
   ],
   "source": [
    "A = np.array([[5, 8, 16],\n",
    "              [4, 1, 8],\n",
    "              [-4, 4, -11]])\n",
    "\n",
    "np.linalg.inv(A)"
   ]
  },
  {
   "cell_type": "markdown",
   "metadata": {
    "id": "ht_WwJrqsczo"
   },
   "source": [
    "### Przypomnienie\n",
    "\n",
    "### Ślad macierzy:\n",
    "\n",
    "$${\\displaystyle A={\\begin{bmatrix}a_{11}&a_{12}&\\dots &a_{1n}\\\\a_{21}&a_{22}&\\dots &a_{2n}\\\\\\vdots &\\vdots &\\ddots &\\vdots \\\\a_{n1}&a_{n2}&\\dots &a_{nn}\\end{bmatrix}}}$$\n",
    "$A$ - macierz wymiaru nxn\n",
    "\n",
    "${\\displaystyle \\operatorname {tr} (A)=\\sum _{i=1}^{n}a_{ii}=a_{11}+a_{22}+\\dots +a_{nn}}$\n",
    "\n",
    "#### Przykład:\n",
    "$A = \\begin{bmatrix}2&4\\\\-1&3\\end{bmatrix}$\n",
    "\n",
    "${\\displaystyle \\operatorname {tr} (A)=\\sum _{i=1}^{2}a_{ii}=a_{11}+a_{22} = 2 + 3 = 5}$"
   ]
  },
  {
   "cell_type": "markdown",
   "metadata": {
    "id": "tgI6xEn-2AQo"
   },
   "source": [
    "### <a name='9'></a> Ćwiczenie 69\n",
    "Podana jest poniższa tablica (macierz kwadratowa) $A$:\n",
    "\n",
    "```\n",
    "A = np.array([[5, 8, 16],\n",
    "              [4, 1, 8],\n",
    "              [-4, 4, -11]])\n",
    "```\n",
    "Wyznacz ślad macierzy kwadratowej $A$ (suma elementów na głównej przekątnej).\n",
    "\n",
    "__Wskazówka:__ Użyj funkcji _np.trace()_.\n"
   ]
  },
  {
   "cell_type": "code",
   "execution_count": 21,
   "metadata": {
    "colab": {
     "base_uri": "https://localhost:8080/",
     "height": 34
    },
    "id": "XiuQkuNTcYkC",
    "outputId": "c4b0f09d-914e-4c09-d58a-f6f0f1f0e260"
   },
   "outputs": [
    {
     "data": {
      "text/plain": [
       "-5"
      ]
     },
     "execution_count": 21,
     "metadata": {},
     "output_type": "execute_result"
    }
   ],
   "source": [
    "A = np.array([[5, 8, 16],\n",
    "              [4, 1, 8],\n",
    "              [-4, 4, -11]])\n",
    "\n",
    "np.trace(A)"
   ]
  },
  {
   "cell_type": "markdown",
   "metadata": {
    "id": "ZsBk6UK-uPpQ"
   },
   "source": [
    "### Przypomnienie\n",
    "### Macierz transponowana:\n",
    "\n",
    "Zamiana wierszy na kolumny i kolumny na wiersze.\n",
    "\n",
    "#### Przykład 1:\n",
    "\n",
    "$A = \\begin{bmatrix}2&4\\\\-1&3\\end{bmatrix}$,\n",
    "$A^{T} = \\begin{bmatrix}2&-1\\\\4&3\\end{bmatrix}$\n",
    "\n",
    "#### Przykład 2:\n",
    "$A = \\begin{bmatrix}2&1&-1\\\\0&-1&2\\end{bmatrix}$,\n",
    "$A^{T} = \\begin{bmatrix}2&0\\\\1&-1\\\\-1&2\\end{bmatrix}$\n"
   ]
  },
  {
   "cell_type": "markdown",
   "metadata": {
    "id": "7tGnMHu7uXOe"
   },
   "source": [
    "### Ćwiczenie 69 c.d.\n",
    "Dokonaj transpozycji macierzy $A$."
   ]
  },
  {
   "cell_type": "code",
   "execution_count": 27,
   "metadata": {
    "colab": {
     "base_uri": "https://localhost:8080/",
     "height": 68
    },
    "id": "SA2K4h0bufDc",
    "outputId": "156a3b49-2b7b-47df-deb3-69efdf2bae3f"
   },
   "outputs": [
    {
     "data": {
      "text/plain": [
       "array([[2, 4, 5, 4],\n",
       "       [0, 2, 3, 2]])"
      ]
     },
     "execution_count": 27,
     "metadata": {},
     "output_type": "execute_result"
    }
   ],
   "source": [
    "# Rozwiązanie 1\n",
    "np.transpose(A)"
   ]
  },
  {
   "cell_type": "code",
   "execution_count": 28,
   "metadata": {
    "colab": {
     "base_uri": "https://localhost:8080/",
     "height": 68
    },
    "id": "YdlUxpkwuiUZ",
    "outputId": "32f3ecd2-376d-4e5c-a49f-f9b15677f40f"
   },
   "outputs": [
    {
     "data": {
      "text/plain": [
       "array([[2, 4, 5, 4],\n",
       "       [0, 2, 3, 2]])"
      ]
     },
     "execution_count": 28,
     "metadata": {},
     "output_type": "execute_result"
    }
   ],
   "source": [
    "# Rozwiązanie 2\n",
    "A.T"
   ]
  },
  {
   "cell_type": "markdown",
   "metadata": {
    "id": "wxhpf-uq2B1I"
   },
   "source": [
    "### <a name='10'></a> Ćwiczenie 70\n",
    "Podane są dwie dwuwymiarowe tablice numpy $A$ oraz $B$:   \n",
    "$A$ - macierz wymiaru $(4, 2)$  \n",
    "$B$ - macierz wymiaru $(1, 8)$\n",
    "\n",
    "```\n",
    "A = np.array([[2, 0],\n",
    "              [4, 2],\n",
    "              [5, 3],\n",
    "              [4, 2]])\n",
    "B = np.array([[4, 0, 2, 1, 1, 0, 2, 9]])\n",
    "```\n",
    "Przekształć tablicę $B$ tak, aby można było dokonać mnożenia macierzowego $A \\cdot B$. Wykonaj to mnożenie.\n",
    "\n",
    "__Oczekiwany wynik:__\n",
    "\n",
    "\n",
    "```\n",
    "array([[ 8,  0,  4,  2],\n",
    "       [18,  0, 12, 22],\n",
    "       [23,  0, 16, 32],\n",
    "       [18,  0, 12, 22]])\n",
    "```\n",
    "\n",
    "\n"
   ]
  },
  {
   "cell_type": "code",
   "execution_count": 29,
   "metadata": {
    "colab": {
     "base_uri": "https://localhost:8080/",
     "height": 119
    },
    "id": "bALDEEmGdAbD",
    "outputId": "b9008e56-7beb-478f-e0ed-3d21f8f4d020"
   },
   "outputs": [
    {
     "name": "stdout",
     "output_type": "stream",
     "text": [
      "(4, 2)\n",
      "(1, 8)\n"
     ]
    },
    {
     "data": {
      "text/plain": [
       "array([[ 8,  0,  4,  2],\n",
       "       [18,  0, 12, 22],\n",
       "       [23,  0, 16, 32],\n",
       "       [18,  0, 12, 22]])"
      ]
     },
     "execution_count": 29,
     "metadata": {},
     "output_type": "execute_result"
    }
   ],
   "source": [
    "A = np.array([[2, 0],\n",
    "              [4, 2],\n",
    "              [5, 3],\n",
    "              [4, 2]])\n",
    "B = np.array([[4, 0, 2, 1, 1, 0, 2, 9]])\n",
    "\n",
    "print(A.shape)\n",
    "print(B.shape)\n",
    "\n",
    "# Rozwiązanie 1 (bez zmiany pierwotnej tablicy B)\n",
    "np.dot(A, B.reshape(2, -1))"
   ]
  },
  {
   "cell_type": "code",
   "execution_count": 30,
   "metadata": {
    "colab": {
     "base_uri": "https://localhost:8080/",
     "height": 85
    },
    "id": "mNWNu1sbfwnn",
    "outputId": "acd653fc-491c-484e-90c6-a1800dfd04b0"
   },
   "outputs": [
    {
     "data": {
      "text/plain": [
       "array([[ 8,  0,  4,  2],\n",
       "       [18,  0, 12, 22],\n",
       "       [23,  0, 16, 32],\n",
       "       [18,  0, 12, 22]])"
      ]
     },
     "execution_count": 30,
     "metadata": {},
     "output_type": "execute_result"
    }
   ],
   "source": [
    "# Rozwiązanie 2 (ze zmianą)\n",
    "B = B.reshape(2, -1)\n",
    "np.dot(A, B)"
   ]
  }
 ],
 "metadata": {
  "colab": {
   "provenance": []
  },
  "kernelspec": {
   "display_name": "Python 3 (ipykernel)",
   "language": "python",
   "name": "python3"
  },
  "language_info": {
   "codemirror_mode": {
    "name": "ipython",
    "version": 3
   },
   "file_extension": ".py",
   "mimetype": "text/x-python",
   "name": "python",
   "nbconvert_exporter": "python",
   "pygments_lexer": "ipython3",
   "version": "3.9.20"
  }
 },
 "nbformat": 4,
 "nbformat_minor": 4
}
