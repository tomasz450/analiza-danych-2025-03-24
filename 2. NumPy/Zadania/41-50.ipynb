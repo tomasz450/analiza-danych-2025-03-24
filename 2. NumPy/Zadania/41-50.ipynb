{
 "cells": [
  {
   "cell_type": "markdown",
   "metadata": {
    "id": "WLEgCW5F1hho"
   },
   "source": [
    "## Numpy\n",
    "\n",
    "### Spis treści:\n",
    "* [Import biblioteki](#0)\n",
    "* [Ćwiczenie 41](#1)\n",
    "* [Ćwiczenie 42](#2)\n",
    "* [Ćwiczenie 43](#3)\n",
    "* [Ćwiczenie 44](#4)\n",
    "* [Ćwiczenie 45](#5)\n",
    "* [Ćwiczenie 46](#6)\n",
    "* [Ćwiczenie 47](#7)\n",
    "* [Ćwiczenie 48](#8)\n",
    "* [Ćwiczenie 49](#9)\n",
    "* [Ćwiczenie 50](#10)"
   ]
  },
  {
   "cell_type": "markdown",
   "metadata": {
    "id": "zeLOLmTj1kBM"
   },
   "source": [
    "### <a name='0'></a>Import biblioteki"
   ]
  },
  {
   "cell_type": "code",
   "execution_count": null,
   "metadata": {
    "id": "HXMB7SMe1Wnz"
   },
   "outputs": [],
   "source": [
    "import numpy as np\n",
    "\n",
    "np.random.seed(42)\n",
    "np.__version__"
   ]
  },
  {
   "cell_type": "markdown",
   "metadata": {
    "id": "SmxfwF7kysxx"
   },
   "source": [
    "### <a name='1'></a> Ćwiczenie 41\n",
    "Podana jest poniższa tablica $A$ o kształcie (2, 3).\n",
    "\n",
    "\n",
    "```\n",
    "A = np.array([[4, 2, 1],\n",
    "              [6, 4, 2]])\n",
    "```\n",
    "\n"
   ]
  },
  {
   "cell_type": "code",
   "execution_count": null,
   "metadata": {
    "id": "9fXShJnMy_Tj"
   },
   "outputs": [],
   "source": [
    "A = np.array([[4, 2, 1],\n",
    "              [6, 4, 2]])\n",
    "\n",
    "print(A.shape)"
   ]
  },
  {
   "cell_type": "markdown",
   "metadata": {
    "id": "_JLL9I09zsit"
   },
   "source": [
    "* Rozszerz tablicę $A$ o jeden wymiar (dodaj nowy wymiar na początku). Oczekiwany kształt wyjściowej tablicy: _(1, 2, 3)_.\n",
    "\n",
    "__Wskazówka:__ Użyj funkcji _np.expand_dims()_."
   ]
  },
  {
   "cell_type": "code",
   "execution_count": null,
   "metadata": {
    "id": "yL4Ih_TKzHUO"
   },
   "outputs": [],
   "source": [
    "# tutaj wpisz rozwiązanie"
   ]
  },
  {
   "cell_type": "markdown",
   "metadata": {
    "id": "TTY7V20_z2qR"
   },
   "source": [
    "* Rozszerz tablicę $A$ o jeden wymiar (dodaj nowy wymiar na końcu). Oczekiwany kształt wyjściowej tablicy: _(2, 3, 1)_.\n",
    "\n",
    "__Wskazówka:__ Użyj funkcji _np.expand_dims()_."
   ]
  },
  {
   "cell_type": "code",
   "execution_count": null,
   "metadata": {
    "id": "OMkgqoP5zKDh"
   },
   "outputs": [],
   "source": [
    "# tutaj wpisz rozwiązanie"
   ]
  },
  {
   "cell_type": "markdown",
   "metadata": {
    "id": "cyc70pMe1oCg"
   },
   "source": [
    "### <a name='2'></a> Ćwiczenie 42\n",
    "Wygeneruj trójwymiarową tablicę o nazwie _image_ i kształcie _(200, 300, 3)_ wypełnioną wartościami losowymi od 0 do 255 włącznie i typie danych _np.uint8_."
   ]
  },
  {
   "cell_type": "code",
   "execution_count": null,
   "metadata": {
    "id": "XBvQFbM2deQm"
   },
   "outputs": [],
   "source": [
    "# tutaj wpisz rozwiązanie"
   ]
  },
  {
   "cell_type": "markdown",
   "metadata": {
    "id": "RZ-P_l-ptaUP"
   },
   "source": [
    "Nastepnie uruchom poniższy blok kodu. W rezultacie uzyskasz podgląd na losowo wygenerowany kolorowy obraz."
   ]
  },
  {
   "cell_type": "code",
   "execution_count": null,
   "metadata": {
    "id": "Slgb65eIdrjh"
   },
   "outputs": [],
   "source": [
    "import cv2\n",
    "from matplotlib import pyplot as plt\n",
    "plt.imshow(cv2.cvtColor(image, cv2.COLOR_BGR2RGB))"
   ]
  },
  {
   "cell_type": "markdown",
   "metadata": {
    "id": "ZmmSS6Ul9jhH"
   },
   "source": [
    "__Uwaga:__ Kolorowy obraz można zapisać jako trójwymiarowa tablica numpy o kształcie: (wysokość, szerokość, kanał).  \n",
    "Np. kanał RGB: Red, Green, Blue. Kanał BGR: Blue, Green, Red.  \n",
    "Mówiąc precyzyjniej kolorowy obraz zapisujemy jako trójwymiarowa tablica numpy o kształcie: (wysokość, szerokość, 3)."
   ]
  },
  {
   "cell_type": "markdown",
   "metadata": {
    "id": "J9pY1rtr1sC0"
   },
   "source": [
    "### <a name='3'></a> Ćwiczenie 43\n",
    "Tablica _image_ z poprzedniego zadania jest kształtu _(200, 300, 3)_. Wykonaj polecenia:\n",
    "* Rozszerz tablicę _image_ o jeden wymiar (dodaj nowy wymiar na początku). Oczekiwany kształt wyjściowej tablicy: _(1, 200, 300, 3)_.\n",
    "\n",
    "__Wskazówka:__ Użyj funkcji _np.expand_dims()_."
   ]
  },
  {
   "cell_type": "code",
   "execution_count": null,
   "metadata": {
    "id": "rl8nBc3_tq6T"
   },
   "outputs": [],
   "source": [
    "image = np.random.randint(low=0, high=256, size=(200, 300, 3), dtype=np.uint8)\n",
    "print(image.shape)\n",
    "\n",
    "# tutaj wpisz rozwiązanie"
   ]
  },
  {
   "cell_type": "markdown",
   "metadata": {
    "id": "NzTYhLZ5u8n9"
   },
   "source": [
    "* Rozszerz tablicę _image_ o jeden wymiar (dodaj nowy wymiar na końcu). Oczekiwany kształt wyjściowej tablicy: _(200, 300, 3, 1)_.\n",
    "\n",
    "__Wskazówka:__ Użyj funkcji _np.expand_dims()_."
   ]
  },
  {
   "cell_type": "code",
   "execution_count": null,
   "metadata": {
    "id": "4kRpNeu6vC4G"
   },
   "outputs": [],
   "source": [
    "image = np.random.randint(low=0, high=256, size=(200, 300, 3), dtype=np.uint8)\n",
    "print(image.shape)\n",
    "\n",
    "# tutaj wpisz rozwiązanie"
   ]
  },
  {
   "cell_type": "markdown",
   "metadata": {
    "id": "XQLYT2m11wVG"
   },
   "source": [
    "### <a name='4'></a> Ćwiczenie 44\n",
    "Podane są dwie losowo wygenerowane tablice _image1_ oraz _image2_.\n",
    "\n",
    "\n",
    "```\n",
    "image1 = np.random.randint(low=0, high=256, size=(200, 300, 3), dtype=np.uint8)\n",
    "image2 = np.random.randint(low=0, high=256, size=(200, 300, 3), dtype=np.uint8)\n",
    "```\n",
    "\n",
    "Każdą z tych tablic rozszerz dodając jeden wymiar na początku i następnie połącz tak otrzymane tablice w jedną o nazwie _images_. Oczekiwany kształt tablicy wynikowej: _(2, 200, 300, 3)_."
   ]
  },
  {
   "cell_type": "code",
   "execution_count": null,
   "metadata": {
    "id": "6K5Q4rZnr_zw"
   },
   "outputs": [],
   "source": [
    "image1 = np.random.randint(low=0, high=256, size=(200, 300, 3), dtype=np.uint8)\n",
    "image2 = np.random.randint(low=0, high=256, size=(200, 300, 3), dtype=np.uint8)\n",
    "\n",
    "# tutaj wpisz rozwiązanie"
   ]
  },
  {
   "cell_type": "markdown",
   "metadata": {
    "id": "4xTKSUzg10MK"
   },
   "source": [
    "### <a name='5'></a> Ćwiczenie 45\n",
    "Z tablicy _images_ z poprzedniego zadania wytnij dla __pierwszego__ obrazu dziesięć pierwszych wierszy i dziesięć pierwszych kolumn z kanału trzeciego (indeks 2)."
   ]
  },
  {
   "cell_type": "code",
   "execution_count": null,
   "metadata": {
    "id": "wPdCbNZbQnZp"
   },
   "outputs": [],
   "source": [
    "# tutaj wpisz rozwiązanie"
   ]
  },
  {
   "cell_type": "markdown",
   "metadata": {
    "id": "o3HKIKlP15Ro"
   },
   "source": [
    "### <a name='6'></a> Ćwiczenie 46\n",
    "Z tablicy _images_ z Ćwiczenia 44 wytnij dla __drugiego__ obrazu sto pierwszych wierszy i sto pierwszych kolumn z kanału pierwszego (indeks 0) i wyświetl za pomocą funkcji _cv2_imshow_."
   ]
  },
  {
   "cell_type": "code",
   "execution_count": null,
   "metadata": {
    "id": "XLBzrhZZRDdW"
   },
   "outputs": [],
   "source": [
    "# tutaj wpisz rozwiązanie"
   ]
  },
  {
   "cell_type": "markdown",
   "metadata": {
    "id": "PunXd_Ey16so"
   },
   "source": [
    "### <a name='7'></a> Ćwiczenie 47\n",
    "Poniżej wyświetlono podgląd na pierwszy obraz z tablicy _images_ z Ćwiczenia 44."
   ]
  },
  {
   "cell_type": "code",
   "execution_count": null,
   "metadata": {
    "id": "iOzoZ67cAJmX"
   },
   "outputs": [],
   "source": [
    "plt.imshow(cv2.cvtColor(images[0], cv2.COLOR_BGR2RGB))"
   ]
  },
  {
   "cell_type": "markdown",
   "metadata": {
    "id": "g_t5souAA5sR"
   },
   "source": [
    "Dla obrazu pierwszego z tablicy _images_ przypisz dla pikseli z indeksem $[50:150, 100:200]$ wartość 0 i następnie wyświetl tak otrzymany obraz."
   ]
  },
  {
   "cell_type": "code",
   "execution_count": null,
   "metadata": {
    "id": "bTveruAtAbtG"
   },
   "outputs": [],
   "source": [
    "# tutaj wpisz rozwiązanie"
   ]
  },
  {
   "cell_type": "markdown",
   "metadata": {
    "id": "djmdkq7dDy5i"
   },
   "source": [
    "Dla obrazu drugiego z tablicy _images_ przypisz dla pikseli z indeksem $[100:150, :150]$ wartość 255 i następnie wyświetl tak otrzymany obraz."
   ]
  },
  {
   "cell_type": "code",
   "execution_count": null,
   "metadata": {
    "id": "fe32mJ2mD9kL"
   },
   "outputs": [],
   "source": [
    "# tutaj wpisz rozwiązanie"
   ]
  },
  {
   "cell_type": "markdown",
   "metadata": {
    "id": "hOhqDRz618Tx"
   },
   "source": [
    "### <a name='8'></a> Ćwiczenie 48\n",
    "Podana jest poniższa tablica $A$ o kształcie _(1, 2, 3)_.\n",
    "\n",
    "\n",
    "```\n",
    "A = np.array([[[1, 2, 3],\n",
    "               [6, 3, 2]]])\n",
    "```\n",
    "\n",
    "Usuń zbędny pierwszy wymiar i otrzymaj tablicę o kształcie _(2, 3)_.\n",
    "\n",
    "__Wskazówka:__ Użyj funkcji _np.squeeze()_."
   ]
  },
  {
   "cell_type": "code",
   "execution_count": null,
   "metadata": {},
   "outputs": [],
   "source": [
    "A = np.array([[[1, 2, 3],\n",
    "               [6, 3, 2]]])"
   ]
  },
  {
   "cell_type": "code",
   "execution_count": null,
   "metadata": {
    "id": "hHZ4laz0Genr"
   },
   "outputs": [],
   "source": [
    "# tutaj wpisz rozwiązanie"
   ]
  },
  {
   "cell_type": "markdown",
   "metadata": {
    "id": "TXUd_4631-gw"
   },
   "source": [
    "### <a name='9'></a> Ćwiczenie 49\n",
    "Podana jest poniższa tablica $A$ o kształcie _(4, 1)_.\n",
    "\n",
    "```\n",
    "A = np.array([[0.4],\n",
    "              [0.9],\n",
    "              [0.5],\n",
    "              [0.6]])\n",
    "```\n",
    "\n",
    "Usuń zbędny pierwszy wymiar i otrzymaj tablicę o kształcie _(4,)_.\n",
    "\n",
    "__Wskazówka:__ Użyj funkcji _np.squeeze()_.\n"
   ]
  },
  {
   "cell_type": "code",
   "execution_count": null,
   "metadata": {},
   "outputs": [],
   "source": [
    "A = np.array([[0.4],\n",
    "              [0.9],\n",
    "              [0.5],\n",
    "              [0.6]])"
   ]
  },
  {
   "cell_type": "code",
   "execution_count": null,
   "metadata": {
    "id": "COO6UTNlH8uG"
   },
   "outputs": [],
   "source": [
    "# tutaj wpisz rozwiązanie"
   ]
  },
  {
   "cell_type": "markdown",
   "metadata": {
    "id": "tgI6xEn-2AQo"
   },
   "source": [
    "### <a name='10'></a> Ćwiczenie 50\n",
    "Z tablicy _images_ wycięto pierwszy obraz w poniższy sposób:"
   ]
  },
  {
   "cell_type": "code",
   "execution_count": null,
   "metadata": {
    "id": "PC0fphCIGK-s"
   },
   "outputs": [],
   "source": [
    "image1 = images[:1]\n",
    "image1.shape"
   ]
  },
  {
   "cell_type": "markdown",
   "metadata": {
    "id": "JP2W2TnsHfDt"
   },
   "source": [
    "Wykorzystując wiedzę z poprzednich ćwiczeń usuń zbędny pierwszy wymiar otrzymanej tablicy _image1_."
   ]
  },
  {
   "cell_type": "code",
   "execution_count": null,
   "metadata": {
    "id": "MKAQkZszGOCF"
   },
   "outputs": [],
   "source": [
    "# tutaj wpisz rozwiązanie"
   ]
  }
 ],
 "metadata": {
  "colab": {
   "provenance": []
  },
  "kernelspec": {
   "display_name": "Python 3 (ipykernel)",
   "language": "python",
   "name": "python3"
  },
  "language_info": {
   "codemirror_mode": {
    "name": "ipython",
    "version": 3
   },
   "file_extension": ".py",
   "mimetype": "text/x-python",
   "name": "python",
   "nbconvert_exporter": "python",
   "pygments_lexer": "ipython3",
   "version": "3.9.13"
  }
 },
 "nbformat": 4,
 "nbformat_minor": 1
}
