{
 "cells": [
  {
   "cell_type": "markdown",
   "id": "b2849e6c",
   "metadata": {},
   "source": [
    "### NumPy - biblioteka do obliczeń numerycznych\n",
    "\n",
    "- Podstawy obliczeń numerycznych\n",
    "- Porównanie szybkości z czystym Pythonem\n",
    "- Kluczowe różnice pomiędzy tablicami Numpy i listami pythonowymi\n",
    "- Typowe operacje na wektorach i macierzach\n",
    "- Algebra liniowa"
   ]
  },
  {
   "cell_type": "markdown",
   "id": "458d511d",
   "metadata": {},
   "source": [
    "**NumPy**, czyli **Numerical Python**, to biblioteka programistyczna w języku Python, która dostarcza wsparcie dla efektywnych operacji numerycznych, zwłaszcza na dużych tablicach i macierzach danych. Jest jednym z podstawowych narzędzi w dziedzinie naukowych obliczeń i analizy danych w języku Python.\n",
    "\n",
    "Główne cechy i funkcje biblioteki NumPy:\n",
    "\n",
    "1. Tablice wielowymiarowe: NumPy wprowadza nowy typ danych, znany jako **\"array\" (tablica)**, który pozwala na przechowywanie i operowanie danymi wielowymiarowymi. Tablice w NumPy są bardziej wydajne niż standardowe listy w Pythonie i pozwalają na efektywne wykonywanie operacji matematycznych i statystycznych na danych.\n",
    "\n",
    "2. Efektywne operacje numeryczne: NumPy dostarcza wiele wbudowanych funkcji i operacji, takich jak **dodawanie, mnożenie, podnoszenie do potęgi, funkcje trygonometryczne itp.**, które działają efektywnie na dużych zbiorach danych.\n",
    "\n",
    "3. Indeksowanie i wycinanie: NumPy oferuje zaawansowane możliwości indeksowania i wycinania danych z tablic, co pozwala na dostęp do konkretnych elementów lub podtablic z dużą precyzją.\n",
    "\n",
    "4. Losowanie liczb: Biblioteka umożliwia generowanie losowych liczb o różnych rozkładach, co jest przydatne w symulacjach i analizach statystycznych.\n",
    "\n",
    "5. Integracja z innymi bibliotekami: NumPy jest często używany w połączeniu z innymi bibliotekami do naukowych obliczeń i analizy danych, takimi jak SciPy, pandas, matplotlib i scikit-learn.\n",
    "\n",
    "6. Obsługa danych brakujących: NumPy ma wbudowane funkcje do pracy z danymi brakującymi, co jest istotne w analizie danych."
   ]
  },
  {
   "cell_type": "markdown",
   "id": "c76a9258",
   "metadata": {},
   "source": [
    "## NumPy\n",
    "\n",
    "Dokumentacja: [https://NumPy.org/doc/](https://NumPy.org/doc/)\n",
    "\n",
    "Biblioteka do przetwarzania numerycznego dużych wielowymiarowych tablic liczbowych. \n",
    "\n",
    "Typowy import:"
   ]
  },
  {
   "cell_type": "markdown",
   "id": "7359daf2",
   "metadata": {},
   "source": [
    "- Strona biblioteki: https://numpy.org/\n",
    "- Dokumentacja: https://numpy.org/doc/\n",
    "-  ---\n",
    "\n",
    "- Aby zainstalować bibliotekę NumPy, użyj polecenia poniżej:\n",
    "\n",
    "```python\n",
    "pip install numpy\n",
    "```"
   ]
  },
  {
   "cell_type": "code",
   "execution_count": 1,
   "id": "1e3d7a57",
   "metadata": {},
   "outputs": [
    {
     "name": "stdout",
     "output_type": "stream",
     "text": [
      "Requirement already satisfied: numpy in c:\\users\\tomas\\appdata\\local\\programs\\anaconda3\\lib\\site-packages (1.24.3)\n"
     ]
    }
   ],
   "source": [
    "!pip install numpy"
   ]
  },
  {
   "cell_type": "code",
   "execution_count": 4,
   "id": "f0899d92",
   "metadata": {},
   "outputs": [
    {
     "data": {
      "text/plain": [
       "'1.24.3'"
      ]
     },
     "execution_count": 4,
     "metadata": {},
     "output_type": "execute_result"
    }
   ],
   "source": [
    "import numpy as np\n",
    "np.__version__"
   ]
  },
  {
   "cell_type": "markdown",
   "id": "1dcea987-c9e0-4cd2-a526-fcef330c4d26",
   "metadata": {},
   "source": [
    "## `np.ndarray`\n",
    "\n",
    "\n",
    "* Reprezentuje jedno lub wielowymiarową tablicę wartości. Jest to podstawowa klasa definiowana przez bibliotekę.\n",
    "* Wszystkie wartości w tablicy musza być tego samego typu, czyli `np.ndarray` jest tablicą jednorodną (homogeniczną) .\n",
    "* Każda wartość zajmuje tę samą określoną przez typ porcję pamięci."
   ]
  },
  {
   "cell_type": "markdown",
   "id": "159adaac-ef4b-47ca-910b-de599c020698",
   "metadata": {},
   "source": [
    "## `np.array()`\n",
    "\n",
    "Tworzy tablice z \"tablicopodobnych\" obiektów, np. z list:"
   ]
  },
  {
   "cell_type": "code",
   "execution_count": 13,
   "id": "aa4f073d-0f46-4afa-8043-fa7fb13debbc",
   "metadata": {},
   "outputs": [
    {
     "data": {
      "text/plain": [
       "[1, 2, '3', [1]]"
      ]
     },
     "execution_count": 13,
     "metadata": {},
     "output_type": "execute_result"
    }
   ],
   "source": [
    "lista_pythonowa = [1,2,'3',[1]]\n",
    "lista_pythonowa"
   ]
  },
  {
   "cell_type": "code",
   "execution_count": 26,
   "id": "7b6aade4-47ae-4ac4-8f5e-674460a537c1",
   "metadata": {},
   "outputs": [],
   "source": [
    "a = np.array([1,2,3])"
   ]
  },
  {
   "cell_type": "code",
   "execution_count": 28,
   "id": "b498e089-79d7-4ff4-aafd-3968433bb377",
   "metadata": {},
   "outputs": [
    {
     "data": {
      "text/plain": [
       "array([1, 2, 3])"
      ]
     },
     "execution_count": 28,
     "metadata": {},
     "output_type": "execute_result"
    }
   ],
   "source": [
    "a"
   ]
  },
  {
   "cell_type": "code",
   "execution_count": 21,
   "id": "d2535f2d-96aa-45cc-bee5-852a02db1f42",
   "metadata": {},
   "outputs": [
    {
     "name": "stdout",
     "output_type": "stream",
     "text": [
      "[1 2 3]\n"
     ]
    }
   ],
   "source": [
    "print(a)"
   ]
  },
  {
   "cell_type": "code",
   "execution_count": 20,
   "id": "54445be4-4835-4447-b706-753b7ff8af6f",
   "metadata": {},
   "outputs": [
    {
     "data": {
      "text/plain": [
       "array([1, 2, 3])"
      ]
     },
     "execution_count": 20,
     "metadata": {},
     "output_type": "execute_result"
    }
   ],
   "source": [
    "a"
   ]
  },
  {
   "cell_type": "code",
   "execution_count": 10,
   "id": "f7205b20-65af-47a0-9f62-ef0d41864f98",
   "metadata": {},
   "outputs": [
    {
     "data": {
      "text/plain": [
       "numpy.ndarray"
      ]
     },
     "execution_count": 10,
     "metadata": {},
     "output_type": "execute_result"
    }
   ],
   "source": [
    "type(a)"
   ]
  },
  {
   "cell_type": "code",
   "execution_count": 29,
   "id": "99411fd4-a0f5-463c-8b19-97f47f197b95",
   "metadata": {},
   "outputs": [
    {
     "data": {
      "text/plain": [
       "dtype('int32')"
      ]
     },
     "execution_count": 29,
     "metadata": {},
     "output_type": "execute_result"
    }
   ],
   "source": [
    "a.dtype"
   ]
  },
  {
   "cell_type": "markdown",
   "id": "e9cbf591-e8a0-40ae-b568-8d06d590f3d6",
   "metadata": {},
   "source": [
    "Automatyczne rozszerzanie typu:"
   ]
  },
  {
   "cell_type": "code",
   "execution_count": 30,
   "id": "4df35abe-3368-465c-add5-9f1d124c4157",
   "metadata": {},
   "outputs": [
    {
     "data": {
      "text/plain": [
       "dtype('float64')"
      ]
     },
     "execution_count": 30,
     "metadata": {},
     "output_type": "execute_result"
    }
   ],
   "source": [
    "a = np.array([1.5, 2, 3.14])\n",
    "a.dtype"
   ]
  },
  {
   "cell_type": "code",
   "execution_count": 31,
   "id": "88ab9243-c9cf-4563-a2b2-bb68cb3eba03",
   "metadata": {},
   "outputs": [
    {
     "data": {
      "text/plain": [
       "array([1.5 , 2.  , 3.14])"
      ]
     },
     "execution_count": 31,
     "metadata": {},
     "output_type": "execute_result"
    }
   ],
   "source": [
    "a"
   ]
  },
  {
   "cell_type": "code",
   "execution_count": 32,
   "id": "249d7dca-bdd4-4c7a-914b-e183a3ae0ece",
   "metadata": {},
   "outputs": [
    {
     "data": {
      "text/plain": [
       "array([1., 2., 3.])"
      ]
     },
     "execution_count": 32,
     "metadata": {},
     "output_type": "execute_result"
    }
   ],
   "source": [
    "a = np.array([1, 2, 3], dtype='float64')\n",
    "a"
   ]
  },
  {
   "cell_type": "markdown",
   "id": "6e6736b1-db74-4237-a1cc-f98ebeac9c44",
   "metadata": {},
   "source": [
    "## NumPy: typy wbudowane\n",
    "\n",
    "Data type |Description\n",
    "---|---\n",
    "bool_ |Boolean (True or False) stored as a byte\n",
    "int_ |Default integer type (same as C long; normally either int64 or int32)\n",
    "intc |Identical to C int (normally int32 or int64)\n",
    "intp |Integer used for indexing (same as C ssize_t; normally either int32 or int64)\n",
    "int8 |Byte (-128 to 127)\n",
    "int16 |Integer (-32768 to 32767)\n",
    "int32 |Integer (-2147483648 to 2147483647)\n",
    "int64 |Integer (-9223372036854775808 to 9223372036854775807)\n",
    "uint8 |Unsigned integer (0 to 255)\n",
    "uint16 |Unsigned integer (0 to 65535)\n",
    "uint32 |Unsigned integer (0 to 4294967295)\n",
    "uint64 |Unsigned integer (0 to 18446744073709551615)\n",
    "float_ |Shorthand for float64.\n",
    "float16 |Half precision float: sign bit, 5 bits exponent, 10 bits mantissa\n",
    "float32 |Single precision float: sign bit, 8 bits exponent, 23 bits mantissa\n",
    "float64 |Double precision float: sign bit, 11 bits exponent, 52 bits mantissa\n",
    "complex_ |Shorthand for complex128.\n",
    "complex64 |Complex number, represented by two 32-bit floats\n",
    "complex128 |Complex number, represented by two 64-bit floats"
   ]
  },
  {
   "cell_type": "markdown",
   "id": "d46d4213-0155-4d39-9fc0-1628b4ffc18c",
   "metadata": {},
   "source": [
    "## Dygresja: pamięć zajmowana przez tablicę\n",
    "### `np.nbytes`\n",
    "\n",
    "Liczba bajtów zajęta przez jedną wartość danego typu:"
   ]
  },
  {
   "cell_type": "code",
   "execution_count": 33,
   "id": "497cc684-7e32-48e2-b61e-c13cf4bbf001",
   "metadata": {},
   "outputs": [
    {
     "data": {
      "text/plain": [
       "{numpy.bool_: 1,\n",
       " numpy.int8: 1,\n",
       " numpy.uint8: 1,\n",
       " numpy.int16: 2,\n",
       " numpy.uint16: 2,\n",
       " numpy.intc: 4,\n",
       " numpy.uintc: 4,\n",
       " numpy.int64: 8,\n",
       " numpy.uint64: 8,\n",
       " numpy.int32: 4,\n",
       " numpy.uint32: 4,\n",
       " numpy.float16: 2,\n",
       " numpy.float32: 4,\n",
       " numpy.float64: 8,\n",
       " numpy.longdouble: 8,\n",
       " numpy.complex64: 8,\n",
       " numpy.complex128: 16,\n",
       " numpy.clongdouble: 16,\n",
       " numpy.object_: 8,\n",
       " numpy.bytes_: 0,\n",
       " numpy.str_: 0,\n",
       " numpy.void: 0,\n",
       " numpy.datetime64: 8,\n",
       " numpy.timedelta64: 8}"
      ]
     },
     "execution_count": 33,
     "metadata": {},
     "output_type": "execute_result"
    }
   ],
   "source": [
    "np.nbytes"
   ]
  },
  {
   "cell_type": "code",
   "execution_count": 34,
   "id": "a122f73f-a295-42f0-b3c9-b49be08424db",
   "metadata": {},
   "outputs": [
    {
     "data": {
      "text/plain": [
       "array([[1, 2, 3]])"
      ]
     },
     "execution_count": 34,
     "metadata": {},
     "output_type": "execute_result"
    }
   ],
   "source": [
    "a = np.array([[1, 2, 3]])\n",
    "a"
   ]
  },
  {
   "cell_type": "code",
   "execution_count": 35,
   "id": "bf1c3c27-1428-45a6-aacc-6d69446b3d08",
   "metadata": {},
   "outputs": [
    {
     "data": {
      "text/plain": [
       "dtype('int32')"
      ]
     },
     "execution_count": 35,
     "metadata": {},
     "output_type": "execute_result"
    }
   ],
   "source": [
    "a.dtype"
   ]
  },
  {
   "cell_type": "markdown",
   "id": "46e416c4-78cc-47c9-9dba-12b0004c08bb",
   "metadata": {},
   "source": [
    "`a.itemsize` -- wspólny rozmiar w bajtach pojedynczej wartości w tablicy `a`:"
   ]
  },
  {
   "cell_type": "code",
   "execution_count": 36,
   "id": "ebfb43a9-5929-4367-b449-00a23dc1ef4e",
   "metadata": {},
   "outputs": [
    {
     "data": {
      "text/plain": [
       "4"
      ]
     },
     "execution_count": 36,
     "metadata": {},
     "output_type": "execute_result"
    }
   ],
   "source": [
    "a.itemsize"
   ]
  },
  {
   "cell_type": "markdown",
   "id": "b50f90f9-ff94-47f2-b43a-d587844d9fe0",
   "metadata": {},
   "source": [
    "### `.nbytes`\n",
    "\n",
    "Liczba bajtów zajętych przez wartości tablicy:"
   ]
  },
  {
   "cell_type": "code",
   "execution_count": 37,
   "id": "0416d1c3-ca72-4c23-82d1-24d70d2adf30",
   "metadata": {},
   "outputs": [
    {
     "data": {
      "text/plain": [
       "12"
      ]
     },
     "execution_count": 37,
     "metadata": {},
     "output_type": "execute_result"
    }
   ],
   "source": [
    "a.nbytes"
   ]
  },
  {
   "cell_type": "markdown",
   "id": "96b183dc-174e-4452-8290-f2c239b2d619",
   "metadata": {},
   "source": [
    " - `itemsize` zwraca rozmiar (w bajtach) jednego elementu tablicy NumPy.\n",
    " - `nbytes` zwraca całkowitą ilość pamięci (w bajtach), jaką zajmuje tablica NumPy.\n",
    " - Funkcja `sys.getsizeof()` zwraca rozmiar (w bajtach) obiektu w Pythonie, obejmujący wewnętrzne struktury pamięci obiektu. Jest używana do sprawdzenia, ile pamięci zajmuje obiekt Pythonowy, wliczając narzut związany z zarządzaniem pamięcią przez Python."
   ]
  },
  {
   "cell_type": "markdown",
   "id": "9f270dd9-9a9a-4e00-b3fc-69b69911f570",
   "metadata": {},
   "source": [
    "### `sys.getsizeof()`\n",
    "\n",
    "Zwraca wielkość obiektu w bajtach:"
   ]
  },
  {
   "cell_type": "code",
   "execution_count": 39,
   "id": "d9cd5a63-a606-41d9-bcb6-61aca45c726c",
   "metadata": {},
   "outputs": [
    {
     "name": "stdout",
     "output_type": "stream",
     "text": [
      "4\n"
     ]
    }
   ],
   "source": [
    "a = np.array([1, 2, 3, 4, 5], dtype=np.int32)\n",
    "print(a.itemsize)  # Wyjście: 4 (każdy element zajmuje 4 bajty)"
   ]
  },
  {
   "cell_type": "code",
   "execution_count": 40,
   "id": "6b6af420-24cd-4f34-85fb-5b2f4f8d9d3e",
   "metadata": {},
   "outputs": [],
   "source": [
    "import sys"
   ]
  },
  {
   "cell_type": "code",
   "execution_count": 41,
   "id": "2fac5d00-2c81-422f-b741-b6d18014d4db",
   "metadata": {},
   "outputs": [
    {
     "data": {
      "text/plain": [
       "28"
      ]
     },
     "execution_count": 41,
     "metadata": {},
     "output_type": "execute_result"
    }
   ],
   "source": [
    "sys.getsizeof(1)"
   ]
  },
  {
   "cell_type": "code",
   "execution_count": 42,
   "id": "09ea169b-f226-4ae6-bee9-1b1e3d2f4ae1",
   "metadata": {},
   "outputs": [
    {
     "data": {
      "text/plain": [
       "120"
      ]
     },
     "execution_count": 42,
     "metadata": {},
     "output_type": "execute_result"
    }
   ],
   "source": [
    "sys.getsizeof([1, 2, 3, 4, 5])"
   ]
  },
  {
   "cell_type": "code",
   "execution_count": 44,
   "id": "1589849e-7e01-41d7-bbba-c6f7bcc94be8",
   "metadata": {},
   "outputs": [
    {
     "data": {
      "text/plain": [
       "1267650600228229401496703205376"
      ]
     },
     "execution_count": 44,
     "metadata": {},
     "output_type": "execute_result"
    }
   ],
   "source": [
    "2**100"
   ]
  },
  {
   "cell_type": "code",
   "execution_count": 43,
   "id": "58fb7fa3-e703-4520-94e7-5b2a3035ac0a",
   "metadata": {},
   "outputs": [
    {
     "data": {
      "text/plain": [
       "40"
      ]
     },
     "execution_count": 43,
     "metadata": {},
     "output_type": "execute_result"
    }
   ],
   "source": [
    "sys.getsizeof(2**100)"
   ]
  },
  {
   "cell_type": "code",
   "execution_count": 45,
   "id": "55fed572-842c-4532-b59c-c952a4ecb059",
   "metadata": {},
   "outputs": [
    {
     "data": {
      "text/plain": [
       "8"
      ]
     },
     "execution_count": 45,
     "metadata": {},
     "output_type": "execute_result"
    }
   ],
   "source": [
    "np.array(2**100).itemsize"
   ]
  },
  {
   "cell_type": "code",
   "execution_count": 46,
   "id": "d1ab0d63-337c-4893-bb07-234e7e7886e6",
   "metadata": {},
   "outputs": [
    {
     "data": {
      "text/plain": [
       "132"
      ]
     },
     "execution_count": 46,
     "metadata": {},
     "output_type": "execute_result"
    }
   ],
   "source": [
    "sys.getsizeof(a)"
   ]
  },
  {
   "cell_type": "markdown",
   "id": "6fb500c8-7b01-43bc-ab34-04897dfb97e4",
   "metadata": {},
   "source": [
    "Metadane tablicy nieznacznie zwiększają jej rzeczywisty rozmiar:"
   ]
  },
  {
   "cell_type": "code",
   "execution_count": 47,
   "id": "869dab82-06f0-4158-96c5-12570730b311",
   "metadata": {},
   "outputs": [
    {
     "name": "stdout",
     "output_type": "stream",
     "text": [
      "Tablica                  Mem wartości   Mem obiektu\n",
      "array([], dtype=float64) 0              112       \n",
      "array([0])               4              116       \n",
      "array([0, 1])            8              120       \n",
      "array([0, 1, 2])         12             124       \n",
      "array([0, 1, 2, 3])      16             128       \n",
      "array([0, 1, 2, 3, 4])   20             132       \n"
     ]
    }
   ],
   "source": [
    "print('{:<25}{:<15}{:<10}'.format('Tablica', 'Mem wartości', 'Mem obiektu'))\n",
    "\n",
    "for k in range(6):\n",
    "    a = np.array(range(k))\n",
    "    print('{!r:<25}{:<15}{:<10}'.format(a, a.nbytes, sys.getsizeof(a)))"
   ]
  },
  {
   "cell_type": "code",
   "execution_count": 49,
   "id": "79a86e14-65a3-4907-9c6e-732429ffb6a2",
   "metadata": {},
   "outputs": [
    {
     "data": {
      "text/plain": [
       "20"
      ]
     },
     "execution_count": 49,
     "metadata": {},
     "output_type": "execute_result"
    }
   ],
   "source": [
    "a.nbytes"
   ]
  },
  {
   "cell_type": "code",
   "execution_count": 51,
   "id": "01ca0e99-80ac-42aa-922f-a1ae1ad059f6",
   "metadata": {},
   "outputs": [
    {
     "data": {
      "text/plain": [
       "array([   0,    1,    2, ..., 1997, 1998, 1999])"
      ]
     },
     "execution_count": 51,
     "metadata": {},
     "output_type": "execute_result"
    }
   ],
   "source": [
    "a = np.array(range(2000))\n",
    "a"
   ]
  },
  {
   "cell_type": "code",
   "execution_count": 52,
   "id": "a5061e7d-fab3-4425-a4c6-d3cddb8dfd0f",
   "metadata": {},
   "outputs": [
    {
     "data": {
      "text/plain": [
       "4"
      ]
     },
     "execution_count": 52,
     "metadata": {},
     "output_type": "execute_result"
    }
   ],
   "source": [
    "a.itemsize"
   ]
  },
  {
   "cell_type": "code",
   "execution_count": 53,
   "id": "e113ea69-36c7-4f44-97ca-3f61942169d6",
   "metadata": {},
   "outputs": [
    {
     "data": {
      "text/plain": [
       "8000"
      ]
     },
     "execution_count": 53,
     "metadata": {},
     "output_type": "execute_result"
    }
   ],
   "source": [
    "a.nbytes"
   ]
  },
  {
   "cell_type": "code",
   "execution_count": 54,
   "id": "cc2a9fa7-b7d0-4542-bdcb-8c2ea846e556",
   "metadata": {},
   "outputs": [
    {
     "data": {
      "text/plain": [
       "8112"
      ]
     },
     "execution_count": 54,
     "metadata": {},
     "output_type": "execute_result"
    }
   ],
   "source": [
    "sys.getsizeof(a)"
   ]
  },
  {
   "cell_type": "markdown",
   "id": "25684155-d7b2-468e-a2cf-5830ff0e0011",
   "metadata": {},
   "source": [
    "##### dla listy w Python:"
   ]
  },
  {
   "cell_type": "code",
   "execution_count": 55,
   "id": "e1e6b02e-6b8d-4a5d-81e6-4e46a4afdc93",
   "metadata": {},
   "outputs": [
    {
     "data": {
      "text/plain": [
       "[0,\n",
       " 1,\n",
       " 2,\n",
       " 3,\n",
       " 4,\n",
       " 5,\n",
       " 6,\n",
       " 7,\n",
       " 8,\n",
       " 9,\n",
       " 10,\n",
       " 11,\n",
       " 12,\n",
       " 13,\n",
       " 14,\n",
       " 15,\n",
       " 16,\n",
       " 17,\n",
       " 18,\n",
       " 19,\n",
       " 20,\n",
       " 21,\n",
       " 22,\n",
       " 23,\n",
       " 24,\n",
       " 25,\n",
       " 26,\n",
       " 27,\n",
       " 28,\n",
       " 29,\n",
       " 30,\n",
       " 31,\n",
       " 32,\n",
       " 33,\n",
       " 34,\n",
       " 35,\n",
       " 36,\n",
       " 37,\n",
       " 38,\n",
       " 39,\n",
       " 40,\n",
       " 41,\n",
       " 42,\n",
       " 43,\n",
       " 44,\n",
       " 45,\n",
       " 46,\n",
       " 47,\n",
       " 48,\n",
       " 49,\n",
       " 50,\n",
       " 51,\n",
       " 52,\n",
       " 53,\n",
       " 54,\n",
       " 55,\n",
       " 56,\n",
       " 57,\n",
       " 58,\n",
       " 59,\n",
       " 60,\n",
       " 61,\n",
       " 62,\n",
       " 63,\n",
       " 64,\n",
       " 65,\n",
       " 66,\n",
       " 67,\n",
       " 68,\n",
       " 69,\n",
       " 70,\n",
       " 71,\n",
       " 72,\n",
       " 73,\n",
       " 74,\n",
       " 75,\n",
       " 76,\n",
       " 77,\n",
       " 78,\n",
       " 79,\n",
       " 80,\n",
       " 81,\n",
       " 82,\n",
       " 83,\n",
       " 84,\n",
       " 85,\n",
       " 86,\n",
       " 87,\n",
       " 88,\n",
       " 89,\n",
       " 90,\n",
       " 91,\n",
       " 92,\n",
       " 93,\n",
       " 94,\n",
       " 95,\n",
       " 96,\n",
       " 97,\n",
       " 98,\n",
       " 99,\n",
       " 100,\n",
       " 101,\n",
       " 102,\n",
       " 103,\n",
       " 104,\n",
       " 105,\n",
       " 106,\n",
       " 107,\n",
       " 108,\n",
       " 109,\n",
       " 110,\n",
       " 111,\n",
       " 112,\n",
       " 113,\n",
       " 114,\n",
       " 115,\n",
       " 116,\n",
       " 117,\n",
       " 118,\n",
       " 119,\n",
       " 120,\n",
       " 121,\n",
       " 122,\n",
       " 123,\n",
       " 124,\n",
       " 125,\n",
       " 126,\n",
       " 127,\n",
       " 128,\n",
       " 129,\n",
       " 130,\n",
       " 131,\n",
       " 132,\n",
       " 133,\n",
       " 134,\n",
       " 135,\n",
       " 136,\n",
       " 137,\n",
       " 138,\n",
       " 139,\n",
       " 140,\n",
       " 141,\n",
       " 142,\n",
       " 143,\n",
       " 144,\n",
       " 145,\n",
       " 146,\n",
       " 147,\n",
       " 148,\n",
       " 149,\n",
       " 150,\n",
       " 151,\n",
       " 152,\n",
       " 153,\n",
       " 154,\n",
       " 155,\n",
       " 156,\n",
       " 157,\n",
       " 158,\n",
       " 159,\n",
       " 160,\n",
       " 161,\n",
       " 162,\n",
       " 163,\n",
       " 164,\n",
       " 165,\n",
       " 166,\n",
       " 167,\n",
       " 168,\n",
       " 169,\n",
       " 170,\n",
       " 171,\n",
       " 172,\n",
       " 173,\n",
       " 174,\n",
       " 175,\n",
       " 176,\n",
       " 177,\n",
       " 178,\n",
       " 179,\n",
       " 180,\n",
       " 181,\n",
       " 182,\n",
       " 183,\n",
       " 184,\n",
       " 185,\n",
       " 186,\n",
       " 187,\n",
       " 188,\n",
       " 189,\n",
       " 190,\n",
       " 191,\n",
       " 192,\n",
       " 193,\n",
       " 194,\n",
       " 195,\n",
       " 196,\n",
       " 197,\n",
       " 198,\n",
       " 199,\n",
       " 200,\n",
       " 201,\n",
       " 202,\n",
       " 203,\n",
       " 204,\n",
       " 205,\n",
       " 206,\n",
       " 207,\n",
       " 208,\n",
       " 209,\n",
       " 210,\n",
       " 211,\n",
       " 212,\n",
       " 213,\n",
       " 214,\n",
       " 215,\n",
       " 216,\n",
       " 217,\n",
       " 218,\n",
       " 219,\n",
       " 220,\n",
       " 221,\n",
       " 222,\n",
       " 223,\n",
       " 224,\n",
       " 225,\n",
       " 226,\n",
       " 227,\n",
       " 228,\n",
       " 229,\n",
       " 230,\n",
       " 231,\n",
       " 232,\n",
       " 233,\n",
       " 234,\n",
       " 235,\n",
       " 236,\n",
       " 237,\n",
       " 238,\n",
       " 239,\n",
       " 240,\n",
       " 241,\n",
       " 242,\n",
       " 243,\n",
       " 244,\n",
       " 245,\n",
       " 246,\n",
       " 247,\n",
       " 248,\n",
       " 249,\n",
       " 250,\n",
       " 251,\n",
       " 252,\n",
       " 253,\n",
       " 254,\n",
       " 255,\n",
       " 256,\n",
       " 257,\n",
       " 258,\n",
       " 259,\n",
       " 260,\n",
       " 261,\n",
       " 262,\n",
       " 263,\n",
       " 264,\n",
       " 265,\n",
       " 266,\n",
       " 267,\n",
       " 268,\n",
       " 269,\n",
       " 270,\n",
       " 271,\n",
       " 272,\n",
       " 273,\n",
       " 274,\n",
       " 275,\n",
       " 276,\n",
       " 277,\n",
       " 278,\n",
       " 279,\n",
       " 280,\n",
       " 281,\n",
       " 282,\n",
       " 283,\n",
       " 284,\n",
       " 285,\n",
       " 286,\n",
       " 287,\n",
       " 288,\n",
       " 289,\n",
       " 290,\n",
       " 291,\n",
       " 292,\n",
       " 293,\n",
       " 294,\n",
       " 295,\n",
       " 296,\n",
       " 297,\n",
       " 298,\n",
       " 299,\n",
       " 300,\n",
       " 301,\n",
       " 302,\n",
       " 303,\n",
       " 304,\n",
       " 305,\n",
       " 306,\n",
       " 307,\n",
       " 308,\n",
       " 309,\n",
       " 310,\n",
       " 311,\n",
       " 312,\n",
       " 313,\n",
       " 314,\n",
       " 315,\n",
       " 316,\n",
       " 317,\n",
       " 318,\n",
       " 319,\n",
       " 320,\n",
       " 321,\n",
       " 322,\n",
       " 323,\n",
       " 324,\n",
       " 325,\n",
       " 326,\n",
       " 327,\n",
       " 328,\n",
       " 329,\n",
       " 330,\n",
       " 331,\n",
       " 332,\n",
       " 333,\n",
       " 334,\n",
       " 335,\n",
       " 336,\n",
       " 337,\n",
       " 338,\n",
       " 339,\n",
       " 340,\n",
       " 341,\n",
       " 342,\n",
       " 343,\n",
       " 344,\n",
       " 345,\n",
       " 346,\n",
       " 347,\n",
       " 348,\n",
       " 349,\n",
       " 350,\n",
       " 351,\n",
       " 352,\n",
       " 353,\n",
       " 354,\n",
       " 355,\n",
       " 356,\n",
       " 357,\n",
       " 358,\n",
       " 359,\n",
       " 360,\n",
       " 361,\n",
       " 362,\n",
       " 363,\n",
       " 364,\n",
       " 365,\n",
       " 366,\n",
       " 367,\n",
       " 368,\n",
       " 369,\n",
       " 370,\n",
       " 371,\n",
       " 372,\n",
       " 373,\n",
       " 374,\n",
       " 375,\n",
       " 376,\n",
       " 377,\n",
       " 378,\n",
       " 379,\n",
       " 380,\n",
       " 381,\n",
       " 382,\n",
       " 383,\n",
       " 384,\n",
       " 385,\n",
       " 386,\n",
       " 387,\n",
       " 388,\n",
       " 389,\n",
       " 390,\n",
       " 391,\n",
       " 392,\n",
       " 393,\n",
       " 394,\n",
       " 395,\n",
       " 396,\n",
       " 397,\n",
       " 398,\n",
       " 399,\n",
       " 400,\n",
       " 401,\n",
       " 402,\n",
       " 403,\n",
       " 404,\n",
       " 405,\n",
       " 406,\n",
       " 407,\n",
       " 408,\n",
       " 409,\n",
       " 410,\n",
       " 411,\n",
       " 412,\n",
       " 413,\n",
       " 414,\n",
       " 415,\n",
       " 416,\n",
       " 417,\n",
       " 418,\n",
       " 419,\n",
       " 420,\n",
       " 421,\n",
       " 422,\n",
       " 423,\n",
       " 424,\n",
       " 425,\n",
       " 426,\n",
       " 427,\n",
       " 428,\n",
       " 429,\n",
       " 430,\n",
       " 431,\n",
       " 432,\n",
       " 433,\n",
       " 434,\n",
       " 435,\n",
       " 436,\n",
       " 437,\n",
       " 438,\n",
       " 439,\n",
       " 440,\n",
       " 441,\n",
       " 442,\n",
       " 443,\n",
       " 444,\n",
       " 445,\n",
       " 446,\n",
       " 447,\n",
       " 448,\n",
       " 449,\n",
       " 450,\n",
       " 451,\n",
       " 452,\n",
       " 453,\n",
       " 454,\n",
       " 455,\n",
       " 456,\n",
       " 457,\n",
       " 458,\n",
       " 459,\n",
       " 460,\n",
       " 461,\n",
       " 462,\n",
       " 463,\n",
       " 464,\n",
       " 465,\n",
       " 466,\n",
       " 467,\n",
       " 468,\n",
       " 469,\n",
       " 470,\n",
       " 471,\n",
       " 472,\n",
       " 473,\n",
       " 474,\n",
       " 475,\n",
       " 476,\n",
       " 477,\n",
       " 478,\n",
       " 479,\n",
       " 480,\n",
       " 481,\n",
       " 482,\n",
       " 483,\n",
       " 484,\n",
       " 485,\n",
       " 486,\n",
       " 487,\n",
       " 488,\n",
       " 489,\n",
       " 490,\n",
       " 491,\n",
       " 492,\n",
       " 493,\n",
       " 494,\n",
       " 495,\n",
       " 496,\n",
       " 497,\n",
       " 498,\n",
       " 499,\n",
       " 500,\n",
       " 501,\n",
       " 502,\n",
       " 503,\n",
       " 504,\n",
       " 505,\n",
       " 506,\n",
       " 507,\n",
       " 508,\n",
       " 509,\n",
       " 510,\n",
       " 511,\n",
       " 512,\n",
       " 513,\n",
       " 514,\n",
       " 515,\n",
       " 516,\n",
       " 517,\n",
       " 518,\n",
       " 519,\n",
       " 520,\n",
       " 521,\n",
       " 522,\n",
       " 523,\n",
       " 524,\n",
       " 525,\n",
       " 526,\n",
       " 527,\n",
       " 528,\n",
       " 529,\n",
       " 530,\n",
       " 531,\n",
       " 532,\n",
       " 533,\n",
       " 534,\n",
       " 535,\n",
       " 536,\n",
       " 537,\n",
       " 538,\n",
       " 539,\n",
       " 540,\n",
       " 541,\n",
       " 542,\n",
       " 543,\n",
       " 544,\n",
       " 545,\n",
       " 546,\n",
       " 547,\n",
       " 548,\n",
       " 549,\n",
       " 550,\n",
       " 551,\n",
       " 552,\n",
       " 553,\n",
       " 554,\n",
       " 555,\n",
       " 556,\n",
       " 557,\n",
       " 558,\n",
       " 559,\n",
       " 560,\n",
       " 561,\n",
       " 562,\n",
       " 563,\n",
       " 564,\n",
       " 565,\n",
       " 566,\n",
       " 567,\n",
       " 568,\n",
       " 569,\n",
       " 570,\n",
       " 571,\n",
       " 572,\n",
       " 573,\n",
       " 574,\n",
       " 575,\n",
       " 576,\n",
       " 577,\n",
       " 578,\n",
       " 579,\n",
       " 580,\n",
       " 581,\n",
       " 582,\n",
       " 583,\n",
       " 584,\n",
       " 585,\n",
       " 586,\n",
       " 587,\n",
       " 588,\n",
       " 589,\n",
       " 590,\n",
       " 591,\n",
       " 592,\n",
       " 593,\n",
       " 594,\n",
       " 595,\n",
       " 596,\n",
       " 597,\n",
       " 598,\n",
       " 599,\n",
       " 600,\n",
       " 601,\n",
       " 602,\n",
       " 603,\n",
       " 604,\n",
       " 605,\n",
       " 606,\n",
       " 607,\n",
       " 608,\n",
       " 609,\n",
       " 610,\n",
       " 611,\n",
       " 612,\n",
       " 613,\n",
       " 614,\n",
       " 615,\n",
       " 616,\n",
       " 617,\n",
       " 618,\n",
       " 619,\n",
       " 620,\n",
       " 621,\n",
       " 622,\n",
       " 623,\n",
       " 624,\n",
       " 625,\n",
       " 626,\n",
       " 627,\n",
       " 628,\n",
       " 629,\n",
       " 630,\n",
       " 631,\n",
       " 632,\n",
       " 633,\n",
       " 634,\n",
       " 635,\n",
       " 636,\n",
       " 637,\n",
       " 638,\n",
       " 639,\n",
       " 640,\n",
       " 641,\n",
       " 642,\n",
       " 643,\n",
       " 644,\n",
       " 645,\n",
       " 646,\n",
       " 647,\n",
       " 648,\n",
       " 649,\n",
       " 650,\n",
       " 651,\n",
       " 652,\n",
       " 653,\n",
       " 654,\n",
       " 655,\n",
       " 656,\n",
       " 657,\n",
       " 658,\n",
       " 659,\n",
       " 660,\n",
       " 661,\n",
       " 662,\n",
       " 663,\n",
       " 664,\n",
       " 665,\n",
       " 666,\n",
       " 667,\n",
       " 668,\n",
       " 669,\n",
       " 670,\n",
       " 671,\n",
       " 672,\n",
       " 673,\n",
       " 674,\n",
       " 675,\n",
       " 676,\n",
       " 677,\n",
       " 678,\n",
       " 679,\n",
       " 680,\n",
       " 681,\n",
       " 682,\n",
       " 683,\n",
       " 684,\n",
       " 685,\n",
       " 686,\n",
       " 687,\n",
       " 688,\n",
       " 689,\n",
       " 690,\n",
       " 691,\n",
       " 692,\n",
       " 693,\n",
       " 694,\n",
       " 695,\n",
       " 696,\n",
       " 697,\n",
       " 698,\n",
       " 699,\n",
       " 700,\n",
       " 701,\n",
       " 702,\n",
       " 703,\n",
       " 704,\n",
       " 705,\n",
       " 706,\n",
       " 707,\n",
       " 708,\n",
       " 709,\n",
       " 710,\n",
       " 711,\n",
       " 712,\n",
       " 713,\n",
       " 714,\n",
       " 715,\n",
       " 716,\n",
       " 717,\n",
       " 718,\n",
       " 719,\n",
       " 720,\n",
       " 721,\n",
       " 722,\n",
       " 723,\n",
       " 724,\n",
       " 725,\n",
       " 726,\n",
       " 727,\n",
       " 728,\n",
       " 729,\n",
       " 730,\n",
       " 731,\n",
       " 732,\n",
       " 733,\n",
       " 734,\n",
       " 735,\n",
       " 736,\n",
       " 737,\n",
       " 738,\n",
       " 739,\n",
       " 740,\n",
       " 741,\n",
       " 742,\n",
       " 743,\n",
       " 744,\n",
       " 745,\n",
       " 746,\n",
       " 747,\n",
       " 748,\n",
       " 749,\n",
       " 750,\n",
       " 751,\n",
       " 752,\n",
       " 753,\n",
       " 754,\n",
       " 755,\n",
       " 756,\n",
       " 757,\n",
       " 758,\n",
       " 759,\n",
       " 760,\n",
       " 761,\n",
       " 762,\n",
       " 763,\n",
       " 764,\n",
       " 765,\n",
       " 766,\n",
       " 767,\n",
       " 768,\n",
       " 769,\n",
       " 770,\n",
       " 771,\n",
       " 772,\n",
       " 773,\n",
       " 774,\n",
       " 775,\n",
       " 776,\n",
       " 777,\n",
       " 778,\n",
       " 779,\n",
       " 780,\n",
       " 781,\n",
       " 782,\n",
       " 783,\n",
       " 784,\n",
       " 785,\n",
       " 786,\n",
       " 787,\n",
       " 788,\n",
       " 789,\n",
       " 790,\n",
       " 791,\n",
       " 792,\n",
       " 793,\n",
       " 794,\n",
       " 795,\n",
       " 796,\n",
       " 797,\n",
       " 798,\n",
       " 799,\n",
       " 800,\n",
       " 801,\n",
       " 802,\n",
       " 803,\n",
       " 804,\n",
       " 805,\n",
       " 806,\n",
       " 807,\n",
       " 808,\n",
       " 809,\n",
       " 810,\n",
       " 811,\n",
       " 812,\n",
       " 813,\n",
       " 814,\n",
       " 815,\n",
       " 816,\n",
       " 817,\n",
       " 818,\n",
       " 819,\n",
       " 820,\n",
       " 821,\n",
       " 822,\n",
       " 823,\n",
       " 824,\n",
       " 825,\n",
       " 826,\n",
       " 827,\n",
       " 828,\n",
       " 829,\n",
       " 830,\n",
       " 831,\n",
       " 832,\n",
       " 833,\n",
       " 834,\n",
       " 835,\n",
       " 836,\n",
       " 837,\n",
       " 838,\n",
       " 839,\n",
       " 840,\n",
       " 841,\n",
       " 842,\n",
       " 843,\n",
       " 844,\n",
       " 845,\n",
       " 846,\n",
       " 847,\n",
       " 848,\n",
       " 849,\n",
       " 850,\n",
       " 851,\n",
       " 852,\n",
       " 853,\n",
       " 854,\n",
       " 855,\n",
       " 856,\n",
       " 857,\n",
       " 858,\n",
       " 859,\n",
       " 860,\n",
       " 861,\n",
       " 862,\n",
       " 863,\n",
       " 864,\n",
       " 865,\n",
       " 866,\n",
       " 867,\n",
       " 868,\n",
       " 869,\n",
       " 870,\n",
       " 871,\n",
       " 872,\n",
       " 873,\n",
       " 874,\n",
       " 875,\n",
       " 876,\n",
       " 877,\n",
       " 878,\n",
       " 879,\n",
       " 880,\n",
       " 881,\n",
       " 882,\n",
       " 883,\n",
       " 884,\n",
       " 885,\n",
       " 886,\n",
       " 887,\n",
       " 888,\n",
       " 889,\n",
       " 890,\n",
       " 891,\n",
       " 892,\n",
       " 893,\n",
       " 894,\n",
       " 895,\n",
       " 896,\n",
       " 897,\n",
       " 898,\n",
       " 899,\n",
       " 900,\n",
       " 901,\n",
       " 902,\n",
       " 903,\n",
       " 904,\n",
       " 905,\n",
       " 906,\n",
       " 907,\n",
       " 908,\n",
       " 909,\n",
       " 910,\n",
       " 911,\n",
       " 912,\n",
       " 913,\n",
       " 914,\n",
       " 915,\n",
       " 916,\n",
       " 917,\n",
       " 918,\n",
       " 919,\n",
       " 920,\n",
       " 921,\n",
       " 922,\n",
       " 923,\n",
       " 924,\n",
       " 925,\n",
       " 926,\n",
       " 927,\n",
       " 928,\n",
       " 929,\n",
       " 930,\n",
       " 931,\n",
       " 932,\n",
       " 933,\n",
       " 934,\n",
       " 935,\n",
       " 936,\n",
       " 937,\n",
       " 938,\n",
       " 939,\n",
       " 940,\n",
       " 941,\n",
       " 942,\n",
       " 943,\n",
       " 944,\n",
       " 945,\n",
       " 946,\n",
       " 947,\n",
       " 948,\n",
       " 949,\n",
       " 950,\n",
       " 951,\n",
       " 952,\n",
       " 953,\n",
       " 954,\n",
       " 955,\n",
       " 956,\n",
       " 957,\n",
       " 958,\n",
       " 959,\n",
       " 960,\n",
       " 961,\n",
       " 962,\n",
       " 963,\n",
       " 964,\n",
       " 965,\n",
       " 966,\n",
       " 967,\n",
       " 968,\n",
       " 969,\n",
       " 970,\n",
       " 971,\n",
       " 972,\n",
       " 973,\n",
       " 974,\n",
       " 975,\n",
       " 976,\n",
       " 977,\n",
       " 978,\n",
       " 979,\n",
       " 980,\n",
       " 981,\n",
       " 982,\n",
       " 983,\n",
       " 984,\n",
       " 985,\n",
       " 986,\n",
       " 987,\n",
       " 988,\n",
       " 989,\n",
       " 990,\n",
       " 991,\n",
       " 992,\n",
       " 993,\n",
       " 994,\n",
       " 995,\n",
       " 996,\n",
       " 997,\n",
       " 998,\n",
       " 999,\n",
       " ...]"
      ]
     },
     "execution_count": 55,
     "metadata": {},
     "output_type": "execute_result"
    }
   ],
   "source": [
    "l = []\n",
    "for i in range(2000):\n",
    "    l.append(i)\n",
    "l"
   ]
  },
  {
   "cell_type": "code",
   "execution_count": 56,
   "id": "a32c5685-c0d6-4851-bee7-897dcf1be96b",
   "metadata": {},
   "outputs": [
    {
     "data": {
      "text/plain": [
       "16184"
      ]
     },
     "execution_count": 56,
     "metadata": {},
     "output_type": "execute_result"
    }
   ],
   "source": [
    "sys.getsizeof(l)"
   ]
  },
  {
   "cell_type": "code",
   "execution_count": 57,
   "id": "dcb9cc4c-24c6-46c2-897e-71f40d14a1f4",
   "metadata": {},
   "outputs": [
    {
     "data": {
      "text/plain": [
       "72180"
      ]
     },
     "execution_count": 57,
     "metadata": {},
     "output_type": "execute_result"
    }
   ],
   "source": [
    "sys.getsizeof(l) + sum(sys.getsizeof(item) for item in l)"
   ]
  },
  {
   "cell_type": "markdown",
   "id": "f906d245-6ad7-4c27-816f-aa988638bbf5",
   "metadata": {},
   "source": [
    "### Poprawne porównanie rozmiarów\n",
    "\n",
    "Aby porównać rozmiar zajmowanej pamięci przez listę i tablicę NumPy, powinniśmy użyć odpowiednich metod:\n",
    "- **Dla listy**: `sys.getsizeof(python_list) + sum(sys.getsizeof(item) for item in python_list)`\n",
    "- **Dla tablicy NumPy**: `sys.getsizeof(numpy_array)` dla samego obiektu oraz `numpy_array.nbytes` dla danych.\n",
    "\n",
    "### Wyniki i wyjaśnienie\n",
    "\n",
    "- **Lista Pythona**:\n",
    "  - `sys.getsizeof(python_list)`: rozmiar samej listy (narzut pamięciowy struktury listy).\n",
    "  - `sum(sys.getsizeof(item) for item in python_list)`: rozmiar wszystkich elementów (każdy element jest oddzielnym obiektem Pythona).\n",
    "\n",
    "- **Tablica NumPy**:\n",
    "  - `sys.getsizeof(numpy_array)`: narzut obiektu tablicy NumPy.\n",
    "  - `numpy_array.nbytes`: całkowity rozmiar danych przechowywanych w tablicy.\n",
    "\n",
    "Tablica NumPy będzie zazwyczaj bardziej efektywna pamięciowo niż lista Pythona ze względu na brak dodatkowego narzutu związanego z zarządzaniem indywidualnymi obiektami elementów.\n",
    "\n",
    "W Pythonie lista jest strukturą danych, która przechowuje referencje do obiektów, a nie same obiekty. Dlatego całkowita pamięć zajmowana przez listę obejmuje zarówno narzut związany z samą listą, jak i pamięć zajmowaną przez poszczególne elementy, do których lista odwołuje się przez referencje."
   ]
  },
  {
   "cell_type": "markdown",
   "id": "6247b5bb-f563-45ca-8124-e323d76e5ffc",
   "metadata": {},
   "source": [
    "### Morał\n",
    "\n",
    "Nawet proste wbudowane typy w Pythonie są złożonymi obiektami zawierającymi liczne dodatkowe dane. Dlatego zwykła lista obiektów ma duży rozmiar i skomplikowaną strukturę.\n",
    "\n",
    "Tablica NumPy odpowiada tablicy w języku C. Ma prostą strukturę, zajmuje jednorodny obszar pamięci, a wartości nie zawierają żadnych dodatkowych metadanych."
   ]
  },
  {
   "cell_type": "code",
   "execution_count": 58,
   "id": "a30aeb52-1b69-4a05-828d-0378d7312a56",
   "metadata": {},
   "outputs": [
    {
     "data": {
      "text/plain": [
       "array([   0,    1,    2, ..., 1997, 1998, 1999])"
      ]
     },
     "execution_count": 58,
     "metadata": {},
     "output_type": "execute_result"
    }
   ],
   "source": [
    "a"
   ]
  },
  {
   "cell_type": "markdown",
   "id": "5f1728a7-0ba0-4f5b-ab52-3968c89f86a0",
   "metadata": {},
   "source": [
    "## Atrybuty tablic\n",
    "\n",
    "* `.ndim` -- liczba wymiarów, liczba całkowita.\n",
    "* `.shape` -- rozmiar każdego z wymiarów, krotka liczb całkowitych.\n",
    "* `.size` -- całkowita liczba wartości, iloczyn wartości z krotki `.shape`."
   ]
  },
  {
   "cell_type": "code",
   "execution_count": 59,
   "id": "ff800577-1daf-4044-9b4a-d89bfcf2fc81",
   "metadata": {},
   "outputs": [
    {
     "data": {
      "text/plain": [
       "1"
      ]
     },
     "execution_count": 59,
     "metadata": {},
     "output_type": "execute_result"
    }
   ],
   "source": [
    "a.ndim"
   ]
  },
  {
   "cell_type": "code",
   "execution_count": 60,
   "id": "f8393502-5faf-47ea-aeee-8d2cb2ff10e2",
   "metadata": {},
   "outputs": [
    {
     "data": {
      "text/plain": [
       "(2000,)"
      ]
     },
     "execution_count": 60,
     "metadata": {},
     "output_type": "execute_result"
    }
   ],
   "source": [
    "a.shape"
   ]
  },
  {
   "cell_type": "code",
   "execution_count": 61,
   "id": "6829e9df-e70f-4534-9537-6130a1cfc2bc",
   "metadata": {},
   "outputs": [
    {
     "data": {
      "text/plain": [
       "2000"
      ]
     },
     "execution_count": 61,
     "metadata": {},
     "output_type": "execute_result"
    }
   ],
   "source": [
    "a.size"
   ]
  },
  {
   "cell_type": "markdown",
   "id": "35e25839-fb46-4d3f-aea9-3661f53717ef",
   "metadata": {},
   "source": [
    "## Tworzenie tablic z niczego\n",
    "\n",
    "* `np.zeroes()`\n",
    "* `np.ones()`\n",
    "* `np.full()`\n",
    "* `np.arange()`\n",
    "* `np.linspace()`\n",
    "* `np.random.random()`\n",
    "* `np.random.normal()`\n",
    "* `np.random.randint()`\n",
    "* `np.eye()`\n",
    "* i inne ..."
   ]
  },
  {
   "cell_type": "code",
   "execution_count": 66,
   "id": "557e1d3c-01bf-479c-8f05-5f562385f59b",
   "metadata": {},
   "outputs": [],
   "source": [
    "a = np.ones((3,2))"
   ]
  },
  {
   "cell_type": "code",
   "execution_count": 67,
   "id": "88bc3acf-d092-4f0d-b4c4-f12ec2875304",
   "metadata": {},
   "outputs": [
    {
     "data": {
      "text/plain": [
       "array([[1., 1.],\n",
       "       [1., 1.],\n",
       "       [1., 1.]])"
      ]
     },
     "execution_count": 67,
     "metadata": {},
     "output_type": "execute_result"
    }
   ],
   "source": [
    "a"
   ]
  },
  {
   "cell_type": "code",
   "execution_count": 68,
   "id": "8cd41176-9490-46e8-b376-d2f76a2c6710",
   "metadata": {},
   "outputs": [
    {
     "data": {
      "text/plain": [
       "(2, (3, 2), 6)"
      ]
     },
     "execution_count": 68,
     "metadata": {},
     "output_type": "execute_result"
    }
   ],
   "source": [
    "a.ndim, a.shape, a.size\n",
    "# ndim - liczba wymiarów, liczba całkowita\n",
    "# shape - rozmiar każdego z wymiarów, krotka liczb całkowitych \n",
    "# size całkowita liczba wartości, iloczyn wartości z krotki shape"
   ]
  },
  {
   "cell_type": "code",
   "execution_count": 69,
   "id": "ca29aec7-5145-432a-81fa-f9ddfe6fc3f7",
   "metadata": {},
   "outputs": [
    {
     "data": {
      "text/plain": [
       "array([[[100, 100],\n",
       "        [100, 100]],\n",
       "\n",
       "       [[100, 100],\n",
       "        [100, 100]],\n",
       "\n",
       "       [[100, 100],\n",
       "        [100, 100]]])"
      ]
     },
     "execution_count": 69,
     "metadata": {},
     "output_type": "execute_result"
    }
   ],
   "source": [
    "a = np.full((3, 2, 2), 100)\n",
    "a"
   ]
  },
  {
   "cell_type": "code",
   "execution_count": 70,
   "id": "362ab9dc-a0a4-432e-b18f-ce2ffaf52bde",
   "metadata": {},
   "outputs": [
    {
     "data": {
      "text/plain": [
       "(3, (3, 2, 2), 12)"
      ]
     },
     "execution_count": 70,
     "metadata": {},
     "output_type": "execute_result"
    }
   ],
   "source": [
    "a.ndim, a.shape, a.size"
   ]
  },
  {
   "cell_type": "markdown",
   "id": "168fa77e-816d-486e-8c4c-7981e1b165fc",
   "metadata": {},
   "source": [
    "## Indeksowanie: dostęp do pojedynczych elementów"
   ]
  },
  {
   "cell_type": "code",
   "execution_count": 73,
   "id": "5a06f26f-1f4f-47d1-b931-588c71726fed",
   "metadata": {},
   "outputs": [
    {
     "data": {
      "text/plain": [
       "array([10, 11, 12, 13, 14, 15, 16, 17, 18, 19])"
      ]
     },
     "execution_count": 73,
     "metadata": {},
     "output_type": "execute_result"
    }
   ],
   "source": [
    "a = np.arange(10, 20)\n",
    "a"
   ]
  },
  {
   "cell_type": "code",
   "execution_count": 74,
   "id": "b6aba0f6-8b87-49d5-a099-482ecf448b31",
   "metadata": {},
   "outputs": [
    {
     "data": {
      "text/plain": [
       "(10, 11, 19, 18)"
      ]
     },
     "execution_count": 74,
     "metadata": {},
     "output_type": "execute_result"
    }
   ],
   "source": [
    "a[0], a[1], a[-1], a[-2]"
   ]
  },
  {
   "cell_type": "code",
   "execution_count": 75,
   "id": "fc7429bc-6e7b-4810-af1f-954ed246d0fc",
   "metadata": {},
   "outputs": [
    {
     "data": {
      "text/plain": [
       "array([[ 0,  1,  2,  3,  4],\n",
       "       [ 5,  6,  7,  8,  9],\n",
       "       [10, 11, 12, 13, 14],\n",
       "       [15, 16, 17, 18, 19]])"
      ]
     },
     "execution_count": 75,
     "metadata": {},
     "output_type": "execute_result"
    }
   ],
   "source": [
    "a = np.array([[ 0,  1,  2,  3,  4],\n",
    "              [ 5,  6,  7,  8,  9],\n",
    "              [10, 11, 12, 13, 14],\n",
    "              [15, 16, 17, 18, 19]])\n",
    "a"
   ]
  },
  {
   "cell_type": "code",
   "execution_count": 78,
   "id": "0c9dc75b-2a8e-4b50-bb4e-4bf1a21eb076",
   "metadata": {},
   "outputs": [
    {
     "data": {
      "text/plain": [
       "13"
      ]
     },
     "execution_count": 78,
     "metadata": {},
     "output_type": "execute_result"
    }
   ],
   "source": [
    "a[2,-2]"
   ]
  },
  {
   "cell_type": "markdown",
   "id": "f23e5298-47db-4d3a-ac7b-7945aaccc235",
   "metadata": {},
   "source": [
    "## Wycinki\n",
    "\n",
    "Składnia dla wycinków naśladuje tę wbudowaną w Pythona:\n",
    "\n",
    "```python\n",
    "a[start:stop:step]\n",
    "```"
   ]
  },
  {
   "cell_type": "code",
   "execution_count": 79,
   "id": "dc677563-0508-4f6b-a54d-0e81766ebf86",
   "metadata": {},
   "outputs": [
    {
     "data": {
      "text/plain": [
       "array([0, 1, 2, 3, 4, 5, 6, 7, 8, 9])"
      ]
     },
     "execution_count": 79,
     "metadata": {},
     "output_type": "execute_result"
    }
   ],
   "source": [
    "a = np.arange(10)\n",
    "a"
   ]
  },
  {
   "cell_type": "code",
   "execution_count": 81,
   "id": "87288110-761a-4165-9e3d-b2add5272ba5",
   "metadata": {},
   "outputs": [
    {
     "data": {
      "text/plain": [
       "array([1, 3, 5])"
      ]
     },
     "execution_count": 81,
     "metadata": {},
     "output_type": "execute_result"
    }
   ],
   "source": [
    "a[1:6:2]"
   ]
  },
  {
   "cell_type": "code",
   "execution_count": 84,
   "id": "c023007b-b767-496f-922b-0753873096c9",
   "metadata": {},
   "outputs": [
    {
     "data": {
      "text/plain": [
       "array([8, 9])"
      ]
     },
     "execution_count": 84,
     "metadata": {},
     "output_type": "execute_result"
    }
   ],
   "source": [
    "a[-2:]"
   ]
  },
  {
   "cell_type": "code",
   "execution_count": 87,
   "id": "85baa27b-9957-4594-9473-e348a321b3b8",
   "metadata": {},
   "outputs": [
    {
     "data": {
      "text/plain": [
       "array([9, 8, 7, 6, 5, 4, 3, 2, 1, 0])"
      ]
     },
     "execution_count": 87,
     "metadata": {},
     "output_type": "execute_result"
    }
   ],
   "source": [
    "a[::-1]"
   ]
  },
  {
   "cell_type": "markdown",
   "id": "0188fc30-e227-4642-a3a3-37061cb3b368",
   "metadata": {},
   "source": [
    "### Tablice wielowymiarowe"
   ]
  },
  {
   "cell_type": "code",
   "execution_count": 88,
   "id": "b34d989e-d571-4200-b44a-029dbc889d9a",
   "metadata": {},
   "outputs": [
    {
     "data": {
      "text/plain": [
       "array([[ 0,  1,  2,  3,  4],\n",
       "       [ 5,  6,  7,  8,  9],\n",
       "       [10, 11, 12, 13, 14],\n",
       "       [15, 16, 17, 18, 19]])"
      ]
     },
     "execution_count": 88,
     "metadata": {},
     "output_type": "execute_result"
    }
   ],
   "source": [
    "a = np.array([[ 0,  1,  2,  3,  4],\n",
    "              [ 5,  6,  7,  8,  9],\n",
    "              [10, 11, 12, 13, 14],\n",
    "              [15, 16, 17, 18, 19]])\n",
    "a"
   ]
  },
  {
   "cell_type": "code",
   "execution_count": 89,
   "id": "d928c53c-9bb3-4a11-8110-266727272528",
   "metadata": {},
   "outputs": [
    {
     "data": {
      "text/plain": [
       "array([[0, 1, 2, 3, 4],\n",
       "       [5, 6, 7, 8, 9]])"
      ]
     },
     "execution_count": 89,
     "metadata": {},
     "output_type": "execute_result"
    }
   ],
   "source": [
    "#Dwa pierwsze wiersze:\n",
    "a[:2]"
   ]
  },
  {
   "cell_type": "code",
   "execution_count": 90,
   "id": "22cee0be-8e72-43a2-bb47-a79c44529fe1",
   "metadata": {},
   "outputs": [
    {
     "data": {
      "text/plain": [
       "array([[11, 12, 13],\n",
       "       [16, 17, 18]])"
      ]
     },
     "execution_count": 90,
     "metadata": {},
     "output_type": "execute_result"
    }
   ],
   "source": [
    "a[-2:, 1:4]"
   ]
  },
  {
   "cell_type": "markdown",
   "id": "1a2c3e26-590c-47f2-9a54-6ccd93ed861d",
   "metadata": {},
   "source": [
    "## `.reshape()` -- zmiana kształtu tablicy"
   ]
  },
  {
   "cell_type": "code",
   "execution_count": 96,
   "id": "a8312a7e-4546-4467-abf2-1de844494117",
   "metadata": {},
   "outputs": [
    {
     "data": {
      "text/plain": [
       "array([[0, 1, 2],\n",
       "       [3, 4, 5],\n",
       "       [6, 7, 8]])"
      ]
     },
     "execution_count": 96,
     "metadata": {},
     "output_type": "execute_result"
    }
   ],
   "source": [
    "np.arange(9).reshape(3,3)"
   ]
  },
  {
   "cell_type": "code",
   "execution_count": 97,
   "id": "bb49d2c7-787c-4f78-9d38-7ecc3350133c",
   "metadata": {},
   "outputs": [
    {
     "data": {
      "text/plain": [
       "array([[[0]],\n",
       "\n",
       "       [[1]],\n",
       "\n",
       "       [[2]],\n",
       "\n",
       "       [[3]],\n",
       "\n",
       "       [[4]]])"
      ]
     },
     "execution_count": 97,
     "metadata": {},
     "output_type": "execute_result"
    }
   ],
   "source": [
    "# w zależności od potrzeb:\n",
    "np.arange(5).reshape(5, 1, 1)"
   ]
  },
  {
   "cell_type": "markdown",
   "id": "066ced83-b322-4044-9467-9292fd8eb721",
   "metadata": {},
   "source": [
    "## Funkcje uniwersalne (ufuncs), wektoryzacja\n",
    "\n",
    "Funkcja uniwersalna jest zwykłą funkcją jednej lub wielu zmiennych opakowaną mechanizmem wektoryzacji: wywołana na tablicy wywołuje się (wektoryzacja) na wszystkich jej elementach.\n",
    "\n",
    "Funkcje uniwersalne są bardzo wydajne czasowo."
   ]
  },
  {
   "cell_type": "code",
   "execution_count": 98,
   "id": "ad945874-8a5e-408b-a90f-f2dcc400b7da",
   "metadata": {},
   "outputs": [],
   "source": [
    "x = np.arange(5)\n",
    "y = np.arange(10, 15)"
   ]
  },
  {
   "cell_type": "code",
   "execution_count": 99,
   "id": "591c2861-053d-473f-8627-244bc29d8891",
   "metadata": {},
   "outputs": [
    {
     "data": {
      "text/plain": [
       "array([0, 1, 2, 3, 4])"
      ]
     },
     "execution_count": 99,
     "metadata": {},
     "output_type": "execute_result"
    }
   ],
   "source": [
    "x"
   ]
  },
  {
   "cell_type": "code",
   "execution_count": 100,
   "id": "ac7dc6bd-2c29-41b3-844c-4a8553b8e234",
   "metadata": {},
   "outputs": [
    {
     "data": {
      "text/plain": [
       "array([10, 11, 12, 13, 14])"
      ]
     },
     "execution_count": 100,
     "metadata": {},
     "output_type": "execute_result"
    }
   ],
   "source": [
    "y"
   ]
  },
  {
   "cell_type": "code",
   "execution_count": 101,
   "id": "3ff62996-c9c2-45e8-8c8a-2963c85e7cf9",
   "metadata": {},
   "outputs": [
    {
     "data": {
      "text/plain": [
       "array([10, 12, 14, 16, 18])"
      ]
     },
     "execution_count": 101,
     "metadata": {},
     "output_type": "execute_result"
    }
   ],
   "source": [
    "x + y"
   ]
  },
  {
   "cell_type": "code",
   "execution_count": 102,
   "id": "45a7ba57-32d6-40f8-ba75-d009635d4e96",
   "metadata": {},
   "outputs": [
    {
     "data": {
      "text/plain": [
       "array([ 0, 11, 24, 39, 56])"
      ]
     },
     "execution_count": 102,
     "metadata": {},
     "output_type": "execute_result"
    }
   ],
   "source": [
    "x * y"
   ]
  },
  {
   "cell_type": "code",
   "execution_count": 103,
   "id": "c3f63f7c-723b-4857-b40c-5c34058e888e",
   "metadata": {},
   "outputs": [
    {
     "data": {
      "text/plain": [
       "array([ 5. ,  7.5, 10. , 12.5, 15. ])"
      ]
     },
     "execution_count": 103,
     "metadata": {},
     "output_type": "execute_result"
    }
   ],
   "source": [
    "2*x + y/2"
   ]
  },
  {
   "cell_type": "markdown",
   "id": "59ceac58-8712-4754-bc9a-08ae9a6dd5a8",
   "metadata": {},
   "source": [
    "Narysujemy wykres funkcji $y=\\sin x$ na przedziale $[-2\\pi, 2\\pi]$:"
   ]
  },
  {
   "cell_type": "code",
   "execution_count": null,
   "id": "4a677a4e-4b85-4ada-93ab-74b1b3c63bfd",
   "metadata": {},
   "outputs": [],
   "source": [
    "!pip install matplotlib"
   ]
  },
  {
   "cell_type": "code",
   "execution_count": 108,
   "id": "e48fb1f3-0c50-463d-94ff-6d8e76c8fa09",
   "metadata": {},
   "outputs": [
    {
     "data": {
      "text/plain": [
       "array([0.   , 0.125, 0.25 , 0.375, 0.5  , 0.625, 0.75 , 0.875, 1.   ])"
      ]
     },
     "execution_count": 108,
     "metadata": {},
     "output_type": "execute_result"
    }
   ],
   "source": [
    "np.linspace(0,1,9)"
   ]
  },
  {
   "cell_type": "code",
   "execution_count": 110,
   "id": "768fbee1-758f-4f24-90cb-7e0961c36b0a",
   "metadata": {},
   "outputs": [
    {
     "data": {
      "text/plain": [
       "3.141592653589793"
      ]
     },
     "execution_count": 110,
     "metadata": {},
     "output_type": "execute_result"
    }
   ],
   "source": [
    "np.pi"
   ]
  },
  {
   "cell_type": "code",
   "execution_count": 109,
   "id": "362909f0-c253-469d-8c75-a02c5b001fd2",
   "metadata": {},
   "outputs": [
    {
     "data": {
      "text/plain": [
       "array([-6.28318531, -6.15625227, -6.02931923, -5.9023862 , -5.77545316,\n",
       "       -5.64852012, -5.52158709, -5.39465405, -5.26772102, -5.14078798,\n",
       "       -5.01385494, -4.88692191, -4.75998887, -4.63305583, -4.5061228 ,\n",
       "       -4.37918976, -4.25225672, -4.12532369, -3.99839065, -3.87145761,\n",
       "       -3.74452458, -3.61759154, -3.4906585 , -3.36372547, -3.23679243,\n",
       "       -3.10985939, -2.98292636, -2.85599332, -2.72906028, -2.60212725,\n",
       "       -2.47519421, -2.34826118, -2.22132814, -2.0943951 , -1.96746207,\n",
       "       -1.84052903, -1.71359599, -1.58666296, -1.45972992, -1.33279688,\n",
       "       -1.20586385, -1.07893081, -0.95199777, -0.82506474, -0.6981317 ,\n",
       "       -0.57119866, -0.44426563, -0.31733259, -0.19039955, -0.06346652,\n",
       "        0.06346652,  0.19039955,  0.31733259,  0.44426563,  0.57119866,\n",
       "        0.6981317 ,  0.82506474,  0.95199777,  1.07893081,  1.20586385,\n",
       "        1.33279688,  1.45972992,  1.58666296,  1.71359599,  1.84052903,\n",
       "        1.96746207,  2.0943951 ,  2.22132814,  2.34826118,  2.47519421,\n",
       "        2.60212725,  2.72906028,  2.85599332,  2.98292636,  3.10985939,\n",
       "        3.23679243,  3.36372547,  3.4906585 ,  3.61759154,  3.74452458,\n",
       "        3.87145761,  3.99839065,  4.12532369,  4.25225672,  4.37918976,\n",
       "        4.5061228 ,  4.63305583,  4.75998887,  4.88692191,  5.01385494,\n",
       "        5.14078798,  5.26772102,  5.39465405,  5.52158709,  5.64852012,\n",
       "        5.77545316,  5.9023862 ,  6.02931923,  6.15625227,  6.28318531])"
      ]
     },
     "execution_count": 109,
     "metadata": {},
     "output_type": "execute_result"
    }
   ],
   "source": [
    "np.linspace(-2*np.pi, 2*np.pi, 100)"
   ]
  },
  {
   "cell_type": "code",
   "execution_count": 114,
   "id": "fc5e8f9d-1db3-4c98-beed-cf1bc1db6989",
   "metadata": {},
   "outputs": [
    {
     "data": {
      "text/plain": [
       "array([ 2.44929360e-16,  1.26592454e-01,  2.51147987e-01,  3.71662456e-01,\n",
       "        4.86196736e-01,  5.92907929e-01,  6.90079011e-01,  7.76146464e-01,\n",
       "        8.49725430e-01,  9.09631995e-01,  9.54902241e-01,  9.84807753e-01,\n",
       "        9.98867339e-01,  9.96854776e-01,  9.78802446e-01,  9.45000819e-01,\n",
       "        8.95993774e-01,  8.32569855e-01,  7.55749574e-01,  6.66769001e-01,\n",
       "        5.67059864e-01,  4.58226522e-01,  3.42020143e-01,  2.20310533e-01,\n",
       "        9.50560433e-02, -3.17279335e-02, -1.58001396e-01, -2.81732557e-01,\n",
       "       -4.00930535e-01, -5.13677392e-01, -6.18158986e-01, -7.12694171e-01,\n",
       "       -7.95761841e-01, -8.66025404e-01, -9.22354294e-01, -9.63842159e-01,\n",
       "       -9.89821442e-01, -9.99874128e-01, -9.93838464e-01, -9.71811568e-01,\n",
       "       -9.34147860e-01, -8.81453363e-01, -8.14575952e-01, -7.34591709e-01,\n",
       "       -6.42787610e-01, -5.40640817e-01, -4.29794912e-01, -3.12033446e-01,\n",
       "       -1.89251244e-01, -6.34239197e-02,  6.34239197e-02,  1.89251244e-01,\n",
       "        3.12033446e-01,  4.29794912e-01,  5.40640817e-01,  6.42787610e-01,\n",
       "        7.34591709e-01,  8.14575952e-01,  8.81453363e-01,  9.34147860e-01,\n",
       "        9.71811568e-01,  9.93838464e-01,  9.99874128e-01,  9.89821442e-01,\n",
       "        9.63842159e-01,  9.22354294e-01,  8.66025404e-01,  7.95761841e-01,\n",
       "        7.12694171e-01,  6.18158986e-01,  5.13677392e-01,  4.00930535e-01,\n",
       "        2.81732557e-01,  1.58001396e-01,  3.17279335e-02, -9.50560433e-02,\n",
       "       -2.20310533e-01, -3.42020143e-01, -4.58226522e-01, -5.67059864e-01,\n",
       "       -6.66769001e-01, -7.55749574e-01, -8.32569855e-01, -8.95993774e-01,\n",
       "       -9.45000819e-01, -9.78802446e-01, -9.96854776e-01, -9.98867339e-01,\n",
       "       -9.84807753e-01, -9.54902241e-01, -9.09631995e-01, -8.49725430e-01,\n",
       "       -7.76146464e-01, -6.90079011e-01, -5.92907929e-01, -4.86196736e-01,\n",
       "       -3.71662456e-01, -2.51147987e-01, -1.26592454e-01, -2.44929360e-16])"
      ]
     },
     "execution_count": 114,
     "metadata": {},
     "output_type": "execute_result"
    }
   ],
   "source": [
    "np.sin(X)"
   ]
  },
  {
   "cell_type": "code",
   "execution_count": 105,
   "id": "815f6d66-f64c-4cb6-a5b7-307ac7a08093",
   "metadata": {},
   "outputs": [
    {
     "data": {
      "image/png": "[encoded data removed]",
      "text/plain": [
       "<Figure size 640x480 with 1 Axes>"
      ]
     },
     "metadata": {},
     "output_type": "display_data"
    }
   ],
   "source": [
    "from matplotlib import pyplot as plt\n",
    "%matplotlib inline\n",
    "# plt.style.use('seaborn-notebook')\n",
    "\n",
    "# 100 punktów równomiernego podziału\n",
    "X = np.linspace(-2*np.pi, 2*np.pi, 100)\n",
    "Y = np.sin(X) # ufunc!\n",
    "plt.plot(X, Y)\n",
    "plt.grid(ls=':')"
   ]
  },
  {
   "cell_type": "code",
   "execution_count": 115,
   "id": "0b61ccdc-c30c-4267-b39b-8745ff19e712",
   "metadata": {},
   "outputs": [
    {
     "data": {
      "text/plain": [
       "[<matplotlib.lines.Line2D at 0x2c9062f2a60>]"
      ]
     },
     "execution_count": 115,
     "metadata": {},
     "output_type": "execute_result"
    },
    {
     "data": {
      "image/png": "[encoded data removed]",
      "text/plain": [
       "<Figure size 640x480 with 1 Axes>"
      ]
     },
     "metadata": {},
     "output_type": "display_data"
    }
   ],
   "source": [
    "plt.plot(X, Y)"
   ]
  },
  {
   "cell_type": "markdown",
   "id": "9ba191b4-c88e-470e-a16f-375264e0d645",
   "metadata": {},
   "source": [
    "## Funkcje agregujące\n",
    "\n",
    "* `np.sum()`\n",
    "* `n.min()`, `np.max()`\n",
    "* `np.mean()`\n",
    "* `np.median()`\n",
    "* `np.std()`\n",
    "* `np.var()`\n",
    "* i wiele innych ..."
   ]
  },
  {
   "cell_type": "code",
   "execution_count": 116,
   "id": "92c6ead5-535b-4772-abee-6c8c81353af1",
   "metadata": {},
   "outputs": [
    {
     "data": {
      "text/plain": [
       "array([[ 0,  1,  2,  3,  4,  5,  6,  7],\n",
       "       [ 8,  9, 10, 11, 12, 13, 14, 15],\n",
       "       [16, 17, 18, 19, 20, 21, 22, 23],\n",
       "       [24, 25, 26, 27, 28, 29, 30, 31]])"
      ]
     },
     "execution_count": 116,
     "metadata": {},
     "output_type": "execute_result"
    }
   ],
   "source": [
    "a = np.arange(32).reshape((4, 8))\n",
    "a"
   ]
  },
  {
   "cell_type": "code",
   "execution_count": 118,
   "id": "703c8ccf-aa87-419d-a625-4d5cad5e8a27",
   "metadata": {},
   "outputs": [
    {
     "data": {
      "text/plain": [
       "array([24, 25, 26, 27, 28, 29, 30, 31])"
      ]
     },
     "execution_count": 118,
     "metadata": {},
     "output_type": "execute_result"
    }
   ],
   "source": [
    "np.max(a, axis=0) # max w kolumnach"
   ]
  },
  {
   "cell_type": "code",
   "execution_count": 119,
   "id": "afd3cf90-db3d-4e18-ab36-650a6ce37ae9",
   "metadata": {},
   "outputs": [
    {
     "data": {
      "text/plain": [
       "array([ 7, 15, 23, 31])"
      ]
     },
     "execution_count": 119,
     "metadata": {},
     "output_type": "execute_result"
    }
   ],
   "source": [
    "np.max(a, axis=1) # max w wierszach"
   ]
  },
  {
   "cell_type": "code",
   "execution_count": 121,
   "id": "4425af0d-168d-4843-8102-802642b5768d",
   "metadata": {},
   "outputs": [
    {
     "data": {
      "text/plain": [
       "array([12., 13., 14., 15., 16., 17., 18., 19.])"
      ]
     },
     "execution_count": 121,
     "metadata": {},
     "output_type": "execute_result"
    }
   ],
   "source": [
    "np.mean(a, axis=0)"
   ]
  }
 ],
 "metadata": {
  "kernelspec": {
   "display_name": "Python 3 (ipykernel)",
   "language": "python",
   "name": "python3"
  },
  "language_info": {
   "codemirror_mode": {
    "name": "ipython",
    "version": 3
   },
   "file_extension": ".py",
   "mimetype": "text/x-python",
   "name": "python",
   "nbconvert_exporter": "python",
   "pygments_lexer": "ipython3",
   "version": "3.9.20"
  }
 },
 "nbformat": 4,
 "nbformat_minor": 5
}
