{
 "cells": [
  {
   "cell_type": "markdown",
   "id": "b2849e6c",
   "metadata": {},
   "source": [
    "### 4.NumPy - biblioteka do obliczeń numerycznych\n",
    "\n",
    "- Podstawy obliczeń numerycznych\n",
    "- Porównanie szybkości z czystym Pythonem\n",
    "- Kluczowe różnice pomiędzy tablicami Numpy i listami pythonowymi\n",
    "- Typowe operacje na wektorach i macierzach\n",
    "- Algebra liniowa"
   ]
  },
  {
   "cell_type": "markdown",
   "id": "458d511d",
   "metadata": {},
   "source": [
    "NumPy, czyli Numerical Python, to biblioteka programistyczna w języku Python, która dostarcza wsparcie dla efektywnych operacji numerycznych, zwłaszcza na dużych tablicach i macierzach danych. Jest jednym z podstawowych narzędzi w dziedzinie naukowych obliczeń i analizy danych w języku Python.\n",
    "\n",
    "Główne cechy i funkcje biblioteki NumPy:\n",
    "\n",
    "1. Tablice wielowymiarowe: NumPy wprowadza nowy typ danych, znany jako **\"array\" (tablica)**, który pozwala na przechowywanie i operowanie danymi wielowymiarowymi. Tablice w NumPy są bardziej wydajne niż standardowe listy w Pythonie i pozwalają na efektywne wykonywanie operacji matematycznych i statystycznych na danych.\n",
    "\n",
    "2. Efektywne operacje numeryczne: NumPy dostarcza wiele wbudowanych funkcji i operacji, takich jak **dodawanie, mnożenie, podnoszenie do potęgi, funkcje trygonometryczne itp.**, które działają efektywnie na dużych zbiorach danych.\n",
    "\n",
    "3. **Broadcasting**: NumPy umożliwia wykonywanie operacji na tablicach o różnych kształtach, co jest nazywane \"broadcasting\". Dzięki temu można wygodnie operować na danych o różnych wymiarach, a NumPy automatycznie dostosowuje kształt tablic.\n",
    "\n",
    "4. Indeksowanie i wycinanie: NumPy oferuje zaawansowane możliwości indeksowania i wycinania danych z tablic, co pozwala na dostęp do konkretnych elementów lub podtablic z dużą precyzją.\n",
    "\n",
    "5. Losowanie liczb: Biblioteka umożliwia generowanie losowych liczb o różnych rozkładach, co jest przydatne w symulacjach i analizach statystycznych.\n",
    "\n",
    "6. Integracja z innymi bibliotekami: NumPy jest często używany w połączeniu z innymi bibliotekami do naukowych obliczeń i analizy danych, takimi jak SciPy, pandas, matplotlib i scikit-learn.\n",
    "\n",
    "7. Obsługa danych brakujących: NumPy ma wbudowane funkcje do pracy z danymi brakującymi, co jest istotne w analizie danych.\n",
    "\n",
    "8. Obsługa danych binarnych: Możesz używać NumPy do operacji na danych binarnych, takich jak obrazy, dźwięk czy pliki binarne.\n",
    "\n",
    "NumPy jest nieodzowną biblioteką w ekosystemie naukowych obliczeń w języku Python. Dzięki niej programiści i naukowcy danych mogą wygodnie manipulować dużymi zbiorami danych numerycznych i wykonywać zaawansowane operacje matematyczne. W połączeniu z innymi narzędziami do analizy danych i wizualizacji, NumPy stanowi solidną podstawę dla wielu projektów związanych z naukowymi obliczeniami i analizą danych."
   ]
  },
  {
   "cell_type": "markdown",
   "id": "c76a9258",
   "metadata": {},
   "source": [
    "## NumPy\n",
    "\n",
    "Dokumentacja: [https://NumPy.org/doc/](https://NumPy.org/doc/)\n",
    "\n",
    "Biblioteka do przetwarzania numerycznego dużych wielowymiarowych tablic liczbowych. \n",
    "\n",
    "Typowy import:"
   ]
  },
  {
   "cell_type": "markdown",
   "id": "7359daf2",
   "metadata": {},
   "source": [
    "- Strona biblioteki: https://numpy.org/\n",
    "- Dokumentacja: https://numpy.org/doc/\n",
    "-  ---\n",
    "- Podstawowa biblioteka do obliczeń numerycznych w języku Python.\n",
    "\n",
    "- Aby zainstalować bibliotekę NumPy, użyj polecenia poniżej:\n",
    "\n",
    "```python\n",
    "pip install numpy\n",
    "```"
   ]
  },
  {
   "cell_type": "code",
   "execution_count": null,
   "id": "1e3d7a57",
   "metadata": {},
   "outputs": [],
   "source": [
    "# !pip install numpy"
   ]
  },
  {
   "cell_type": "code",
   "execution_count": 1,
   "id": "f0899d92",
   "metadata": {},
   "outputs": [
    {
     "data": {
      "text/plain": [
       "'1.24.4'"
      ]
     },
     "execution_count": 1,
     "metadata": {},
     "output_type": "execute_result"
    }
   ],
   "source": [
    "import numpy as np\n",
    "np.__version__"
   ]
  },
  {
   "cell_type": "markdown",
   "id": "002aed25",
   "metadata": {},
   "source": [
    "## `np.ndarray`\n",
    "\n",
    "\n",
    "* Reprezentuje jedno lub wielowymiarową tablicę wartości. Jest to podstawowa klasa definiowana przez bibliotekę.\n",
    "* Wszystkie wartości w tablicy musza być tego samego typu, czyli `np.ndarray` jest tablicą jednorodną (homogeniczną) .\n",
    "* Każda wartość zajmuje tę samą określoną przez typ porcję pamięci."
   ]
  },
  {
   "cell_type": "markdown",
   "id": "06e4d653",
   "metadata": {},
   "source": [
    "## `np.array()`\n",
    "\n",
    "Tworzy tablice z \"tablicopodobnych\" obiektów, np. z list:"
   ]
  },
  {
   "cell_type": "code",
   "execution_count": 5,
   "id": "db12f97f",
   "metadata": {},
   "outputs": [],
   "source": [
    "#print(dir(np))"
   ]
  },
  {
   "cell_type": "code",
   "execution_count": 8,
   "id": "072fbc58",
   "metadata": {},
   "outputs": [
    {
     "data": {
      "text/plain": [
       "array([1, 2, 3])"
      ]
     },
     "execution_count": 8,
     "metadata": {},
     "output_type": "execute_result"
    }
   ],
   "source": [
    "a = np.array([1, 2, 3])\n",
    "a"
   ]
  },
  {
   "cell_type": "code",
   "execution_count": 9,
   "id": "899e00aa",
   "metadata": {},
   "outputs": [
    {
     "data": {
      "text/plain": [
       "numpy.ndarray"
      ]
     },
     "execution_count": 9,
     "metadata": {},
     "output_type": "execute_result"
    }
   ],
   "source": [
    "type(a)"
   ]
  },
  {
   "cell_type": "markdown",
   "id": "e4f33ccc",
   "metadata": {},
   "source": [
    "## `dtype`\n",
    "\n",
    "Wspólny typ dla wszystkich wartości w tablicy:"
   ]
  },
  {
   "cell_type": "code",
   "execution_count": 19,
   "id": "744ca30e",
   "metadata": {},
   "outputs": [
    {
     "data": {
      "text/plain": [
       "dtype('int32')"
      ]
     },
     "execution_count": 19,
     "metadata": {},
     "output_type": "execute_result"
    }
   ],
   "source": [
    "a = np.array([1, 2, 3])\n",
    "a.dtype"
   ]
  },
  {
   "cell_type": "code",
   "execution_count": 20,
   "id": "bf8cb259",
   "metadata": {},
   "outputs": [
    {
     "data": {
      "text/plain": [
       "dtype('float64')"
      ]
     },
     "execution_count": 20,
     "metadata": {},
     "output_type": "execute_result"
    }
   ],
   "source": [
    "a = np.array([1.5, 2, 3.14])\n",
    "a.dtype"
   ]
  },
  {
   "cell_type": "markdown",
   "id": "ed3140f3",
   "metadata": {},
   "source": [
    "Automatyczne rozszerzanie typu:"
   ]
  },
  {
   "cell_type": "code",
   "execution_count": 21,
   "id": "b35cf03b",
   "metadata": {},
   "outputs": [
    {
     "data": {
      "text/plain": [
       "array([1. , 2. , 3. , 4.5])"
      ]
     },
     "execution_count": 21,
     "metadata": {},
     "output_type": "execute_result"
    }
   ],
   "source": [
    "a = np.array([1, 2, 3, 4.5])\n",
    "a"
   ]
  },
  {
   "cell_type": "code",
   "execution_count": 22,
   "id": "9258ebce",
   "metadata": {},
   "outputs": [
    {
     "data": {
      "text/plain": [
       "dtype('float64')"
      ]
     },
     "execution_count": 22,
     "metadata": {},
     "output_type": "execute_result"
    }
   ],
   "source": [
    "a.dtype"
   ]
  },
  {
   "cell_type": "markdown",
   "id": "89940501",
   "metadata": {},
   "source": [
    "Zadawanie konkretnego typu:"
   ]
  },
  {
   "cell_type": "code",
   "execution_count": 23,
   "id": "347715ee",
   "metadata": {},
   "outputs": [
    {
     "data": {
      "text/plain": [
       "array([1., 2., 3.])"
      ]
     },
     "execution_count": 23,
     "metadata": {},
     "output_type": "execute_result"
    }
   ],
   "source": [
    "a = np.array([1, 2, 3], dtype='float64')\n",
    "a"
   ]
  },
  {
   "cell_type": "code",
   "execution_count": 24,
   "id": "8291038e",
   "metadata": {},
   "outputs": [
    {
     "data": {
      "text/plain": [
       "dtype('float64')"
      ]
     },
     "execution_count": 24,
     "metadata": {},
     "output_type": "execute_result"
    }
   ],
   "source": [
    "a.dtype"
   ]
  },
  {
   "cell_type": "markdown",
   "id": "7e35561e",
   "metadata": {},
   "source": [
    "Zawężanie typu:"
   ]
  },
  {
   "cell_type": "code",
   "execution_count": 25,
   "id": "c2c935de",
   "metadata": {},
   "outputs": [
    {
     "data": {
      "text/plain": [
       "array([1, 2, 3])"
      ]
     },
     "execution_count": 25,
     "metadata": {},
     "output_type": "execute_result"
    }
   ],
   "source": [
    "a = np.array([1.6, 2.1, 3], dtype='int32')\n",
    "a"
   ]
  },
  {
   "cell_type": "code",
   "execution_count": 26,
   "id": "6d874f73",
   "metadata": {},
   "outputs": [
    {
     "data": {
      "text/plain": [
       "dtype('int32')"
      ]
     },
     "execution_count": 26,
     "metadata": {},
     "output_type": "execute_result"
    }
   ],
   "source": [
    "a.dtype"
   ]
  },
  {
   "cell_type": "markdown",
   "id": "d24dd65e",
   "metadata": {},
   "source": [
    "## NumPy: typy wbudowane\n",
    "\n",
    "Data type |Description\n",
    "---|---\n",
    "bool_ |Boolean (True or False) stored as a byte\n",
    "int_ |Default integer type (same as C long; normally either int64 or int32)\n",
    "intc |Identical to C int (normally int32 or int64)\n",
    "intp |Integer used for indexing (same as C ssize_t; normally either int32 or int64)\n",
    "int8 |Byte (-128 to 127)\n",
    "int16 |Integer (-32768 to 32767)\n",
    "int32 |Integer (-2147483648 to 2147483647)\n",
    "int64 |Integer (-9223372036854775808 to 9223372036854775807)\n",
    "uint8 |Unsigned integer (0 to 255)\n",
    "uint16 |Unsigned integer (0 to 65535)\n",
    "uint32 |Unsigned integer (0 to 4294967295)\n",
    "uint64 |Unsigned integer (0 to 18446744073709551615)\n",
    "float_ |Shorthand for float64.\n",
    "float16 |Half precision float: sign bit, 5 bits exponent, 10 bits mantissa\n",
    "float32 |Single precision float: sign bit, 8 bits exponent, 23 bits mantissa\n",
    "float64 |Double precision float: sign bit, 11 bits exponent, 52 bits mantissa\n",
    "complex_ |Shorthand for complex128.\n",
    "complex64 |Complex number, represented by two 32-bit floats\n",
    "complex128 |Complex number, represented by two 64-bit floats"
   ]
  },
  {
   "cell_type": "markdown",
   "id": "1045c9ce",
   "metadata": {},
   "source": [
    "## Dygresja: pamięć zajmowana przez tablicę\n",
    "### `np.nbytes`\n",
    "\n",
    "Liczba bajtów zajęta przez jedną wartość danego typu:"
   ]
  },
  {
   "cell_type": "code",
   "execution_count": 27,
   "id": "6f57d571",
   "metadata": {},
   "outputs": [
    {
     "data": {
      "text/plain": [
       "{numpy.bool_: 1,\n",
       " numpy.int8: 1,\n",
       " numpy.uint8: 1,\n",
       " numpy.int16: 2,\n",
       " numpy.uint16: 2,\n",
       " numpy.intc: 4,\n",
       " numpy.uintc: 4,\n",
       " numpy.int64: 8,\n",
       " numpy.uint64: 8,\n",
       " numpy.int32: 4,\n",
       " numpy.uint32: 4,\n",
       " numpy.float16: 2,\n",
       " numpy.float32: 4,\n",
       " numpy.float64: 8,\n",
       " numpy.longdouble: 8,\n",
       " numpy.complex64: 8,\n",
       " numpy.complex128: 16,\n",
       " numpy.clongdouble: 16,\n",
       " numpy.object_: 8,\n",
       " numpy.bytes_: 0,\n",
       " numpy.str_: 0,\n",
       " numpy.void: 0,\n",
       " numpy.datetime64: 8,\n",
       " numpy.timedelta64: 8}"
      ]
     },
     "execution_count": 27,
     "metadata": {},
     "output_type": "execute_result"
    }
   ],
   "source": [
    "np.nbytes"
   ]
  },
  {
   "cell_type": "code",
   "execution_count": 48,
   "id": "66d29e17",
   "metadata": {},
   "outputs": [
    {
     "data": {
      "text/plain": [
       "array([[1, 2, 3]])"
      ]
     },
     "execution_count": 48,
     "metadata": {},
     "output_type": "execute_result"
    }
   ],
   "source": [
    "a = np.array([[1, 2, 3]])\n",
    "a"
   ]
  },
  {
   "cell_type": "code",
   "execution_count": 49,
   "id": "8a68dad1",
   "metadata": {},
   "outputs": [
    {
     "data": {
      "text/plain": [
       "dtype('int32')"
      ]
     },
     "execution_count": 49,
     "metadata": {},
     "output_type": "execute_result"
    }
   ],
   "source": [
    "a.dtype"
   ]
  },
  {
   "cell_type": "markdown",
   "id": "d58b1e92",
   "metadata": {},
   "source": [
    "`a.itemsize` -- wspólny rozmiar w bajtach pojedynczej wartości w tablicy `a`:"
   ]
  },
  {
   "cell_type": "code",
   "execution_count": 50,
   "id": "fbd0f1ed",
   "metadata": {},
   "outputs": [
    {
     "data": {
      "text/plain": [
       "4"
      ]
     },
     "execution_count": 50,
     "metadata": {},
     "output_type": "execute_result"
    }
   ],
   "source": [
    "a.itemsize"
   ]
  },
  {
   "cell_type": "code",
   "execution_count": 51,
   "id": "e32b6bcd",
   "metadata": {},
   "outputs": [
    {
     "data": {
      "text/plain": [
       "array([[ 1. ,  2. ],\n",
       "       [-1.5,  3. ]])"
      ]
     },
     "execution_count": 51,
     "metadata": {},
     "output_type": "execute_result"
    }
   ],
   "source": [
    "a = np.array([[1, 2], [-1.5, 3]])\n",
    "a"
   ]
  },
  {
   "cell_type": "code",
   "execution_count": 52,
   "id": "f92840ca",
   "metadata": {},
   "outputs": [
    {
     "data": {
      "text/plain": [
       "dtype('float64')"
      ]
     },
     "execution_count": 52,
     "metadata": {},
     "output_type": "execute_result"
    }
   ],
   "source": [
    "a.dtype"
   ]
  },
  {
   "cell_type": "code",
   "execution_count": 53,
   "id": "55cc53dd",
   "metadata": {},
   "outputs": [
    {
     "data": {
      "text/plain": [
       "8"
      ]
     },
     "execution_count": 53,
     "metadata": {},
     "output_type": "execute_result"
    }
   ],
   "source": [
    "a.itemsize"
   ]
  },
  {
   "cell_type": "markdown",
   "id": "c19db810",
   "metadata": {},
   "source": [
    "### `.nbytes`\n",
    "\n",
    "Liczba bajtów zajętych przez wartości tablicy:"
   ]
  },
  {
   "cell_type": "code",
   "execution_count": 54,
   "id": "09177a9a",
   "metadata": {},
   "outputs": [
    {
     "data": {
      "text/plain": [
       "array([0, 1, 2, 3, 4, 5, 6, 7, 8, 9], dtype=int64)"
      ]
     },
     "execution_count": 54,
     "metadata": {},
     "output_type": "execute_result"
    }
   ],
   "source": [
    "a = np.array(range(10), dtype=np.int64)\n",
    "a"
   ]
  },
  {
   "cell_type": "code",
   "execution_count": 55,
   "id": "2b21c3ee",
   "metadata": {},
   "outputs": [
    {
     "data": {
      "text/plain": [
       "8"
      ]
     },
     "execution_count": 55,
     "metadata": {},
     "output_type": "execute_result"
    }
   ],
   "source": [
    "a.itemsize"
   ]
  },
  {
   "cell_type": "code",
   "execution_count": 56,
   "id": "13d43796",
   "metadata": {},
   "outputs": [
    {
     "data": {
      "text/plain": [
       "(80, 80)"
      ]
     },
     "execution_count": 56,
     "metadata": {},
     "output_type": "execute_result"
    }
   ],
   "source": [
    "a.nbytes, 10 * 8 # 10 wartości x 8 bajtów na każdą"
   ]
  },
  {
   "cell_type": "markdown",
   "id": "3ce80add",
   "metadata": {},
   "source": [
    "### `.astype()`\n",
    "\n",
    "Metoda konwertująca typ, zwraca kopię tablicy:"
   ]
  },
  {
   "cell_type": "code",
   "execution_count": 57,
   "id": "505d5596",
   "metadata": {},
   "outputs": [
    {
     "data": {
      "text/plain": [
       "array([0, 1, 2, 3, 4, 5, 6, 7, 8, 9], dtype=int16)"
      ]
     },
     "execution_count": 57,
     "metadata": {},
     "output_type": "execute_result"
    }
   ],
   "source": [
    "b = a.astype('int16')\n",
    "b"
   ]
  },
  {
   "cell_type": "code",
   "execution_count": 58,
   "id": "c0d8ae6e",
   "metadata": {},
   "outputs": [
    {
     "data": {
      "text/plain": [
       "2"
      ]
     },
     "execution_count": 58,
     "metadata": {},
     "output_type": "execute_result"
    }
   ],
   "source": [
    "b.itemsize #wspólny rozmiar w bajtach pojedynczej wartości w tablicy"
   ]
  },
  {
   "cell_type": "code",
   "execution_count": null,
   "id": "3cf14023",
   "metadata": {},
   "outputs": [],
   "source": [
    "b.nbytes"
   ]
  },
  {
   "cell_type": "code",
   "execution_count": 59,
   "id": "dcc24bca",
   "metadata": {},
   "outputs": [
    {
     "data": {
      "text/plain": [
       "(20, 20)"
      ]
     },
     "execution_count": 59,
     "metadata": {},
     "output_type": "execute_result"
    }
   ],
   "source": [
    "b.nbytes, 10 * 2"
   ]
  },
  {
   "cell_type": "markdown",
   "id": "1e4a3d57",
   "metadata": {},
   "source": [
    " - `itemsize` zwraca rozmiar (w bajtach) jednego elementu tablicy NumPy.\n",
    " - `nbytes` zwraca całkowitą ilość pamięci (w bajtach), jaką zajmuje tablica NumPy.\n",
    " - Funkcja `sys.getsizeof()` zwraca rozmiar (w bajtach) obiektu w Pythonie, obejmujący wewnętrzne struktury pamięci obiektu. Jest używana do sprawdzenia, ile pamięci zajmuje obiekt Pythonowy, wliczając narzut związany z zarządzaniem pamięcią przez Python."
   ]
  },
  {
   "cell_type": "markdown",
   "id": "d08eff25",
   "metadata": {},
   "source": [
    "### `sys.getsizeof()`\n",
    "\n",
    "Zwraca wielkość obiektu w bajtach:"
   ]
  },
  {
   "cell_type": "code",
   "execution_count": 73,
   "id": "bc49d562",
   "metadata": {},
   "outputs": [
    {
     "name": "stdout",
     "output_type": "stream",
     "text": [
      "4\n"
     ]
    }
   ],
   "source": [
    "a = np.array([1, 2, 3, 4, 5], dtype=np.int32)\n",
    "print(a.itemsize)  # Wyjście: 4 (każdy element zajmuje 4 bajty)"
   ]
  },
  {
   "cell_type": "code",
   "execution_count": 3,
   "id": "ea3ffbb0",
   "metadata": {},
   "outputs": [],
   "source": [
    "import numpy as np"
   ]
  },
  {
   "cell_type": "code",
   "execution_count": 4,
   "id": "696aadf7",
   "metadata": {},
   "outputs": [
    {
     "name": "stdout",
     "output_type": "stream",
     "text": [
      "20\n"
     ]
    }
   ],
   "source": [
    "a = np.array([1, 2, 3, 4, 5], dtype=np.int32)\n",
    "print(a.nbytes)  # Wyjście: 20 (5 elementów * 4 bajty na element)"
   ]
  },
  {
   "cell_type": "code",
   "execution_count": 4,
   "id": "6bdc4a61",
   "metadata": {},
   "outputs": [
    {
     "data": {
      "text/plain": [
       "24"
      ]
     },
     "execution_count": 4,
     "metadata": {},
     "output_type": "execute_result"
    }
   ],
   "source": [
    "import sys\n",
    "\n",
    "sys.getsizeof(0)"
   ]
  },
  {
   "cell_type": "code",
   "execution_count": 77,
   "id": "27e3a5f2",
   "metadata": {},
   "outputs": [
    {
     "data": {
      "text/plain": [
       "120"
      ]
     },
     "execution_count": 77,
     "metadata": {},
     "output_type": "execute_result"
    }
   ],
   "source": [
    "sys.getsizeof([1, 2, 3, 4, 5])"
   ]
  },
  {
   "cell_type": "code",
   "execution_count": 98,
   "id": "57fdbd9a",
   "metadata": {},
   "outputs": [
    {
     "data": {
      "text/plain": [
       "40"
      ]
     },
     "execution_count": 98,
     "metadata": {},
     "output_type": "execute_result"
    }
   ],
   "source": [
    "sys.getsizeof(2**100)"
   ]
  },
  {
   "cell_type": "code",
   "execution_count": 99,
   "id": "a7d65eac",
   "metadata": {},
   "outputs": [
    {
     "data": {
      "text/plain": [
       "8"
      ]
     },
     "execution_count": 99,
     "metadata": {},
     "output_type": "execute_result"
    }
   ],
   "source": [
    "np.array(2**100).itemsize"
   ]
  },
  {
   "cell_type": "markdown",
   "id": "c12a00cd",
   "metadata": {},
   "source": [
    "Metadane tablicy nieznacznie zwiększają jej rzeczywisty rozmiar:"
   ]
  },
  {
   "cell_type": "code",
   "execution_count": 116,
   "id": "04509e66",
   "metadata": {},
   "outputs": [
    {
     "name": "stdout",
     "output_type": "stream",
     "text": [
      "Tablica                  Mem wartości   Mem obiektu\n",
      "array([], dtype=float64) 0              112       \n",
      "array([0])               4              116       \n",
      "array([0, 1])            8              120       \n",
      "array([0, 1, 2])         12             124       \n",
      "array([0, 1, 2, 3])      16             128       \n",
      "array([0, 1, 2, 3, 4])   20             132       \n"
     ]
    }
   ],
   "source": [
    "print('{:<25}{:<15}{:<10}'.format('Tablica', 'Mem wartości', 'Mem obiektu'))\n",
    "\n",
    "for k in range(6):\n",
    "    a = np.array(range(k))\n",
    "    print('{!r:<25}{:<15}{:<10}'.format(a, a.nbytes, sys.getsizeof(a)))"
   ]
  },
  {
   "cell_type": "code",
   "execution_count": 7,
   "id": "6889e27a",
   "metadata": {
    "scrolled": true
   },
   "outputs": [
    {
     "data": {
      "text/plain": [
       "132"
      ]
     },
     "execution_count": 7,
     "metadata": {},
     "output_type": "execute_result"
    }
   ],
   "source": [
    "sys.getsizeof(a)"
   ]
  },
  {
   "cell_type": "code",
   "execution_count": 8,
   "id": "9f34c3af",
   "metadata": {},
   "outputs": [
    {
     "data": {
      "text/plain": [
       "20"
      ]
     },
     "execution_count": 8,
     "metadata": {},
     "output_type": "execute_result"
    }
   ],
   "source": [
    "a.nbytes"
   ]
  },
  {
   "cell_type": "code",
   "execution_count": null,
   "id": "b127fd26",
   "metadata": {},
   "outputs": [],
   "source": []
  },
  {
   "cell_type": "code",
   "execution_count": null,
   "id": "5ed4a911",
   "metadata": {},
   "outputs": [],
   "source": [
    "a = np.array(range(2*1000))\n",
    "a"
   ]
  },
  {
   "cell_type": "code",
   "execution_count": null,
   "id": "5651f2b3",
   "metadata": {},
   "outputs": [],
   "source": [
    "a.itemsize"
   ]
  },
  {
   "cell_type": "code",
   "execution_count": null,
   "id": "81be0f86",
   "metadata": {},
   "outputs": [],
   "source": [
    "a.nbytes"
   ]
  },
  {
   "cell_type": "code",
   "execution_count": null,
   "id": "c879f32e",
   "metadata": {},
   "outputs": [],
   "source": [
    "sys.getsizeof(a)"
   ]
  },
  {
   "cell_type": "markdown",
   "id": "02660aa1",
   "metadata": {},
   "source": [
    "##### dla listy w Python:"
   ]
  },
  {
   "cell_type": "code",
   "execution_count": 1,
   "id": "9b6841c1",
   "metadata": {},
   "outputs": [],
   "source": [
    "l = []\n",
    "for i in range(2*1000):\n",
    "    l.append(i)"
   ]
  },
  {
   "cell_type": "code",
   "execution_count": 2,
   "id": "693e0edf",
   "metadata": {},
   "outputs": [],
   "source": [
    "l = [i for i in range(2*1000)]"
   ]
  },
  {
   "cell_type": "code",
   "execution_count": 5,
   "id": "a1acbc71",
   "metadata": {},
   "outputs": [
    {
     "data": {
      "text/plain": [
       "16184"
      ]
     },
     "execution_count": 5,
     "metadata": {},
     "output_type": "execute_result"
    }
   ],
   "source": [
    "sys.getsizeof(l)"
   ]
  },
  {
   "cell_type": "code",
   "execution_count": 6,
   "id": "f3271772",
   "metadata": {},
   "outputs": [
    {
     "data": {
      "text/plain": [
       "72180"
      ]
     },
     "execution_count": 6,
     "metadata": {},
     "output_type": "execute_result"
    }
   ],
   "source": [
    "sys.getsizeof(l) + sum(sys.getsizeof(item) for item in l)"
   ]
  },
  {
   "cell_type": "markdown",
   "id": "313e8852",
   "metadata": {},
   "source": [
    "### Poprawne porównanie rozmiarów\n",
    "\n",
    "Aby porównać rozmiar zajmowanej pamięci przez listę i tablicę NumPy, powinniśmy użyć odpowiednich metod:\n",
    "- **Dla listy**: `sys.getsizeof(python_list) + sum(sys.getsizeof(item) for item in python_list)`\n",
    "- **Dla tablicy NumPy**: `sys.getsizeof(numpy_array)` dla samego obiektu oraz `numpy_array.nbytes` dla danych.\n",
    "\n",
    "### Wyniki i wyjaśnienie\n",
    "\n",
    "- **Lista Pythona**:\n",
    "  - `sys.getsizeof(python_list)`: rozmiar samej listy (narzut pamięciowy struktury listy).\n",
    "  - `sum(sys.getsizeof(item) for item in python_list)`: rozmiar wszystkich elementów (każdy element jest oddzielnym obiektem Pythona).\n",
    "\n",
    "- **Tablica NumPy**:\n",
    "  - `sys.getsizeof(numpy_array)`: narzut obiektu tablicy NumPy.\n",
    "  - `numpy_array.nbytes`: całkowity rozmiar danych przechowywanych w tablicy.\n",
    "\n",
    "Tablica NumPy będzie zazwyczaj bardziej efektywna pamięciowo niż lista Pythona ze względu na brak dodatkowego narzutu związanego z zarządzaniem indywidualnymi obiektami elementów.\n",
    "\n",
    "W Pythonie lista jest strukturą danych, która przechowuje referencje do obiektów, a nie same obiekty. Dlatego całkowita pamięć zajmowana przez listę obejmuje zarówno narzut związany z samą listą, jak i pamięć zajmowaną przez poszczególne elementy, do których lista odwołuje się przez referencje."
   ]
  },
  {
   "cell_type": "code",
   "execution_count": null,
   "id": "29f76f81",
   "metadata": {},
   "outputs": [],
   "source": []
  },
  {
   "cell_type": "markdown",
   "id": "05cffa32",
   "metadata": {},
   "source": [
    "### Morał\n",
    "\n",
    "Nawet proste wbudowane typy w Pythonie są złożonymi obiektami zawierającymi liczne dodatkowe dane. Dlatego zwykła lista obiektów ma duży rozmiar i skomplikowaną strukturę.\n",
    "\n",
    "Tablica NumPy odpowiada tablicy w języku C. Ma prostą strukturę, zajmuje jednorodny obszar pamięci, a wartości nie zawierają żadnych dodatkowych metadanych."
   ]
  },
  {
   "cell_type": "markdown",
   "id": "ccf606e7",
   "metadata": {},
   "source": [
    "## Atrybuty tablic\n",
    "\n",
    "* `.ndim` -- liczba wymiarów, liczba całkowita.\n",
    "* `.shape` -- rozmiar każdego z wymiarów, krotka liczb całkowitych.\n",
    "* `.size` -- całkowita liczba wartości, iloczyn wartości z krotki `.shape`."
   ]
  },
  {
   "cell_type": "code",
   "execution_count": 145,
   "id": "b25fe693",
   "metadata": {},
   "outputs": [
    {
     "data": {
      "text/plain": [
       "array([-10,  -8,  -6,  -4,  -2,   0,   2,   4,   6,   8])"
      ]
     },
     "execution_count": 145,
     "metadata": {},
     "output_type": "execute_result"
    }
   ],
   "source": [
    "a = np.arange(-10, 10, 2)\n",
    "a"
   ]
  },
  {
   "cell_type": "code",
   "execution_count": 146,
   "id": "4e1ef993",
   "metadata": {},
   "outputs": [
    {
     "data": {
      "text/plain": [
       "(1, (10,), 10)"
      ]
     },
     "execution_count": 146,
     "metadata": {},
     "output_type": "execute_result"
    }
   ],
   "source": [
    "a.ndim, a.shape, a.size"
   ]
  },
  {
   "cell_type": "markdown",
   "id": "d1c52f45",
   "metadata": {},
   "source": [
    "## Tworzenie tablic z niczego\n",
    "\n",
    "* `np.zeroes()`\n",
    "* `np.ones()`\n",
    "* `np.full()`\n",
    "* `np.arange()`\n",
    "* `np.linspace()`\n",
    "* `np.random.random()`\n",
    "* `np.random.normal()`\n",
    "* `np.random.randint()`\n",
    "* `np.eye()`\n",
    "* i inne ..."
   ]
  },
  {
   "cell_type": "markdown",
   "id": "23f37d5c",
   "metadata": {},
   "source": [
    "Tablica dwuwymiarowa o 6 elementach, 3 wiersze i dwie kolumny:"
   ]
  },
  {
   "cell_type": "code",
   "execution_count": 147,
   "id": "a43ad9da",
   "metadata": {},
   "outputs": [
    {
     "data": {
      "text/plain": [
       "array([[0., 0.],\n",
       "       [0., 0.],\n",
       "       [0., 0.]])"
      ]
     },
     "execution_count": 147,
     "metadata": {},
     "output_type": "execute_result"
    }
   ],
   "source": [
    "a = np.zeros((3, 2))\n",
    "a"
   ]
  },
  {
   "cell_type": "code",
   "execution_count": 148,
   "id": "c042335a",
   "metadata": {},
   "outputs": [
    {
     "data": {
      "text/plain": [
       "(2, (3, 2), 6)"
      ]
     },
     "execution_count": 148,
     "metadata": {},
     "output_type": "execute_result"
    }
   ],
   "source": [
    "a.ndim, a.shape, a.size\n",
    "# ndim - liczba wymiarów, liczba całkowita\n",
    "# shape - rozmiar każdego z wymiarów, krotka liczb całkowitych \n",
    "# size całkowita liczba wartości, iloczyn wartości z krotki shape"
   ]
  },
  {
   "cell_type": "markdown",
   "id": "9b514568",
   "metadata": {},
   "source": [
    "Tablica trójwymiarowa o 12 elementach, wymiary osi 3x2x2:"
   ]
  },
  {
   "cell_type": "code",
   "execution_count": 150,
   "id": "a6f9b781",
   "metadata": {},
   "outputs": [
    {
     "data": {
      "text/plain": [
       "array([[[100, 100],\n",
       "        [100, 100]],\n",
       "\n",
       "       [[100, 100],\n",
       "        [100, 100]],\n",
       "\n",
       "       [[100, 100],\n",
       "        [100, 100]]])"
      ]
     },
     "execution_count": 150,
     "metadata": {},
     "output_type": "execute_result"
    }
   ],
   "source": [
    "a = np.full((3, 2, 2), 100)\n",
    "a"
   ]
  },
  {
   "cell_type": "code",
   "execution_count": 151,
   "id": "f8614372",
   "metadata": {},
   "outputs": [
    {
     "data": {
      "text/plain": [
       "(3, (3, 2, 2), 12)"
      ]
     },
     "execution_count": 151,
     "metadata": {},
     "output_type": "execute_result"
    }
   ],
   "source": [
    "a.ndim, a.shape, a.size"
   ]
  },
  {
   "cell_type": "code",
   "execution_count": null,
   "id": "e4b4d448",
   "metadata": {},
   "outputs": [],
   "source": [
    "#zadania"
   ]
  },
  {
   "cell_type": "markdown",
   "id": "d74c54e9",
   "metadata": {},
   "source": [
    "## Indeksowanie: dostęp do pojedynczych elementów"
   ]
  },
  {
   "cell_type": "code",
   "execution_count": 153,
   "id": "a97c6e90",
   "metadata": {},
   "outputs": [
    {
     "data": {
      "text/plain": [
       "array([10, 11, 12, 13, 14, 15, 16, 17, 18, 19])"
      ]
     },
     "execution_count": 153,
     "metadata": {},
     "output_type": "execute_result"
    }
   ],
   "source": [
    "a = np.arange(10, 20)\n",
    "a"
   ]
  },
  {
   "cell_type": "code",
   "execution_count": 154,
   "id": "05b62738",
   "metadata": {},
   "outputs": [
    {
     "data": {
      "text/plain": [
       "(10, 11, 19, 18)"
      ]
     },
     "execution_count": 154,
     "metadata": {},
     "output_type": "execute_result"
    }
   ],
   "source": [
    "a[0], a[1], a[-1], a[-2]"
   ]
  },
  {
   "cell_type": "code",
   "execution_count": 155,
   "id": "8576338f",
   "metadata": {},
   "outputs": [
    {
     "data": {
      "text/plain": [
       "array([[ 0,  1,  2,  3,  4],\n",
       "       [ 5,  6,  7,  8,  9],\n",
       "       [10, 11, 12, 13, 14],\n",
       "       [15, 16, 17, 18, 19]])"
      ]
     },
     "execution_count": 155,
     "metadata": {},
     "output_type": "execute_result"
    }
   ],
   "source": [
    "a = np.array([[ 0,  1,  2,  3,  4],\n",
    "              [ 5,  6,  7,  8,  9],\n",
    "              [10, 11, 12, 13, 14],\n",
    "              [15, 16, 17, 18, 19]])\n",
    "a"
   ]
  },
  {
   "cell_type": "code",
   "execution_count": null,
   "id": "04368137",
   "metadata": {},
   "outputs": [],
   "source": [
    "a[2,3] # wartośc 13"
   ]
  },
  {
   "cell_type": "code",
   "execution_count": 156,
   "id": "b448185b",
   "metadata": {},
   "outputs": [
    {
     "data": {
      "text/plain": [
       "19"
      ]
     },
     "execution_count": 156,
     "metadata": {},
     "output_type": "execute_result"
    }
   ],
   "source": [
    "a[-1, -1]"
   ]
  },
  {
   "cell_type": "code",
   "execution_count": 157,
   "id": "a9cdcb91",
   "metadata": {},
   "outputs": [
    {
     "data": {
      "text/plain": [
       "13"
      ]
     },
     "execution_count": 157,
     "metadata": {},
     "output_type": "execute_result"
    }
   ],
   "source": [
    "a[2, 3]"
   ]
  },
  {
   "cell_type": "markdown",
   "id": "e7c690c6",
   "metadata": {},
   "source": [
    "## Wycinki\n",
    "\n",
    "Składnia dla wycinków naśladuje tę wbudowaną w Pythona:\n",
    "\n",
    "```python\n",
    "a[start:stop:step]\n",
    "```"
   ]
  },
  {
   "cell_type": "markdown",
   "id": "3b4de097",
   "metadata": {},
   "source": [
    "### Tablice jednowymiarowe"
   ]
  },
  {
   "cell_type": "code",
   "execution_count": 159,
   "id": "3dc82409",
   "metadata": {},
   "outputs": [
    {
     "data": {
      "text/plain": [
       "array([0, 1, 2, 3, 4, 5, 6, 7, 8, 9])"
      ]
     },
     "execution_count": 159,
     "metadata": {},
     "output_type": "execute_result"
    }
   ],
   "source": [
    "a = np.arange(10)\n",
    "a"
   ]
  },
  {
   "cell_type": "code",
   "execution_count": 160,
   "id": "8844a84d",
   "metadata": {},
   "outputs": [
    {
     "data": {
      "text/plain": [
       "(array([0, 1, 2]), array([3, 4, 5, 6, 7, 8, 9]))"
      ]
     },
     "execution_count": 160,
     "metadata": {},
     "output_type": "execute_result"
    }
   ],
   "source": [
    "a[:3], a[3:]"
   ]
  },
  {
   "cell_type": "code",
   "execution_count": 161,
   "id": "9362d361",
   "metadata": {},
   "outputs": [
    {
     "data": {
      "text/plain": [
       "array([8, 9])"
      ]
     },
     "execution_count": 161,
     "metadata": {},
     "output_type": "execute_result"
    }
   ],
   "source": [
    "a[-2:]"
   ]
  },
  {
   "cell_type": "code",
   "execution_count": 162,
   "id": "1e4ac030",
   "metadata": {},
   "outputs": [
    {
     "data": {
      "text/plain": [
       "array([0, 2, 4, 6, 8])"
      ]
     },
     "execution_count": 162,
     "metadata": {},
     "output_type": "execute_result"
    }
   ],
   "source": [
    "a[::2]"
   ]
  },
  {
   "cell_type": "code",
   "execution_count": 163,
   "id": "785cc548",
   "metadata": {},
   "outputs": [
    {
     "data": {
      "text/plain": [
       "array([1, 3, 5, 7, 9])"
      ]
     },
     "execution_count": 163,
     "metadata": {},
     "output_type": "execute_result"
    }
   ],
   "source": [
    "a[1::2]"
   ]
  },
  {
   "cell_type": "code",
   "execution_count": 164,
   "id": "b4911374",
   "metadata": {},
   "outputs": [
    {
     "data": {
      "text/plain": [
       "array([9, 8, 7, 6, 5, 4, 3, 2, 1, 0])"
      ]
     },
     "execution_count": 164,
     "metadata": {},
     "output_type": "execute_result"
    }
   ],
   "source": [
    "a[::-1]"
   ]
  },
  {
   "cell_type": "markdown",
   "id": "ad748c7a",
   "metadata": {},
   "source": [
    "### Tablice wielowymiarowe"
   ]
  },
  {
   "cell_type": "code",
   "execution_count": 165,
   "id": "be4e7d63",
   "metadata": {},
   "outputs": [
    {
     "data": {
      "text/plain": [
       "array([[ 0,  1,  2,  3,  4],\n",
       "       [ 5,  6,  7,  8,  9],\n",
       "       [10, 11, 12, 13, 14],\n",
       "       [15, 16, 17, 18, 19]])"
      ]
     },
     "execution_count": 165,
     "metadata": {},
     "output_type": "execute_result"
    }
   ],
   "source": [
    "a = np.array([[ 0,  1,  2,  3,  4],\n",
    "              [ 5,  6,  7,  8,  9],\n",
    "              [10, 11, 12, 13, 14],\n",
    "              [15, 16, 17, 18, 19]])\n",
    "a"
   ]
  },
  {
   "cell_type": "code",
   "execution_count": 166,
   "id": "0943db3a",
   "metadata": {},
   "outputs": [
    {
     "data": {
      "text/plain": [
       "array([[0, 1, 2, 3, 4],\n",
       "       [5, 6, 7, 8, 9]])"
      ]
     },
     "execution_count": 166,
     "metadata": {},
     "output_type": "execute_result"
    }
   ],
   "source": [
    "#Dwa pierwsze wiersze:\n",
    "a[:2]"
   ]
  },
  {
   "cell_type": "markdown",
   "id": "94d40371",
   "metadata": {},
   "source": [
    "Wycinki można tworzyć na każdej osi osobno. Dwa ostatnie wiersze, druga, trzecia i czwarta kolumna:"
   ]
  },
  {
   "cell_type": "code",
   "execution_count": 167,
   "id": "1b510815",
   "metadata": {},
   "outputs": [
    {
     "data": {
      "text/plain": [
       "array([[11, 12, 13],\n",
       "       [16, 17, 18]])"
      ]
     },
     "execution_count": 167,
     "metadata": {},
     "output_type": "execute_result"
    }
   ],
   "source": [
    "a[-2:, 1:4]"
   ]
  },
  {
   "cell_type": "markdown",
   "id": "21e9a486",
   "metadata": {},
   "source": [
    "### Wiersze i kolumny"
   ]
  },
  {
   "cell_type": "code",
   "execution_count": 168,
   "id": "a679397d",
   "metadata": {},
   "outputs": [
    {
     "data": {
      "text/plain": [
       "array([[ 0,  1,  2,  3,  4],\n",
       "       [ 5,  6,  7,  8,  9],\n",
       "       [10, 11, 12, 13, 14],\n",
       "       [15, 16, 17, 18, 19]])"
      ]
     },
     "execution_count": 168,
     "metadata": {},
     "output_type": "execute_result"
    }
   ],
   "source": [
    "a"
   ]
  },
  {
   "cell_type": "markdown",
   "id": "0df44284",
   "metadata": {},
   "source": [
    "Drugi wiersz:"
   ]
  },
  {
   "cell_type": "code",
   "execution_count": 174,
   "id": "b284d4c1",
   "metadata": {},
   "outputs": [
    {
     "data": {
      "text/plain": [
       "array([5, 6, 7, 8, 9])"
      ]
     },
     "execution_count": 174,
     "metadata": {},
     "output_type": "execute_result"
    }
   ],
   "source": [
    "a[1, :]"
   ]
  },
  {
   "cell_type": "markdown",
   "id": "8a488ec5",
   "metadata": {},
   "source": [
    "Lub tak"
   ]
  },
  {
   "cell_type": "code",
   "execution_count": 173,
   "id": "91a3c0a4",
   "metadata": {},
   "outputs": [
    {
     "data": {
      "text/plain": [
       "array([5, 6, 7, 8, 9])"
      ]
     },
     "execution_count": 173,
     "metadata": {},
     "output_type": "execute_result"
    }
   ],
   "source": [
    "a[1]"
   ]
  },
  {
   "cell_type": "markdown",
   "id": "eedb9137",
   "metadata": {},
   "source": [
    "ale tak jest mniej czytelnie, bo struktura tablicy pozostaje ukryta. Ponadto, to wywołanie zadziała również dla tablicy jednowymiarowej, co może prowadzić do niespodziewanych błędów."
   ]
  },
  {
   "cell_type": "code",
   "execution_count": 175,
   "id": "2fe35f85",
   "metadata": {},
   "outputs": [
    {
     "data": {
      "text/plain": [
       "array([[ 0,  1,  2,  3,  4],\n",
       "       [ 5,  6,  7,  8,  9],\n",
       "       [10, 11, 12, 13, 14],\n",
       "       [15, 16, 17, 18, 19]])"
      ]
     },
     "execution_count": 175,
     "metadata": {},
     "output_type": "execute_result"
    }
   ],
   "source": [
    "a"
   ]
  },
  {
   "cell_type": "markdown",
   "id": "dea83b0a",
   "metadata": {},
   "source": [
    "Trzecia kolumna:"
   ]
  },
  {
   "cell_type": "code",
   "execution_count": 176,
   "id": "7358ef59",
   "metadata": {},
   "outputs": [
    {
     "data": {
      "text/plain": [
       "array([ 2,  7, 12, 17])"
      ]
     },
     "execution_count": 176,
     "metadata": {},
     "output_type": "execute_result"
    }
   ],
   "source": [
    "a[:, 2]"
   ]
  },
  {
   "cell_type": "markdown",
   "id": "be3f4a7e",
   "metadata": {},
   "source": [
    "### Uwaga!\n",
    "\n",
    "**Wycinki tablic NumPy nie zwracają kopii!**"
   ]
  },
  {
   "cell_type": "code",
   "execution_count": 177,
   "id": "abb47832",
   "metadata": {},
   "outputs": [
    {
     "data": {
      "text/plain": [
       "array([[ 0,  1,  2,  3,  4],\n",
       "       [ 5,  6,  7,  8,  9],\n",
       "       [10, 11, 12, 13, 14],\n",
       "       [15, 16, 17, 18, 19]])"
      ]
     },
     "execution_count": 177,
     "metadata": {},
     "output_type": "execute_result"
    }
   ],
   "source": [
    "a"
   ]
  },
  {
   "cell_type": "code",
   "execution_count": 178,
   "id": "3d6e7422",
   "metadata": {},
   "outputs": [
    {
     "data": {
      "text/plain": [
       "array([[ 7,  8],\n",
       "       [12, 13]])"
      ]
     },
     "execution_count": 178,
     "metadata": {},
     "output_type": "execute_result"
    }
   ],
   "source": [
    "b = a[1:3, 2:4]\n",
    "b"
   ]
  },
  {
   "cell_type": "code",
   "execution_count": 179,
   "id": "ab7abfdc",
   "metadata": {},
   "outputs": [
    {
     "data": {
      "text/plain": [
       "array([[  7,   8],\n",
       "       [ 12, 123]])"
      ]
     },
     "execution_count": 179,
     "metadata": {},
     "output_type": "execute_result"
    }
   ],
   "source": [
    "b[1, 1] = 123\n",
    "b"
   ]
  },
  {
   "cell_type": "code",
   "execution_count": 180,
   "id": "9bc04a5e",
   "metadata": {},
   "outputs": [
    {
     "data": {
      "text/plain": [
       "array([[  0,   1,   2,   3,   4],\n",
       "       [  5,   6,   7,   8,   9],\n",
       "       [ 10,  11,  12, 123,  14],\n",
       "       [ 15,  16,  17,  18,  19]])"
      ]
     },
     "execution_count": 180,
     "metadata": {},
     "output_type": "execute_result"
    }
   ],
   "source": [
    "a"
   ]
  },
  {
   "cell_type": "markdown",
   "id": "a95d0b29",
   "metadata": {},
   "source": [
    "## Tworzenie kopii"
   ]
  },
  {
   "cell_type": "code",
   "execution_count": 181,
   "id": "b29c200c",
   "metadata": {},
   "outputs": [
    {
     "data": {
      "text/plain": [
       "array([[  7,   8],\n",
       "       [ 12, 123]])"
      ]
     },
     "execution_count": 181,
     "metadata": {},
     "output_type": "execute_result"
    }
   ],
   "source": [
    "b = a[1:3, 2:4].copy()\n",
    "b"
   ]
  },
  {
   "cell_type": "code",
   "execution_count": 182,
   "id": "8538d932",
   "metadata": {},
   "outputs": [
    {
     "data": {
      "text/plain": [
       "array([[ 7,  8],\n",
       "       [12, 13]])"
      ]
     },
     "execution_count": 182,
     "metadata": {},
     "output_type": "execute_result"
    }
   ],
   "source": [
    "b[1, 1] = 13\n",
    "b"
   ]
  },
  {
   "cell_type": "code",
   "execution_count": 183,
   "id": "41035d95",
   "metadata": {},
   "outputs": [
    {
     "data": {
      "text/plain": [
       "array([[  0,   1,   2,   3,   4],\n",
       "       [  5,   6,   7,   8,   9],\n",
       "       [ 10,  11,  12, 123,  14],\n",
       "       [ 15,  16,  17,  18,  19]])"
      ]
     },
     "execution_count": 183,
     "metadata": {},
     "output_type": "execute_result"
    }
   ],
   "source": [
    "a"
   ]
  },
  {
   "cell_type": "markdown",
   "id": "b26aa385",
   "metadata": {},
   "source": [
    "## `.reshape()` -- zmiana kształtu tablicy"
   ]
  },
  {
   "cell_type": "code",
   "execution_count": 184,
   "id": "ad1080ab",
   "metadata": {},
   "outputs": [
    {
     "data": {
      "text/plain": [
       "array([[0, 1, 2, 3, 4],\n",
       "       [5, 6, 7, 8, 9]])"
      ]
     },
     "execution_count": 184,
     "metadata": {},
     "output_type": "execute_result"
    }
   ],
   "source": [
    "np.arange(10).reshape(2, 5)"
   ]
  },
  {
   "cell_type": "code",
   "execution_count": 185,
   "id": "1f717ca4",
   "metadata": {},
   "outputs": [
    {
     "data": {
      "text/plain": [
       "array([[0, 1],\n",
       "       [2, 3],\n",
       "       [4, 5],\n",
       "       [6, 7],\n",
       "       [8, 9]])"
      ]
     },
     "execution_count": 185,
     "metadata": {},
     "output_type": "execute_result"
    }
   ],
   "source": [
    "np.arange(10).reshape(5, 2)"
   ]
  },
  {
   "cell_type": "code",
   "execution_count": 186,
   "id": "d6c91a70",
   "metadata": {},
   "outputs": [
    {
     "data": {
      "text/plain": [
       "array([0, 1, 2, 3, 4, 5, 6, 7, 8, 9])"
      ]
     },
     "execution_count": 186,
     "metadata": {},
     "output_type": "execute_result"
    }
   ],
   "source": [
    "np.arange(10)"
   ]
  },
  {
   "cell_type": "code",
   "execution_count": 187,
   "id": "c0ced394",
   "metadata": {},
   "outputs": [
    {
     "data": {
      "text/plain": [
       "1"
      ]
     },
     "execution_count": 187,
     "metadata": {},
     "output_type": "execute_result"
    }
   ],
   "source": [
    "np.arange(10).ndim"
   ]
  },
  {
   "cell_type": "markdown",
   "id": "75c851e4",
   "metadata": {},
   "source": [
    "Zmiana jednowymiarowej tablicy na dwuwymiarowy wiersz lub kolumnę:"
   ]
  },
  {
   "cell_type": "code",
   "execution_count": 188,
   "id": "8391811b",
   "metadata": {},
   "outputs": [
    {
     "data": {
      "text/plain": [
       "array([[0, 1, 2, 3, 4, 5, 6, 7, 8, 9]])"
      ]
     },
     "execution_count": 188,
     "metadata": {},
     "output_type": "execute_result"
    }
   ],
   "source": [
    "np.arange(10).reshape(1, 10) # Wiersz"
   ]
  },
  {
   "cell_type": "code",
   "execution_count": 189,
   "id": "6b495b7a",
   "metadata": {},
   "outputs": [
    {
     "data": {
      "text/plain": [
       "2"
      ]
     },
     "execution_count": 189,
     "metadata": {},
     "output_type": "execute_result"
    }
   ],
   "source": [
    "np.arange(10).reshape(1, 10).ndim"
   ]
  },
  {
   "cell_type": "code",
   "execution_count": 190,
   "id": "313b2146",
   "metadata": {},
   "outputs": [
    {
     "data": {
      "text/plain": [
       "array([[0],\n",
       "       [1],\n",
       "       [2],\n",
       "       [3],\n",
       "       [4],\n",
       "       [5],\n",
       "       [6],\n",
       "       [7],\n",
       "       [8],\n",
       "       [9]])"
      ]
     },
     "execution_count": 190,
     "metadata": {},
     "output_type": "execute_result"
    }
   ],
   "source": [
    "np.arange(10).reshape(10, 1) # Kolumna"
   ]
  },
  {
   "cell_type": "code",
   "execution_count": 191,
   "id": "e0261563",
   "metadata": {},
   "outputs": [
    {
     "data": {
      "text/plain": [
       "2"
      ]
     },
     "execution_count": 191,
     "metadata": {},
     "output_type": "execute_result"
    }
   ],
   "source": [
    "np.arange(10).reshape(10, 1).ndim"
   ]
  },
  {
   "cell_type": "markdown",
   "id": "f4a1de72",
   "metadata": {},
   "source": [
    "To samo za pomocą `np.newaxis`:"
   ]
  },
  {
   "cell_type": "code",
   "execution_count": 250,
   "id": "636ba6a4",
   "metadata": {},
   "outputs": [
    {
     "data": {
      "text/plain": [
       "array([0, 1, 2, 3, 4, 5, 6, 7, 8, 9])"
      ]
     },
     "execution_count": 250,
     "metadata": {},
     "output_type": "execute_result"
    }
   ],
   "source": [
    "a = np.arange(10)\n",
    "a"
   ]
  },
  {
   "cell_type": "code",
   "execution_count": 251,
   "id": "f6a6b651",
   "metadata": {},
   "outputs": [
    {
     "data": {
      "text/plain": [
       "array([[0, 1, 2, 3, 4, 5, 6, 7, 8, 9]])"
      ]
     },
     "execution_count": 251,
     "metadata": {},
     "output_type": "execute_result"
    }
   ],
   "source": [
    "a[np.newaxis, :]"
   ]
  },
  {
   "cell_type": "code",
   "execution_count": 252,
   "id": "ad30e24c",
   "metadata": {},
   "outputs": [
    {
     "data": {
      "text/plain": [
       "array([[0],\n",
       "       [1],\n",
       "       [2],\n",
       "       [3],\n",
       "       [4],\n",
       "       [5],\n",
       "       [6],\n",
       "       [7],\n",
       "       [8],\n",
       "       [9]])"
      ]
     },
     "execution_count": 252,
     "metadata": {},
     "output_type": "execute_result"
    }
   ],
   "source": [
    "a[:, np.newaxis]"
   ]
  },
  {
   "cell_type": "code",
   "execution_count": 194,
   "id": "bf7a0011",
   "metadata": {},
   "outputs": [
    {
     "data": {
      "text/plain": [
       "array([[[0]],\n",
       "\n",
       "       [[1]],\n",
       "\n",
       "       [[2]],\n",
       "\n",
       "       [[3]],\n",
       "\n",
       "       [[4]]])"
      ]
     },
     "execution_count": 194,
     "metadata": {},
     "output_type": "execute_result"
    }
   ],
   "source": [
    "# w zależności od potrzeb:\n",
    "np.arange(5).reshape(5, 1, 1)"
   ]
  },
  {
   "cell_type": "markdown",
   "id": "7787bac8",
   "metadata": {},
   "source": [
    "## Łączenie i dzielenie tablic\n",
    "\n",
    "* `np.concatenate()`\n",
    "* `np.vstack()`\n",
    "* `np.hstack()`\n",
    "* `np.split()`\n",
    "* `np.vsplit()`\n",
    "* `np.hsplit()`"
   ]
  },
  {
   "cell_type": "markdown",
   "id": "73dc9066",
   "metadata": {},
   "source": [
    "## Funkcje uniwersalne (ufuncs), wektoryzacja\n",
    "\n",
    "Funkcja uniwersalna jest zwykłą funkcją jednej lub wielu zmiennych opakowaną mechanizmem wektoryzacji: wywołana na tablicy wywołuje się (wektoryzacja) na wszystkich jej elementach.\n",
    "\n",
    "Funkcje uniwersalne są bardzo wydajne czasowo."
   ]
  },
  {
   "cell_type": "code",
   "execution_count": 195,
   "id": "f8a381a5",
   "metadata": {},
   "outputs": [
    {
     "data": {
      "text/plain": [
       "(array([0, 1, 2, 3, 4]), array([10, 11, 12, 13, 14]))"
      ]
     },
     "execution_count": 195,
     "metadata": {},
     "output_type": "execute_result"
    }
   ],
   "source": [
    "x = np.arange(5)\n",
    "y = np.arange(10, 15)\n",
    "x, y"
   ]
  },
  {
   "cell_type": "code",
   "execution_count": 196,
   "id": "6a9a7bcc",
   "metadata": {},
   "outputs": [
    {
     "data": {
      "text/plain": [
       "array([10, 12, 14, 16, 18])"
      ]
     },
     "execution_count": 196,
     "metadata": {},
     "output_type": "execute_result"
    }
   ],
   "source": [
    "x + y"
   ]
  },
  {
   "cell_type": "code",
   "execution_count": 197,
   "id": "1d3f15b0",
   "metadata": {},
   "outputs": [
    {
     "data": {
      "text/plain": [
       "array([ 0, 11, 24, 39, 56])"
      ]
     },
     "execution_count": 197,
     "metadata": {},
     "output_type": "execute_result"
    }
   ],
   "source": [
    "x * y"
   ]
  },
  {
   "cell_type": "code",
   "execution_count": 198,
   "id": "cb631f20",
   "metadata": {},
   "outputs": [
    {
     "data": {
      "text/plain": [
       "array([0.        , 0.09090909, 0.16666667, 0.23076923, 0.28571429])"
      ]
     },
     "execution_count": 198,
     "metadata": {},
     "output_type": "execute_result"
    }
   ],
   "source": [
    "x / y"
   ]
  },
  {
   "cell_type": "code",
   "execution_count": 199,
   "id": "ec70ba86",
   "metadata": {},
   "outputs": [
    {
     "data": {
      "text/plain": [
       "array([ 5. ,  7.5, 10. , 12.5, 15. ])"
      ]
     },
     "execution_count": 199,
     "metadata": {},
     "output_type": "execute_result"
    }
   ],
   "source": [
    "2*x + y/2"
   ]
  },
  {
   "cell_type": "markdown",
   "id": "bd91e6ce",
   "metadata": {},
   "source": [
    "Narysujemy wykres funkcji $y=\\sin x$ na przedziale $[-2\\pi, 2\\pi]$:"
   ]
  },
  {
   "cell_type": "code",
   "execution_count": 200,
   "id": "592583b4",
   "metadata": {},
   "outputs": [
    {
     "data": {
      "image/png": "[encoded data removed]",
      "text/plain": [
       "<Figure size 800x550 with 1 Axes>"
      ]
     },
     "metadata": {},
     "output_type": "display_data"
    }
   ],
   "source": [
    "from matplotlib import pyplot as plt\n",
    "%matplotlib inline\n",
    "plt.style.use('seaborn-notebook')\n",
    "\n",
    "# 100 punktów równomiernego podziału\n",
    "X = np.linspace(-2*np.pi, 2*np.pi, 100)\n",
    "Y = np.sin(X) # ufunc!\n",
    "plt.plot(X, Y)\n",
    "plt.grid(ls=':')"
   ]
  },
  {
   "cell_type": "markdown",
   "id": "9f04f460",
   "metadata": {},
   "source": [
    "Przykład czasu wykonania:"
   ]
  },
  {
   "cell_type": "code",
   "execution_count": 201,
   "id": "0c570926",
   "metadata": {},
   "outputs": [],
   "source": [
    "def odwróć(wartości):\n",
    "    out = np.empty(len(wartości))\n",
    "    \n",
    "    for i, v in enumerate(wartości):\n",
    "        out[i] = 1 / v\n",
    "    \n",
    "    return out"
   ]
  },
  {
   "cell_type": "code",
   "execution_count": 207,
   "id": "1420183e",
   "metadata": {},
   "outputs": [
    {
     "data": {
      "text/plain": [
       "array([1.        , 0.5       , 0.33333333, 0.25      ])"
      ]
     },
     "execution_count": 207,
     "metadata": {},
     "output_type": "execute_result"
    }
   ],
   "source": [
    "odwróć(np.arange(1,5))"
   ]
  },
  {
   "cell_type": "code",
   "execution_count": 202,
   "id": "276fe519",
   "metadata": {},
   "outputs": [],
   "source": [
    "wartości = np.arange(1, 10**5)"
   ]
  },
  {
   "cell_type": "code",
   "execution_count": 211,
   "id": "21e3266f",
   "metadata": {},
   "outputs": [
    {
     "name": "stdout",
     "output_type": "stream",
     "text": [
      "17.2 ms ± 464 µs per loop (mean ± std. dev. of 7 runs, 100 loops each)\n"
     ]
    }
   ],
   "source": [
    "%timeit odwróć(wartości)"
   ]
  },
  {
   "cell_type": "code",
   "execution_count": 212,
   "id": "9d69f3c7",
   "metadata": {},
   "outputs": [
    {
     "name": "stdout",
     "output_type": "stream",
     "text": [
      "61.6 µs ± 2.43 µs per loop (mean ± std. dev. of 7 runs, 10000 loops each)\n"
     ]
    }
   ],
   "source": [
    "%timeit 1 / wartości"
   ]
  },
  {
   "cell_type": "code",
   "execution_count": null,
   "id": "15b9ae65",
   "metadata": {},
   "outputs": [],
   "source": []
  },
  {
   "cell_type": "markdown",
   "id": "53a1d8ad",
   "metadata": {},
   "source": [
    "## Funkcje agregujące\n",
    "\n",
    "* `np.sum()`\n",
    "* `n.min()`, `np.max()`\n",
    "* `np.mean()`\n",
    "* `np.median()`\n",
    "* `np.std()`\n",
    "* `np.var()`\n",
    "* i wiele innych ..."
   ]
  },
  {
   "cell_type": "markdown",
   "id": "1b69fe4b",
   "metadata": {},
   "source": [
    "Agregacje można prowadzić względem wybranych osi:"
   ]
  },
  {
   "cell_type": "code",
   "execution_count": 213,
   "id": "6b268be8",
   "metadata": {},
   "outputs": [
    {
     "data": {
      "text/plain": [
       "array([[ 0,  1,  2,  3,  4,  5,  6,  7],\n",
       "       [ 8,  9, 10, 11, 12, 13, 14, 15],\n",
       "       [16, 17, 18, 19, 20, 21, 22, 23],\n",
       "       [24, 25, 26, 27, 28, 29, 30, 31]])"
      ]
     },
     "execution_count": 213,
     "metadata": {},
     "output_type": "execute_result"
    }
   ],
   "source": [
    "a = np.arange(32).reshape((4, 8))\n",
    "a"
   ]
  },
  {
   "cell_type": "code",
   "execution_count": 214,
   "id": "993d654a",
   "metadata": {},
   "outputs": [
    {
     "data": {
      "text/plain": [
       "array([24, 25, 26, 27, 28, 29, 30, 31])"
      ]
     },
     "execution_count": 214,
     "metadata": {},
     "output_type": "execute_result"
    }
   ],
   "source": [
    "np.max(a, axis=0) # max w kolumnach"
   ]
  },
  {
   "cell_type": "code",
   "execution_count": 215,
   "id": "a7868cc9",
   "metadata": {},
   "outputs": [
    {
     "data": {
      "text/plain": [
       "array([ 7, 15, 23, 31])"
      ]
     },
     "execution_count": 215,
     "metadata": {},
     "output_type": "execute_result"
    }
   ],
   "source": [
    "np.max(a, axis=1) # max w wierszach"
   ]
  },
  {
   "cell_type": "markdown",
   "id": "b95ca965",
   "metadata": {},
   "source": [
    "## Broadcasting - OPCJONALNIE\n",
    "\n",
    "Operowanie na tablicach o różnych kształtach:"
   ]
  },
  {
   "cell_type": "code",
   "execution_count": 219,
   "id": "8f54894c",
   "metadata": {},
   "outputs": [
    {
     "data": {
      "text/plain": [
       "array([[0, 1, 2, 3, 4]])"
      ]
     },
     "execution_count": 219,
     "metadata": {},
     "output_type": "execute_result"
    }
   ],
   "source": [
    "a = np.arange(5).reshape((1, 5))\n",
    "a"
   ]
  },
  {
   "cell_type": "code",
   "execution_count": 220,
   "id": "4762fae6",
   "metadata": {},
   "outputs": [
    {
     "data": {
      "text/plain": [
       "array([[0],\n",
       "       [1],\n",
       "       [2],\n",
       "       [3],\n",
       "       [4]])"
      ]
     },
     "execution_count": 220,
     "metadata": {},
     "output_type": "execute_result"
    }
   ],
   "source": [
    "b = np.arange(5).reshape((5, 1))\n",
    "b"
   ]
  },
  {
   "cell_type": "code",
   "execution_count": 222,
   "id": "86270875",
   "metadata": {},
   "outputs": [
    {
     "data": {
      "text/plain": [
       "array([[0, 1, 2, 3, 4],\n",
       "       [1, 2, 3, 4, 5],\n",
       "       [2, 3, 4, 5, 6],\n",
       "       [3, 4, 5, 6, 7],\n",
       "       [4, 5, 6, 7, 8]])"
      ]
     },
     "execution_count": 222,
     "metadata": {},
     "output_type": "execute_result"
    }
   ],
   "source": [
    "c = a + b\n",
    "c"
   ]
  },
  {
   "cell_type": "code",
   "execution_count": 225,
   "id": "63153354",
   "metadata": {},
   "outputs": [
    {
     "data": {
      "text/plain": [
       "(5, 5)"
      ]
     },
     "execution_count": 225,
     "metadata": {},
     "output_type": "execute_result"
    }
   ],
   "source": [
    "c.shape"
   ]
  },
  {
   "cell_type": "markdown",
   "id": "21eb4eec",
   "metadata": {},
   "source": [
    "Tablica a zostaje rozszerzona do kształtu (5, 5), kopiując jej wiersz wzdłuż osi 0.\n",
    "[[0, 1, 2, 3, 4],\n",
    " [0, 1, 2, 3, 4],\n",
    " [0, 1, 2, 3, 4],\n",
    " [0, 1, 2, 3, 4],\n",
    " [0, 1, 2, 3, 4]]"
   ]
  },
  {
   "cell_type": "markdown",
   "id": "909c34e0",
   "metadata": {},
   "source": [
    "Tablica b zostaje rozszerzona do kształtu (5, 5), kopiując jej kolumnę wzdłuż osi 1. \n",
    "[[0, 0, 0, 0, 0],\n",
    " [1, 1, 1, 1, 1],\n",
    " [2, 2, 2, 2, 2],\n",
    " [3, 3, 3, 3, 3],\n",
    " [4, 4, 4, 4, 4]]\n"
   ]
  },
  {
   "cell_type": "markdown",
   "id": "137c11dd",
   "metadata": {},
   "source": [
    "Teraz możemy dodać te dwie rozszerzone tablice element po elemencie:\n",
    "\n",
    "[[0+0, 1+0, 2+0, 3+0, 4+0],\n",
    " [0+1, 1+1, 2+1, 3+1, 4+1],\n",
    " [0+2, 1+2, 2+2, 3+2, 4+2],\n",
    " [0+3, 1+3, 2+3, 3+3, 4+3],\n",
    " [0+4, 1+4, 2+4, 3+4, 4+4]]\n"
   ]
  },
  {
   "cell_type": "markdown",
   "id": "721d104b",
   "metadata": {},
   "source": [
    "### Reguły broadcastingu\n",
    "\n",
    "1. Jeśli dwie tablice różnią się wymiarem, to kształt tej o mniejszym wymiarze jest uzupełniany od lewej jedynkami.\n",
    "2. Jeśli rozmiary na danej osi nie są w obu tablicach równe, to ten który jest równy jeden jest rozszerzany do większego rozmiaru.\n",
    "3. Jeśli rozmiary na danej osi nie są w obu tablicach równe i żaden z nich nie jest równy jeden, to broadcasting nie może zostać wykonany. Wtedy rzucany jest wyjątek."
   ]
  },
  {
   "cell_type": "markdown",
   "id": "9703c00d",
   "metadata": {},
   "source": [
    "## Porównywanie, maskowanie, operatory logiczne\n",
    "\n",
    "Operatory porównywania są funkcjami uniwersalnymi:"
   ]
  },
  {
   "cell_type": "code",
   "execution_count": 226,
   "id": "672a067e",
   "metadata": {},
   "outputs": [
    {
     "data": {
      "text/plain": [
       "array([0, 1, 2, 3, 4, 5, 6])"
      ]
     },
     "execution_count": 226,
     "metadata": {},
     "output_type": "execute_result"
    }
   ],
   "source": [
    "a = np.arange(7)\n",
    "a"
   ]
  },
  {
   "cell_type": "code",
   "execution_count": 227,
   "id": "be91ab83",
   "metadata": {},
   "outputs": [
    {
     "data": {
      "text/plain": [
       "array([False,  True,  True,  True,  True,  True,  True])"
      ]
     },
     "execution_count": 227,
     "metadata": {},
     "output_type": "execute_result"
    }
   ],
   "source": [
    "a > 0"
   ]
  },
  {
   "cell_type": "code",
   "execution_count": 228,
   "id": "af787cf1",
   "metadata": {},
   "outputs": [
    {
     "data": {
      "text/plain": [
       "array([ True,  True,  True,  True, False, False, False])"
      ]
     },
     "execution_count": 228,
     "metadata": {},
     "output_type": "execute_result"
    }
   ],
   "source": [
    "a < 4"
   ]
  },
  {
   "cell_type": "code",
   "execution_count": 229,
   "id": "cc63584b",
   "metadata": {},
   "outputs": [
    {
     "data": {
      "text/plain": [
       "array([ True, False,  True, False, False, False, False])"
      ]
     },
     "execution_count": 229,
     "metadata": {},
     "output_type": "execute_result"
    }
   ],
   "source": [
    "2*a == a**2"
   ]
  },
  {
   "cell_type": "markdown",
   "id": "22478a57",
   "metadata": {},
   "source": [
    "Operatory logiczne dla tablic NumPy: `&`, `|`, `~`"
   ]
  },
  {
   "cell_type": "code",
   "execution_count": 231,
   "id": "09f1fe1e",
   "metadata": {},
   "outputs": [
    {
     "data": {
      "text/plain": [
       "array([0, 1, 2, 3, 4, 5, 6])"
      ]
     },
     "execution_count": 231,
     "metadata": {},
     "output_type": "execute_result"
    }
   ],
   "source": [
    "a"
   ]
  },
  {
   "cell_type": "code",
   "execution_count": 232,
   "id": "8d67c55a",
   "metadata": {},
   "outputs": [
    {
     "data": {
      "text/plain": [
       "array([False, False, False,  True,  True,  True, False])"
      ]
     },
     "execution_count": 232,
     "metadata": {},
     "output_type": "execute_result"
    }
   ],
   "source": [
    "(2 < a) & (a < 6) # i"
   ]
  },
  {
   "cell_type": "code",
   "execution_count": 234,
   "id": "79ec1aa8",
   "metadata": {},
   "outputs": [
    {
     "data": {
      "text/plain": [
       "array([ True,  True,  True, False, False, False,  True])"
      ]
     },
     "execution_count": 234,
     "metadata": {},
     "output_type": "execute_result"
    }
   ],
   "source": [
    "(2 >= a) | (a >= 6) # lub"
   ]
  },
  {
   "cell_type": "code",
   "execution_count": 233,
   "id": "0cdc332a",
   "metadata": {},
   "outputs": [
    {
     "data": {
      "text/plain": [
       "array([ True,  True,  True, False, False, False,  True])"
      ]
     },
     "execution_count": 233,
     "metadata": {},
     "output_type": "execute_result"
    }
   ],
   "source": [
    "~((2 < a) & (a < 6))"
   ]
  },
  {
   "cell_type": "markdown",
   "id": "1dbbe894",
   "metadata": {},
   "source": [
    "Która kolumna zawiera najwięcej wartości dodatnich:"
   ]
  },
  {
   "cell_type": "code",
   "execution_count": 235,
   "id": "383d2026",
   "metadata": {},
   "outputs": [
    {
     "data": {
      "text/plain": [
       "array([[  7,  -4,  -1, -10,   8,   5,   4,   6,  -4,  -5],\n",
       "       [-10,  -5,  -9,  -9,  -9,  -9,  -5,  -2,  -1,   8],\n",
       "       [  5,  -3,  -4, -10,  -8,  -5,  -1,  -9,   5,  -5],\n",
       "       [ -6,   2,  -4,   1,   0,  -2,   3,  -9,  -9,  -7],\n",
       "       [ -7,   0,  -5,   2,   5,  -2,  -8,  -1,   8,  -4],\n",
       "       [  9,   6,  -4,  -1,   2,   4,   0,   5,  -8,   3],\n",
       "       [  8,  -6,   7,  -6,  -7,   6,  -1,   7,  -7,   2],\n",
       "       [  0,   5,   6,  -5,  -4,  -3,  -9,   1,   7,   1],\n",
       "       [  8,   9, -10,   6,   9,   5,  -7,  -3,   5,  -2],\n",
       "       [ -2,   9,   6,   9,  -7,  -4,  -6,   9,  -8,  -6]])"
      ]
     },
     "execution_count": 235,
     "metadata": {},
     "output_type": "execute_result"
    }
   ],
   "source": [
    "a = np.random.randint(-10, 10, (10, 10))\n",
    "a"
   ]
  },
  {
   "cell_type": "code",
   "execution_count": 236,
   "id": "1004dae6",
   "metadata": {},
   "outputs": [
    {
     "data": {
      "text/plain": [
       "array([5, 5, 3, 4, 4, 4, 2, 5, 4, 4])"
      ]
     },
     "execution_count": 236,
     "metadata": {},
     "output_type": "execute_result"
    }
   ],
   "source": [
    "np.sum(a > 0, axis=0)"
   ]
  },
  {
   "cell_type": "markdown",
   "id": "41994730",
   "metadata": {},
   "source": [
    "Maskowanie:"
   ]
  },
  {
   "cell_type": "code",
   "execution_count": 237,
   "id": "26b421c6",
   "metadata": {},
   "outputs": [
    {
     "data": {
      "text/plain": [
       "array([-5, -9,  4,  5, -8,  2,  4, -6, -6, -9])"
      ]
     },
     "execution_count": 237,
     "metadata": {},
     "output_type": "execute_result"
    }
   ],
   "source": [
    "a = np.random.randint(-10, 10, 10)\n",
    "a"
   ]
  },
  {
   "cell_type": "code",
   "execution_count": 238,
   "id": "9df2d520",
   "metadata": {},
   "outputs": [
    {
     "data": {
      "text/plain": [
       "array([False, False,  True,  True, False,  True,  True, False, False,\n",
       "       False])"
      ]
     },
     "execution_count": 238,
     "metadata": {},
     "output_type": "execute_result"
    }
   ],
   "source": [
    "a > 0"
   ]
  },
  {
   "cell_type": "code",
   "execution_count": 239,
   "id": "e353aed5",
   "metadata": {},
   "outputs": [
    {
     "data": {
      "text/plain": [
       "array([4, 5, 2, 4])"
      ]
     },
     "execution_count": 239,
     "metadata": {},
     "output_type": "execute_result"
    }
   ],
   "source": [
    "a[a > 0]"
   ]
  },
  {
   "cell_type": "markdown",
   "id": "9abe2636",
   "metadata": {},
   "source": [
    "## Wymyślne indeksowanie - OPCJONALNIE\n",
    "\n",
    "Pobieranie fragmentu tablicy odpowiadającego tablicy indeksów. Kształt zwracanej wartości odpowiada tablicy indeksów:"
   ]
  },
  {
   "cell_type": "code",
   "execution_count": 241,
   "id": "25910004",
   "metadata": {},
   "outputs": [
    {
     "data": {
      "text/plain": [
       "array([71, 48, 78, 76, 67, 75, 47, 77, 81, 48])"
      ]
     },
     "execution_count": 241,
     "metadata": {},
     "output_type": "execute_result"
    }
   ],
   "source": [
    "a = np.random.randint(10, 100, 10)\n",
    "a"
   ]
  },
  {
   "cell_type": "markdown",
   "id": "3e2fd004",
   "metadata": {},
   "source": [
    "Wybieramy element drugi, trzeci i siódmy:"
   ]
  },
  {
   "cell_type": "code",
   "execution_count": 243,
   "id": "b1d61fdb",
   "metadata": {},
   "outputs": [
    {
     "data": {
      "text/plain": [
       "array([48, 78, 47])"
      ]
     },
     "execution_count": 243,
     "metadata": {},
     "output_type": "execute_result"
    }
   ],
   "source": [
    "a[[1, 2, 6]]"
   ]
  },
  {
   "cell_type": "markdown",
   "id": "7d023c96",
   "metadata": {},
   "source": [
    "Elementy o indeksach 2, 3, 4, 5, 6, 7 pobieramy do tablicy o kształcie `(2, 3)`:"
   ]
  },
  {
   "cell_type": "code",
   "execution_count": 244,
   "id": "16ec65f3",
   "metadata": {},
   "outputs": [
    {
     "data": {
      "text/plain": [
       "array([71, 48, 78, 76, 67, 75, 47, 77, 81, 48])"
      ]
     },
     "execution_count": 244,
     "metadata": {},
     "output_type": "execute_result"
    }
   ],
   "source": [
    "a"
   ]
  },
  {
   "cell_type": "code",
   "execution_count": 249,
   "id": "ba7589e6",
   "metadata": {},
   "outputs": [
    {
     "data": {
      "text/plain": [
       "array([[78, 76, 67],\n",
       "       [75, 47, 77]])"
      ]
     },
     "execution_count": 249,
     "metadata": {},
     "output_type": "execute_result"
    }
   ],
   "source": [
    "a[2:8].reshape((2, 3))"
   ]
  },
  {
   "cell_type": "code",
   "execution_count": 245,
   "id": "5f570b23",
   "metadata": {},
   "outputs": [
    {
     "data": {
      "text/plain": [
       "array([[2, 3, 4],\n",
       "       [5, 6, 7]])"
      ]
     },
     "execution_count": 245,
     "metadata": {},
     "output_type": "execute_result"
    }
   ],
   "source": [
    "indeksy = np.arange(2, 8).reshape((2, 3))\n",
    "indeksy"
   ]
  },
  {
   "cell_type": "code",
   "execution_count": 246,
   "id": "15a04597",
   "metadata": {},
   "outputs": [
    {
     "data": {
      "text/plain": [
       "array([[78, 76, 67],\n",
       "       [75, 47, 77]])"
      ]
     },
     "execution_count": 246,
     "metadata": {},
     "output_type": "execute_result"
    }
   ],
   "source": [
    "a[indeksy]"
   ]
  },
  {
   "cell_type": "markdown",
   "id": "b37a7fa0",
   "metadata": {},
   "source": [
    "## Sortowanie\n",
    "\n",
    "### `np.sort()`, `.sort()`"
   ]
  },
  {
   "cell_type": "code",
   "execution_count": 253,
   "id": "6b13a0a7",
   "metadata": {},
   "outputs": [
    {
     "data": {
      "text/plain": [
       "array([2, 1, 4, 3, 3, 3, 2, 4, 3, 3])"
      ]
     },
     "execution_count": 253,
     "metadata": {},
     "output_type": "execute_result"
    }
   ],
   "source": [
    "a = np.random.randint(5, size=10)\n",
    "a"
   ]
  },
  {
   "cell_type": "code",
   "execution_count": 254,
   "id": "25a80343",
   "metadata": {},
   "outputs": [
    {
     "data": {
      "text/plain": [
       "array([1, 2, 2, 3, 3, 3, 3, 3, 4, 4])"
      ]
     },
     "execution_count": 254,
     "metadata": {},
     "output_type": "execute_result"
    }
   ],
   "source": [
    "np.sort(a) # Zwraca wartość"
   ]
  },
  {
   "cell_type": "code",
   "execution_count": 255,
   "id": "3826d4f5",
   "metadata": {},
   "outputs": [
    {
     "data": {
      "text/plain": [
       "array([2, 1, 4, 3, 3, 3, 2, 4, 3, 3])"
      ]
     },
     "execution_count": 255,
     "metadata": {},
     "output_type": "execute_result"
    }
   ],
   "source": [
    "a"
   ]
  },
  {
   "cell_type": "code",
   "execution_count": 256,
   "id": "d6aac784",
   "metadata": {},
   "outputs": [
    {
     "data": {
      "text/plain": [
       "array([1, 2, 2, 3, 3, 3, 3, 3, 4, 4])"
      ]
     },
     "execution_count": 256,
     "metadata": {},
     "output_type": "execute_result"
    }
   ],
   "source": [
    "a.sort() # Działa w \"miejscu\"\n",
    "a"
   ]
  },
  {
   "cell_type": "markdown",
   "id": "e99edc3f",
   "metadata": {},
   "source": [
    "### `np.argsort()`\n",
    "\n",
    "Zwraca kolejność indeksów jaką powinna mieć tablica po posortowaniu:"
   ]
  },
  {
   "cell_type": "code",
   "execution_count": 258,
   "id": "33770e9c",
   "metadata": {},
   "outputs": [
    {
     "data": {
      "text/plain": [
       "array([1, 0, 0, 0, 0, 0, 4, 2, 1, 0])"
      ]
     },
     "execution_count": 258,
     "metadata": {},
     "output_type": "execute_result"
    }
   ],
   "source": [
    "a = np.random.randint(5, size=10)\n",
    "a"
   ]
  },
  {
   "cell_type": "code",
   "execution_count": 259,
   "id": "a4333147",
   "metadata": {},
   "outputs": [
    {
     "data": {
      "text/plain": [
       "array([1, 2, 3, 4, 5, 9, 0, 8, 7, 6], dtype=int64)"
      ]
     },
     "execution_count": 259,
     "metadata": {},
     "output_type": "execute_result"
    }
   ],
   "source": [
    "indeksy = np.argsort(a)\n",
    "indeksy"
   ]
  },
  {
   "cell_type": "code",
   "execution_count": 260,
   "id": "ad9da0b2",
   "metadata": {},
   "outputs": [
    {
     "data": {
      "text/plain": [
       "array([0, 0, 0, 0, 0, 0, 1, 1, 2, 4])"
      ]
     },
     "execution_count": 260,
     "metadata": {},
     "output_type": "execute_result"
    }
   ],
   "source": [
    "a[indeksy]"
   ]
  },
  {
   "cell_type": "markdown",
   "id": "99829363",
   "metadata": {},
   "source": [
    "##### Tworzenie tablic"
   ]
  },
  {
   "cell_type": "code",
   "execution_count": 32,
   "id": "a39be053",
   "metadata": {},
   "outputs": [
    {
     "data": {
      "text/plain": [
       "array([[0., 0., 0., 0., 0., 0., 0., 0., 0., 0.],\n",
       "       [0., 0., 0., 0., 0., 0., 0., 0., 0., 0.],\n",
       "       [0., 0., 0., 0., 0., 0., 0., 0., 0., 0.],\n",
       "       [0., 0., 0., 0., 0., 0., 0., 0., 0., 0.]])"
      ]
     },
     "execution_count": 32,
     "metadata": {},
     "output_type": "execute_result"
    }
   ],
   "source": [
    "np.zeros(shape=(4, 10)) # np. tworzenie czarnej maski do zdjęć (techniki Computer Vision)"
   ]
  },
  {
   "cell_type": "code",
   "execution_count": 33,
   "id": "f743c2d0",
   "metadata": {},
   "outputs": [
    {
     "data": {
      "text/plain": [
       "array([[0, 0, 0, 0, 0, 0, 0, 0, 0, 0],\n",
       "       [0, 0, 0, 0, 0, 0, 0, 0, 0, 0],\n",
       "       [0, 0, 0, 0, 0, 0, 0, 0, 0, 0],\n",
       "       [0, 0, 0, 0, 0, 0, 0, 0, 0, 0]])"
      ]
     },
     "execution_count": 33,
     "metadata": {},
     "output_type": "execute_result"
    }
   ],
   "source": [
    "np.zeros(shape=(4, 10), dtype='int')"
   ]
  },
  {
   "cell_type": "code",
   "execution_count": 34,
   "id": "292d1957",
   "metadata": {},
   "outputs": [
    {
     "data": {
      "text/plain": [
       "array([[1., 1., 1., 1., 1.],\n",
       "       [1., 1., 1., 1., 1.],\n",
       "       [1., 1., 1., 1., 1.],\n",
       "       [1., 1., 1., 1., 1.],\n",
       "       [1., 1., 1., 1., 1.]])"
      ]
     },
     "execution_count": 34,
     "metadata": {},
     "output_type": "execute_result"
    }
   ],
   "source": [
    "np.ones(shape=(5, 5))"
   ]
  },
  {
   "cell_type": "code",
   "execution_count": 35,
   "id": "7c6f1dfb",
   "metadata": {},
   "outputs": [
    {
     "data": {
      "text/plain": [
       "array([[1, 1, 1, 1, 1],\n",
       "       [1, 1, 1, 1, 1],\n",
       "       [1, 1, 1, 1, 1],\n",
       "       [1, 1, 1, 1, 1],\n",
       "       [1, 1, 1, 1, 1]])"
      ]
     },
     "execution_count": 35,
     "metadata": {},
     "output_type": "execute_result"
    }
   ],
   "source": [
    "np.ones(shape=(5, 5), dtype='int')"
   ]
  },
  {
   "cell_type": "code",
   "execution_count": 36,
   "id": "e4f3fe54",
   "metadata": {},
   "outputs": [
    {
     "data": {
      "text/plain": [
       "array([[4, 4, 4],\n",
       "       [4, 4, 4],\n",
       "       [4, 4, 4]])"
      ]
     },
     "execution_count": 36,
     "metadata": {},
     "output_type": "execute_result"
    }
   ],
   "source": [
    "np.full(shape=(3, 3), fill_value=4, dtype='int')"
   ]
  },
  {
   "cell_type": "code",
   "execution_count": 37,
   "id": "58e34edd",
   "metadata": {},
   "outputs": [
    {
     "data": {
      "text/plain": [
       "array([0, 1, 2, 3, 4, 5, 6, 7, 8, 9])"
      ]
     },
     "execution_count": 37,
     "metadata": {},
     "output_type": "execute_result"
    }
   ],
   "source": [
    "np.arange(10) # wygenerowanie danych od 0 do 10 (tak jak range w Pythonie)"
   ]
  },
  {
   "cell_type": "code",
   "execution_count": 38,
   "id": "39ecde98",
   "metadata": {},
   "outputs": [
    {
     "data": {
      "text/plain": [
       "array([5, 6, 7, 8, 9])"
      ]
     },
     "execution_count": 38,
     "metadata": {},
     "output_type": "execute_result"
    }
   ],
   "source": [
    "np.arange(start=5, stop=10)# dlaczego na końcu mamy 9 a nie 10? pytanie kontrolne"
   ]
  },
  {
   "cell_type": "code",
   "execution_count": 67,
   "id": "290ca5bc",
   "metadata": {},
   "outputs": [
    {
     "data": {
      "text/plain": [
       "array([10, 20, 30, 40, 50, 60, 70, 80, 90])"
      ]
     },
     "execution_count": 67,
     "metadata": {},
     "output_type": "execute_result"
    }
   ],
   "source": [
    "np.arange(start=10, stop=100, step=10) "
   ]
  },
  {
   "cell_type": "code",
   "execution_count": 40,
   "id": "64bcae4e",
   "metadata": {},
   "outputs": [
    {
     "data": {
      "text/plain": [
       "array([100,  90,  80,  70,  60,  50,  40,  30,  20])"
      ]
     },
     "execution_count": 40,
     "metadata": {},
     "output_type": "execute_result"
    }
   ],
   "source": [
    "np.arange(start=100, stop=10, step=-10)"
   ]
  },
  {
   "cell_type": "code",
   "execution_count": 41,
   "id": "48a1d72c",
   "metadata": {},
   "outputs": [
    {
     "data": {
      "text/plain": [
       "array([0.  , 0.05, 0.1 , 0.15, 0.2 , 0.25, 0.3 , 0.35, 0.4 , 0.45, 0.5 ,\n",
       "       0.55, 0.6 , 0.65, 0.7 , 0.75, 0.8 , 0.85, 0.9 , 0.95])"
      ]
     },
     "execution_count": 41,
     "metadata": {},
     "output_type": "execute_result"
    }
   ],
   "source": [
    "np.arange(start=0, stop=1, step=0.05)"
   ]
  },
  {
   "cell_type": "code",
   "execution_count": 68,
   "id": "938e4031",
   "metadata": {},
   "outputs": [
    {
     "data": {
      "text/plain": [
       "array([0. , 0.1, 0.2, 0.3, 0.4, 0.5, 0.6, 0.7, 0.8, 0.9, 1. ])"
      ]
     },
     "execution_count": 68,
     "metadata": {},
     "output_type": "execute_result"
    }
   ],
   "source": [
    "np.linspace(start=0, stop=1, num=11) # num to liczba elementów z przedziału <start:stop> równo rozłożonych"
   ]
  },
  {
   "cell_type": "code",
   "execution_count": 43,
   "id": "04f455da",
   "metadata": {},
   "outputs": [
    {
     "data": {
      "text/plain": [
       "array([ 0,  1,  2,  3,  4,  5,  6,  7,  8,  9, 10, 11, 12, 13, 14])"
      ]
     },
     "execution_count": 43,
     "metadata": {},
     "output_type": "execute_result"
    }
   ],
   "source": [
    "A = np.arange(15)\n",
    "A"
   ]
  },
  {
   "cell_type": "code",
   "execution_count": 44,
   "id": "e16a4d05",
   "metadata": {},
   "outputs": [
    {
     "data": {
      "text/plain": [
       "array([[ 0,  1,  2,  3,  4],\n",
       "       [ 5,  6,  7,  8,  9],\n",
       "       [10, 11, 12, 13, 14]])"
      ]
     },
     "execution_count": 44,
     "metadata": {},
     "output_type": "execute_result"
    }
   ],
   "source": [
    "A.reshape((3, 5)) # zmiana rozmiaru tablicy"
   ]
  },
  {
   "cell_type": "code",
   "execution_count": 45,
   "id": "e98938c0",
   "metadata": {},
   "outputs": [
    {
     "data": {
      "text/plain": [
       "array([[ 0,  1,  2,  3,  4],\n",
       "       [ 5,  6,  7,  8,  9],\n",
       "       [10, 11, 12, 13, 14]])"
      ]
     },
     "execution_count": 45,
     "metadata": {},
     "output_type": "execute_result"
    }
   ],
   "source": [
    "A.reshape((3, -1)) # -1 tam gdzie nie chcemy liczyć jednego z wymiarów (bardzo długa tablica)"
   ]
  },
  {
   "cell_type": "code",
   "execution_count": 46,
   "id": "ae0426e1",
   "metadata": {},
   "outputs": [
    {
     "data": {
      "text/plain": [
       "array([[ 0,  1,  2],\n",
       "       [ 3,  4,  5],\n",
       "       [ 6,  7,  8],\n",
       "       [ 9, 10, 11],\n",
       "       [12, 13, 14]])"
      ]
     },
     "execution_count": 46,
     "metadata": {},
     "output_type": "execute_result"
    }
   ],
   "source": [
    "A.reshape((-1, 3)) "
   ]
  },
  {
   "cell_type": "markdown",
   "id": "66edd3e1",
   "metadata": {},
   "source": [
    "##### Podstawowe operacje na tablicach"
   ]
  },
  {
   "cell_type": "code",
   "execution_count": 47,
   "id": "b6fe2319",
   "metadata": {},
   "outputs": [
    {
     "name": "stdout",
     "output_type": "stream",
     "text": [
      "[3 1 4 2]\n",
      "[ 3 -1  3  2]\n"
     ]
    }
   ],
   "source": [
    "A = np.array([3, 1, 4, 2])\n",
    "B = np.array([3, -1, 3, 2])\n",
    "print(A)\n",
    "print(B)"
   ]
  },
  {
   "cell_type": "code",
   "execution_count": 48,
   "id": "da821bba",
   "metadata": {},
   "outputs": [
    {
     "data": {
      "text/plain": [
       "array([6, 0, 7, 4])"
      ]
     },
     "execution_count": 48,
     "metadata": {},
     "output_type": "execute_result"
    }
   ],
   "source": [
    "A + B"
   ]
  },
  {
   "cell_type": "code",
   "execution_count": 49,
   "id": "98774f3c",
   "metadata": {},
   "outputs": [
    {
     "data": {
      "text/plain": [
       "array([0, 2, 1, 0])"
      ]
     },
     "execution_count": 49,
     "metadata": {},
     "output_type": "execute_result"
    }
   ],
   "source": [
    "A - B"
   ]
  },
  {
   "cell_type": "code",
   "execution_count": 50,
   "id": "e284ed4d",
   "metadata": {},
   "outputs": [
    {
     "data": {
      "text/plain": [
       "array([ 9, -1, 12,  4])"
      ]
     },
     "execution_count": 50,
     "metadata": {},
     "output_type": "execute_result"
    }
   ],
   "source": [
    "A * B"
   ]
  },
  {
   "cell_type": "code",
   "execution_count": 51,
   "id": "b372b025",
   "metadata": {},
   "outputs": [
    {
     "data": {
      "text/plain": [
       "array([ 1.        , -1.        ,  1.33333333,  1.        ])"
      ]
     },
     "execution_count": 51,
     "metadata": {},
     "output_type": "execute_result"
    }
   ],
   "source": [
    "A / B"
   ]
  },
  {
   "cell_type": "code",
   "execution_count": 52,
   "id": "70039367",
   "metadata": {},
   "outputs": [
    {
     "data": {
      "text/plain": [
       "array([6, 0, 7, 4])"
      ]
     },
     "execution_count": 52,
     "metadata": {},
     "output_type": "execute_result"
    }
   ],
   "source": [
    "np.add(A, B)"
   ]
  },
  {
   "cell_type": "code",
   "execution_count": 53,
   "id": "1aede45d",
   "metadata": {},
   "outputs": [
    {
     "data": {
      "text/plain": [
       "array([0, 2, 1, 0])"
      ]
     },
     "execution_count": 53,
     "metadata": {},
     "output_type": "execute_result"
    }
   ],
   "source": [
    "np.subtract(A, B)"
   ]
  },
  {
   "cell_type": "code",
   "execution_count": 54,
   "id": "405c39d4",
   "metadata": {},
   "outputs": [
    {
     "data": {
      "text/plain": [
       "array([ 9, -1, 12,  4])"
      ]
     },
     "execution_count": 54,
     "metadata": {},
     "output_type": "execute_result"
    }
   ],
   "source": [
    "np.multiply(A, B)"
   ]
  },
  {
   "cell_type": "code",
   "execution_count": 55,
   "id": "b0a10dd3",
   "metadata": {},
   "outputs": [
    {
     "data": {
      "text/plain": [
       "array([ 1.        , -1.        ,  1.33333333,  1.        ])"
      ]
     },
     "execution_count": 55,
     "metadata": {},
     "output_type": "execute_result"
    }
   ],
   "source": [
    "np.divide(A, B)"
   ]
  },
  {
   "cell_type": "code",
   "execution_count": 56,
   "id": "cd8e63d8",
   "metadata": {},
   "outputs": [
    {
     "data": {
      "text/plain": [
       "array([6, 4, 7, 5])"
      ]
     },
     "execution_count": 56,
     "metadata": {},
     "output_type": "execute_result"
    }
   ],
   "source": [
    "A + 3"
   ]
  },
  {
   "cell_type": "code",
   "execution_count": 57,
   "id": "d547dd69",
   "metadata": {},
   "outputs": [
    {
     "data": {
      "text/plain": [
       "array([6, 2, 8, 4])"
      ]
     },
     "execution_count": 57,
     "metadata": {},
     "output_type": "execute_result"
    }
   ],
   "source": [
    "2 * A"
   ]
  },
  {
   "cell_type": "code",
   "execution_count": 58,
   "id": "e1e45d6f",
   "metadata": {},
   "outputs": [
    {
     "data": {
      "text/plain": [
       "array([12, -2, 13,  8])"
      ]
     },
     "execution_count": 58,
     "metadata": {},
     "output_type": "execute_result"
    }
   ],
   "source": [
    "A + 3*B"
   ]
  },
  {
   "cell_type": "markdown",
   "id": "570a194f",
   "metadata": {},
   "source": [
    "### Mnożenie zwykłe i macierzowe"
   ]
  },
  {
   "cell_type": "code",
   "execution_count": 59,
   "id": "55b1b3ea",
   "metadata": {},
   "outputs": [
    {
     "name": "stdout",
     "output_type": "stream",
     "text": [
      "[[ 1  3]\n",
      " [-2  0]] \n",
      "\n",
      "[[ 6  0]\n",
      " [-1  2]]\n"
     ]
    }
   ],
   "source": [
    "X = np.array([[1, 3], [-2, 0]])\n",
    "Y = np.array([[6, 0], [-1, 2]])\n",
    "print(X, '\\n')\n",
    "print(Y)"
   ]
  },
  {
   "cell_type": "code",
   "execution_count": 60,
   "id": "89e04b41",
   "metadata": {},
   "outputs": [
    {
     "data": {
      "text/plain": [
       "array([[6, 0],\n",
       "       [2, 0]])"
      ]
     },
     "execution_count": 60,
     "metadata": {},
     "output_type": "execute_result"
    }
   ],
   "source": [
    "X * Y"
   ]
  },
  {
   "cell_type": "code",
   "execution_count": 62,
   "id": "c2609b75",
   "metadata": {},
   "outputs": [
    {
     "data": {
      "text/plain": [
       "array([[  3,   6],\n",
       "       [-12,   0]])"
      ]
     },
     "execution_count": 62,
     "metadata": {},
     "output_type": "execute_result"
    }
   ],
   "source": [
    "np.dot(X, Y)"
   ]
  },
  {
   "cell_type": "code",
   "execution_count": 63,
   "id": "6a3e44bf",
   "metadata": {},
   "outputs": [
    {
     "data": {
      "text/plain": [
       "array([[  3,   6],\n",
       "       [-12,   0]])"
      ]
     },
     "execution_count": 63,
     "metadata": {},
     "output_type": "execute_result"
    }
   ],
   "source": [
    "X.dot(Y)"
   ]
  },
  {
   "cell_type": "code",
   "execution_count": 64,
   "id": "1d3595a5",
   "metadata": {},
   "outputs": [
    {
     "data": {
      "text/plain": [
       "array([[ 6, 18],\n",
       "       [-5, -3]])"
      ]
     },
     "execution_count": 64,
     "metadata": {},
     "output_type": "execute_result"
    }
   ],
   "source": [
    "Y.dot(X)"
   ]
  },
  {
   "cell_type": "code",
   "execution_count": 65,
   "id": "5de0d1b1",
   "metadata": {},
   "outputs": [
    {
     "data": {
      "text/plain": [
       "array([[  3,   6],\n",
       "       [-12,   0]])"
      ]
     },
     "execution_count": 65,
     "metadata": {},
     "output_type": "execute_result"
    }
   ],
   "source": [
    "X @ Y"
   ]
  },
  {
   "cell_type": "markdown",
   "id": "ab1e9da5",
   "metadata": {},
   "source": [
    "### Losowania"
   ]
  },
  {
   "cell_type": "markdown",
   "id": "f4190cf5",
   "metadata": {},
   "source": [
    "##### Generowanie liczb pseudolosowych"
   ]
  },
  {
   "cell_type": "markdown",
   "id": "756d74fc",
   "metadata": {},
   "source": [
    "Liczby wygenerowane przez moduł `np.random` w NumPy (i inne podobne biblioteki) nazywane są liczbami \"pseudolosowymi\" z kilku powodów:\n",
    "\n",
    "### Deterministyczna natura algorytmów\n",
    "\n",
    "1. **Deterministyczne algorytmy**:\n",
    "   Liczby pseudolosowe są generowane przez algorytmy matematyczne, które są deterministyczne. To oznacza, że jeśli znamy stan początkowy (nazywany seedem) algorytmu, możemy dokładnie przewidzieć wszystkie kolejne liczby wygenerowane przez ten algorytm. Oto przykład w Pythonie:\n",
    "\n",
    "   ```python\n",
    "   import numpy as np\n",
    "\n",
    "   # Ustawienie ziarna (seed)\n",
    "   np.random.seed(42)\n",
    "\n",
    "   # Generowanie liczb pseudolosowych\n",
    "   print(np.random.rand(5))\n",
    "   ```\n",
    "    **Algorytmy deterministyczne** to klasa algorytmów, które zawsze zachowują się w sposób przewidywalny. Oznacza to, że dla określonego zestawu wejściowych danych, algorytm deterministyczny zawsze przechodzi przez te same stany i daje ten sam wynik.\n",
    "   \n",
    "\n",
    "   Ustawienie tego samego ziarna (`42` w tym przypadku) zawsze da ten sam zestaw liczb.\n",
    "\n",
    "### Powtarzalność\n",
    "\n",
    "2. **Powtarzalność**:\n",
    "   Możliwość powtarzania wyników jest kluczowa dla wielu zastosowań naukowych i technicznych. Dzięki pseudolosowości, możemy odtworzyć dokładnie te same wyniki w różnych momentach, co jest istotne np. podczas debugowania kodu lub walidacji wyników eksperymentów.\n",
    "\n",
    "### Ograniczona entropia\n",
    "\n",
    "3. **Ograniczona entropia**:\n",
    "   Liczby pseudolosowe mają ograniczoną entropię, co oznacza, że po pewnym czasie zaczynają się powtarzać. Dla wielu generatorów liczb pseudolosowych, długość sekwencji, po której liczby zaczynają się powtarzać, może być bardzo długa (nawet biliony liczb), ale w końcu się powtórzą. To odróżnia je od prawdziwych liczb losowych, które teoretycznie nigdy się nie powtarzają.\n",
    "\n",
    "### Brak prawdziwej losowości\n",
    "\n",
    "4. **Brak prawdziwej losowości**:\n",
    "   Prawdziwe liczby losowe są generowane przez procesy fizyczne, które są naprawdę losowe, takie jak promieniowanie tła lub fluktuacje termiczne. W przeciwieństwie do tego, pseudolosowe liczby są generowane przez algorytmy, które symulują losowość, ale są w rzeczywistości deterministyczne.\n",
    "\n",
    "### Przykład z NumPy\n",
    "\n",
    "W NumPy, `np.random` używa generatora liczb pseudolosowych, który jest wystarczająco dobry dla większości zastosowań, ale nie jest odpowiedni dla wszystkich aplikacji kryptograficznych lub tych, które wymagają prawdziwej losowości.\n",
    "\n",
    "```python\n",
    "import numpy as np\n",
    "\n",
    "# Generowanie 5 liczb pseudolosowych\n",
    "random_numbers = np.random.rand(5)\n",
    "print(random_numbers)\n",
    "```\n",
    "\n",
    "Za każdym razem, gdy uruchomimy powyższy kod bez ustawiania seeda, wyniki będą się różnić, ale będą deterministyczne, jeśli ustawimy seed.\n",
    "\n",
    "### Podsumowanie\n",
    "\n",
    "Liczby wygenerowane przez `np.random` są nazywane \"pseudolosowymi\" ponieważ:\n",
    "- Są generowane przez deterministyczne algorytmy.\n",
    "- Mogą być powtarzalne przy użyciu tego samego seeda.\n",
    "- Mają ograniczoną entropię i mogą się powtarzać po długiej sekwencji.\n",
    "- Nie są prawdziwie losowe jak liczby generowane przez procesy fizyczne. "
   ]
  },
  {
   "cell_type": "code",
   "execution_count": null,
   "id": "f0513078",
   "metadata": {},
   "outputs": [],
   "source": []
  },
  {
   "cell_type": "code",
   "execution_count": 69,
   "id": "56bf575e",
   "metadata": {},
   "outputs": [],
   "source": [
    "np.random.seed(0) # ziarno losowania - za każdym razem ten sam wynik losowania (w ML też ważne przy np. parametrach sieci)"
   ]
  },
  {
   "cell_type": "code",
   "execution_count": 140,
   "id": "ea85717d",
   "metadata": {},
   "outputs": [
    {
     "data": {
      "text/plain": [
       "-0.04574809909962204"
      ]
     },
     "execution_count": 140,
     "metadata": {},
     "output_type": "execute_result"
    }
   ],
   "source": [
    "np.random.randn() # losowa wartość z rozkładu normalnego"
   ]
  },
  {
   "cell_type": "code",
   "execution_count": 141,
   "id": "d3185f14",
   "metadata": {},
   "outputs": [
    {
     "data": {
      "text/plain": [
       "array([ 0.04989841, -0.93553046,  0.28738765,  0.36042727,  0.40814812,\n",
       "       -1.94071568,  1.44483571,  0.19286086, -0.42086482,  1.74025346])"
      ]
     },
     "execution_count": 141,
     "metadata": {},
     "output_type": "execute_result"
    }
   ],
   "source": [
    "np.random.randn(10) # 10 elementów z rozkłądu normalego"
   ]
  },
  {
   "cell_type": "code",
   "execution_count": 72,
   "id": "a8557112",
   "metadata": {},
   "outputs": [
    {
     "data": {
      "text/plain": [
       "array([[ 1.45427351,  0.76103773,  0.12167502,  0.44386323],\n",
       "       [ 0.33367433,  1.49407907, -0.20515826,  0.3130677 ],\n",
       "       [-0.85409574, -2.55298982,  0.6536186 ,  0.8644362 ],\n",
       "       [-0.74216502,  2.26975462, -1.45436567,  0.04575852],\n",
       "       [-0.18718385,  1.53277921,  1.46935877,  0.15494743],\n",
       "       [ 0.37816252, -0.88778575, -1.98079647, -0.34791215],\n",
       "       [ 0.15634897,  1.23029068,  1.20237985, -0.38732682],\n",
       "       [-0.30230275, -1.04855297, -1.42001794, -1.70627019],\n",
       "       [ 1.9507754 , -0.50965218, -0.4380743 , -1.25279536],\n",
       "       [ 0.77749036, -1.61389785, -0.21274028, -0.89546656]])"
      ]
     },
     "execution_count": 72,
     "metadata": {},
     "output_type": "execute_result"
    }
   ],
   "source": [
    "np.random.randn(10, 4)"
   ]
  },
  {
   "cell_type": "code",
   "execution_count": 142,
   "id": "7bbd344a",
   "metadata": {},
   "outputs": [
    {
     "data": {
      "text/plain": [
       "0.8663823259286292"
      ]
     },
     "execution_count": 142,
     "metadata": {},
     "output_type": "execute_result"
    }
   ],
   "source": [
    "np.random.rand() # rozkład jednostajny <0:1)"
   ]
  },
  {
   "cell_type": "code",
   "execution_count": 74,
   "id": "a0e77003",
   "metadata": {},
   "outputs": [
    {
     "data": {
      "text/plain": [
       "array([0.36872517, 0.82099323, 0.09710128, 0.83794491, 0.09609841,\n",
       "       0.97645947, 0.4686512 , 0.97676109, 0.60484552, 0.73926358])"
      ]
     },
     "execution_count": 74,
     "metadata": {},
     "output_type": "execute_result"
    }
   ],
   "source": [
    "np.random.rand(10)"
   ]
  },
  {
   "cell_type": "code",
   "execution_count": 75,
   "id": "dd77d0f8",
   "metadata": {},
   "outputs": [
    {
     "data": {
      "text/plain": [
       "array([[0.03918779, 0.28280696],\n",
       "       [0.12019656, 0.2961402 ],\n",
       "       [0.11872772, 0.31798318],\n",
       "       [0.41426299, 0.0641475 ],\n",
       "       [0.69247212, 0.56660145],\n",
       "       [0.26538949, 0.52324805],\n",
       "       [0.09394051, 0.5759465 ],\n",
       "       [0.9292962 , 0.31856895],\n",
       "       [0.66741038, 0.13179786],\n",
       "       [0.7163272 , 0.28940609]])"
      ]
     },
     "execution_count": 75,
     "metadata": {},
     "output_type": "execute_result"
    }
   ],
   "source": [
    "np.random.rand(10, 2)"
   ]
  },
  {
   "cell_type": "code",
   "execution_count": 143,
   "id": "59249bae",
   "metadata": {},
   "outputs": [
    {
     "data": {
      "text/plain": [
       "9"
      ]
     },
     "execution_count": 143,
     "metadata": {},
     "output_type": "execute_result"
    }
   ],
   "source": [
    "np.random.randint(10) # liczba całkowita (0:10)"
   ]
  },
  {
   "cell_type": "code",
   "execution_count": 148,
   "id": "f789c4c1",
   "metadata": {},
   "outputs": [
    {
     "data": {
      "text/plain": [
       "49"
      ]
     },
     "execution_count": 148,
     "metadata": {},
     "output_type": "execute_result"
    }
   ],
   "source": [
    "np.random.randint(low=10, high=101)"
   ]
  },
  {
   "cell_type": "code",
   "execution_count": 118,
   "id": "bc6a4281",
   "metadata": {},
   "outputs": [
    {
     "data": {
      "text/plain": [
       "array([89, 51, 28, 50, 64, 89, 21, 48, 11, 54])"
      ]
     },
     "execution_count": 118,
     "metadata": {},
     "output_type": "execute_result"
    }
   ],
   "source": [
    "np.random.randint(low=10, high=101, size=10)"
   ]
  },
  {
   "cell_type": "code",
   "execution_count": 119,
   "id": "f4e54750",
   "metadata": {},
   "outputs": [
    {
     "data": {
      "text/plain": [
       "4"
      ]
     },
     "execution_count": 119,
     "metadata": {},
     "output_type": "execute_result"
    }
   ],
   "source": [
    "np.random.choice([4, 2, 1, 3, 5]) # losowy element z listy"
   ]
  },
  {
   "cell_type": "code",
   "execution_count": 120,
   "id": "13d53d27",
   "metadata": {},
   "outputs": [
    {
     "data": {
      "text/plain": [
       "'java'"
      ]
     },
     "execution_count": 120,
     "metadata": {},
     "output_type": "execute_result"
    }
   ],
   "source": [
    "np.random.choice(['python', 'java', 'sql'])"
   ]
  },
  {
   "cell_type": "code",
   "execution_count": 121,
   "id": "b60a0f10",
   "metadata": {},
   "outputs": [
    {
     "data": {
      "text/plain": [
       "array([0, 1, 2, 3, 4, 5, 6, 7, 8, 9])"
      ]
     },
     "execution_count": 121,
     "metadata": {},
     "output_type": "execute_result"
    }
   ],
   "source": [
    "data = np.arange(10)\n",
    "data"
   ]
  },
  {
   "cell_type": "code",
   "execution_count": 151,
   "id": "1b04d9d4",
   "metadata": {},
   "outputs": [
    {
     "data": {
      "text/plain": [
       "array([4, 2, 7, 6, 0, 9, 5, 3, 8, 1])"
      ]
     },
     "execution_count": 151,
     "metadata": {},
     "output_type": "execute_result"
    }
   ],
   "source": [
    "np.random.shuffle(data) # działanie w miejscu w przecieiwństwie do metod z PANDASA\n",
    "data"
   ]
  },
  {
   "cell_type": "markdown",
   "id": "5d3e3bde",
   "metadata": {},
   "source": [
    "##### Podstawowe funkcje (metody)"
   ]
  },
  {
   "cell_type": "code",
   "execution_count": 124,
   "id": "31ce774d",
   "metadata": {},
   "outputs": [
    {
     "data": {
      "text/plain": [
       "2.718281828459045"
      ]
     },
     "execution_count": 124,
     "metadata": {},
     "output_type": "execute_result"
    }
   ],
   "source": [
    "np.exp(1) # stała e (Eulera)"
   ]
  },
  {
   "cell_type": "code",
   "execution_count": 152,
   "id": "0c74e10c",
   "metadata": {},
   "outputs": [
    {
     "data": {
      "text/plain": [
       "3.0"
      ]
     },
     "execution_count": 152,
     "metadata": {},
     "output_type": "execute_result"
    }
   ],
   "source": [
    "np.sqrt(9) # pierwiastek"
   ]
  },
  {
   "cell_type": "code",
   "execution_count": 156,
   "id": "90c73fac",
   "metadata": {},
   "outputs": [
    {
     "data": {
      "text/plain": [
       "True"
      ]
     },
     "execution_count": 156,
     "metadata": {},
     "output_type": "execute_result"
    }
   ],
   "source": [
    "np.all([2, 3, 1])"
   ]
  },
  {
   "cell_type": "code",
   "execution_count": 154,
   "id": "fb6c7007",
   "metadata": {},
   "outputs": [
    {
     "data": {
      "text/plain": [
       "False"
      ]
     },
     "execution_count": 154,
     "metadata": {},
     "output_type": "execute_result"
    }
   ],
   "source": [
    "np.any([0, 0, 0])"
   ]
  },
  {
   "cell_type": "code",
   "execution_count": 128,
   "id": "40d2700d",
   "metadata": {},
   "outputs": [
    {
     "data": {
      "text/plain": [
       "True"
      ]
     },
     "execution_count": 128,
     "metadata": {},
     "output_type": "execute_result"
    }
   ],
   "source": [
    "bool(1.3)"
   ]
  },
  {
   "cell_type": "code",
   "execution_count": 157,
   "id": "ef21d6aa",
   "metadata": {},
   "outputs": [
    {
     "data": {
      "text/plain": [
       "array([0.03183893, 0.16469416, 0.6214784 , 0.57722859, 0.23789282])"
      ]
     },
     "execution_count": 157,
     "metadata": {},
     "output_type": "execute_result"
    }
   ],
   "source": [
    "A = np.random.rand(5) # 5 wart. z rozkładu jednostajengo \n",
    "A"
   ]
  },
  {
   "cell_type": "code",
   "execution_count": 158,
   "id": "80be4935",
   "metadata": {},
   "outputs": [
    {
     "data": {
      "text/plain": [
       "2"
      ]
     },
     "execution_count": 158,
     "metadata": {},
     "output_type": "execute_result"
    }
   ],
   "source": [
    "np.argmax(A) # indeks wartości max"
   ]
  },
  {
   "cell_type": "code",
   "execution_count": 162,
   "id": "202b5074",
   "metadata": {},
   "outputs": [
    {
     "data": {
      "text/plain": [
       "0.6214784014997635"
      ]
     },
     "execution_count": 162,
     "metadata": {},
     "output_type": "execute_result"
    }
   ],
   "source": [
    "A[np.argmax(A)] # wartość max"
   ]
  },
  {
   "cell_type": "code",
   "execution_count": 159,
   "id": "cf5caf94",
   "metadata": {},
   "outputs": [
    {
     "data": {
      "text/plain": [
       "0"
      ]
     },
     "execution_count": 159,
     "metadata": {},
     "output_type": "execute_result"
    }
   ],
   "source": [
    "np.argmin(A) # indeks wartości min"
   ]
  },
  {
   "cell_type": "code",
   "execution_count": 133,
   "id": "b03b038d",
   "metadata": {},
   "outputs": [
    {
     "data": {
      "text/plain": [
       "array([2, 1, 4, 0, 3], dtype=int64)"
      ]
     },
     "execution_count": 133,
     "metadata": {},
     "output_type": "execute_result"
    }
   ],
   "source": [
    "np.argsort(A)"
   ]
  },
  {
   "cell_type": "code",
   "execution_count": 160,
   "id": "20c5e5bc",
   "metadata": {},
   "outputs": [
    {
     "data": {
      "text/plain": [
       "0.6214784014997635"
      ]
     },
     "execution_count": 160,
     "metadata": {},
     "output_type": "execute_result"
    }
   ],
   "source": [
    "np.max(A)"
   ]
  },
  {
   "cell_type": "code",
   "execution_count": 161,
   "id": "ee7ba987",
   "metadata": {},
   "outputs": [
    {
     "data": {
      "text/plain": [
       "0.03183892953130785"
      ]
     },
     "execution_count": 161,
     "metadata": {},
     "output_type": "execute_result"
    }
   ],
   "source": [
    "np.min(A)"
   ]
  },
  {
   "cell_type": "code",
   "execution_count": 136,
   "id": "e18488b2",
   "metadata": {},
   "outputs": [
    {
     "data": {
      "text/plain": [
       "0.6488066746385076"
      ]
     },
     "execution_count": 136,
     "metadata": {},
     "output_type": "execute_result"
    }
   ],
   "source": [
    "np.mean(A)"
   ]
  },
  {
   "cell_type": "code",
   "execution_count": 137,
   "id": "9642cfec",
   "metadata": {},
   "outputs": [
    {
     "data": {
      "text/plain": [
       "0.7142412995491114"
      ]
     },
     "execution_count": 137,
     "metadata": {},
     "output_type": "execute_result"
    }
   ],
   "source": [
    "np.median(A)"
   ]
  },
  {
   "cell_type": "code",
   "execution_count": 138,
   "id": "a32304ba",
   "metadata": {},
   "outputs": [
    {
     "data": {
      "text/plain": [
       "0.28505849246628834"
      ]
     },
     "execution_count": 138,
     "metadata": {},
     "output_type": "execute_result"
    }
   ],
   "source": [
    "np.std(A)"
   ]
  },
  {
   "cell_type": "markdown",
   "id": "a22ecaf8",
   "metadata": {},
   "source": [
    "##### Indeksowanie, Wycinanie"
   ]
  },
  {
   "cell_type": "code",
   "execution_count": 163,
   "id": "b5eb670b",
   "metadata": {},
   "outputs": [
    {
     "data": {
      "text/plain": [
       "array([ 0,  1,  2,  3,  4,  5,  6,  7,  8,  9, 10, 11, 12, 13, 14, 15, 16,\n",
       "       17, 18, 19])"
      ]
     },
     "execution_count": 163,
     "metadata": {},
     "output_type": "execute_result"
    }
   ],
   "source": [
    "A = np.arange(20)\n",
    "A"
   ]
  },
  {
   "cell_type": "code",
   "execution_count": 164,
   "id": "fe9e81a7",
   "metadata": {},
   "outputs": [],
   "source": [
    "# A[idx], A[start:stop], A[:stop], A[start:]"
   ]
  },
  {
   "cell_type": "code",
   "execution_count": 165,
   "id": "2aaa4c62",
   "metadata": {},
   "outputs": [
    {
     "data": {
      "text/plain": [
       "2"
      ]
     },
     "execution_count": 165,
     "metadata": {},
     "output_type": "execute_result"
    }
   ],
   "source": [
    "A[2]"
   ]
  },
  {
   "cell_type": "code",
   "execution_count": 166,
   "id": "1a9b2988",
   "metadata": {},
   "outputs": [
    {
     "data": {
      "text/plain": [
       "array([ 2,  3,  4,  5,  6,  7,  8,  9, 10, 11, 12, 13, 14, 15, 16, 17, 18,\n",
       "       19])"
      ]
     },
     "execution_count": 166,
     "metadata": {},
     "output_type": "execute_result"
    }
   ],
   "source": [
    "A[2:]"
   ]
  },
  {
   "cell_type": "code",
   "execution_count": 167,
   "id": "71445cb3",
   "metadata": {},
   "outputs": [
    {
     "data": {
      "text/plain": [
       "array([0, 1])"
      ]
     },
     "execution_count": 167,
     "metadata": {},
     "output_type": "execute_result"
    }
   ],
   "source": [
    "A[:2]"
   ]
  },
  {
   "cell_type": "code",
   "execution_count": 168,
   "id": "321de02c",
   "metadata": {},
   "outputs": [
    {
     "data": {
      "text/plain": [
       "array([0, 2])"
      ]
     },
     "execution_count": 168,
     "metadata": {},
     "output_type": "execute_result"
    }
   ],
   "source": [
    "A[[0, 2]]"
   ]
  },
  {
   "cell_type": "code",
   "execution_count": 169,
   "id": "297c2bcf",
   "metadata": {},
   "outputs": [
    {
     "data": {
      "text/plain": [
       "19"
      ]
     },
     "execution_count": 169,
     "metadata": {},
     "output_type": "execute_result"
    }
   ],
   "source": [
    "A[-1]"
   ]
  },
  {
   "cell_type": "code",
   "execution_count": 170,
   "id": "5162d05b",
   "metadata": {},
   "outputs": [
    {
     "data": {
      "text/plain": [
       "array([10, 11, 12, 13, 14])"
      ]
     },
     "execution_count": 170,
     "metadata": {},
     "output_type": "execute_result"
    }
   ],
   "source": [
    "A[10:15]"
   ]
  },
  {
   "cell_type": "code",
   "execution_count": 171,
   "id": "902f9a93",
   "metadata": {},
   "outputs": [
    {
     "data": {
      "text/plain": [
       "array([[ 0,  1,  2,  3,  4],\n",
       "       [ 5,  6,  7,  8,  9],\n",
       "       [10, 11, 12, 13, 14],\n",
       "       [15, 16, 17, 18, 19]])"
      ]
     },
     "execution_count": 171,
     "metadata": {},
     "output_type": "execute_result"
    }
   ],
   "source": [
    "A = A.reshape(4, 5)\n",
    "A"
   ]
  },
  {
   "cell_type": "code",
   "execution_count": 172,
   "id": "72962a6a",
   "metadata": {},
   "outputs": [
    {
     "data": {
      "text/plain": [
       "array([[ 6,  7,  8],\n",
       "       [11, 12, 13]])"
      ]
     },
     "execution_count": 172,
     "metadata": {},
     "output_type": "execute_result"
    }
   ],
   "source": [
    "A[1:3, 1:4]"
   ]
  },
  {
   "cell_type": "code",
   "execution_count": 173,
   "id": "7b98e36d",
   "metadata": {},
   "outputs": [
    {
     "data": {
      "text/plain": [
       "array([[ 0,  1,  2,  3,  4],\n",
       "       [ 5,  6, 14,  8,  9],\n",
       "       [10, 11, 12, 13, 14],\n",
       "       [15, 16, 17, 18, 19]])"
      ]
     },
     "execution_count": 173,
     "metadata": {},
     "output_type": "execute_result"
    }
   ],
   "source": [
    "A[1, 2] = 14\n",
    "A"
   ]
  },
  {
   "cell_type": "markdown",
   "id": "3bf05255",
   "metadata": {},
   "source": [
    "##### Iteracja po tablicach"
   ]
  },
  {
   "cell_type": "code",
   "execution_count": 174,
   "id": "e899563c",
   "metadata": {},
   "outputs": [
    {
     "data": {
      "text/plain": [
       "array([[ 0,  1,  2,  3,  4],\n",
       "       [ 5,  6, 14,  8,  9],\n",
       "       [10, 11, 12, 13, 14],\n",
       "       [15, 16, 17, 18, 19]])"
      ]
     },
     "execution_count": 174,
     "metadata": {},
     "output_type": "execute_result"
    }
   ],
   "source": [
    "A"
   ]
  },
  {
   "cell_type": "code",
   "execution_count": 175,
   "id": "ca6c7ab8",
   "metadata": {},
   "outputs": [
    {
     "name": "stdout",
     "output_type": "stream",
     "text": [
      "[0 1 2 3 4]\n",
      "[ 5  6 14  8  9]\n",
      "[10 11 12 13 14]\n",
      "[15 16 17 18 19]\n"
     ]
    }
   ],
   "source": [
    "for row in A:\n",
    "    print(row)"
   ]
  },
  {
   "cell_type": "code",
   "execution_count": 176,
   "id": "9b077b0a",
   "metadata": {},
   "outputs": [
    {
     "name": "stdout",
     "output_type": "stream",
     "text": [
      "[0 1 2]\n",
      "[ 5  6 14]\n",
      "[10 11 12]\n",
      "[15 16 17]\n"
     ]
    }
   ],
   "source": [
    "for row in A:\n",
    "    print(row[:3])"
   ]
  },
  {
   "cell_type": "code",
   "execution_count": 177,
   "id": "bc2140c4",
   "metadata": {},
   "outputs": [
    {
     "name": "stdout",
     "output_type": "stream",
     "text": [
      "0\n",
      "1\n",
      "2\n",
      "3\n",
      "4\n",
      "5\n",
      "6\n",
      "14\n",
      "8\n",
      "9\n",
      "10\n",
      "11\n",
      "12\n",
      "13\n",
      "14\n",
      "15\n",
      "16\n",
      "17\n",
      "18\n",
      "19\n"
     ]
    }
   ],
   "source": [
    "for item in A.flat:\n",
    "    print(item)"
   ]
  },
  {
   "cell_type": "markdown",
   "id": "c32ad18c",
   "metadata": {},
   "source": [
    "##### Zmiana rozmiaru tablic"
   ]
  },
  {
   "cell_type": "code",
   "execution_count": 178,
   "id": "88f6903d",
   "metadata": {},
   "outputs": [
    {
     "data": {
      "text/plain": [
       "array([[ 0,  1,  2,  3,  4],\n",
       "       [ 5,  6, 14,  8,  9],\n",
       "       [10, 11, 12, 13, 14],\n",
       "       [15, 16, 17, 18, 19]])"
      ]
     },
     "execution_count": 178,
     "metadata": {},
     "output_type": "execute_result"
    }
   ],
   "source": [
    "A"
   ]
  },
  {
   "cell_type": "code",
   "execution_count": 179,
   "id": "75286264",
   "metadata": {},
   "outputs": [
    {
     "data": {
      "text/plain": [
       "(4, 5)"
      ]
     },
     "execution_count": 179,
     "metadata": {},
     "output_type": "execute_result"
    }
   ],
   "source": [
    "A.shape"
   ]
  },
  {
   "cell_type": "code",
   "execution_count": 180,
   "id": "b136936d",
   "metadata": {},
   "outputs": [
    {
     "data": {
      "text/plain": [
       "array([[ 0,  1,  2,  3],\n",
       "       [ 4,  5,  6, 14],\n",
       "       [ 8,  9, 10, 11],\n",
       "       [12, 13, 14, 15],\n",
       "       [16, 17, 18, 19]])"
      ]
     },
     "execution_count": 180,
     "metadata": {},
     "output_type": "execute_result"
    }
   ],
   "source": [
    "A.reshape(5, 4)"
   ]
  },
  {
   "cell_type": "code",
   "execution_count": 181,
   "id": "254b5382",
   "metadata": {},
   "outputs": [
    {
     "data": {
      "text/plain": [
       "array([ 0,  1,  2,  3,  4,  5,  6, 14,  8,  9, 10, 11, 12, 13, 14, 15, 16,\n",
       "       17, 18, 19])"
      ]
     },
     "execution_count": 181,
     "metadata": {},
     "output_type": "execute_result"
    }
   ],
   "source": [
    "A.ravel() # wypłaszczenie danych "
   ]
  },
  {
   "cell_type": "code",
   "execution_count": 182,
   "id": "9ee1704c",
   "metadata": {},
   "outputs": [
    {
     "data": {
      "text/plain": [
       "array([[ 0,  5, 10, 15],\n",
       "       [ 1,  6, 11, 16],\n",
       "       [ 2, 14, 12, 17],\n",
       "       [ 3,  8, 13, 18],\n",
       "       [ 4,  9, 14, 19]])"
      ]
     },
     "execution_count": 182,
     "metadata": {},
     "output_type": "execute_result"
    }
   ],
   "source": [
    "A.T"
   ]
  },
  {
   "cell_type": "markdown",
   "id": "7fdc7e8d",
   "metadata": {},
   "source": [
    "##### Maski logiczne"
   ]
  },
  {
   "cell_type": "code",
   "execution_count": 183,
   "id": "025a2082",
   "metadata": {},
   "outputs": [
    {
     "data": {
      "text/plain": [
       "array([[-10. ,  -9.5,  -9. ,  -8.5],\n",
       "       [ -8. ,  -7.5,  -7. ,  -6.5],\n",
       "       [ -6. ,  -5.5,  -5. ,  -4.5],\n",
       "       [ -4. ,  -3.5,  -3. ,  -2.5],\n",
       "       [ -2. ,  -1.5,  -1. ,  -0.5],\n",
       "       [  0. ,   0.5,   1. ,   1.5],\n",
       "       [  2. ,   2.5,   3. ,   3.5],\n",
       "       [  4. ,   4.5,   5. ,   5.5],\n",
       "       [  6. ,   6.5,   7. ,   7.5],\n",
       "       [  8. ,   8.5,   9. ,   9.5]])"
      ]
     },
     "execution_count": 183,
     "metadata": {},
     "output_type": "execute_result"
    }
   ],
   "source": [
    "A = np.arange(start=-10, stop=10, step=0.5)\n",
    "A = A.reshape(10, -1)\n",
    "A"
   ]
  },
  {
   "cell_type": "code",
   "execution_count": 184,
   "id": "85e58bb4",
   "metadata": {},
   "outputs": [
    {
     "data": {
      "text/plain": [
       "array([[False, False, False, False],\n",
       "       [False, False, False, False],\n",
       "       [False, False, False, False],\n",
       "       [False, False, False, False],\n",
       "       [False, False, False, False],\n",
       "       [False,  True,  True,  True],\n",
       "       [ True,  True,  True,  True],\n",
       "       [ True,  True,  True,  True],\n",
       "       [ True,  True,  True,  True],\n",
       "       [ True,  True,  True,  True]])"
      ]
     },
     "execution_count": 184,
     "metadata": {},
     "output_type": "execute_result"
    }
   ],
   "source": [
    "A > 0"
   ]
  },
  {
   "cell_type": "code",
   "execution_count": 185,
   "id": "73e4c982",
   "metadata": {},
   "outputs": [
    {
     "data": {
      "text/plain": [
       "array([[False, False, False, False],\n",
       "       [False, False, False, False],\n",
       "       [False, False, False,  True],\n",
       "       [ True,  True,  True,  True],\n",
       "       [ True,  True,  True,  True],\n",
       "       [ True,  True,  True,  True],\n",
       "       [ True,  True,  True,  True],\n",
       "       [ True,  True, False, False],\n",
       "       [False, False, False, False],\n",
       "       [False, False, False, False]])"
      ]
     },
     "execution_count": 185,
     "metadata": {},
     "output_type": "execute_result"
    }
   ],
   "source": [
    "np.bitwise_and(A > -5, A < 5)"
   ]
  },
  {
   "cell_type": "code",
   "execution_count": 186,
   "id": "b9d7ef4b",
   "metadata": {},
   "outputs": [
    {
     "data": {
      "text/plain": [
       "array([-4.5, -4. , -3.5, -3. , -2.5, -2. , -1.5, -1. , -0.5,  0. ,  0.5,\n",
       "        1. ,  1.5,  2. ,  2.5,  3. ,  3.5,  4. ,  4.5])"
      ]
     },
     "execution_count": 186,
     "metadata": {},
     "output_type": "execute_result"
    }
   ],
   "source": [
    "A[np.bitwise_and(A > -5, A < 5)]"
   ]
  },
  {
   "cell_type": "code",
   "execution_count": 187,
   "id": "292b65d1",
   "metadata": {},
   "outputs": [
    {
     "data": {
      "text/plain": [
       "array([[ True,  True,  True,  True],\n",
       "       [ True,  True,  True,  True],\n",
       "       [ True,  True, False, False],\n",
       "       [False, False, False, False],\n",
       "       [False, False, False, False],\n",
       "       [False, False, False, False],\n",
       "       [False, False, False, False],\n",
       "       [False, False, False,  True],\n",
       "       [ True,  True,  True,  True],\n",
       "       [ True,  True,  True,  True]])"
      ]
     },
     "execution_count": 187,
     "metadata": {},
     "output_type": "execute_result"
    }
   ],
   "source": [
    "np.bitwise_or(A < -5, A > 5)"
   ]
  },
  {
   "cell_type": "code",
   "execution_count": null,
   "id": "d3ce8a0e",
   "metadata": {},
   "outputs": [],
   "source": []
  },
  {
   "cell_type": "code",
   "execution_count": null,
   "id": "98d879c3",
   "metadata": {},
   "outputs": [],
   "source": []
  },
  {
   "cell_type": "code",
   "execution_count": null,
   "id": "07ffe6a1",
   "metadata": {},
   "outputs": [],
   "source": []
  },
  {
   "cell_type": "markdown",
   "id": "995fa55b",
   "metadata": {},
   "source": [
    "### Podobieństwa między Listą w Python a tablicą w NumPy"
   ]
  },
  {
   "cell_type": "markdown",
   "id": "6bff6b29",
   "metadata": {},
   "source": [
    "##### nawiasy []"
   ]
  },
  {
   "cell_type": "code",
   "execution_count": 10,
   "id": "20cafe76",
   "metadata": {},
   "outputs": [
    {
     "data": {
      "text/plain": [
       "[1, 2, 3]"
      ]
     },
     "execution_count": 10,
     "metadata": {},
     "output_type": "execute_result"
    }
   ],
   "source": [
    "lista = [1,2,3]\n",
    "lista"
   ]
  },
  {
   "cell_type": "code",
   "execution_count": 11,
   "id": "e933ca7f",
   "metadata": {},
   "outputs": [
    {
     "data": {
      "text/plain": [
       "array([1, 2, 3])"
      ]
     },
     "execution_count": 11,
     "metadata": {},
     "output_type": "execute_result"
    }
   ],
   "source": [
    "arr = np.array([1,2,3])\n",
    "arr"
   ]
  },
  {
   "cell_type": "markdown",
   "id": "f62fc63b",
   "metadata": {},
   "source": [
    "#### modyfikowalność"
   ]
  },
  {
   "cell_type": "code",
   "execution_count": 12,
   "id": "4e4412f4",
   "metadata": {},
   "outputs": [
    {
     "data": {
      "text/plain": [
       "[0, 2, 3]"
      ]
     },
     "execution_count": 12,
     "metadata": {},
     "output_type": "execute_result"
    }
   ],
   "source": [
    "lista[0] = 0\n",
    "lista"
   ]
  },
  {
   "cell_type": "code",
   "execution_count": 13,
   "id": "899bff5b",
   "metadata": {},
   "outputs": [
    {
     "data": {
      "text/plain": [
       "array([0, 2, 3])"
      ]
     },
     "execution_count": 13,
     "metadata": {},
     "output_type": "execute_result"
    }
   ],
   "source": [
    "arr[0] = 0\n",
    "arr"
   ]
  },
  {
   "cell_type": "markdown",
   "id": "83760d79",
   "metadata": {},
   "source": [
    "#### Indeksy i wycinanie"
   ]
  },
  {
   "cell_type": "code",
   "execution_count": 265,
   "id": "5222b71a",
   "metadata": {},
   "outputs": [
    {
     "data": {
      "text/plain": [
       "3"
      ]
     },
     "execution_count": 265,
     "metadata": {},
     "output_type": "execute_result"
    }
   ],
   "source": [
    "lista[2]"
   ]
  },
  {
   "cell_type": "code",
   "execution_count": 266,
   "id": "e2e86733",
   "metadata": {},
   "outputs": [
    {
     "data": {
      "text/plain": [
       "3"
      ]
     },
     "execution_count": 266,
     "metadata": {},
     "output_type": "execute_result"
    }
   ],
   "source": [
    "arr[2]"
   ]
  },
  {
   "cell_type": "code",
   "execution_count": 267,
   "id": "8c9a7d51",
   "metadata": {},
   "outputs": [
    {
     "data": {
      "text/plain": [
       "[0, 2]"
      ]
     },
     "execution_count": 267,
     "metadata": {},
     "output_type": "execute_result"
    }
   ],
   "source": [
    "lista[:2]"
   ]
  },
  {
   "cell_type": "code",
   "execution_count": 268,
   "id": "2c10aa54",
   "metadata": {},
   "outputs": [
    {
     "data": {
      "text/plain": [
       "array([0, 2])"
      ]
     },
     "execution_count": 268,
     "metadata": {},
     "output_type": "execute_result"
    }
   ],
   "source": [
    "arr[:2]"
   ]
  },
  {
   "cell_type": "markdown",
   "id": "8ad91acf",
   "metadata": {},
   "source": [
    "### Różnice między Listą w Python a tablicą w NumPy"
   ]
  },
  {
   "cell_type": "markdown",
   "id": "20429760",
   "metadata": {},
   "source": [
    "#### Obsługa operacji matematycznych - główna różnica"
   ]
  },
  {
   "cell_type": "code",
   "execution_count": 269,
   "id": "15d77811",
   "metadata": {},
   "outputs": [
    {
     "data": {
      "text/plain": [
       "[0, 2, 3, 0, 2, 3]"
      ]
     },
     "execution_count": 269,
     "metadata": {},
     "output_type": "execute_result"
    }
   ],
   "source": [
    "lista * 2"
   ]
  },
  {
   "cell_type": "code",
   "execution_count": 270,
   "id": "98c60354",
   "metadata": {},
   "outputs": [
    {
     "data": {
      "text/plain": [
       "array([0, 4, 6])"
      ]
     },
     "execution_count": 270,
     "metadata": {},
     "output_type": "execute_result"
    }
   ],
   "source": [
    "arr * 2"
   ]
  },
  {
   "cell_type": "markdown",
   "id": "ffac3f12",
   "metadata": {},
   "source": [
    "#### Zużycie pamięci (+ przechowywanie różnych typów danych w przypadku listy)\n",
    "Technicznie rzecz biorąc, lista może przechowywać różne typy danych, podczas gdy tablica nie. Jest to jeden z powodów, dla których lista zajmuje więcej pamięci (przechowywanie różnych typów danych zajmuje dużo miejsca, mimo że w tym przypadku używany jest tylko jeden typ danych). "
   ]
  },
  {
   "cell_type": "markdown",
   "id": "c910c40a",
   "metadata": {},
   "source": [
    "##### OPCJONALNIE:"
   ]
  },
  {
   "cell_type": "code",
   "execution_count": 14,
   "id": "fe643736",
   "metadata": {},
   "outputs": [],
   "source": [
    "import sys"
   ]
  },
  {
   "cell_type": "code",
   "execution_count": 15,
   "id": "f54507e9",
   "metadata": {},
   "outputs": [
    {
     "data": {
      "text/plain": [
       "120"
      ]
     },
     "execution_count": 15,
     "metadata": {},
     "output_type": "execute_result"
    }
   ],
   "source": [
    "sys.getsizeof(lista) #bajty"
   ]
  },
  {
   "cell_type": "code",
   "execution_count": 16,
   "id": "7ed2b9e9",
   "metadata": {},
   "outputs": [
    {
     "data": {
      "text/plain": [
       "4"
      ]
     },
     "execution_count": 16,
     "metadata": {},
     "output_type": "execute_result"
    }
   ],
   "source": [
    "arr.itemsize # pojedynczy element"
   ]
  },
  {
   "cell_type": "code",
   "execution_count": 17,
   "id": "a43189a6",
   "metadata": {},
   "outputs": [
    {
     "name": "stdout",
     "output_type": "stream",
     "text": [
      "Rozmiar listy Python:  8056\n",
      "Rozmiar Numpy array:  4112\n"
     ]
    }
   ],
   "source": [
    "py_list = list(range(1000)) \n",
    "np_array = np.arange(1000)  \n",
    "print(\"Rozmiar listy Python: \", sys.getsizeof(py_list)) \n",
    "print(\"Rozmiar Numpy array: \", sys.getsizeof(np_array)) "
   ]
  },
  {
   "cell_type": "markdown",
   "id": "f3a20121",
   "metadata": {},
   "source": [
    "### Porównanie szybkości z czystym Pythonem;"
   ]
  },
  {
   "cell_type": "code",
   "execution_count": 277,
   "id": "b51c3af0",
   "metadata": {},
   "outputs": [
    {
     "data": {
      "text/plain": [
       "[10, 12, 14, 16, 18, 20, 22, 24, 26, 28]"
      ]
     },
     "execution_count": 277,
     "metadata": {},
     "output_type": "execute_result"
    }
   ],
   "source": [
    "py_list1 = list(range(10)) \n",
    "py_list2 = list(range(10, 20))  \n",
    "result_list = [a + b for a, b in zip(py_list1, py_list2)]\n",
    "result_list"
   ]
  },
  {
   "cell_type": "code",
   "execution_count": 282,
   "id": "9cb11e43",
   "metadata": {},
   "outputs": [
    {
     "name": "stdout",
     "output_type": "stream",
     "text": [
      "Time taken to add Python lists:  1.5726094245910645\n",
      "Time taken to add Numpy arrays:  0.0146331787109375\n"
     ]
    }
   ],
   "source": [
    "import time  \n",
    "\n",
    "# Define two Python lists \n",
    "py_list1 = list(range(10000000)) \n",
    "py_list2 = list(range(10000000, 20000000))  \n",
    "\n",
    "# Define two Numpy arrays \n",
    "np_array1 = np.arange(10000000) \n",
    "np_array2 = np.arange(10000000, 20000000)  \n",
    "\n",
    "# Adding Python lists \n",
    "start_time = time.time() \n",
    "result_list = [a + b for a, b in zip(py_list1, py_list2)] \n",
    "print(\"Time taken to add Python lists: \", time.time() - start_time)  \n",
    "\n",
    "# Adding Numpy arrays \n",
    "start_time = time.time() \n",
    "result_array = np_array1 + np_array2 \n",
    "print(\"Time taken to add Numpy arrays: \", time.time() - start_time)"
   ]
  },
  {
   "cell_type": "code",
   "execution_count": null,
   "id": "e12dd8a0",
   "metadata": {},
   "outputs": [],
   "source": []
  },
  {
   "cell_type": "markdown",
   "id": "c85a1221",
   "metadata": {},
   "source": [
    "# Algebra liniowa"
   ]
  },
  {
   "cell_type": "markdown",
   "id": "ab3f2455",
   "metadata": {},
   "source": [
    "### <a name='a1'></a> Norma wektora (L2), długość wektora w $R^{2}$\n",
    "\n",
    "${\\mathbf  {v}} = [v_{1}, v_{2}]$   \n",
    "$\\left\\|{\\mathbf  {v}}\\right\\|={\\sqrt  {v_{1}^{2}+v_{2}^{2}}}$"
   ]
  },
  {
   "cell_type": "markdown",
   "id": "4c5fc424",
   "metadata": {},
   "source": [
    "### Norma wektora w algebrze liniowej\n",
    "\n",
    "Norma wektora to miara jego \"wielkości\" lub \"długości\". W algebrze liniowej norma jest funkcją, która przypisuje wektorowi liczbę nieujemną, reprezentując jego długość w przestrzeni wektorowej. Istnieje kilka różnych norm, ale najczęściej używane to:\n",
    "\n",
    "1. **Norma L1 (norma taksówkowa, norma Manhattan)**: Suma wartości bezwzględnych współrzędnych wektora.\n",
    "2. **Norma L2 (norma euklidesowa)**: Pierwiastek kwadratowy sumy kwadratów współrzędnych wektora.\n",
    "3. **Norma nieskończoności (norma maksimum)**: Maksymalna wartość bezwzględna spośród współrzędnych wektora.\n",
    "\n",
    "#### Definicje norm\n",
    "\n",
    "- **Norma L1**: $\\| \\mathbf{x} \\|_1 = \\sum_{i=1}^{n} |x_i|$\n",
    "- **Norma L2**: $\\| \\mathbf{x} \\|_2 = \\sqrt{\\sum_{i=1}^{n} x_i^2}$\n",
    "- **Norma nieskończoności**: $\\| \\mathbf{x} \\|_\\infty = \\max_i |x_i|$\n",
    "\n",
    "\n",
    "Norma wektora to miara jego wielkości w przestrzeni wektorowej. Różne normy (L1, L2, nieskończoności) dają różne wartości, które mogą być użyteczne w różnych kontekstach. NumPy oferuje wygodne funkcje do obliczania tych norm, co pozwala na łatwe i szybkie wykonanie takich operacji w Pythonie. \n",
    "\n",
    "Normy wektorów są fundamentalnym narzędziem w matematyce i inżynierii, znajdując szerokie zastosowanie w optymalizacji, uczeniu maszynowym, analizie danych, grafice komputerowej, metodach numerycznych i przetwarzaniu sygnałów."
   ]
  },
  {
   "cell_type": "code",
   "execution_count": 25,
   "id": "5531d938",
   "metadata": {},
   "outputs": [
    {
     "data": {
      "text/plain": [
       "array([2, 2])"
      ]
     },
     "execution_count": 25,
     "metadata": {},
     "output_type": "execute_result"
    }
   ],
   "source": [
    "v1 = np.array([2, 2])\n",
    "v1"
   ]
  },
  {
   "cell_type": "code",
   "execution_count": 30,
   "id": "c9394a68",
   "metadata": {},
   "outputs": [
    {
     "data": {
      "text/plain": [
       "2.8284271247461903"
      ]
     },
     "execution_count": 30,
     "metadata": {},
     "output_type": "execute_result"
    }
   ],
   "source": [
    "np.linalg.norm(v1) # norma wektora L2"
   ]
  },
  {
   "cell_type": "code",
   "execution_count": 27,
   "id": "fd06cc08",
   "metadata": {},
   "outputs": [
    {
     "data": {
      "text/plain": [
       "4.0"
      ]
     },
     "execution_count": 27,
     "metadata": {},
     "output_type": "execute_result"
    }
   ],
   "source": [
    "np.linalg.norm(v1, 1) # norma wektora L1"
   ]
  },
  {
   "cell_type": "markdown",
   "id": "fdb380c7",
   "metadata": {},
   "source": [
    "### <a name='a2'></a> Norma euklidesowa w $R^{n}$\n",
    "\n",
    "$\\left\\|{\\mathbf  {v}}\\right\\|={\\sqrt  {v_{1}^{2}+v_{2}^{2}+\\cdots +v_{n}^{2}}}$"
   ]
  },
  {
   "cell_type": "code",
   "execution_count": 31,
   "id": "449c2927",
   "metadata": {},
   "outputs": [
    {
     "data": {
      "text/plain": [
       "11.224972160321824"
      ]
     },
     "execution_count": 31,
     "metadata": {},
     "output_type": "execute_result"
    }
   ],
   "source": [
    "v2 = np.array([-1, 10, 5])\n",
    "np.linalg.norm(v2) # dla uczenia maszynowego mogą być to setki wymiarów"
   ]
  },
  {
   "cell_type": "markdown",
   "id": "9485dd3f",
   "metadata": {},
   "source": [
    "Każda z tych norm dostarcza różne informacje o wektorze, które mogą być użyteczne w różnych kontekstach, takich jak optymalizacja, regularyzacja w uczeniu maszynowym, normalizacja danych, itd."
   ]
  },
  {
   "cell_type": "markdown",
   "id": "2c0dff2e",
   "metadata": {},
   "source": [
    "### <a name='a4'></a> Odległóść dwóch punktów w przestrzeni $R^{n}$\n",
    " \\begin{aligned}d(\\mathbf {p} ,\\mathbf {q} )=d(\\mathbf {q} ,\\mathbf {p} )&={\\sqrt {(q_{1}-p_{1})^{2}+(q_{2}-p_{2})^{2}+\\cdots +(q_{n}-p_{n})^{2}}}\\\\[8pt]&={\\sqrt {\\sum _{i=1}^{n}(q_{i}-p_{i})^{2}}}\\end{aligned}\n"
   ]
  },
  {
   "cell_type": "markdown",
   "id": "58320198",
   "metadata": {},
   "source": [
    "##### Odległóść dwóch punktów na płaszczyźnie"
   ]
  },
  {
   "cell_type": "code",
   "execution_count": 191,
   "id": "a9337e76",
   "metadata": {},
   "outputs": [
    {
     "data": {
      "text/plain": [
       "5.0"
      ]
     },
     "execution_count": 191,
     "metadata": {},
     "output_type": "execute_result"
    }
   ],
   "source": [
    "p = np.array([3, 0])\n",
    "q = np.array([0, 4])\n",
    "\n",
    "np.linalg.norm(p - q)"
   ]
  },
  {
   "cell_type": "markdown",
   "id": "26dea632",
   "metadata": {},
   "source": [
    "##### Odległóść dwóch punktów w przestrzeni R^n"
   ]
  },
  {
   "cell_type": "code",
   "execution_count": 192,
   "id": "46b13336",
   "metadata": {},
   "outputs": [
    {
     "data": {
      "text/plain": [
       "5.0990195135927845"
      ]
     },
     "execution_count": 192,
     "metadata": {},
     "output_type": "execute_result"
    }
   ],
   "source": [
    "p = np.array([3, 0, 1])\n",
    "q = np.array([0, 4, 2])\n",
    "\n",
    "np.linalg.norm(p - q)"
   ]
  },
  {
   "cell_type": "markdown",
   "id": "4984e01d",
   "metadata": {},
   "source": [
    "#### Mnożenie macierzy\n",
    "Mnożenie macierzy jest operacją algebraiczną, w której dwie macierze są łączone, aby utworzyć nową macierz. Aby mnożenie macierzy było możliwe, liczba kolumn pierwszej macierzy musi być równa liczbie wierszy drugiej macierzy. Wynikowa macierz ma wymiary równe liczbie wierszy pierwszej macierzy oraz liczbie kolumn drugiej macierzy. Każdy element w wynikowej macierzy jest obliczany jako suma iloczynów odpowiadających sobie elementów wiersza pierwszej macierzy i kolumny drugiej macierzy."
   ]
  },
  {
   "cell_type": "markdown",
   "id": "15d8ca4c",
   "metadata": {},
   "source": [
    "### <a name='a5'></a> Mnożenie macierzy\n",
    "\n",
    "\n",
    "\n",
    "$${A} ={\\begin{bmatrix}a_{11}&a_{12}&\\cdots &a_{1n}\\\\a_{21}&a_{22}&\\cdots &a_{2n}\\\\\\vdots &\\vdots &\\ddots &\\vdots \\\\a_{m1}&a_{m2}&\\cdots &a_{mn}\\\\\\end{bmatrix}}$$\n",
    "A - macierz wymairu $m\\ x\\ n$\n",
    "\n",
    "$$ {B} ={\\begin{bmatrix}b_{11}&b_{12}&\\cdots &b_{1p}\\\\b_{21}&b_{22}&\\cdots &b_{2p}\\\\\\vdots &\\vdots &\\ddots &\\vdots \\\\b_{n1}&b_{n2}&\\cdots &b_{np}\\\\\\end{bmatrix}}$$\n",
    "B - macierz wymairu $n\\ x\\ p$\n",
    "\n",
    "$$C = AB$$ \n",
    "C - macierz wymiaru $m\\ x\\ p$  \n",
    "Aby móc pomnożyć dwie macierze liczba kolumn w lewej macierzy musi zgadzać się z liczbą wierszy prawej macierzy.\n",
    "\n",
    "Mnożenie macierzy nie jest przemienne! Tzn. $$AB \\neq BA$$\n"
   ]
  },
  {
   "cell_type": "markdown",
   "id": "efca7edf",
   "metadata": {},
   "source": [
    "##### Mnożenie macierzy\n",
    "- Aby móc pomnożyć dwie macierze liczba liczba kolumn w lewej macierzy musi zgadzać się z liczbą wierszy prawej macierzy.\\\n",
    "    - C = AB\n",
    "    - A - macierz wymairu M x N\n",
    "    - B - macierz wymairu N x P\n",
    "    - C - macierz wymiaru N x P\n",
    "    \n",
    "- Macież (M x N) pomnożona przez macież (N x P) da macież N x P (A środek równania (N N) musi być sobie równy\n",
    "    \n",
    "- Mnożenie macierzy nie jest przemienne!"
   ]
  },
  {
   "cell_type": "markdown",
   "id": "ed4ef7fc",
   "metadata": {},
   "source": [
    "### Przykład 1\n",
    "$ X = \\begin{bmatrix}5&3\\\\3&9\\end{bmatrix}$, $ Y= \\begin{bmatrix}1\\\\-1\\end{bmatrix} $  \n",
    "$X$ macierz 2x2  \n",
    "$Y$ macierz 2x1\n",
    "$$Z = X \\cdot Y = \\begin{bmatrix}5&3\\\\3&9\\end{bmatrix} \\cdot \\begin{bmatrix}1\\\\-1\\end{bmatrix} = \\begin{bmatrix}2\\\\-6\\end{bmatrix}$$\n",
    "$Z$ macierz 2x1"
   ]
  },
  {
   "cell_type": "code",
   "execution_count": 214,
   "id": "00fd7887",
   "metadata": {},
   "outputs": [],
   "source": [
    "X = np.array([[5, 3], [3, 9]])\n",
    "Y = np.array([[1], [-1]])"
   ]
  },
  {
   "cell_type": "code",
   "execution_count": 215,
   "id": "5eafbea4",
   "metadata": {},
   "outputs": [
    {
     "data": {
      "text/plain": [
       "array([[5, 3],\n",
       "       [3, 9]])"
      ]
     },
     "execution_count": 215,
     "metadata": {},
     "output_type": "execute_result"
    }
   ],
   "source": [
    "X"
   ]
  },
  {
   "cell_type": "code",
   "execution_count": 216,
   "id": "ca349641",
   "metadata": {},
   "outputs": [
    {
     "data": {
      "text/plain": [
       "array([[ 1],\n",
       "       [-1]])"
      ]
     },
     "execution_count": 216,
     "metadata": {},
     "output_type": "execute_result"
    }
   ],
   "source": [
    "Y"
   ]
  },
  {
   "cell_type": "code",
   "execution_count": 217,
   "id": "a1a17082",
   "metadata": {},
   "outputs": [
    {
     "data": {
      "text/plain": [
       "array([[ 2],\n",
       "       [-6]])"
      ]
     },
     "execution_count": 217,
     "metadata": {},
     "output_type": "execute_result"
    }
   ],
   "source": [
    "Z = np.dot(X, Y)\n",
    "Z"
   ]
  },
  {
   "cell_type": "code",
   "execution_count": 208,
   "id": "abb40702",
   "metadata": {},
   "outputs": [
    {
     "name": "stdout",
     "output_type": "stream",
     "text": [
      "(2, 2) x (2, 1) = (2, 1)\n"
     ]
    }
   ],
   "source": [
    "print(np.shape(X), 'x', np.shape(Y), '=', np.shape(np.dot(X, Y)))"
   ]
  },
  {
   "cell_type": "code",
   "execution_count": 203,
   "id": "6c7cd7f7",
   "metadata": {},
   "outputs": [
    {
     "name": "stdout",
     "output_type": "stream",
     "text": [
      "(2, 2) x (2, 1) = (2, 1)\n"
     ]
    }
   ],
   "source": [
    "print(f\"{np.shape(X)} x {np.shape(Y)} = {np.shape(np.dot(X, Y))}\")"
   ]
  },
  {
   "cell_type": "code",
   "execution_count": 206,
   "id": "87193305",
   "metadata": {},
   "outputs": [
    {
     "name": "stdout",
     "output_type": "stream",
     "text": [
      "(2, 2) x (2, 1) = (2, 1)\n"
     ]
    }
   ],
   "source": [
    "print(\"{1} x {0} = {2}\".format(np.shape(Y), np.shape(X), np.shape(Z)))"
   ]
  },
  {
   "cell_type": "code",
   "execution_count": 218,
   "id": "967715ff",
   "metadata": {},
   "outputs": [],
   "source": [
    "# Zadanie : Ponożyć macierz 2x3 przez macierz 3x1"
   ]
  },
  {
   "cell_type": "markdown",
   "id": "126bf935",
   "metadata": {},
   "source": [
    "### Cel mnożenia macierzy\n",
    "\n",
    "Mnożenie macierzy jest fundamentalnym działaniem w algebrze liniowej i znajduje szerokie zastosowanie w wielu dziedzinach matematyki, informatyki i nauk inżynierskich. Poniżej przedstawiamy główne powody i konteksty, w których wykonuje się mnożenie macierzy:\n",
    "\n",
    "#### 1. Transformacje liniowe\n",
    "\n",
    "- **Opis**: Macierze mogą reprezentować transformacje liniowe, które są funkcjami przekształcającymi wektory z jednej przestrzeni wektorowej do innej. Mnożenie macierzy jest operacją, która łączy te transformacje.\n",
    "- **Przykład**: Obroty, skalowanie, ścinanie i translacje w grafice komputerowej są realizowane za pomocą macierzy transformacji. Mnożenie macierzy pozwala na łączenie tych transformacji w jedną operację.\n",
    "\n",
    "#### 2. Rozwiązywanie układów równań liniowych\n",
    "\n",
    "- **Opis**: Układy równań liniowych można zapisać w postaci macierzowej \\(A\\mathbf{x} = \\mathbf{b}\\). Mnożenie macierzy jest kluczowe przy obliczaniu rozwiązań tych układów, szczególnie przy metodach iteracyjnych i bezpośrednich.\n",
    "- **Przykład**: W ekonomii i inżynierii często trzeba rozwiązywać układy równań, aby znaleźć wartości nieznanych zmiennych, takich jak przepływy w sieciach czy równowagi rynkowe.\n",
    "\n",
    "#### 3. Grafika komputerowa i przetwarzanie obrazów\n",
    "\n",
    "- **Opis**: Macierze są używane do przekształcania obrazów i modeli 3D. Mnożenie macierzy pozwala na stosowanie serii przekształceń w jednej operacji.\n",
    "- **Przykład**: Obroty, skalowanie i translacje obiektów w grafice komputerowej są realizowane za pomocą macierzy przekształceń. Złożone przekształcenia można osiągnąć przez mnożenie odpowiednich macierzy.\n",
    "\n",
    "#### 4. Analiza danych i uczenie maszynowe\n",
    "\n",
    "- **Opis**: W uczeniu maszynowym i analizie danych, mnożenie macierzy jest używane do przekształcania danych, obliczania podobieństw i korelacji oraz uczenia modeli.\n",
    "- **Przykład**: Algorytmy takie jak regresja liniowa, PCA (analiza głównych składowych) i sieci neuronowe wykorzystują mnożenie macierzy do obliczeń i aktualizacji parametrów.\n",
    "\n",
    "#### 5. Fizyka i inżynieria\n",
    "\n",
    "- **Opis**: Macierze są używane do modelowania i analizowania systemów dynamicznych, układów mechanicznych i elektromagnetycznych.\n",
    "- **Przykład**: W mechanice kwantowej, operatory kwantowe są reprezentowane jako macierze, a ich działania na stany kwantowe są realizowane przez mnożenie macierzy."
   ]
  },
  {
   "cell_type": "markdown",
   "id": "4323e8ec",
   "metadata": {},
   "source": [
    "#### Wyznacznik macierzy"
   ]
  },
  {
   "cell_type": "markdown",
   "id": "dcf13f68",
   "metadata": {},
   "source": [
    "### <a name='a6'></a> Wyznacznik macierzy\n",
    "\n",
    "$${\\displaystyle A={\\begin{bmatrix}a_{11}&a_{12}&\\dots &a_{1n}\\\\a_{21}&a_{22}&\\dots &a_{2n}\\\\\\vdots &\\vdots &\\ddots &\\vdots \\\\a_{n1}&a_{n2}&\\dots &a_{nn}\\end{bmatrix}}}$$\n",
    "$A$ - macierz wymiaru nxn\n",
    "\n",
    "#### Oznaczenia:\n",
    "\n",
    "${\\displaystyle |A|=\\left|{\\begin{array}{c}a_{11}&a_{12}&\\dots &a_{1n}\\\\a_{21}&a_{22}&\\dots &a_{2n}\\\\\\vdots &\\vdots &\\ddots &\\vdots \\\\a_{n1}&a_{n2}&\\dots &a_{nn}\\end{array}}\\right|} $  lub  $ {\\displaystyle \\det A=\\det {\\begin{bmatrix}a_{11}&a_{12}&\\dots &a_{1n}\\\\a_{21}&a_{22}&\\dots &a_{2n}\\\\\\vdots &\\vdots &\\ddots &\\vdots \\\\a_{n1}&a_{n2}&\\dots &a_{nn}\\end{bmatrix}}}$\n",
    "\n",
    "#### Przykład:\n",
    "${\\displaystyle \\det A={\\begin{vmatrix}a_{11}&a_{12}\\\\a_{21}&a_{22}\\end{vmatrix}}=a_{11}a_{22}-a_{12}a_{21}}$\n",
    "\n",
    "${\\displaystyle \\det A={\\begin{vmatrix}a_{11}&a_{12}&a_{13}\\\\a_{21}&a_{22}&a_{23}\\\\a_{31}&a_{32}&a_{33}\\end{vmatrix}}=a_{11}a_{22}a_{33}+a_{21}a_{32}a_{13}+a_{31}a_{12}a_{23}-a_{21}a_{12}a_{33}-a_{11}a_{32}a_{23}-a_{31}a_{22}a_{13}}$\n",
    "\n",
    "${\\displaystyle \\det A={\\begin{vmatrix}2&4\\\\-1&3\\end{vmatrix}}=2\\cdot3-4\\cdot(-1)} = 6 + 4 = 10 $\n"
   ]
  },
  {
   "cell_type": "code",
   "execution_count": 219,
   "id": "ae6cec86",
   "metadata": {},
   "outputs": [
    {
     "data": {
      "text/plain": [
       "10"
      ]
     },
     "execution_count": 219,
     "metadata": {},
     "output_type": "execute_result"
    }
   ],
   "source": [
    "A = np.array([[2, 4], [-1, 3]])\n",
    "round(np.linalg.det(A))"
   ]
  },
  {
   "cell_type": "markdown",
   "id": "fd3e91c4",
   "metadata": {},
   "source": [
    "### Po co liczy się wyznacznik macierzy?\n",
    "\n",
    "Wyznacznik macierzy jest skalarem, który odgrywa kluczową rolę w wielu aspektach algebry liniowej oraz ma istotne zastosowania w różnych dziedzinach matematyki, fizyki i inżynierii. Oto główne powody, dla których liczy się wyznacznik macierzy:\n",
    "\n",
    "#### 1. Sprawdzanie odwracalności macierzy\n",
    "\n",
    "- **Opis**: Wyznacznik macierzy pozwala określić, czy macierz jest odwracalna (inwertowalna). \n",
    "- **Zastosowanie**: Jeśli wyznacznik macierzy jest różny od zera ($\\det(A) \\neq 0$), macierz $A$ jest odwracalna i istnieje macierz odwrotna $A^{-1}$. Jeśli wyznacznik jest równy zero ($\\det(A) = 0$), macierz jest nieodwracalna.\n",
    "- **Przykład**: W rozwiązaniu układów równań liniowych metoda macierzy odwrotnych wymaga odwracalności macierzy współczynników.\n",
    "\n",
    "#### 2. Obliczanie rozwiązań układów równań liniowych (reguła Cramera)\n",
    "\n",
    "- **Opis**: Wyznacznik jest używany w regule Cramera do znajdowania rozwiązań układów równań liniowych.\n",
    "- **Zastosowanie**: Reguła Cramera wykorzystuje wyznaczniki do wyrażenia rozwiązań układu równań liniowych w postaci ułamków, gdzie liczniki i mianowniki są wyznacznikami odpowiednich macierzy.\n",
    "\n",
    "#### 3. Obliczanie objętości równoległościanów\n",
    "\n",
    "- **Opis**: Wyznacznik macierzy, której kolumny (lub wiersze) są wektorami w przestrzeni, reprezentuje objętość równoległościanu utworzonego przez te wektory.\n",
    "- **Zastosowanie**: W geometrii analitycznej i rachunku różniczkowym wyznacznik jest używany do obliczania objętości, pól powierzchni i orientacji.\n",
    "\n",
    "#### 4. Sprawdzanie liniowej niezależności wektorów\n",
    "\n",
    "- **Opis**: Zbiór wektorów jest liniowo niezależny, jeśli wyznacznik macierzy utworzonej z tych wektorów jako kolumn (lub wierszy) jest różny od zera.\n",
    "- **Zastosowanie**: W teorii macierzy i przestrzeni wektorowych, wyznacznik jest używany do sprawdzania, czy wektory tworzą bazę.\n",
    "\n",
    "#### 5. Przekształcenia liniowe i ich właściwości\n",
    "\n",
    "- **Opis**: Wyznacznik przekształcenia liniowego opisuje, jak przekształcenie to skaluje objętości.\n",
    "- **Zastosowanie**: W grafice komputerowej, analizie przekształceń oraz teorii równań różniczkowych, wyznacznik opisuje efekty skalowania, obrotu i ścinania.\n",
    "\n",
    "#### 6. Teoria macierzy i równania różniczkowe\n",
    "\n",
    "- **Opis**: W teorii macierzy wyznacznik jest używany do charakterystyki macierzy i w analizie równań różniczkowych.\n",
    "- **Zastosowanie**: Wyznacznik pojawia się w analizie wartości własnych i wektorów własnych, które są kluczowe dla zrozumienia dynamiki systemów równań różniczkowych."
   ]
  },
  {
   "cell_type": "markdown",
   "id": "93e0e2a7",
   "metadata": {},
   "source": [
    "### <a name='a7'></a> Ślad macierzy\n",
    "\n",
    "$${\\displaystyle A={\\begin{bmatrix}a_{11}&a_{12}&\\dots &a_{1n}\\\\a_{21}&a_{22}&\\dots &a_{2n}\\\\\\vdots &\\vdots &\\ddots &\\vdots \\\\a_{n1}&a_{n2}&\\dots &a_{nn}\\end{bmatrix}}}$$\n",
    "$A$ - macierz wymiaru nxn\n",
    "\n",
    "${\\displaystyle \\operatorname {tr} (A)=\\sum _{i=1}^{n}a_{ii}=a_{11}+a_{22}+\\dots +a_{nn}}$\n",
    "\n",
    "#### Przykład:\n",
    "$A = \\begin{bmatrix}2&4\\\\-1&3\\end{bmatrix}$\n",
    "\n",
    "${\\displaystyle \\operatorname {tr} (A)=\\sum _{i=1}^{2}a_{ii}=a_{11}+a_{22} = 2 + 3 = 5}$"
   ]
  },
  {
   "cell_type": "code",
   "execution_count": 229,
   "id": "a5955e33",
   "metadata": {},
   "outputs": [
    {
     "data": {
      "text/plain": [
       "5"
      ]
     },
     "execution_count": 229,
     "metadata": {},
     "output_type": "execute_result"
    }
   ],
   "source": [
    "A = np.array([[2, 4], [-1, 3]])\n",
    "np.trace(A)"
   ]
  },
  {
   "cell_type": "code",
   "execution_count": 224,
   "id": "7a6bc26c",
   "metadata": {},
   "outputs": [
    {
     "data": {
      "text/plain": [
       "14"
      ]
     },
     "execution_count": 224,
     "metadata": {},
     "output_type": "execute_result"
    }
   ],
   "source": [
    "A = np.array([[2, 4, 6], [-1, 3, 3], [4, 6, 9]])\n",
    "np.trace(A)"
   ]
  },
  {
   "cell_type": "markdown",
   "id": "10288fd0",
   "metadata": {},
   "source": [
    "### Po co liczy się ślad macierzy?\n",
    "\n",
    "Ślad macierzy, oznaczany jako $\\text{tr}(A)$, to suma elementów znajdujących się na głównej przekątnej macierzy. Jest to prosty, ale potężny koncept w algebrze liniowej, który znajduje zastosowanie w różnych dziedzinach matematyki, fizyki i inżynierii. Poniżej przedstawiamy główne powody, dla których liczy się ślad macierzy:\n",
    "\n",
    "#### 1. Charakterystyka macierzy\n",
    "\n",
    "- **Opis**: Ślad macierzy jest inwariantem liniowym, co oznacza, że jest niezależny od bazy przestrzeni wektorowej. Ślad macierzy jest używany do charakteryzowania właściwości macierzy.\n",
    "- **Zastosowanie**: Ślad macierzy jest używany do obliczania wartości własnych i śladu operatorów liniowych.\n",
    "\n",
    "#### 2. Wartości własne\n",
    "\n",
    "- **Opis**: Ślad macierzy jest sumą jej wartości własnych. Jest to bezpośrednia konsekwencja tego, że macierz można diagonalizować, a ślad pozostaje niezmieniony przy podobieństwie macierzy.\n",
    "- **Zastosowanie**: W teorii macierzy i analizy spektralnej, ślad jest używany do obliczania wartości własnych macierzy. Dla macierzy kwadratowej $A$ o wartościach własnych $\\lambda_1, \\lambda_2, \\ldots, \\lambda_n$, ślad jest równy sumie tych wartości własnych:\n",
    "  \n",
    "  $\\text{tr}(A) = \\sum_{i=1}^{n} \\lambda_i$\n",
    "  \n",
    "\n",
    "#### 3. Średnia wartość elementów na przekątnej\n",
    "\n",
    "- **Opis**: Ślad macierzy podzielony przez jej rozmiar (dla macierzy kwadratowej $n \\times n$) jest średnią wartością elementów na głównej przekątnej.\n",
    "- **Zastosowanie**: Ta własność może być używana w statystyce i analizie danych do oceny ogólnej skali lub rozmiaru elementów na przekątnej.\n",
    "\n",
    "#### 4. Analiza śladów w równań różniczkowych\n",
    "\n",
    "- **Opis**: Ślad macierzy Jacobiego (matrycy pochodnych cząstkowych) jest używany w analizie stabilności systemów dynamicznych.\n",
    "- **Zastosowanie**: W teorii układów dynamicznych, ślad macierzy Jacobiego może pomóc w ocenie stabilności równowag.\n",
    "\n",
    "#### 5. Ślad a ślady iloczynów macierzy\n",
    "\n",
    "- **Opis**: Ślad iloczynu dwóch macierzy jest używany w różnych zastosowaniach, w tym w teorii operatorów i w mechanice kwantowej.\n",
    "- **Zastosowanie**: Na przykład, w mechanice kwantowej, ślad operatora gęstości (density operator) jest używany do obliczania oczekiwanych wartości obserwabli."
   ]
  },
  {
   "cell_type": "markdown",
   "id": "2b7c4978",
   "metadata": {},
   "source": [
    "###  <a name='a8'></a>  Macierz jednostkowa \n",
    "\n",
    "Macierz jednostkowa - macierz kwadratowa, której współczynniki podane są wzorem:\n",
    "$${\\displaystyle a_{ij}={\\begin{cases}1\\quad {\\text{dla}}\\quad i=j\\\\[2pt]0\\quad {\\text{dla}}\\quad i\\neq j\\end{cases}}}$$\n",
    "\n",
    "#### Przykłady\n",
    "${\\displaystyle I_{1}={\\begin{bmatrix}1\\end{bmatrix}},\\;I_{2}={\\begin{bmatrix}1&0\\\\0&1\\end{bmatrix}},\\;I_{3}={\\begin{bmatrix}1&0&0\\\\0&1&0\\\\0&0&1\\end{bmatrix}}}$"
   ]
  },
  {
   "cell_type": "code",
   "execution_count": 226,
   "id": "9ef698e2",
   "metadata": {},
   "outputs": [
    {
     "data": {
      "text/plain": [
       "array([[1, 0],\n",
       "       [0, 1]])"
      ]
     },
     "execution_count": 226,
     "metadata": {},
     "output_type": "execute_result"
    }
   ],
   "source": [
    "np.eye(2, dtype='int')"
   ]
  },
  {
   "cell_type": "code",
   "execution_count": 227,
   "id": "3a1a5765",
   "metadata": {},
   "outputs": [
    {
     "data": {
      "text/plain": [
       "array([[1., 0., 0., 0., 0., 0., 0., 0.],\n",
       "       [0., 1., 0., 0., 0., 0., 0., 0.],\n",
       "       [0., 0., 1., 0., 0., 0., 0., 0.],\n",
       "       [0., 0., 0., 1., 0., 0., 0., 0.],\n",
       "       [0., 0., 0., 0., 1., 0., 0., 0.],\n",
       "       [0., 0., 0., 0., 0., 1., 0., 0.],\n",
       "       [0., 0., 0., 0., 0., 0., 1., 0.],\n",
       "       [0., 0., 0., 0., 0., 0., 0., 1.]])"
      ]
     },
     "execution_count": 227,
     "metadata": {},
     "output_type": "execute_result"
    }
   ],
   "source": [
    "np.eye(8)"
   ]
  },
  {
   "cell_type": "markdown",
   "id": "1700ee43",
   "metadata": {},
   "source": [
    "### Zastosowania macierzy jednostkowej\n",
    "\n",
    "Macierz jednostkowa, oznaczana jako $I$ lub $I_n$ (gdzie $n$ jest wymiarem macierzy), to kwadratowa macierz, która ma jedynki na głównej przekątnej i zera we wszystkich innych miejscach. Macierz jednostkowa odgrywa fundamentalną rolę w algebrze liniowej i ma szerokie zastosowanie w różnych dziedzinach matematyki, fizyki i inżynierii. Poniżej przedstawiamy kluczowe zastosowania macierzy jednostkowej:\n",
    "\n",
    "#### 1. Element neutralny mnożenia macierzy\n",
    "\n",
    "- **Opis**: Macierz jednostkowa działa jako element neutralny dla mnożenia macierzy. Oznacza to, że dla każdej macierzy $A$ o odpowiednich wymiarach:\n",
    "  \\[\n",
    "  A \\cdot I = I \\cdot A = A\n",
    "  \\]\n",
    "- **Zastosowanie**: Umożliwia to wykonywanie operacji macierzowych bez zmiany oryginalnej macierzy, co jest istotne w wielu obliczeniach matematycznych.\n",
    "\n",
    "#### 2. Znajdowanie macierzy odwrotnej\n",
    "\n",
    "- **Opis**: Macierz odwrotna $A^{-1}$ do macierzy $A$ spełnia równanie:\n",
    "  \\[\n",
    "  A \\cdot A^{-1} = A^{-1} \\cdot A = I\n",
    "  \\]\n",
    "- **Zastosowanie**: Macierz jednostkowa jest używana do definiowania i znajdowania macierzy odwrotnych, co jest kluczowe w rozwiązywaniu układów równań liniowych, analizie macierzy i innych operacjach algebry liniowej.\n",
    "\n",
    "#### 3. Rozwiązywanie układów równań liniowych\n",
    "\n",
    "- **Opis**: W metodzie eliminacji Gaussa-Jordana macierz jednostkowa jest używana do przekształcenia macierzy rozszerzonej do postaci kanonicznej, co pozwala na znalezienie rozwiązań układu równań.\n",
    "- **Zastosowanie**: Macierz jednostkowa pojawia się jako wynik końcowy po przekształceniach, co wskazuje na to, że układ równań ma rozwiązanie i jest spójny.\n",
    "\n",
    "#### 4. Transformacje liniowe\n",
    "\n",
    "- **Opis**: Macierz jednostkowa reprezentuje przekształcenie liniowe, które nie zmienia wektorów, czyli działa jako identyczność.\n",
    "- **Zastosowanie**: Umożliwia zrozumienie i interpretację bardziej złożonych przekształceń liniowych poprzez porównanie z działaniem identyczności.\n",
    "\n",
    "#### 5. Diagonalizacja macierzy\n",
    "\n",
    "- **Opis**: Macierz jednostkowa jest używana w procesie diagonalizacji macierzy. Jeśli macierz $A$ jest diagonalizowalna, to istnieje macierz odwrotna $P$ i macierz diagonalna $D$, takie że:\n",
    "  \\[\n",
    "  A = P D P^{-1}\n",
    "  \\]\n",
    "  gdzie $P$ zawiera wektory własne $A$, a $D$ jest diagonalną macierzą zawierającą wartości własne $A$.\n",
    "- **Zastosowanie**: Umożliwia uproszczenie skomplikowanych obliczeń macierzowych przez przekształcenie macierzy do postaci diagonalnej.\n",
    "\n",
    "#### 6. Projekcje ortogonalne\n",
    "\n",
    "- **Opis**: W geometrii i analizie numerycznej macierz jednostkowa jest używana do definiowania operatorów projekcji ortogonalnej. Operator projekcji $P$ spełnia:\n",
    "  \\[\n",
    "  P^2 = P \\quad \\text{oraz} \\quad P^T = P\n",
    "  \\]\n",
    "  gdzie $P$ jest macierzą symetryczną i idempotentną.\n",
    "- **Zastosowanie**: Projekcje ortogonalne są używane w metodach najmniejszych kwadratów, analizy regresji i w rozkładach macierzy, takich jak QR rozkład."
   ]
  },
  {
   "cell_type": "markdown",
   "id": "d883d5a0",
   "metadata": {},
   "source": [
    "### <a name='a9'></a>  Macierz odwrotna\n",
    "\n",
    "$A$ - macierz kwadratowa stopnia $n$. Macierz $A$ posiada macierz odwrotną, gdy istnieje macierz $B$, taka, że\n",
    "$$AB = BA = I$$\n",
    "\n",
    "$A = \\begin{bmatrix}2&4\\\\-1&3\\end{bmatrix}$"
   ]
  },
  {
   "cell_type": "code",
   "execution_count": 230,
   "id": "5f208504",
   "metadata": {},
   "outputs": [
    {
     "data": {
      "text/plain": [
       "array([[ 2,  4],\n",
       "       [-1,  3]])"
      ]
     },
     "execution_count": 230,
     "metadata": {},
     "output_type": "execute_result"
    }
   ],
   "source": [
    "A = np.array([[2, 4], [-1, 3]])\n",
    "A"
   ]
  },
  {
   "cell_type": "code",
   "execution_count": 232,
   "id": "a7de78e9",
   "metadata": {},
   "outputs": [
    {
     "data": {
      "text/plain": [
       "array([[ 0.3, -0.4],\n",
       "       [ 0.1,  0.2]])"
      ]
     },
     "execution_count": 232,
     "metadata": {},
     "output_type": "execute_result"
    }
   ],
   "source": [
    "B = np.linalg.inv(A)\n",
    "B"
   ]
  },
  {
   "cell_type": "code",
   "execution_count": 233,
   "id": "419400cd",
   "metadata": {},
   "outputs": [
    {
     "data": {
      "text/plain": [
       "array([[1.00000000e+00, 0.00000000e+00],\n",
       "       [5.55111512e-17, 1.00000000e+00]])"
      ]
     },
     "execution_count": 233,
     "metadata": {},
     "output_type": "execute_result"
    }
   ],
   "source": [
    "np.dot(A, B)"
   ]
  },
  {
   "cell_type": "code",
   "execution_count": 234,
   "id": "e046bcd8",
   "metadata": {},
   "outputs": [],
   "source": [
    "np.set_printoptions(precision=3, suppress=True)"
   ]
  },
  {
   "cell_type": "code",
   "execution_count": 235,
   "id": "48da37a5",
   "metadata": {},
   "outputs": [
    {
     "data": {
      "text/plain": [
       "array([[1., 0.],\n",
       "       [0., 1.]])"
      ]
     },
     "execution_count": 235,
     "metadata": {},
     "output_type": "execute_result"
    }
   ],
   "source": [
    "np.dot(A, B)"
   ]
  },
  {
   "cell_type": "code",
   "execution_count": 236,
   "id": "417ffc59",
   "metadata": {},
   "outputs": [
    {
     "data": {
      "text/plain": [
       "array([[ 1., -0.],\n",
       "       [ 0.,  1.]])"
      ]
     },
     "execution_count": 236,
     "metadata": {},
     "output_type": "execute_result"
    }
   ],
   "source": [
    "np.dot(B, A)"
   ]
  },
  {
   "cell_type": "markdown",
   "id": "1db024aa",
   "metadata": {},
   "source": [
    "### Zastosowania obliczania macierzy odwrotnej\n",
    "\n",
    "Macierz odwrotna, oznaczana jako $A^{-1}$, jest macierzą, która po pomnożeniu przez daną macierz $A$ daje macierz jednostkową $I$. Obliczanie macierzy odwrotnej jest kluczowe w wielu zastosowaniach matematyki, fizyki i inżynierii. Poniżej przedstawiamy główne zastosowania macierzy odwrotnej:\n",
    "\n",
    "#### 1. Rozwiązywanie układów równań liniowych\n",
    "\n",
    "- **Opis**: Jednym z najważniejszych zastosowań macierzy odwrotnej jest rozwiązywanie układów równań liniowych w postaci $A\\mathbf{x} = \\mathbf{b}$. \n",
    "- **Zastosowanie**: Jeśli macierz $A$ jest odwracalna, rozwiązanie $\\mathbf{x}$ można znaleźć za pomocą macierzy odwrotnej $A^{-1}$:\n",
    "  \\[\n",
    "  \\mathbf{x} = A^{-1}\\mathbf{b}\n",
    "  \\]\n",
    "- **Przykład**: W ekonomii, inżynierii i naukach stosowanych, gdzie trzeba rozwiązywać układy równań liniowych.\n",
    "\n",
    "#### 2. Analiza stabilności systemów dynamicznych\n",
    "\n",
    "- **Opis**: W analizie systemów dynamicznych macierz odwrotna jest używana do badania stabilności systemów.\n",
    "- **Zastosowanie**: Macierz Jacobiego $J$ systemu dynamicznego, jeśli jest odwracalna, pozwala na analizę stabilności punktów równowagi poprzez obliczenie jej wartości własnych:\n",
    "  \\[\n",
    "  J^{-1}\n",
    "  \\]\n",
    "- **Przykład**: Analiza stabilności w mechanice, elektrotechnice i biologii.\n",
    "\n",
    "#### 3. Metody numeryczne\n",
    "\n",
    "- **Opis**: Macierz odwrotna jest kluczowa w wielu metodach numerycznych, takich jak iteracyjne metody rozwiązywania układów równań liniowych.\n",
    "- **Zastosowanie**: Metoda Jacobiego, metoda Gaussa-Seidela, które wykorzystują macierz odwrotną do przyspieszenia konwergencji iteracji.\n",
    "\n",
    "#### 4. Przekształcenia liniowe i grafika komputerowa\n",
    "\n",
    "- **Opis**: W grafice komputerowej macierze odwrotne są używane do przekształceń odwrotnych, takich jak obroty, translacje i skalowania.\n",
    "- **Zastosowanie**: Znalezienie macierzy odwrotnej jest kluczowe przy transformacjach geometrii 3D, np. odwracanie przekształceń modelu do przestrzeni światowej.\n",
    "- **Przykład**: Transformacja odwrotna obrotu o kąt $\\theta$:\n",
    "  \\[\n",
    "  R(\\theta)^{-1} = R(-\\theta)\n",
    "  \\]\n",
    "\n",
    "#### 5. Algorytmy kryptograficzne\n",
    "\n",
    "- **Opis**: W kryptografii macierze odwrotne są używane w algorytmach szyfrowania i deszyfrowania danych.\n",
    "- **Zastosowanie**: Algorytmy kodowania, takie jak Hill cipher, wymagają obliczenia macierzy odwrotnej do odszyfrowania wiadomości.\n",
    "- **Przykład**: W algorytmie Hill cipher, szyfrowanie i deszyfrowanie odbywa się za pomocą macierzy i jej odwrotnej:\n",
    "  \\[\n",
    "  \\text{Szyfrogram} = K\\cdot \\text{Tekst} \\quad \\text{Deszyfrowanie:} \\quad \\text{Tekst} = K^{-1}\\cdot \\text{Szyfrogram}\n",
    "  \\]\n",
    "\n",
    "#### 6. Wykorzystanie w algorytmach optymalizacji\n",
    "\n",
    "- **Opis**: Macierz odwrotna jest używana w algorytmach optymalizacji, takich jak metoda Newtona, do znajdowania minimum lub maksimum funkcji.\n",
    "- **Zastosowanie**: W metodzie Newtona, macierz Hessego (druga pochodna funkcji) jest używana w procesie iteracyjnym do aktualizacji punktów:\n",
    "  \\[\n",
    "  \\mathbf{x}_{k+1} = \\mathbf{x}_k - H_f(\\mathbf{x}_k)^{-1} \\nabla f(\\mathbf{x}_k)\n",
    "  \\]"
   ]
  },
  {
   "cell_type": "markdown",
   "id": "6f7af65e",
   "metadata": {},
   "source": [
    "### <a name='a10'></a> Macierz transponowana\n",
    "\n",
    "Zamiana wierszy na kolumny i kolumny na wiersze.\n",
    "\n",
    "#### Przykład 1:\n",
    "\n",
    "$A = \\begin{bmatrix}2&4\\\\-1&3\\end{bmatrix}$,\n",
    "$A^{T} = \\begin{bmatrix}2&-1\\\\4&3\\end{bmatrix}$\n",
    "\n",
    "#### Przykład 2:\n",
    "$A = \\begin{bmatrix}2&1&-1\\\\0&-1&2\\end{bmatrix}$,\n",
    "$A^{T} = \\begin{bmatrix}2&0\\\\1&-1\\\\-1&2\\end{bmatrix}$"
   ]
  },
  {
   "cell_type": "code",
   "execution_count": 241,
   "id": "2bc1497a",
   "metadata": {},
   "outputs": [
    {
     "data": {
      "text/plain": [
       "array([[ 2,  4],\n",
       "       [-1,  3]])"
      ]
     },
     "execution_count": 241,
     "metadata": {},
     "output_type": "execute_result"
    }
   ],
   "source": [
    "A = np.array([[2, 4], [-1, 3]])\n",
    "A"
   ]
  },
  {
   "cell_type": "code",
   "execution_count": 243,
   "id": "107c3ce0",
   "metadata": {},
   "outputs": [
    {
     "data": {
      "text/plain": [
       "array([[ 2, -1],\n",
       "       [ 4,  3]])"
      ]
     },
     "execution_count": 243,
     "metadata": {},
     "output_type": "execute_result"
    }
   ],
   "source": [
    "np.transpose(A)"
   ]
  },
  {
   "cell_type": "code",
   "execution_count": 244,
   "id": "d392620c",
   "metadata": {},
   "outputs": [
    {
     "data": {
      "text/plain": [
       "array([[ 2, -1],\n",
       "       [ 4,  3]])"
      ]
     },
     "execution_count": 244,
     "metadata": {},
     "output_type": "execute_result"
    }
   ],
   "source": [
    "A.T"
   ]
  },
  {
   "cell_type": "markdown",
   "id": "868c3673",
   "metadata": {},
   "source": [
    "### <a name='a11'></a> Rozwiązywanie układów równań\n",
    "Rozważmy układ równań $U$:  \n",
    "$${\\displaystyle \\mathrm {U} \\colon {\\begin{cases}{\\begin{matrix}a_{11}x_{1}&+&a_{12}x_{2}&+&\\dots &+&a_{1n}x_{n}&=b_{1},\\\\a_{21}x_{1}&+&a_{22}x_{2}&+&\\dots &+&a_{2n}x_{n}&=b_{2},\\\\\\vdots &&\\vdots &&\\ddots &&\\vdots &\\vdots \\\\a_{m1}x_{1}&+&a_{m2}x_{2}&+&\\dots &+&a_{mn}x_{n}&=b_{m}.\\end{matrix}}\\end{cases}}.}$$\n",
    "\n",
    "Wykorzystując macierze możemy to przedstawić następująco:\n",
    "\n",
    "$${\\begin{bmatrix}a_{11}&a_{12}&\\dots &a_{1n}\\\\a_{21}&a_{22}&\\dots &a_{2n}\\\\\\vdots &\\vdots &\\ddots &\\vdots \\\\a_{m1}&a_{m2}&\\dots &a_{mn}\\end{bmatrix}}{\\begin{bmatrix}x_{1}\\\\x_{2}\\\\\\vdots \\\\x_{n}\\end{bmatrix}}={\\begin{bmatrix}b_{1}\\\\b_{2}\\\\\\vdots \\\\b_{m}\\end{bmatrix}}$$\n",
    "I w zapisie skrótowym:\n",
    "$$\\mathbf {AX} =\\mathbf {B}$$\n",
    "\n",
    "Gdzie:  \n",
    "$A = {\\begin{bmatrix}a_{11}&a_{12}&\\dots &a_{1n}\\\\a_{21}&a_{22}&\\dots &a_{2n}\\\\\\vdots &\\vdots &\\ddots &\\vdots \\\\a_{m1}&a_{m2}&\\dots &a_{mn}\\end{bmatrix}}$ - macierz współczynników\n",
    "\n",
    "${\\displaystyle \\mathbf {B} =[b_{1},b_{2},\\dots ,b_{m}]} $ - wektor wyrazów wolnych  \n",
    "${\\mathbf  X}=[x_{1},x_{2},\\dots ,x_{n}] $ - wektor niewiadomych\n",
    "\n",
    "Jeśli macierz układu $A$ jest macierzą kwadratową, to oznaczoność układu jest równoważna jej odwracalności, tzn.\n",
    "$$\\mathbf {AX} =\\mathbf {B}$$\n",
    "$${\\displaystyle \\mathbf {A} ^{-1}\\mathbf {AX} =\\mathbf {A} ^{-1}\\mathbf {B}} $$\n",
    "$$\\mathbf {X} =\\mathbf {A} ^{-1}\\mathbf {B} .$$\n",
    "\n",
    "#### Przykład:\n",
    "Rozważmy układ równań:\n",
    "$$\\begin{cases}2x + 4y = 10 \\\\ x - y = -1 \\end{cases}$$  \n",
    "Rozwiązaniem jest para liczb:\n",
    "$$\\begin{cases}x = 1 \\\\ y = 2 \\end{cases}$$  \n",
    "\n",
    "\n"
   ]
  },
  {
   "cell_type": "code",
   "execution_count": 245,
   "id": "10d47e3f",
   "metadata": {},
   "outputs": [
    {
     "name": "stdout",
     "output_type": "stream",
     "text": [
      "[[ 2  4]\n",
      " [ 1 -1]]\n"
     ]
    }
   ],
   "source": [
    "A = np.array([[2, 4], [1, -1]])\n",
    "print(A)"
   ]
  },
  {
   "cell_type": "code",
   "execution_count": 246,
   "id": "fb2c4520",
   "metadata": {},
   "outputs": [
    {
     "name": "stdout",
     "output_type": "stream",
     "text": [
      "[[10]\n",
      " [-1]]\n"
     ]
    }
   ],
   "source": [
    "B = np.array([[10], [-1]])\n",
    "print(B)"
   ]
  },
  {
   "cell_type": "code",
   "execution_count": 247,
   "id": "5a0eda15",
   "metadata": {},
   "outputs": [
    {
     "data": {
      "text/plain": [
       "array([[1.],\n",
       "       [2.]])"
      ]
     },
     "execution_count": 247,
     "metadata": {},
     "output_type": "execute_result"
    }
   ],
   "source": [
    "A_inv = np.linalg.inv(A)\n",
    "X = np.dot(A_inv, B)\n",
    "X"
   ]
  },
  {
   "cell_type": "code",
   "execution_count": 248,
   "id": "2663291b",
   "metadata": {},
   "outputs": [
    {
     "data": {
      "text/plain": [
       "(2, 1)"
      ]
     },
     "execution_count": 248,
     "metadata": {},
     "output_type": "execute_result"
    }
   ],
   "source": [
    "X.shape"
   ]
  },
  {
   "cell_type": "markdown",
   "id": "b87748ca",
   "metadata": {},
   "source": [
    "### Funkcje statystyczne"
   ]
  },
  {
   "cell_type": "code",
   "execution_count": 18,
   "id": "6798d4c7",
   "metadata": {},
   "outputs": [
    {
     "name": "stdout",
     "output_type": "stream",
     "text": [
      "[[  12.4   12.8   11.9   12.6 1000. ]\n",
      " [  12.5   13.    11.7   12.2 2000. ]\n",
      " [  12.2   13.4   12.2   13.2 1500. ]]\n"
     ]
    }
   ],
   "source": [
    "price = np.array([[12.40, 12.80, 11.90, 12.60, 1000],\n",
    "                  [12.50, 13.00, 11.70, 12.20, 2000],\n",
    "                  [12.20, 13.40, 12.20, 13.20, 1500]])\n",
    "print(price)"
   ]
  },
  {
   "cell_type": "code",
   "execution_count": 19,
   "id": "18c7efb3",
   "metadata": {},
   "outputs": [
    {
     "data": {
      "text/plain": [
       "4650.1"
      ]
     },
     "execution_count": 19,
     "metadata": {},
     "output_type": "execute_result"
    }
   ],
   "source": [
    "price.sum()"
   ]
  },
  {
   "cell_type": "code",
   "execution_count": 20,
   "id": "215a35a7",
   "metadata": {},
   "outputs": [
    {
     "data": {
      "text/plain": [
       "array([  37.1,   39.2,   35.8,   38. , 4500. ])"
      ]
     },
     "execution_count": 20,
     "metadata": {},
     "output_type": "execute_result"
    }
   ],
   "source": [
    "price.sum(axis=0)"
   ]
  },
  {
   "cell_type": "code",
   "execution_count": 21,
   "id": "5cdd2dff",
   "metadata": {},
   "outputs": [
    {
     "data": {
      "text/plain": [
       "array([1049.7, 2049.4, 1551. ])"
      ]
     },
     "execution_count": 21,
     "metadata": {},
     "output_type": "execute_result"
    }
   ],
   "source": [
    "price.sum(axis=1)"
   ]
  },
  {
   "cell_type": "code",
   "execution_count": 22,
   "id": "2c7e5311",
   "metadata": {},
   "outputs": [
    {
     "data": {
      "text/plain": [
       "4650.1"
      ]
     },
     "execution_count": 22,
     "metadata": {},
     "output_type": "execute_result"
    }
   ],
   "source": [
    "np.sum(price)"
   ]
  },
  {
   "cell_type": "code",
   "execution_count": 23,
   "id": "02bc0aec",
   "metadata": {},
   "outputs": [
    {
     "data": {
      "text/plain": [
       "array([  12.2,   12.8,   11.7,   12.2, 1000. ])"
      ]
     },
     "execution_count": 23,
     "metadata": {},
     "output_type": "execute_result"
    }
   ],
   "source": [
    "np.min(price, axis=0)"
   ]
  },
  {
   "cell_type": "code",
   "execution_count": 24,
   "id": "98a654e4",
   "metadata": {},
   "outputs": [
    {
     "data": {
      "text/plain": [
       "array([  12.5,   13.4,   12.2,   13.2, 2000. ])"
      ]
     },
     "execution_count": 24,
     "metadata": {},
     "output_type": "execute_result"
    }
   ],
   "source": [
    "np.max(price, axis=0)"
   ]
  },
  {
   "cell_type": "code",
   "execution_count": 25,
   "id": "07fe3856",
   "metadata": {},
   "outputs": [
    {
     "data": {
      "text/plain": [
       "12.6"
      ]
     },
     "execution_count": 25,
     "metadata": {},
     "output_type": "execute_result"
    }
   ],
   "source": [
    "np.median(price)"
   ]
  },
  {
   "cell_type": "code",
   "execution_count": 26,
   "id": "dfb6d9c9",
   "metadata": {},
   "outputs": [
    {
     "data": {
      "text/plain": [
       "array([  12.36666667,   13.06666667,   11.93333333,   12.66666667,\n",
       "       1500.        ])"
      ]
     },
     "execution_count": 26,
     "metadata": {},
     "output_type": "execute_result"
    }
   ],
   "source": [
    "np.mean(price, axis=0)"
   ]
  },
  {
   "cell_type": "code",
   "execution_count": 27,
   "id": "6e870fb2",
   "metadata": {},
   "outputs": [
    {
     "data": {
      "text/plain": [
       "array([1.24721913e-01, 2.49443826e-01, 2.05480467e-01, 4.10960934e-01,\n",
       "       4.08248290e+02])"
      ]
     },
     "execution_count": 27,
     "metadata": {},
     "output_type": "execute_result"
    }
   ],
   "source": [
    "np.std(price, axis=0)"
   ]
  },
  {
   "cell_type": "code",
   "execution_count": 28,
   "id": "98fb00ee",
   "metadata": {},
   "outputs": [
    {
     "data": {
      "text/plain": [
       "array([1.55555556e-02, 6.22222222e-02, 4.22222222e-02, 1.68888889e-01,\n",
       "       1.66666667e+05])"
      ]
     },
     "execution_count": 28,
     "metadata": {},
     "output_type": "execute_result"
    }
   ],
   "source": [
    "np.var(price, axis=0)"
   ]
  },
  {
   "cell_type": "code",
   "execution_count": null,
   "id": "90bca6dd",
   "metadata": {},
   "outputs": [],
   "source": []
  },
  {
   "cell_type": "code",
   "execution_count": null,
   "id": "4ecc9f51",
   "metadata": {},
   "outputs": [],
   "source": []
  },
  {
   "cell_type": "code",
   "execution_count": null,
   "id": "a7aa7387",
   "metadata": {},
   "outputs": [],
   "source": []
  },
  {
   "cell_type": "code",
   "execution_count": null,
   "id": "2c5641e3",
   "metadata": {},
   "outputs": [],
   "source": []
  },
  {
   "cell_type": "code",
   "execution_count": null,
   "id": "cabbfdff",
   "metadata": {},
   "outputs": [],
   "source": []
  },
  {
   "cell_type": "code",
   "execution_count": null,
   "id": "0ce68865",
   "metadata": {},
   "outputs": [],
   "source": []
  },
  {
   "cell_type": "code",
   "execution_count": null,
   "id": "11b87e0e",
   "metadata": {},
   "outputs": [],
   "source": []
  },
  {
   "cell_type": "code",
   "execution_count": null,
   "id": "2032c76f",
   "metadata": {},
   "outputs": [],
   "source": []
  },
  {
   "cell_type": "code",
   "execution_count": null,
   "id": "38703363",
   "metadata": {},
   "outputs": [],
   "source": []
  },
  {
   "cell_type": "code",
   "execution_count": null,
   "id": "44cac3f2",
   "metadata": {},
   "outputs": [],
   "source": []
  },
  {
   "cell_type": "code",
   "execution_count": null,
   "id": "0fb8a9a5",
   "metadata": {},
   "outputs": [],
   "source": []
  }
 ],
 "metadata": {
  "kernelspec": {
   "display_name": "Python 3 (ipykernel)",
   "language": "python",
   "name": "python3"
  },
  "language_info": {
   "codemirror_mode": {
    "name": "ipython",
    "version": 3
   },
   "file_extension": ".py",
   "mimetype": "text/x-python",
   "name": "python",
   "nbconvert_exporter": "python",
   "pygments_lexer": "ipython3",
   "version": "3.9.13"
  }
 },
 "nbformat": 4,
 "nbformat_minor": 5
}
