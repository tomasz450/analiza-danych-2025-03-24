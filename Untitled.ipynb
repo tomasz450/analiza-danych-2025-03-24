{
 "cells": [
  {
   "cell_type": "markdown",
   "id": "15d02b45-1b7a-44fb-85a7-8e47a4439fc6",
   "metadata": {},
   "source": [
    "##### To jest kod w Python"
   ]
  },
  {
   "cell_type": "code",
   "execution_count": 15,
   "id": "019cf8fc-40e7-4480-9922-14ff16f99b6b",
   "metadata": {},
   "outputs": [],
   "source": [
    "zmienna = 1"
   ]
  },
  {
   "cell_type": "code",
   "execution_count": 18,
   "id": "34598b1a-79f8-4b21-bf72-2c65b4c4b8ff",
   "metadata": {},
   "outputs": [],
   "source": [
    "silnik_sam_1242 = 12234"
   ]
  },
  {
   "cell_type": "code",
   "execution_count": 19,
   "id": "9ed6987e-a568-4ec4-ae0c-bc8d928dd0eb",
   "metadata": {},
   "outputs": [
    {
     "data": {
      "text/plain": [
       "12234"
      ]
     },
     "execution_count": 19,
     "metadata": {},
     "output_type": "execute_result"
    }
   ],
   "source": [
    "silnik_sam_1242"
   ]
  },
  {
   "cell_type": "code",
   "execution_count": null,
   "id": "eb54a0b4-e5a3-4fa0-b4a0-df4ddb4d70cd",
   "metadata": {},
   "outputs": [],
   "source": []
  },
  {
   "cell_type": "markdown",
   "id": "a1221718-ee5c-42bf-807d-46a76881e8dd",
   "metadata": {},
   "source": [
    "# Nagłówek główny\n",
    "## H2\n",
    "### H3\n",
    "#### H4\n",
    "##### H5\n",
    "###### H6"
   ]
  },
  {
   "cell_type": "markdown",
   "id": "a2d4f8bd-d0ff-4f93-ad3e-4d57fcafef50",
   "metadata": {},
   "source": [
    "<u>podkreślenie</u>\n",
    "nowa linia -> <br />\n",
    "<b>pogrubienie</b>\n",
    "<span style=\"color:red\"> kolorowanie </span>\n",
    "odnośnik<sup>2</sup>\n",
    "<font size = \"5\"> Zmiana rozmiaru czcionki\n",
    "<p style='margin-bottom:1em; margin-right:1em; text-align:right; font-family:Georgia'> Zmiana  stylu  i przesunięcie tekstu</p>"
   ]
  }
 ],
 "metadata": {
  "kernelspec": {
   "display_name": "conda (base)",
   "language": "python",
   "name": "base"
  },
  "language_info": {
   "codemirror_mode": {
    "name": "ipython",
    "version": 3
   },
   "file_extension": ".py",
   "mimetype": "text/x-python",
   "name": "python",
   "nbconvert_exporter": "python",
   "pygments_lexer": "ipython3",
   "version": "3.9.20"
  }
 },
 "nbformat": 4,
 "nbformat_minor": 5
}
