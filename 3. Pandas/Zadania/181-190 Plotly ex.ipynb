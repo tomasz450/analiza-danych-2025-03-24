{
 "cells": [
  {
   "cell_type": "markdown",
   "metadata": {
    "id": "zeLOLmTj1kBM"
   },
   "source": [
    "### <a name='0'></a>Import biblioteki"
   ]
  },
  {
   "cell_type": "code",
   "execution_count": null,
   "metadata": {
    "id": "HXMB7SMe1Wnz"
   },
   "outputs": [],
   "source": [
    "import numpy as np\n",
    "import pandas as pd\n",
    "import plotly.express as px\n",
    "\n",
    "np.__version__"
   ]
  },
  {
   "cell_type": "markdown",
   "metadata": {
    "id": "VXPZNJO-tQEo"
   },
   "source": [
    "Pobierz dane `insurance.csv` ze strony: https://www.kaggle.com/datasets/noordeen/insurance-premium-prediction"
   ]
  },
  {
   "cell_type": "markdown",
   "metadata": {
    "id": "cyc70pMe1oCg"
   },
   "source": [
    "### <a name='1'></a> Ćwiczenie 181\n",
    "Wczytaj plik _insurance.csv_ do obiektu DataFrame o nazwie _df_raw_ i wyświetl kilka początkowych wierszy."
   ]
  },
  {
   "cell_type": "code",
   "execution_count": null,
   "metadata": {
    "id": "uzd4A1M-u3Gh"
   },
   "outputs": [],
   "source": [
    "# tutaj wpisz rozwiązanie"
   ]
  },
  {
   "cell_type": "markdown",
   "metadata": {
    "id": "oB-yQOtTwTEZ"
   },
   "source": [
    "Skopiuj obiekt _df_raw_ do zmiennej _df_ i wyświetl podstawowe informacje o obiekcie _df_."
   ]
  },
  {
   "cell_type": "code",
   "execution_count": null,
   "metadata": {
    "id": "L4qcKxMyvjcl"
   },
   "outputs": [],
   "source": [
    "# tutaj wpisz rozwiązanie"
   ]
  },
  {
   "cell_type": "markdown",
   "metadata": {
    "id": "J9pY1rtr1sC0"
   },
   "source": [
    "### <a name='2'></a> Ćwiczenie 182\n",
    "Sprawdź czy istnieją zduplikowane wiersze w obiekcie _df_. Jeśli tak, wyświetl te wiersze."
   ]
  },
  {
   "cell_type": "code",
   "execution_count": null,
   "metadata": {
    "id": "DnXqQ0JTwlB6"
   },
   "outputs": [],
   "source": [
    "# tutaj wpisz rozwiązanie"
   ]
  },
  {
   "cell_type": "markdown",
   "metadata": {
    "id": "iRibagrkxzcD"
   },
   "source": [
    "Usuń duplikaty w obiekcie _df_."
   ]
  },
  {
   "cell_type": "code",
   "execution_count": null,
   "metadata": {
    "id": "7MXnQF8nx2UY"
   },
   "outputs": [],
   "source": [
    "# tutaj wpisz rozwiązanie"
   ]
  },
  {
   "cell_type": "markdown",
   "metadata": {
    "id": "XQLYT2m11wVG"
   },
   "source": [
    "### <a name='3'></a> Ćwiczenie 183\n",
    "Wyświetl z obiektu _df_ zmienne z typem _object_.\n",
    "\n",
    "__Wskazówka:__ Użyj metody _pd.DataFrame.select_dtypes()_"
   ]
  },
  {
   "cell_type": "code",
   "execution_count": null,
   "metadata": {
    "id": "pMllWvkLx_yV"
   },
   "outputs": [],
   "source": [
    "# tutaj wpisz rozwiązanie"
   ]
  },
  {
   "cell_type": "markdown",
   "metadata": {
    "id": "9LncN3f8zZPS"
   },
   "source": [
    "Przekształć te zmienne do zmiennych kategorycznych.\n",
    "\n",
    "__Wskazówka:__ Użyj metody _pd.DataFrame.astype()_."
   ]
  },
  {
   "cell_type": "code",
   "execution_count": null,
   "metadata": {
    "id": "4qIKlVjwzfLW"
   },
   "outputs": [],
   "source": [
    "# tutaj wpisz rozwiązanie"
   ]
  },
  {
   "cell_type": "markdown",
   "metadata": {
    "id": "gKBOdQkOyX8s"
   },
   "source": [
    "Wyświetl z obiektu _df_ zmienne numeryczne (_float_, _int_).\n",
    "\n",
    "__Wskazówka:__ Użyj metody _pd.DataFrame.select_dtypes()_"
   ]
  },
  {
   "cell_type": "code",
   "execution_count": null,
   "metadata": {
    "id": "OmAgkI6oyalq"
   },
   "outputs": [],
   "source": [
    "# tutaj wpisz rozwiązanie"
   ]
  },
  {
   "cell_type": "markdown",
   "metadata": {
    "id": "K4yf3gtQysr0"
   },
   "source": [
    "Znajdź nazwy zmiennych numerycznych (_float_, _int_) z obiektu _df_."
   ]
  },
  {
   "cell_type": "code",
   "execution_count": null,
   "metadata": {
    "id": "A2cVEC3uy4x1"
   },
   "outputs": [],
   "source": [
    "# tutaj wpisz rozwiązanie"
   ]
  },
  {
   "cell_type": "markdown",
   "metadata": {
    "id": "4xTKSUzg10MK"
   },
   "source": [
    "### <a name='4'></a> Ćwiczenie 184\n",
    "\n",
    "Wykonaj poniższe kroki:\n",
    "\n",
    "* przypisz do zmiennej _df_cat_ zmienne kategoryczne z obiektu _df_ i utwórz ich kopię.\n",
    "\n",
    "* przypisz do zmiennej _df_num_ zmienne numeryczne z obiektu _df_ i utwórz ich kopię."
   ]
  },
  {
   "cell_type": "code",
   "execution_count": null,
   "metadata": {
    "id": "OWsT3szd0X1r"
   },
   "outputs": [],
   "source": [
    "# tutaj wpisz rozwiązanie"
   ]
  },
  {
   "cell_type": "markdown",
   "metadata": {
    "id": "_zWq_z1z1FYN"
   },
   "source": [
    "Wyświetl 5 pierwszych wierszy obiektu _df_cat_."
   ]
  },
  {
   "cell_type": "code",
   "execution_count": null,
   "metadata": {
    "id": "IAItkSW10qpr"
   },
   "outputs": [],
   "source": [
    "# tutaj wpisz rozwiązanie"
   ]
  },
  {
   "cell_type": "markdown",
   "metadata": {
    "id": "uOCXSEuZ1MBw"
   },
   "source": [
    "Wyświetl 5 pierwszych wierszy obiektu _df_num_."
   ]
  },
  {
   "cell_type": "code",
   "execution_count": null,
   "metadata": {
    "id": "D4XjZLaq0sQq"
   },
   "outputs": [],
   "source": [
    "# tutaj wpisz rozwiązanie"
   ]
  },
  {
   "cell_type": "markdown",
   "metadata": {
    "id": "o3HKIKlP15Ro"
   },
   "source": [
    "### <a name='5'></a> Ćwiczenie 185\n",
    "Wyświetl podstawowe statystyki obiektu _df_cat_."
   ]
  },
  {
   "cell_type": "code",
   "execution_count": null,
   "metadata": {
    "id": "WWPQvLJA1OM2"
   },
   "outputs": [],
   "source": [
    "# tutaj wpisz rozwiązanie"
   ]
  },
  {
   "cell_type": "markdown",
   "metadata": {
    "id": "lwJGhrRjuLvF"
   },
   "source": [
    "Wyświetl podstawowe statystyki obiektu _df_num_."
   ]
  },
  {
   "cell_type": "code",
   "execution_count": null,
   "metadata": {
    "id": "DVVEm0MquEA3"
   },
   "outputs": [],
   "source": [
    "# tutaj wpisz rozwiązanie"
   ]
  },
  {
   "cell_type": "markdown",
   "metadata": {
    "id": "PunXd_Ey16so"
   },
   "source": [
    "### <a name='6'></a> Ćwiczenie 186a\n",
    "Wyświetl podstawowe statystyki obiektu _df_ dla zmiennych numerycznych i dokonaj transponowania otrzymanego obiektu _DataFrame_."
   ]
  },
  {
   "cell_type": "code",
   "execution_count": null,
   "metadata": {
    "id": "komkmBIz1Yim"
   },
   "outputs": [],
   "source": [
    "# tutaj wpisz rozwiązanie"
   ]
  },
  {
   "cell_type": "markdown",
   "metadata": {
    "id": "XcBK2YN8uV60"
   },
   "source": [
    "Wyświetl podstawowe statystyki obiektu _df_ dla zmiennych numerycznych, dokonaj transponowania otrzymanego obiektu _DataFrame_ i wytnij dwie columny _mean_ i _std_."
   ]
  },
  {
   "cell_type": "code",
   "execution_count": null,
   "metadata": {
    "id": "qbTh9_UuuTkt"
   },
   "outputs": [],
   "source": [
    "# tutaj wpisz rozwiązanie"
   ]
  },
  {
   "cell_type": "markdown",
   "metadata": {
    "id": "El9QOz7L11b4"
   },
   "source": [
    "Wyświetl podstawowe statystyki obiektu _df_ dla zmiennych kategorycznych i dokonaj transponowania otrzymanego obiektu _DataFrame_."
   ]
  },
  {
   "cell_type": "code",
   "execution_count": null,
   "metadata": {
    "id": "TZzzpOPN1yTo"
   },
   "outputs": [],
   "source": [
    "# tutaj wpisz rozwiązanie"
   ]
  },
  {
   "cell_type": "markdown",
   "metadata": {
    "id": "xCvN5H1p13r8"
   },
   "source": [
    "Sprawdź, czy są jakieś braki danych w obiekcie _df_."
   ]
  },
  {
   "cell_type": "code",
   "execution_count": null,
   "metadata": {
    "id": "bcc_LUUU18vU"
   },
   "outputs": [],
   "source": [
    "# tutaj wpisz rozwiązanie"
   ]
  },
  {
   "cell_type": "markdown",
   "metadata": {
    "id": "y1GfPwXz1u0r"
   },
   "source": [
    "### <a name='6'></a> Ćwiczenie 186b\n",
    "Wykorzystując bibliotekę _plotly express_ zbuduj histogram zmiennej _expenses_.\n",
    "\n",
    "Użyj funkcji _px.histogram()_ z następującymi parametrami:\n",
    "* width=800\n",
    "* height=400\n",
    "* nbins=50\n",
    "* facet_col='smoker'\n",
    "* facet_row='sex'"
   ]
  },
  {
   "cell_type": "code",
   "execution_count": null,
   "metadata": {
    "id": "KlwQcOfR2HgC"
   },
   "outputs": [],
   "source": [
    "# tutaj wpisz rozwiązanie"
   ]
  },
  {
   "cell_type": "markdown",
   "metadata": {
    "id": "uFb_sr7a29NI"
   },
   "source": [
    "Wykorzystując bibliotekę _plotly express_ znajdź rozkład zmiennej _smoker_.\n",
    "\n",
    "Użyj funkcji _px.histogram()_ z następującymi parametrami:\n",
    "* width=800\n",
    "* height=400\n",
    "* facet_col='sex'\n",
    "* color='sex'"
   ]
  },
  {
   "cell_type": "code",
   "execution_count": null,
   "metadata": {
    "id": "-LAbxElk2Kw0"
   },
   "outputs": [],
   "source": [
    "# tutaj wpisz rozwiązanie"
   ]
  },
  {
   "cell_type": "markdown",
   "metadata": {
    "id": "hOhqDRz618Tx"
   },
   "source": [
    "### <a name='7'></a> Ćwiczenie 187\n",
    "Skonwertuj zmienne kategoryczne obietku _df_ do kodowania 0-1 (True-False) i przypisz do zmiennej _df_dummies_.\n",
    "\n",
    "__Wskazówka:__ Użyj funkcji _pd.get_dummies()_ z parametrem _drop_first=True_ oraz _dtype='int'_."
   ]
  },
  {
   "cell_type": "code",
   "execution_count": null,
   "metadata": {
    "id": "nyj0laIn3Qjt"
   },
   "outputs": [],
   "source": [
    "# tutaj wpisz rozwiązanie"
   ]
  },
  {
   "cell_type": "markdown",
   "metadata": {
    "id": "TXUd_4631-gw"
   },
   "source": [
    "### <a name='8'></a> Ćwiczenie 188\n",
    "Wyznacz korelacje zmiennych w obiekcie _df_dummies_ i przypisz do zmiennej _corr_."
   ]
  },
  {
   "cell_type": "code",
   "execution_count": null,
   "metadata": {
    "id": "bqBxK4p0FAUG"
   },
   "outputs": [],
   "source": [
    "# tutaj wpisz rozwiązanie"
   ]
  },
  {
   "cell_type": "markdown",
   "metadata": {
    "id": "Dj8PoK7PFc7O"
   },
   "source": [
    "Wytnij kolumnę z obiektu _corr_ dla zmiennej _expenses_ (jako obiekt DataFrame) i posortuj wartości malejąco."
   ]
  },
  {
   "cell_type": "code",
   "execution_count": null,
   "metadata": {
    "id": "usONj-CvFKt5"
   },
   "outputs": [],
   "source": [
    "# tutaj wpisz rozwiązanie"
   ]
  },
  {
   "cell_type": "markdown",
   "metadata": {
    "id": "I0gecEcmGAhm"
   },
   "source": [
    "Wykorzystując bibliotekę _plotly express_ utwórz wykres słupkowy dla tak posortowanych wartości. Pomiń pierwszy element obiektu."
   ]
  },
  {
   "cell_type": "code",
   "execution_count": null,
   "metadata": {
    "id": "WNg-D09lFv87"
   },
   "outputs": [],
   "source": [
    "# tutaj wpisz rozwiązanie"
   ]
  },
  {
   "cell_type": "markdown",
   "metadata": {
    "id": "tgI6xEn-2AQo"
   },
   "source": [
    "### <a name='9'></a> Ćwiczenie 189\n",
    "Skopiuj obiekt _df_dummies_ do zmiennej _data_. Następnie wyrwij z tego obiektu kolumnę _charges_ i przypisz do zmiennej _target_."
   ]
  },
  {
   "cell_type": "code",
   "execution_count": null,
   "metadata": {
    "id": "IZnJJpDsGqee"
   },
   "outputs": [],
   "source": [
    "# tutaj wpisz rozwiązanie"
   ]
  },
  {
   "cell_type": "markdown",
   "metadata": {
    "id": "Eyr22-22HOiW"
   },
   "source": [
    "Wyświetl 5 pierwszych wierszy obiektu _data_. Upewnij się, że nie ma w nim kolumny _charges_."
   ]
  },
  {
   "cell_type": "code",
   "execution_count": null,
   "metadata": {
    "id": "7GHl4m1PHLaE"
   },
   "outputs": [],
   "source": [
    "# tutaj wpisz rozwiązanie"
   ]
  },
  {
   "cell_type": "markdown",
   "metadata": {
    "id": "dRjx1jqLHWvl"
   },
   "source": [
    "Wyświetl 5 pierwszych wierszy obiektu _target_."
   ]
  },
  {
   "cell_type": "code",
   "execution_count": null,
   "metadata": {
    "id": "BwVR7LB-HMvH"
   },
   "outputs": [],
   "source": [
    "# tutaj wpisz rozwiązanie"
   ]
  },
  {
   "cell_type": "markdown",
   "metadata": {
    "id": "wxhpf-uq2B1I"
   },
   "source": [
    "### <a name='10'></a> Ćwiczenie 190\n",
    "Wykorzystując bibliotekę _scikit-learn_ oraz funkcję _train_test_split_ podziel dane z obiektów _data_ i _target_ na zbiór treningowy (_X\\_train_, _y\\_train_) oraz zbiór testowy (_X\\_test_, _y\\_test_). Do zbioru testowego przydziel 20% próbek.\n",
    "\n",
    "Wyświetl rozmiar obiektów:\n",
    "* _X\\_train_\n",
    "* _X\\_test_\n",
    "* _y\\_train_\n",
    "* _y\\_test_"
   ]
  },
  {
   "cell_type": "code",
   "execution_count": null,
   "metadata": {
    "id": "YFc0KW6URsuc"
   },
   "outputs": [],
   "source": [
    "# tutaj wpisz rozwiązanie"
   ]
  },
  {
   "cell_type": "markdown",
   "metadata": {
    "id": "DHJYJciXIc4T"
   },
   "source": [
    "Zapisz obiekty:\n",
    "* _X\\_train_\n",
    "* _X\\_test_\n",
    "* _y\\_train_\n",
    "* _y\\_test_  \n",
    "\n",
    "do plików csv odpowiednio o nazwie:\n",
    "* X_train.csv\n",
    "* X_test.csv\n",
    "* y_train.csv\n",
    "* y_test.csv\n"
   ]
  },
  {
   "cell_type": "code",
   "execution_count": null,
   "metadata": {
    "id": "htp6CUQCHpY2"
   },
   "outputs": [],
   "source": [
    "# tutaj wpisz rozwiązanie"
   ]
  }
 ],
 "metadata": {
  "colab": {
   "provenance": []
  },
  "kernelspec": {
   "display_name": "Python 3 (ipykernel)",
   "language": "python",
   "name": "python3"
  },
  "language_info": {
   "codemirror_mode": {
    "name": "ipython",
    "version": 3
   },
   "file_extension": ".py",
   "mimetype": "text/x-python",
   "name": "python",
   "nbconvert_exporter": "python",
   "pygments_lexer": "ipython3",
   "version": "3.9.13"
  }
 },
 "nbformat": 4,
 "nbformat_minor": 1
}
