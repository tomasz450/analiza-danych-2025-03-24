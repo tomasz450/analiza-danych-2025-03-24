{
 "cells": [
  {
   "cell_type": "markdown",
   "metadata": {
    "id": "zeLOLmTj1kBM"
   },
   "source": [
    "### <a name='0'></a>Import biblioteki"
   ]
  },
  {
   "cell_type": "code",
   "execution_count": 3,
   "metadata": {
    "colab": {
     "base_uri": "https://localhost:8080/",
     "height": 34
    },
    "id": "HXMB7SMe1Wnz",
    "outputId": "395061c0-1721-4b02-ff11-7a851ecefd09"
   },
   "outputs": [
    {
     "data": {
      "text/plain": [
       "'1.24.4'"
      ]
     },
     "execution_count": 3,
     "metadata": {},
     "output_type": "execute_result"
    }
   ],
   "source": [
    "import numpy as np\n",
    "import pandas as pd\n",
    "\n",
    "import warnings\n",
    "warnings.filterwarnings(\"ignore\")\n",
    "\n",
    "np.__version__"
   ]
  },
  {
   "cell_type": "code",
   "execution_count": 20,
   "metadata": {},
   "outputs": [
    {
     "data": {
      "text/plain": [
       "'2.1.0'"
      ]
     },
     "execution_count": 20,
     "metadata": {},
     "output_type": "execute_result"
    }
   ],
   "source": [
    "pd.__version__"
   ]
  },
  {
   "cell_type": "markdown",
   "metadata": {
    "id": "cyc70pMe1oCg"
   },
   "source": [
    "### <a name='1'></a> Ćwiczenie 191\n",
    "Z poniższego słownika _data_ utwórz obiekt _DataFrame_ i przypisz do zmiennej _df_.\n",
    "\n",
    "\n",
    "```\n",
    "data = {\n",
    "    'size': ['XL', 'L', 'M', 'L', 'M'],\n",
    "    'color': ['red', 'green', 'blue', 'green', 'red'],\n",
    "    'gender': ['female', 'male', 'male', 'female', 'female'],\n",
    "    'price': [199.0, 89.0, 99.0, 129.0, 79.0],\n",
    "    'weight': [500, 450, 300, 380, 410],\n",
    "    'bought': ['yes', 'no', 'yes', 'no', 'yes']\n",
    "}\n",
    "```\n",
    "\n"
   ]
  },
  {
   "cell_type": "code",
   "execution_count": 5,
   "metadata": {
    "colab": {
     "base_uri": "https://localhost:8080/",
     "height": 203
    },
    "id": "i8TGz_jSK3CY",
    "outputId": "2bedcf1e-5d4b-4d98-fd0d-1d1ab28ae09f"
   },
   "outputs": [
    {
     "data": {
      "text/html": [
       "<div>\n",
       "<style scoped>\n",
       "    .dataframe tbody tr th:only-of-type {\n",
       "        vertical-align: middle;\n",
       "    }\n",
       "\n",
       "    .dataframe tbody tr th {\n",
       "        vertical-align: top;\n",
       "    }\n",
       "\n",
       "    .dataframe thead th {\n",
       "        text-align: right;\n",
       "    }\n",
       "</style>\n",
       "<table border=\"1\" class=\"dataframe\">\n",
       "  <thead>\n",
       "    <tr style=\"text-align: right;\">\n",
       "      <th></th>\n",
       "      <th>size</th>\n",
       "      <th>color</th>\n",
       "      <th>gender</th>\n",
       "      <th>price</th>\n",
       "      <th>weight</th>\n",
       "      <th>bought</th>\n",
       "    </tr>\n",
       "  </thead>\n",
       "  <tbody>\n",
       "    <tr>\n",
       "      <th>0</th>\n",
       "      <td>XL</td>\n",
       "      <td>red</td>\n",
       "      <td>female</td>\n",
       "      <td>199.0</td>\n",
       "      <td>500</td>\n",
       "      <td>yes</td>\n",
       "    </tr>\n",
       "    <tr>\n",
       "      <th>1</th>\n",
       "      <td>L</td>\n",
       "      <td>green</td>\n",
       "      <td>male</td>\n",
       "      <td>89.0</td>\n",
       "      <td>450</td>\n",
       "      <td>no</td>\n",
       "    </tr>\n",
       "    <tr>\n",
       "      <th>2</th>\n",
       "      <td>M</td>\n",
       "      <td>blue</td>\n",
       "      <td>male</td>\n",
       "      <td>99.0</td>\n",
       "      <td>300</td>\n",
       "      <td>yes</td>\n",
       "    </tr>\n",
       "    <tr>\n",
       "      <th>3</th>\n",
       "      <td>L</td>\n",
       "      <td>green</td>\n",
       "      <td>female</td>\n",
       "      <td>129.0</td>\n",
       "      <td>380</td>\n",
       "      <td>no</td>\n",
       "    </tr>\n",
       "    <tr>\n",
       "      <th>4</th>\n",
       "      <td>M</td>\n",
       "      <td>red</td>\n",
       "      <td>female</td>\n",
       "      <td>79.0</td>\n",
       "      <td>410</td>\n",
       "      <td>yes</td>\n",
       "    </tr>\n",
       "  </tbody>\n",
       "</table>\n",
       "</div>"
      ],
      "text/plain": [
       "  size  color  gender  price  weight bought\n",
       "0   XL    red  female  199.0     500    yes\n",
       "1    L  green    male   89.0     450     no\n",
       "2    M   blue    male   99.0     300    yes\n",
       "3    L  green  female  129.0     380     no\n",
       "4    M    red  female   79.0     410    yes"
      ]
     },
     "execution_count": 5,
     "metadata": {},
     "output_type": "execute_result"
    }
   ],
   "source": [
    "data = {\n",
    "    'size': ['XL', 'L', 'M', 'L', 'M'],\n",
    "    'color': ['red', 'green', 'blue', 'green', 'red'],\n",
    "    'gender': ['female', 'male', 'male', 'female', 'female'],\n",
    "    'price': [199.0, 89.0, 99.0, 129.0, 79.0],\n",
    "    'weight': [500, 450, 300, 380, 410],\n",
    "    'bought': ['yes', 'no', 'yes', 'no', 'yes']\n",
    "}\n",
    "\n",
    "df = pd.DataFrame(data)\n",
    "df"
   ]
  },
  {
   "cell_type": "markdown",
   "metadata": {
    "id": "41VWXEvpLVCf"
   },
   "source": [
    "Wyświetl podstawowe informacje na temat obiektu _df_."
   ]
  },
  {
   "cell_type": "code",
   "execution_count": 3,
   "metadata": {
    "colab": {
     "base_uri": "https://localhost:8080/",
     "height": 240
    },
    "id": "FDU1zhczLQYS",
    "outputId": "ab8dcb69-cab6-4a04-af80-550637e158d9"
   },
   "outputs": [
    {
     "name": "stdout",
     "output_type": "stream",
     "text": [
      "<class 'pandas.core.frame.DataFrame'>\n",
      "RangeIndex: 5 entries, 0 to 4\n",
      "Data columns (total 6 columns):\n",
      " #   Column  Non-Null Count  Dtype  \n",
      "---  ------  --------------  -----  \n",
      " 0   size    5 non-null      object \n",
      " 1   color   5 non-null      object \n",
      " 2   gender  5 non-null      object \n",
      " 3   price   5 non-null      float64\n",
      " 4   weight  5 non-null      int64  \n",
      " 5   bought  5 non-null      object \n",
      "dtypes: float64(1), int64(1), object(4)\n",
      "memory usage: 368.0+ bytes\n"
     ]
    }
   ],
   "source": [
    "df.info()"
   ]
  },
  {
   "cell_type": "markdown",
   "metadata": {
    "id": "Bmb7P91_LYbp"
   },
   "source": [
    "Dokonaj konwersji zmiennych na poszczególne typy:\n",
    "* size -> _category_\n",
    "* color -> _category_\n",
    "* gender -> _category_\n",
    "* weight -> _float_\n",
    "* bought -> _category_"
   ]
  },
  {
   "cell_type": "code",
   "execution_count": 4,
   "metadata": {
    "colab": {
     "base_uri": "https://localhost:8080/",
     "height": 240
    },
    "id": "nLbmiN1ILuVj",
    "outputId": "04c7a90d-d296-4ef5-b082-821dd54bc903"
   },
   "outputs": [
    {
     "name": "stdout",
     "output_type": "stream",
     "text": [
      "<class 'pandas.core.frame.DataFrame'>\n",
      "RangeIndex: 5 entries, 0 to 4\n",
      "Data columns (total 6 columns):\n",
      " #   Column  Non-Null Count  Dtype   \n",
      "---  ------  --------------  -----   \n",
      " 0   size    5 non-null      category\n",
      " 1   color   5 non-null      category\n",
      " 2   gender  5 non-null      category\n",
      " 3   price   5 non-null      float64 \n",
      " 4   weight  5 non-null      float64 \n",
      " 5   bought  5 non-null      category\n",
      "dtypes: category(4), float64(2)\n",
      "memory usage: 740.0 bytes\n"
     ]
    }
   ],
   "source": [
    "for col in ['size', 'color', 'gender', 'bought']:\n",
    "    df[col] = df[col].astype('category')\n",
    "\n",
    "df['weight'] = df['weight'].astype('float')\n",
    "df.info()"
   ]
  },
  {
   "cell_type": "markdown",
   "metadata": {
    "id": "J9pY1rtr1sC0"
   },
   "source": [
    "### <a name='2'></a> Ćwiczenie 192\n",
    "Wykorzystując bibliotekę do uczenia maszynowego _scikit-learn_ oraz klasę _LabelEncoder_ dokonaj kodowania 0-1 zmiennej _bought_. Zmiany przypisz na stałe do obiektu _df_ i wyświetl ten obiekt."
   ]
  },
  {
   "cell_type": "code",
   "execution_count": 5,
   "metadata": {
    "colab": {
     "base_uri": "https://localhost:8080/",
     "height": 203
    },
    "id": "0ZomPI_HL9cZ",
    "outputId": "17e6684a-be64-466d-a98b-87b182725b63"
   },
   "outputs": [
    {
     "data": {
      "text/html": [
       "<div>\n",
       "<style scoped>\n",
       "    .dataframe tbody tr th:only-of-type {\n",
       "        vertical-align: middle;\n",
       "    }\n",
       "\n",
       "    .dataframe tbody tr th {\n",
       "        vertical-align: top;\n",
       "    }\n",
       "\n",
       "    .dataframe thead th {\n",
       "        text-align: right;\n",
       "    }\n",
       "</style>\n",
       "<table border=\"1\" class=\"dataframe\">\n",
       "  <thead>\n",
       "    <tr style=\"text-align: right;\">\n",
       "      <th></th>\n",
       "      <th>size</th>\n",
       "      <th>color</th>\n",
       "      <th>gender</th>\n",
       "      <th>price</th>\n",
       "      <th>weight</th>\n",
       "      <th>bought</th>\n",
       "    </tr>\n",
       "  </thead>\n",
       "  <tbody>\n",
       "    <tr>\n",
       "      <th>0</th>\n",
       "      <td>XL</td>\n",
       "      <td>red</td>\n",
       "      <td>female</td>\n",
       "      <td>199.0</td>\n",
       "      <td>500.0</td>\n",
       "      <td>1</td>\n",
       "    </tr>\n",
       "    <tr>\n",
       "      <th>1</th>\n",
       "      <td>L</td>\n",
       "      <td>green</td>\n",
       "      <td>male</td>\n",
       "      <td>89.0</td>\n",
       "      <td>450.0</td>\n",
       "      <td>0</td>\n",
       "    </tr>\n",
       "    <tr>\n",
       "      <th>2</th>\n",
       "      <td>M</td>\n",
       "      <td>blue</td>\n",
       "      <td>male</td>\n",
       "      <td>99.0</td>\n",
       "      <td>300.0</td>\n",
       "      <td>1</td>\n",
       "    </tr>\n",
       "    <tr>\n",
       "      <th>3</th>\n",
       "      <td>L</td>\n",
       "      <td>green</td>\n",
       "      <td>female</td>\n",
       "      <td>129.0</td>\n",
       "      <td>380.0</td>\n",
       "      <td>0</td>\n",
       "    </tr>\n",
       "    <tr>\n",
       "      <th>4</th>\n",
       "      <td>M</td>\n",
       "      <td>red</td>\n",
       "      <td>female</td>\n",
       "      <td>79.0</td>\n",
       "      <td>410.0</td>\n",
       "      <td>1</td>\n",
       "    </tr>\n",
       "  </tbody>\n",
       "</table>\n",
       "</div>"
      ],
      "text/plain": [
       "  size  color  gender  price  weight  bought\n",
       "0   XL    red  female  199.0   500.0       1\n",
       "1    L  green    male   89.0   450.0       0\n",
       "2    M   blue    male   99.0   300.0       1\n",
       "3    L  green  female  129.0   380.0       0\n",
       "4    M    red  female   79.0   410.0       1"
      ]
     },
     "execution_count": 5,
     "metadata": {},
     "output_type": "execute_result"
    }
   ],
   "source": [
    "from sklearn.preprocessing import LabelEncoder\n",
    "\n",
    "le = LabelEncoder()\n",
    "df['bought'] = le.fit_transform(df['bought'])\n",
    "df"
   ]
  },
  {
   "cell_type": "markdown",
   "metadata": {
    "id": "F0nDHBZpMmnn"
   },
   "source": [
    "Wykorzystując odpowiednią metodę klasy _LabelEncoder_ przywróć pierwotną postać zmiennej _bought_. Zwróć uwagę na typ zmiennej _bought_."
   ]
  },
  {
   "cell_type": "code",
   "execution_count": 6,
   "metadata": {
    "colab": {
     "base_uri": "https://localhost:8080/",
     "height": 203
    },
    "id": "Rr4NdDHeMhlD",
    "outputId": "f19401ed-f841-4d5e-d4b7-ab52e408e754"
   },
   "outputs": [
    {
     "data": {
      "text/html": [
       "<div>\n",
       "<style scoped>\n",
       "    .dataframe tbody tr th:only-of-type {\n",
       "        vertical-align: middle;\n",
       "    }\n",
       "\n",
       "    .dataframe tbody tr th {\n",
       "        vertical-align: top;\n",
       "    }\n",
       "\n",
       "    .dataframe thead th {\n",
       "        text-align: right;\n",
       "    }\n",
       "</style>\n",
       "<table border=\"1\" class=\"dataframe\">\n",
       "  <thead>\n",
       "    <tr style=\"text-align: right;\">\n",
       "      <th></th>\n",
       "      <th>size</th>\n",
       "      <th>color</th>\n",
       "      <th>gender</th>\n",
       "      <th>price</th>\n",
       "      <th>weight</th>\n",
       "      <th>bought</th>\n",
       "    </tr>\n",
       "  </thead>\n",
       "  <tbody>\n",
       "    <tr>\n",
       "      <th>0</th>\n",
       "      <td>XL</td>\n",
       "      <td>red</td>\n",
       "      <td>female</td>\n",
       "      <td>199.0</td>\n",
       "      <td>500.0</td>\n",
       "      <td>yes</td>\n",
       "    </tr>\n",
       "    <tr>\n",
       "      <th>1</th>\n",
       "      <td>L</td>\n",
       "      <td>green</td>\n",
       "      <td>male</td>\n",
       "      <td>89.0</td>\n",
       "      <td>450.0</td>\n",
       "      <td>no</td>\n",
       "    </tr>\n",
       "    <tr>\n",
       "      <th>2</th>\n",
       "      <td>M</td>\n",
       "      <td>blue</td>\n",
       "      <td>male</td>\n",
       "      <td>99.0</td>\n",
       "      <td>300.0</td>\n",
       "      <td>yes</td>\n",
       "    </tr>\n",
       "    <tr>\n",
       "      <th>3</th>\n",
       "      <td>L</td>\n",
       "      <td>green</td>\n",
       "      <td>female</td>\n",
       "      <td>129.0</td>\n",
       "      <td>380.0</td>\n",
       "      <td>no</td>\n",
       "    </tr>\n",
       "    <tr>\n",
       "      <th>4</th>\n",
       "      <td>M</td>\n",
       "      <td>red</td>\n",
       "      <td>female</td>\n",
       "      <td>79.0</td>\n",
       "      <td>410.0</td>\n",
       "      <td>yes</td>\n",
       "    </tr>\n",
       "  </tbody>\n",
       "</table>\n",
       "</div>"
      ],
      "text/plain": [
       "  size  color  gender  price  weight bought\n",
       "0   XL    red  female  199.0   500.0    yes\n",
       "1    L  green    male   89.0   450.0     no\n",
       "2    M   blue    male   99.0   300.0    yes\n",
       "3    L  green  female  129.0   380.0     no\n",
       "4    M    red  female   79.0   410.0    yes"
      ]
     },
     "execution_count": 6,
     "metadata": {},
     "output_type": "execute_result"
    }
   ],
   "source": [
    "df['bought'] = le.inverse_transform(df['bought'])\n",
    "df['bought'] = df['bought'].astype('category')\n",
    "df"
   ]
  },
  {
   "cell_type": "code",
   "execution_count": 7,
   "metadata": {
    "colab": {
     "base_uri": "https://localhost:8080/",
     "height": 240
    },
    "id": "iGp5aau6Mz21",
    "outputId": "721928f7-e0a1-4218-e71d-60da2c07c39f"
   },
   "outputs": [
    {
     "name": "stdout",
     "output_type": "stream",
     "text": [
      "<class 'pandas.core.frame.DataFrame'>\n",
      "RangeIndex: 5 entries, 0 to 4\n",
      "Data columns (total 6 columns):\n",
      " #   Column  Non-Null Count  Dtype   \n",
      "---  ------  --------------  -----   \n",
      " 0   size    5 non-null      category\n",
      " 1   color   5 non-null      category\n",
      " 2   gender  5 non-null      category\n",
      " 3   price   5 non-null      float64 \n",
      " 4   weight  5 non-null      float64 \n",
      " 5   bought  5 non-null      category\n",
      "dtypes: category(4), float64(2)\n",
      "memory usage: 740.0 bytes\n"
     ]
    }
   ],
   "source": [
    "df.info()"
   ]
  },
  {
   "cell_type": "markdown",
   "metadata": {
    "id": "XQLYT2m11wVG"
   },
   "source": [
    "### <a name='3'></a> Ćwiczenie 193\n",
    "Wykorzystując bibliotekę do uczenia maszynowego _scikit-learn_ oraz klasę _OneHotEncoder_ dokonaj kodowania 0-1 zmiennej _size_. Nie przypisuj zmian do obiektu _df_.\n",
    "\n",
    "Użyj parametru _sparse=False_ klasy _OneHotEncoder_."
   ]
  },
  {
   "cell_type": "code",
   "execution_count": 9,
   "metadata": {
    "colab": {
     "base_uri": "https://localhost:8080/",
     "height": 103
    },
    "id": "pPEQDr2MOfdp",
    "outputId": "576bda66-3574-497a-84ee-76a083bed4b0"
   },
   "outputs": [
    {
     "data": {
      "text/plain": [
       "array([[0., 0., 1.],\n",
       "       [1., 0., 0.],\n",
       "       [0., 1., 0.],\n",
       "       [1., 0., 0.],\n",
       "       [0., 1., 0.]])"
      ]
     },
     "execution_count": 9,
     "metadata": {},
     "output_type": "execute_result"
    }
   ],
   "source": [
    "from sklearn.preprocessing import OneHotEncoder\n",
    "\n",
    "encoder = OneHotEncoder(sparse=False)\n",
    "encoder.fit_transform(df[['size']])"
   ]
  },
  {
   "cell_type": "markdown",
   "metadata": {
    "id": "ybuk-ivrXftz"
   },
   "source": [
    "Wykorzystując bibliotekę do uczenia maszynowego _scikit-learn_ oraz klasę _OneHotEncoder_ dokonaj kodowania 0-1 zmiennej _size_. Nie przypisuj zmian do obiektu _df_.\n",
    "\n",
    "Użyj parametru _sparse=False_ **oraz _drop=first_** klasy _OneHotEncoder_."
   ]
  },
  {
   "cell_type": "code",
   "execution_count": 10,
   "metadata": {
    "colab": {
     "base_uri": "https://localhost:8080/",
     "height": 103
    },
    "id": "1WFDcfAJXdx2",
    "outputId": "1d52a313-dff6-4870-d4ab-5913dbd8e1fa"
   },
   "outputs": [
    {
     "data": {
      "text/plain": [
       "array([[0., 1.],\n",
       "       [0., 0.],\n",
       "       [1., 0.],\n",
       "       [0., 0.],\n",
       "       [1., 0.]])"
      ]
     },
     "execution_count": 10,
     "metadata": {},
     "output_type": "execute_result"
    }
   ],
   "source": [
    "encoder = OneHotEncoder(sparse=False, drop='first')\n",
    "encoder.fit_transform(df[['size']])"
   ]
  },
  {
   "cell_type": "markdown",
   "metadata": {
    "id": "4xTKSUzg10MK"
   },
   "source": [
    "### <a name='4'></a> Ćwiczenie 194\n",
    "Wykorzystując bibliotekę _pandas_ oraz funkcję _get_dummies()_ przedstaw wszystkie zmienne kategoryczne obiektu _df_ w postaci kodowania 0-1. Nie przypisuj zmian na trwałe do obiektu _df_."
   ]
  },
  {
   "cell_type": "code",
   "execution_count": 12,
   "metadata": {
    "colab": {
     "base_uri": "https://localhost:8080/",
     "height": 223
    },
    "id": "3Pz3mHLxXuNP",
    "outputId": "6c0254ae-ef8e-40aa-88a9-26acfb662808"
   },
   "outputs": [
    {
     "data": {
      "text/html": [
       "<div>\n",
       "<style scoped>\n",
       "    .dataframe tbody tr th:only-of-type {\n",
       "        vertical-align: middle;\n",
       "    }\n",
       "\n",
       "    .dataframe tbody tr th {\n",
       "        vertical-align: top;\n",
       "    }\n",
       "\n",
       "    .dataframe thead th {\n",
       "        text-align: right;\n",
       "    }\n",
       "</style>\n",
       "<table border=\"1\" class=\"dataframe\">\n",
       "  <thead>\n",
       "    <tr style=\"text-align: right;\">\n",
       "      <th></th>\n",
       "      <th>price</th>\n",
       "      <th>weight</th>\n",
       "      <th>size_L</th>\n",
       "      <th>size_M</th>\n",
       "      <th>size_XL</th>\n",
       "      <th>color_blue</th>\n",
       "      <th>color_green</th>\n",
       "      <th>color_red</th>\n",
       "      <th>gender_female</th>\n",
       "      <th>gender_male</th>\n",
       "      <th>bought_no</th>\n",
       "      <th>bought_yes</th>\n",
       "    </tr>\n",
       "  </thead>\n",
       "  <tbody>\n",
       "    <tr>\n",
       "      <th>0</th>\n",
       "      <td>199.0</td>\n",
       "      <td>500.0</td>\n",
       "      <td>0</td>\n",
       "      <td>0</td>\n",
       "      <td>1</td>\n",
       "      <td>0</td>\n",
       "      <td>0</td>\n",
       "      <td>1</td>\n",
       "      <td>1</td>\n",
       "      <td>0</td>\n",
       "      <td>0</td>\n",
       "      <td>1</td>\n",
       "    </tr>\n",
       "    <tr>\n",
       "      <th>1</th>\n",
       "      <td>89.0</td>\n",
       "      <td>450.0</td>\n",
       "      <td>1</td>\n",
       "      <td>0</td>\n",
       "      <td>0</td>\n",
       "      <td>0</td>\n",
       "      <td>1</td>\n",
       "      <td>0</td>\n",
       "      <td>0</td>\n",
       "      <td>1</td>\n",
       "      <td>1</td>\n",
       "      <td>0</td>\n",
       "    </tr>\n",
       "    <tr>\n",
       "      <th>2</th>\n",
       "      <td>99.0</td>\n",
       "      <td>300.0</td>\n",
       "      <td>0</td>\n",
       "      <td>1</td>\n",
       "      <td>0</td>\n",
       "      <td>1</td>\n",
       "      <td>0</td>\n",
       "      <td>0</td>\n",
       "      <td>0</td>\n",
       "      <td>1</td>\n",
       "      <td>0</td>\n",
       "      <td>1</td>\n",
       "    </tr>\n",
       "    <tr>\n",
       "      <th>3</th>\n",
       "      <td>129.0</td>\n",
       "      <td>380.0</td>\n",
       "      <td>1</td>\n",
       "      <td>0</td>\n",
       "      <td>0</td>\n",
       "      <td>0</td>\n",
       "      <td>1</td>\n",
       "      <td>0</td>\n",
       "      <td>1</td>\n",
       "      <td>0</td>\n",
       "      <td>1</td>\n",
       "      <td>0</td>\n",
       "    </tr>\n",
       "    <tr>\n",
       "      <th>4</th>\n",
       "      <td>79.0</td>\n",
       "      <td>410.0</td>\n",
       "      <td>0</td>\n",
       "      <td>1</td>\n",
       "      <td>0</td>\n",
       "      <td>0</td>\n",
       "      <td>0</td>\n",
       "      <td>1</td>\n",
       "      <td>1</td>\n",
       "      <td>0</td>\n",
       "      <td>0</td>\n",
       "      <td>1</td>\n",
       "    </tr>\n",
       "  </tbody>\n",
       "</table>\n",
       "</div>"
      ],
      "text/plain": [
       "   price  weight  size_L  size_M  size_XL  color_blue  color_green  color_red  \\\n",
       "0  199.0   500.0       0       0        1           0            0          1   \n",
       "1   89.0   450.0       1       0        0           0            1          0   \n",
       "2   99.0   300.0       0       1        0           1            0          0   \n",
       "3  129.0   380.0       1       0        0           0            1          0   \n",
       "4   79.0   410.0       0       1        0           0            0          1   \n",
       "\n",
       "   gender_female  gender_male  bought_no  bought_yes  \n",
       "0              1            0          0           1  \n",
       "1              0            1          1           0  \n",
       "2              0            1          0           1  \n",
       "3              1            0          1           0  \n",
       "4              1            0          0           1  "
      ]
     },
     "execution_count": 12,
     "metadata": {},
     "output_type": "execute_result"
    }
   ],
   "source": [
    "pd.get_dummies(df, dtype='int')"
   ]
  },
  {
   "cell_type": "markdown",
   "metadata": {
    "id": "Li9YVOlGYP5E"
   },
   "source": [
    "Wykorzystując bibliotekę _pandas_ oraz funkcję _get_dummies()_ przedstaw wszystkie zmienne kategoryczne obiektu _df_ w postaci kodowania 0-1. Użyj parametru _drop_first=True_. Nie przypisuj zmian na trwałe do obiektu _df_."
   ]
  },
  {
   "cell_type": "code",
   "execution_count": 13,
   "metadata": {
    "colab": {
     "base_uri": "https://localhost:8080/",
     "height": 203
    },
    "id": "sCPW91USYMbU",
    "outputId": "2aba2ec4-4c02-4370-fa95-882a219d48c1"
   },
   "outputs": [
    {
     "data": {
      "text/html": [
       "<div>\n",
       "<style scoped>\n",
       "    .dataframe tbody tr th:only-of-type {\n",
       "        vertical-align: middle;\n",
       "    }\n",
       "\n",
       "    .dataframe tbody tr th {\n",
       "        vertical-align: top;\n",
       "    }\n",
       "\n",
       "    .dataframe thead th {\n",
       "        text-align: right;\n",
       "    }\n",
       "</style>\n",
       "<table border=\"1\" class=\"dataframe\">\n",
       "  <thead>\n",
       "    <tr style=\"text-align: right;\">\n",
       "      <th></th>\n",
       "      <th>price</th>\n",
       "      <th>weight</th>\n",
       "      <th>size_M</th>\n",
       "      <th>size_XL</th>\n",
       "      <th>color_green</th>\n",
       "      <th>color_red</th>\n",
       "      <th>gender_male</th>\n",
       "      <th>bought_yes</th>\n",
       "    </tr>\n",
       "  </thead>\n",
       "  <tbody>\n",
       "    <tr>\n",
       "      <th>0</th>\n",
       "      <td>199.0</td>\n",
       "      <td>500.0</td>\n",
       "      <td>0</td>\n",
       "      <td>1</td>\n",
       "      <td>0</td>\n",
       "      <td>1</td>\n",
       "      <td>0</td>\n",
       "      <td>1</td>\n",
       "    </tr>\n",
       "    <tr>\n",
       "      <th>1</th>\n",
       "      <td>89.0</td>\n",
       "      <td>450.0</td>\n",
       "      <td>0</td>\n",
       "      <td>0</td>\n",
       "      <td>1</td>\n",
       "      <td>0</td>\n",
       "      <td>1</td>\n",
       "      <td>0</td>\n",
       "    </tr>\n",
       "    <tr>\n",
       "      <th>2</th>\n",
       "      <td>99.0</td>\n",
       "      <td>300.0</td>\n",
       "      <td>1</td>\n",
       "      <td>0</td>\n",
       "      <td>0</td>\n",
       "      <td>0</td>\n",
       "      <td>1</td>\n",
       "      <td>1</td>\n",
       "    </tr>\n",
       "    <tr>\n",
       "      <th>3</th>\n",
       "      <td>129.0</td>\n",
       "      <td>380.0</td>\n",
       "      <td>0</td>\n",
       "      <td>0</td>\n",
       "      <td>1</td>\n",
       "      <td>0</td>\n",
       "      <td>0</td>\n",
       "      <td>0</td>\n",
       "    </tr>\n",
       "    <tr>\n",
       "      <th>4</th>\n",
       "      <td>79.0</td>\n",
       "      <td>410.0</td>\n",
       "      <td>1</td>\n",
       "      <td>0</td>\n",
       "      <td>0</td>\n",
       "      <td>1</td>\n",
       "      <td>0</td>\n",
       "      <td>1</td>\n",
       "    </tr>\n",
       "  </tbody>\n",
       "</table>\n",
       "</div>"
      ],
      "text/plain": [
       "   price  weight  size_M  size_XL  color_green  color_red  gender_male  \\\n",
       "0  199.0   500.0       0        1            0          1            0   \n",
       "1   89.0   450.0       0        0            1          0            1   \n",
       "2   99.0   300.0       1        0            0          0            1   \n",
       "3  129.0   380.0       0        0            1          0            0   \n",
       "4   79.0   410.0       1        0            0          1            0   \n",
       "\n",
       "   bought_yes  \n",
       "0           1  \n",
       "1           0  \n",
       "2           1  \n",
       "3           0  \n",
       "4           1  "
      ]
     },
     "execution_count": 13,
     "metadata": {},
     "output_type": "execute_result"
    }
   ],
   "source": [
    "pd.get_dummies(df, drop_first=True, dtype='int')"
   ]
  },
  {
   "cell_type": "markdown",
   "metadata": {
    "id": "cU_DTl0HYppt"
   },
   "source": [
    "Wykorzystując bibliotekę _pandas_ oraz funkcję _get_dummies()_ przedstaw **zmienną _size_** obiektu _df_ w postaci kodowania 0-1. Użyj parametru _drop_first=True_. Nie przypisuj zmian na trwałe do obiektu _df_."
   ]
  },
  {
   "cell_type": "code",
   "execution_count": 15,
   "metadata": {
    "colab": {
     "base_uri": "https://localhost:8080/",
     "height": 203
    },
    "id": "kZzErJE4YjCB",
    "outputId": "1f5aca8a-4606-4d0c-aec1-c0d1f4ba985c"
   },
   "outputs": [
    {
     "data": {
      "text/html": [
       "<div>\n",
       "<style scoped>\n",
       "    .dataframe tbody tr th:only-of-type {\n",
       "        vertical-align: middle;\n",
       "    }\n",
       "\n",
       "    .dataframe tbody tr th {\n",
       "        vertical-align: top;\n",
       "    }\n",
       "\n",
       "    .dataframe thead th {\n",
       "        text-align: right;\n",
       "    }\n",
       "</style>\n",
       "<table border=\"1\" class=\"dataframe\">\n",
       "  <thead>\n",
       "    <tr style=\"text-align: right;\">\n",
       "      <th></th>\n",
       "      <th>color</th>\n",
       "      <th>gender</th>\n",
       "      <th>price</th>\n",
       "      <th>weight</th>\n",
       "      <th>bought</th>\n",
       "      <th>size_M</th>\n",
       "      <th>size_XL</th>\n",
       "    </tr>\n",
       "  </thead>\n",
       "  <tbody>\n",
       "    <tr>\n",
       "      <th>0</th>\n",
       "      <td>red</td>\n",
       "      <td>female</td>\n",
       "      <td>199.0</td>\n",
       "      <td>500.0</td>\n",
       "      <td>yes</td>\n",
       "      <td>0</td>\n",
       "      <td>1</td>\n",
       "    </tr>\n",
       "    <tr>\n",
       "      <th>1</th>\n",
       "      <td>green</td>\n",
       "      <td>male</td>\n",
       "      <td>89.0</td>\n",
       "      <td>450.0</td>\n",
       "      <td>no</td>\n",
       "      <td>0</td>\n",
       "      <td>0</td>\n",
       "    </tr>\n",
       "    <tr>\n",
       "      <th>2</th>\n",
       "      <td>blue</td>\n",
       "      <td>male</td>\n",
       "      <td>99.0</td>\n",
       "      <td>300.0</td>\n",
       "      <td>yes</td>\n",
       "      <td>1</td>\n",
       "      <td>0</td>\n",
       "    </tr>\n",
       "    <tr>\n",
       "      <th>3</th>\n",
       "      <td>green</td>\n",
       "      <td>female</td>\n",
       "      <td>129.0</td>\n",
       "      <td>380.0</td>\n",
       "      <td>no</td>\n",
       "      <td>0</td>\n",
       "      <td>0</td>\n",
       "    </tr>\n",
       "    <tr>\n",
       "      <th>4</th>\n",
       "      <td>red</td>\n",
       "      <td>female</td>\n",
       "      <td>79.0</td>\n",
       "      <td>410.0</td>\n",
       "      <td>yes</td>\n",
       "      <td>1</td>\n",
       "      <td>0</td>\n",
       "    </tr>\n",
       "  </tbody>\n",
       "</table>\n",
       "</div>"
      ],
      "text/plain": [
       "   color  gender  price  weight bought  size_M  size_XL\n",
       "0    red  female  199.0   500.0    yes       0        1\n",
       "1  green    male   89.0   450.0     no       0        0\n",
       "2   blue    male   99.0   300.0    yes       1        0\n",
       "3  green  female  129.0   380.0     no       0        0\n",
       "4    red  female   79.0   410.0    yes       1        0"
      ]
     },
     "execution_count": 15,
     "metadata": {},
     "output_type": "execute_result"
    }
   ],
   "source": [
    "pd.get_dummies(df, columns=['size'], drop_first=True, dtype='int')"
   ]
  },
  {
   "cell_type": "markdown",
   "metadata": {
    "id": "o3HKIKlP15Ro"
   },
   "source": [
    "### <a name='5'></a> Ćwiczenie 195\n",
    "Wykorzystując bibliotekę do uczenia maszynowego _scikit-learn_ oraz klasę _StandardScaler_ dokonaj skalowania zmiennej _weight_. Nie przypisuj zmian do obiektu _df_."
   ]
  },
  {
   "cell_type": "code",
   "execution_count": 18,
   "metadata": {},
   "outputs": [],
   "source": [
    "#!pip install --upgrade scikit-learn"
   ]
  },
  {
   "cell_type": "code",
   "execution_count": 23,
   "metadata": {},
   "outputs": [
    {
     "data": {
      "text/html": [
       "<div>\n",
       "<style scoped>\n",
       "    .dataframe tbody tr th:only-of-type {\n",
       "        vertical-align: middle;\n",
       "    }\n",
       "\n",
       "    .dataframe tbody tr th {\n",
       "        vertical-align: top;\n",
       "    }\n",
       "\n",
       "    .dataframe thead th {\n",
       "        text-align: right;\n",
       "    }\n",
       "</style>\n",
       "<table border=\"1\" class=\"dataframe\">\n",
       "  <thead>\n",
       "    <tr style=\"text-align: right;\">\n",
       "      <th></th>\n",
       "      <th>size</th>\n",
       "      <th>color</th>\n",
       "      <th>gender</th>\n",
       "      <th>price</th>\n",
       "      <th>weight</th>\n",
       "      <th>bought</th>\n",
       "    </tr>\n",
       "  </thead>\n",
       "  <tbody>\n",
       "    <tr>\n",
       "      <th>0</th>\n",
       "      <td>XL</td>\n",
       "      <td>red</td>\n",
       "      <td>female</td>\n",
       "      <td>199.0</td>\n",
       "      <td>500.0</td>\n",
       "      <td>yes</td>\n",
       "    </tr>\n",
       "    <tr>\n",
       "      <th>1</th>\n",
       "      <td>L</td>\n",
       "      <td>green</td>\n",
       "      <td>male</td>\n",
       "      <td>89.0</td>\n",
       "      <td>450.0</td>\n",
       "      <td>no</td>\n",
       "    </tr>\n",
       "    <tr>\n",
       "      <th>2</th>\n",
       "      <td>M</td>\n",
       "      <td>blue</td>\n",
       "      <td>male</td>\n",
       "      <td>99.0</td>\n",
       "      <td>300.0</td>\n",
       "      <td>yes</td>\n",
       "    </tr>\n",
       "    <tr>\n",
       "      <th>3</th>\n",
       "      <td>L</td>\n",
       "      <td>green</td>\n",
       "      <td>female</td>\n",
       "      <td>129.0</td>\n",
       "      <td>380.0</td>\n",
       "      <td>no</td>\n",
       "    </tr>\n",
       "    <tr>\n",
       "      <th>4</th>\n",
       "      <td>M</td>\n",
       "      <td>red</td>\n",
       "      <td>female</td>\n",
       "      <td>79.0</td>\n",
       "      <td>410.0</td>\n",
       "      <td>yes</td>\n",
       "    </tr>\n",
       "  </tbody>\n",
       "</table>\n",
       "</div>"
      ],
      "text/plain": [
       "  size  color  gender  price  weight bought\n",
       "0   XL    red  female  199.0   500.0    yes\n",
       "1    L  green    male   89.0   450.0     no\n",
       "2    M   blue    male   99.0   300.0    yes\n",
       "3    L  green  female  129.0   380.0     no\n",
       "4    M    red  female   79.0   410.0    yes"
      ]
     },
     "execution_count": 23,
     "metadata": {},
     "output_type": "execute_result"
    }
   ],
   "source": [
    "df"
   ]
  },
  {
   "cell_type": "code",
   "execution_count": 22,
   "metadata": {
    "colab": {
     "base_uri": "https://localhost:8080/",
     "height": 103
    },
    "id": "T_cwg7ytaQ7L",
    "outputId": "b8b898c9-4e07-404f-c564-b51df228a993"
   },
   "outputs": [
    {
     "data": {
      "text/plain": [
       "array([[ 1.3660019 ],\n",
       "       [ 0.62360956],\n",
       "       [-1.60356745],\n",
       "       [-0.41573971],\n",
       "       [ 0.02969569]])"
      ]
     },
     "execution_count": 22,
     "metadata": {},
     "output_type": "execute_result"
    }
   ],
   "source": [
    "from sklearn.preprocessing import StandardScaler\n",
    "\n",
    "scaler = StandardScaler()\n",
    "scaler.fit_transform(df[['weight']])"
   ]
  },
  {
   "cell_type": "markdown",
   "metadata": {},
   "source": [
    "Standaryzacja jest ważnym krokiem w preprocessingu danych, szczególnie dla algorytmów uczących się maszynowo, które są czułe na skalę danych, takich jak regresja liniowa, SVM, czy k-najbliższych sąsiadów (k-NN). Standaryzacja zapewnia, że każda cecha ma tę samą skalę, co często prowadzi do lepszej wydajności modeli.\n",
    "\n",
    "Standaryzacja cech (feature scaling) to technika przetwarzania danych stosowana w celu normalizacji wartości cech w zbiorze danych. Polega na przekształceniu cech tak, aby miały one podobną skalę, co jest szczególnie ważne w przypadku algorytmów uczenia maszynowego, które są wrażliwe na różnice w skali danych. Dwa najpopularniejsze rodzaje skalowania to standaryzacja i normalizacja.\n",
    "\n",
    "### Standaryzacja\n",
    "\n",
    "Standaryzacja cech polega na przekształceniu danych tak, aby miały średnią 0 i odchylenie standardowe 1. Wzór na standaryzację jest następujący:\n",
    "\n",
    "\\[ z = \\frac{x - \\mu}{\\sigma} \\]\n",
    "\n",
    "gdzie:\n",
    "- \\( x \\) jest wartością cechy,\n",
    "- \\( \\mu \\) jest średnią wartością cechy,\n",
    "- \\( \\sigma \\) jest odchyleniem standardowym cechy.\n",
    "\n",
    "#### Przykład\n",
    "\n",
    "Jeśli mamy zbiór danych z cechą `height` o średniej wartości 170 cm i odchyleniu standardowym 10 cm, to wartość 180 cm po standaryzacji wyniesie:\n",
    "\n",
    "\\[ z = \\frac{180 - 170}{10} = 1 \\]\n",
    "\n",
    "### Normalizacja\n",
    "\n",
    "Normalizacja cech polega na przekształceniu danych tak, aby wartości mieściły się w określonym przedziale, zwykle od 0 do 1. Wzór na normalizację (min-max scaling) jest następujący:\n",
    "\n",
    "\\[ x' = \\frac{x - \\min(x)}{\\max(x) - \\min(x)} \\]\n",
    "\n",
    "gdzie:\n",
    "- \\( x \\) jest wartością cechy,\n",
    "- \\( \\min(x) \\) jest minimalną wartością cechy,\n",
    "- \\( \\max(x) \\) jest maksymalną wartością cechy.\n",
    "\n",
    "#### Przykład\n",
    "\n",
    "Jeśli mamy zbiór danych z cechą `height` z minimalną wartością 150 cm i maksymalną wartością 190 cm, to wartość 180 cm po normalizacji wyniesie:\n",
    "\n",
    "\\[ x' = \\frac{180 - 150}{190 - 150} = \\frac{30}{40} = 0.75 \\]\n",
    "\n",
    "### Dlaczego standaryzacja cech jest ważna?\n",
    "\n",
    "1. **Ujednolicenie skali**: Wiele algorytmów uczenia maszynowego, takich jak k-najbliżsi sąsiedzi (k-NN), regresja liniowa, SVM, czy sieci neuronowe, działa lepiej, gdy cechy mają podobną skalę.\n",
    "   \n",
    "2. **Szybsza zbieżność**: Algorytmy optymalizacji, takie jak gradienty zstępujące, mogą szybciej osiągnąć zbieżność, gdy cechy są znormalizowane.\n",
    "\n",
    "3. **Poprawa wydajności modeli**: Modele uczące się maszynowo mogą osiągać lepszą wydajność, gdy cechy są skalowane, ponieważ różnice w skali mogą prowadzić do niewłaściwych wag cech.\n",
    "\n",
    "### Implementacja w Pythonie\n",
    "\n",
    "Standaryzacja cech w Pythonie może być łatwo wykonana przy użyciu biblioteki `scikit-learn`:\n",
    "\n",
    "```python\n",
    "from sklearn.preprocessing import StandardScaler\n",
    "import numpy as np\n",
    "\n",
    "# Przykładowe dane\n",
    "data = np.array([[1, 2, 3], \n",
    "                 [4, 5, 6], \n",
    "                 [7, 8, 9]])\n",
    "\n",
    "# Tworzenie obiektu StandardScaler\n",
    "scaler = StandardScaler()\n",
    "\n",
    "# Dopasowanie i transformacja danych\n",
    "scaled_data = scaler.fit_transform(data)\n",
    "\n",
    "print(\"Przeskalowane dane:\\n\", scaled_data)\n",
    "```\n",
    "\n",
    "Wynik powyższego kodu to znormalizowane dane, gdzie każda cecha ma średnią 0 i odchylenie standardowe 1.\n",
    "\n",
    "Podsumowując, standaryzacja cech jest kluczowym krokiem w przetwarzaniu danych, który pomaga w poprawie wydajności i dokładności modeli uczenia maszynowego."
   ]
  },
  {
   "cell_type": "markdown",
   "metadata": {},
   "source": [
    "W standaryzacji (standardization) cechy są przekształcane tak, aby miały średnią 0 i odchylenie standardowe 1. Maksymalne przedziały w standaryzacji nie są wyliczane w sposób bezpośredni, ponieważ standaryzacja skupia się na przekształceniu danych w taki sposób, że wartości przekształcone rozkładają się wokół średniej 0 z jednostkowym odchyleniem standardowym.\n",
    "\n",
    "Jednak aby zrozumieć, jakie wartości może przyjmować cecha po standaryzacji, możemy przyjrzeć się wartościom skrajnym w oryginalnym zbiorze danych oraz sposobowi ich przekształcenia:\n",
    "\n",
    "### Kroki standaryzacji\n",
    "\n",
    "1. **Obliczenie średniej (\\(\\mu\\))**: Średnia wszystkich wartości danej cechy.\n",
    "2. **Obliczenie odchylenia standardowego (\\(\\sigma\\))**: Miara rozproszenia wartości cechy wokół średniej.\n",
    "3. **Przekształcenie wartości (\\(z\\))**: Każda wartość \\(x\\) jest przekształcana przy użyciu wzoru:\n",
    "\n",
    "\\[ z = \\frac{x - \\mu}{\\sigma} \\]\n",
    "\n",
    "### Interpretacja przekształconych wartości\n",
    "\n",
    "Po standaryzacji wartości przekształcone (\\(z\\)) będą rozkładać się wokół 0 z jednostkowym odchyleniem standardowym. Wartości teoretycznie mogą przyjmować dowolne wartości w zależności od rozkładu oryginalnych danych, ale w praktyce dla większości danych rozkład normalny obejmuje wartości w przedziale \\([-3, 3]\\) około 99.7% przypadków (zgodnie z regułą trzech sigm).\n",
    "\n",
    "### Przykład\n",
    "\n",
    "Rozważmy prosty przykład:\n",
    "\n",
    "Oryginalne dane:\n",
    "\\[ \\text{data} = [1, 2, 3, 4, 5] \\]\n",
    "\n",
    "1. **Obliczenie średniej (\\(\\mu\\))**:\n",
    "\\[ \\mu = \\frac{1 + 2 + 3 + 4 + 5}{5} = 3 \\]\n",
    "\n",
    "2. **Obliczenie odchylenia standardowego (\\(\\sigma\\))**:\n",
    "\\[ \\sigma = \\sqrt{\\frac{(1-3)^2 + (2-3)^2 + (3-3)^2 + (4-3)^2 + (5-3)^2}{5}} = \\sqrt{\\frac{4 + 1 + 0 + 1 + 4}{5}} = \\sqrt{2} \\approx 1.414 \\]\n",
    "\n",
    "3. **Standaryzacja wartości**:\n",
    "\\[ z = \\frac{x - \\mu}{\\sigma} \\]\n",
    "\n",
    "Przekształcone wartości:\n",
    "\\[ z = \\left[ \\frac{1-3}{1.414}, \\frac{2-3}{1.414}, \\frac{3-3}{1.414}, \\frac{4-3}{1.414}, \\frac{5-3}{1.414} \\right] = [-1.414, -0.707, 0, 0.707, 1.414] \\]\n",
    "\n",
    "### Maksymalne przedziały\n",
    "\n",
    "W przypadku powyższego przykładu, maksymalne wartości po standaryzacji to około \\(\\pm1.414\\). W rzeczywistości, maksymalne wartości po standaryzacji będą zależeć od rozkładu danych i mogą przyjmować szerszy zakres dla bardziej zróżnicowanych danych.\n",
    "\n",
    "### Podsumowanie\n",
    "\n",
    "- **Standaryzacja** przekształca cechy tak, aby miały średnią 0 i odchylenie standardowe 1.\n",
    "- **Przekształcone wartości** mogą teoretycznie przyjmować szeroki zakres wartości, ale w praktyce dla większości danych będą mieścić się w przedziale \\([-3, 3]\\).\n",
    "- **Maksymalne przedziały** po standaryzacji są zależne od rozkładu oryginalnych danych i nie są wyliczane bezpośrednio, ale wynikają z przekształcenia danych względem ich średniej i odchylenia standardowego."
   ]
  },
  {
   "cell_type": "markdown",
   "metadata": {
    "id": "PunXd_Ey16so"
   },
   "source": [
    "### <a name='6'></a> Ćwiczenie 196\n",
    "Wczytaj raz jeszcze słownik _data_ do obiektu _DataFrame_ o nazwie _df_."
   ]
  },
  {
   "cell_type": "code",
   "execution_count": 6,
   "metadata": {
    "colab": {
     "base_uri": "https://localhost:8080/",
     "height": 203
    },
    "id": "kC_liXB6Zsqk",
    "outputId": "133b0657-6d79-4e33-b75e-e067ebde3681"
   },
   "outputs": [
    {
     "data": {
      "text/html": [
       "<div>\n",
       "<style scoped>\n",
       "    .dataframe tbody tr th:only-of-type {\n",
       "        vertical-align: middle;\n",
       "    }\n",
       "\n",
       "    .dataframe tbody tr th {\n",
       "        vertical-align: top;\n",
       "    }\n",
       "\n",
       "    .dataframe thead th {\n",
       "        text-align: right;\n",
       "    }\n",
       "</style>\n",
       "<table border=\"1\" class=\"dataframe\">\n",
       "  <thead>\n",
       "    <tr style=\"text-align: right;\">\n",
       "      <th></th>\n",
       "      <th>size</th>\n",
       "      <th>color</th>\n",
       "      <th>gender</th>\n",
       "      <th>price</th>\n",
       "      <th>weight</th>\n",
       "      <th>bought</th>\n",
       "    </tr>\n",
       "  </thead>\n",
       "  <tbody>\n",
       "    <tr>\n",
       "      <th>0</th>\n",
       "      <td>XL</td>\n",
       "      <td>red</td>\n",
       "      <td>female</td>\n",
       "      <td>199.0</td>\n",
       "      <td>500</td>\n",
       "      <td>yes</td>\n",
       "    </tr>\n",
       "    <tr>\n",
       "      <th>1</th>\n",
       "      <td>L</td>\n",
       "      <td>green</td>\n",
       "      <td>male</td>\n",
       "      <td>89.0</td>\n",
       "      <td>450</td>\n",
       "      <td>no</td>\n",
       "    </tr>\n",
       "    <tr>\n",
       "      <th>2</th>\n",
       "      <td>M</td>\n",
       "      <td>blue</td>\n",
       "      <td>male</td>\n",
       "      <td>99.0</td>\n",
       "      <td>300</td>\n",
       "      <td>yes</td>\n",
       "    </tr>\n",
       "    <tr>\n",
       "      <th>3</th>\n",
       "      <td>L</td>\n",
       "      <td>green</td>\n",
       "      <td>female</td>\n",
       "      <td>129.0</td>\n",
       "      <td>380</td>\n",
       "      <td>no</td>\n",
       "    </tr>\n",
       "    <tr>\n",
       "      <th>4</th>\n",
       "      <td>M</td>\n",
       "      <td>red</td>\n",
       "      <td>female</td>\n",
       "      <td>79.0</td>\n",
       "      <td>410</td>\n",
       "      <td>yes</td>\n",
       "    </tr>\n",
       "  </tbody>\n",
       "</table>\n",
       "</div>"
      ],
      "text/plain": [
       "  size  color  gender  price  weight bought\n",
       "0   XL    red  female  199.0     500    yes\n",
       "1    L  green    male   89.0     450     no\n",
       "2    M   blue    male   99.0     300    yes\n",
       "3    L  green  female  129.0     380     no\n",
       "4    M    red  female   79.0     410    yes"
      ]
     },
     "execution_count": 6,
     "metadata": {},
     "output_type": "execute_result"
    }
   ],
   "source": [
    "df = pd.DataFrame(data)\n",
    "df"
   ]
  },
  {
   "cell_type": "markdown",
   "metadata": {
    "id": "ydogC3Imaqq6"
   },
   "source": [
    "Przygotuj dane do modelu uczenia maszynowego:\n",
    "* wykorzystując klasę LabelEncoder dokonaj kodowania 0-1 zmiennej _bought_\n",
    "* dokonaj standaryzacji zmiennych _weight_ oraz _price_\n",
    "* dokonaj kodowania 0-1 posoztałych zmiennych kategorycznych wykorzystując funkcję _get_dummies()._\n",
    "\n",
    "Przypisz zmiany do zmiennej _df_prep_."
   ]
  },
  {
   "cell_type": "code",
   "execution_count": 8,
   "metadata": {},
   "outputs": [],
   "source": [
    "from sklearn.preprocessing import LabelEncoder\n",
    "from sklearn.preprocessing import StandardScaler"
   ]
  },
  {
   "cell_type": "code",
   "execution_count": 9,
   "metadata": {
    "colab": {
     "base_uri": "https://localhost:8080/",
     "height": 203
    },
    "id": "-wVXNrn6a1O-",
    "outputId": "effdc06d-2151-4d96-e379-4ca45d616638"
   },
   "outputs": [
    {
     "data": {
      "text/html": [
       "<div>\n",
       "<style scoped>\n",
       "    .dataframe tbody tr th:only-of-type {\n",
       "        vertical-align: middle;\n",
       "    }\n",
       "\n",
       "    .dataframe tbody tr th {\n",
       "        vertical-align: top;\n",
       "    }\n",
       "\n",
       "    .dataframe thead th {\n",
       "        text-align: right;\n",
       "    }\n",
       "</style>\n",
       "<table border=\"1\" class=\"dataframe\">\n",
       "  <thead>\n",
       "    <tr style=\"text-align: right;\">\n",
       "      <th></th>\n",
       "      <th>price</th>\n",
       "      <th>weight</th>\n",
       "      <th>bought</th>\n",
       "      <th>size_M</th>\n",
       "      <th>size_XL</th>\n",
       "      <th>color_green</th>\n",
       "      <th>color_red</th>\n",
       "      <th>gender_male</th>\n",
       "    </tr>\n",
       "  </thead>\n",
       "  <tbody>\n",
       "    <tr>\n",
       "      <th>0</th>\n",
       "      <td>1.845062</td>\n",
       "      <td>1.366002</td>\n",
       "      <td>1</td>\n",
       "      <td>0</td>\n",
       "      <td>1</td>\n",
       "      <td>0</td>\n",
       "      <td>1</td>\n",
       "      <td>0</td>\n",
       "    </tr>\n",
       "    <tr>\n",
       "      <th>1</th>\n",
       "      <td>-0.691898</td>\n",
       "      <td>0.623610</td>\n",
       "      <td>0</td>\n",
       "      <td>0</td>\n",
       "      <td>0</td>\n",
       "      <td>1</td>\n",
       "      <td>0</td>\n",
       "      <td>1</td>\n",
       "    </tr>\n",
       "    <tr>\n",
       "      <th>2</th>\n",
       "      <td>-0.461266</td>\n",
       "      <td>-1.603567</td>\n",
       "      <td>1</td>\n",
       "      <td>1</td>\n",
       "      <td>0</td>\n",
       "      <td>0</td>\n",
       "      <td>0</td>\n",
       "      <td>1</td>\n",
       "    </tr>\n",
       "    <tr>\n",
       "      <th>3</th>\n",
       "      <td>0.230633</td>\n",
       "      <td>-0.415740</td>\n",
       "      <td>0</td>\n",
       "      <td>0</td>\n",
       "      <td>0</td>\n",
       "      <td>1</td>\n",
       "      <td>0</td>\n",
       "      <td>0</td>\n",
       "    </tr>\n",
       "    <tr>\n",
       "      <th>4</th>\n",
       "      <td>-0.922531</td>\n",
       "      <td>0.029696</td>\n",
       "      <td>1</td>\n",
       "      <td>1</td>\n",
       "      <td>0</td>\n",
       "      <td>0</td>\n",
       "      <td>1</td>\n",
       "      <td>0</td>\n",
       "    </tr>\n",
       "  </tbody>\n",
       "</table>\n",
       "</div>"
      ],
      "text/plain": [
       "      price    weight  bought  size_M  size_XL  color_green  color_red  \\\n",
       "0  1.845062  1.366002       1       0        1            0          1   \n",
       "1 -0.691898  0.623610       0       0        0            1          0   \n",
       "2 -0.461266 -1.603567       1       1        0            0          0   \n",
       "3  0.230633 -0.415740       0       0        0            1          0   \n",
       "4 -0.922531  0.029696       1       1        0            0          1   \n",
       "\n",
       "   gender_male  \n",
       "0            0  \n",
       "1            1  \n",
       "2            1  \n",
       "3            0  \n",
       "4            0  "
      ]
     },
     "execution_count": 9,
     "metadata": {},
     "output_type": "execute_result"
    }
   ],
   "source": [
    "df_prep = df.copy()\n",
    "\n",
    "encoder = LabelEncoder()\n",
    "df_prep['bought'] = encoder.fit_transform(df_prep['bought'])\n",
    "\n",
    "scaler = StandardScaler()\n",
    "df_prep[['price', 'weight']] = scaler.fit_transform(df_prep[['price', 'weight']])\n",
    "\n",
    "df_prep = pd.get_dummies(df_prep, drop_first=True, dtype=int)\n",
    "df_prep"
   ]
  },
  {
   "cell_type": "markdown",
   "metadata": {
    "id": "hOhqDRz618Tx"
   },
   "source": [
    "### <a name='7'></a> Ćwiczenie 197\n",
    "Skopiuj obiekt _df_prep_ do zmiennej _data_. Następnie wyrwij z tego obiektu kolumnę _bought_ i przypisz do zmiennej _target_.\n"
   ]
  },
  {
   "cell_type": "code",
   "execution_count": 10,
   "metadata": {
    "id": "cWffJERlcHrq"
   },
   "outputs": [],
   "source": [
    "data = df_prep.copy()\n",
    "target = data.pop('bought')"
   ]
  },
  {
   "cell_type": "markdown",
   "metadata": {
    "id": "BO_8Cz9DcNx3"
   },
   "source": [
    "Wyświetl 5 pierwszych wierszy obiektu _data_. Upewnij się, że nie ma w nim kolumny _bought_."
   ]
  },
  {
   "cell_type": "code",
   "execution_count": 11,
   "metadata": {
    "colab": {
     "base_uri": "https://localhost:8080/",
     "height": 203
    },
    "id": "HBR128WFcPkd",
    "outputId": "9110bc03-3e78-477c-d50a-13cc073ae2fa"
   },
   "outputs": [
    {
     "data": {
      "text/html": [
       "<div>\n",
       "<style scoped>\n",
       "    .dataframe tbody tr th:only-of-type {\n",
       "        vertical-align: middle;\n",
       "    }\n",
       "\n",
       "    .dataframe tbody tr th {\n",
       "        vertical-align: top;\n",
       "    }\n",
       "\n",
       "    .dataframe thead th {\n",
       "        text-align: right;\n",
       "    }\n",
       "</style>\n",
       "<table border=\"1\" class=\"dataframe\">\n",
       "  <thead>\n",
       "    <tr style=\"text-align: right;\">\n",
       "      <th></th>\n",
       "      <th>price</th>\n",
       "      <th>weight</th>\n",
       "      <th>size_M</th>\n",
       "      <th>size_XL</th>\n",
       "      <th>color_green</th>\n",
       "      <th>color_red</th>\n",
       "      <th>gender_male</th>\n",
       "    </tr>\n",
       "  </thead>\n",
       "  <tbody>\n",
       "    <tr>\n",
       "      <th>0</th>\n",
       "      <td>1.845062</td>\n",
       "      <td>1.366002</td>\n",
       "      <td>0</td>\n",
       "      <td>1</td>\n",
       "      <td>0</td>\n",
       "      <td>1</td>\n",
       "      <td>0</td>\n",
       "    </tr>\n",
       "    <tr>\n",
       "      <th>1</th>\n",
       "      <td>-0.691898</td>\n",
       "      <td>0.623610</td>\n",
       "      <td>0</td>\n",
       "      <td>0</td>\n",
       "      <td>1</td>\n",
       "      <td>0</td>\n",
       "      <td>1</td>\n",
       "    </tr>\n",
       "    <tr>\n",
       "      <th>2</th>\n",
       "      <td>-0.461266</td>\n",
       "      <td>-1.603567</td>\n",
       "      <td>1</td>\n",
       "      <td>0</td>\n",
       "      <td>0</td>\n",
       "      <td>0</td>\n",
       "      <td>1</td>\n",
       "    </tr>\n",
       "    <tr>\n",
       "      <th>3</th>\n",
       "      <td>0.230633</td>\n",
       "      <td>-0.415740</td>\n",
       "      <td>0</td>\n",
       "      <td>0</td>\n",
       "      <td>1</td>\n",
       "      <td>0</td>\n",
       "      <td>0</td>\n",
       "    </tr>\n",
       "    <tr>\n",
       "      <th>4</th>\n",
       "      <td>-0.922531</td>\n",
       "      <td>0.029696</td>\n",
       "      <td>1</td>\n",
       "      <td>0</td>\n",
       "      <td>0</td>\n",
       "      <td>1</td>\n",
       "      <td>0</td>\n",
       "    </tr>\n",
       "  </tbody>\n",
       "</table>\n",
       "</div>"
      ],
      "text/plain": [
       "      price    weight  size_M  size_XL  color_green  color_red  gender_male\n",
       "0  1.845062  1.366002       0        1            0          1            0\n",
       "1 -0.691898  0.623610       0        0            1          0            1\n",
       "2 -0.461266 -1.603567       1        0            0          0            1\n",
       "3  0.230633 -0.415740       0        0            1          0            0\n",
       "4 -0.922531  0.029696       1        0            0          1            0"
      ]
     },
     "execution_count": 11,
     "metadata": {},
     "output_type": "execute_result"
    }
   ],
   "source": [
    "data.head()"
   ]
  },
  {
   "cell_type": "markdown",
   "metadata": {
    "id": "yeqnIoPucSG8"
   },
   "source": [
    "Wyświetl 5 pierwszych wierszy obiektu _target_."
   ]
  },
  {
   "cell_type": "code",
   "execution_count": 12,
   "metadata": {
    "colab": {
     "base_uri": "https://localhost:8080/",
     "height": 120
    },
    "id": "P7ikDAjrcSrR",
    "outputId": "c2f17dfc-b0f8-49b2-aa1c-7bb9681fff6c"
   },
   "outputs": [
    {
     "data": {
      "text/plain": [
       "0    1\n",
       "1    0\n",
       "2    1\n",
       "3    0\n",
       "4    1\n",
       "Name: bought, dtype: int32"
      ]
     },
     "execution_count": 12,
     "metadata": {},
     "output_type": "execute_result"
    }
   ],
   "source": [
    "target.head()"
   ]
  },
  {
   "cell_type": "markdown",
   "metadata": {
    "id": "TXUd_4631-gw"
   },
   "source": [
    "### <a name='8'></a> Ćwiczenie 198\n",
    "Wykorzystując bibliotekę _scikit-learn_ oraz funkcję _train_test_split_ podziel dane z obiektów _data_ i _target_ na zbiór treningowy (_X\\_train_, _y\\_train_) oraz zbiór testowy (_X\\_test_, _y\\_test_). Do zbioru testowego przydziel 20% próbek.\n",
    "\n",
    "Wyświetl rozmiar obiektów:\n",
    "* _X\\_train_\n",
    "* _X\\_test_\n",
    "* _y\\_train_\n",
    "* _y\\_test_"
   ]
  },
  {
   "cell_type": "code",
   "execution_count": 14,
   "metadata": {
    "colab": {
     "base_uri": "https://localhost:8080/",
     "height": 86
    },
    "id": "Qy4TamiecWwd",
    "outputId": "3177d65b-ae23-4307-efdd-059300d70b99"
   },
   "outputs": [
    {
     "name": "stdout",
     "output_type": "stream",
     "text": [
      "X_trian shape: (4, 7)\n",
      "X_test shape: (1, 7)\n",
      "y_trian shape: (4,)\n",
      "y_test shape: (1,)\n"
     ]
    }
   ],
   "source": [
    "from sklearn.model_selection import train_test_split\n",
    "\n",
    "X_train, X_test, y_train, y_test = train_test_split(data, target, test_size=0.2)\n",
    "\n",
    "print(f'X_trian shape: {X_train.shape}')\n",
    "print(f'X_test shape: {X_test.shape}')\n",
    "print(f'y_trian shape: {y_train.shape}')\n",
    "print(f'y_test shape: {y_test.shape}')"
   ]
  },
  {
   "cell_type": "markdown",
   "metadata": {
    "id": "tgI6xEn-2AQo"
   },
   "source": [
    "### <a name='9'></a> Ćwiczenie 199\n",
    "Połącz obiekty _X\\_train_ oraz _X\\_test_ w jeden obiekt _DataFrame_ o nazwie _X_."
   ]
  },
  {
   "cell_type": "code",
   "execution_count": 18,
   "metadata": {
    "colab": {
     "base_uri": "https://localhost:8080/",
     "height": 203
    },
    "id": "WhwF14FEczqX",
    "outputId": "b3d7c3a0-c625-4e9b-b388-a94029d89cfc"
   },
   "outputs": [
    {
     "data": {
      "text/html": [
       "<div>\n",
       "<style scoped>\n",
       "    .dataframe tbody tr th:only-of-type {\n",
       "        vertical-align: middle;\n",
       "    }\n",
       "\n",
       "    .dataframe tbody tr th {\n",
       "        vertical-align: top;\n",
       "    }\n",
       "\n",
       "    .dataframe thead th {\n",
       "        text-align: right;\n",
       "    }\n",
       "</style>\n",
       "<table border=\"1\" class=\"dataframe\">\n",
       "  <thead>\n",
       "    <tr style=\"text-align: right;\">\n",
       "      <th></th>\n",
       "      <th>price</th>\n",
       "      <th>weight</th>\n",
       "      <th>size_M</th>\n",
       "      <th>size_XL</th>\n",
       "      <th>color_green</th>\n",
       "      <th>color_red</th>\n",
       "      <th>gender_male</th>\n",
       "    </tr>\n",
       "  </thead>\n",
       "  <tbody>\n",
       "    <tr>\n",
       "      <th>0</th>\n",
       "      <td>1.845062</td>\n",
       "      <td>1.366002</td>\n",
       "      <td>0</td>\n",
       "      <td>1</td>\n",
       "      <td>0</td>\n",
       "      <td>1</td>\n",
       "      <td>0</td>\n",
       "    </tr>\n",
       "    <tr>\n",
       "      <th>3</th>\n",
       "      <td>0.230633</td>\n",
       "      <td>-0.415740</td>\n",
       "      <td>0</td>\n",
       "      <td>0</td>\n",
       "      <td>1</td>\n",
       "      <td>0</td>\n",
       "      <td>0</td>\n",
       "    </tr>\n",
       "    <tr>\n",
       "      <th>1</th>\n",
       "      <td>-0.691898</td>\n",
       "      <td>0.623610</td>\n",
       "      <td>0</td>\n",
       "      <td>0</td>\n",
       "      <td>1</td>\n",
       "      <td>0</td>\n",
       "      <td>1</td>\n",
       "    </tr>\n",
       "    <tr>\n",
       "      <th>2</th>\n",
       "      <td>-0.461266</td>\n",
       "      <td>-1.603567</td>\n",
       "      <td>1</td>\n",
       "      <td>0</td>\n",
       "      <td>0</td>\n",
       "      <td>0</td>\n",
       "      <td>1</td>\n",
       "    </tr>\n",
       "    <tr>\n",
       "      <th>4</th>\n",
       "      <td>-0.922531</td>\n",
       "      <td>0.029696</td>\n",
       "      <td>1</td>\n",
       "      <td>0</td>\n",
       "      <td>0</td>\n",
       "      <td>1</td>\n",
       "      <td>0</td>\n",
       "    </tr>\n",
       "  </tbody>\n",
       "</table>\n",
       "</div>"
      ],
      "text/plain": [
       "      price    weight  size_M  size_XL  color_green  color_red  gender_male\n",
       "0  1.845062  1.366002       0        1            0          1            0\n",
       "3  0.230633 -0.415740       0        0            1          0            0\n",
       "1 -0.691898  0.623610       0        0            1          0            1\n",
       "2 -0.461266 -1.603567       1        0            0          0            1\n",
       "4 -0.922531  0.029696       1        0            0          1            0"
      ]
     },
     "execution_count": 18,
     "metadata": {},
     "output_type": "execute_result"
    }
   ],
   "source": [
    "X = pd.concat([X_train, X_test])\n",
    "X"
   ]
  },
  {
   "cell_type": "markdown",
   "metadata": {
    "id": "wxhpf-uq2B1I"
   },
   "source": [
    "### <a name='10'></a> Ćwiczenie 200\n",
    "Połącz obiekty _y\\_train_ oraz _y\\_test_ w jeden obiekt _DataFrame_ o nazwie _y_."
   ]
  },
  {
   "cell_type": "code",
   "execution_count": 19,
   "metadata": {
    "colab": {
     "base_uri": "https://localhost:8080/",
     "height": 120
    },
    "id": "AUSgDmoOdMYa",
    "outputId": "e4db2950-d74d-4ebe-d207-2941da27b358"
   },
   "outputs": [
    {
     "data": {
      "text/plain": [
       "0    1\n",
       "3    0\n",
       "1    0\n",
       "2    1\n",
       "4    1\n",
       "Name: bought, dtype: int32"
      ]
     },
     "execution_count": 19,
     "metadata": {},
     "output_type": "execute_result"
    }
   ],
   "source": [
    "y = pd.concat([y_train, y_test])\n",
    "y"
   ]
  },
  {
   "cell_type": "markdown",
   "metadata": {
    "id": "kloW-YmadUcE"
   },
   "source": [
    "Połącz obiekty _X_ oraz _y_ w jeden obiekt _DataFrame_."
   ]
  },
  {
   "cell_type": "code",
   "execution_count": 20,
   "metadata": {
    "colab": {
     "base_uri": "https://localhost:8080/",
     "height": 203
    },
    "id": "69B3K7NCdRwn",
    "outputId": "ea22bc22-9c8a-4d3d-eb0a-f6c96e725736"
   },
   "outputs": [
    {
     "data": {
      "text/html": [
       "<div>\n",
       "<style scoped>\n",
       "    .dataframe tbody tr th:only-of-type {\n",
       "        vertical-align: middle;\n",
       "    }\n",
       "\n",
       "    .dataframe tbody tr th {\n",
       "        vertical-align: top;\n",
       "    }\n",
       "\n",
       "    .dataframe thead th {\n",
       "        text-align: right;\n",
       "    }\n",
       "</style>\n",
       "<table border=\"1\" class=\"dataframe\">\n",
       "  <thead>\n",
       "    <tr style=\"text-align: right;\">\n",
       "      <th></th>\n",
       "      <th>price</th>\n",
       "      <th>weight</th>\n",
       "      <th>size_M</th>\n",
       "      <th>size_XL</th>\n",
       "      <th>color_green</th>\n",
       "      <th>color_red</th>\n",
       "      <th>gender_male</th>\n",
       "      <th>bought</th>\n",
       "    </tr>\n",
       "  </thead>\n",
       "  <tbody>\n",
       "    <tr>\n",
       "      <th>0</th>\n",
       "      <td>1.845062</td>\n",
       "      <td>1.366002</td>\n",
       "      <td>0</td>\n",
       "      <td>1</td>\n",
       "      <td>0</td>\n",
       "      <td>1</td>\n",
       "      <td>0</td>\n",
       "      <td>1</td>\n",
       "    </tr>\n",
       "    <tr>\n",
       "      <th>3</th>\n",
       "      <td>0.230633</td>\n",
       "      <td>-0.415740</td>\n",
       "      <td>0</td>\n",
       "      <td>0</td>\n",
       "      <td>1</td>\n",
       "      <td>0</td>\n",
       "      <td>0</td>\n",
       "      <td>0</td>\n",
       "    </tr>\n",
       "    <tr>\n",
       "      <th>1</th>\n",
       "      <td>-0.691898</td>\n",
       "      <td>0.623610</td>\n",
       "      <td>0</td>\n",
       "      <td>0</td>\n",
       "      <td>1</td>\n",
       "      <td>0</td>\n",
       "      <td>1</td>\n",
       "      <td>0</td>\n",
       "    </tr>\n",
       "    <tr>\n",
       "      <th>2</th>\n",
       "      <td>-0.461266</td>\n",
       "      <td>-1.603567</td>\n",
       "      <td>1</td>\n",
       "      <td>0</td>\n",
       "      <td>0</td>\n",
       "      <td>0</td>\n",
       "      <td>1</td>\n",
       "      <td>1</td>\n",
       "    </tr>\n",
       "    <tr>\n",
       "      <th>4</th>\n",
       "      <td>-0.922531</td>\n",
       "      <td>0.029696</td>\n",
       "      <td>1</td>\n",
       "      <td>0</td>\n",
       "      <td>0</td>\n",
       "      <td>1</td>\n",
       "      <td>0</td>\n",
       "      <td>1</td>\n",
       "    </tr>\n",
       "  </tbody>\n",
       "</table>\n",
       "</div>"
      ],
      "text/plain": [
       "      price    weight  size_M  size_XL  color_green  color_red  gender_male  \\\n",
       "0  1.845062  1.366002       0        1            0          1            0   \n",
       "3  0.230633 -0.415740       0        0            1          0            0   \n",
       "1 -0.691898  0.623610       0        0            1          0            1   \n",
       "2 -0.461266 -1.603567       1        0            0          0            1   \n",
       "4 -0.922531  0.029696       1        0            0          1            0   \n",
       "\n",
       "   bought  \n",
       "0       1  \n",
       "3       0  \n",
       "1       0  \n",
       "2       1  \n",
       "4       1  "
      ]
     },
     "execution_count": 20,
     "metadata": {},
     "output_type": "execute_result"
    }
   ],
   "source": [
    "pd.concat([X, y], axis=1)"
   ]
  }
 ],
 "metadata": {
  "colab": {
   "provenance": []
  },
  "kernelspec": {
   "display_name": "Python 3 (ipykernel)",
   "language": "python",
   "name": "python3"
  },
  "language_info": {
   "codemirror_mode": {
    "name": "ipython",
    "version": 3
   },
   "file_extension": ".py",
   "mimetype": "text/x-python",
   "name": "python",
   "nbconvert_exporter": "python",
   "pygments_lexer": "ipython3",
   "version": "3.9.13"
  }
 },
 "nbformat": 4,
 "nbformat_minor": 1
}
