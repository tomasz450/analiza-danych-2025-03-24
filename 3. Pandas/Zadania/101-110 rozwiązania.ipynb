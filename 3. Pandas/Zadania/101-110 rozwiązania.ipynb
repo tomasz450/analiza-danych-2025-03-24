{
 "cells": [
  {
   "cell_type": "markdown",
   "metadata": {
    "id": "zeLOLmTj1kBM"
   },
   "source": [
    "### <a name='0'></a>Import biblioteki"
   ]
  },
  {
   "cell_type": "code",
   "execution_count": 1,
   "metadata": {
    "colab": {
     "base_uri": "https://localhost:8080/",
     "height": 34
    },
    "id": "HXMB7SMe1Wnz",
    "outputId": "60d2f586-6b1a-485c-947c-be504bced8db"
   },
   "outputs": [
    {
     "data": {
      "text/plain": [
       "'2.1.0'"
      ]
     },
     "execution_count": 1,
     "metadata": {},
     "output_type": "execute_result"
    }
   ],
   "source": [
    "import numpy as np\n",
    "import pandas as pd\n",
    "\n",
    "pd.__version__"
   ]
  },
  {
   "cell_type": "markdown",
   "metadata": {
    "id": "cyc70pMe1oCg"
   },
   "source": [
    "### <a name='1'></a> Ćwiczenie 101\n",
    "Z podanej poniżej listy:\n",
    "\n",
    "\n",
    "```\n",
    "stocks = ['PLW', 'CDR', '11B', 'TEN']\n",
    "```\n",
    "Utwórz obiekt typu Series.\n",
    "\n",
    "__Oczekiwany wynik:__\n",
    "\n",
    "\n",
    "```\n",
    "0    PLW\n",
    "1    CDR\n",
    "2    11B\n",
    "3    TEN\n",
    "dtype: object\n",
    "```\n",
    "\n",
    "\n",
    "\n"
   ]
  },
  {
   "cell_type": "code",
   "execution_count": 2,
   "metadata": {
    "colab": {
     "base_uri": "https://localhost:8080/",
     "height": 102
    },
    "id": "GDGFmMI9BJ_D",
    "outputId": "a435474e-e7f8-4e99-dd07-24c977ebb03a"
   },
   "outputs": [
    {
     "data": {
      "text/plain": [
       "0    PLW\n",
       "1    CDR\n",
       "2    11B\n",
       "3    TEN\n",
       "dtype: object"
      ]
     },
     "execution_count": 2,
     "metadata": {},
     "output_type": "execute_result"
    }
   ],
   "source": [
    "stocks = ['PLW', 'CDR', '11B', 'TEN']\n",
    "pd.Series(data=stocks)"
   ]
  },
  {
   "cell_type": "markdown",
   "metadata": {
    "id": "J9pY1rtr1sC0"
   },
   "source": [
    "### <a name='2'></a> Ćwiczenie 102\n",
    "Z podanego poniżej słownika:\n",
    "\n",
    "\n",
    "```\n",
    "stocks = {'PLW': 387.00, 'CDR': 339.5, 'TEN': 349.5, '11B': 391.0}\n",
    "```\n",
    "Utwórz obiekt typu Series i przypisz do zmiennej _quotations_.\n",
    "\n",
    "__Oczekiwany wynik:__\n",
    "\n",
    "\n",
    "```\n",
    "PLW    387.0\n",
    "CDR    339.5\n",
    "TEN    349.5\n",
    "11B    391.0\n",
    "dtype: float64\n",
    "```\n",
    "\n",
    "\n",
    "\n"
   ]
  },
  {
   "cell_type": "code",
   "execution_count": 3,
   "metadata": {
    "colab": {
     "base_uri": "https://localhost:8080/",
     "height": 102
    },
    "id": "Qxkr7Q_DB79J",
    "outputId": "033df366-5edd-4e6a-a4a5-03b3ccec87c0"
   },
   "outputs": [
    {
     "data": {
      "text/plain": [
       "PLW    387.0\n",
       "CDR    339.5\n",
       "TEN    349.5\n",
       "11B    391.0\n",
       "dtype: float64"
      ]
     },
     "execution_count": 3,
     "metadata": {},
     "output_type": "execute_result"
    }
   ],
   "source": [
    "stocks = {'PLW': 387.00, 'CDR': 339.5, 'TEN': 349.5, '11B': 391.0}\n",
    "quotations = pd.Series(data=stocks)\n",
    "quotations"
   ]
  },
  {
   "cell_type": "markdown",
   "metadata": {
    "id": "XQLYT2m11wVG"
   },
   "source": [
    "### <a name='3'></a> Ćwiczenie 103\n",
    "Przekształć obiekt _quotations_ do listy.\n",
    "\n",
    "__Oczekiwany wynik:__\n",
    "\n",
    "\n",
    "```\n",
    "[387.0, 339.5, 349.5, 391.0]\n",
    "```\n",
    "\n"
   ]
  },
  {
   "cell_type": "code",
   "execution_count": 4,
   "metadata": {
    "colab": {
     "base_uri": "https://localhost:8080/",
     "height": 34
    },
    "id": "d0GEZKMGCgKt",
    "outputId": "65b3870b-d1f9-4176-b95a-f436713d304d"
   },
   "outputs": [
    {
     "data": {
      "text/plain": [
       "[387.0, 339.5, 349.5, 391.0]"
      ]
     },
     "execution_count": 4,
     "metadata": {},
     "output_type": "execute_result"
    }
   ],
   "source": [
    "quotations.tolist()"
   ]
  },
  {
   "cell_type": "markdown",
   "metadata": {
    "id": "JQtZ-hYaGp7h"
   },
   "source": [
    "Przekształć obiekt _quotations_ do tablicy _numpy_."
   ]
  },
  {
   "cell_type": "code",
   "execution_count": 5,
   "metadata": {
    "colab": {
     "base_uri": "https://localhost:8080/",
     "height": 34
    },
    "id": "0fMS1VvoGmyG",
    "outputId": "e0828337-2035-4408-cd09-7b1b1a299b27"
   },
   "outputs": [
    {
     "data": {
      "text/plain": [
       "array([387. , 339.5, 349.5, 391. ])"
      ]
     },
     "execution_count": 5,
     "metadata": {},
     "output_type": "execute_result"
    }
   ],
   "source": [
    "quotations.values"
   ]
  },
  {
   "cell_type": "markdown",
   "metadata": {
    "id": "4xTKSUzg10MK"
   },
   "source": [
    "### <a name='4'></a> Ćwiczenie 104\n",
    "Przekształć obiekt _quotations_ do obiektu _DataFrame_. Ustaw nazwę kolumny na _price_."
   ]
  },
  {
   "cell_type": "code",
   "execution_count": 6,
   "metadata": {
    "colab": {
     "base_uri": "https://localhost:8080/",
     "height": 173
    },
    "id": "ygDJC3NmD_M6",
    "outputId": "18d32fa7-411d-437b-ded7-87373b290179"
   },
   "outputs": [
    {
     "data": {
      "text/html": [
       "<div>\n",
       "<style scoped>\n",
       "    .dataframe tbody tr th:only-of-type {\n",
       "        vertical-align: middle;\n",
       "    }\n",
       "\n",
       "    .dataframe tbody tr th {\n",
       "        vertical-align: top;\n",
       "    }\n",
       "\n",
       "    .dataframe thead th {\n",
       "        text-align: right;\n",
       "    }\n",
       "</style>\n",
       "<table border=\"1\" class=\"dataframe\">\n",
       "  <thead>\n",
       "    <tr style=\"text-align: right;\">\n",
       "      <th></th>\n",
       "      <th>price</th>\n",
       "    </tr>\n",
       "  </thead>\n",
       "  <tbody>\n",
       "    <tr>\n",
       "      <th>PLW</th>\n",
       "      <td>387.0</td>\n",
       "    </tr>\n",
       "    <tr>\n",
       "      <th>CDR</th>\n",
       "      <td>339.5</td>\n",
       "    </tr>\n",
       "    <tr>\n",
       "      <th>TEN</th>\n",
       "      <td>349.5</td>\n",
       "    </tr>\n",
       "    <tr>\n",
       "      <th>11B</th>\n",
       "      <td>391.0</td>\n",
       "    </tr>\n",
       "  </tbody>\n",
       "</table>\n",
       "</div>"
      ],
      "text/plain": [
       "     price\n",
       "PLW  387.0\n",
       "CDR  339.5\n",
       "TEN  349.5\n",
       "11B  391.0"
      ]
     },
     "execution_count": 6,
     "metadata": {},
     "output_type": "execute_result"
    }
   ],
   "source": [
    "pd.DataFrame(quotations, columns=['price'])"
   ]
  },
  {
   "cell_type": "markdown",
   "metadata": {
    "id": "o3HKIKlP15Ro"
   },
   "source": [
    "### <a name='5'></a> Ćwiczenie 105\n",
    "Wykorzystując bibliotekę _numpy_ zbuduj poniższy obiekt typu _Series_:\n",
    "\n",
    "\n",
    "```\n",
    "101    10.0\n",
    "102    20.0\n",
    "103    30.0\n",
    "104    40.0\n",
    "105    50.0\n",
    "106    60.0\n",
    "107    70.0\n",
    "108    80.0\n",
    "109    90.0\n",
    "dtype: float64\n",
    "```\n",
    "\n"
   ]
  },
  {
   "cell_type": "code",
   "execution_count": 7,
   "metadata": {
    "colab": {
     "base_uri": "https://localhost:8080/",
     "height": 187
    },
    "id": "78evbbA2ELsX",
    "outputId": "d0148980-b049-412a-ab3f-f758d34a8054"
   },
   "outputs": [
    {
     "data": {
      "text/plain": [
       "101    10.0\n",
       "102    20.0\n",
       "103    30.0\n",
       "104    40.0\n",
       "105    50.0\n",
       "106    60.0\n",
       "107    70.0\n",
       "108    80.0\n",
       "109    90.0\n",
       "dtype: float64"
      ]
     },
     "execution_count": 7,
     "metadata": {},
     "output_type": "execute_result"
    }
   ],
   "source": [
    "pd.Series(data=np.arange(10, 100, 10), index=np.arange(101, 110), dtype='float')"
   ]
  },
  {
   "cell_type": "markdown",
   "metadata": {
    "id": "PunXd_Ey16so"
   },
   "source": [
    "### <a name='6'></a> Ćwiczenie 106\n",
    "Podany jest poniższy obiekt typu _Series_:\n",
    "\n",
    "```\n",
    "series = pd.Series(['001', '002', '003', '004'], list('abcd'))\n",
    "```\n",
    "Skonwertuj typ obiektu _series_ na _int_.\n",
    "\n"
   ]
  },
  {
   "cell_type": "code",
   "execution_count": 8,
   "metadata": {
    "colab": {
     "base_uri": "https://localhost:8080/",
     "height": 102
    },
    "id": "Ve_jsXz7FiPI",
    "outputId": "565b9ee0-b133-4f0f-a4dd-d3fad29a2e72"
   },
   "outputs": [
    {
     "data": {
      "text/plain": [
       "a    1\n",
       "b    2\n",
       "c    3\n",
       "d    4\n",
       "dtype: int64"
      ]
     },
     "execution_count": 8,
     "metadata": {},
     "output_type": "execute_result"
    }
   ],
   "source": [
    "series = pd.Series(['001', '002', '003', '004'], list('abcd'))\n",
    "\n",
    "# Rowiązanie 1\n",
    "pd.to_numeric(series)"
   ]
  },
  {
   "cell_type": "code",
   "execution_count": 9,
   "metadata": {
    "colab": {
     "base_uri": "https://localhost:8080/",
     "height": 102
    },
    "id": "YAhY4v-7Fua-",
    "outputId": "bc0894be-62d1-4812-9dac-09dbe11fc853"
   },
   "outputs": [
    {
     "data": {
      "text/plain": [
       "a    1\n",
       "b    2\n",
       "c    3\n",
       "d    4\n",
       "dtype: int32"
      ]
     },
     "execution_count": 9,
     "metadata": {},
     "output_type": "execute_result"
    }
   ],
   "source": [
    "# Rozwiązanie 2\n",
    "series.astype(int)"
   ]
  },
  {
   "cell_type": "markdown",
   "metadata": {
    "id": "M9Xadb-hGRiD"
   },
   "source": [
    "Skonwertuj typ obiektu _series_ na _float_."
   ]
  },
  {
   "cell_type": "code",
   "execution_count": 10,
   "metadata": {
    "colab": {
     "base_uri": "https://localhost:8080/",
     "height": 102
    },
    "id": "Fa7dEamIGQdr",
    "outputId": "4595ce68-9681-47f2-c01c-daf6e60999e6"
   },
   "outputs": [
    {
     "data": {
      "text/plain": [
       "a    1.0\n",
       "b    2.0\n",
       "c    3.0\n",
       "d    4.0\n",
       "dtype: float64"
      ]
     },
     "execution_count": 10,
     "metadata": {},
     "output_type": "execute_result"
    }
   ],
   "source": [
    "# Rozwiązanie 1\n",
    "series.astype(float)"
   ]
  },
  {
   "cell_type": "markdown",
   "metadata": {
    "id": "hOhqDRz618Tx"
   },
   "source": [
    "### <a name='7'></a> Ćwiczenie 107\n",
    "Do poniższego obiektu _quotations_:\n",
    "\n",
    "```\n",
    "stocks = {'PLW': 387.00, 'CDR': 339.5, 'TEN': 349.5, '11B': 391.0}\n",
    "quotations = pd.Series(data=stocks)\n",
    "```\n",
    "Dodaj dwa elementy:\n",
    "* indeks: BBT, wartość: 25.5\n",
    "* indeks: F51, wartość: 19.2\n",
    "\n",
    "__Oczekiwany wynik:__\n",
    "\n",
    "\n",
    "```\n",
    "PLW    387.0\n",
    "CDR    339.5\n",
    "TEN    349.5\n",
    "11B    391.0\n",
    "BBT     25.5\n",
    "F51     19.2\n",
    "dtype: float64\n",
    "```\n",
    "\n",
    "\n"
   ]
  },
  {
   "cell_type": "code",
   "execution_count": 11,
   "metadata": {
    "colab": {
     "base_uri": "https://localhost:8080/",
     "height": 136
    },
    "id": "ujz9ReTUHGeQ",
    "outputId": "cffc4fab-1fcf-49bb-d1f9-2ba1698ab43f"
   },
   "outputs": [
    {
     "data": {
      "text/plain": [
       "PLW    387.0\n",
       "CDR    339.5\n",
       "TEN    349.5\n",
       "11B    391.0\n",
       "BBT     25.5\n",
       "F51     19.2\n",
       "dtype: float64"
      ]
     },
     "execution_count": 11,
     "metadata": {},
     "output_type": "execute_result"
    }
   ],
   "source": [
    "stocks = {'PLW': 387.00, 'CDR': 339.5, 'TEN': 349.5, '11B': 391.0}\n",
    "quotations = pd.Series(data=stocks)\n",
    "\n",
    "# quotations._append(pd.Series({'BBT': 25.5, 'F51': 19.2})) # to już nie działa\n",
    "# quotations._append(pd.Series({'BBT': 25.5, 'F51': 19.2})) # to działa ale nie jest rekomendowane\n",
    "pd.concat([quotations, pd.Series({'BBT': 25.5, 'F51': 19.2})])\n",
    "\n"
   ]
  },
  {
   "cell_type": "markdown",
   "metadata": {
    "id": "TXUd_4631-gw"
   },
   "source": [
    "### <a name='8'></a> Ćwiczenie 108\n",
    "Obiekt _quotations_ z poprzedniego ćwiczenia przekształć do obiektu typu _DataFrame_. Zresetuj indeks i nadaj nazwy kolumn '_ticker_' oraz _'price'_."
   ]
  },
  {
   "cell_type": "code",
   "execution_count": 12,
   "metadata": {
    "colab": {
     "base_uri": "https://localhost:8080/",
     "height": 235
    },
    "id": "hthuSwq4IX9w",
    "outputId": "3e86eaf7-ffed-4555-b9d7-f65830149f33"
   },
   "outputs": [
    {
     "data": {
      "text/html": [
       "<div>\n",
       "<style scoped>\n",
       "    .dataframe tbody tr th:only-of-type {\n",
       "        vertical-align: middle;\n",
       "    }\n",
       "\n",
       "    .dataframe tbody tr th {\n",
       "        vertical-align: top;\n",
       "    }\n",
       "\n",
       "    .dataframe thead th {\n",
       "        text-align: right;\n",
       "    }\n",
       "</style>\n",
       "<table border=\"1\" class=\"dataframe\">\n",
       "  <thead>\n",
       "    <tr style=\"text-align: right;\">\n",
       "      <th></th>\n",
       "      <th>ticker</th>\n",
       "      <th>price</th>\n",
       "    </tr>\n",
       "  </thead>\n",
       "  <tbody>\n",
       "    <tr>\n",
       "      <th>0</th>\n",
       "      <td>PLW</td>\n",
       "      <td>387.0</td>\n",
       "    </tr>\n",
       "    <tr>\n",
       "      <th>1</th>\n",
       "      <td>CDR</td>\n",
       "      <td>339.5</td>\n",
       "    </tr>\n",
       "    <tr>\n",
       "      <th>2</th>\n",
       "      <td>TEN</td>\n",
       "      <td>349.5</td>\n",
       "    </tr>\n",
       "    <tr>\n",
       "      <th>3</th>\n",
       "      <td>11B</td>\n",
       "      <td>391.0</td>\n",
       "    </tr>\n",
       "  </tbody>\n",
       "</table>\n",
       "</div>"
      ],
      "text/plain": [
       "  ticker  price\n",
       "0    PLW  387.0\n",
       "1    CDR  339.5\n",
       "2    TEN  349.5\n",
       "3    11B  391.0"
      ]
     },
     "execution_count": 12,
     "metadata": {},
     "output_type": "execute_result"
    }
   ],
   "source": [
    "quotations = pd.DataFrame(quotations).reset_index()\n",
    "quotations.columns = ['ticker', 'price']\n",
    "quotations"
   ]
  },
  {
   "cell_type": "markdown",
   "metadata": {
    "id": "tgI6xEn-2AQo"
   },
   "source": [
    "### <a name='9'></a> Ćwiczenie 109\n",
    "Zbuduj poniższy obiekt _DataFrame_ i przypisz do zmiennej _companies_:\n",
    "\n",
    "|    | company   |   price | ticker   |\n",
    "|---:|:----------|--------:|:---------|\n",
    "|  0 | Amazon    |  2375   | AMZN.US  |\n",
    "|  1 | Microsoft |   178.6 | MSFT.US  |\n",
    "|  2 | Facebook  |   179.2 | FB.US    |\n",
    "\n",
    "\n",
    "\n"
   ]
  },
  {
   "cell_type": "code",
   "execution_count": 13,
   "metadata": {
    "colab": {
     "base_uri": "https://localhost:8080/",
     "height": 142
    },
    "id": "PjdpHMVMLRjb",
    "outputId": "927c0fec-1544-4354-c33d-dd6227165295"
   },
   "outputs": [
    {
     "data": {
      "text/html": [
       "<div>\n",
       "<style scoped>\n",
       "    .dataframe tbody tr th:only-of-type {\n",
       "        vertical-align: middle;\n",
       "    }\n",
       "\n",
       "    .dataframe tbody tr th {\n",
       "        vertical-align: top;\n",
       "    }\n",
       "\n",
       "    .dataframe thead th {\n",
       "        text-align: right;\n",
       "    }\n",
       "</style>\n",
       "<table border=\"1\" class=\"dataframe\">\n",
       "  <thead>\n",
       "    <tr style=\"text-align: right;\">\n",
       "      <th></th>\n",
       "      <th>company</th>\n",
       "      <th>price</th>\n",
       "      <th>ticker</th>\n",
       "    </tr>\n",
       "  </thead>\n",
       "  <tbody>\n",
       "    <tr>\n",
       "      <th>0</th>\n",
       "      <td>Amazon</td>\n",
       "      <td>2375.0</td>\n",
       "      <td>AMZN.US</td>\n",
       "    </tr>\n",
       "    <tr>\n",
       "      <th>1</th>\n",
       "      <td>Microsoft</td>\n",
       "      <td>178.6</td>\n",
       "      <td>MSFT.US</td>\n",
       "    </tr>\n",
       "    <tr>\n",
       "      <th>2</th>\n",
       "      <td>Facebook</td>\n",
       "      <td>179.2</td>\n",
       "      <td>FB.US</td>\n",
       "    </tr>\n",
       "  </tbody>\n",
       "</table>\n",
       "</div>"
      ],
      "text/plain": [
       "     company   price   ticker\n",
       "0     Amazon  2375.0  AMZN.US\n",
       "1  Microsoft   178.6  MSFT.US\n",
       "2   Facebook   179.2    FB.US"
      ]
     },
     "execution_count": 13,
     "metadata": {},
     "output_type": "execute_result"
    }
   ],
   "source": [
    "data_dict = {\n",
    "    'company': ['Amazon', 'Microsoft', 'Facebook'],\n",
    "    'price': [2375.00, 178.6, 179.2],\n",
    "    'ticker': ['AMZN.US', 'MSFT.US', 'FB.US']\n",
    "}\n",
    "\n",
    "companies = pd.DataFrame(data=data_dict)\n",
    "companies"
   ]
  },
  {
   "cell_type": "markdown",
   "metadata": {
    "id": "wxhpf-uq2B1I"
   },
   "source": [
    "### <a name='10'></a> Ćwiczenie 110\n",
    "Przekształć pierwszą kolumnę obiektu _companies_ w indeks."
   ]
  },
  {
   "cell_type": "code",
   "execution_count": 14,
   "metadata": {
    "colab": {
     "base_uri": "https://localhost:8080/",
     "height": 173
    },
    "id": "YFc0KW6URsuc",
    "outputId": "7f250473-eb23-4d34-a964-e23e894247ab"
   },
   "outputs": [
    {
     "data": {
      "text/html": [
       "<div>\n",
       "<style scoped>\n",
       "    .dataframe tbody tr th:only-of-type {\n",
       "        vertical-align: middle;\n",
       "    }\n",
       "\n",
       "    .dataframe tbody tr th {\n",
       "        vertical-align: top;\n",
       "    }\n",
       "\n",
       "    .dataframe thead th {\n",
       "        text-align: right;\n",
       "    }\n",
       "</style>\n",
       "<table border=\"1\" class=\"dataframe\">\n",
       "  <thead>\n",
       "    <tr style=\"text-align: right;\">\n",
       "      <th></th>\n",
       "      <th>price</th>\n",
       "      <th>ticker</th>\n",
       "    </tr>\n",
       "    <tr>\n",
       "      <th>company</th>\n",
       "      <th></th>\n",
       "      <th></th>\n",
       "    </tr>\n",
       "  </thead>\n",
       "  <tbody>\n",
       "    <tr>\n",
       "      <th>Amazon</th>\n",
       "      <td>2375.0</td>\n",
       "      <td>AMZN.US</td>\n",
       "    </tr>\n",
       "    <tr>\n",
       "      <th>Microsoft</th>\n",
       "      <td>178.6</td>\n",
       "      <td>MSFT.US</td>\n",
       "    </tr>\n",
       "    <tr>\n",
       "      <th>Facebook</th>\n",
       "      <td>179.2</td>\n",
       "      <td>FB.US</td>\n",
       "    </tr>\n",
       "  </tbody>\n",
       "</table>\n",
       "</div>"
      ],
      "text/plain": [
       "            price   ticker\n",
       "company                   \n",
       "Amazon     2375.0  AMZN.US\n",
       "Microsoft   178.6  MSFT.US\n",
       "Facebook    179.2    FB.US"
      ]
     },
     "execution_count": 14,
     "metadata": {},
     "output_type": "execute_result"
    }
   ],
   "source": [
    "companies = companies.set_index('company')\n",
    "companies"
   ]
  },
  {
   "cell_type": "markdown",
   "metadata": {
    "id": "HqlVvbOFNkOM"
   },
   "source": [
    "Wytnij wiersz dla spółki _Facebook_ z obiektu _companies_."
   ]
  },
  {
   "cell_type": "code",
   "execution_count": 15,
   "metadata": {
    "colab": {
     "base_uri": "https://localhost:8080/",
     "height": 68
    },
    "id": "62A931aoNEDO",
    "outputId": "d5e1b97a-fc9c-4987-c2d0-929d35fb613e"
   },
   "outputs": [
    {
     "data": {
      "text/plain": [
       "price     179.2\n",
       "ticker    FB.US\n",
       "Name: Facebook, dtype: object"
      ]
     },
     "execution_count": 15,
     "metadata": {},
     "output_type": "execute_result"
    }
   ],
   "source": [
    "# Rozwiązanie 1\n",
    "companies.loc['Facebook']"
   ]
  },
  {
   "cell_type": "code",
   "execution_count": 16,
   "metadata": {
    "colab": {
     "base_uri": "https://localhost:8080/",
     "height": 68
    },
    "id": "Ph1K8-JzOJsM",
    "outputId": "1cd196f4-16f6-47a6-844d-5ea252eae0fe"
   },
   "outputs": [
    {
     "data": {
      "text/plain": [
       "price     179.2\n",
       "ticker    FB.US\n",
       "Name: Facebook, dtype: object"
      ]
     },
     "execution_count": 16,
     "metadata": {},
     "output_type": "execute_result"
    }
   ],
   "source": [
    "# Rozwiązanie 2\n",
    "companies.iloc[2]"
   ]
  },
  {
   "cell_type": "markdown",
   "metadata": {
    "id": "mu_Kav5POAO0"
   },
   "source": [
    "Wytnij cenę dla spółki _Microsoft_"
   ]
  },
  {
   "cell_type": "code",
   "execution_count": 17,
   "metadata": {
    "colab": {
     "base_uri": "https://localhost:8080/",
     "height": 34
    },
    "id": "m180ZDfuNjVN",
    "outputId": "9188a940-1707-465e-e1d1-0dd2c0f51d56"
   },
   "outputs": [
    {
     "data": {
      "text/plain": [
       "178.6"
      ]
     },
     "execution_count": 17,
     "metadata": {},
     "output_type": "execute_result"
    }
   ],
   "source": [
    "# Rozwiązanie 1\n",
    "companies.loc['Microsoft', 'price']"
   ]
  },
  {
   "cell_type": "code",
   "execution_count": 18,
   "metadata": {
    "colab": {
     "base_uri": "https://localhost:8080/",
     "height": 34
    },
    "id": "XavGRvXVOIQs",
    "outputId": "43809ec2-7f3c-4ff1-fa4d-5ecf5a0aa687"
   },
   "outputs": [
    {
     "data": {
      "text/plain": [
       "178.6"
      ]
     },
     "execution_count": 18,
     "metadata": {},
     "output_type": "execute_result"
    }
   ],
   "source": [
    "# Rozwiązanie 2\n",
    "companies.iloc[1, 0]"
   ]
  }
 ],
 "metadata": {
  "colab": {
   "provenance": []
  },
  "kernelspec": {
   "display_name": "Python 3 (ipykernel)",
   "language": "python",
   "name": "python3"
  },
  "language_info": {
   "codemirror_mode": {
    "name": "ipython",
    "version": 3
   },
   "file_extension": ".py",
   "mimetype": "text/x-python",
   "name": "python",
   "nbconvert_exporter": "python",
   "pygments_lexer": "ipython3",
   "version": "3.9.20"
  }
 },
 "nbformat": 4,
 "nbformat_minor": 4
}
