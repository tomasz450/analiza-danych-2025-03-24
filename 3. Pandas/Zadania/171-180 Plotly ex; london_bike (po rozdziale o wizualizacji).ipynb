{
 "cells": [
  {
   "cell_type": "markdown",
   "metadata": {
    "id": "zeLOLmTj1kBM"
   },
   "source": [
    "### <a name='0'></a>Import biblioteki"
   ]
  },
  {
   "cell_type": "code",
   "execution_count": null,
   "metadata": {
    "id": "HXMB7SMe1Wnz"
   },
   "outputs": [],
   "source": [
    "import numpy as np\n",
    "import pandas as pd\n",
    "import plotly.express as px\n",
    "\n",
    "np.__version__"
   ]
  },
  {
   "cell_type": "markdown",
   "metadata": {
    "id": "bVkNAstX1DO3"
   },
   "source": [
    "Pobierz plik `london_merged.csv` ze strony: https://www.kaggle.com/datasets/hmavrodiev/london-bike-sharing-dataset"
   ]
  },
  {
   "cell_type": "markdown",
   "metadata": {
    "id": "cyc70pMe1oCg"
   },
   "source": [
    "### <a name='1'></a> Ćwiczenie 171\n",
    "Wczytaj plik _london_merged.csv_ do obiektu DataFrame o nazwie _df_ i wyświetl podstawowe informacje o obiekcie."
   ]
  },
  {
   "cell_type": "code",
   "execution_count": null,
   "metadata": {
    "id": "tSlBQCuSzS8y"
   },
   "outputs": [],
   "source": [
    "# tutaj wpisz rozwiązanie"
   ]
  },
  {
   "cell_type": "markdown",
   "metadata": {
    "id": "MZE1EN-oAYYG"
   },
   "source": [
    "Wyświetl pięć pierwszych wierszy obiektu _df_."
   ]
  },
  {
   "cell_type": "code",
   "execution_count": null,
   "metadata": {
    "id": "XRUxS3JeAcLi"
   },
   "outputs": [],
   "source": [
    "# tutaj wpisz rozwiązanie"
   ]
  },
  {
   "cell_type": "markdown",
   "metadata": {
    "id": "bXjVIcYaAfK-"
   },
   "source": [
    "Wyświetl pięć ostatnich wierszy obiektu _df_."
   ]
  },
  {
   "cell_type": "code",
   "execution_count": null,
   "metadata": {
    "id": "iE6Ug8FxAhCj"
   },
   "outputs": [],
   "source": [
    "# tutaj wpisz rozwiązanie"
   ]
  },
  {
   "cell_type": "markdown",
   "metadata": {
    "id": "J9pY1rtr1sC0"
   },
   "source": [
    "### <a name='2'></a> Ćwiczenie 172\n",
    "Zwróć uwagę, że kolumna _timestamp_ jest typu _object_. Zamień ją na typ _datetime_.\n",
    "\n",
    "__Wskazówka:__ Użyj funkcji _pd.to_datetime()_."
   ]
  },
  {
   "cell_type": "code",
   "execution_count": null,
   "metadata": {
    "id": "k84TrtBcAylM"
   },
   "outputs": [],
   "source": [
    "# tutaj wpisz rozwiązanie"
   ]
  },
  {
   "cell_type": "markdown",
   "metadata": {
    "id": "Lqzjvz37BVUf"
   },
   "source": [
    "Do obiektu _df_ dodaj nową kolumnę o nazwie _hour_ i przypisz godzinę z kolumny _timestamp_. Wyświetl kilka początkowych wierszy obiektu _df_."
   ]
  },
  {
   "cell_type": "code",
   "execution_count": null,
   "metadata": {
    "id": "rXmzfV2KAmPE"
   },
   "outputs": [],
   "source": [
    "# tutaj wpisz rozwiązanie"
   ]
  },
  {
   "cell_type": "markdown",
   "metadata": {
    "id": "XQLYT2m11wVG"
   },
   "source": [
    "### <a name='3'></a> Ćwiczenie 173\n",
    "Do obiektu _df_ dodaj nową kolumnę o nazwie _month_ i przypisz miesiąc z kolumny _timestamp_. Wyświetl kilka początkowych wierszy obiektu _df_."
   ]
  },
  {
   "cell_type": "code",
   "execution_count": null,
   "metadata": {
    "id": "GDn9PvosCHic"
   },
   "outputs": [],
   "source": [
    "# tutaj wpisz rozwiązanie"
   ]
  },
  {
   "cell_type": "markdown",
   "metadata": {
    "id": "0AUbzKOoDVfG"
   },
   "source": [
    "Pogrupuj dane po miesiącu (_month_) oraz policz wartość średnią dla zmiennej _hum_. Wynik przypisz do zmiennej _humidity_by_month_ i zresetuj indeks."
   ]
  },
  {
   "cell_type": "code",
   "execution_count": null,
   "metadata": {
    "id": "ImRzmH8ACO1G"
   },
   "outputs": [],
   "source": [
    "# tutaj wpisz rozwiązanie"
   ]
  },
  {
   "cell_type": "markdown",
   "metadata": {
    "id": "ze_1Saf8D2GY"
   },
   "source": [
    "Wykorzystując bibliotekę _plotly express_ zbuduj wykres liniowy średniej wartości zmiennej _hum_ dla danego miesiąca (wykorzystaj obiekt _humidity_by_month_).\n",
    "\n",
    "__Wskazówka:__ Użyj funkcji _px.line()_."
   ]
  },
  {
   "cell_type": "code",
   "execution_count": null,
   "metadata": {
    "id": "FwemU5n4Cm5j"
   },
   "outputs": [],
   "source": [
    "# tutaj wpisz rozwiązanie"
   ]
  },
  {
   "cell_type": "markdown",
   "metadata": {
    "id": "orkKFeDwEbu9"
   },
   "source": [
    "Zbuduj ten sam wykres tym razem używając ciemnego szablonu biblioteki _plotly express_ (template='plotly_dark')."
   ]
  },
  {
   "cell_type": "code",
   "execution_count": null,
   "metadata": {
    "id": "pZZgo2xFEWVF"
   },
   "outputs": [],
   "source": [
    "# tutaj wpisz rozwiązanie"
   ]
  },
  {
   "cell_type": "markdown",
   "metadata": {
    "id": "_R8CRCROEs6D"
   },
   "source": [
    "Odczytaj dla jakiego miesiąca średnia wartość zmiennej _hum_ jest najmniejsza i dla jakiego największa."
   ]
  },
  {
   "cell_type": "markdown",
   "metadata": {
    "id": "4xTKSUzg10MK"
   },
   "source": [
    "### <a name='4'></a> Ćwiczenie 174\n",
    "Pogrupuj dane na poziomie godziny (_hour_) i następnie wyznacz wartość średnią zmiennej _cnt_. Wynik przypisz do zmiennej _cnt_by_hour_ i zresetuj indeks."
   ]
  },
  {
   "cell_type": "code",
   "execution_count": null,
   "metadata": {
    "id": "TaGSu2b0H-DG"
   },
   "outputs": [],
   "source": [
    "# tutaj wpisz rozwiązanie"
   ]
  },
  {
   "cell_type": "markdown",
   "metadata": {
    "id": "UIgGFLKBIuQB"
   },
   "source": [
    "Wykorzystując bibliotekę _plotly express_ zbuduj wykres liniowy średniej wartości zmiennej _cnt_ w rozbiciu na godziny (wykorzystaj obiekt _cnt_by_hour_)."
   ]
  },
  {
   "cell_type": "code",
   "execution_count": null,
   "metadata": {
    "id": "VCjIwWfMIanY"
   },
   "outputs": [],
   "source": [
    "# tutaj wpisz rozwiązanie"
   ]
  },
  {
   "cell_type": "markdown",
   "metadata": {
    "id": "o3HKIKlP15Ro"
   },
   "source": [
    "### <a name='5'></a> Ćwiczenie 175\n",
    "Pogrupuj dane po zmiennych _is_weekend_ i _hour_ i wyznacz średnią wartość zmiennej _cnt_. Wynik przypisz do zmiennej _cnt_by_weekend_hour_ i zresetuj indeks."
   ]
  },
  {
   "cell_type": "code",
   "execution_count": null,
   "metadata": {
    "id": "zleKdCuMJGPd"
   },
   "outputs": [],
   "source": [
    "# tutaj wpisz rozwiązanie"
   ]
  },
  {
   "cell_type": "markdown",
   "metadata": {
    "id": "FqFYRz9SKO5o"
   },
   "source": [
    "Wykorzystując bibliotekę _plotly express_ zbuduj wykres liniowy średniej wartości zmiennej _cnt_ w rozbiciu na godziny __w dni poza weekendem__ (wykorzystaj obiekt _cnt_by_weekend_hour_). Nadaj tytuł wykresu: 'Poza weekendem'."
   ]
  },
  {
   "cell_type": "code",
   "execution_count": null,
   "metadata": {
    "id": "xp6rCgtxJemt"
   },
   "outputs": [],
   "source": [
    "# tutaj wpisz rozwiązanie"
   ]
  },
  {
   "cell_type": "markdown",
   "metadata": {
    "id": "LzhlXiATKpA3"
   },
   "source": [
    "Wykorzystując bibliotekę _plotly express_ zbuduj wykres liniowy średniej wartości zmiennej _cnt_ w rozbiciu na godziny __w dni weekendowe__ (wykorzystaj obiekt _cnt_by_weekend_hour_). Nadaj tytuł wykresu: 'Weekend'."
   ]
  },
  {
   "cell_type": "code",
   "execution_count": null,
   "metadata": {
    "id": "sQLLnpjWJsY7"
   },
   "outputs": [],
   "source": [
    "# tutaj wpisz rozwiązanie"
   ]
  },
  {
   "cell_type": "markdown",
   "metadata": {
    "id": "i-pAXzofKv8K"
   },
   "source": [
    "Czy są jakieś różnice pomiędzy dniami poza weekendem oraz dniami weekendowymi?"
   ]
  },
  {
   "cell_type": "markdown",
   "metadata": {
    "id": "PunXd_Ey16so"
   },
   "source": [
    "### <a name='6'></a> Ćwiczenie 176\n",
    "Wykorzystując bibliotekę _plotly express_ zbuduj histogram zmiennej _cnt_. Dodaj tytuł wykresu: 'Histogram zmiennej cnt'."
   ]
  },
  {
   "cell_type": "code",
   "execution_count": null,
   "metadata": {
    "id": "jAXdv-DLLTkN"
   },
   "outputs": [],
   "source": [
    "# tutaj wpisz rozwiązanie"
   ]
  },
  {
   "cell_type": "markdown",
   "metadata": {
    "id": "AJkwHwO0MW0l"
   },
   "source": [
    "Do histogramu dodaj także wykres pudełkowy zmiennej.\n",
    "\n",
    "__Wskazówka:__ Użyj parametru _marginal_ funkcji _px.histogram()_."
   ]
  },
  {
   "cell_type": "code",
   "execution_count": null,
   "metadata": {
    "id": "hXFzHHuXMHlI"
   },
   "outputs": [],
   "source": [
    "# tutaj wpisz rozwiązanie"
   ]
  },
  {
   "cell_type": "markdown",
   "metadata": {
    "id": "hOhqDRz618Tx"
   },
   "source": [
    "### <a name='7'></a> Ćwiczenie 177\n",
    "Wytnij wiersze dla których zmienna _wind_speed_ jest mniejsza niż 10.0 i zmienna _hum_ jest większa niż 90.0."
   ]
  },
  {
   "cell_type": "code",
   "execution_count": null,
   "metadata": {
    "id": "e4bc-tnLMnMy"
   },
   "outputs": [],
   "source": [
    "# tutaj wpisz rozwiązanie"
   ]
  },
  {
   "cell_type": "markdown",
   "metadata": {
    "id": "TXUd_4631-gw"
   },
   "source": [
    "### <a name='8'></a> Ćwiczenie 178\n",
    "Wytnij wiersze dla których zmienna _is_weekend_ jest równa 1.0. Następnie skopiuj wynik i przypisz do zmiennej _df_weekend_.\n"
   ]
  },
  {
   "cell_type": "code",
   "execution_count": null,
   "metadata": {
    "id": "E7L9dPlUNd-Q"
   },
   "outputs": [],
   "source": [
    "# tutaj wpisz rozwiązanie"
   ]
  },
  {
   "cell_type": "markdown",
   "metadata": {
    "id": "tgI6xEn-2AQo"
   },
   "source": [
    "### <a name='9'></a> Ćwiczenie 179\n",
    "Zapisz obiekt _df_weekend_ do pliku _weekend.xlsx_. Nadaj nazwę arkusza _london_bike_ oraz pomiń zapisanie indeksu do pliku."
   ]
  },
  {
   "cell_type": "code",
   "execution_count": null,
   "metadata": {
    "id": "L7K-ksSKR0DR"
   },
   "outputs": [],
   "source": [
    "# tutaj wpisz rozwiązanie"
   ]
  },
  {
   "cell_type": "markdown",
   "metadata": {
    "id": "wxhpf-uq2B1I"
   },
   "source": [
    "### <a name='10'></a> Ćwiczenie 180\n",
    "Zapisz 10 pierwszych rekordów obiektu _df_weekend_ do pliku _head10.html_."
   ]
  },
  {
   "cell_type": "code",
   "execution_count": null,
   "metadata": {
    "id": "71XXbvmESrR4"
   },
   "outputs": [],
   "source": [
    "# tutaj wpisz rozwiązanie"
   ]
  }
 ],
 "metadata": {
  "colab": {
   "provenance": []
  },
  "kernelspec": {
   "display_name": "Python 3 (ipykernel)",
   "language": "python",
   "name": "python3"
  },
  "language_info": {
   "codemirror_mode": {
    "name": "ipython",
    "version": 3
   },
   "file_extension": ".py",
   "mimetype": "text/x-python",
   "name": "python",
   "nbconvert_exporter": "python",
   "pygments_lexer": "ipython3",
   "version": "3.9.13"
  }
 },
 "nbformat": 4,
 "nbformat_minor": 1
}
