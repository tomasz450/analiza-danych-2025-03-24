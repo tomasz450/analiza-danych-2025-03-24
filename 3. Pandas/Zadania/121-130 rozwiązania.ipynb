{
 "cells": [
  {
   "cell_type": "markdown",
   "metadata": {
    "id": "zeLOLmTj1kBM"
   },
   "source": [
    "### <a name='0'></a>Import biblioteki"
   ]
  },
  {
   "cell_type": "code",
   "execution_count": 1,
   "metadata": {},
   "outputs": [
    {
     "name": "stdout",
     "output_type": "stream",
     "text": [
      "Requirement already satisfied: pandas_datareader in c:\\users\\tomas\\appdata\\local\\programs\\anaconda3\\lib\\site-packages (0.10.0)\n",
      "Requirement already satisfied: pandas>=0.23 in c:\\users\\tomas\\appdata\\local\\programs\\anaconda3\\lib\\site-packages (from pandas_datareader) (2.1.0)\n",
      "Requirement already satisfied: requests>=2.19.0 in c:\\users\\tomas\\appdata\\local\\programs\\anaconda3\\lib\\site-packages (from pandas_datareader) (2.28.1)\n",
      "Requirement already satisfied: lxml in c:\\users\\tomas\\appdata\\local\\programs\\anaconda3\\lib\\site-packages (from pandas_datareader) (4.9.1)\n",
      "Requirement already satisfied: pytz>=2020.1 in c:\\users\\tomas\\appdata\\local\\programs\\anaconda3\\lib\\site-packages (from pandas>=0.23->pandas_datareader) (2022.1)\n",
      "Requirement already satisfied: tzdata>=2022.1 in c:\\users\\tomas\\appdata\\local\\programs\\anaconda3\\lib\\site-packages (from pandas>=0.23->pandas_datareader) (2024.1)\n",
      "Requirement already satisfied: numpy>=1.22.4 in c:\\users\\tomas\\appdata\\local\\programs\\anaconda3\\lib\\site-packages (from pandas>=0.23->pandas_datareader) (1.24.4)\n",
      "Requirement already satisfied: python-dateutil>=2.8.2 in c:\\users\\tomas\\appdata\\local\\programs\\anaconda3\\lib\\site-packages (from pandas>=0.23->pandas_datareader) (2.8.2)\n",
      "Requirement already satisfied: charset-normalizer<3,>=2 in c:\\users\\tomas\\appdata\\local\\programs\\anaconda3\\lib\\site-packages (from requests>=2.19.0->pandas_datareader) (2.0.4)\n",
      "Requirement already satisfied: urllib3<1.27,>=1.21.1 in c:\\users\\tomas\\appdata\\local\\programs\\anaconda3\\lib\\site-packages (from requests>=2.19.0->pandas_datareader) (1.26.11)\n",
      "Requirement already satisfied: certifi>=2017.4.17 in c:\\users\\tomas\\appdata\\local\\programs\\anaconda3\\lib\\site-packages (from requests>=2.19.0->pandas_datareader) (2022.9.14)\n",
      "Requirement already satisfied: idna<4,>=2.5 in c:\\users\\tomas\\appdata\\local\\programs\\anaconda3\\lib\\site-packages (from requests>=2.19.0->pandas_datareader) (3.3)\n",
      "Requirement already satisfied: six>=1.5 in c:\\users\\tomas\\appdata\\local\\programs\\anaconda3\\lib\\site-packages (from python-dateutil>=2.8.2->pandas>=0.23->pandas_datareader) (1.16.0)\n"
     ]
    }
   ],
   "source": [
    "!pip install pandas_datareader"
   ]
  },
  {
   "cell_type": "code",
   "execution_count": 2,
   "metadata": {
    "colab": {
     "base_uri": "https://localhost:8080/",
     "height": 66
    },
    "id": "HXMB7SMe1Wnz",
    "outputId": "087ea144-1ffc-47eb-c2aa-7153be9f87a6"
   },
   "outputs": [
    {
     "data": {
      "text/plain": [
       "'1.24.4'"
      ]
     },
     "execution_count": 2,
     "metadata": {},
     "output_type": "execute_result"
    }
   ],
   "source": [
    "import numpy as np\n",
    "import pandas as pd\n",
    "import seaborn as sns\n",
    "\n",
    "sns.set()\n",
    "np.__version__"
   ]
  },
  {
   "cell_type": "markdown",
   "metadata": {
    "id": "d1KXPVTVcwTX"
   },
   "source": [
    "Funkcja _fetch_financial_data()_ pobiera dane dotyczące notowań spółek giełdowych. Będzie wykorzystywana w poniższych ćwiczeniach. Aby pobrać dane konkretnej spółki należy przekazać odpowiedni ticker (symbol) spółki.\n",
    "\n",
    "Kilka przykładowych tickerów spółek:\n",
    "* AMZN - Amazon\n",
    "* GOOGL - Google\n",
    "* MSFT - Microsoft\n",
    "* AAPL - Apple\n",
    "* NKE - Nike\n",
    "* WMT - Walmart"
   ]
  },
  {
   "cell_type": "code",
   "execution_count": 3,
   "metadata": {
    "id": "gTRegewub5oK"
   },
   "outputs": [],
   "source": [
    "def fetch_financial_data(company='AMZN'):\n",
    "    \"\"\"\n",
    "    This function fetches stock market quotations.\n",
    "    \"\"\"\n",
    "    import pandas_datareader.data as web\n",
    "    return web.DataReader(name=company, data_source='stooq')"
   ]
  },
  {
   "cell_type": "markdown",
   "metadata": {
    "id": "cyc70pMe1oCg"
   },
   "source": [
    "### <a name='1'></a> Ćwiczenie 121\n",
    "Wykorzystując funkcję _fetch_financial_data()_ pobierz notowania dla spółki Google (Alphabet) i przypisz do zmiennej _google_. Wyświetl obiekt _google_."
   ]
  },
  {
   "cell_type": "code",
   "execution_count": 4,
   "metadata": {
    "colab": {
     "base_uri": "https://localhost:8080/",
     "height": 436
    },
    "id": "LtMEvHZicna7",
    "outputId": "5d909cca-324b-4895-a6b3-de4110f4fe46"
   },
   "outputs": [
    {
     "data": {
      "text/html": [
       "<div>\n",
       "<style scoped>\n",
       "    .dataframe tbody tr th:only-of-type {\n",
       "        vertical-align: middle;\n",
       "    }\n",
       "\n",
       "    .dataframe tbody tr th {\n",
       "        vertical-align: top;\n",
       "    }\n",
       "\n",
       "    .dataframe thead th {\n",
       "        text-align: right;\n",
       "    }\n",
       "</style>\n",
       "<table border=\"1\" class=\"dataframe\">\n",
       "  <thead>\n",
       "    <tr style=\"text-align: right;\">\n",
       "      <th></th>\n",
       "      <th>Open</th>\n",
       "      <th>High</th>\n",
       "      <th>Low</th>\n",
       "      <th>Close</th>\n",
       "      <th>Volume</th>\n",
       "    </tr>\n",
       "    <tr>\n",
       "      <th>Date</th>\n",
       "      <th></th>\n",
       "      <th></th>\n",
       "      <th></th>\n",
       "      <th></th>\n",
       "      <th></th>\n",
       "    </tr>\n",
       "  </thead>\n",
       "  <tbody>\n",
       "    <tr>\n",
       "      <th>2024-05-31</th>\n",
       "      <td>171.8600</td>\n",
       "      <td>173.0600</td>\n",
       "      <td>169.4400</td>\n",
       "      <td>172.5000</td>\n",
       "      <td>37638876</td>\n",
       "    </tr>\n",
       "    <tr>\n",
       "      <th>2024-05-30</th>\n",
       "      <td>175.2000</td>\n",
       "      <td>175.2200</td>\n",
       "      <td>171.7900</td>\n",
       "      <td>172.1100</td>\n",
       "      <td>22958677</td>\n",
       "    </tr>\n",
       "    <tr>\n",
       "      <th>2024-05-29</th>\n",
       "      <td>175.4300</td>\n",
       "      <td>176.8360</td>\n",
       "      <td>174.7200</td>\n",
       "      <td>175.9000</td>\n",
       "      <td>23388693</td>\n",
       "    </tr>\n",
       "    <tr>\n",
       "      <th>2024-05-28</th>\n",
       "      <td>174.4500</td>\n",
       "      <td>177.2700</td>\n",
       "      <td>174.3650</td>\n",
       "      <td>176.4000</td>\n",
       "      <td>20572157</td>\n",
       "    </tr>\n",
       "    <tr>\n",
       "      <th>2024-05-24</th>\n",
       "      <td>174.9800</td>\n",
       "      <td>175.7700</td>\n",
       "      <td>173.6500</td>\n",
       "      <td>174.9900</td>\n",
       "      <td>16579438</td>\n",
       "    </tr>\n",
       "    <tr>\n",
       "      <th>...</th>\n",
       "      <td>...</td>\n",
       "      <td>...</td>\n",
       "      <td>...</td>\n",
       "      <td>...</td>\n",
       "      <td>...</td>\n",
       "    </tr>\n",
       "    <tr>\n",
       "      <th>2019-06-10</th>\n",
       "      <td>53.8500</td>\n",
       "      <td>54.7420</td>\n",
       "      <td>53.7640</td>\n",
       "      <td>54.1380</td>\n",
       "      <td>28509280</td>\n",
       "    </tr>\n",
       "    <tr>\n",
       "      <th>2019-06-07</th>\n",
       "      <td>52.7140</td>\n",
       "      <td>53.6715</td>\n",
       "      <td>52.5575</td>\n",
       "      <td>53.4185</td>\n",
       "      <td>43827140</td>\n",
       "    </tr>\n",
       "    <tr>\n",
       "      <th>2019-06-06</th>\n",
       "      <td>52.3105</td>\n",
       "      <td>52.5000</td>\n",
       "      <td>51.7755</td>\n",
       "      <td>52.3880</td>\n",
       "      <td>29020520</td>\n",
       "    </tr>\n",
       "    <tr>\n",
       "      <th>2019-06-05</th>\n",
       "      <td>52.7500</td>\n",
       "      <td>52.8405</td>\n",
       "      <td>51.6500</td>\n",
       "      <td>52.2320</td>\n",
       "      <td>46988720</td>\n",
       "    </tr>\n",
       "    <tr>\n",
       "      <th>2019-06-04</th>\n",
       "      <td>52.2245</td>\n",
       "      <td>52.9220</td>\n",
       "      <td>51.8015</td>\n",
       "      <td>52.7245</td>\n",
       "      <td>60511280</td>\n",
       "    </tr>\n",
       "  </tbody>\n",
       "</table>\n",
       "<p>1258 rows × 5 columns</p>\n",
       "</div>"
      ],
      "text/plain": [
       "                Open      High       Low     Close    Volume\n",
       "Date                                                        \n",
       "2024-05-31  171.8600  173.0600  169.4400  172.5000  37638876\n",
       "2024-05-30  175.2000  175.2200  171.7900  172.1100  22958677\n",
       "2024-05-29  175.4300  176.8360  174.7200  175.9000  23388693\n",
       "2024-05-28  174.4500  177.2700  174.3650  176.4000  20572157\n",
       "2024-05-24  174.9800  175.7700  173.6500  174.9900  16579438\n",
       "...              ...       ...       ...       ...       ...\n",
       "2019-06-10   53.8500   54.7420   53.7640   54.1380  28509280\n",
       "2019-06-07   52.7140   53.6715   52.5575   53.4185  43827140\n",
       "2019-06-06   52.3105   52.5000   51.7755   52.3880  29020520\n",
       "2019-06-05   52.7500   52.8405   51.6500   52.2320  46988720\n",
       "2019-06-04   52.2245   52.9220   51.8015   52.7245  60511280\n",
       "\n",
       "[1258 rows x 5 columns]"
      ]
     },
     "execution_count": 4,
     "metadata": {},
     "output_type": "execute_result"
    }
   ],
   "source": [
    "google = fetch_financial_data('GOOGL')\n",
    "google"
   ]
  },
  {
   "cell_type": "markdown",
   "metadata": {
    "id": "J9pY1rtr1sC0"
   },
   "source": [
    "### <a name='2'></a> Ćwiczenie 122\n",
    "Wyświetl podstawowe informacje na temat obiektu _google_."
   ]
  },
  {
   "cell_type": "code",
   "execution_count": 5,
   "metadata": {
    "colab": {
     "base_uri": "https://localhost:8080/",
     "height": 216
    },
    "id": "0QE4WiIDeGqy",
    "outputId": "bb9ac632-01e5-4df7-f5db-d4ae1d38ada6"
   },
   "outputs": [
    {
     "name": "stdout",
     "output_type": "stream",
     "text": [
      "<class 'pandas.core.frame.DataFrame'>\n",
      "DatetimeIndex: 1258 entries, 2024-05-31 to 2019-06-04\n",
      "Data columns (total 5 columns):\n",
      " #   Column  Non-Null Count  Dtype  \n",
      "---  ------  --------------  -----  \n",
      " 0   Open    1258 non-null   float64\n",
      " 1   High    1258 non-null   float64\n",
      " 2   Low     1258 non-null   float64\n",
      " 3   Close   1258 non-null   float64\n",
      " 4   Volume  1258 non-null   int64  \n",
      "dtypes: float64(4), int64(1)\n",
      "memory usage: 59.0 KB\n"
     ]
    }
   ],
   "source": [
    "google.info()"
   ]
  },
  {
   "cell_type": "markdown",
   "metadata": {
    "id": "yic8GlyieMAv"
   },
   "source": [
    "Wyświetl podstawowe statystyki o obiekcie _google_."
   ]
  },
  {
   "cell_type": "code",
   "execution_count": 6,
   "metadata": {
    "colab": {
     "base_uri": "https://localhost:8080/",
     "height": 287
    },
    "id": "8CiWPVl0eJ2B",
    "outputId": "699b1b6a-b6aa-4ade-f1be-d99542fe6277"
   },
   "outputs": [
    {
     "data": {
      "text/html": [
       "<div>\n",
       "<style scoped>\n",
       "    .dataframe tbody tr th:only-of-type {\n",
       "        vertical-align: middle;\n",
       "    }\n",
       "\n",
       "    .dataframe tbody tr th {\n",
       "        vertical-align: top;\n",
       "    }\n",
       "\n",
       "    .dataframe thead th {\n",
       "        text-align: right;\n",
       "    }\n",
       "</style>\n",
       "<table border=\"1\" class=\"dataframe\">\n",
       "  <thead>\n",
       "    <tr style=\"text-align: right;\">\n",
       "      <th></th>\n",
       "      <th>Open</th>\n",
       "      <th>High</th>\n",
       "      <th>Low</th>\n",
       "      <th>Close</th>\n",
       "      <th>Volume</th>\n",
       "    </tr>\n",
       "  </thead>\n",
       "  <tbody>\n",
       "    <tr>\n",
       "      <th>count</th>\n",
       "      <td>1258.000000</td>\n",
       "      <td>1258.000000</td>\n",
       "      <td>1258.000000</td>\n",
       "      <td>1258.000000</td>\n",
       "      <td>1.258000e+03</td>\n",
       "    </tr>\n",
       "    <tr>\n",
       "      <th>mean</th>\n",
       "      <td>105.987724</td>\n",
       "      <td>107.203224</td>\n",
       "      <td>104.862167</td>\n",
       "      <td>106.069368</td>\n",
       "      <td>3.336468e+07</td>\n",
       "    </tr>\n",
       "    <tr>\n",
       "      <th>std</th>\n",
       "      <td>30.625534</td>\n",
       "      <td>30.878460</td>\n",
       "      <td>30.349630</td>\n",
       "      <td>30.625048</td>\n",
       "      <td>1.455550e+07</td>\n",
       "    </tr>\n",
       "    <tr>\n",
       "      <th>min</th>\n",
       "      <td>52.224500</td>\n",
       "      <td>52.500000</td>\n",
       "      <td>50.443500</td>\n",
       "      <td>52.232000</td>\n",
       "      <td>9.312760e+06</td>\n",
       "    </tr>\n",
       "    <tr>\n",
       "      <th>25%</th>\n",
       "      <td>75.875875</td>\n",
       "      <td>76.892175</td>\n",
       "      <td>75.290125</td>\n",
       "      <td>75.933875</td>\n",
       "      <td>2.409801e+07</td>\n",
       "    </tr>\n",
       "    <tr>\n",
       "      <th>50%</th>\n",
       "      <td>106.935000</td>\n",
       "      <td>108.509000</td>\n",
       "      <td>105.671000</td>\n",
       "      <td>107.470000</td>\n",
       "      <td>2.973238e+07</td>\n",
       "    </tr>\n",
       "    <tr>\n",
       "      <th>75%</th>\n",
       "      <td>133.380000</td>\n",
       "      <td>134.921500</td>\n",
       "      <td>131.769250</td>\n",
       "      <td>133.350750</td>\n",
       "      <td>3.750356e+07</td>\n",
       "    </tr>\n",
       "    <tr>\n",
       "      <th>max</th>\n",
       "      <td>177.070000</td>\n",
       "      <td>178.770000</td>\n",
       "      <td>176.080000</td>\n",
       "      <td>177.850000</td>\n",
       "      <td>1.231992e+08</td>\n",
       "    </tr>\n",
       "  </tbody>\n",
       "</table>\n",
       "</div>"
      ],
      "text/plain": [
       "              Open         High          Low        Close        Volume\n",
       "count  1258.000000  1258.000000  1258.000000  1258.000000  1.258000e+03\n",
       "mean    105.987724   107.203224   104.862167   106.069368  3.336468e+07\n",
       "std      30.625534    30.878460    30.349630    30.625048  1.455550e+07\n",
       "min      52.224500    52.500000    50.443500    52.232000  9.312760e+06\n",
       "25%      75.875875    76.892175    75.290125    75.933875  2.409801e+07\n",
       "50%     106.935000   108.509000   105.671000   107.470000  2.973238e+07\n",
       "75%     133.380000   134.921500   131.769250   133.350750  3.750356e+07\n",
       "max     177.070000   178.770000   176.080000   177.850000  1.231992e+08"
      ]
     },
     "execution_count": 6,
     "metadata": {},
     "output_type": "execute_result"
    }
   ],
   "source": [
    "google.describe()"
   ]
  },
  {
   "cell_type": "markdown",
   "metadata": {
    "id": "OwKsy3HRf1Z5"
   },
   "source": [
    "Zwróć uwagę na precyzję zapisu poszczególnych statystyk.\n",
    "Spróbuj ustawić odpowiednie opcje biblioteki _pandas_, tak aby wyświetlać dane z dokładnością do dwóch miejsc po przecinku.\n",
    "\n",
    "__Wskazówka:__\n",
    "https://pandas.pydata.org/pandas-docs/stable/user_guide/options.html"
   ]
  },
  {
   "cell_type": "code",
   "execution_count": 7,
   "metadata": {
    "colab": {
     "base_uri": "https://localhost:8080/",
     "height": 287
    },
    "id": "mskz01W_gCy0",
    "outputId": "a1b040f4-ddde-45ce-a385-475ab03870b1"
   },
   "outputs": [
    {
     "data": {
      "text/html": [
       "<div>\n",
       "<style scoped>\n",
       "    .dataframe tbody tr th:only-of-type {\n",
       "        vertical-align: middle;\n",
       "    }\n",
       "\n",
       "    .dataframe tbody tr th {\n",
       "        vertical-align: top;\n",
       "    }\n",
       "\n",
       "    .dataframe thead th {\n",
       "        text-align: right;\n",
       "    }\n",
       "</style>\n",
       "<table border=\"1\" class=\"dataframe\">\n",
       "  <thead>\n",
       "    <tr style=\"text-align: right;\">\n",
       "      <th></th>\n",
       "      <th>Open</th>\n",
       "      <th>High</th>\n",
       "      <th>Low</th>\n",
       "      <th>Close</th>\n",
       "      <th>Volume</th>\n",
       "    </tr>\n",
       "  </thead>\n",
       "  <tbody>\n",
       "    <tr>\n",
       "      <th>count</th>\n",
       "      <td>1258.00</td>\n",
       "      <td>1258.00</td>\n",
       "      <td>1258.00</td>\n",
       "      <td>1258.00</td>\n",
       "      <td>1.26e+03</td>\n",
       "    </tr>\n",
       "    <tr>\n",
       "      <th>mean</th>\n",
       "      <td>105.99</td>\n",
       "      <td>107.20</td>\n",
       "      <td>104.86</td>\n",
       "      <td>106.07</td>\n",
       "      <td>3.34e+07</td>\n",
       "    </tr>\n",
       "    <tr>\n",
       "      <th>std</th>\n",
       "      <td>30.63</td>\n",
       "      <td>30.88</td>\n",
       "      <td>30.35</td>\n",
       "      <td>30.63</td>\n",
       "      <td>1.46e+07</td>\n",
       "    </tr>\n",
       "    <tr>\n",
       "      <th>min</th>\n",
       "      <td>52.22</td>\n",
       "      <td>52.50</td>\n",
       "      <td>50.44</td>\n",
       "      <td>52.23</td>\n",
       "      <td>9.31e+06</td>\n",
       "    </tr>\n",
       "    <tr>\n",
       "      <th>25%</th>\n",
       "      <td>75.88</td>\n",
       "      <td>76.89</td>\n",
       "      <td>75.29</td>\n",
       "      <td>75.93</td>\n",
       "      <td>2.41e+07</td>\n",
       "    </tr>\n",
       "    <tr>\n",
       "      <th>50%</th>\n",
       "      <td>106.94</td>\n",
       "      <td>108.51</td>\n",
       "      <td>105.67</td>\n",
       "      <td>107.47</td>\n",
       "      <td>2.97e+07</td>\n",
       "    </tr>\n",
       "    <tr>\n",
       "      <th>75%</th>\n",
       "      <td>133.38</td>\n",
       "      <td>134.92</td>\n",
       "      <td>131.77</td>\n",
       "      <td>133.35</td>\n",
       "      <td>3.75e+07</td>\n",
       "    </tr>\n",
       "    <tr>\n",
       "      <th>max</th>\n",
       "      <td>177.07</td>\n",
       "      <td>178.77</td>\n",
       "      <td>176.08</td>\n",
       "      <td>177.85</td>\n",
       "      <td>1.23e+08</td>\n",
       "    </tr>\n",
       "  </tbody>\n",
       "</table>\n",
       "</div>"
      ],
      "text/plain": [
       "          Open     High      Low    Close    Volume\n",
       "count  1258.00  1258.00  1258.00  1258.00  1.26e+03\n",
       "mean    105.99   107.20   104.86   106.07  3.34e+07\n",
       "std      30.63    30.88    30.35    30.63  1.46e+07\n",
       "min      52.22    52.50    50.44    52.23  9.31e+06\n",
       "25%      75.88    76.89    75.29    75.93  2.41e+07\n",
       "50%     106.94   108.51   105.67   107.47  2.97e+07\n",
       "75%     133.38   134.92   131.77   133.35  3.75e+07\n",
       "max     177.07   178.77   176.08   177.85  1.23e+08"
      ]
     },
     "execution_count": 7,
     "metadata": {},
     "output_type": "execute_result"
    }
   ],
   "source": [
    "pd.set_option(\"display.precision\", 2)\n",
    "google.describe()"
   ]
  },
  {
   "cell_type": "markdown",
   "metadata": {
    "id": "iEXHrwHwheyo"
   },
   "source": [
    "__Dodatkowo:__\n",
    "Poniższe ustawienie stłumi także notację wykładniczą (patrz kolumna _Volume_)."
   ]
  },
  {
   "cell_type": "code",
   "execution_count": 8,
   "metadata": {
    "colab": {
     "base_uri": "https://localhost:8080/",
     "height": 287
    },
    "id": "qdosioVRhGfC",
    "outputId": "a33753fb-2046-4717-b338-88a7e5e41b72"
   },
   "outputs": [
    {
     "data": {
      "text/html": [
       "<div>\n",
       "<style scoped>\n",
       "    .dataframe tbody tr th:only-of-type {\n",
       "        vertical-align: middle;\n",
       "    }\n",
       "\n",
       "    .dataframe tbody tr th {\n",
       "        vertical-align: top;\n",
       "    }\n",
       "\n",
       "    .dataframe thead th {\n",
       "        text-align: right;\n",
       "    }\n",
       "</style>\n",
       "<table border=\"1\" class=\"dataframe\">\n",
       "  <thead>\n",
       "    <tr style=\"text-align: right;\">\n",
       "      <th></th>\n",
       "      <th>Open</th>\n",
       "      <th>High</th>\n",
       "      <th>Low</th>\n",
       "      <th>Close</th>\n",
       "      <th>Volume</th>\n",
       "    </tr>\n",
       "  </thead>\n",
       "  <tbody>\n",
       "    <tr>\n",
       "      <th>count</th>\n",
       "      <td>1258.00</td>\n",
       "      <td>1258.00</td>\n",
       "      <td>1258.00</td>\n",
       "      <td>1258.00</td>\n",
       "      <td>1258.00</td>\n",
       "    </tr>\n",
       "    <tr>\n",
       "      <th>mean</th>\n",
       "      <td>105.99</td>\n",
       "      <td>107.20</td>\n",
       "      <td>104.86</td>\n",
       "      <td>106.07</td>\n",
       "      <td>33364683.77</td>\n",
       "    </tr>\n",
       "    <tr>\n",
       "      <th>std</th>\n",
       "      <td>30.63</td>\n",
       "      <td>30.88</td>\n",
       "      <td>30.35</td>\n",
       "      <td>30.63</td>\n",
       "      <td>14555500.23</td>\n",
       "    </tr>\n",
       "    <tr>\n",
       "      <th>min</th>\n",
       "      <td>52.22</td>\n",
       "      <td>52.50</td>\n",
       "      <td>50.44</td>\n",
       "      <td>52.23</td>\n",
       "      <td>9312760.00</td>\n",
       "    </tr>\n",
       "    <tr>\n",
       "      <th>25%</th>\n",
       "      <td>75.88</td>\n",
       "      <td>76.89</td>\n",
       "      <td>75.29</td>\n",
       "      <td>75.93</td>\n",
       "      <td>24098006.50</td>\n",
       "    </tr>\n",
       "    <tr>\n",
       "      <th>50%</th>\n",
       "      <td>106.94</td>\n",
       "      <td>108.51</td>\n",
       "      <td>105.67</td>\n",
       "      <td>107.47</td>\n",
       "      <td>29732380.00</td>\n",
       "    </tr>\n",
       "    <tr>\n",
       "      <th>75%</th>\n",
       "      <td>133.38</td>\n",
       "      <td>134.92</td>\n",
       "      <td>131.77</td>\n",
       "      <td>133.35</td>\n",
       "      <td>37503560.00</td>\n",
       "    </tr>\n",
       "    <tr>\n",
       "      <th>max</th>\n",
       "      <td>177.07</td>\n",
       "      <td>178.77</td>\n",
       "      <td>176.08</td>\n",
       "      <td>177.85</td>\n",
       "      <td>123199220.00</td>\n",
       "    </tr>\n",
       "  </tbody>\n",
       "</table>\n",
       "</div>"
      ],
      "text/plain": [
       "         Open    High     Low   Close       Volume\n",
       "count 1258.00 1258.00 1258.00 1258.00      1258.00\n",
       "mean   105.99  107.20  104.86  106.07  33364683.77\n",
       "std     30.63   30.88   30.35   30.63  14555500.23\n",
       "min     52.22   52.50   50.44   52.23   9312760.00\n",
       "25%     75.88   76.89   75.29   75.93  24098006.50\n",
       "50%    106.94  108.51  105.67  107.47  29732380.00\n",
       "75%    133.38  134.92  131.77  133.35  37503560.00\n",
       "max    177.07  178.77  176.08  177.85 123199220.00"
      ]
     },
     "execution_count": 8,
     "metadata": {},
     "output_type": "execute_result"
    }
   ],
   "source": [
    "pd.options.display.float_format = '{:.2f}'.format\n",
    "google.describe()"
   ]
  },
  {
   "cell_type": "markdown",
   "metadata": {
    "id": "p12duQuPlWSU"
   },
   "source": [
    "Zbuduj wykres ceny zamknięcia (_Close_) dla obiektu _google_."
   ]
  },
  {
   "cell_type": "code",
   "execution_count": 9,
   "metadata": {
    "colab": {
     "base_uri": "https://localhost:8080/",
     "height": 292
    },
    "id": "tmpm-uiAlKgv",
    "outputId": "467ade27-1905-4e05-9ae2-8f1f4676f8b9"
   },
   "outputs": [
    {
     "data": {
      "image/png": "[encoded data removed]",
      "text/plain": [
       "<Figure size 640x480 with 1 Axes>"
      ]
     },
     "metadata": {},
     "output_type": "display_data"
    }
   ],
   "source": [
    "google['Close'].plot();"
   ]
  },
  {
   "cell_type": "markdown",
   "metadata": {
    "id": "XQLYT2m11wVG"
   },
   "source": [
    "### <a name='3'></a> Ćwiczenie 123\n",
    "Zamień indeks _Date_ na kolumnę. Przypisz trwale zmiany do zniennej _google_."
   ]
  },
  {
   "cell_type": "code",
   "execution_count": 10,
   "metadata": {
    "colab": {
     "base_uri": "https://localhost:8080/",
     "height": 406
    },
    "id": "Ac1OnxjOh3fa",
    "outputId": "9189f95b-c4d8-40da-b2f4-fcf3ea63b994"
   },
   "outputs": [
    {
     "data": {
      "text/html": [
       "<div>\n",
       "<style scoped>\n",
       "    .dataframe tbody tr th:only-of-type {\n",
       "        vertical-align: middle;\n",
       "    }\n",
       "\n",
       "    .dataframe tbody tr th {\n",
       "        vertical-align: top;\n",
       "    }\n",
       "\n",
       "    .dataframe thead th {\n",
       "        text-align: right;\n",
       "    }\n",
       "</style>\n",
       "<table border=\"1\" class=\"dataframe\">\n",
       "  <thead>\n",
       "    <tr style=\"text-align: right;\">\n",
       "      <th></th>\n",
       "      <th>Date</th>\n",
       "      <th>Open</th>\n",
       "      <th>High</th>\n",
       "      <th>Low</th>\n",
       "      <th>Close</th>\n",
       "      <th>Volume</th>\n",
       "    </tr>\n",
       "  </thead>\n",
       "  <tbody>\n",
       "    <tr>\n",
       "      <th>0</th>\n",
       "      <td>2024-05-31</td>\n",
       "      <td>171.86</td>\n",
       "      <td>173.06</td>\n",
       "      <td>169.44</td>\n",
       "      <td>172.50</td>\n",
       "      <td>37638876</td>\n",
       "    </tr>\n",
       "    <tr>\n",
       "      <th>1</th>\n",
       "      <td>2024-05-30</td>\n",
       "      <td>175.20</td>\n",
       "      <td>175.22</td>\n",
       "      <td>171.79</td>\n",
       "      <td>172.11</td>\n",
       "      <td>22958677</td>\n",
       "    </tr>\n",
       "    <tr>\n",
       "      <th>2</th>\n",
       "      <td>2024-05-29</td>\n",
       "      <td>175.43</td>\n",
       "      <td>176.84</td>\n",
       "      <td>174.72</td>\n",
       "      <td>175.90</td>\n",
       "      <td>23388693</td>\n",
       "    </tr>\n",
       "    <tr>\n",
       "      <th>3</th>\n",
       "      <td>2024-05-28</td>\n",
       "      <td>174.45</td>\n",
       "      <td>177.27</td>\n",
       "      <td>174.37</td>\n",
       "      <td>176.40</td>\n",
       "      <td>20572157</td>\n",
       "    </tr>\n",
       "    <tr>\n",
       "      <th>4</th>\n",
       "      <td>2024-05-24</td>\n",
       "      <td>174.98</td>\n",
       "      <td>175.77</td>\n",
       "      <td>173.65</td>\n",
       "      <td>174.99</td>\n",
       "      <td>16579438</td>\n",
       "    </tr>\n",
       "    <tr>\n",
       "      <th>...</th>\n",
       "      <td>...</td>\n",
       "      <td>...</td>\n",
       "      <td>...</td>\n",
       "      <td>...</td>\n",
       "      <td>...</td>\n",
       "      <td>...</td>\n",
       "    </tr>\n",
       "    <tr>\n",
       "      <th>1253</th>\n",
       "      <td>2019-06-10</td>\n",
       "      <td>53.85</td>\n",
       "      <td>54.74</td>\n",
       "      <td>53.76</td>\n",
       "      <td>54.14</td>\n",
       "      <td>28509280</td>\n",
       "    </tr>\n",
       "    <tr>\n",
       "      <th>1254</th>\n",
       "      <td>2019-06-07</td>\n",
       "      <td>52.71</td>\n",
       "      <td>53.67</td>\n",
       "      <td>52.56</td>\n",
       "      <td>53.42</td>\n",
       "      <td>43827140</td>\n",
       "    </tr>\n",
       "    <tr>\n",
       "      <th>1255</th>\n",
       "      <td>2019-06-06</td>\n",
       "      <td>52.31</td>\n",
       "      <td>52.50</td>\n",
       "      <td>51.78</td>\n",
       "      <td>52.39</td>\n",
       "      <td>29020520</td>\n",
       "    </tr>\n",
       "    <tr>\n",
       "      <th>1256</th>\n",
       "      <td>2019-06-05</td>\n",
       "      <td>52.75</td>\n",
       "      <td>52.84</td>\n",
       "      <td>51.65</td>\n",
       "      <td>52.23</td>\n",
       "      <td>46988720</td>\n",
       "    </tr>\n",
       "    <tr>\n",
       "      <th>1257</th>\n",
       "      <td>2019-06-04</td>\n",
       "      <td>52.22</td>\n",
       "      <td>52.92</td>\n",
       "      <td>51.80</td>\n",
       "      <td>52.72</td>\n",
       "      <td>60511280</td>\n",
       "    </tr>\n",
       "  </tbody>\n",
       "</table>\n",
       "<p>1258 rows × 6 columns</p>\n",
       "</div>"
      ],
      "text/plain": [
       "           Date   Open   High    Low  Close    Volume\n",
       "0    2024-05-31 171.86 173.06 169.44 172.50  37638876\n",
       "1    2024-05-30 175.20 175.22 171.79 172.11  22958677\n",
       "2    2024-05-29 175.43 176.84 174.72 175.90  23388693\n",
       "3    2024-05-28 174.45 177.27 174.37 176.40  20572157\n",
       "4    2024-05-24 174.98 175.77 173.65 174.99  16579438\n",
       "...         ...    ...    ...    ...    ...       ...\n",
       "1253 2019-06-10  53.85  54.74  53.76  54.14  28509280\n",
       "1254 2019-06-07  52.71  53.67  52.56  53.42  43827140\n",
       "1255 2019-06-06  52.31  52.50  51.78  52.39  29020520\n",
       "1256 2019-06-05  52.75  52.84  51.65  52.23  46988720\n",
       "1257 2019-06-04  52.22  52.92  51.80  52.72  60511280\n",
       "\n",
       "[1258 rows x 6 columns]"
      ]
     },
     "execution_count": 10,
     "metadata": {},
     "output_type": "execute_result"
    }
   ],
   "source": [
    "google = google.reset_index()\n",
    "google"
   ]
  },
  {
   "cell_type": "markdown",
   "metadata": {
    "id": "SRfQiXpGiXBc"
   },
   "source": [
    "Przypisz dwie nowe kolumny do obiektu _google_ dodając kolumnę z aktualnym numerem miesiąca o nazwie _'Month'_ oraz z rokiem o nazwie _'Year'_."
   ]
  },
  {
   "cell_type": "code",
   "execution_count": 11,
   "metadata": {
    "colab": {
     "base_uri": "https://localhost:8080/",
     "height": 406
    },
    "id": "S32izk-BiL_q",
    "outputId": "3308394a-5177-457a-be4c-a91d4eb66b02"
   },
   "outputs": [
    {
     "data": {
      "text/html": [
       "<div>\n",
       "<style scoped>\n",
       "    .dataframe tbody tr th:only-of-type {\n",
       "        vertical-align: middle;\n",
       "    }\n",
       "\n",
       "    .dataframe tbody tr th {\n",
       "        vertical-align: top;\n",
       "    }\n",
       "\n",
       "    .dataframe thead th {\n",
       "        text-align: right;\n",
       "    }\n",
       "</style>\n",
       "<table border=\"1\" class=\"dataframe\">\n",
       "  <thead>\n",
       "    <tr style=\"text-align: right;\">\n",
       "      <th></th>\n",
       "      <th>Date</th>\n",
       "      <th>Open</th>\n",
       "      <th>High</th>\n",
       "      <th>Low</th>\n",
       "      <th>Close</th>\n",
       "      <th>Volume</th>\n",
       "      <th>Year</th>\n",
       "      <th>Month</th>\n",
       "    </tr>\n",
       "  </thead>\n",
       "  <tbody>\n",
       "    <tr>\n",
       "      <th>0</th>\n",
       "      <td>2024-05-31</td>\n",
       "      <td>171.86</td>\n",
       "      <td>173.06</td>\n",
       "      <td>169.44</td>\n",
       "      <td>172.50</td>\n",
       "      <td>37638876</td>\n",
       "      <td>2024</td>\n",
       "      <td>5</td>\n",
       "    </tr>\n",
       "    <tr>\n",
       "      <th>1</th>\n",
       "      <td>2024-05-30</td>\n",
       "      <td>175.20</td>\n",
       "      <td>175.22</td>\n",
       "      <td>171.79</td>\n",
       "      <td>172.11</td>\n",
       "      <td>22958677</td>\n",
       "      <td>2024</td>\n",
       "      <td>5</td>\n",
       "    </tr>\n",
       "    <tr>\n",
       "      <th>2</th>\n",
       "      <td>2024-05-29</td>\n",
       "      <td>175.43</td>\n",
       "      <td>176.84</td>\n",
       "      <td>174.72</td>\n",
       "      <td>175.90</td>\n",
       "      <td>23388693</td>\n",
       "      <td>2024</td>\n",
       "      <td>5</td>\n",
       "    </tr>\n",
       "    <tr>\n",
       "      <th>3</th>\n",
       "      <td>2024-05-28</td>\n",
       "      <td>174.45</td>\n",
       "      <td>177.27</td>\n",
       "      <td>174.37</td>\n",
       "      <td>176.40</td>\n",
       "      <td>20572157</td>\n",
       "      <td>2024</td>\n",
       "      <td>5</td>\n",
       "    </tr>\n",
       "    <tr>\n",
       "      <th>4</th>\n",
       "      <td>2024-05-24</td>\n",
       "      <td>174.98</td>\n",
       "      <td>175.77</td>\n",
       "      <td>173.65</td>\n",
       "      <td>174.99</td>\n",
       "      <td>16579438</td>\n",
       "      <td>2024</td>\n",
       "      <td>5</td>\n",
       "    </tr>\n",
       "    <tr>\n",
       "      <th>...</th>\n",
       "      <td>...</td>\n",
       "      <td>...</td>\n",
       "      <td>...</td>\n",
       "      <td>...</td>\n",
       "      <td>...</td>\n",
       "      <td>...</td>\n",
       "      <td>...</td>\n",
       "      <td>...</td>\n",
       "    </tr>\n",
       "    <tr>\n",
       "      <th>1253</th>\n",
       "      <td>2019-06-10</td>\n",
       "      <td>53.85</td>\n",
       "      <td>54.74</td>\n",
       "      <td>53.76</td>\n",
       "      <td>54.14</td>\n",
       "      <td>28509280</td>\n",
       "      <td>2019</td>\n",
       "      <td>6</td>\n",
       "    </tr>\n",
       "    <tr>\n",
       "      <th>1254</th>\n",
       "      <td>2019-06-07</td>\n",
       "      <td>52.71</td>\n",
       "      <td>53.67</td>\n",
       "      <td>52.56</td>\n",
       "      <td>53.42</td>\n",
       "      <td>43827140</td>\n",
       "      <td>2019</td>\n",
       "      <td>6</td>\n",
       "    </tr>\n",
       "    <tr>\n",
       "      <th>1255</th>\n",
       "      <td>2019-06-06</td>\n",
       "      <td>52.31</td>\n",
       "      <td>52.50</td>\n",
       "      <td>51.78</td>\n",
       "      <td>52.39</td>\n",
       "      <td>29020520</td>\n",
       "      <td>2019</td>\n",
       "      <td>6</td>\n",
       "    </tr>\n",
       "    <tr>\n",
       "      <th>1256</th>\n",
       "      <td>2019-06-05</td>\n",
       "      <td>52.75</td>\n",
       "      <td>52.84</td>\n",
       "      <td>51.65</td>\n",
       "      <td>52.23</td>\n",
       "      <td>46988720</td>\n",
       "      <td>2019</td>\n",
       "      <td>6</td>\n",
       "    </tr>\n",
       "    <tr>\n",
       "      <th>1257</th>\n",
       "      <td>2019-06-04</td>\n",
       "      <td>52.22</td>\n",
       "      <td>52.92</td>\n",
       "      <td>51.80</td>\n",
       "      <td>52.72</td>\n",
       "      <td>60511280</td>\n",
       "      <td>2019</td>\n",
       "      <td>6</td>\n",
       "    </tr>\n",
       "  </tbody>\n",
       "</table>\n",
       "<p>1258 rows × 8 columns</p>\n",
       "</div>"
      ],
      "text/plain": [
       "           Date   Open   High    Low  Close    Volume  Year  Month\n",
       "0    2024-05-31 171.86 173.06 169.44 172.50  37638876  2024      5\n",
       "1    2024-05-30 175.20 175.22 171.79 172.11  22958677  2024      5\n",
       "2    2024-05-29 175.43 176.84 174.72 175.90  23388693  2024      5\n",
       "3    2024-05-28 174.45 177.27 174.37 176.40  20572157  2024      5\n",
       "4    2024-05-24 174.98 175.77 173.65 174.99  16579438  2024      5\n",
       "...         ...    ...    ...    ...    ...       ...   ...    ...\n",
       "1253 2019-06-10  53.85  54.74  53.76  54.14  28509280  2019      6\n",
       "1254 2019-06-07  52.71  53.67  52.56  53.42  43827140  2019      6\n",
       "1255 2019-06-06  52.31  52.50  51.78  52.39  29020520  2019      6\n",
       "1256 2019-06-05  52.75  52.84  51.65  52.23  46988720  2019      6\n",
       "1257 2019-06-04  52.22  52.92  51.80  52.72  60511280  2019      6\n",
       "\n",
       "[1258 rows x 8 columns]"
      ]
     },
     "execution_count": 11,
     "metadata": {},
     "output_type": "execute_result"
    }
   ],
   "source": [
    "google['Year'] = google['Date'].dt.year\n",
    "google['Month'] = google['Date'].dt.month\n",
    "google"
   ]
  },
  {
   "cell_type": "markdown",
   "metadata": {
    "id": "4xTKSUzg10MK"
   },
   "source": [
    "### <a name='4'></a> Ćwiczenie 124\n",
    "Policz średnią cenę zamknięcia (_Close_) dla poszczególnego roku (pogrupuj dane po roku - kolumna _Year_ i następnie policz wartość średnią)."
   ]
  },
  {
   "cell_type": "code",
   "execution_count": 12,
   "metadata": {
    "colab": {
     "base_uri": "https://localhost:8080/",
     "height": 150
    },
    "id": "wSFs7z0Qi3Y7",
    "outputId": "f8b14ad2-e736-4e9a-e0ba-7aac313a5b27"
   },
   "outputs": [
    {
     "data": {
      "text/plain": [
       "Year\n",
       "2019    60.88\n",
       "2020    73.95\n",
       "2021   124.22\n",
       "2022   114.76\n",
       "2023   118.79\n",
       "2024   152.08\n",
       "Name: Close, dtype: float64"
      ]
     },
     "execution_count": 12,
     "metadata": {},
     "output_type": "execute_result"
    }
   ],
   "source": [
    "google.groupby('Year')['Close'].mean()"
   ]
  },
  {
   "cell_type": "markdown",
   "metadata": {
    "id": "DSqQjdS4j-wl"
   },
   "source": [
    "Otrzymane wartości przedstaw na wykresie wykorzystując metodę _plot()_."
   ]
  },
  {
   "cell_type": "code",
   "execution_count": 13,
   "metadata": {
    "colab": {
     "base_uri": "https://localhost:8080/",
     "height": 301
    },
    "id": "0nBtvC2tjaTK",
    "outputId": "81fe3179-769a-49aa-c877-47c9c6d2e874"
   },
   "outputs": [
    {
     "data": {
      "image/png": "[encoded data removed]",
      "text/plain": [
       "<Figure size 640x480 with 1 Axes>"
      ]
     },
     "metadata": {},
     "output_type": "display_data"
    }
   ],
   "source": [
    "google.groupby('Year')['Close'].mean().plot();"
   ]
  },
  {
   "cell_type": "markdown",
   "metadata": {
    "id": "RduPz9PDkR2-"
   },
   "source": [
    "Policz średnią cenę zamknięcia (_Close_) dla miesiąca (pogrupuj dane po miesiącu - kolumna _Month_ i następnie policz wartość średnią)."
   ]
  },
  {
   "cell_type": "code",
   "execution_count": 14,
   "metadata": {
    "colab": {
     "base_uri": "https://localhost:8080/",
     "height": 250
    },
    "id": "4Vd83xT_kIsg",
    "outputId": "9dc683b1-8aa1-46ee-fa06-4681ca45beab"
   },
   "outputs": [
    {
     "data": {
      "text/plain": [
       "Month\n",
       "1    107.12\n",
       "2    110.74\n",
       "3    106.91\n",
       "4    113.65\n",
       "5    118.15\n",
       "6     97.17\n",
       "7     98.56\n",
       "8    104.90\n",
       "9    103.20\n",
       "10   101.69\n",
       "11   105.84\n",
       "12   105.62\n",
       "Name: Close, dtype: float64"
      ]
     },
     "execution_count": 14,
     "metadata": {},
     "output_type": "execute_result"
    }
   ],
   "source": [
    "google.groupby('Month')['Close'].mean()"
   ]
  },
  {
   "cell_type": "markdown",
   "metadata": {
    "id": "ytITHhjjkaoO"
   },
   "source": [
    "Otrzymane wartości przedstaw na wykresie wykorzystując metodę _plot()_.\n",
    "Zauważ, które miesiące mogą wskazywać na słabsze okresy na giełdzie."
   ]
  },
  {
   "cell_type": "code",
   "execution_count": 15,
   "metadata": {
    "colab": {
     "base_uri": "https://localhost:8080/",
     "height": 304
    },
    "id": "ob02yPQRkK3E",
    "outputId": "24bce0e3-d73d-4fca-df31-cc4fea554dc4"
   },
   "outputs": [
    {
     "data": {
      "image/png": "[encoded data removed]",
      "text/plain": [
       "<Figure size 640x480 with 1 Axes>"
      ]
     },
     "metadata": {},
     "output_type": "display_data"
    }
   ],
   "source": [
    "google.groupby('Month')['Close'].mean().plot();"
   ]
  },
  {
   "cell_type": "markdown",
   "metadata": {
    "id": "o3HKIKlP15Ro"
   },
   "source": [
    "### <a name='5'></a> Ćwiczenie 125\n",
    "Pogrupuj dane z obiektu _google_ na poziomie roku i miesiąca. Następnie policz wartość średnią."
   ]
  },
  {
   "cell_type": "code",
   "execution_count": 16,
   "metadata": {
    "colab": {
     "base_uri": "https://localhost:8080/",
     "height": 233
    },
    "id": "DptCcOtNkokd",
    "outputId": "8edadc88-a27f-4f5e-e882-1ec33d9fcec8"
   },
   "outputs": [
    {
     "data": {
      "text/plain": [
       "Year  Month\n",
       "2019  6        54.27\n",
       "      7        57.65\n",
       "      8        59.11\n",
       "      9        61.07\n",
       "      10       61.62\n",
       "      11       65.14\n",
       "      12       67.05\n",
       "2020  1        71.81\n",
       "      2        73.14\n",
       "      3        59.26\n",
       "      4        61.51\n",
       "      5        69.07\n",
       "      6        71.58\n",
       "      7        75.77\n",
       "      8        77.25\n",
       "      9        75.58\n",
       "      10       77.10\n",
       "      11       87.17\n",
       "      12       88.39\n",
       "2021  1        90.01\n",
       "      2       102.90\n",
       "      3       102.38\n",
       "      4       113.65\n",
       "      5       115.43\n",
       "      6       121.05\n",
       "      7       128.56\n",
       "      8       138.37\n",
       "      9       141.18\n",
       "      10      140.11\n",
       "      11      146.76\n",
       "      12      145.15\n",
       "2022  1       135.96\n",
       "      2       136.71\n",
       "      3       134.98\n",
       "      4       128.07\n",
       "      5       113.19\n",
       "      6       112.43\n",
       "      7       112.65\n",
       "      8       116.26\n",
       "      9       103.33\n",
       "      10       98.88\n",
       "      11       93.91\n",
       "      12       92.32\n",
       "2023  1        93.04\n",
       "      2        96.42\n",
       "      3        98.06\n",
       "      4       105.71\n",
       "      5       116.12\n",
       "      6       122.53\n",
       "      7       123.05\n",
       "      8       130.55\n",
       "      9       134.30\n",
       "      10      134.18\n",
       "      11      133.38\n",
       "      12      135.57\n",
       "2024  1       143.84\n",
       "      2       142.83\n",
       "      3       142.45\n",
       "      4       157.19\n",
       "      5       172.00\n",
       "Name: Close, dtype: float64"
      ]
     },
     "execution_count": 16,
     "metadata": {},
     "output_type": "execute_result"
    }
   ],
   "source": [
    "google.groupby(['Year', 'Month'])['Close'].mean()"
   ]
  },
  {
   "cell_type": "markdown",
   "metadata": {
    "id": "PunXd_Ey16so"
   },
   "source": [
    "### <a name='6'></a> Ćwiczenie 126\n",
    "Znajdź indeks dla którego kolumna _Close_ przyjmuje wartość największą."
   ]
  },
  {
   "cell_type": "code",
   "execution_count": 17,
   "metadata": {
    "colab": {
     "base_uri": "https://localhost:8080/",
     "height": 33
    },
    "id": "PIUT3b7Rm7v1",
    "outputId": "e09cce02-e8ac-4861-d01b-f0726f4ab66a"
   },
   "outputs": [
    {
     "data": {
      "text/plain": [
       "7"
      ]
     },
     "execution_count": 17,
     "metadata": {},
     "output_type": "execute_result"
    }
   ],
   "source": [
    "google['Close'].argmax()"
   ]
  },
  {
   "cell_type": "markdown",
   "metadata": {
    "id": "WETiC6NEnPm0"
   },
   "source": [
    "Wytnij wiersz dla tego indeksu z obiektu _google_ jako obiekt DataFrame. Odczytaj datę."
   ]
  },
  {
   "cell_type": "code",
   "execution_count": 18,
   "metadata": {
    "colab": {
     "base_uri": "https://localhost:8080/",
     "height": 77
    },
    "id": "XccuGttMnL_d",
    "outputId": "9d6abaa4-353b-49fd-d8a3-20d226d2d717"
   },
   "outputs": [
    {
     "data": {
      "text/html": [
       "<div>\n",
       "<style scoped>\n",
       "    .dataframe tbody tr th:only-of-type {\n",
       "        vertical-align: middle;\n",
       "    }\n",
       "\n",
       "    .dataframe tbody tr th {\n",
       "        vertical-align: top;\n",
       "    }\n",
       "\n",
       "    .dataframe thead th {\n",
       "        text-align: right;\n",
       "    }\n",
       "</style>\n",
       "<table border=\"1\" class=\"dataframe\">\n",
       "  <thead>\n",
       "    <tr style=\"text-align: right;\">\n",
       "      <th></th>\n",
       "      <th>Date</th>\n",
       "      <th>Open</th>\n",
       "      <th>High</th>\n",
       "      <th>Low</th>\n",
       "      <th>Close</th>\n",
       "      <th>Volume</th>\n",
       "      <th>Year</th>\n",
       "      <th>Month</th>\n",
       "    </tr>\n",
       "  </thead>\n",
       "  <tbody>\n",
       "    <tr>\n",
       "      <th>7</th>\n",
       "      <td>2024-05-21</td>\n",
       "      <td>176.90</td>\n",
       "      <td>178.15</td>\n",
       "      <td>175.81</td>\n",
       "      <td>177.85</td>\n",
       "      <td>16989369</td>\n",
       "      <td>2024</td>\n",
       "      <td>5</td>\n",
       "    </tr>\n",
       "  </tbody>\n",
       "</table>\n",
       "</div>"
      ],
      "text/plain": [
       "        Date   Open   High    Low  Close    Volume  Year  Month\n",
       "7 2024-05-21 176.90 178.15 175.81 177.85  16989369  2024      5"
      ]
     },
     "execution_count": 18,
     "metadata": {},
     "output_type": "execute_result"
    }
   ],
   "source": [
    "google.iloc[[google['Close'].argmax()]]"
   ]
  },
  {
   "cell_type": "markdown",
   "metadata": {
    "id": "hOhqDRz618Tx"
   },
   "source": [
    "### <a name='7'></a> Ćwiczenie 127\n",
    "Z obiektu _google_ wytnij kolumny _Date_, _Open_, _Close_, _Volume_.\n",
    "Nie zmieniaj pierwotnego obiektu _google_!\n"
   ]
  },
  {
   "cell_type": "code",
   "execution_count": 19,
   "metadata": {
    "colab": {
     "base_uri": "https://localhost:8080/",
     "height": 406
    },
    "id": "P17Vtv4imw28",
    "outputId": "407a2665-a1a4-4584-acbe-ac737644fd87"
   },
   "outputs": [
    {
     "data": {
      "text/html": [
       "<div>\n",
       "<style scoped>\n",
       "    .dataframe tbody tr th:only-of-type {\n",
       "        vertical-align: middle;\n",
       "    }\n",
       "\n",
       "    .dataframe tbody tr th {\n",
       "        vertical-align: top;\n",
       "    }\n",
       "\n",
       "    .dataframe thead th {\n",
       "        text-align: right;\n",
       "    }\n",
       "</style>\n",
       "<table border=\"1\" class=\"dataframe\">\n",
       "  <thead>\n",
       "    <tr style=\"text-align: right;\">\n",
       "      <th></th>\n",
       "      <th>Date</th>\n",
       "      <th>Open</th>\n",
       "      <th>Close</th>\n",
       "      <th>Volume</th>\n",
       "    </tr>\n",
       "  </thead>\n",
       "  <tbody>\n",
       "    <tr>\n",
       "      <th>0</th>\n",
       "      <td>2024-05-31</td>\n",
       "      <td>171.86</td>\n",
       "      <td>172.50</td>\n",
       "      <td>37638876</td>\n",
       "    </tr>\n",
       "    <tr>\n",
       "      <th>1</th>\n",
       "      <td>2024-05-30</td>\n",
       "      <td>175.20</td>\n",
       "      <td>172.11</td>\n",
       "      <td>22958677</td>\n",
       "    </tr>\n",
       "    <tr>\n",
       "      <th>2</th>\n",
       "      <td>2024-05-29</td>\n",
       "      <td>175.43</td>\n",
       "      <td>175.90</td>\n",
       "      <td>23388693</td>\n",
       "    </tr>\n",
       "    <tr>\n",
       "      <th>3</th>\n",
       "      <td>2024-05-28</td>\n",
       "      <td>174.45</td>\n",
       "      <td>176.40</td>\n",
       "      <td>20572157</td>\n",
       "    </tr>\n",
       "    <tr>\n",
       "      <th>4</th>\n",
       "      <td>2024-05-24</td>\n",
       "      <td>174.98</td>\n",
       "      <td>174.99</td>\n",
       "      <td>16579438</td>\n",
       "    </tr>\n",
       "    <tr>\n",
       "      <th>...</th>\n",
       "      <td>...</td>\n",
       "      <td>...</td>\n",
       "      <td>...</td>\n",
       "      <td>...</td>\n",
       "    </tr>\n",
       "    <tr>\n",
       "      <th>1253</th>\n",
       "      <td>2019-06-10</td>\n",
       "      <td>53.85</td>\n",
       "      <td>54.14</td>\n",
       "      <td>28509280</td>\n",
       "    </tr>\n",
       "    <tr>\n",
       "      <th>1254</th>\n",
       "      <td>2019-06-07</td>\n",
       "      <td>52.71</td>\n",
       "      <td>53.42</td>\n",
       "      <td>43827140</td>\n",
       "    </tr>\n",
       "    <tr>\n",
       "      <th>1255</th>\n",
       "      <td>2019-06-06</td>\n",
       "      <td>52.31</td>\n",
       "      <td>52.39</td>\n",
       "      <td>29020520</td>\n",
       "    </tr>\n",
       "    <tr>\n",
       "      <th>1256</th>\n",
       "      <td>2019-06-05</td>\n",
       "      <td>52.75</td>\n",
       "      <td>52.23</td>\n",
       "      <td>46988720</td>\n",
       "    </tr>\n",
       "    <tr>\n",
       "      <th>1257</th>\n",
       "      <td>2019-06-04</td>\n",
       "      <td>52.22</td>\n",
       "      <td>52.72</td>\n",
       "      <td>60511280</td>\n",
       "    </tr>\n",
       "  </tbody>\n",
       "</table>\n",
       "<p>1258 rows × 4 columns</p>\n",
       "</div>"
      ],
      "text/plain": [
       "           Date   Open  Close    Volume\n",
       "0    2024-05-31 171.86 172.50  37638876\n",
       "1    2024-05-30 175.20 172.11  22958677\n",
       "2    2024-05-29 175.43 175.90  23388693\n",
       "3    2024-05-28 174.45 176.40  20572157\n",
       "4    2024-05-24 174.98 174.99  16579438\n",
       "...         ...    ...    ...       ...\n",
       "1253 2019-06-10  53.85  54.14  28509280\n",
       "1254 2019-06-07  52.71  53.42  43827140\n",
       "1255 2019-06-06  52.31  52.39  29020520\n",
       "1256 2019-06-05  52.75  52.23  46988720\n",
       "1257 2019-06-04  52.22  52.72  60511280\n",
       "\n",
       "[1258 rows x 4 columns]"
      ]
     },
     "execution_count": 19,
     "metadata": {},
     "output_type": "execute_result"
    }
   ],
   "source": [
    "google[['Date', 'Open', 'Close', 'Volume']]"
   ]
  },
  {
   "cell_type": "markdown",
   "metadata": {
    "id": "TXUd_4631-gw"
   },
   "source": [
    "### <a name='8'></a> Ćwiczenie 128\n",
    "Ustaw z powrotem indeks dla kolumny _Date_. Wyświetl obiekt _google_."
   ]
  },
  {
   "cell_type": "code",
   "execution_count": 20,
   "metadata": {
    "colab": {
     "base_uri": "https://localhost:8080/",
     "height": 436
    },
    "id": "E4zwlRNFoMMz",
    "outputId": "dc78a215-3529-4c46-e5bb-cf7dd11a58af"
   },
   "outputs": [
    {
     "data": {
      "text/html": [
       "<div>\n",
       "<style scoped>\n",
       "    .dataframe tbody tr th:only-of-type {\n",
       "        vertical-align: middle;\n",
       "    }\n",
       "\n",
       "    .dataframe tbody tr th {\n",
       "        vertical-align: top;\n",
       "    }\n",
       "\n",
       "    .dataframe thead th {\n",
       "        text-align: right;\n",
       "    }\n",
       "</style>\n",
       "<table border=\"1\" class=\"dataframe\">\n",
       "  <thead>\n",
       "    <tr style=\"text-align: right;\">\n",
       "      <th></th>\n",
       "      <th>Open</th>\n",
       "      <th>High</th>\n",
       "      <th>Low</th>\n",
       "      <th>Close</th>\n",
       "      <th>Volume</th>\n",
       "      <th>Year</th>\n",
       "      <th>Month</th>\n",
       "    </tr>\n",
       "    <tr>\n",
       "      <th>Date</th>\n",
       "      <th></th>\n",
       "      <th></th>\n",
       "      <th></th>\n",
       "      <th></th>\n",
       "      <th></th>\n",
       "      <th></th>\n",
       "      <th></th>\n",
       "    </tr>\n",
       "  </thead>\n",
       "  <tbody>\n",
       "    <tr>\n",
       "      <th>2024-05-31</th>\n",
       "      <td>171.86</td>\n",
       "      <td>173.06</td>\n",
       "      <td>169.44</td>\n",
       "      <td>172.50</td>\n",
       "      <td>37638876</td>\n",
       "      <td>2024</td>\n",
       "      <td>5</td>\n",
       "    </tr>\n",
       "    <tr>\n",
       "      <th>2024-05-30</th>\n",
       "      <td>175.20</td>\n",
       "      <td>175.22</td>\n",
       "      <td>171.79</td>\n",
       "      <td>172.11</td>\n",
       "      <td>22958677</td>\n",
       "      <td>2024</td>\n",
       "      <td>5</td>\n",
       "    </tr>\n",
       "    <tr>\n",
       "      <th>2024-05-29</th>\n",
       "      <td>175.43</td>\n",
       "      <td>176.84</td>\n",
       "      <td>174.72</td>\n",
       "      <td>175.90</td>\n",
       "      <td>23388693</td>\n",
       "      <td>2024</td>\n",
       "      <td>5</td>\n",
       "    </tr>\n",
       "    <tr>\n",
       "      <th>2024-05-28</th>\n",
       "      <td>174.45</td>\n",
       "      <td>177.27</td>\n",
       "      <td>174.37</td>\n",
       "      <td>176.40</td>\n",
       "      <td>20572157</td>\n",
       "      <td>2024</td>\n",
       "      <td>5</td>\n",
       "    </tr>\n",
       "    <tr>\n",
       "      <th>2024-05-24</th>\n",
       "      <td>174.98</td>\n",
       "      <td>175.77</td>\n",
       "      <td>173.65</td>\n",
       "      <td>174.99</td>\n",
       "      <td>16579438</td>\n",
       "      <td>2024</td>\n",
       "      <td>5</td>\n",
       "    </tr>\n",
       "    <tr>\n",
       "      <th>...</th>\n",
       "      <td>...</td>\n",
       "      <td>...</td>\n",
       "      <td>...</td>\n",
       "      <td>...</td>\n",
       "      <td>...</td>\n",
       "      <td>...</td>\n",
       "      <td>...</td>\n",
       "    </tr>\n",
       "    <tr>\n",
       "      <th>2019-06-10</th>\n",
       "      <td>53.85</td>\n",
       "      <td>54.74</td>\n",
       "      <td>53.76</td>\n",
       "      <td>54.14</td>\n",
       "      <td>28509280</td>\n",
       "      <td>2019</td>\n",
       "      <td>6</td>\n",
       "    </tr>\n",
       "    <tr>\n",
       "      <th>2019-06-07</th>\n",
       "      <td>52.71</td>\n",
       "      <td>53.67</td>\n",
       "      <td>52.56</td>\n",
       "      <td>53.42</td>\n",
       "      <td>43827140</td>\n",
       "      <td>2019</td>\n",
       "      <td>6</td>\n",
       "    </tr>\n",
       "    <tr>\n",
       "      <th>2019-06-06</th>\n",
       "      <td>52.31</td>\n",
       "      <td>52.50</td>\n",
       "      <td>51.78</td>\n",
       "      <td>52.39</td>\n",
       "      <td>29020520</td>\n",
       "      <td>2019</td>\n",
       "      <td>6</td>\n",
       "    </tr>\n",
       "    <tr>\n",
       "      <th>2019-06-05</th>\n",
       "      <td>52.75</td>\n",
       "      <td>52.84</td>\n",
       "      <td>51.65</td>\n",
       "      <td>52.23</td>\n",
       "      <td>46988720</td>\n",
       "      <td>2019</td>\n",
       "      <td>6</td>\n",
       "    </tr>\n",
       "    <tr>\n",
       "      <th>2019-06-04</th>\n",
       "      <td>52.22</td>\n",
       "      <td>52.92</td>\n",
       "      <td>51.80</td>\n",
       "      <td>52.72</td>\n",
       "      <td>60511280</td>\n",
       "      <td>2019</td>\n",
       "      <td>6</td>\n",
       "    </tr>\n",
       "  </tbody>\n",
       "</table>\n",
       "<p>1258 rows × 7 columns</p>\n",
       "</div>"
      ],
      "text/plain": [
       "             Open   High    Low  Close    Volume  Year  Month\n",
       "Date                                                         \n",
       "2024-05-31 171.86 173.06 169.44 172.50  37638876  2024      5\n",
       "2024-05-30 175.20 175.22 171.79 172.11  22958677  2024      5\n",
       "2024-05-29 175.43 176.84 174.72 175.90  23388693  2024      5\n",
       "2024-05-28 174.45 177.27 174.37 176.40  20572157  2024      5\n",
       "2024-05-24 174.98 175.77 173.65 174.99  16579438  2024      5\n",
       "...           ...    ...    ...    ...       ...   ...    ...\n",
       "2019-06-10  53.85  54.74  53.76  54.14  28509280  2019      6\n",
       "2019-06-07  52.71  53.67  52.56  53.42  43827140  2019      6\n",
       "2019-06-06  52.31  52.50  51.78  52.39  29020520  2019      6\n",
       "2019-06-05  52.75  52.84  51.65  52.23  46988720  2019      6\n",
       "2019-06-04  52.22  52.92  51.80  52.72  60511280  2019      6\n",
       "\n",
       "[1258 rows x 7 columns]"
      ]
     },
     "execution_count": 20,
     "metadata": {},
     "output_type": "execute_result"
    }
   ],
   "source": [
    "google = google.set_index('Date')\n",
    "google"
   ]
  },
  {
   "cell_type": "markdown",
   "metadata": {
    "id": "tgI6xEn-2AQo"
   },
   "source": [
    "### <a name='9'></a> Ćwiczenie 129\n",
    "Usuń na stałe kolumny _Year_ i _Month_ z obiektu _google_. Wyświetl obiekt _google_."
   ]
  },
  {
   "cell_type": "code",
   "execution_count": 21,
   "metadata": {
    "colab": {
     "base_uri": "https://localhost:8080/",
     "height": 436
    },
    "id": "Qpy5zTecoY1T",
    "outputId": "3ea0aa96-ef4c-4b64-c1c1-5057ecfe5043"
   },
   "outputs": [
    {
     "data": {
      "text/html": [
       "<div>\n",
       "<style scoped>\n",
       "    .dataframe tbody tr th:only-of-type {\n",
       "        vertical-align: middle;\n",
       "    }\n",
       "\n",
       "    .dataframe tbody tr th {\n",
       "        vertical-align: top;\n",
       "    }\n",
       "\n",
       "    .dataframe thead th {\n",
       "        text-align: right;\n",
       "    }\n",
       "</style>\n",
       "<table border=\"1\" class=\"dataframe\">\n",
       "  <thead>\n",
       "    <tr style=\"text-align: right;\">\n",
       "      <th></th>\n",
       "      <th>Open</th>\n",
       "      <th>High</th>\n",
       "      <th>Low</th>\n",
       "      <th>Close</th>\n",
       "      <th>Volume</th>\n",
       "    </tr>\n",
       "    <tr>\n",
       "      <th>Date</th>\n",
       "      <th></th>\n",
       "      <th></th>\n",
       "      <th></th>\n",
       "      <th></th>\n",
       "      <th></th>\n",
       "    </tr>\n",
       "  </thead>\n",
       "  <tbody>\n",
       "    <tr>\n",
       "      <th>2024-05-31</th>\n",
       "      <td>171.86</td>\n",
       "      <td>173.06</td>\n",
       "      <td>169.44</td>\n",
       "      <td>172.50</td>\n",
       "      <td>37638876</td>\n",
       "    </tr>\n",
       "    <tr>\n",
       "      <th>2024-05-30</th>\n",
       "      <td>175.20</td>\n",
       "      <td>175.22</td>\n",
       "      <td>171.79</td>\n",
       "      <td>172.11</td>\n",
       "      <td>22958677</td>\n",
       "    </tr>\n",
       "    <tr>\n",
       "      <th>2024-05-29</th>\n",
       "      <td>175.43</td>\n",
       "      <td>176.84</td>\n",
       "      <td>174.72</td>\n",
       "      <td>175.90</td>\n",
       "      <td>23388693</td>\n",
       "    </tr>\n",
       "    <tr>\n",
       "      <th>2024-05-28</th>\n",
       "      <td>174.45</td>\n",
       "      <td>177.27</td>\n",
       "      <td>174.37</td>\n",
       "      <td>176.40</td>\n",
       "      <td>20572157</td>\n",
       "    </tr>\n",
       "    <tr>\n",
       "      <th>2024-05-24</th>\n",
       "      <td>174.98</td>\n",
       "      <td>175.77</td>\n",
       "      <td>173.65</td>\n",
       "      <td>174.99</td>\n",
       "      <td>16579438</td>\n",
       "    </tr>\n",
       "    <tr>\n",
       "      <th>...</th>\n",
       "      <td>...</td>\n",
       "      <td>...</td>\n",
       "      <td>...</td>\n",
       "      <td>...</td>\n",
       "      <td>...</td>\n",
       "    </tr>\n",
       "    <tr>\n",
       "      <th>2019-06-10</th>\n",
       "      <td>53.85</td>\n",
       "      <td>54.74</td>\n",
       "      <td>53.76</td>\n",
       "      <td>54.14</td>\n",
       "      <td>28509280</td>\n",
       "    </tr>\n",
       "    <tr>\n",
       "      <th>2019-06-07</th>\n",
       "      <td>52.71</td>\n",
       "      <td>53.67</td>\n",
       "      <td>52.56</td>\n",
       "      <td>53.42</td>\n",
       "      <td>43827140</td>\n",
       "    </tr>\n",
       "    <tr>\n",
       "      <th>2019-06-06</th>\n",
       "      <td>52.31</td>\n",
       "      <td>52.50</td>\n",
       "      <td>51.78</td>\n",
       "      <td>52.39</td>\n",
       "      <td>29020520</td>\n",
       "    </tr>\n",
       "    <tr>\n",
       "      <th>2019-06-05</th>\n",
       "      <td>52.75</td>\n",
       "      <td>52.84</td>\n",
       "      <td>51.65</td>\n",
       "      <td>52.23</td>\n",
       "      <td>46988720</td>\n",
       "    </tr>\n",
       "    <tr>\n",
       "      <th>2019-06-04</th>\n",
       "      <td>52.22</td>\n",
       "      <td>52.92</td>\n",
       "      <td>51.80</td>\n",
       "      <td>52.72</td>\n",
       "      <td>60511280</td>\n",
       "    </tr>\n",
       "  </tbody>\n",
       "</table>\n",
       "<p>1258 rows × 5 columns</p>\n",
       "</div>"
      ],
      "text/plain": [
       "             Open   High    Low  Close    Volume\n",
       "Date                                            \n",
       "2024-05-31 171.86 173.06 169.44 172.50  37638876\n",
       "2024-05-30 175.20 175.22 171.79 172.11  22958677\n",
       "2024-05-29 175.43 176.84 174.72 175.90  23388693\n",
       "2024-05-28 174.45 177.27 174.37 176.40  20572157\n",
       "2024-05-24 174.98 175.77 173.65 174.99  16579438\n",
       "...           ...    ...    ...    ...       ...\n",
       "2019-06-10  53.85  54.74  53.76  54.14  28509280\n",
       "2019-06-07  52.71  53.67  52.56  53.42  43827140\n",
       "2019-06-06  52.31  52.50  51.78  52.39  29020520\n",
       "2019-06-05  52.75  52.84  51.65  52.23  46988720\n",
       "2019-06-04  52.22  52.92  51.80  52.72  60511280\n",
       "\n",
       "[1258 rows x 5 columns]"
      ]
     },
     "execution_count": 21,
     "metadata": {},
     "output_type": "execute_result"
    }
   ],
   "source": [
    "google = google.drop(columns=['Year', 'Month'])\n",
    "google"
   ]
  },
  {
   "cell_type": "markdown",
   "metadata": {
    "id": "wxhpf-uq2B1I"
   },
   "source": [
    "### <a name='10'></a> Ćwiczenie 130\n",
    "Przypisz polskie nazwy kolumn (bez polskich znaków):\n",
    "* Open -> Otwarcie\n",
    "* High -> Najwyzszy\n",
    "* Low -> Najnizszy\n",
    "* Close -> Zamkniecie\n",
    "* Volume -> Wolumen\n",
    "\n",
    "do obiektu _google_. Wyświetl obiekt _google_."
   ]
  },
  {
   "cell_type": "code",
   "execution_count": 22,
   "metadata": {
    "colab": {
     "base_uri": "https://localhost:8080/",
     "height": 436
    },
    "id": "YFc0KW6URsuc",
    "outputId": "0e6ba17d-c6d2-4596-c66e-7dc5d174282c"
   },
   "outputs": [
    {
     "data": {
      "text/html": [
       "<div>\n",
       "<style scoped>\n",
       "    .dataframe tbody tr th:only-of-type {\n",
       "        vertical-align: middle;\n",
       "    }\n",
       "\n",
       "    .dataframe tbody tr th {\n",
       "        vertical-align: top;\n",
       "    }\n",
       "\n",
       "    .dataframe thead th {\n",
       "        text-align: right;\n",
       "    }\n",
       "</style>\n",
       "<table border=\"1\" class=\"dataframe\">\n",
       "  <thead>\n",
       "    <tr style=\"text-align: right;\">\n",
       "      <th></th>\n",
       "      <th>Otwarcie</th>\n",
       "      <th>Najwyzszy</th>\n",
       "      <th>Najnizszy</th>\n",
       "      <th>Zamkniecie</th>\n",
       "      <th>Wolumen</th>\n",
       "    </tr>\n",
       "    <tr>\n",
       "      <th>Date</th>\n",
       "      <th></th>\n",
       "      <th></th>\n",
       "      <th></th>\n",
       "      <th></th>\n",
       "      <th></th>\n",
       "    </tr>\n",
       "  </thead>\n",
       "  <tbody>\n",
       "    <tr>\n",
       "      <th>2024-05-31</th>\n",
       "      <td>171.86</td>\n",
       "      <td>173.06</td>\n",
       "      <td>169.44</td>\n",
       "      <td>172.50</td>\n",
       "      <td>37638876</td>\n",
       "    </tr>\n",
       "    <tr>\n",
       "      <th>2024-05-30</th>\n",
       "      <td>175.20</td>\n",
       "      <td>175.22</td>\n",
       "      <td>171.79</td>\n",
       "      <td>172.11</td>\n",
       "      <td>22958677</td>\n",
       "    </tr>\n",
       "    <tr>\n",
       "      <th>2024-05-29</th>\n",
       "      <td>175.43</td>\n",
       "      <td>176.84</td>\n",
       "      <td>174.72</td>\n",
       "      <td>175.90</td>\n",
       "      <td>23388693</td>\n",
       "    </tr>\n",
       "    <tr>\n",
       "      <th>2024-05-28</th>\n",
       "      <td>174.45</td>\n",
       "      <td>177.27</td>\n",
       "      <td>174.37</td>\n",
       "      <td>176.40</td>\n",
       "      <td>20572157</td>\n",
       "    </tr>\n",
       "    <tr>\n",
       "      <th>2024-05-24</th>\n",
       "      <td>174.98</td>\n",
       "      <td>175.77</td>\n",
       "      <td>173.65</td>\n",
       "      <td>174.99</td>\n",
       "      <td>16579438</td>\n",
       "    </tr>\n",
       "    <tr>\n",
       "      <th>...</th>\n",
       "      <td>...</td>\n",
       "      <td>...</td>\n",
       "      <td>...</td>\n",
       "      <td>...</td>\n",
       "      <td>...</td>\n",
       "    </tr>\n",
       "    <tr>\n",
       "      <th>2019-06-10</th>\n",
       "      <td>53.85</td>\n",
       "      <td>54.74</td>\n",
       "      <td>53.76</td>\n",
       "      <td>54.14</td>\n",
       "      <td>28509280</td>\n",
       "    </tr>\n",
       "    <tr>\n",
       "      <th>2019-06-07</th>\n",
       "      <td>52.71</td>\n",
       "      <td>53.67</td>\n",
       "      <td>52.56</td>\n",
       "      <td>53.42</td>\n",
       "      <td>43827140</td>\n",
       "    </tr>\n",
       "    <tr>\n",
       "      <th>2019-06-06</th>\n",
       "      <td>52.31</td>\n",
       "      <td>52.50</td>\n",
       "      <td>51.78</td>\n",
       "      <td>52.39</td>\n",
       "      <td>29020520</td>\n",
       "    </tr>\n",
       "    <tr>\n",
       "      <th>2019-06-05</th>\n",
       "      <td>52.75</td>\n",
       "      <td>52.84</td>\n",
       "      <td>51.65</td>\n",
       "      <td>52.23</td>\n",
       "      <td>46988720</td>\n",
       "    </tr>\n",
       "    <tr>\n",
       "      <th>2019-06-04</th>\n",
       "      <td>52.22</td>\n",
       "      <td>52.92</td>\n",
       "      <td>51.80</td>\n",
       "      <td>52.72</td>\n",
       "      <td>60511280</td>\n",
       "    </tr>\n",
       "  </tbody>\n",
       "</table>\n",
       "<p>1258 rows × 5 columns</p>\n",
       "</div>"
      ],
      "text/plain": [
       "            Otwarcie  Najwyzszy  Najnizszy  Zamkniecie   Wolumen\n",
       "Date                                                            \n",
       "2024-05-31    171.86     173.06     169.44      172.50  37638876\n",
       "2024-05-30    175.20     175.22     171.79      172.11  22958677\n",
       "2024-05-29    175.43     176.84     174.72      175.90  23388693\n",
       "2024-05-28    174.45     177.27     174.37      176.40  20572157\n",
       "2024-05-24    174.98     175.77     173.65      174.99  16579438\n",
       "...              ...        ...        ...         ...       ...\n",
       "2019-06-10     53.85      54.74      53.76       54.14  28509280\n",
       "2019-06-07     52.71      53.67      52.56       53.42  43827140\n",
       "2019-06-06     52.31      52.50      51.78       52.39  29020520\n",
       "2019-06-05     52.75      52.84      51.65       52.23  46988720\n",
       "2019-06-04     52.22      52.92      51.80       52.72  60511280\n",
       "\n",
       "[1258 rows x 5 columns]"
      ]
     },
     "execution_count": 22,
     "metadata": {},
     "output_type": "execute_result"
    }
   ],
   "source": [
    "google.columns = ['Otwarcie', 'Najwyzszy', 'Najnizszy', 'Zamkniecie', 'Wolumen']\n",
    "google"
   ]
  }
 ],
 "metadata": {
  "colab": {
   "provenance": []
  },
  "kernelspec": {
   "display_name": "Python 3 (ipykernel)",
   "language": "python",
   "name": "python3"
  },
  "language_info": {
   "codemirror_mode": {
    "name": "ipython",
    "version": 3
   },
   "file_extension": ".py",
   "mimetype": "text/x-python",
   "name": "python",
   "nbconvert_exporter": "python",
   "pygments_lexer": "ipython3",
   "version": "3.9.20"
  }
 },
 "nbformat": 4,
 "nbformat_minor": 4
}
