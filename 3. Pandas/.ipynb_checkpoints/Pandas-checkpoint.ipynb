{
 "cells": [
  {
   "cell_type": "markdown",
   "id": "77ad732e",
   "metadata": {},
   "source": [
    "### 3.Pandas - kluczowy pakiet do danych tabelarycznych\n",
    "- Wczytywanie danych tabelarycznych (CSV, TSV, XLS)\n",
    "- Operacje na kolumnach i wierszach\n",
    "- Filtrowanie i procesowanie danych\n",
    "- Odczytywanie danych statystycznych\n",
    "- Modyfikacja danych z użyciem funkcji pythonowych\n",
    "- Agregacja, podobieństwa do SQL\n",
    "- Pandas Profiling - raporty"
   ]
  },
  {
   "cell_type": "markdown",
   "id": "55eda14b",
   "metadata": {},
   "source": [
    "Pandas to popularna biblioteka programistyczna w języku Python, która jest używana do manipulacji i analizy danych. Jest to potężne narzędzie, które ułatwia wczytywanie, przekształcanie, eksplorację i analizę danych w formie tabelarycznej, takich jak arkusze kalkulacyjne lub bazy danych.\n",
    "\n",
    "##### Główne cechy i funkcje biblioteki Pandas:\n",
    "\n",
    "1. Struktury danych: Pandas wprowadza dwie główne struktury danych: Series i DataFrame.\n",
    "\n",
    "- Series: To jednowymiarowa tablica danych, podobna do kolumny w arkuszu kalkulacyjnym lub kolumny w bazie danych. Series można traktować jako uporządkowany zestaw danych z indeksem.\n",
    "\n",
    "- DataFrame: To dwuwymiarowa struktura danych, która przypomina tabelę lub arkusz kalkulacyjny. DataFrame składa się z kolumn i wierszy, a każda kolumna może zawierać różne typy danych.\n",
    "\n",
    "2. Wczytywanie i zapisywanie danych: Pandas umożliwia wczytywanie danych z różnych źródeł, takich jak pliki CSV, Excel, SQL, JSON i wiele innych. Możesz również zapisywać dane do tych formatów.\n",
    "\n",
    "3. Indeksowanie i selekcja danych: Pandas oferuje różnorodne mechanizmy indeksowania i selekcji danych, co pozwala na dostęp do konkretnych kolumn, wierszy lub komórek danych w bardzo elastyczny sposób.\n",
    "\n",
    "4. Operacje na danych: Biblioteka umożliwia wykonywanie różnych operacji na danych, takich jak filtrowanie, sortowanie, grupowanie, łączenie i wiele innych. Możesz także przeprowadzać operacje matematyczne na danych w sposób efektywny.\n",
    "\n",
    "5. Obsługa brakujących danych: Pandas oferuje narzędzia do radzenia sobie z danymi brakującymi, takie jak usuwanie lub uzupełnianie brakujących wartości.\n",
    "\n",
    "6. Analiza i eksploracja danych: Biblioteka ułatwia eksplorację danych poprzez obliczanie statystyk opisowych, generowanie wykresów i wizualizacji danych.\n",
    "\n",
    "7. Obsługa szeregów czasowych: Pandas posiada wsparcie dla operacji na szeregach czasowych, co jest przydatne w analizie danych związanych z czasem.\n",
    "\n",
    "8. Integracja z innymi narzędziami: Pandas można łatwo łączyć z innymi bibliotekami do analizy danych i uczenia maszynowego, takimi jak NumPy, SciPy, Matplotlib, scikit-learn i wiele innych.\n",
    "\n",
    "9. Wsparcie społeczności: Pandas posiada aktywną społeczność użytkowników i deweloperów, co oznacza, że istnieje wiele dostępnych źródeł, tutoriali i materiałów do nauki.\n",
    "\n"
   ]
  },
  {
   "cell_type": "markdown",
   "id": "a1a42cd3",
   "metadata": {},
   "source": [
    "##### Strona internetowa\n",
    "- https://pandas.pydata.org/\n",
    "\n",
    "##### Dokumentacja\n",
    "- https://pandas.pydata.org/pandas-docs/stable/\n",
    "\n",
    "##### Polecana strona\n",
    "- https://www.dataschool.io/easier-data-analysis-with-pandas/"
   ]
  },
  {
   "cell_type": "code",
   "execution_count": 2,
   "id": "6ecfe1e3-c67a-4eb2-8a72-2bb33c5b42ca",
   "metadata": {},
   "outputs": [
    {
     "name": "stdout",
     "output_type": "stream",
     "text": [
      "Requirement already satisfied: pandas in c:\\users\\tomas\\appdata\\local\\programs\\anaconda3\\lib\\site-packages (2.0.3)\n",
      "Requirement already satisfied: python-dateutil>=2.8.2 in c:\\users\\tomas\\appdata\\local\\programs\\anaconda3\\lib\\site-packages (from pandas) (2.9.0.post0)\n",
      "Requirement already satisfied: pytz>=2020.1 in c:\\users\\tomas\\appdata\\local\\programs\\anaconda3\\lib\\site-packages (from pandas) (2024.1)\n",
      "Requirement already satisfied: tzdata>=2022.1 in c:\\users\\tomas\\appdata\\local\\programs\\anaconda3\\lib\\site-packages (from pandas) (2023.3)\n",
      "Requirement already satisfied: numpy>=1.20.3 in c:\\users\\tomas\\appdata\\local\\programs\\anaconda3\\lib\\site-packages (from pandas) (1.24.3)\n",
      "Requirement already satisfied: six>=1.5 in c:\\users\\tomas\\appdata\\local\\programs\\anaconda3\\lib\\site-packages (from python-dateutil>=2.8.2->pandas) (1.16.0)\n"
     ]
    }
   ],
   "source": [
    "!pip install pandas"
   ]
  },
  {
   "cell_type": "code",
   "execution_count": 1,
   "id": "d451c076",
   "metadata": {},
   "outputs": [
    {
     "data": {
      "text/plain": [
       "'2.0.3'"
      ]
     },
     "execution_count": 1,
     "metadata": {},
     "output_type": "execute_result"
    }
   ],
   "source": [
    "# pip install pandas\n",
    "\n",
    "import pandas as pd\n",
    "pd.__version__"
   ]
  },
  {
   "cell_type": "markdown",
   "id": "8184f37a-4dc5-480c-bc12-2686a828fd09",
   "metadata": {},
   "source": [
    "### `pd.Series()` - Tablica jednowymiarowa zawierająca dane oraz ich indeksy\n",
    "Series jest jednowymiarową tablicą z etykietowanym indeksem, która może przechowywać dowolny typ danych – liczby, tekst, wartości logiczne, daty itp. Jest to fundament, na którym buduje się bardziej złożone struktury danych w Pandas."
   ]
  },
  {
   "cell_type": "code",
   "execution_count": 3,
   "id": "8738582a-b172-4066-a6ea-fa6dc2d5ed90",
   "metadata": {},
   "outputs": [
    {
     "data": {
      "text/plain": [
       "0    1\n",
       "1    2\n",
       "2    3\n",
       "dtype: int64"
      ]
     },
     "execution_count": 3,
     "metadata": {},
     "output_type": "execute_result"
    }
   ],
   "source": [
    "s = pd.Series([1,2,3])\n",
    "s"
   ]
  },
  {
   "cell_type": "code",
   "execution_count": 4,
   "id": "10f87cde-72a1-4208-8076-251d8c9522ba",
   "metadata": {},
   "outputs": [
    {
     "data": {
      "text/plain": [
       "0    a\n",
       "1    b\n",
       "2    c\n",
       "dtype: object"
      ]
     },
     "execution_count": 4,
     "metadata": {},
     "output_type": "execute_result"
    }
   ],
   "source": [
    "s = pd.Series(['a','b','c'])\n",
    "s"
   ]
  },
  {
   "cell_type": "code",
   "execution_count": 8,
   "id": "6aee253b-157e-41fa-a108-0d78d59ddfb8",
   "metadata": {},
   "outputs": [
    {
     "data": {
      "text/plain": [
       "a    1\n",
       "b    b\n",
       "c    3\n",
       "dtype: object"
      ]
     },
     "execution_count": 8,
     "metadata": {},
     "output_type": "execute_result"
    }
   ],
   "source": [
    "s = pd.Series(data=[1,'b',3], index=['a', 'b', 'c'])\n",
    "s"
   ]
  },
  {
   "cell_type": "code",
   "execution_count": 3,
   "id": "254ab8d9-e1ec-4837-b7a1-360626ead9cd",
   "metadata": {},
   "outputs": [
    {
     "data": {
      "text/plain": [
       "a    1.0\n",
       "b    NaN\n",
       "c    3.0\n",
       "dtype: float64"
      ]
     },
     "execution_count": 3,
     "metadata": {},
     "output_type": "execute_result"
    }
   ],
   "source": [
    "import numpy as np\n",
    "\n",
    "s = pd.Series(data=[1, np.nan, 3], index=['a', 'b', 'c'])\n",
    "s"
   ]
  },
  {
   "cell_type": "code",
   "execution_count": 11,
   "id": "c252e698-2321-4643-91bd-19aee6a488ef",
   "metadata": {},
   "outputs": [
    {
     "data": {
      "text/plain": [
       "0     True\n",
       "1    False\n",
       "2     True\n",
       "dtype: bool"
      ]
     },
     "execution_count": 11,
     "metadata": {},
     "output_type": "execute_result"
    }
   ],
   "source": [
    "s = pd.Series(data=[True, False, True])\n",
    "s"
   ]
  },
  {
   "cell_type": "code",
   "execution_count": 14,
   "id": "1359343d-100e-4efb-87ed-950ddae9609d",
   "metadata": {},
   "outputs": [
    {
     "data": {
      "text/plain": [
       "0     1\n",
       "1     2\n",
       "2     3\n",
       "3     4\n",
       "4     5\n",
       "5     6\n",
       "6     7\n",
       "7     8\n",
       "8     9\n",
       "9    10\n",
       "dtype: int32"
      ]
     },
     "execution_count": 14,
     "metadata": {},
     "output_type": "execute_result"
    }
   ],
   "source": [
    "pd.Series(data=np.arange(1, 11))"
   ]
  },
  {
   "cell_type": "code",
   "execution_count": 13,
   "id": "0bc4eb5f-76f9-4cf4-b668-86459ee8940a",
   "metadata": {},
   "outputs": [
    {
     "data": {
      "text/plain": [
       "2025-03-24     1\n",
       "2025-03-25     2\n",
       "2025-03-26     3\n",
       "2025-03-27     4\n",
       "2025-03-28     5\n",
       "2025-03-29     6\n",
       "2025-03-30     7\n",
       "2025-03-31     8\n",
       "2025-04-01     9\n",
       "2025-04-02    10\n",
       "Freq: D, dtype: int32"
      ]
     },
     "execution_count": 13,
     "metadata": {},
     "output_type": "execute_result"
    }
   ],
   "source": [
    "s = pd.Series(data=np.arange(1, 11), index=pd.date_range(start='20250324', periods=10))\n",
    "s"
   ]
  },
  {
   "cell_type": "code",
   "execution_count": 15,
   "id": "6cd0e610-800f-4dcf-a3ce-452469b24c4d",
   "metadata": {},
   "outputs": [
    {
     "data": {
      "text/plain": [
       "dtype('int32')"
      ]
     },
     "execution_count": 15,
     "metadata": {},
     "output_type": "execute_result"
    }
   ],
   "source": [
    "s.dtypes"
   ]
  },
  {
   "cell_type": "code",
   "execution_count": 16,
   "id": "8af1e4a9-b793-436e-838d-b0596db9cc13",
   "metadata": {},
   "outputs": [
    {
     "data": {
      "text/plain": [
       "DatetimeIndex(['2025-03-24', '2025-03-25', '2025-03-26', '2025-03-27',\n",
       "               '2025-03-28', '2025-03-29', '2025-03-30', '2025-03-31',\n",
       "               '2025-04-01', '2025-04-02'],\n",
       "              dtype='datetime64[ns]', freq='D')"
      ]
     },
     "execution_count": 16,
     "metadata": {},
     "output_type": "execute_result"
    }
   ],
   "source": [
    "s.index"
   ]
  },
  {
   "cell_type": "code",
   "execution_count": 17,
   "id": "a908ed3b-180f-499a-882f-d0f2912162b5",
   "metadata": {},
   "outputs": [
    {
     "data": {
      "text/plain": [
       "array([ 1,  2,  3,  4,  5,  6,  7,  8,  9, 10])"
      ]
     },
     "execution_count": 17,
     "metadata": {},
     "output_type": "execute_result"
    }
   ],
   "source": [
    "s.values"
   ]
  },
  {
   "cell_type": "markdown",
   "id": "12a91cf2-3ecb-46a8-aba3-2414963d93f3",
   "metadata": {},
   "source": [
    "## Series vs tablica NumPy\n",
    "\n",
    "Series uogólnia jednowymiarową tablicę NumPy:\n",
    "* tablica NumPy posiada wewnętrzną indeksację w stylu Pythona (*implicit index*);\n",
    "* Series posiada wewnętrzną indeksację w stylu Pythona plus indeksację za pomocą etykiet."
   ]
  },
  {
   "cell_type": "code",
   "execution_count": 18,
   "id": "1a9159cc-bfac-422a-9701-e215a4143239",
   "metadata": {},
   "outputs": [
    {
     "data": {
      "text/plain": [
       "a     3.00\n",
       "b     1.00\n",
       "c     2.71\n",
       "d   -10.00\n",
       "dtype: float64"
      ]
     },
     "execution_count": 18,
     "metadata": {},
     "output_type": "execute_result"
    }
   ],
   "source": [
    "s = pd.Series([3, 1, 2.71, -10], index=['a', 'b', 'c', 'd'])\n",
    "s"
   ]
  },
  {
   "cell_type": "code",
   "execution_count": 20,
   "id": "09c9d1ed-e115-4eb1-bd99-fa83456faa2a",
   "metadata": {},
   "outputs": [
    {
     "data": {
      "text/plain": [
       "2.71"
      ]
     },
     "execution_count": 20,
     "metadata": {},
     "output_type": "execute_result"
    }
   ],
   "source": [
    "s['c']"
   ]
  },
  {
   "cell_type": "markdown",
   "id": "7c4b31d2-4b3d-4575-b41f-c0cbf5bb644e",
   "metadata": {},
   "source": [
    "Indeks etykiet może:\n",
    "* nie zachowywać kolejności,\n",
    "* posiadać luki,\n",
    "* posiadać powtórzenia."
   ]
  },
  {
   "cell_type": "code",
   "execution_count": 21,
   "id": "5fb494a5-2fa3-474b-a19a-ce551b3c7a3a",
   "metadata": {},
   "outputs": [
    {
     "data": {
      "text/plain": [
       "3       3.00\n",
       "2       1.00\n",
       "5       2.71\n",
       "2     -10.00\n",
       "100    50.00\n",
       "dtype: float64"
      ]
     },
     "execution_count": 21,
     "metadata": {},
     "output_type": "execute_result"
    }
   ],
   "source": [
    "s = pd.Series([3, 1, 2.71, -10, 50], index=[3, 2, 5, 2, 100])\n",
    "s"
   ]
  },
  {
   "cell_type": "code",
   "execution_count": 22,
   "id": "d1b529b9-96cc-4ff6-b384-e72ab608ae83",
   "metadata": {},
   "outputs": [
    {
     "data": {
      "text/plain": [
       "0    python\n",
       "1       sas\n",
       "2         r\n",
       "Name: jezyki, dtype: object"
      ]
     },
     "execution_count": 22,
     "metadata": {},
     "output_type": "execute_result"
    }
   ],
   "source": [
    "s = pd.Series(data=['python', 'sas', 'r'], name='jezyki')\n",
    "s"
   ]
  },
  {
   "cell_type": "markdown",
   "id": "10787a0d-13a2-4b36-8bf1-e3c18ddb87db",
   "metadata": {},
   "source": [
    "## Series jako rodzaj słownika\n",
    "\n",
    "Klucze słownika przechodzą na etykiety podczas przekształcania słownika na obiekt Series:"
   ]
  },
  {
   "cell_type": "code",
   "execution_count": 31,
   "id": "a73b11f3-a2e4-4899-919f-803061c31264",
   "metadata": {},
   "outputs": [
    {
     "data": {
      "text/plain": [
       "Polska_Ludowa    38501\n",
       "Czechy           10221\n",
       "Szwecja           9045\n",
       "Niemcy           82370\n",
       "Litwa             3565\n",
       "dtype: int64"
      ]
     },
     "execution_count": 31,
     "metadata": {},
     "output_type": "execute_result"
    }
   ],
   "source": [
    "ludność_dict = {'Polska_Ludowa': 38501,\n",
    "                'Czechy': 10221,\n",
    "                'Szwecja': 9045,\n",
    "                'Niemcy': 82370,\n",
    "                'Litwa': 3565}\n",
    "\n",
    "ludność = pd.Series(ludność_dict)\n",
    "ludność"
   ]
  },
  {
   "cell_type": "code",
   "execution_count": 32,
   "id": "a4952fe7-5e31-477f-9a61-c517d89f95a1",
   "metadata": {},
   "outputs": [
    {
     "data": {
      "text/plain": [
       "38501"
      ]
     },
     "execution_count": 32,
     "metadata": {},
     "output_type": "execute_result"
    }
   ],
   "source": [
    "ludność['Polska_Ludowa']"
   ]
  },
  {
   "cell_type": "code",
   "execution_count": 33,
   "id": "4ce9fbcf-ec66-4453-93cd-2ba1bbea42b6",
   "metadata": {},
   "outputs": [
    {
     "data": {
      "text/plain": [
       "38501"
      ]
     },
     "execution_count": 33,
     "metadata": {},
     "output_type": "execute_result"
    }
   ],
   "source": [
    "ludność.Polska_Ludowa # jak pisać żeby używać tej notacji (z _)"
   ]
  },
  {
   "cell_type": "code",
   "execution_count": 35,
   "id": "3be3cac7-0570-4988-97f8-a11fe306a00b",
   "metadata": {},
   "outputs": [
    {
     "data": {
      "text/plain": [
       "True"
      ]
     },
     "execution_count": 35,
     "metadata": {},
     "output_type": "execute_result"
    }
   ],
   "source": [
    "'Czechy' in ludność"
   ]
  },
  {
   "cell_type": "code",
   "execution_count": 36,
   "id": "fd2b9f0b-78e5-4520-bbf6-da02039e56c9",
   "metadata": {},
   "outputs": [
    {
     "data": {
      "text/plain": [
       "Index(['Polska_Ludowa', 'Czechy', 'Szwecja', 'Niemcy', 'Litwa'], dtype='object')"
      ]
     },
     "execution_count": 36,
     "metadata": {},
     "output_type": "execute_result"
    }
   ],
   "source": [
    "ludność.keys()"
   ]
  },
  {
   "cell_type": "code",
   "execution_count": 38,
   "id": "03558eeb-5922-4e41-a042-761fd7b77941",
   "metadata": {},
   "outputs": [],
   "source": [
    "ludność['Grecja'] = 10723"
   ]
  },
  {
   "cell_type": "code",
   "execution_count": 39,
   "id": "de334cc5-eeec-4585-9aaa-30b2e7d803bb",
   "metadata": {},
   "outputs": [
    {
     "data": {
      "text/plain": [
       "Polska_Ludowa    38501\n",
       "Czechy           10221\n",
       "Szwecja           9045\n",
       "Niemcy           82370\n",
       "Litwa             3565\n",
       "Grecja           10723\n",
       "dtype: int64"
      ]
     },
     "execution_count": 39,
     "metadata": {},
     "output_type": "execute_result"
    }
   ],
   "source": [
    "ludność"
   ]
  },
  {
   "cell_type": "markdown",
   "id": "5e77d8bf-c5fb-44f6-af1e-b624c6dbeb00",
   "metadata": {},
   "source": [
    "Series jako tablica jednowymiarowa pozwala na dostęp do wartości poprzez:\n",
    "* wycinki,\n",
    "* maskowanie,\n",
    "* wymyślne indeksowanie."
   ]
  },
  {
   "cell_type": "code",
   "execution_count": 41,
   "id": "10fbe610-2a9d-495c-b0db-1bf43d6d514b",
   "metadata": {},
   "outputs": [
    {
     "data": {
      "text/plain": [
       "Polska_Ludowa    38501\n",
       "Czechy           10221\n",
       "Szwecja           9045\n",
       "Niemcy           82370\n",
       "Litwa             3565\n",
       "Grecja           10723\n",
       "dtype: int64"
      ]
     },
     "execution_count": 41,
     "metadata": {},
     "output_type": "execute_result"
    }
   ],
   "source": [
    "ludność"
   ]
  },
  {
   "cell_type": "code",
   "execution_count": 40,
   "id": "a35b0f2b-831a-4f49-83a0-8262253e69ce",
   "metadata": {},
   "outputs": [
    {
     "data": {
      "text/plain": [
       "Czechy     10221\n",
       "Szwecja     9045\n",
       "Niemcy     82370\n",
       "dtype: int64"
      ]
     },
     "execution_count": 40,
     "metadata": {},
     "output_type": "execute_result"
    }
   ],
   "source": [
    "# Wycinek indeksów z poziomu etykiet\n",
    "ludność['Czechy':'Niemcy'] # Prawy kraniec zaliczony!"
   ]
  },
  {
   "cell_type": "code",
   "execution_count": 42,
   "id": "046dfc1d-9bd0-44c3-b2d6-786149398927",
   "metadata": {},
   "outputs": [
    {
     "data": {
      "text/plain": [
       "Czechy     10221\n",
       "Szwecja     9045\n",
       "dtype: int64"
      ]
     },
     "execution_count": 42,
     "metadata": {},
     "output_type": "execute_result"
    }
   ],
   "source": [
    "# Wycinek wewnętrznych indeksów Pythona\n",
    "ludność[1:3] # Prawie kraniec wykluczony!"
   ]
  },
  {
   "cell_type": "code",
   "execution_count": 43,
   "id": "a7be7f18-788b-4cdc-aa3b-d42d42500ca7",
   "metadata": {},
   "outputs": [
    {
     "data": {
      "text/plain": [
       "Polska_Ludowa    38501\n",
       "Czechy           10221\n",
       "Grecja           10723\n",
       "dtype: int64"
      ]
     },
     "execution_count": 43,
     "metadata": {},
     "output_type": "execute_result"
    }
   ],
   "source": [
    "# Maskowanie\n",
    "ludność[(10000 < ludność) & (ludność < 40000)]"
   ]
  },
  {
   "cell_type": "code",
   "execution_count": 44,
   "id": "c800dfa3-10ef-4621-ac11-9bc33dc47692",
   "metadata": {},
   "outputs": [
    {
     "data": {
      "text/plain": [
       "Czechy    10221\n",
       "Grecja    10723\n",
       "Litwa      3565\n",
       "dtype: int64"
      ]
     },
     "execution_count": 44,
     "metadata": {},
     "output_type": "execute_result"
    }
   ],
   "source": [
    "# Indeksowanie wymyślne (fancy indexing), indeks etykiet\n",
    "ludność[['Czechy', 'Grecja', 'Litwa']]"
   ]
  },
  {
   "cell_type": "code",
   "execution_count": 45,
   "id": "76248152-877a-4f4a-bbd4-2e19147c92b0",
   "metadata": {},
   "outputs": [
    {
     "data": {
      "text/plain": [
       "Szwecja    9045\n",
       "Litwa      3565\n",
       "Szwecja    9045\n",
       "dtype: int64"
      ]
     },
     "execution_count": 45,
     "metadata": {},
     "output_type": "execute_result"
    }
   ],
   "source": [
    "# Indeksowanie wymyślne (fancy indexing), indeks wewnętrzny Pythona\n",
    "ludność[[2, 4, 2]]"
   ]
  },
  {
   "cell_type": "markdown",
   "id": "9eb85002-fdd1-4809-96c3-3620763ca621",
   "metadata": {},
   "source": [
    "## Zagadka"
   ]
  },
  {
   "cell_type": "code",
   "execution_count": 46,
   "id": "90a11c13-24ae-483a-8b06-607cdf12be99",
   "metadata": {},
   "outputs": [
    {
     "data": {
      "text/plain": [
       "1    a\n",
       "2    b\n",
       "3    c\n",
       "dtype: object"
      ]
     },
     "execution_count": 46,
     "metadata": {},
     "output_type": "execute_result"
    }
   ],
   "source": [
    "s = pd.Series(['a', 'b', 'c'], index=[1, 2, 3])\n",
    "s"
   ]
  },
  {
   "cell_type": "markdown",
   "id": "f0fa4320-3d0a-42bd-bf70-6809b7708111",
   "metadata": {},
   "source": [
    "Jaka wartość kryje się pod `s[2]`? Co zwróci `s[1:3]`?"
   ]
  },
  {
   "cell_type": "code",
   "execution_count": 48,
   "id": "3f34c54f-dfc5-4196-a6cd-ad1b098b35d4",
   "metadata": {},
   "outputs": [
    {
     "data": {
      "text/plain": [
       "'b'"
      ]
     },
     "execution_count": 48,
     "metadata": {},
     "output_type": "execute_result"
    }
   ],
   "source": [
    "s[2]"
   ]
  },
  {
   "cell_type": "code",
   "execution_count": 49,
   "id": "afc0dec8-259d-4080-af5e-a8b622b82ab2",
   "metadata": {},
   "outputs": [
    {
     "data": {
      "text/plain": [
       "2    b\n",
       "3    c\n",
       "dtype: object"
      ]
     },
     "execution_count": 49,
     "metadata": {},
     "output_type": "execute_result"
    }
   ],
   "source": [
    "s[1:3]"
   ]
  },
  {
   "cell_type": "markdown",
   "id": "cfcd1e0d-a36a-43c7-a337-83934f94321f",
   "metadata": {},
   "source": [
    "## Indeksery `loc`, `iloc`\n",
    "\n",
    "* Atrybut `loc` zawsze odnosi się do indeksów z poziomu etykiet.\n",
    "* Atrybut `iloc` zawsze odnosi się do indeksów wewnętrznych Pythona, czyli do zwykłej numeracji całkowitoliczbowej od zera w górę."
   ]
  },
  {
   "cell_type": "code",
   "execution_count": 60,
   "id": "5a9b606c-0893-43b6-84c4-f070d12d09df",
   "metadata": {},
   "outputs": [
    {
     "data": {
      "text/plain": [
       "1    a\n",
       "2    b\n",
       "3    c\n",
       "4    d\n",
       "dtype: object"
      ]
     },
     "execution_count": 60,
     "metadata": {},
     "output_type": "execute_result"
    }
   ],
   "source": [
    "s = pd.Series(['a', 'b', 'c', 'd'], index=[1, 2, 3, 4])\n",
    "s"
   ]
  },
  {
   "cell_type": "code",
   "execution_count": 53,
   "id": "58373f6f-d96d-4d47-a460-3994f1a902eb",
   "metadata": {},
   "outputs": [
    {
     "name": "stdout",
     "output_type": "stream",
     "text": [
      "0\n",
      "1\n",
      "2\n",
      "3\n",
      "4\n"
     ]
    }
   ],
   "source": [
    "for i in range(5):\n",
    "    print(i)"
   ]
  },
  {
   "cell_type": "code",
   "execution_count": 61,
   "id": "5f01835a-0087-4865-9e2a-2d952da7b368",
   "metadata": {},
   "outputs": [
    {
     "data": {
      "text/plain": [
       "'b'"
      ]
     },
     "execution_count": 61,
     "metadata": {},
     "output_type": "execute_result"
    }
   ],
   "source": [
    "s.iloc[1] # wewnętrzna indeksacja Pythona"
   ]
  },
  {
   "cell_type": "code",
   "execution_count": 62,
   "id": "0313ea7f-3790-4ce9-98b8-a6dd882e1934",
   "metadata": {},
   "outputs": [
    {
     "data": {
      "text/plain": [
       "'a'"
      ]
     },
     "execution_count": 62,
     "metadata": {},
     "output_type": "execute_result"
    }
   ],
   "source": [
    "s.loc[1] # zdefiniowane indexy"
   ]
  },
  {
   "cell_type": "code",
   "execution_count": 69,
   "id": "b23be833-ceb0-4c7d-918a-eb216305725b",
   "metadata": {},
   "outputs": [
    {
     "data": {
      "text/plain": [
       "1    a\n",
       "2    b\n",
       "3    c\n",
       "4    d\n",
       "dtype: object"
      ]
     },
     "execution_count": 69,
     "metadata": {},
     "output_type": "execute_result"
    }
   ],
   "source": [
    "s"
   ]
  },
  {
   "cell_type": "code",
   "execution_count": 68,
   "id": "2c295f43-efe3-4419-8992-9a991795840c",
   "metadata": {},
   "outputs": [
    {
     "data": {
      "text/plain": [
       "2    b\n",
       "dtype: object"
      ]
     },
     "execution_count": 68,
     "metadata": {},
     "output_type": "execute_result"
    }
   ],
   "source": [
    "s.iloc[1:2] # Wyklucza prawy kraniec!"
   ]
  },
  {
   "cell_type": "code",
   "execution_count": 67,
   "id": "552f92c4-4ebd-4575-a5be-c3630ace1204",
   "metadata": {},
   "outputs": [
    {
     "data": {
      "text/plain": [
       "1    a\n",
       "2    b\n",
       "3    c\n",
       "4    d\n",
       "dtype: object"
      ]
     },
     "execution_count": 67,
     "metadata": {},
     "output_type": "execute_result"
    }
   ],
   "source": [
    "s"
   ]
  },
  {
   "cell_type": "code",
   "execution_count": 66,
   "id": "9e85bb1d-5d5d-42fd-ad27-d6a5f3e76352",
   "metadata": {},
   "outputs": [
    {
     "data": {
      "text/plain": [
       "1    a\n",
       "2    b\n",
       "3    c\n",
       "dtype: object"
      ]
     },
     "execution_count": 66,
     "metadata": {},
     "output_type": "execute_result"
    }
   ],
   "source": [
    "s.loc[1:3] # Włącza prawy kraniec!"
   ]
  },
  {
   "cell_type": "code",
   "execution_count": 76,
   "id": "949f344e-1a80-4fce-8342-5b6da6240229",
   "metadata": {},
   "outputs": [
    {
     "data": {
      "text/plain": [
       "2    b\n",
       "3    c\n",
       "dtype: object"
      ]
     },
     "execution_count": 76,
     "metadata": {},
     "output_type": "execute_result"
    }
   ],
   "source": [
    "s.iloc[1:3]"
   ]
  },
  {
   "cell_type": "code",
   "execution_count": 4,
   "id": "b83b554f-5c23-4c99-afe2-f7a8d260e09f",
   "metadata": {},
   "outputs": [
    {
     "data": {
      "text/plain": [
       "Orlen     70.0\n",
       "PZU       30.0\n",
       "KGHM     100.0\n",
       "PKP        NaN\n",
       "dtype: float64"
      ]
     },
     "execution_count": 4,
     "metadata": {},
     "output_type": "execute_result"
    }
   ],
   "source": [
    "ceny_akcji = pd.Series(data={'Orlen': 70, 'PZU': 30, 'KGHM': 100, 'PKP': np.nan})\n",
    "ceny_akcji"
   ]
  },
  {
   "cell_type": "code",
   "execution_count": 5,
   "id": "d0b289d1-751c-417f-a9c1-34c9fe8b7032",
   "metadata": {},
   "outputs": [
    {
     "data": {
      "text/plain": [
       "70.0"
      ]
     },
     "execution_count": 5,
     "metadata": {},
     "output_type": "execute_result"
    }
   ],
   "source": [
    "ceny_akcji['Orlen']"
   ]
  },
  {
   "cell_type": "code",
   "execution_count": 6,
   "id": "279b1fdc-c578-4ccf-b7aa-f0757d73b2a7",
   "metadata": {},
   "outputs": [
    {
     "data": {
      "text/plain": [
       "70.0"
      ]
     },
     "execution_count": 6,
     "metadata": {},
     "output_type": "execute_result"
    }
   ],
   "source": [
    "ceny_akcji.Orlen"
   ]
  },
  {
   "cell_type": "code",
   "execution_count": 7,
   "id": "a2f2d7e3-6c12-4fb0-bf4e-fe678e11cd30",
   "metadata": {},
   "outputs": [
    {
     "data": {
      "text/plain": [
       "70.0"
      ]
     },
     "execution_count": 7,
     "metadata": {},
     "output_type": "execute_result"
    }
   ],
   "source": [
    "ceny_akcji.iloc[0]"
   ]
  },
  {
   "cell_type": "code",
   "execution_count": 8,
   "id": "a1c31a07-29ae-4e49-b995-ce76d6adcd7a",
   "metadata": {},
   "outputs": [
    {
     "data": {
      "text/plain": [
       "3"
      ]
     },
     "execution_count": 8,
     "metadata": {},
     "output_type": "execute_result"
    }
   ],
   "source": [
    "ceny_akcji.count()"
   ]
  },
  {
   "cell_type": "code",
   "execution_count": 11,
   "id": "ee60e18c-5737-43c0-8a56-7b2bffd87475",
   "metadata": {},
   "outputs": [
    {
     "data": {
      "text/plain": [
       "PKP   NaN\n",
       "dtype: float64"
      ]
     },
     "execution_count": 11,
     "metadata": {},
     "output_type": "execute_result"
    }
   ],
   "source": [
    "ceny_akcji[ceny_akcji.isna()]"
   ]
  },
  {
   "cell_type": "code",
   "execution_count": 16,
   "id": "65f62281-c50f-48e7-83ba-5f6515cb5b14",
   "metadata": {},
   "outputs": [
    {
     "data": {
      "text/plain": [
       "70.0     1\n",
       "30.0     1\n",
       "100.0    1\n",
       "NaN      1\n",
       "Name: count, dtype: int64"
      ]
     },
     "execution_count": 16,
     "metadata": {},
     "output_type": "execute_result"
    }
   ],
   "source": [
    "ceny_akcji.value_counts(dropna=False)"
   ]
  }
 ],
 "metadata": {
  "kernelspec": {
   "display_name": "Python 3 (ipykernel)",
   "language": "python",
   "name": "python3"
  },
  "language_info": {
   "codemirror_mode": {
    "name": "ipython",
    "version": 3
   },
   "file_extension": ".py",
   "mimetype": "text/x-python",
   "name": "python",
   "nbconvert_exporter": "python",
   "pygments_lexer": "ipython3",
   "version": "3.9.20"
  }
 },
 "nbformat": 4,
 "nbformat_minor": 5
}
