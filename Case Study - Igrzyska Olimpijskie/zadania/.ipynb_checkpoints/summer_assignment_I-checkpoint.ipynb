{
 "cells": [
  {
   "cell_type": "markdown",
   "metadata": {
    "colab_type": "text",
    "id": "7er-JcUVOBIQ"
   },
   "source": [
    "# Letnie igrzyska olimpijskie\n",
    "\n",
    "### 1.\n",
    "\n",
    "Wczytaj tabelę z dokonaniami medalowymi 'summer_1976_2008.pkl'."
   ]
  },
  {
   "cell_type": "code",
   "execution_count": null,
   "metadata": {},
   "outputs": [],
   "source": []
  },
  {
   "cell_type": "markdown",
   "metadata": {},
   "source": [
    "### 2.\n",
    "\n",
    "\n",
    "Ile kobiet i ilu mężczyzn wzięło udział w zmaganiach olimpijskich?"
   ]
  },
  {
   "cell_type": "code",
   "execution_count": null,
   "metadata": {},
   "outputs": [],
   "source": []
  },
  {
   "cell_type": "markdown",
   "metadata": {},
   "source": [
    "### 3.\n",
    "\n",
    "\n",
    "Ile kobiet i ile mężczyzn wzięło udział w zmaganiach olimpijskich w poszczególnych latach?"
   ]
  },
  {
   "cell_type": "code",
   "execution_count": null,
   "metadata": {},
   "outputs": [],
   "source": []
  },
  {
   "cell_type": "markdown",
   "metadata": {},
   "source": [
    "### 4.\n",
    "\n",
    "\n",
    "Utwórz ramkę z procentowym udziałem kobiet względem poszczególnych lat, w których odbywały się igrzyska."
   ]
  },
  {
   "cell_type": "code",
   "execution_count": null,
   "metadata": {},
   "outputs": [],
   "source": []
  },
  {
   "cell_type": "markdown",
   "metadata": {},
   "source": [
    "### 5. \n",
    "\n",
    "\n",
    "Wyświetl ramkę 10 najbardziej utytułowanych medalistów zgodnie z rankingiem:\n",
    "* brąz -- 1 punkt,\n",
    "* srebro -- 2 punkty,\n",
    "* złoto -- 6 punktów"
   ]
  },
  {
   "cell_type": "code",
   "execution_count": null,
   "metadata": {},
   "outputs": [],
   "source": []
  },
  {
   "cell_type": "markdown",
   "metadata": {},
   "source": [
    "### 6.\n",
    "\n",
    "Przyjmując ranking z punktu 5. wyświetl 10 najbardziej utytułowanych medalistów (dowolnej płci) w dyscyplinie *Swimming*."
   ]
  },
  {
   "cell_type": "code",
   "execution_count": null,
   "metadata": {},
   "outputs": [],
   "source": []
  },
  {
   "cell_type": "markdown",
   "metadata": {},
   "source": [
    "### 7.\n",
    "\n",
    "Przyjmując ranking z punktu 5. wyświetl 10 najbardziej utytułowanych **medalistek** w dyscyplinie *Swimming*."
   ]
  },
  {
   "cell_type": "code",
   "execution_count": null,
   "metadata": {},
   "outputs": [],
   "source": []
  }
 ],
 "metadata": {
  "colab": {
   "authorship_tag": "ABX9TyNvNSn1mool6tIM9f0Rwlfs",
   "collapsed_sections": [],
   "name": "bg_paradox.ipynb",
   "provenance": []
  },
  "kernelspec": {
   "display_name": "Python 3 (ipykernel)",
   "language": "python",
   "name": "python3"
  },
  "language_info": {
   "codemirror_mode": {
    "name": "ipython",
    "version": 3
   },
   "file_extension": ".py",
   "mimetype": "text/x-python",
   "name": "python",
   "nbconvert_exporter": "python",
   "pygments_lexer": "ipython3",
   "version": "3.9.13"
  }
 },
 "nbformat": 4,
 "nbformat_minor": 1
}
