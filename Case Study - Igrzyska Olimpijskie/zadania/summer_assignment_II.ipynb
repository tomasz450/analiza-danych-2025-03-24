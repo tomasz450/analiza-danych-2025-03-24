{
 "cells": [
  {
   "cell_type": "markdown",
   "metadata": {
    "colab_type": "text",
    "id": "7er-JcUVOBIQ"
   },
   "source": [
    "# Letnie igrzyska olimpijskie II\n",
    "\n",
    "### 1.\n",
    "\n",
    "\n",
    "Wczytaj tabelę z dokonaniami medalowymi 'summer_1976_2008.pkl'.Wczytaj tabelę z dokonaniami medalowymi 'summer_1976_2008.pkl'.# Letnie igrzyska olimpijskie II"
   ]
  },
  {
   "cell_type": "code",
   "execution_count": null,
   "metadata": {},
   "outputs": [],
   "source": []
  },
  {
   "cell_type": "markdown",
   "metadata": {},
   "source": [
    "### 2.\n",
    "\n",
    "Jakie kraje zdobyły medale na igrzyskach olimpijskich w Moskwie, ale nie wzięły udziału (lub nie zdobyły żadnych medali) podczas igrzysk olimpijskich w Los Angeles?"
   ]
  },
  {
   "cell_type": "code",
   "execution_count": null,
   "metadata": {},
   "outputs": [],
   "source": []
  },
  {
   "cell_type": "markdown",
   "metadata": {},
   "source": [
    "### 3.\n",
    "\n",
    "Wyświetl wszystkich sportowców, którzy zdobyli medale na pięciu lub więcej olimpiadach."
   ]
  },
  {
   "cell_type": "code",
   "execution_count": null,
   "metadata": {},
   "outputs": [],
   "source": []
  },
  {
   "cell_type": "markdown",
   "metadata": {},
   "source": [
    "### 4.\n",
    "\n",
    "Wyświetl wszystkich sportowców, którzy zdobyli medale w sześciu lub więcej konkurencjach medalowych."
   ]
  },
  {
   "cell_type": "code",
   "execution_count": null,
   "metadata": {},
   "outputs": [],
   "source": []
  },
  {
   "cell_type": "markdown",
   "metadata": {},
   "source": [
    "### 5.\n",
    "**5 punktów**\n",
    "\n",
    "Wyświetl wszystkich sportowców, którzy zdobyli medale w dwóch różnych kategoriach *Sport*. Czy którekolwiek ze znalezionych nazwisk faktycznie reprezentuje jedną osobę? Da się to potwierdzić bazą?"
   ]
  },
  {
   "cell_type": "code",
   "execution_count": null,
   "metadata": {},
   "outputs": [],
   "source": []
  },
  {
   "cell_type": "markdown",
   "metadata": {},
   "source": [
    "### 6.\n",
    "\n",
    "Utwórz wykres słupkowy pokazujący, ilu Polaków stanęło na podium podczas poszczególnych edycji igrzysk. Słupki ustaw w kolejności chronologicznej. Uwzględnij **wszystkie** olimpiady z bazy."
   ]
  },
  {
   "cell_type": "code",
   "execution_count": null,
   "metadata": {},
   "outputs": [],
   "source": []
  },
  {
   "cell_type": "markdown",
   "metadata": {},
   "source": [
    "### 7.\n",
    "\n",
    "To samo co w punkcie 6., ale tym razem nad każdą edycją powinny znajdować się trzy słupki odpowiadające trzem rodzajom medali. Zadbaj, aby srebro było słupkiem środkowym."
   ]
  },
  {
   "cell_type": "code",
   "execution_count": null,
   "metadata": {},
   "outputs": [],
   "source": []
  },
  {
   "cell_type": "markdown",
   "metadata": {},
   "source": [
    "### 8.\n",
    "\n",
    "Z punktu 5. wynika, że podczas igrzysk w Montrealu na podium stanęło 73 Polaków. Jednak wg. [Wikipedii](https://pl.wikipedia.org/wiki/Letnie_Igrzyska_Olimpijskie_1976#Statystyka_medalowa) statystyka medalowa z tej olimpiady dla Polski to: złoto - 7, srebro - 6, brąz - 13, co daje zaledwie 26 medali. Dlaczego? Jak liczone są osiągnięcia medalowe dla krajów?\n",
    "\n",
    "Utwórz ramkę, w której zamieścisz oficjalne statystyki medalowe dla Polski dla wszystkich (poza edycją z roku 1984) igrzysk z bazy. W ramce:\n",
    "* wiersze to edycje olimpiady;\n",
    "* cztery kolumny odpowiadają wartościom: liczba złotych, srebrnych, brązowych medali i ich suma.\n",
    "\n",
    "Przykładowo, wiersz dla igrzysk z 1976 roku powinien mieć wartości 7, 6, 13, 26. "
   ]
  },
  {
   "cell_type": "code",
   "execution_count": null,
   "metadata": {},
   "outputs": [],
   "source": []
  },
  {
   "cell_type": "markdown",
   "metadata": {},
   "source": [
    "Czy udało Ci się uzyskać pełną zgodność ze statystykami opublikowanymi na [Wikipedii](https://pl.wikipedia.org/wiki/Kategoria:Klasyfikacja_medalowa_letnich_igrzysk_olimpijskich)? Jeśli nie, to napisz co jest tego powodem."
   ]
  },
  {
   "cell_type": "code",
   "execution_count": null,
   "metadata": {},
   "outputs": [],
   "source": []
  },
  {
   "cell_type": "markdown",
   "metadata": {},
   "source": [
    "Na podstawie ramki z tego punktu utwórz wykres słupkowy z **poziomymi** słupkami. Dla danej edycji trzy słupki powinny odpowiadać trzem rodzajom medali. Dostosuj rozmiar rysunku."
   ]
  },
  {
   "cell_type": "code",
   "execution_count": null,
   "metadata": {},
   "outputs": [],
   "source": []
  },
  {
   "cell_type": "markdown",
   "metadata": {},
   "source": [
    "### 9.\n",
    "\n",
    "Wykorzystaj bazę do utworzenia ramki z klasyfikacją medalową dla igrzysk z Montrealu. Klasyfikacja powinna wyglądać tak jak na [tej stronie](https://pl.wikipedia.org/wiki/Klasyfikacja_medalowa_Letnich_Igrzysk_Olimpijskich_1976) Wikipedii. Państwa mogą znajdować się w indeksie, liczbę porządkową możesz pominąć, ale zachowaj kolejność. "
   ]
  },
  {
   "cell_type": "code",
   "execution_count": null,
   "metadata": {},
   "outputs": [],
   "source": []
  },
  {
   "cell_type": "markdown",
   "metadata": {},
   "source": [
    "Na podstawie ramki z tego punktu utwórz wykres słupkowy osiągnięć medalowych dla dwudziestu pierwszych krajów z tabeli. Znów każdy kraj powinien mieć trzy słupki odpowiadające trzem rodzajom medali. Słupki powinny być **pionowe**. Sprawdź, do czego służy parametr `rot` w metodzie `.plot()`. Wykorzystaj go, aby zwiększyć czytelność. Dostosuj rozmiar rysunku."
   ]
  },
  {
   "cell_type": "code",
   "execution_count": null,
   "metadata": {},
   "outputs": [],
   "source": []
  }
 ],
 "metadata": {
  "colab": {
   "authorship_tag": "ABX9TyNvNSn1mool6tIM9f0Rwlfs",
   "collapsed_sections": [],
   "name": "bg_paradox.ipynb",
   "provenance": []
  },
  "kernelspec": {
   "display_name": "Python 3 (ipykernel)",
   "language": "python",
   "name": "python3"
  },
  "language_info": {
   "codemirror_mode": {
    "name": "ipython",
    "version": 3
   },
   "file_extension": ".py",
   "mimetype": "text/x-python",
   "name": "python",
   "nbconvert_exporter": "python",
   "pygments_lexer": "ipython3",
   "version": "3.9.13"
  }
 },
 "nbformat": 4,
 "nbformat_minor": 1
}
