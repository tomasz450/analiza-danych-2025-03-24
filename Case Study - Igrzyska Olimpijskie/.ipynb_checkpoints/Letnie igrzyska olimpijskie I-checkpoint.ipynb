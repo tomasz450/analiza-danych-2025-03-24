{
 "cells": [
  {
   "cell_type": "markdown",
   "metadata": {},
   "source": [
    "# Letnie igrzyska olimpijskie I\n",
    "\n",
    "Wykorzystujemy moduł Pandas do analizy dokumentu z dokonaniami medalowymi na letnich igrzyskach olimpijskich w latach 1976-2008. Plik z tabelą csv znajduje się na stronie \n",
    "[kaggle.](https://www.kaggle.com/divyansh22/summer-olympics-medals)\n",
    "\n",
    "## Przygotowanie"
   ]
  },
  {
   "cell_type": "code",
   "execution_count": 2,
   "metadata": {},
   "outputs": [],
   "source": [
    "import pandas as pd"
   ]
  },
  {
   "cell_type": "markdown",
   "metadata": {},
   "source": [
    "### Wczytanie danych\n",
    "\n",
    "UTF8 jest domyślnym kodowaniem w moim systemie operacyjnym. [Dokumentacja](https://pandas.pydata.org/pandas-docs/stable/reference/api/pandas.read_csv.html) nie mówi, jakiego kodowania używa `pd.read_csv()`, gdy brakuje parametru `encoding`. Przypuszczam, że podobnie jak dla `open()` wykorzystywane jest wtedy kodowanie ustawione jako domyślne w systemie operacyjnym. Na moim komputerze próba wczytania dokumentu bez parametru `encoding` i z `encoding='utf8'` prowadzi do wyjątku `UnicodeDecodeError`. Zatem albo dokument ma \"zepsute\" kodowanie UTF8 albo, co bardziej prawdopodobne, jego kodowanie jest inne. Ustawienie kodowania na zachodnioeuropejskie kodowanie MS Windows [cp1252](https://pl.wikipedia.org/wiki/Windows-1252) pozwala na wczytanie dokumentu bez wyjątku:"
   ]
  },
  {
   "cell_type": "code",
   "execution_count": 4,
   "metadata": {},
   "outputs": [
    {
     "data": {
      "text/html": [
       "<div>\n",
       "<style scoped>\n",
       "    .dataframe tbody tr th:only-of-type {\n",
       "        vertical-align: middle;\n",
       "    }\n",
       "\n",
       "    .dataframe tbody tr th {\n",
       "        vertical-align: top;\n",
       "    }\n",
       "\n",
       "    .dataframe thead th {\n",
       "        text-align: right;\n",
       "    }\n",
       "</style>\n",
       "<table border=\"1\" class=\"dataframe\">\n",
       "  <thead>\n",
       "    <tr style=\"text-align: right;\">\n",
       "      <th></th>\n",
       "      <th>City</th>\n",
       "      <th>Year</th>\n",
       "      <th>Sport</th>\n",
       "      <th>Discipline</th>\n",
       "      <th>Event</th>\n",
       "      <th>Athlete</th>\n",
       "      <th>Gender</th>\n",
       "      <th>Country_Code</th>\n",
       "      <th>Country</th>\n",
       "      <th>Event_gender</th>\n",
       "      <th>Medal</th>\n",
       "    </tr>\n",
       "  </thead>\n",
       "  <tbody>\n",
       "    <tr>\n",
       "      <th>0</th>\n",
       "      <td>Montreal</td>\n",
       "      <td>1976.0</td>\n",
       "      <td>Aquatics</td>\n",
       "      <td>Diving</td>\n",
       "      <td>3m springboard</td>\n",
       "      <td>KÖHLER, Christa</td>\n",
       "      <td>Women</td>\n",
       "      <td>GDR</td>\n",
       "      <td>East Germany</td>\n",
       "      <td>W</td>\n",
       "      <td>Silver</td>\n",
       "    </tr>\n",
       "    <tr>\n",
       "      <th>1</th>\n",
       "      <td>Montreal</td>\n",
       "      <td>1976.0</td>\n",
       "      <td>Aquatics</td>\n",
       "      <td>Diving</td>\n",
       "      <td>3m springboard</td>\n",
       "      <td>KOSENKOV, Aleksandr</td>\n",
       "      <td>Men</td>\n",
       "      <td>URS</td>\n",
       "      <td>Soviet Union</td>\n",
       "      <td>M</td>\n",
       "      <td>Bronze</td>\n",
       "    </tr>\n",
       "    <tr>\n",
       "      <th>2</th>\n",
       "      <td>Montreal</td>\n",
       "      <td>1976.0</td>\n",
       "      <td>Aquatics</td>\n",
       "      <td>Diving</td>\n",
       "      <td>3m springboard</td>\n",
       "      <td>BOGGS, Philip George</td>\n",
       "      <td>Men</td>\n",
       "      <td>USA</td>\n",
       "      <td>United States</td>\n",
       "      <td>M</td>\n",
       "      <td>Gold</td>\n",
       "    </tr>\n",
       "    <tr>\n",
       "      <th>3</th>\n",
       "      <td>Montreal</td>\n",
       "      <td>1976.0</td>\n",
       "      <td>Aquatics</td>\n",
       "      <td>Diving</td>\n",
       "      <td>3m springboard</td>\n",
       "      <td>CAGNOTTO, Giorgio Franco</td>\n",
       "      <td>Men</td>\n",
       "      <td>ITA</td>\n",
       "      <td>Italy</td>\n",
       "      <td>M</td>\n",
       "      <td>Silver</td>\n",
       "    </tr>\n",
       "    <tr>\n",
       "      <th>4</th>\n",
       "      <td>Montreal</td>\n",
       "      <td>1976.0</td>\n",
       "      <td>Aquatics</td>\n",
       "      <td>Diving</td>\n",
       "      <td>10m platform</td>\n",
       "      <td>WILSON, Deborah Keplar</td>\n",
       "      <td>Women</td>\n",
       "      <td>USA</td>\n",
       "      <td>United States</td>\n",
       "      <td>W</td>\n",
       "      <td>Bronze</td>\n",
       "    </tr>\n",
       "  </tbody>\n",
       "</table>\n",
       "</div>"
      ],
      "text/plain": [
       "       City    Year     Sport Discipline           Event  \\\n",
       "0  Montreal  1976.0  Aquatics     Diving  3m springboard   \n",
       "1  Montreal  1976.0  Aquatics     Diving  3m springboard   \n",
       "2  Montreal  1976.0  Aquatics     Diving  3m springboard   \n",
       "3  Montreal  1976.0  Aquatics     Diving  3m springboard   \n",
       "4  Montreal  1976.0  Aquatics     Diving    10m platform   \n",
       "\n",
       "                    Athlete Gender Country_Code        Country Event_gender  \\\n",
       "0           KÖHLER, Christa  Women          GDR   East Germany            W   \n",
       "1       KOSENKOV, Aleksandr    Men          URS   Soviet Union            M   \n",
       "2      BOGGS, Philip George    Men          USA  United States            M   \n",
       "3  CAGNOTTO, Giorgio Franco    Men          ITA          Italy            M   \n",
       "4    WILSON, Deborah Keplar  Women          USA  United States            W   \n",
       "\n",
       "    Medal  \n",
       "0  Silver  \n",
       "1  Bronze  \n",
       "2    Gold  \n",
       "3  Silver  \n",
       "4  Bronze  "
      ]
     },
     "execution_count": 4,
     "metadata": {},
     "output_type": "execute_result"
    }
   ],
   "source": [
    "olimp = pd.read_csv(r\"Summer-Olympic-medals-1976-to-2008.csv\", encoding='cp1252')\n",
    "olimp.head()"
   ]
  },
  {
   "cell_type": "markdown",
   "metadata": {},
   "source": [
    "Brak wyjątku nie dowodzi, że wybrane kodowanie jest poprawne. CP1252 jest prostym kodowaniem o stałej szerokości, gdzie pojedynczym bajtom przypisane są znaki, znaki kontrolne, lub ewentualnie nie jest przypisane nic. UTF8 jest kodowaniem o zmiennej szerokości, na jeden znak przypada od jeden do czterech bajtów, a sposób [mapowania znaków](https://pl.wikipedia.org/wiki/UTF-8#Spos%C3%B3b_kodowania) powoduje, że tekst zapisany w innym kodowaniu jest często niemożliwy do wczytania w UTF8. Tekst zapisany w kodowaniu innym niż cp1252 nie da się w tym kodowaniu odczytać (tzn. Python rzuci wyjątek), gdy tekst ten będzie zawierał bajty, które nie mają w tym kodowaniu przypisanej wartości. Z tabeli w linkowanej stronie widzimy, że takim bajtem jest np. `x81` czyli 129 dziesiętnie:"
   ]
  },
  {
   "cell_type": "code",
   "execution_count": 62,
   "metadata": {},
   "outputs": [
    {
     "data": {
      "text/plain": [
       "b'\\x81'"
      ]
     },
     "execution_count": 62,
     "metadata": {},
     "output_type": "execute_result"
    }
   ],
   "source": [
    "b = bytes([129])\n",
    "b"
   ]
  },
  {
   "cell_type": "code",
   "execution_count": 63,
   "metadata": {},
   "outputs": [
    {
     "ename": "UnicodeDecodeError",
     "evalue": "'charmap' codec can't decode byte 0x81 in position 0: character maps to <undefined>",
     "output_type": "error",
     "traceback": [
      "\u001b[1;31m---------------------------------------------------------------------------\u001b[0m",
      "\u001b[1;31mUnicodeDecodeError\u001b[0m                        Traceback (most recent call last)",
      "\u001b[1;32m~\\AppData\\Local\\Temp\\ipykernel_14408\\429745805.py\u001b[0m in \u001b[0;36m<module>\u001b[1;34m\u001b[0m\n\u001b[1;32m----> 1\u001b[1;33m \u001b[0mb\u001b[0m\u001b[1;33m.\u001b[0m\u001b[0mdecode\u001b[0m\u001b[1;33m(\u001b[0m\u001b[0mencoding\u001b[0m\u001b[1;33m=\u001b[0m\u001b[1;34m'cp1252'\u001b[0m\u001b[1;33m)\u001b[0m\u001b[1;33m\u001b[0m\u001b[1;33m\u001b[0m\u001b[0m\n\u001b[0m",
      "\u001b[1;32m~\\AppData\\Local\\Programs\\anaconda3\\lib\\encodings\\cp1252.py\u001b[0m in \u001b[0;36mdecode\u001b[1;34m(self, input, errors)\u001b[0m\n\u001b[0;32m     13\u001b[0m \u001b[1;33m\u001b[0m\u001b[0m\n\u001b[0;32m     14\u001b[0m     \u001b[1;32mdef\u001b[0m \u001b[0mdecode\u001b[0m\u001b[1;33m(\u001b[0m\u001b[0mself\u001b[0m\u001b[1;33m,\u001b[0m\u001b[0minput\u001b[0m\u001b[1;33m,\u001b[0m\u001b[0merrors\u001b[0m\u001b[1;33m=\u001b[0m\u001b[1;34m'strict'\u001b[0m\u001b[1;33m)\u001b[0m\u001b[1;33m:\u001b[0m\u001b[1;33m\u001b[0m\u001b[1;33m\u001b[0m\u001b[0m\n\u001b[1;32m---> 15\u001b[1;33m         \u001b[1;32mreturn\u001b[0m \u001b[0mcodecs\u001b[0m\u001b[1;33m.\u001b[0m\u001b[0mcharmap_decode\u001b[0m\u001b[1;33m(\u001b[0m\u001b[0minput\u001b[0m\u001b[1;33m,\u001b[0m\u001b[0merrors\u001b[0m\u001b[1;33m,\u001b[0m\u001b[0mdecoding_table\u001b[0m\u001b[1;33m)\u001b[0m\u001b[1;33m\u001b[0m\u001b[1;33m\u001b[0m\u001b[0m\n\u001b[0m\u001b[0;32m     16\u001b[0m \u001b[1;33m\u001b[0m\u001b[0m\n\u001b[0;32m     17\u001b[0m \u001b[1;32mclass\u001b[0m \u001b[0mIncrementalEncoder\u001b[0m\u001b[1;33m(\u001b[0m\u001b[0mcodecs\u001b[0m\u001b[1;33m.\u001b[0m\u001b[0mIncrementalEncoder\u001b[0m\u001b[1;33m)\u001b[0m\u001b[1;33m:\u001b[0m\u001b[1;33m\u001b[0m\u001b[1;33m\u001b[0m\u001b[0m\n",
      "\u001b[1;31mUnicodeDecodeError\u001b[0m: 'charmap' codec can't decode byte 0x81 in position 0: character maps to <undefined>"
     ]
    }
   ],
   "source": [
    "b.decode(encoding='cp1252')"
   ]
  },
  {
   "cell_type": "markdown",
   "metadata": {},
   "source": [
    "Jak widać, nasz dokument takich bajtów nie zawiera, więc spełniony jest warunek konieczny w wyborze kodowania. Tym niemniej w kodowaniu cp1250, czyli środkowoeuropejskim MS Windows, również wczytuje się bez wyjątku. Jeśli nie ma dokładnej informacji o kodowaniu dokumentu, to pozostaje metoda prób i błędów -- może jakiś nieprawidłowo kodowany znak zostanie dostrzeżony przypadkiem."
   ]
  },
  {
   "cell_type": "markdown",
   "metadata": {},
   "source": [
    "### Rozmiar\n",
    "\n",
    "Tabela zawiera 15433 wiersze i 11 kolumn:"
   ]
  },
  {
   "cell_type": "code",
   "execution_count": 5,
   "metadata": {},
   "outputs": [
    {
     "data": {
      "text/plain": [
       "(15433, 11)"
      ]
     },
     "execution_count": 5,
     "metadata": {},
     "output_type": "execute_result"
    }
   ],
   "source": [
    "olimp.shape"
   ]
  },
  {
   "cell_type": "markdown",
   "metadata": {},
   "source": [
    "### Braki w danych"
   ]
  },
  {
   "cell_type": "markdown",
   "metadata": {},
   "source": [
    "Metoda `.isnull()` (`.isna()` jest jej aliasem) zwraca ramkę/szereg z `True` dla wartości brakujących i `False` dla występujących. Liczba wszystkich wartości brakujących:"
   ]
  },
  {
   "cell_type": "code",
   "execution_count": 6,
   "metadata": {},
   "outputs": [
    {
     "data": {
      "text/plain": [
       "1287"
      ]
     },
     "execution_count": 6,
     "metadata": {},
     "output_type": "execute_result"
    }
   ],
   "source": [
    "olimp.isnull().sum().sum()"
   ]
  },
  {
   "cell_type": "markdown",
   "metadata": {},
   "source": [
    "Liczba wartości brakujących w każdej kolumnie osobno:"
   ]
  },
  {
   "cell_type": "code",
   "execution_count": 7,
   "metadata": {},
   "outputs": [
    {
     "data": {
      "text/plain": [
       "City            117\n",
       "Year            117\n",
       "Sport           117\n",
       "Discipline      117\n",
       "Event           117\n",
       "Athlete         117\n",
       "Gender          117\n",
       "Country_Code    117\n",
       "Country         117\n",
       "Event_gender    117\n",
       "Medal           117\n",
       "dtype: int64"
      ]
     },
     "execution_count": 7,
     "metadata": {},
     "output_type": "execute_result"
    }
   ],
   "source": [
    "olimp.isnull().sum()"
   ]
  },
  {
   "cell_type": "markdown",
   "metadata": {},
   "source": [
    "Ten wynik sugeruje, że w tabeli istnieją puste wiersze. Jest mało prawdopodobne, aby w każdej z 11 kolumn brakowało tyle samo wartości, a zarazem żeby braki nie występowały wspólnie.\n",
    "\n",
    "Liczba wierszy bez ani jednej brakującej wartości (czyli takie, w których wszystkie wartości faktycznie istnieją). Funkcje agregujące domyślnie wykonują agregacje w kolumnach, dlatego teraz potrzebujemy parametru `axis=1`:"
   ]
  },
  {
   "cell_type": "code",
   "execution_count": 8,
   "metadata": {},
   "outputs": [
    {
     "data": {
      "text/plain": [
       "15316"
      ]
     },
     "execution_count": 8,
     "metadata": {},
     "output_type": "execute_result"
    }
   ],
   "source": [
    "olimp.notnull().all(axis=1).sum()"
   ]
  },
  {
   "cell_type": "markdown",
   "metadata": {},
   "source": [
    "Liczba wierszy, w których występuje co najmniej jedna wartość, reszty może brakować. Mowa tu o nadzbiorze poprzedniej listy wierszy, ale wartość wypada taka sama. Wynika stąd, że wiersz który ma brak, ma w istocie brak na wszystkich pozycjach. "
   ]
  },
  {
   "cell_type": "code",
   "execution_count": 68,
   "metadata": {},
   "outputs": [
    {
     "data": {
      "text/plain": [
       "15316"
      ]
     },
     "execution_count": 68,
     "metadata": {},
     "output_type": "execute_result"
    }
   ],
   "source": [
    "olimp.notnull().any(axis=1).sum()"
   ]
  },
  {
   "cell_type": "markdown",
   "metadata": {},
   "source": [
    "Dla pewności sprawdźmy jeszcze, ile jest wierszy w 100% pustych:"
   ]
  },
  {
   "cell_type": "code",
   "execution_count": 9,
   "metadata": {},
   "outputs": [
    {
     "data": {
      "text/plain": [
       "117"
      ]
     },
     "execution_count": 9,
     "metadata": {},
     "output_type": "execute_result"
    }
   ],
   "source": [
    "olimp.isnull().all(axis=1).sum()"
   ]
  },
  {
   "cell_type": "markdown",
   "metadata": {},
   "source": [
    "Wyznaczamy wiersze bez wartości:"
   ]
  },
  {
   "cell_type": "code",
   "execution_count": 10,
   "metadata": {},
   "outputs": [
    {
     "data": {
      "text/plain": [
       "Index([770, 771, 772, 773, 774, 775, 776, 777, 778, 779,\n",
       "       ...\n",
       "       877, 878, 879, 880, 881, 882, 883, 884, 885, 886],\n",
       "      dtype='int64', length=117)"
      ]
     },
     "execution_count": 10,
     "metadata": {},
     "output_type": "execute_result"
    }
   ],
   "source": [
    "olimp[olimp.isnull().all(axis=1)].index"
   ]
  },
  {
   "cell_type": "markdown",
   "metadata": {},
   "source": [
    "Zróbmy podgląd 5 wierszy przed i za luką w danych:"
   ]
  },
  {
   "cell_type": "code",
   "execution_count": 11,
   "metadata": {},
   "outputs": [
    {
     "data": {
      "text/html": [
       "<div>\n",
       "<style scoped>\n",
       "    .dataframe tbody tr th:only-of-type {\n",
       "        vertical-align: middle;\n",
       "    }\n",
       "\n",
       "    .dataframe tbody tr th {\n",
       "        vertical-align: top;\n",
       "    }\n",
       "\n",
       "    .dataframe thead th {\n",
       "        text-align: right;\n",
       "    }\n",
       "</style>\n",
       "<table border=\"1\" class=\"dataframe\">\n",
       "  <thead>\n",
       "    <tr style=\"text-align: right;\">\n",
       "      <th></th>\n",
       "      <th>City</th>\n",
       "      <th>Year</th>\n",
       "      <th>Sport</th>\n",
       "      <th>Discipline</th>\n",
       "      <th>Event</th>\n",
       "      <th>Athlete</th>\n",
       "      <th>Gender</th>\n",
       "      <th>Country_Code</th>\n",
       "      <th>Country</th>\n",
       "      <th>Event_gender</th>\n",
       "      <th>Medal</th>\n",
       "    </tr>\n",
       "  </thead>\n",
       "  <tbody>\n",
       "    <tr>\n",
       "      <th>765</th>\n",
       "      <td>Montreal</td>\n",
       "      <td>1976.0</td>\n",
       "      <td>Handball</td>\n",
       "      <td>Handball</td>\n",
       "      <td>handball</td>\n",
       "      <td>COSMA, Adrian</td>\n",
       "      <td>Men</td>\n",
       "      <td>ROU</td>\n",
       "      <td>Romania</td>\n",
       "      <td>M</td>\n",
       "      <td>Silver</td>\n",
       "    </tr>\n",
       "    <tr>\n",
       "      <th>766</th>\n",
       "      <td>Montreal</td>\n",
       "      <td>1976.0</td>\n",
       "      <td>Handball</td>\n",
       "      <td>Handball</td>\n",
       "      <td>handball</td>\n",
       "      <td>RICHTER-HOCHMUT, Kristina</td>\n",
       "      <td>Women</td>\n",
       "      <td>GDR</td>\n",
       "      <td>East Germany</td>\n",
       "      <td>W</td>\n",
       "      <td>Silver</td>\n",
       "    </tr>\n",
       "    <tr>\n",
       "      <th>767</th>\n",
       "      <td>Montreal</td>\n",
       "      <td>1976.0</td>\n",
       "      <td>Handball</td>\n",
       "      <td>Handball</td>\n",
       "      <td>handball</td>\n",
       "      <td>ANPILOGOV, Aleksandr</td>\n",
       "      <td>Men</td>\n",
       "      <td>URS</td>\n",
       "      <td>Soviet Union</td>\n",
       "      <td>M</td>\n",
       "      <td>Gold</td>\n",
       "    </tr>\n",
       "    <tr>\n",
       "      <th>768</th>\n",
       "      <td>Montreal</td>\n",
       "      <td>1976.0</td>\n",
       "      <td>Handball</td>\n",
       "      <td>Handball</td>\n",
       "      <td>handball</td>\n",
       "      <td>PENU, Cornel</td>\n",
       "      <td>Men</td>\n",
       "      <td>ROU</td>\n",
       "      <td>Romania</td>\n",
       "      <td>M</td>\n",
       "      <td>Silver</td>\n",
       "    </tr>\n",
       "    <tr>\n",
       "      <th>769</th>\n",
       "      <td>Montreal</td>\n",
       "      <td>1976.0</td>\n",
       "      <td>Handball</td>\n",
       "      <td>Handball</td>\n",
       "      <td>handball</td>\n",
       "      <td>KRAVTSOV, Vladimir</td>\n",
       "      <td>Men</td>\n",
       "      <td>URS</td>\n",
       "      <td>Soviet Union</td>\n",
       "      <td>M</td>\n",
       "      <td>Gold</td>\n",
       "    </tr>\n",
       "    <tr>\n",
       "      <th>770</th>\n",
       "      <td>NaN</td>\n",
       "      <td>NaN</td>\n",
       "      <td>NaN</td>\n",
       "      <td>NaN</td>\n",
       "      <td>NaN</td>\n",
       "      <td>NaN</td>\n",
       "      <td>NaN</td>\n",
       "      <td>NaN</td>\n",
       "      <td>NaN</td>\n",
       "      <td>NaN</td>\n",
       "      <td>NaN</td>\n",
       "    </tr>\n",
       "  </tbody>\n",
       "</table>\n",
       "</div>"
      ],
      "text/plain": [
       "         City    Year     Sport Discipline     Event  \\\n",
       "765  Montreal  1976.0  Handball   Handball  handball   \n",
       "766  Montreal  1976.0  Handball   Handball  handball   \n",
       "767  Montreal  1976.0  Handball   Handball  handball   \n",
       "768  Montreal  1976.0  Handball   Handball  handball   \n",
       "769  Montreal  1976.0  Handball   Handball  handball   \n",
       "770       NaN     NaN       NaN        NaN       NaN   \n",
       "\n",
       "                       Athlete Gender Country_Code       Country Event_gender  \\\n",
       "765              COSMA, Adrian    Men          ROU       Romania            M   \n",
       "766  RICHTER-HOCHMUT, Kristina  Women          GDR  East Germany            W   \n",
       "767       ANPILOGOV, Aleksandr    Men          URS  Soviet Union            M   \n",
       "768               PENU, Cornel    Men          ROU       Romania            M   \n",
       "769         KRAVTSOV, Vladimir    Men          URS  Soviet Union            M   \n",
       "770                        NaN    NaN          NaN           NaN          NaN   \n",
       "\n",
       "      Medal  \n",
       "765  Silver  \n",
       "766  Silver  \n",
       "767    Gold  \n",
       "768  Silver  \n",
       "769    Gold  \n",
       "770     NaN  "
      ]
     },
     "execution_count": 11,
     "metadata": {},
     "output_type": "execute_result"
    }
   ],
   "source": [
    "olimp.loc[765:770, :]"
   ]
  },
  {
   "cell_type": "code",
   "execution_count": 12,
   "metadata": {},
   "outputs": [
    {
     "data": {
      "text/html": [
       "<div>\n",
       "<style scoped>\n",
       "    .dataframe tbody tr th:only-of-type {\n",
       "        vertical-align: middle;\n",
       "    }\n",
       "\n",
       "    .dataframe tbody tr th {\n",
       "        vertical-align: top;\n",
       "    }\n",
       "\n",
       "    .dataframe thead th {\n",
       "        text-align: right;\n",
       "    }\n",
       "</style>\n",
       "<table border=\"1\" class=\"dataframe\">\n",
       "  <thead>\n",
       "    <tr style=\"text-align: right;\">\n",
       "      <th></th>\n",
       "      <th>City</th>\n",
       "      <th>Year</th>\n",
       "      <th>Sport</th>\n",
       "      <th>Discipline</th>\n",
       "      <th>Event</th>\n",
       "      <th>Athlete</th>\n",
       "      <th>Gender</th>\n",
       "      <th>Country_Code</th>\n",
       "      <th>Country</th>\n",
       "      <th>Event_gender</th>\n",
       "      <th>Medal</th>\n",
       "    </tr>\n",
       "  </thead>\n",
       "  <tbody>\n",
       "    <tr>\n",
       "      <th>886</th>\n",
       "      <td>NaN</td>\n",
       "      <td>NaN</td>\n",
       "      <td>NaN</td>\n",
       "      <td>NaN</td>\n",
       "      <td>NaN</td>\n",
       "      <td>NaN</td>\n",
       "      <td>NaN</td>\n",
       "      <td>NaN</td>\n",
       "      <td>NaN</td>\n",
       "      <td>NaN</td>\n",
       "      <td>NaN</td>\n",
       "    </tr>\n",
       "    <tr>\n",
       "      <th>887</th>\n",
       "      <td>Montreal</td>\n",
       "      <td>1976.0</td>\n",
       "      <td>Handball</td>\n",
       "      <td>Handball</td>\n",
       "      <td>handball</td>\n",
       "      <td>ISHCHENKO, Mikhail</td>\n",
       "      <td>Men</td>\n",
       "      <td>URS</td>\n",
       "      <td>Soviet Union</td>\n",
       "      <td>M</td>\n",
       "      <td>Gold</td>\n",
       "    </tr>\n",
       "    <tr>\n",
       "      <th>888</th>\n",
       "      <td>Montreal</td>\n",
       "      <td>1976.0</td>\n",
       "      <td>Handball</td>\n",
       "      <td>Handball</td>\n",
       "      <td>handball</td>\n",
       "      <td>BUROSCH, Hannelore</td>\n",
       "      <td>Women</td>\n",
       "      <td>GDR</td>\n",
       "      <td>East Germany</td>\n",
       "      <td>W</td>\n",
       "      <td>Silver</td>\n",
       "    </tr>\n",
       "    <tr>\n",
       "      <th>889</th>\n",
       "      <td>Montreal</td>\n",
       "      <td>1976.0</td>\n",
       "      <td>Handball</td>\n",
       "      <td>Handball</td>\n",
       "      <td>handball</td>\n",
       "      <td>BOBRUS-PARADNIK, Liudmila</td>\n",
       "      <td>Women</td>\n",
       "      <td>URS</td>\n",
       "      <td>Soviet Union</td>\n",
       "      <td>W</td>\n",
       "      <td>Gold</td>\n",
       "    </tr>\n",
       "    <tr>\n",
       "      <th>890</th>\n",
       "      <td>Montreal</td>\n",
       "      <td>1976.0</td>\n",
       "      <td>Handball</td>\n",
       "      <td>Handball</td>\n",
       "      <td>handball</td>\n",
       "      <td>ILYIN, Vasili</td>\n",
       "      <td>Men</td>\n",
       "      <td>URS</td>\n",
       "      <td>Soviet Union</td>\n",
       "      <td>M</td>\n",
       "      <td>Gold</td>\n",
       "    </tr>\n",
       "    <tr>\n",
       "      <th>891</th>\n",
       "      <td>Montreal</td>\n",
       "      <td>1976.0</td>\n",
       "      <td>Handball</td>\n",
       "      <td>Handball</td>\n",
       "      <td>handball</td>\n",
       "      <td>REZANOV, Aleksandr</td>\n",
       "      <td>Men</td>\n",
       "      <td>URS</td>\n",
       "      <td>Soviet Union</td>\n",
       "      <td>M</td>\n",
       "      <td>Gold</td>\n",
       "    </tr>\n",
       "  </tbody>\n",
       "</table>\n",
       "</div>"
      ],
      "text/plain": [
       "         City    Year     Sport Discipline     Event  \\\n",
       "886       NaN     NaN       NaN        NaN       NaN   \n",
       "887  Montreal  1976.0  Handball   Handball  handball   \n",
       "888  Montreal  1976.0  Handball   Handball  handball   \n",
       "889  Montreal  1976.0  Handball   Handball  handball   \n",
       "890  Montreal  1976.0  Handball   Handball  handball   \n",
       "891  Montreal  1976.0  Handball   Handball  handball   \n",
       "\n",
       "                       Athlete Gender Country_Code       Country Event_gender  \\\n",
       "886                        NaN    NaN          NaN           NaN          NaN   \n",
       "887         ISHCHENKO, Mikhail    Men          URS  Soviet Union            M   \n",
       "888         BUROSCH, Hannelore  Women          GDR  East Germany            W   \n",
       "889  BOBRUS-PARADNIK, Liudmila  Women          URS  Soviet Union            W   \n",
       "890              ILYIN, Vasili    Men          URS  Soviet Union            M   \n",
       "891         REZANOV, Aleksandr    Men          URS  Soviet Union            M   \n",
       "\n",
       "      Medal  \n",
       "886     NaN  \n",
       "887    Gold  \n",
       "888  Silver  \n",
       "889    Gold  \n",
       "890    Gold  \n",
       "891    Gold  "
      ]
     },
     "execution_count": 12,
     "metadata": {},
     "output_type": "execute_result"
    }
   ],
   "source": [
    "olimp.loc[886:891, :]"
   ]
  },
  {
   "cell_type": "markdown",
   "metadata": {},
   "source": [
    "Puste wiersze możemy bez szkody usunąć, ale zanim to zrobimy, sprawdźmy ile mamy wszystkich faktycznych wartości (*non-missing*):"
   ]
  },
  {
   "cell_type": "code",
   "execution_count": 13,
   "metadata": {},
   "outputs": [
    {
     "data": {
      "text/plain": [
       "168476"
      ]
     },
     "execution_count": 13,
     "metadata": {},
     "output_type": "execute_result"
    }
   ],
   "source": [
    "olimp.notnull().sum().sum()"
   ]
  },
  {
   "cell_type": "markdown",
   "metadata": {},
   "source": [
    "Usuwamy w miejscu:"
   ]
  },
  {
   "cell_type": "code",
   "execution_count": 14,
   "metadata": {},
   "outputs": [],
   "source": [
    "olimp.dropna(inplace=True)"
   ]
  },
  {
   "cell_type": "markdown",
   "metadata": {},
   "source": [
    "I znów zliczamy non-missing. Uzyskujemy ten sam wynik, czyli nie usunęliśmy żadnej występującej wartości:"
   ]
  },
  {
   "cell_type": "code",
   "execution_count": 15,
   "metadata": {},
   "outputs": [
    {
     "data": {
      "text/plain": [
       "168476"
      ]
     },
     "execution_count": 15,
     "metadata": {},
     "output_type": "execute_result"
    }
   ],
   "source": [
    "olimp.notnull().sum().sum()"
   ]
  },
  {
   "cell_type": "markdown",
   "metadata": {},
   "source": [
    "Rozmiar nieznacznie zmalał:"
   ]
  },
  {
   "cell_type": "code",
   "execution_count": 16,
   "metadata": {},
   "outputs": [
    {
     "data": {
      "text/plain": [
       "(15316, 11)"
      ]
     },
     "execution_count": 16,
     "metadata": {},
     "output_type": "execute_result"
    }
   ],
   "source": [
    "olimp.shape"
   ]
  },
  {
   "cell_type": "markdown",
   "metadata": {},
   "source": [
    "### Typy danych"
   ]
  },
  {
   "cell_type": "code",
   "execution_count": 18,
   "metadata": {},
   "outputs": [
    {
     "data": {
      "text/html": [
       "<div>\n",
       "<style scoped>\n",
       "    .dataframe tbody tr th:only-of-type {\n",
       "        vertical-align: middle;\n",
       "    }\n",
       "\n",
       "    .dataframe tbody tr th {\n",
       "        vertical-align: top;\n",
       "    }\n",
       "\n",
       "    .dataframe thead th {\n",
       "        text-align: right;\n",
       "    }\n",
       "</style>\n",
       "<table border=\"1\" class=\"dataframe\">\n",
       "  <thead>\n",
       "    <tr style=\"text-align: right;\">\n",
       "      <th></th>\n",
       "      <th>City</th>\n",
       "      <th>Year</th>\n",
       "      <th>Sport</th>\n",
       "      <th>Discipline</th>\n",
       "      <th>Event</th>\n",
       "      <th>Athlete</th>\n",
       "      <th>Gender</th>\n",
       "      <th>Country_Code</th>\n",
       "      <th>Country</th>\n",
       "      <th>Event_gender</th>\n",
       "      <th>Medal</th>\n",
       "    </tr>\n",
       "  </thead>\n",
       "  <tbody>\n",
       "    <tr>\n",
       "      <th>0</th>\n",
       "      <td>Montreal</td>\n",
       "      <td>1976.0</td>\n",
       "      <td>Aquatics</td>\n",
       "      <td>Diving</td>\n",
       "      <td>3m springboard</td>\n",
       "      <td>KÖHLER, Christa</td>\n",
       "      <td>Women</td>\n",
       "      <td>GDR</td>\n",
       "      <td>East Germany</td>\n",
       "      <td>W</td>\n",
       "      <td>Silver</td>\n",
       "    </tr>\n",
       "    <tr>\n",
       "      <th>1</th>\n",
       "      <td>Montreal</td>\n",
       "      <td>1976.0</td>\n",
       "      <td>Aquatics</td>\n",
       "      <td>Diving</td>\n",
       "      <td>3m springboard</td>\n",
       "      <td>KOSENKOV, Aleksandr</td>\n",
       "      <td>Men</td>\n",
       "      <td>URS</td>\n",
       "      <td>Soviet Union</td>\n",
       "      <td>M</td>\n",
       "      <td>Bronze</td>\n",
       "    </tr>\n",
       "    <tr>\n",
       "      <th>2</th>\n",
       "      <td>Montreal</td>\n",
       "      <td>1976.0</td>\n",
       "      <td>Aquatics</td>\n",
       "      <td>Diving</td>\n",
       "      <td>3m springboard</td>\n",
       "      <td>BOGGS, Philip George</td>\n",
       "      <td>Men</td>\n",
       "      <td>USA</td>\n",
       "      <td>United States</td>\n",
       "      <td>M</td>\n",
       "      <td>Gold</td>\n",
       "    </tr>\n",
       "    <tr>\n",
       "      <th>3</th>\n",
       "      <td>Montreal</td>\n",
       "      <td>1976.0</td>\n",
       "      <td>Aquatics</td>\n",
       "      <td>Diving</td>\n",
       "      <td>3m springboard</td>\n",
       "      <td>CAGNOTTO, Giorgio Franco</td>\n",
       "      <td>Men</td>\n",
       "      <td>ITA</td>\n",
       "      <td>Italy</td>\n",
       "      <td>M</td>\n",
       "      <td>Silver</td>\n",
       "    </tr>\n",
       "    <tr>\n",
       "      <th>4</th>\n",
       "      <td>Montreal</td>\n",
       "      <td>1976.0</td>\n",
       "      <td>Aquatics</td>\n",
       "      <td>Diving</td>\n",
       "      <td>10m platform</td>\n",
       "      <td>WILSON, Deborah Keplar</td>\n",
       "      <td>Women</td>\n",
       "      <td>USA</td>\n",
       "      <td>United States</td>\n",
       "      <td>W</td>\n",
       "      <td>Bronze</td>\n",
       "    </tr>\n",
       "    <tr>\n",
       "      <th>...</th>\n",
       "      <td>...</td>\n",
       "      <td>...</td>\n",
       "      <td>...</td>\n",
       "      <td>...</td>\n",
       "      <td>...</td>\n",
       "      <td>...</td>\n",
       "      <td>...</td>\n",
       "      <td>...</td>\n",
       "      <td>...</td>\n",
       "      <td>...</td>\n",
       "      <td>...</td>\n",
       "    </tr>\n",
       "    <tr>\n",
       "      <th>15428</th>\n",
       "      <td>Beijing</td>\n",
       "      <td>2008.0</td>\n",
       "      <td>Wrestling</td>\n",
       "      <td>Wrestling Gre-R</td>\n",
       "      <td>66 - 74kg</td>\n",
       "      <td>GUENOT, Christophe</td>\n",
       "      <td>Men</td>\n",
       "      <td>FRA</td>\n",
       "      <td>France</td>\n",
       "      <td>M</td>\n",
       "      <td>Bronze</td>\n",
       "    </tr>\n",
       "    <tr>\n",
       "      <th>15429</th>\n",
       "      <td>Beijing</td>\n",
       "      <td>2008.0</td>\n",
       "      <td>Wrestling</td>\n",
       "      <td>Wrestling Gre-R</td>\n",
       "      <td>66 - 74kg</td>\n",
       "      <td>KVIRKELIA, Manuchar</td>\n",
       "      <td>Men</td>\n",
       "      <td>GEO</td>\n",
       "      <td>Georgia</td>\n",
       "      <td>M</td>\n",
       "      <td>Gold</td>\n",
       "    </tr>\n",
       "    <tr>\n",
       "      <th>15430</th>\n",
       "      <td>Beijing</td>\n",
       "      <td>2008.0</td>\n",
       "      <td>Wrestling</td>\n",
       "      <td>Wrestling Gre-R</td>\n",
       "      <td>55 - 60kg</td>\n",
       "      <td>RAHIMOV, Vitaliy</td>\n",
       "      <td>Men</td>\n",
       "      <td>AZE</td>\n",
       "      <td>Azerbaijan</td>\n",
       "      <td>M</td>\n",
       "      <td>Silver</td>\n",
       "    </tr>\n",
       "    <tr>\n",
       "      <th>15431</th>\n",
       "      <td>Beijing</td>\n",
       "      <td>2008.0</td>\n",
       "      <td>Wrestling</td>\n",
       "      <td>Wrestling Gre-R</td>\n",
       "      <td>60 - 66kg</td>\n",
       "      <td>GUENOT, Steeve</td>\n",
       "      <td>Men</td>\n",
       "      <td>FRA</td>\n",
       "      <td>France</td>\n",
       "      <td>M</td>\n",
       "      <td>Gold</td>\n",
       "    </tr>\n",
       "    <tr>\n",
       "      <th>15432</th>\n",
       "      <td>Beijing</td>\n",
       "      <td>2008.0</td>\n",
       "      <td>Wrestling</td>\n",
       "      <td>Wrestling Gre-R</td>\n",
       "      <td>96 - 120kg</td>\n",
       "      <td>LOPEZ, Mijain</td>\n",
       "      <td>Men</td>\n",
       "      <td>CUB</td>\n",
       "      <td>Cuba</td>\n",
       "      <td>M</td>\n",
       "      <td>Gold</td>\n",
       "    </tr>\n",
       "  </tbody>\n",
       "</table>\n",
       "<p>15316 rows × 11 columns</p>\n",
       "</div>"
      ],
      "text/plain": [
       "           City    Year      Sport       Discipline           Event  \\\n",
       "0      Montreal  1976.0   Aquatics           Diving  3m springboard   \n",
       "1      Montreal  1976.0   Aquatics           Diving  3m springboard   \n",
       "2      Montreal  1976.0   Aquatics           Diving  3m springboard   \n",
       "3      Montreal  1976.0   Aquatics           Diving  3m springboard   \n",
       "4      Montreal  1976.0   Aquatics           Diving    10m platform   \n",
       "...         ...     ...        ...              ...             ...   \n",
       "15428   Beijing  2008.0  Wrestling  Wrestling Gre-R       66 - 74kg   \n",
       "15429   Beijing  2008.0  Wrestling  Wrestling Gre-R       66 - 74kg   \n",
       "15430   Beijing  2008.0  Wrestling  Wrestling Gre-R       55 - 60kg   \n",
       "15431   Beijing  2008.0  Wrestling  Wrestling Gre-R       60 - 66kg   \n",
       "15432   Beijing  2008.0  Wrestling  Wrestling Gre-R      96 - 120kg   \n",
       "\n",
       "                        Athlete Gender Country_Code        Country  \\\n",
       "0               KÖHLER, Christa  Women          GDR   East Germany   \n",
       "1           KOSENKOV, Aleksandr    Men          URS   Soviet Union   \n",
       "2          BOGGS, Philip George    Men          USA  United States   \n",
       "3      CAGNOTTO, Giorgio Franco    Men          ITA          Italy   \n",
       "4        WILSON, Deborah Keplar  Women          USA  United States   \n",
       "...                         ...    ...          ...            ...   \n",
       "15428        GUENOT, Christophe    Men          FRA         France   \n",
       "15429       KVIRKELIA, Manuchar    Men          GEO        Georgia   \n",
       "15430          RAHIMOV, Vitaliy    Men          AZE     Azerbaijan   \n",
       "15431            GUENOT, Steeve    Men          FRA         France   \n",
       "15432             LOPEZ, Mijain    Men          CUB           Cuba   \n",
       "\n",
       "      Event_gender   Medal  \n",
       "0                W  Silver  \n",
       "1                M  Bronze  \n",
       "2                M    Gold  \n",
       "3                M  Silver  \n",
       "4                W  Bronze  \n",
       "...            ...     ...  \n",
       "15428            M  Bronze  \n",
       "15429            M    Gold  \n",
       "15430            M  Silver  \n",
       "15431            M    Gold  \n",
       "15432            M    Gold  \n",
       "\n",
       "[15316 rows x 11 columns]"
      ]
     },
     "execution_count": 18,
     "metadata": {},
     "output_type": "execute_result"
    }
   ],
   "source": [
    "olimp"
   ]
  },
  {
   "cell_type": "code",
   "execution_count": 17,
   "metadata": {},
   "outputs": [
    {
     "data": {
      "text/plain": [
       "City             object\n",
       "Year            float64\n",
       "Sport            object\n",
       "Discipline       object\n",
       "Event            object\n",
       "Athlete          object\n",
       "Gender           object\n",
       "Country_Code     object\n",
       "Country          object\n",
       "Event_gender     object\n",
       "Medal            object\n",
       "dtype: object"
      ]
     },
     "execution_count": 17,
     "metadata": {},
     "output_type": "execute_result"
    }
   ],
   "source": [
    "olimp.dtypes"
   ]
  },
  {
   "cell_type": "markdown",
   "metadata": {},
   "source": [
    "Okazuje się, że kolumna `Year` ma wartości typu float. Dlaczego? Gdyż były w niej braki, które zostały zastąpione przez `NaN`, a to jest wartość zmiennoprzecinkowa. Ponieważ wszystkie braki usunęliśmy (co nie zawsze jest możliwe), więc typ tego atrybutu możemy zamienić na bardziej odpowiedni:"
   ]
  },
  {
   "cell_type": "code",
   "execution_count": 19,
   "metadata": {},
   "outputs": [
    {
     "data": {
      "text/plain": [
       "City            object\n",
       "Year             int32\n",
       "Sport           object\n",
       "Discipline      object\n",
       "Event           object\n",
       "Athlete         object\n",
       "Gender          object\n",
       "Country_Code    object\n",
       "Country         object\n",
       "Event_gender    object\n",
       "Medal           object\n",
       "dtype: object"
      ]
     },
     "execution_count": 19,
     "metadata": {},
     "output_type": "execute_result"
    }
   ],
   "source": [
    "olimp.Year = olimp.Year.astype('int')\n",
    "olimp.dtypes"
   ]
  },
  {
   "cell_type": "markdown",
   "metadata": {},
   "source": [
    "Wszystkie łańcuchy znaków są typu `object`, czyli są traktowane jako ogólne obiekty Pythona. Fakt, że atrybut jest typu `object` oznacza, że operacje na nim będą wykonywane na poziomie Pythona, a więc mało wydajnie. Oto przykład z PDSH:"
   ]
  },
  {
   "cell_type": "code",
   "execution_count": 95,
   "metadata": {},
   "outputs": [],
   "source": [
    "# import numpy as np\n",
    "\n",
    "# for dtype in ['object', 'int']:\n",
    "#     print(\"dtype =\", dtype)\n",
    "#     %timeit np.arange(1E6, dtype=dtype).sum()\n",
    "#     print()"
   ]
  },
  {
   "cell_type": "markdown",
   "metadata": {},
   "source": [
    "Liczby względnie łatwo zamienia się wewnętrznie na jednorodną tablicę w stylu C, w tym celu wystarczy oszcować ile bajtów każda z liczb zajmie. Z łańcuchami znaków już tak prosto nie jest, gdyż łańcuchy znaków same stanowią typ tablicowy. Jeśli posiadasz wersję Pandas < 1.0, to typ `object` dla łańcuchów jest jedyną opcją. Natomiast Pandas 1.0 wprowadza (na razie ze statusem *experimental*) nowy [typ tablicowy do obsługi tekstu](https://pandas.pydata.org/pandas-docs/stable/user_guide/text.html).\n",
    "\n",
    "Jeśli masz wcześniejszą wersję Pandas, to pozostań przy typie `object`, ja niżej przetestuję nowy typ `string`.\n",
    "\n",
    "Wartości brakujące (na razie tylko w łańcuchach) są zastępowane przez nowy natywny w Pandas typ `pd.NA`:"
   ]
  },
  {
   "cell_type": "code",
   "execution_count": 96,
   "metadata": {},
   "outputs": [],
   "source": [
    "# s = pd.Series([\"a\", None, \"b\"], dtype=\"string\")\n",
    "# s"
   ]
  },
  {
   "cell_type": "markdown",
   "metadata": {},
   "source": [
    "W ramce `olimp` wszystkie kolumny typu `object` zawierają dane tekstowe, to umożliwia zrzutowanie ich na typ `string`:"
   ]
  },
  {
   "cell_type": "code",
   "execution_count": 94,
   "metadata": {},
   "outputs": [],
   "source": [
    "# typy = olimp.dtypes == 'object'\n",
    "# typy"
   ]
  },
  {
   "cell_type": "code",
   "execution_count": 93,
   "metadata": {},
   "outputs": [],
   "source": [
    "#olimp.dtypes"
   ]
  },
  {
   "cell_type": "code",
   "execution_count": 92,
   "metadata": {},
   "outputs": [],
   "source": [
    "#olimp.loc[:, typy].columns"
   ]
  },
  {
   "cell_type": "code",
   "execution_count": 91,
   "metadata": {},
   "outputs": [],
   "source": [
    "#olimp[olimp.loc[:, typy].columns] = olimp[olimp.loc[:, typy].columns].apply(lambda x: x.astype('string'))"
   ]
  },
  {
   "cell_type": "code",
   "execution_count": 90,
   "metadata": {},
   "outputs": [],
   "source": [
    "#olimp.dtypes"
   ]
  },
  {
   "cell_type": "code",
   "execution_count": 24,
   "metadata": {},
   "outputs": [],
   "source": [
    "#olimp['City'] = olimp['City'].astype(dtype='string')"
   ]
  },
  {
   "cell_type": "code",
   "execution_count": 25,
   "metadata": {},
   "outputs": [],
   "source": [
    "# olimp.loc[:, typy] = olimp.loc[:, typy].astype(dtype='string')\n",
    "# olimp.dtypes"
   ]
  },
  {
   "cell_type": "markdown",
   "metadata": {},
   "source": [
    "### Serializacja\n",
    "\n",
    "Zapiszmy efekty do pliku, dzięki temu unikniemy powtarzania przygotowawczych operacji przy kolejnych analizach.\n",
    "\n",
    "Nasz zbiór danych jest bardzo mały, więc nie ma wielkiej różnicy w jakim formacie dokonamy zapisu. Warto jednak, zbyś zdawał sobie sprawę, że istnieje tu wiele różnych możliwości. Zajrzyj do oficjalnej dokumentacji [IO guide](https://pandas.pydata.org/pandas-docs/stable/user_guide/io.html). A [tutaj](https://towardsdatascience.com/the-best-format-to-save-pandas-data-414dca023e0d) dokonano porównania różnych formatów.\n",
    "\n",
    "Zapis do natywnego dla Pythona formatu *pickle*:"
   ]
  },
  {
   "cell_type": "code",
   "execution_count": 22,
   "metadata": {},
   "outputs": [
    {
     "data": {
      "text/plain": [
       "City            0\n",
       "Year            0\n",
       "Sport           0\n",
       "Discipline      0\n",
       "Event           0\n",
       "Athlete         0\n",
       "Gender          0\n",
       "Country_Code    0\n",
       "Country         0\n",
       "Event_gender    0\n",
       "Medal           0\n",
       "dtype: int64"
      ]
     },
     "execution_count": 22,
     "metadata": {},
     "output_type": "execute_result"
    }
   ],
   "source": [
    "olimp.isna().sum()"
   ]
  },
  {
   "cell_type": "code",
   "execution_count": null,
   "metadata": {},
   "outputs": [],
   "source": []
  },
  {
   "cell_type": "code",
   "execution_count": null,
   "metadata": {},
   "outputs": [],
   "source": []
  },
  {
   "cell_type": "code",
   "execution_count": 97,
   "metadata": {},
   "outputs": [],
   "source": [
    "olimp.to_pickle(r'summer_1976_2008.pkl')"
   ]
  },
  {
   "cell_type": "markdown",
   "metadata": {},
   "source": [
    "## Kilka prostych pytań"
   ]
  },
  {
   "cell_type": "markdown",
   "metadata": {},
   "source": [
    "Lata, w których organizowano letnie igrzyska olimpijskie zebrane w bazie:"
   ]
  },
  {
   "cell_type": "code",
   "execution_count": 23,
   "metadata": {},
   "outputs": [
    {
     "data": {
      "text/plain": [
       "array([1976, 1980, 1984, 1988, 1992, 1996, 2000, 2004, 2008])"
      ]
     },
     "execution_count": 23,
     "metadata": {},
     "output_type": "execute_result"
    }
   ],
   "source": [
    "olimp.Year.unique()"
   ]
  },
  {
   "cell_type": "code",
   "execution_count": 24,
   "metadata": {},
   "outputs": [
    {
     "data": {
      "text/plain": [
       "9"
      ]
     },
     "execution_count": 24,
     "metadata": {},
     "output_type": "execute_result"
    }
   ],
   "source": [
    "olimp.Year.unique().size"
   ]
  },
  {
   "cell_type": "markdown",
   "metadata": {},
   "source": [
    "Miasto organizatora:"
   ]
  },
  {
   "cell_type": "code",
   "execution_count": 25,
   "metadata": {},
   "outputs": [
    {
     "data": {
      "text/plain": [
       "array(['Montreal', 'Moscow', 'Los Angeles', 'Seoul', 'Barcelona',\n",
       "       'Atlanta', 'Sydney', 'Athens', 'Beijing'], dtype=object)"
      ]
     },
     "execution_count": 25,
     "metadata": {},
     "output_type": "execute_result"
    }
   ],
   "source": [
    "olimp.City.unique()"
   ]
  },
  {
   "cell_type": "markdown",
   "metadata": {},
   "source": [
    "Liczba krajów, które brały udział w przynajmniej jednych igrzyskach. Szereg typu `string` nie ma atrybutu `.size`, wykorzystujemy `.shape` zamiast tego:"
   ]
  },
  {
   "cell_type": "code",
   "execution_count": 26,
   "metadata": {},
   "outputs": [
    {
     "data": {
      "text/plain": [
       "(128,)"
      ]
     },
     "execution_count": 26,
     "metadata": {},
     "output_type": "execute_result"
    }
   ],
   "source": [
    "olimp.Country_Code.unique().shape"
   ]
  },
  {
   "cell_type": "markdown",
   "metadata": {},
   "source": [
    "Wszystkie kategorie sportowe:"
   ]
  },
  {
   "cell_type": "code",
   "execution_count": 27,
   "metadata": {},
   "outputs": [
    {
     "data": {
      "text/plain": [
       "array(['Aquatics', 'Archery', 'Athletics', 'Basketball', 'Boxing',\n",
       "       'Canoe / Kayak', 'Cycling', 'Equestrian', 'Fencing', 'Football',\n",
       "       'Gymnastics', 'Handball', 'Hockey', 'Judo', 'Modern Pentathlon',\n",
       "       'Rowing', 'Sailing', 'Shooting', 'Volleyball', 'Weightlifting',\n",
       "       'Wrestling', 'Table Tennis', 'Tennis', 'Badminton', 'Baseball',\n",
       "       'Softball', 'Taekwondo', 'Triathlon'], dtype=object)"
      ]
     },
     "execution_count": 27,
     "metadata": {},
     "output_type": "execute_result"
    }
   ],
   "source": [
    "olimp.Sport.unique()"
   ]
  },
  {
   "cell_type": "markdown",
   "metadata": {},
   "source": [
    "Liczba dyscyplin:"
   ]
  },
  {
   "cell_type": "code",
   "execution_count": 28,
   "metadata": {},
   "outputs": [
    {
     "data": {
      "text/plain": [
       "(41,)"
      ]
     },
     "execution_count": 28,
     "metadata": {},
     "output_type": "execute_result"
    }
   ],
   "source": [
    "olimp.Discipline.unique().shape"
   ]
  },
  {
   "cell_type": "markdown",
   "metadata": {},
   "source": [
    "Liczba zdobytych medali. Metodą `.groupby()` tworzymy grupy względem rodzaju medalu, następnie agregujemy wynik metodą `.size()` zwracającą liczbę wartości w każdej z grup:"
   ]
  },
  {
   "cell_type": "code",
   "execution_count": 29,
   "metadata": {},
   "outputs": [
    {
     "data": {
      "text/plain": [
       "Medal\n",
       "Bronze    5258\n",
       "Gold      5042\n",
       "Silver    5016\n",
       "dtype: int64"
      ]
     },
     "execution_count": 29,
     "metadata": {},
     "output_type": "execute_result"
    }
   ],
   "source": [
    "olimp.groupby('Medal').size()"
   ]
  },
  {
   "cell_type": "markdown",
   "metadata": {},
   "source": [
    "Liczba medali zdobytych podczas igrzysk w Seulu. To samo grupowanie, tyle że na selekcji:"
   ]
  },
  {
   "cell_type": "code",
   "execution_count": 31,
   "metadata": {},
   "outputs": [
    {
     "data": {
      "text/html": [
       "<div>\n",
       "<style scoped>\n",
       "    .dataframe tbody tr th:only-of-type {\n",
       "        vertical-align: middle;\n",
       "    }\n",
       "\n",
       "    .dataframe tbody tr th {\n",
       "        vertical-align: top;\n",
       "    }\n",
       "\n",
       "    .dataframe thead th {\n",
       "        text-align: right;\n",
       "    }\n",
       "</style>\n",
       "<table border=\"1\" class=\"dataframe\">\n",
       "  <thead>\n",
       "    <tr style=\"text-align: right;\">\n",
       "      <th></th>\n",
       "      <th>City</th>\n",
       "      <th>Year</th>\n",
       "      <th>Sport</th>\n",
       "      <th>Discipline</th>\n",
       "      <th>Event</th>\n",
       "      <th>Athlete</th>\n",
       "      <th>Gender</th>\n",
       "      <th>Country_Code</th>\n",
       "      <th>Country</th>\n",
       "      <th>Event_gender</th>\n",
       "      <th>Medal</th>\n",
       "    </tr>\n",
       "  </thead>\n",
       "  <tbody>\n",
       "    <tr>\n",
       "      <th>4268</th>\n",
       "      <td>Seoul</td>\n",
       "      <td>1988</td>\n",
       "      <td>Aquatics</td>\n",
       "      <td>Diving</td>\n",
       "      <td>3m springboard</td>\n",
       "      <td>TAN, Liang-De</td>\n",
       "      <td>Men</td>\n",
       "      <td>CHN</td>\n",
       "      <td>China</td>\n",
       "      <td>M</td>\n",
       "      <td>Silver</td>\n",
       "    </tr>\n",
       "    <tr>\n",
       "      <th>4269</th>\n",
       "      <td>Seoul</td>\n",
       "      <td>1988</td>\n",
       "      <td>Aquatics</td>\n",
       "      <td>Diving</td>\n",
       "      <td>3m springboard</td>\n",
       "      <td>GAO, Min</td>\n",
       "      <td>Women</td>\n",
       "      <td>CHN</td>\n",
       "      <td>China</td>\n",
       "      <td>W</td>\n",
       "      <td>Gold</td>\n",
       "    </tr>\n",
       "    <tr>\n",
       "      <th>4270</th>\n",
       "      <td>Seoul</td>\n",
       "      <td>1988</td>\n",
       "      <td>Aquatics</td>\n",
       "      <td>Diving</td>\n",
       "      <td>10m platform</td>\n",
       "      <td>MENA CAMPOS, Jesus</td>\n",
       "      <td>Men</td>\n",
       "      <td>MEX</td>\n",
       "      <td>Mexico</td>\n",
       "      <td>M</td>\n",
       "      <td>Bronze</td>\n",
       "    </tr>\n",
       "    <tr>\n",
       "      <th>4271</th>\n",
       "      <td>Seoul</td>\n",
       "      <td>1988</td>\n",
       "      <td>Aquatics</td>\n",
       "      <td>Diving</td>\n",
       "      <td>3m springboard</td>\n",
       "      <td>LI, De-Liang</td>\n",
       "      <td>Men</td>\n",
       "      <td>CHN</td>\n",
       "      <td>China</td>\n",
       "      <td>M</td>\n",
       "      <td>Bronze</td>\n",
       "    </tr>\n",
       "    <tr>\n",
       "      <th>4272</th>\n",
       "      <td>Seoul</td>\n",
       "      <td>1988</td>\n",
       "      <td>Aquatics</td>\n",
       "      <td>Diving</td>\n",
       "      <td>3m springboard</td>\n",
       "      <td>MCCORMICK, Kelly Anne</td>\n",
       "      <td>Women</td>\n",
       "      <td>USA</td>\n",
       "      <td>United States</td>\n",
       "      <td>W</td>\n",
       "      <td>Bronze</td>\n",
       "    </tr>\n",
       "    <tr>\n",
       "      <th>...</th>\n",
       "      <td>...</td>\n",
       "      <td>...</td>\n",
       "      <td>...</td>\n",
       "      <td>...</td>\n",
       "      <td>...</td>\n",
       "      <td>...</td>\n",
       "      <td>...</td>\n",
       "      <td>...</td>\n",
       "      <td>...</td>\n",
       "      <td>...</td>\n",
       "      <td>...</td>\n",
       "    </tr>\n",
       "    <tr>\n",
       "      <th>5809</th>\n",
       "      <td>Seoul</td>\n",
       "      <td>1988</td>\n",
       "      <td>Wrestling</td>\n",
       "      <td>Wrestling Gre-R</td>\n",
       "      <td>48 - 52kg (flyweight)</td>\n",
       "      <td>LEE, Jae-Suk</td>\n",
       "      <td>Men</td>\n",
       "      <td>KOR</td>\n",
       "      <td>Korea, South</td>\n",
       "      <td>M</td>\n",
       "      <td>Bronze</td>\n",
       "    </tr>\n",
       "    <tr>\n",
       "      <th>5810</th>\n",
       "      <td>Seoul</td>\n",
       "      <td>1988</td>\n",
       "      <td>Wrestling</td>\n",
       "      <td>Wrestling Gre-R</td>\n",
       "      <td>62 - 68kg (lightweight)</td>\n",
       "      <td>DJULFALAKIAN, Levon</td>\n",
       "      <td>Men</td>\n",
       "      <td>URS</td>\n",
       "      <td>Soviet Union</td>\n",
       "      <td>M</td>\n",
       "      <td>Gold</td>\n",
       "    </tr>\n",
       "    <tr>\n",
       "      <th>5811</th>\n",
       "      <td>Seoul</td>\n",
       "      <td>1988</td>\n",
       "      <td>Wrestling</td>\n",
       "      <td>Wrestling Gre-R</td>\n",
       "      <td>52 - 57kg (bantamweight)</td>\n",
       "      <td>SIKE, Andras</td>\n",
       "      <td>Men</td>\n",
       "      <td>HUN</td>\n",
       "      <td>Hungary</td>\n",
       "      <td>M</td>\n",
       "      <td>Gold</td>\n",
       "    </tr>\n",
       "    <tr>\n",
       "      <th>5812</th>\n",
       "      <td>Seoul</td>\n",
       "      <td>1988</td>\n",
       "      <td>Wrestling</td>\n",
       "      <td>Wrestling Gre-R</td>\n",
       "      <td>52 - 57kg (bantamweight)</td>\n",
       "      <td>HOLIDIS, Charalambos</td>\n",
       "      <td>Men</td>\n",
       "      <td>GRE</td>\n",
       "      <td>Greece</td>\n",
       "      <td>M</td>\n",
       "      <td>Bronze</td>\n",
       "    </tr>\n",
       "    <tr>\n",
       "      <th>5813</th>\n",
       "      <td>Seoul</td>\n",
       "      <td>1988</td>\n",
       "      <td>Wrestling</td>\n",
       "      <td>Wrestling Gre-R</td>\n",
       "      <td>100 - 130kg (super heavyweight)</td>\n",
       "      <td>GEROVSKI, Rangel Ivanov</td>\n",
       "      <td>Men</td>\n",
       "      <td>BUL</td>\n",
       "      <td>Bulgaria</td>\n",
       "      <td>M</td>\n",
       "      <td>Silver</td>\n",
       "    </tr>\n",
       "  </tbody>\n",
       "</table>\n",
       "<p>1546 rows × 11 columns</p>\n",
       "</div>"
      ],
      "text/plain": [
       "       City  Year      Sport       Discipline  \\\n",
       "4268  Seoul  1988   Aquatics           Diving   \n",
       "4269  Seoul  1988   Aquatics           Diving   \n",
       "4270  Seoul  1988   Aquatics           Diving   \n",
       "4271  Seoul  1988   Aquatics           Diving   \n",
       "4272  Seoul  1988   Aquatics           Diving   \n",
       "...     ...   ...        ...              ...   \n",
       "5809  Seoul  1988  Wrestling  Wrestling Gre-R   \n",
       "5810  Seoul  1988  Wrestling  Wrestling Gre-R   \n",
       "5811  Seoul  1988  Wrestling  Wrestling Gre-R   \n",
       "5812  Seoul  1988  Wrestling  Wrestling Gre-R   \n",
       "5813  Seoul  1988  Wrestling  Wrestling Gre-R   \n",
       "\n",
       "                                Event                  Athlete Gender  \\\n",
       "4268                   3m springboard            TAN, Liang-De    Men   \n",
       "4269                   3m springboard                 GAO, Min  Women   \n",
       "4270                     10m platform       MENA CAMPOS, Jesus    Men   \n",
       "4271                   3m springboard             LI, De-Liang    Men   \n",
       "4272                   3m springboard    MCCORMICK, Kelly Anne  Women   \n",
       "...                               ...                      ...    ...   \n",
       "5809            48 - 52kg (flyweight)             LEE, Jae-Suk    Men   \n",
       "5810          62 - 68kg (lightweight)      DJULFALAKIAN, Levon    Men   \n",
       "5811         52 - 57kg (bantamweight)             SIKE, Andras    Men   \n",
       "5812         52 - 57kg (bantamweight)     HOLIDIS, Charalambos    Men   \n",
       "5813  100 - 130kg (super heavyweight)  GEROVSKI, Rangel Ivanov    Men   \n",
       "\n",
       "     Country_Code        Country Event_gender   Medal  \n",
       "4268          CHN          China            M  Silver  \n",
       "4269          CHN          China            W    Gold  \n",
       "4270          MEX         Mexico            M  Bronze  \n",
       "4271          CHN          China            M  Bronze  \n",
       "4272          USA  United States            W  Bronze  \n",
       "...           ...            ...          ...     ...  \n",
       "5809          KOR   Korea, South            M  Bronze  \n",
       "5810          URS   Soviet Union            M    Gold  \n",
       "5811          HUN        Hungary            M    Gold  \n",
       "5812          GRE         Greece            M  Bronze  \n",
       "5813          BUL       Bulgaria            M  Silver  \n",
       "\n",
       "[1546 rows x 11 columns]"
      ]
     },
     "execution_count": 31,
     "metadata": {},
     "output_type": "execute_result"
    }
   ],
   "source": [
    "olimp[olimp.City == 'Seoul']"
   ]
  },
  {
   "cell_type": "code",
   "execution_count": 30,
   "metadata": {},
   "outputs": [
    {
     "data": {
      "text/plain": [
       "Medal\n",
       "Bronze    535\n",
       "Gold      506\n",
       "Silver    505\n",
       "dtype: int64"
      ]
     },
     "execution_count": 30,
     "metadata": {},
     "output_type": "execute_result"
    }
   ],
   "source": [
    "olimp[olimp.City == 'Seoul'].groupby('Medal').size()"
   ]
  },
  {
   "cell_type": "markdown",
   "metadata": {},
   "source": [
    "Liczba zdobytych medali w różnych latach. Wykonujemy grupowanie względem dwóch kolumn jednocześnie, następnie atrybutem `.size()` zliczamy wielkość każdej grupy. Wynikiem jest szereg z **multiindeksem**: "
   ]
  },
  {
   "cell_type": "code",
   "execution_count": 32,
   "metadata": {},
   "outputs": [
    {
     "data": {
      "text/plain": [
       "Year  Medal \n",
       "1976  Bronze    447\n",
       "      Gold      429\n",
       "      Silver    429\n",
       "1980  Bronze    472\n",
       "      Gold      460\n",
       "      Silver    455\n",
       "1984  Bronze    500\n",
       "      Gold      483\n",
       "      Silver    476\n",
       "1988  Bronze    535\n",
       "      Gold      506\n",
       "      Silver    505\n",
       "1992  Bronze    596\n",
       "      Gold      558\n",
       "      Silver    551\n",
       "1996  Bronze    634\n",
       "      Gold      615\n",
       "      Silver    610\n",
       "2000  Bronze    685\n",
       "      Gold      663\n",
       "      Silver    667\n",
       "2004  Bronze    679\n",
       "      Gold      659\n",
       "      Silver    660\n",
       "2008  Bronze    710\n",
       "      Gold      669\n",
       "      Silver    663\n",
       "dtype: int64"
      ]
     },
     "execution_count": 32,
     "metadata": {},
     "output_type": "execute_result"
    }
   ],
   "source": [
    "olimp.groupby(['Year', 'Medal']).size()"
   ]
  },
  {
   "cell_type": "markdown",
   "metadata": {},
   "source": [
    "Rzędy multiindeksu numerowane są od lewej od zera. Metoda `.unstack()` przenosi wybrany rząd multiindeksu do poziomu indeksu kolumn:"
   ]
  },
  {
   "cell_type": "code",
   "execution_count": 35,
   "metadata": {},
   "outputs": [
    {
     "data": {
      "text/html": [
       "<div>\n",
       "<style scoped>\n",
       "    .dataframe tbody tr th:only-of-type {\n",
       "        vertical-align: middle;\n",
       "    }\n",
       "\n",
       "    .dataframe tbody tr th {\n",
       "        vertical-align: top;\n",
       "    }\n",
       "\n",
       "    .dataframe thead th {\n",
       "        text-align: right;\n",
       "    }\n",
       "</style>\n",
       "<table border=\"1\" class=\"dataframe\">\n",
       "  <thead>\n",
       "    <tr style=\"text-align: right;\">\n",
       "      <th>Medal</th>\n",
       "      <th>Bronze</th>\n",
       "      <th>Gold</th>\n",
       "      <th>Silver</th>\n",
       "    </tr>\n",
       "    <tr>\n",
       "      <th>Year</th>\n",
       "      <th></th>\n",
       "      <th></th>\n",
       "      <th></th>\n",
       "    </tr>\n",
       "  </thead>\n",
       "  <tbody>\n",
       "    <tr>\n",
       "      <th>1976</th>\n",
       "      <td>447</td>\n",
       "      <td>429</td>\n",
       "      <td>429</td>\n",
       "    </tr>\n",
       "    <tr>\n",
       "      <th>1980</th>\n",
       "      <td>472</td>\n",
       "      <td>460</td>\n",
       "      <td>455</td>\n",
       "    </tr>\n",
       "    <tr>\n",
       "      <th>1984</th>\n",
       "      <td>500</td>\n",
       "      <td>483</td>\n",
       "      <td>476</td>\n",
       "    </tr>\n",
       "    <tr>\n",
       "      <th>1988</th>\n",
       "      <td>535</td>\n",
       "      <td>506</td>\n",
       "      <td>505</td>\n",
       "    </tr>\n",
       "    <tr>\n",
       "      <th>1992</th>\n",
       "      <td>596</td>\n",
       "      <td>558</td>\n",
       "      <td>551</td>\n",
       "    </tr>\n",
       "    <tr>\n",
       "      <th>1996</th>\n",
       "      <td>634</td>\n",
       "      <td>615</td>\n",
       "      <td>610</td>\n",
       "    </tr>\n",
       "    <tr>\n",
       "      <th>2000</th>\n",
       "      <td>685</td>\n",
       "      <td>663</td>\n",
       "      <td>667</td>\n",
       "    </tr>\n",
       "    <tr>\n",
       "      <th>2004</th>\n",
       "      <td>679</td>\n",
       "      <td>659</td>\n",
       "      <td>660</td>\n",
       "    </tr>\n",
       "    <tr>\n",
       "      <th>2008</th>\n",
       "      <td>710</td>\n",
       "      <td>669</td>\n",
       "      <td>663</td>\n",
       "    </tr>\n",
       "  </tbody>\n",
       "</table>\n",
       "</div>"
      ],
      "text/plain": [
       "Medal  Bronze  Gold  Silver\n",
       "Year                       \n",
       "1976      447   429     429\n",
       "1980      472   460     455\n",
       "1984      500   483     476\n",
       "1988      535   506     505\n",
       "1992      596   558     551\n",
       "1996      634   615     610\n",
       "2000      685   663     667\n",
       "2004      679   659     660\n",
       "2008      710   669     663"
      ]
     },
     "execution_count": 35,
     "metadata": {},
     "output_type": "execute_result"
    }
   ],
   "source": [
    "olimp.groupby(['Year', 'Medal']).size().unstack()"
   ]
  },
  {
   "cell_type": "markdown",
   "metadata": {},
   "source": [
    "Domyślnie `.unstack()` przenosi do kolumn indeks ostatni. Jeśli chcesz w ten sposób potraktować inny indeks, musisz go wyspecyfikować:"
   ]
  },
  {
   "cell_type": "code",
   "execution_count": 36,
   "metadata": {},
   "outputs": [
    {
     "data": {
      "text/html": [
       "<div>\n",
       "<style scoped>\n",
       "    .dataframe tbody tr th:only-of-type {\n",
       "        vertical-align: middle;\n",
       "    }\n",
       "\n",
       "    .dataframe tbody tr th {\n",
       "        vertical-align: top;\n",
       "    }\n",
       "\n",
       "    .dataframe thead th {\n",
       "        text-align: right;\n",
       "    }\n",
       "</style>\n",
       "<table border=\"1\" class=\"dataframe\">\n",
       "  <thead>\n",
       "    <tr style=\"text-align: right;\">\n",
       "      <th>Year</th>\n",
       "      <th>1976</th>\n",
       "      <th>1980</th>\n",
       "      <th>1984</th>\n",
       "      <th>1988</th>\n",
       "      <th>1992</th>\n",
       "      <th>1996</th>\n",
       "      <th>2000</th>\n",
       "      <th>2004</th>\n",
       "      <th>2008</th>\n",
       "    </tr>\n",
       "    <tr>\n",
       "      <th>Medal</th>\n",
       "      <th></th>\n",
       "      <th></th>\n",
       "      <th></th>\n",
       "      <th></th>\n",
       "      <th></th>\n",
       "      <th></th>\n",
       "      <th></th>\n",
       "      <th></th>\n",
       "      <th></th>\n",
       "    </tr>\n",
       "  </thead>\n",
       "  <tbody>\n",
       "    <tr>\n",
       "      <th>Bronze</th>\n",
       "      <td>447</td>\n",
       "      <td>472</td>\n",
       "      <td>500</td>\n",
       "      <td>535</td>\n",
       "      <td>596</td>\n",
       "      <td>634</td>\n",
       "      <td>685</td>\n",
       "      <td>679</td>\n",
       "      <td>710</td>\n",
       "    </tr>\n",
       "    <tr>\n",
       "      <th>Gold</th>\n",
       "      <td>429</td>\n",
       "      <td>460</td>\n",
       "      <td>483</td>\n",
       "      <td>506</td>\n",
       "      <td>558</td>\n",
       "      <td>615</td>\n",
       "      <td>663</td>\n",
       "      <td>659</td>\n",
       "      <td>669</td>\n",
       "    </tr>\n",
       "    <tr>\n",
       "      <th>Silver</th>\n",
       "      <td>429</td>\n",
       "      <td>455</td>\n",
       "      <td>476</td>\n",
       "      <td>505</td>\n",
       "      <td>551</td>\n",
       "      <td>610</td>\n",
       "      <td>667</td>\n",
       "      <td>660</td>\n",
       "      <td>663</td>\n",
       "    </tr>\n",
       "  </tbody>\n",
       "</table>\n",
       "</div>"
      ],
      "text/plain": [
       "Year    1976  1980  1984  1988  1992  1996  2000  2004  2008\n",
       "Medal                                                       \n",
       "Bronze   447   472   500   535   596   634   685   679   710\n",
       "Gold     429   460   483   506   558   615   663   659   669\n",
       "Silver   429   455   476   505   551   610   667   660   663"
      ]
     },
     "execution_count": 36,
     "metadata": {},
     "output_type": "execute_result"
    }
   ],
   "source": [
    "olimp.groupby(['Year', 'Medal']).size().unstack(0)"
   ]
  },
  {
   "cell_type": "markdown",
   "metadata": {},
   "source": [
    "Ramki i szeregi posiadają metodę `.plot()`. Bez argumentów metoda ta utworzy wykres wspólny dla wszystkich kolumn:"
   ]
  },
  {
   "cell_type": "code",
   "execution_count": 38,
   "metadata": {},
   "outputs": [
    {
     "data": {
      "image/png": "[encoded data removed]",
      "text/plain": [
       "<Figure size 640x480 with 1 Axes>"
      ]
     },
     "metadata": {},
     "output_type": "display_data"
    }
   ],
   "source": [
    "olimp.groupby(['Year', 'Medal']).size().unstack().plot(grid=True);"
   ]
  },
  {
   "cell_type": "markdown",
   "metadata": {},
   "source": [
    "Który kraj zdobył najwięcej medali w historii igrzysk uwzględnionych w bazie? Pierwsze podejście niewiele nam daje:"
   ]
  },
  {
   "cell_type": "code",
   "execution_count": 39,
   "metadata": {},
   "outputs": [
    {
     "data": {
      "text/plain": [
       "Country\n",
       "Afghanistan          1\n",
       "Algeria             14\n",
       "Argentina          153\n",
       "Armenia              9\n",
       "Australia          798\n",
       "                  ... \n",
       "Virgin Islands*      1\n",
       "West Germany       345\n",
       "Yugoslavia         278\n",
       "Zambia               2\n",
       "Zimbabwe            23\n",
       "Length: 127, dtype: int64"
      ]
     },
     "execution_count": 39,
     "metadata": {},
     "output_type": "execute_result"
    }
   ],
   "source": [
    "olimp.groupby('Country').size()"
   ]
  },
  {
   "cell_type": "markdown",
   "metadata": {},
   "source": [
    "Szereg podany wyżej sortujemy malejąco względem **wartości:**"
   ]
  },
  {
   "cell_type": "code",
   "execution_count": 40,
   "metadata": {},
   "outputs": [
    {
     "data": {
      "text/plain": [
       "Country\n",
       "United States    1992\n",
       "Soviet Union     1021\n",
       "Australia         798\n",
       "Germany           691\n",
       "China             679\n",
       "dtype: int64"
      ]
     },
     "execution_count": 40,
     "metadata": {},
     "output_type": "execute_result"
    }
   ],
   "source": [
    "olimp.groupby('Country').size().sort_values(ascending=False).head()"
   ]
  },
  {
   "cell_type": "code",
   "execution_count": 42,
   "metadata": {},
   "outputs": [
    {
     "data": {
      "text/html": [
       "<div>\n",
       "<style scoped>\n",
       "    .dataframe tbody tr th:only-of-type {\n",
       "        vertical-align: middle;\n",
       "    }\n",
       "\n",
       "    .dataframe tbody tr th {\n",
       "        vertical-align: top;\n",
       "    }\n",
       "\n",
       "    .dataframe thead th {\n",
       "        text-align: right;\n",
       "    }\n",
       "</style>\n",
       "<table border=\"1\" class=\"dataframe\">\n",
       "  <thead>\n",
       "    <tr style=\"text-align: right;\">\n",
       "      <th></th>\n",
       "      <th>City</th>\n",
       "      <th>Year</th>\n",
       "      <th>Sport</th>\n",
       "      <th>Discipline</th>\n",
       "      <th>Event</th>\n",
       "      <th>Athlete</th>\n",
       "      <th>Gender</th>\n",
       "      <th>Country_Code</th>\n",
       "      <th>Country</th>\n",
       "      <th>Event_gender</th>\n",
       "      <th>Medal</th>\n",
       "    </tr>\n",
       "  </thead>\n",
       "  <tbody>\n",
       "    <tr>\n",
       "      <th>0</th>\n",
       "      <td>Montreal</td>\n",
       "      <td>1976</td>\n",
       "      <td>Aquatics</td>\n",
       "      <td>Diving</td>\n",
       "      <td>3m springboard</td>\n",
       "      <td>KÖHLER, Christa</td>\n",
       "      <td>Women</td>\n",
       "      <td>GDR</td>\n",
       "      <td>East Germany</td>\n",
       "      <td>W</td>\n",
       "      <td>Silver</td>\n",
       "    </tr>\n",
       "    <tr>\n",
       "      <th>1</th>\n",
       "      <td>Montreal</td>\n",
       "      <td>1976</td>\n",
       "      <td>Aquatics</td>\n",
       "      <td>Diving</td>\n",
       "      <td>3m springboard</td>\n",
       "      <td>KOSENKOV, Aleksandr</td>\n",
       "      <td>Men</td>\n",
       "      <td>URS</td>\n",
       "      <td>Soviet Union</td>\n",
       "      <td>M</td>\n",
       "      <td>Bronze</td>\n",
       "    </tr>\n",
       "    <tr>\n",
       "      <th>2</th>\n",
       "      <td>Montreal</td>\n",
       "      <td>1976</td>\n",
       "      <td>Aquatics</td>\n",
       "      <td>Diving</td>\n",
       "      <td>3m springboard</td>\n",
       "      <td>BOGGS, Philip George</td>\n",
       "      <td>Men</td>\n",
       "      <td>USA</td>\n",
       "      <td>United States</td>\n",
       "      <td>M</td>\n",
       "      <td>Gold</td>\n",
       "    </tr>\n",
       "    <tr>\n",
       "      <th>3</th>\n",
       "      <td>Montreal</td>\n",
       "      <td>1976</td>\n",
       "      <td>Aquatics</td>\n",
       "      <td>Diving</td>\n",
       "      <td>3m springboard</td>\n",
       "      <td>CAGNOTTO, Giorgio Franco</td>\n",
       "      <td>Men</td>\n",
       "      <td>ITA</td>\n",
       "      <td>Italy</td>\n",
       "      <td>M</td>\n",
       "      <td>Silver</td>\n",
       "    </tr>\n",
       "    <tr>\n",
       "      <th>4</th>\n",
       "      <td>Montreal</td>\n",
       "      <td>1976</td>\n",
       "      <td>Aquatics</td>\n",
       "      <td>Diving</td>\n",
       "      <td>10m platform</td>\n",
       "      <td>WILSON, Deborah Keplar</td>\n",
       "      <td>Women</td>\n",
       "      <td>USA</td>\n",
       "      <td>United States</td>\n",
       "      <td>W</td>\n",
       "      <td>Bronze</td>\n",
       "    </tr>\n",
       "    <tr>\n",
       "      <th>...</th>\n",
       "      <td>...</td>\n",
       "      <td>...</td>\n",
       "      <td>...</td>\n",
       "      <td>...</td>\n",
       "      <td>...</td>\n",
       "      <td>...</td>\n",
       "      <td>...</td>\n",
       "      <td>...</td>\n",
       "      <td>...</td>\n",
       "      <td>...</td>\n",
       "      <td>...</td>\n",
       "    </tr>\n",
       "    <tr>\n",
       "      <th>15428</th>\n",
       "      <td>Beijing</td>\n",
       "      <td>2008</td>\n",
       "      <td>Wrestling</td>\n",
       "      <td>Wrestling Gre-R</td>\n",
       "      <td>66 - 74kg</td>\n",
       "      <td>GUENOT, Christophe</td>\n",
       "      <td>Men</td>\n",
       "      <td>FRA</td>\n",
       "      <td>France</td>\n",
       "      <td>M</td>\n",
       "      <td>Bronze</td>\n",
       "    </tr>\n",
       "    <tr>\n",
       "      <th>15429</th>\n",
       "      <td>Beijing</td>\n",
       "      <td>2008</td>\n",
       "      <td>Wrestling</td>\n",
       "      <td>Wrestling Gre-R</td>\n",
       "      <td>66 - 74kg</td>\n",
       "      <td>KVIRKELIA, Manuchar</td>\n",
       "      <td>Men</td>\n",
       "      <td>GEO</td>\n",
       "      <td>Georgia</td>\n",
       "      <td>M</td>\n",
       "      <td>Gold</td>\n",
       "    </tr>\n",
       "    <tr>\n",
       "      <th>15430</th>\n",
       "      <td>Beijing</td>\n",
       "      <td>2008</td>\n",
       "      <td>Wrestling</td>\n",
       "      <td>Wrestling Gre-R</td>\n",
       "      <td>55 - 60kg</td>\n",
       "      <td>RAHIMOV, Vitaliy</td>\n",
       "      <td>Men</td>\n",
       "      <td>AZE</td>\n",
       "      <td>Azerbaijan</td>\n",
       "      <td>M</td>\n",
       "      <td>Silver</td>\n",
       "    </tr>\n",
       "    <tr>\n",
       "      <th>15431</th>\n",
       "      <td>Beijing</td>\n",
       "      <td>2008</td>\n",
       "      <td>Wrestling</td>\n",
       "      <td>Wrestling Gre-R</td>\n",
       "      <td>60 - 66kg</td>\n",
       "      <td>GUENOT, Steeve</td>\n",
       "      <td>Men</td>\n",
       "      <td>FRA</td>\n",
       "      <td>France</td>\n",
       "      <td>M</td>\n",
       "      <td>Gold</td>\n",
       "    </tr>\n",
       "    <tr>\n",
       "      <th>15432</th>\n",
       "      <td>Beijing</td>\n",
       "      <td>2008</td>\n",
       "      <td>Wrestling</td>\n",
       "      <td>Wrestling Gre-R</td>\n",
       "      <td>96 - 120kg</td>\n",
       "      <td>LOPEZ, Mijain</td>\n",
       "      <td>Men</td>\n",
       "      <td>CUB</td>\n",
       "      <td>Cuba</td>\n",
       "      <td>M</td>\n",
       "      <td>Gold</td>\n",
       "    </tr>\n",
       "  </tbody>\n",
       "</table>\n",
       "<p>15316 rows × 11 columns</p>\n",
       "</div>"
      ],
      "text/plain": [
       "           City  Year      Sport       Discipline           Event  \\\n",
       "0      Montreal  1976   Aquatics           Diving  3m springboard   \n",
       "1      Montreal  1976   Aquatics           Diving  3m springboard   \n",
       "2      Montreal  1976   Aquatics           Diving  3m springboard   \n",
       "3      Montreal  1976   Aquatics           Diving  3m springboard   \n",
       "4      Montreal  1976   Aquatics           Diving    10m platform   \n",
       "...         ...   ...        ...              ...             ...   \n",
       "15428   Beijing  2008  Wrestling  Wrestling Gre-R       66 - 74kg   \n",
       "15429   Beijing  2008  Wrestling  Wrestling Gre-R       66 - 74kg   \n",
       "15430   Beijing  2008  Wrestling  Wrestling Gre-R       55 - 60kg   \n",
       "15431   Beijing  2008  Wrestling  Wrestling Gre-R       60 - 66kg   \n",
       "15432   Beijing  2008  Wrestling  Wrestling Gre-R      96 - 120kg   \n",
       "\n",
       "                        Athlete Gender Country_Code        Country  \\\n",
       "0               KÖHLER, Christa  Women          GDR   East Germany   \n",
       "1           KOSENKOV, Aleksandr    Men          URS   Soviet Union   \n",
       "2          BOGGS, Philip George    Men          USA  United States   \n",
       "3      CAGNOTTO, Giorgio Franco    Men          ITA          Italy   \n",
       "4        WILSON, Deborah Keplar  Women          USA  United States   \n",
       "...                         ...    ...          ...            ...   \n",
       "15428        GUENOT, Christophe    Men          FRA         France   \n",
       "15429       KVIRKELIA, Manuchar    Men          GEO        Georgia   \n",
       "15430          RAHIMOV, Vitaliy    Men          AZE     Azerbaijan   \n",
       "15431            GUENOT, Steeve    Men          FRA         France   \n",
       "15432             LOPEZ, Mijain    Men          CUB           Cuba   \n",
       "\n",
       "      Event_gender   Medal  \n",
       "0                W  Silver  \n",
       "1                M  Bronze  \n",
       "2                M    Gold  \n",
       "3                M  Silver  \n",
       "4                W  Bronze  \n",
       "...            ...     ...  \n",
       "15428            M  Bronze  \n",
       "15429            M    Gold  \n",
       "15430            M  Silver  \n",
       "15431            M    Gold  \n",
       "15432            M    Gold  \n",
       "\n",
       "[15316 rows x 11 columns]"
      ]
     },
     "execution_count": 42,
     "metadata": {},
     "output_type": "execute_result"
    }
   ],
   "source": [
    "olimp"
   ]
  },
  {
   "cell_type": "code",
   "execution_count": 43,
   "metadata": {},
   "outputs": [],
   "source": [
    "s = olimp['Country']"
   ]
  },
  {
   "cell_type": "code",
   "execution_count": 46,
   "metadata": {},
   "outputs": [
    {
     "data": {
      "text/plain": [
       "Country\n",
       "Germany         691\n",
       "East Germany    626\n",
       "West Germany    345\n",
       "Name: count, dtype: int64"
      ]
     },
     "execution_count": 46,
     "metadata": {},
     "output_type": "execute_result"
    }
   ],
   "source": [
    "olimp['Country'][s.str.contains('Ger')].value_counts()"
   ]
  },
  {
   "cell_type": "markdown",
   "metadata": {},
   "source": [
    "Jakim krajem w kolumnie `Country` jest *Germany*? Spróbujmy wyznaczyć wszystkie kraje, które zawierają `'Ger'` w swojej nazwie. \n",
    "\n",
    "Do tego celu bardzo nam się przydadzą metody łańcuchów znaków dla szeregów (więcej na ten temat w tutorialu [B. Rhodesa](https://www.youtube.com/watch?v=5JnMutdy6Fw)). Wiele metod łańcuchów znaków znanych z Pythona stosuje się również do szeregów zawierających tekst. Aby uniknąć kolizji między nazwami metod twórcy Pandas zdecydowali się na odseparowanie metod łańcuchów od reszty metod przez umieszczenie ich w klasie `.str`. I tak, jeśli chcesz wywołać metodę `.contains()` z argumentem `'Ger'` na szeregu `s`, to musisz napisać\n",
    "```python\n",
    "s.str.contains('Ger')\n",
    "```\n",
    "Podobnie, aby nazwiska sportowców zobaczyć w stylu *title* wywołujemy metodę `.str.title()`:"
   ]
  },
  {
   "cell_type": "code",
   "execution_count": 47,
   "metadata": {},
   "outputs": [
    {
     "data": {
      "text/plain": [
       "0             Köhler, Christa\n",
       "1         Kosenkov, Aleksandr\n",
       "2        Boggs, Philip George\n",
       "3    Cagnotto, Giorgio Franco\n",
       "4      Wilson, Deborah Keplar\n",
       "Name: Athlete, dtype: object"
      ]
     },
     "execution_count": 47,
     "metadata": {},
     "output_type": "execute_result"
    }
   ],
   "source": [
    "olimp.Athlete.str.title().head()"
   ]
  },
  {
   "cell_type": "markdown",
   "metadata": {},
   "source": [
    "Spis metod łańcuchów znaków dla szeregów znajdziesz w dokumentacji [API Reference](https://pandas.pydata.org/pandas-docs/stable/reference/series.html). Inną ważną kategorią metod odseparowaną analogicznie jak metody łańcuchów to metody daty i czasu -- w tym przypadku stosuje się notację `s.dt`.\n",
    "\n",
    "Metody łańcuchów znaków dla szeregów są wzorowane na standardowych metodach łańcuchów w Pythonie, pamiętaj jednak, że w szczegółach zachowania metody te nie są identyczne. Na przykład wspomniana metoda `.str.contains()` akceptuje jako argument nie tylko łańcuch znaków ale i wyrażenie regularne (co może być bardzo przydatne).\n",
    "\n",
    "Odpowiadamy na postawione wyżej pytanie: jakie kraje zawierają w swojej nazwie `Ger`?"
   ]
  },
  {
   "cell_type": "code",
   "execution_count": 49,
   "metadata": {},
   "outputs": [
    {
     "data": {
      "text/plain": [
       "0     True\n",
       "1    False\n",
       "2    False\n",
       "3    False\n",
       "4    False\n",
       "Name: Country, dtype: bool"
      ]
     },
     "execution_count": 49,
     "metadata": {},
     "output_type": "execute_result"
    }
   ],
   "source": [
    "olimp.Country.str.contains('Ger').head()"
   ]
  },
  {
   "cell_type": "markdown",
   "metadata": {},
   "source": [
    "Zatem kraje zawierające `Ger` to:"
   ]
  },
  {
   "cell_type": "code",
   "execution_count": 50,
   "metadata": {},
   "outputs": [
    {
     "data": {
      "text/plain": [
       "array(['East Germany', 'West Germany', 'Germany'], dtype=object)"
      ]
     },
     "execution_count": 50,
     "metadata": {},
     "output_type": "execute_result"
    }
   ],
   "source": [
    "olimp[olimp.Country.str.contains('Ger')].Country.unique()"
   ]
  },
  {
   "cell_type": "markdown",
   "metadata": {},
   "source": [
    "Ich osiągnięcia medalowe:"
   ]
  },
  {
   "cell_type": "code",
   "execution_count": 51,
   "metadata": {},
   "outputs": [
    {
     "data": {
      "text/plain": [
       "Country\n",
       "Germany         691\n",
       "East Germany    626\n",
       "West Germany    345\n",
       "Name: count, dtype: int64"
      ]
     },
     "execution_count": 51,
     "metadata": {},
     "output_type": "execute_result"
    }
   ],
   "source": [
    "olimp[olimp.Country.str.contains('Ger')].Country.value_counts()"
   ]
  },
  {
   "cell_type": "markdown",
   "metadata": {},
   "source": [
    "Jeśli zatem Niemcy przed i po zjednoczeniu potraktujemy jako jeden kraj, to całkowita liczba zdobytych medali będzie równa:"
   ]
  },
  {
   "cell_type": "code",
   "execution_count": 52,
   "metadata": {},
   "outputs": [
    {
     "data": {
      "text/plain": [
       "1662"
      ]
     },
     "execution_count": 52,
     "metadata": {},
     "output_type": "execute_result"
    }
   ],
   "source": [
    "olimp[olimp.Country.str.contains('Ger')].Country.value_counts().sum()"
   ]
  },
  {
   "cell_type": "markdown",
   "metadata": {},
   "source": [
    "Który zawodnik zdobył najwięcej medali?"
   ]
  },
  {
   "cell_type": "code",
   "execution_count": 53,
   "metadata": {},
   "outputs": [
    {
     "data": {
      "text/plain": [
       "Athlete\n",
       "PHELPS, Michael        16\n",
       "FISCHER, Birgit        12\n",
       "NEMOV, Alexei          12\n",
       "TORRES, Dara           12\n",
       "THOMPSON, Jenny        12\n",
       "ANDRIANOV, Nikolay     12\n",
       "COUGHLIN, Natalie      11\n",
       "BIONDI, Matthew        11\n",
       "DITYATIN, Aleksandr    10\n",
       "SCHERBO, Vitaly        10\n",
       "dtype: int64"
      ]
     },
     "execution_count": 53,
     "metadata": {},
     "output_type": "execute_result"
    }
   ],
   "source": [
    "olimp.groupby('Athlete').size().sort_values(ascending=False).head(10)"
   ]
  },
  {
   "cell_type": "markdown",
   "metadata": {},
   "source": [
    "A który został najbardziej utytułowany przyjmując ranking punktowy:\n",
    "* brąz -- 1 punkt,\n",
    "* srebro -- 2 punkty,\n",
    "* złoto -- 4 punkty?"
   ]
  },
  {
   "cell_type": "markdown",
   "metadata": {},
   "source": [
    "Tworzymy najpierw tabelę ze sportowcami w wierszach i medalami w kolumnach: "
   ]
  },
  {
   "cell_type": "code",
   "execution_count": 47,
   "metadata": {},
   "outputs": [
    {
     "data": {
      "text/html": [
       "<div>\n",
       "<style scoped>\n",
       "    .dataframe tbody tr th:only-of-type {\n",
       "        vertical-align: middle;\n",
       "    }\n",
       "\n",
       "    .dataframe tbody tr th {\n",
       "        vertical-align: top;\n",
       "    }\n",
       "\n",
       "    .dataframe thead th {\n",
       "        text-align: right;\n",
       "    }\n",
       "</style>\n",
       "<table border=\"1\" class=\"dataframe\">\n",
       "  <thead>\n",
       "    <tr style=\"text-align: right;\">\n",
       "      <th>Medal</th>\n",
       "      <th>Bronze</th>\n",
       "      <th>Gold</th>\n",
       "      <th>Silver</th>\n",
       "    </tr>\n",
       "    <tr>\n",
       "      <th>Athlete</th>\n",
       "      <th></th>\n",
       "      <th></th>\n",
       "      <th></th>\n",
       "    </tr>\n",
       "  </thead>\n",
       "  <tbody>\n",
       "    <tr>\n",
       "      <th>AAMODT, Ragnhild</th>\n",
       "      <td>NaN</td>\n",
       "      <td>1.0</td>\n",
       "      <td>NaN</td>\n",
       "    </tr>\n",
       "    <tr>\n",
       "      <th>AARDENBURG, Willemien</th>\n",
       "      <td>1.0</td>\n",
       "      <td>NaN</td>\n",
       "      <td>NaN</td>\n",
       "    </tr>\n",
       "    <tr>\n",
       "      <th>AARDEWIJN, Pepijn</th>\n",
       "      <td>NaN</td>\n",
       "      <td>NaN</td>\n",
       "      <td>1.0</td>\n",
       "    </tr>\n",
       "    <tr>\n",
       "      <th>AARONES, Ann Kristin</th>\n",
       "      <td>1.0</td>\n",
       "      <td>NaN</td>\n",
       "      <td>NaN</td>\n",
       "    </tr>\n",
       "    <tr>\n",
       "      <th>ABAJO, Jose Luis</th>\n",
       "      <td>1.0</td>\n",
       "      <td>NaN</td>\n",
       "      <td>NaN</td>\n",
       "    </tr>\n",
       "  </tbody>\n",
       "</table>\n",
       "</div>"
      ],
      "text/plain": [
       "Medal                  Bronze  Gold  Silver\n",
       "Athlete                                    \n",
       "AAMODT, Ragnhild          NaN   1.0     NaN\n",
       "AARDENBURG, Willemien     1.0   NaN     NaN\n",
       "AARDEWIJN, Pepijn         NaN   NaN     1.0\n",
       "AARONES, Ann Kristin      1.0   NaN     NaN\n",
       "ABAJO, Jose Luis          1.0   NaN     NaN"
      ]
     },
     "execution_count": 47,
     "metadata": {},
     "output_type": "execute_result"
    }
   ],
   "source": [
    "olimp.groupby(['Athlete', 'Medal']).size().unstack().head()"
   ]
  },
  {
   "cell_type": "markdown",
   "metadata": {},
   "source": [
    "Pojawiły się `NaN` i wskutek tego wartości zostały zrzutowane na float. \n",
    "\n",
    "W naszym przypadku wartość `NaN` oznacza, że dany sportowiec danego medalu nigdy nie zdobył, a zatem jest to wartość 0:  "
   ]
  },
  {
   "cell_type": "code",
   "execution_count": 56,
   "metadata": {},
   "outputs": [
    {
     "data": {
      "text/html": [
       "<div>\n",
       "<style scoped>\n",
       "    .dataframe tbody tr th:only-of-type {\n",
       "        vertical-align: middle;\n",
       "    }\n",
       "\n",
       "    .dataframe tbody tr th {\n",
       "        vertical-align: top;\n",
       "    }\n",
       "\n",
       "    .dataframe thead th {\n",
       "        text-align: right;\n",
       "    }\n",
       "</style>\n",
       "<table border=\"1\" class=\"dataframe\">\n",
       "  <thead>\n",
       "    <tr style=\"text-align: right;\">\n",
       "      <th>Medal</th>\n",
       "      <th>Bronze</th>\n",
       "      <th>Gold</th>\n",
       "      <th>Silver</th>\n",
       "    </tr>\n",
       "    <tr>\n",
       "      <th>Athlete</th>\n",
       "      <th></th>\n",
       "      <th></th>\n",
       "      <th></th>\n",
       "    </tr>\n",
       "  </thead>\n",
       "  <tbody>\n",
       "    <tr>\n",
       "      <th>AAMODT, Ragnhild</th>\n",
       "      <td>0</td>\n",
       "      <td>1</td>\n",
       "      <td>0</td>\n",
       "    </tr>\n",
       "    <tr>\n",
       "      <th>AARDENBURG, Willemien</th>\n",
       "      <td>1</td>\n",
       "      <td>0</td>\n",
       "      <td>0</td>\n",
       "    </tr>\n",
       "    <tr>\n",
       "      <th>AARDEWIJN, Pepijn</th>\n",
       "      <td>0</td>\n",
       "      <td>0</td>\n",
       "      <td>1</td>\n",
       "    </tr>\n",
       "    <tr>\n",
       "      <th>AARONES, Ann Kristin</th>\n",
       "      <td>1</td>\n",
       "      <td>0</td>\n",
       "      <td>0</td>\n",
       "    </tr>\n",
       "    <tr>\n",
       "      <th>ABAJO, Jose Luis</th>\n",
       "      <td>1</td>\n",
       "      <td>0</td>\n",
       "      <td>0</td>\n",
       "    </tr>\n",
       "  </tbody>\n",
       "</table>\n",
       "</div>"
      ],
      "text/plain": [
       "Medal                  Bronze  Gold  Silver\n",
       "Athlete                                    \n",
       "AAMODT, Ragnhild            0     1       0\n",
       "AARDENBURG, Willemien       1     0       0\n",
       "AARDEWIJN, Pepijn           0     0       1\n",
       "AARONES, Ann Kristin        1     0       0\n",
       "ABAJO, Jose Luis            1     0       0"
      ]
     },
     "execution_count": 56,
     "metadata": {},
     "output_type": "execute_result"
    }
   ],
   "source": [
    "df = olimp.groupby(['Athlete', 'Medal']).size().unstack().fillna(0).astype('int')\n",
    "df.head()"
   ]
  },
  {
   "cell_type": "markdown",
   "metadata": {},
   "source": [
    "Uzupełniamy ramkę `df` o nową kolumnę z rankingiem:"
   ]
  },
  {
   "cell_type": "code",
   "execution_count": 57,
   "metadata": {
    "scrolled": true
   },
   "outputs": [
    {
     "data": {
      "text/html": [
       "<div>\n",
       "<style scoped>\n",
       "    .dataframe tbody tr th:only-of-type {\n",
       "        vertical-align: middle;\n",
       "    }\n",
       "\n",
       "    .dataframe tbody tr th {\n",
       "        vertical-align: top;\n",
       "    }\n",
       "\n",
       "    .dataframe thead th {\n",
       "        text-align: right;\n",
       "    }\n",
       "</style>\n",
       "<table border=\"1\" class=\"dataframe\">\n",
       "  <thead>\n",
       "    <tr style=\"text-align: right;\">\n",
       "      <th>Medal</th>\n",
       "      <th>Bronze</th>\n",
       "      <th>Gold</th>\n",
       "      <th>Silver</th>\n",
       "      <th>Ranking</th>\n",
       "    </tr>\n",
       "    <tr>\n",
       "      <th>Athlete</th>\n",
       "      <th></th>\n",
       "      <th></th>\n",
       "      <th></th>\n",
       "      <th></th>\n",
       "    </tr>\n",
       "  </thead>\n",
       "  <tbody>\n",
       "    <tr>\n",
       "      <th>AAMODT, Ragnhild</th>\n",
       "      <td>0</td>\n",
       "      <td>1</td>\n",
       "      <td>0</td>\n",
       "      <td>4</td>\n",
       "    </tr>\n",
       "    <tr>\n",
       "      <th>AARDENBURG, Willemien</th>\n",
       "      <td>1</td>\n",
       "      <td>0</td>\n",
       "      <td>0</td>\n",
       "      <td>1</td>\n",
       "    </tr>\n",
       "    <tr>\n",
       "      <th>AARDEWIJN, Pepijn</th>\n",
       "      <td>0</td>\n",
       "      <td>0</td>\n",
       "      <td>1</td>\n",
       "      <td>2</td>\n",
       "    </tr>\n",
       "    <tr>\n",
       "      <th>AARONES, Ann Kristin</th>\n",
       "      <td>1</td>\n",
       "      <td>0</td>\n",
       "      <td>0</td>\n",
       "      <td>1</td>\n",
       "    </tr>\n",
       "    <tr>\n",
       "      <th>ABAJO, Jose Luis</th>\n",
       "      <td>1</td>\n",
       "      <td>0</td>\n",
       "      <td>0</td>\n",
       "      <td>1</td>\n",
       "    </tr>\n",
       "  </tbody>\n",
       "</table>\n",
       "</div>"
      ],
      "text/plain": [
       "Medal                  Bronze  Gold  Silver  Ranking\n",
       "Athlete                                             \n",
       "AAMODT, Ragnhild            0     1       0        4\n",
       "AARDENBURG, Willemien       1     0       0        1\n",
       "AARDEWIJN, Pepijn           0     0       1        2\n",
       "AARONES, Ann Kristin        1     0       0        1\n",
       "ABAJO, Jose Luis            1     0       0        1"
      ]
     },
     "execution_count": 57,
     "metadata": {},
     "output_type": "execute_result"
    }
   ],
   "source": [
    "df['Ranking'] = 4*df.Gold + 2*df.Silver + df.Bronze\n",
    "df.head()"
   ]
  },
  {
   "cell_type": "markdown",
   "metadata": {},
   "source": [
    "Pozostało wykonać sortowanie. Tym razem sortujemy **całą** ramkę względem wartości z wybranej kolumny. Sortowanie to wykonamy w miejscu (parametr `inplace=True`):"
   ]
  },
  {
   "cell_type": "code",
   "execution_count": 58,
   "metadata": {},
   "outputs": [
    {
     "data": {
      "text/html": [
       "<div>\n",
       "<style scoped>\n",
       "    .dataframe tbody tr th:only-of-type {\n",
       "        vertical-align: middle;\n",
       "    }\n",
       "\n",
       "    .dataframe tbody tr th {\n",
       "        vertical-align: top;\n",
       "    }\n",
       "\n",
       "    .dataframe thead th {\n",
       "        text-align: right;\n",
       "    }\n",
       "</style>\n",
       "<table border=\"1\" class=\"dataframe\">\n",
       "  <thead>\n",
       "    <tr style=\"text-align: right;\">\n",
       "      <th>Medal</th>\n",
       "      <th>Bronze</th>\n",
       "      <th>Gold</th>\n",
       "      <th>Silver</th>\n",
       "      <th>Ranking</th>\n",
       "    </tr>\n",
       "    <tr>\n",
       "      <th>Athlete</th>\n",
       "      <th></th>\n",
       "      <th></th>\n",
       "      <th></th>\n",
       "      <th></th>\n",
       "    </tr>\n",
       "  </thead>\n",
       "  <tbody>\n",
       "    <tr>\n",
       "      <th>PHELPS, Michael</th>\n",
       "      <td>2</td>\n",
       "      <td>14</td>\n",
       "      <td>0</td>\n",
       "      <td>58</td>\n",
       "    </tr>\n",
       "    <tr>\n",
       "      <th>FISCHER, Birgit</th>\n",
       "      <td>0</td>\n",
       "      <td>8</td>\n",
       "      <td>4</td>\n",
       "      <td>40</td>\n",
       "    </tr>\n",
       "    <tr>\n",
       "      <th>THOMPSON, Jenny</th>\n",
       "      <td>1</td>\n",
       "      <td>8</td>\n",
       "      <td>3</td>\n",
       "      <td>39</td>\n",
       "    </tr>\n",
       "    <tr>\n",
       "      <th>LEWIS, Carl</th>\n",
       "      <td>0</td>\n",
       "      <td>9</td>\n",
       "      <td>1</td>\n",
       "      <td>38</td>\n",
       "    </tr>\n",
       "    <tr>\n",
       "      <th>BIONDI, Matthew</th>\n",
       "      <td>1</td>\n",
       "      <td>8</td>\n",
       "      <td>2</td>\n",
       "      <td>37</td>\n",
       "    </tr>\n",
       "    <tr>\n",
       "      <th>ANDRIANOV, Nikolay</th>\n",
       "      <td>2</td>\n",
       "      <td>6</td>\n",
       "      <td>4</td>\n",
       "      <td>34</td>\n",
       "    </tr>\n",
       "    <tr>\n",
       "      <th>SCHERBO, Vitaly</th>\n",
       "      <td>4</td>\n",
       "      <td>6</td>\n",
       "      <td>0</td>\n",
       "      <td>28</td>\n",
       "    </tr>\n",
       "    <tr>\n",
       "      <th>TORRES, Dara</th>\n",
       "      <td>4</td>\n",
       "      <td>4</td>\n",
       "      <td>4</td>\n",
       "      <td>28</td>\n",
       "    </tr>\n",
       "    <tr>\n",
       "      <th>HALL, Gary Jr.</th>\n",
       "      <td>2</td>\n",
       "      <td>5</td>\n",
       "      <td>3</td>\n",
       "      <td>28</td>\n",
       "    </tr>\n",
       "    <tr>\n",
       "      <th>THORPE, Ian</th>\n",
       "      <td>1</td>\n",
       "      <td>5</td>\n",
       "      <td>3</td>\n",
       "      <td>27</td>\n",
       "    </tr>\n",
       "  </tbody>\n",
       "</table>\n",
       "</div>"
      ],
      "text/plain": [
       "Medal               Bronze  Gold  Silver  Ranking\n",
       "Athlete                                          \n",
       "PHELPS, Michael          2    14       0       58\n",
       "FISCHER, Birgit          0     8       4       40\n",
       "THOMPSON, Jenny          1     8       3       39\n",
       "LEWIS, Carl              0     9       1       38\n",
       "BIONDI, Matthew          1     8       2       37\n",
       "ANDRIANOV, Nikolay       2     6       4       34\n",
       "SCHERBO, Vitaly          4     6       0       28\n",
       "TORRES, Dara             4     4       4       28\n",
       "HALL, Gary Jr.           2     5       3       28\n",
       "THORPE, Ian              1     5       3       27"
      ]
     },
     "execution_count": 58,
     "metadata": {},
     "output_type": "execute_result"
    }
   ],
   "source": [
    "df.sort_values(by='Ranking', ascending=False, inplace=True)\n",
    "df.head(10)"
   ]
  },
  {
   "cell_type": "markdown",
   "metadata": {},
   "source": [
    "Fakt, że złoto znajduje się między brązem i srebrem psuje czytelność tabeli. Wygodną kolejność kolumn wprowadzimy stosując wymyślne indeksowanie (*fancy indexing*):"
   ]
  },
  {
   "cell_type": "code",
   "execution_count": 60,
   "metadata": {},
   "outputs": [
    {
     "data": {
      "text/plain": [
       "['Gold', 'Silver', 'Bronze', 'Ranking']"
      ]
     },
     "execution_count": 60,
     "metadata": {},
     "output_type": "execute_result"
    }
   ],
   "source": [
    "'Gold Silver Bronze Ranking'.split()"
   ]
  },
  {
   "cell_type": "code",
   "execution_count": 51,
   "metadata": {},
   "outputs": [
    {
     "data": {
      "text/html": [
       "<div>\n",
       "<style scoped>\n",
       "    .dataframe tbody tr th:only-of-type {\n",
       "        vertical-align: middle;\n",
       "    }\n",
       "\n",
       "    .dataframe tbody tr th {\n",
       "        vertical-align: top;\n",
       "    }\n",
       "\n",
       "    .dataframe thead th {\n",
       "        text-align: right;\n",
       "    }\n",
       "</style>\n",
       "<table border=\"1\" class=\"dataframe\">\n",
       "  <thead>\n",
       "    <tr style=\"text-align: right;\">\n",
       "      <th>Medal</th>\n",
       "      <th>Gold</th>\n",
       "      <th>Silver</th>\n",
       "      <th>Bronze</th>\n",
       "      <th>Ranking</th>\n",
       "    </tr>\n",
       "    <tr>\n",
       "      <th>Athlete</th>\n",
       "      <th></th>\n",
       "      <th></th>\n",
       "      <th></th>\n",
       "      <th></th>\n",
       "    </tr>\n",
       "  </thead>\n",
       "  <tbody>\n",
       "    <tr>\n",
       "      <th>PHELPS, Michael</th>\n",
       "      <td>14</td>\n",
       "      <td>0</td>\n",
       "      <td>2</td>\n",
       "      <td>58</td>\n",
       "    </tr>\n",
       "    <tr>\n",
       "      <th>FISCHER, Birgit</th>\n",
       "      <td>8</td>\n",
       "      <td>4</td>\n",
       "      <td>0</td>\n",
       "      <td>40</td>\n",
       "    </tr>\n",
       "    <tr>\n",
       "      <th>THOMPSON, Jenny</th>\n",
       "      <td>8</td>\n",
       "      <td>3</td>\n",
       "      <td>1</td>\n",
       "      <td>39</td>\n",
       "    </tr>\n",
       "    <tr>\n",
       "      <th>LEWIS, Carl</th>\n",
       "      <td>9</td>\n",
       "      <td>1</td>\n",
       "      <td>0</td>\n",
       "      <td>38</td>\n",
       "    </tr>\n",
       "    <tr>\n",
       "      <th>BIONDI, Matthew</th>\n",
       "      <td>8</td>\n",
       "      <td>2</td>\n",
       "      <td>1</td>\n",
       "      <td>37</td>\n",
       "    </tr>\n",
       "    <tr>\n",
       "      <th>ANDRIANOV, Nikolay</th>\n",
       "      <td>6</td>\n",
       "      <td>4</td>\n",
       "      <td>2</td>\n",
       "      <td>34</td>\n",
       "    </tr>\n",
       "    <tr>\n",
       "      <th>SCHERBO, Vitaly</th>\n",
       "      <td>6</td>\n",
       "      <td>0</td>\n",
       "      <td>4</td>\n",
       "      <td>28</td>\n",
       "    </tr>\n",
       "    <tr>\n",
       "      <th>TORRES, Dara</th>\n",
       "      <td>4</td>\n",
       "      <td>4</td>\n",
       "      <td>4</td>\n",
       "      <td>28</td>\n",
       "    </tr>\n",
       "    <tr>\n",
       "      <th>HALL, Gary Jr.</th>\n",
       "      <td>5</td>\n",
       "      <td>3</td>\n",
       "      <td>2</td>\n",
       "      <td>28</td>\n",
       "    </tr>\n",
       "    <tr>\n",
       "      <th>THORPE, Ian</th>\n",
       "      <td>5</td>\n",
       "      <td>3</td>\n",
       "      <td>1</td>\n",
       "      <td>27</td>\n",
       "    </tr>\n",
       "  </tbody>\n",
       "</table>\n",
       "</div>"
      ],
      "text/plain": [
       "Medal               Gold  Silver  Bronze  Ranking\n",
       "Athlete                                          \n",
       "PHELPS, Michael       14       0       2       58\n",
       "FISCHER, Birgit        8       4       0       40\n",
       "THOMPSON, Jenny        8       3       1       39\n",
       "LEWIS, Carl            9       1       0       38\n",
       "BIONDI, Matthew        8       2       1       37\n",
       "ANDRIANOV, Nikolay     6       4       2       34\n",
       "SCHERBO, Vitaly        6       0       4       28\n",
       "TORRES, Dara           4       4       4       28\n",
       "HALL, Gary Jr.         5       3       2       28\n",
       "THORPE, Ian            5       3       1       27"
      ]
     },
     "execution_count": 51,
     "metadata": {},
     "output_type": "execute_result"
    }
   ],
   "source": [
    "df = df['Gold Silver Bronze Ranking'.split()]\n",
    "df.head(10)"
   ]
  },
  {
   "cell_type": "markdown",
   "metadata": {},
   "source": [
    "Na koniec: przyjmując ten sam ranking punktowy co wyżej, wyznacz 10 najbardziej utytułowanych medalistów w kategorii *Cycling*:"
   ]
  },
  {
   "cell_type": "code",
   "execution_count": 61,
   "metadata": {},
   "outputs": [
    {
     "data": {
      "text/plain": [
       "Sport     Athlete             Medal \n",
       "Aquatics  ABARCA, Jose Maria  Gold      1\n",
       "          ABDO, Reema         Bronze    1\n",
       "          ABRAHAM, Gary       Bronze    1\n",
       "          ADLINGTON, Rebecca  Gold      2\n",
       "          ADRIAN, Nathan      Gold      1\n",
       "dtype: int64"
      ]
     },
     "execution_count": 61,
     "metadata": {},
     "output_type": "execute_result"
    }
   ],
   "source": [
    "s = olimp.groupby('Sport Athlete Medal'.split()).size()\n",
    "s.head(5)"
   ]
  },
  {
   "cell_type": "code",
   "execution_count": 62,
   "metadata": {},
   "outputs": [
    {
     "data": {
      "text/html": [
       "<div>\n",
       "<style scoped>\n",
       "    .dataframe tbody tr th:only-of-type {\n",
       "        vertical-align: middle;\n",
       "    }\n",
       "\n",
       "    .dataframe tbody tr th {\n",
       "        vertical-align: top;\n",
       "    }\n",
       "\n",
       "    .dataframe thead th {\n",
       "        text-align: right;\n",
       "    }\n",
       "</style>\n",
       "<table border=\"1\" class=\"dataframe\">\n",
       "  <thead>\n",
       "    <tr style=\"text-align: right;\">\n",
       "      <th>Medal</th>\n",
       "      <th>Bronze</th>\n",
       "      <th>Gold</th>\n",
       "      <th>Silver</th>\n",
       "    </tr>\n",
       "    <tr>\n",
       "      <th>Athlete</th>\n",
       "      <th></th>\n",
       "      <th></th>\n",
       "      <th></th>\n",
       "    </tr>\n",
       "  </thead>\n",
       "  <tbody>\n",
       "    <tr>\n",
       "      <th>ABASSOVA, Tamilla</th>\n",
       "      <td>0</td>\n",
       "      <td>0</td>\n",
       "      <td>1</td>\n",
       "    </tr>\n",
       "    <tr>\n",
       "      <th>ABSALON, Julien</th>\n",
       "      <td>0</td>\n",
       "      <td>2</td>\n",
       "      <td>0</td>\n",
       "    </tr>\n",
       "    <tr>\n",
       "      <th>ACHERMANN, Alfred</th>\n",
       "      <td>0</td>\n",
       "      <td>0</td>\n",
       "      <td>1</td>\n",
       "    </tr>\n",
       "    <tr>\n",
       "      <th>AITKEN, Brett</th>\n",
       "      <td>1</td>\n",
       "      <td>1</td>\n",
       "      <td>1</td>\n",
       "    </tr>\n",
       "    <tr>\n",
       "      <th>ALBER, Reinhard</th>\n",
       "      <td>1</td>\n",
       "      <td>0</td>\n",
       "      <td>0</td>\n",
       "    </tr>\n",
       "  </tbody>\n",
       "</table>\n",
       "</div>"
      ],
      "text/plain": [
       "Medal              Bronze  Gold  Silver\n",
       "Athlete                                \n",
       "ABASSOVA, Tamilla       0     0       1\n",
       "ABSALON, Julien         0     2       0\n",
       "ACHERMANN, Alfred       0     0       1\n",
       "AITKEN, Brett           1     1       1\n",
       "ALBER, Reinhard         1     0       0"
      ]
     },
     "execution_count": 62,
     "metadata": {},
     "output_type": "execute_result"
    }
   ],
   "source": [
    "df = s.loc['Cycling'].unstack().fillna(0).astype('int')\n",
    "df.head()"
   ]
  },
  {
   "cell_type": "code",
   "execution_count": 63,
   "metadata": {},
   "outputs": [
    {
     "data": {
      "text/html": [
       "<div>\n",
       "<style scoped>\n",
       "    .dataframe tbody tr th:only-of-type {\n",
       "        vertical-align: middle;\n",
       "    }\n",
       "\n",
       "    .dataframe tbody tr th {\n",
       "        vertical-align: top;\n",
       "    }\n",
       "\n",
       "    .dataframe thead th {\n",
       "        text-align: right;\n",
       "    }\n",
       "</style>\n",
       "<table border=\"1\" class=\"dataframe\">\n",
       "  <thead>\n",
       "    <tr style=\"text-align: right;\">\n",
       "      <th>Medal</th>\n",
       "      <th>Gold</th>\n",
       "      <th>Silver</th>\n",
       "      <th>Bronze</th>\n",
       "      <th>Ranking</th>\n",
       "    </tr>\n",
       "    <tr>\n",
       "      <th>Athlete</th>\n",
       "      <th></th>\n",
       "      <th></th>\n",
       "      <th></th>\n",
       "      <th></th>\n",
       "    </tr>\n",
       "  </thead>\n",
       "  <tbody>\n",
       "    <tr>\n",
       "      <th>ZIJLAARD-VAN MOORSEL, Leontien</th>\n",
       "      <td>4</td>\n",
       "      <td>1</td>\n",
       "      <td>1</td>\n",
       "      <td>19</td>\n",
       "    </tr>\n",
       "    <tr>\n",
       "      <th>HOY, Chris</th>\n",
       "      <td>4</td>\n",
       "      <td>1</td>\n",
       "      <td>0</td>\n",
       "      <td>18</td>\n",
       "    </tr>\n",
       "    <tr>\n",
       "      <th>WIGGINS, Bradley</th>\n",
       "      <td>3</td>\n",
       "      <td>1</td>\n",
       "      <td>2</td>\n",
       "      <td>16</td>\n",
       "    </tr>\n",
       "    <tr>\n",
       "      <th>ROUSSEAU, Florian</th>\n",
       "      <td>3</td>\n",
       "      <td>1</td>\n",
       "      <td>0</td>\n",
       "      <td>14</td>\n",
       "    </tr>\n",
       "    <tr>\n",
       "      <th>FIEDLER, Jens</th>\n",
       "      <td>3</td>\n",
       "      <td>0</td>\n",
       "      <td>2</td>\n",
       "      <td>14</td>\n",
       "    </tr>\n",
       "    <tr>\n",
       "      <th>LLANERAS, Joan</th>\n",
       "      <td>2</td>\n",
       "      <td>2</td>\n",
       "      <td>0</td>\n",
       "      <td>12</td>\n",
       "    </tr>\n",
       "    <tr>\n",
       "      <th>LEHMANN, Jens</th>\n",
       "      <td>2</td>\n",
       "      <td>2</td>\n",
       "      <td>0</td>\n",
       "      <td>12</td>\n",
       "    </tr>\n",
       "    <tr>\n",
       "      <th>BALLANGER, Felicia</th>\n",
       "      <td>3</td>\n",
       "      <td>0</td>\n",
       "      <td>0</td>\n",
       "      <td>12</td>\n",
       "    </tr>\n",
       "    <tr>\n",
       "      <th>EKIMOV, Vyacheslav</th>\n",
       "      <td>2</td>\n",
       "      <td>1</td>\n",
       "      <td>0</td>\n",
       "      <td>10</td>\n",
       "    </tr>\n",
       "    <tr>\n",
       "      <th>TOURNANT, Arnaud</th>\n",
       "      <td>1</td>\n",
       "      <td>2</td>\n",
       "      <td>1</td>\n",
       "      <td>9</td>\n",
       "    </tr>\n",
       "  </tbody>\n",
       "</table>\n",
       "</div>"
      ],
      "text/plain": [
       "Medal                           Gold  Silver  Bronze  Ranking\n",
       "Athlete                                                      \n",
       "ZIJLAARD-VAN MOORSEL, Leontien     4       1       1       19\n",
       "HOY, Chris                         4       1       0       18\n",
       "WIGGINS, Bradley                   3       1       2       16\n",
       "ROUSSEAU, Florian                  3       1       0       14\n",
       "FIEDLER, Jens                      3       0       2       14\n",
       "LLANERAS, Joan                     2       2       0       12\n",
       "LEHMANN, Jens                      2       2       0       12\n",
       "BALLANGER, Felicia                 3       0       0       12\n",
       "EKIMOV, Vyacheslav                 2       1       0       10\n",
       "TOURNANT, Arnaud                   1       2       1        9"
      ]
     },
     "execution_count": 63,
     "metadata": {},
     "output_type": "execute_result"
    }
   ],
   "source": [
    "df['Ranking'] = 4*df.Gold + 2*df.Silver + df.Bronze\n",
    "df.sort_values(by='Ranking', ascending=False, inplace=True)\n",
    "df = df['Gold Silver Bronze Ranking'.split()]\n",
    "df.head(10)"
   ]
  }
 ],
 "metadata": {
  "kernelspec": {
   "display_name": "Python 3 (ipykernel)",
   "language": "python",
   "name": "python3"
  },
  "language_info": {
   "codemirror_mode": {
    "name": "ipython",
    "version": 3
   },
   "file_extension": ".py",
   "mimetype": "text/x-python",
   "name": "python",
   "nbconvert_exporter": "python",
   "pygments_lexer": "ipython3",
   "version": "3.9.20"
  }
 },
 "nbformat": 4,
 "nbformat_minor": 4
}
