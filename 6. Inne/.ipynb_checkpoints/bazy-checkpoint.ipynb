{
 "cells": [
  {
   "cell_type": "markdown",
   "metadata": {},
   "source": [
    "### PostgreSQL 16 - pdAdmina"
   ]
  },
  {
   "cell_type": "markdown",
   "metadata": {},
   "source": [
    "- PostgreSQL -> psycopg2\n",
    "- Oracle -> cx_Oracle\n",
    "- MySQL -> pymysql\n",
    "- Microsoft SQL Server -> pyodbc"
   ]
  },
  {
   "cell_type": "code",
   "execution_count": 2,
   "metadata": {},
   "outputs": [
    {
     "name": "stdout",
     "output_type": "stream",
     "text": [
      "Requirement already satisfied: psycopg2 in c:\\users\\tomas\\appdata\\local\\programs\\anaconda3\\lib\\site-packages (2.9.9)\n",
      "Note: you may need to restart the kernel to use updated packages.\n"
     ]
    }
   ],
   "source": [
    "%pip install psycopg2"
   ]
  },
  {
   "cell_type": "code",
   "execution_count": 9,
   "metadata": {},
   "outputs": [],
   "source": [
    "import psycopg2"
   ]
  },
  {
   "cell_type": "code",
   "execution_count": 10,
   "metadata": {},
   "outputs": [],
   "source": [
    "# PODŁĄCZNIE Z BAZĄ\n",
    "conn = psycopg2.connect(host='localhost', database='postgres', user='postgres', password='admin', port=5432)"
   ]
  },
  {
   "cell_type": "code",
   "execution_count": 11,
   "metadata": {},
   "outputs": [],
   "source": [
    "cur = conn.cursor()"
   ]
  },
  {
   "cell_type": "code",
   "execution_count": 12,
   "metadata": {},
   "outputs": [],
   "source": [
    "cur.execute(\"\"\"create table IF NOT EXISTS players (\n",
    "  player_id serial primary key,\n",
    "  first_name text not null,\n",
    "  last_name text not null,\n",
    "  height numeric not null,\n",
    "  weight numeric not null,\n",
    "  salary numeric not null\n",
    ");\n",
    "\"\"\")"
   ]
  },
  {
   "cell_type": "code",
   "execution_count": 13,
   "metadata": {},
   "outputs": [],
   "source": [
    "conn.commit()"
   ]
  },
  {
   "cell_type": "code",
   "execution_count": null,
   "metadata": {},
   "outputs": [],
   "source": []
  },
  {
   "cell_type": "code",
   "execution_count": 14,
   "metadata": {},
   "outputs": [],
   "source": [
    "cur.execute(\"\"\" insert into players (first_name,last_name,height,weight, salary) values\n",
    "('Marian', 'Nowak', 1.90, 80, 10000),\n",
    "('Jan', 'Kowalski', 1.80, 75, 150000),\n",
    "('Chuck', 'Norris', 1.70, 58, 300000);\n",
    "\"\"\")\n",
    "conn.commit()"
   ]
  },
  {
   "cell_type": "code",
   "execution_count": null,
   "metadata": {},
   "outputs": [],
   "source": []
  },
  {
   "cell_type": "markdown",
   "metadata": {},
   "source": [
    "#### SELECT"
   ]
  },
  {
   "cell_type": "code",
   "execution_count": 16,
   "metadata": {},
   "outputs": [
    {
     "name": "stdout",
     "output_type": "stream",
     "text": [
      "[(1, 'Marian', 'Nowak', Decimal('1.90'), Decimal('80'), Decimal('10000')), (2, 'Jan', 'Kowalski', Decimal('1.80'), Decimal('75'), Decimal('150000')), (3, 'Chuck', 'Norris', Decimal('1.70'), Decimal('58'), Decimal('300000'))]\n"
     ]
    }
   ],
   "source": [
    "cur.execute(\"\"\" SELECT * FROM players; \"\"\")\n",
    "print(cur.fetchall())"
   ]
  },
  {
   "cell_type": "code",
   "execution_count": 17,
   "metadata": {},
   "outputs": [
    {
     "name": "stdout",
     "output_type": "stream",
     "text": [
      "(1, 'Marian', 'Nowak', Decimal('1.90'), Decimal('80'), Decimal('10000'))\n",
      "(2, 'Jan', 'Kowalski', Decimal('1.80'), Decimal('75'), Decimal('150000'))\n",
      "(3, 'Chuck', 'Norris', Decimal('1.70'), Decimal('58'), Decimal('300000'))\n"
     ]
    }
   ],
   "source": [
    "cur.execute(\"\"\"SELECT * FROM players;\"\"\")\n",
    "for row in cur.fetchall():\n",
    "    print(row)"
   ]
  },
  {
   "cell_type": "markdown",
   "metadata": {},
   "source": [
    "#### Wstawianie, zmiana i kasowanie danych, oraz operacje DDL"
   ]
  },
  {
   "cell_type": "code",
   "execution_count": 18,
   "metadata": {},
   "outputs": [],
   "source": [
    "# USUWANIE TABELI\n",
    "# cur.execute(\"\"\"DROP TABLE players\"\"\")\n",
    "# conn.commit()"
   ]
  },
  {
   "cell_type": "code",
   "execution_count": null,
   "metadata": {},
   "outputs": [],
   "source": []
  }
 ],
 "metadata": {
  "kernelspec": {
   "display_name": "Python 3 (ipykernel)",
   "language": "python",
   "name": "python3"
  },
  "language_info": {
   "codemirror_mode": {
    "name": "ipython",
    "version": 3
   },
   "file_extension": ".py",
   "mimetype": "text/x-python",
   "name": "python",
   "nbconvert_exporter": "python",
   "pygments_lexer": "ipython3",
   "version": "3.9.20"
  }
 },
 "nbformat": 4,
 "nbformat_minor": 4
}
