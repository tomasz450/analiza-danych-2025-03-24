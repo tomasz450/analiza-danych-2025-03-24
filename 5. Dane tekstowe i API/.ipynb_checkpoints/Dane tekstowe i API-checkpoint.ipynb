{
 "cells": [
  {
   "cell_type": "markdown",
   "id": "1621539a",
   "metadata": {},
   "source": [
    "### 6.Dane tekstowe i API\n",
    "- Proste operacje tekstowe\n",
    "- Łączenie z API i pobieranie danych\n",
    "- Pozyskiwanie ze stron (requests)\n",
    "- Parsowanie stron internetowych (BeautifulSoup)\n",
    "- Przetwarzanie i zapisywanie\n"
   ]
  },
  {
   "cell_type": "markdown",
   "id": "f81d7bec-1f37-42a7-9d79-d39e90838b99",
   "metadata": {},
   "source": [
    "#### Proste operacje tekstowe"
   ]
  },
  {
   "cell_type": "code",
   "execution_count": 1,
   "id": "c32c77f6-73e2-44ab-ad64-5694142bdeb0",
   "metadata": {},
   "outputs": [],
   "source": [
    "text = 'Python'"
   ]
  },
  {
   "cell_type": "code",
   "execution_count": 2,
   "id": "20b51f0e-fbe1-42cf-ab99-08556643c05b",
   "metadata": {},
   "outputs": [
    {
     "name": "stdout",
     "output_type": "stream",
     "text": [
      "['__add__', '__class__', '__contains__', '__delattr__', '__dir__', '__doc__', '__eq__', '__format__', '__ge__', '__getattribute__', '__getitem__', '__getnewargs__', '__gt__', '__hash__', '__init__', '__init_subclass__', '__iter__', '__le__', '__len__', '__lt__', '__mod__', '__mul__', '__ne__', '__new__', '__reduce__', '__reduce_ex__', '__repr__', '__rmod__', '__rmul__', '__setattr__', '__sizeof__', '__str__', '__subclasshook__', 'capitalize', 'casefold', 'center', 'count', 'encode', 'endswith', 'expandtabs', 'find', 'format', 'format_map', 'index', 'isalnum', 'isalpha', 'isascii', 'isdecimal', 'isdigit', 'isidentifier', 'islower', 'isnumeric', 'isprintable', 'isspace', 'istitle', 'isupper', 'join', 'ljust', 'lower', 'lstrip', 'maketrans', 'partition', 'removeprefix', 'removesuffix', 'replace', 'rfind', 'rindex', 'rjust', 'rpartition', 'rsplit', 'rstrip', 'split', 'splitlines', 'startswith', 'strip', 'swapcase', 'title', 'translate', 'upper', 'zfill']\n"
     ]
    }
   ],
   "source": [
    "print(dir(text))"
   ]
  },
  {
   "cell_type": "code",
   "execution_count": 3,
   "id": "6bdfabc4-70b9-4989-b25d-12c07d00e2ba",
   "metadata": {},
   "outputs": [
    {
     "data": {
      "text/plain": [
       "'python'"
      ]
     },
     "execution_count": 3,
     "metadata": {},
     "output_type": "execute_result"
    }
   ],
   "source": [
    "napis = 'python'\n",
    "napis"
   ]
  },
  {
   "cell_type": "code",
   "execution_count": 4,
   "id": "b4194864-0f32-40f6-9775-4164d703cb05",
   "metadata": {},
   "outputs": [
    {
     "data": {
      "text/plain": [
       "'Python'"
      ]
     },
     "execution_count": 4,
     "metadata": {},
     "output_type": "execute_result"
    }
   ],
   "source": [
    "napis.title()"
   ]
  },
  {
   "cell_type": "code",
   "execution_count": 5,
   "id": "c0aec844-5cb6-48a7-a28e-e2244ade7d27",
   "metadata": {},
   "outputs": [
    {
     "data": {
      "text/plain": [
       "'Python'"
      ]
     },
     "execution_count": 5,
     "metadata": {},
     "output_type": "execute_result"
    }
   ],
   "source": [
    "text"
   ]
  },
  {
   "cell_type": "code",
   "execution_count": 7,
   "id": "68af7c4c-3d85-44b5-8e13-d82e52584618",
   "metadata": {},
   "outputs": [
    {
     "data": {
      "text/plain": [
       "'python'"
      ]
     },
     "execution_count": 7,
     "metadata": {},
     "output_type": "execute_result"
    }
   ],
   "source": [
    "text.lower()\n",
    "# Tomek\n",
    "# TOMEK\n",
    "# tomek"
   ]
  },
  {
   "cell_type": "code",
   "execution_count": 8,
   "id": "20d6597f-ac6e-4f02-a326-4617ea97392a",
   "metadata": {},
   "outputs": [
    {
     "data": {
      "text/plain": [
       "'PYTHON'"
      ]
     },
     "execution_count": 8,
     "metadata": {},
     "output_type": "execute_result"
    }
   ],
   "source": [
    "text.upper()"
   ]
  },
  {
   "cell_type": "code",
   "execution_count": 9,
   "id": "01ceea24-7b84-479a-93d3-7940b48648fb",
   "metadata": {},
   "outputs": [],
   "source": [
    "text = 'Python '"
   ]
  },
  {
   "cell_type": "code",
   "execution_count": 10,
   "id": "c17c462f-b514-449f-b6c9-265cb7e1c336",
   "metadata": {},
   "outputs": [
    {
     "data": {
      "text/plain": [
       "'Python'"
      ]
     },
     "execution_count": 10,
     "metadata": {},
     "output_type": "execute_result"
    }
   ],
   "source": [
    "text.strip() # usunięcie białych znaków"
   ]
  },
  {
   "cell_type": "code",
   "execution_count": 11,
   "id": "017a92dd-7283-4e61-99b7-1b2450d9d6ce",
   "metadata": {},
   "outputs": [],
   "source": [
    "napis = '1,3'"
   ]
  },
  {
   "cell_type": "code",
   "execution_count": 12,
   "id": "54dd218c-8357-47b3-8380-0c2194350d58",
   "metadata": {},
   "outputs": [
    {
     "data": {
      "text/plain": [
       "'1.3'"
      ]
     },
     "execution_count": 12,
     "metadata": {},
     "output_type": "execute_result"
    }
   ],
   "source": [
    "napis.replace(',','.')"
   ]
  },
  {
   "cell_type": "code",
   "execution_count": 13,
   "id": "8c96408d-7321-47f4-ae0c-d24dd22a6ffd",
   "metadata": {},
   "outputs": [],
   "source": [
    "napis = 'python'"
   ]
  },
  {
   "cell_type": "code",
   "execution_count": 15,
   "id": "0e5e68a3-0f66-425a-b305-6da2728fe259",
   "metadata": {},
   "outputs": [
    {
     "data": {
      "text/plain": [
       "True"
      ]
     },
     "execution_count": 15,
     "metadata": {},
     "output_type": "execute_result"
    }
   ],
   "source": [
    "len(napis) == 6"
   ]
  },
  {
   "cell_type": "code",
   "execution_count": 16,
   "id": "41be89a0-de79-4cba-a75a-78a04ae1078d",
   "metadata": {},
   "outputs": [],
   "source": [
    "napis = 'python'"
   ]
  },
  {
   "cell_type": "code",
   "execution_count": 17,
   "id": "b6bc7fca-cbbc-468c-b533-498432d29678",
   "metadata": {},
   "outputs": [
    {
     "data": {
      "text/plain": [
       "1"
      ]
     },
     "execution_count": 17,
     "metadata": {},
     "output_type": "execute_result"
    }
   ],
   "source": [
    "napis.count('p')"
   ]
  },
  {
   "cell_type": "code",
   "execution_count": 18,
   "id": "51dc4283-69d1-43ee-bb2d-21272f973063",
   "metadata": {},
   "outputs": [],
   "source": [
    "numer = '123,345,45'"
   ]
  },
  {
   "cell_type": "code",
   "execution_count": 20,
   "id": "a51445a9-7787-47eb-8bdb-7a892635953c",
   "metadata": {},
   "outputs": [
    {
     "data": {
      "text/plain": [
       "['123', '345', '45']"
      ]
     },
     "execution_count": 20,
     "metadata": {},
     "output_type": "execute_result"
    }
   ],
   "source": [
    "numer.split(',')"
   ]
  },
  {
   "cell_type": "code",
   "execution_count": 21,
   "id": "a0aea060-5a35-42db-bffe-d3a199e71346",
   "metadata": {},
   "outputs": [],
   "source": [
    "telefon = '999-999-999'"
   ]
  },
  {
   "cell_type": "code",
   "execution_count": 22,
   "id": "66827a21-8e37-49fa-bd36-6366595b74ca",
   "metadata": {},
   "outputs": [
    {
     "data": {
      "text/plain": [
       "'999999999'"
      ]
     },
     "execution_count": 22,
     "metadata": {},
     "output_type": "execute_result"
    }
   ],
   "source": [
    "telefon.replace('-', '')"
   ]
  },
  {
   "cell_type": "code",
   "execution_count": 31,
   "id": "d3bc233b-fc08-4a08-8b72-54673415e3fc",
   "metadata": {},
   "outputs": [
    {
     "data": {
      "text/plain": [
       "['999', '999', '999']"
      ]
     },
     "execution_count": 31,
     "metadata": {},
     "output_type": "execute_result"
    }
   ],
   "source": [
    "telefon = '999-999-999'\n",
    "telefon = telefon.split('-')\n",
    "telefon"
   ]
  },
  {
   "cell_type": "code",
   "execution_count": 25,
   "id": "23ff903c-3409-4ba1-addd-56730d21364d",
   "metadata": {},
   "outputs": [
    {
     "data": {
      "text/plain": [
       "'999-999-999'"
      ]
     },
     "execution_count": 25,
     "metadata": {},
     "output_type": "execute_result"
    }
   ],
   "source": [
    "telefon = '999-999-999'\n",
    "telefon = telefon.split('-')\n",
    "'-'.join(telefon)"
   ]
  },
  {
   "cell_type": "code",
   "execution_count": 27,
   "id": "4ab11e1c-d195-4c33-b430-0e9b7501cfe2",
   "metadata": {},
   "outputs": [
    {
     "data": {
      "text/plain": [
       "'sport#python#free#time'"
      ]
     },
     "execution_count": 27,
     "metadata": {},
     "output_type": "execute_result"
    }
   ],
   "source": [
    "words = ['sport', 'python', 'free', 'time']\n",
    "joined_words = '#'.join(words)\n",
    "joined_words"
   ]
  },
  {
   "cell_type": "markdown",
   "id": "10fbe6e4-29f4-4e1b-94d5-e7c2cdf59571",
   "metadata": {},
   "source": [
    "##### Przykład"
   ]
  },
  {
   "cell_type": "code",
   "execution_count": 32,
   "id": "aac6754e-4f58-43db-a7d5-8fa367560ef1",
   "metadata": {},
   "outputs": [],
   "source": [
    "'0123456789'\n",
    "wynik = '01-23-45-67-89'"
   ]
  },
  {
   "cell_type": "code",
   "execution_count": 37,
   "id": "e2373662-a0ff-4ab2-9df1-a99e3c85dd00",
   "metadata": {},
   "outputs": [],
   "source": [
    "s = \"0123456789\""
   ]
  },
  {
   "cell_type": "code",
   "execution_count": 38,
   "id": "564180db-b17c-43f6-82b9-64a451e172d3",
   "metadata": {},
   "outputs": [
    {
     "data": {
      "text/plain": [
       "'01'"
      ]
     },
     "execution_count": 38,
     "metadata": {},
     "output_type": "execute_result"
    }
   ],
   "source": [
    "s[0:2]"
   ]
  },
  {
   "cell_type": "code",
   "execution_count": 42,
   "id": "b8a33081-4473-4bba-8b2d-38423fb3fc5c",
   "metadata": {},
   "outputs": [
    {
     "data": {
      "text/plain": [
       "'01-23-45-67-89'"
      ]
     },
     "execution_count": 42,
     "metadata": {},
     "output_type": "execute_result"
    }
   ],
   "source": [
    "l = []\n",
    "\n",
    "for i in range(0,len(s), 2):\n",
    "    l.append(s[i:i+2])\n",
    "'-'.join(l)"
   ]
  },
  {
   "cell_type": "code",
   "execution_count": 43,
   "id": "50f0cf31-7d3c-40b2-915a-8fe900e0a9f3",
   "metadata": {},
   "outputs": [
    {
     "data": {
      "text/plain": [
       "'01-23-45-67-89'"
      ]
     },
     "execution_count": 43,
     "metadata": {},
     "output_type": "execute_result"
    }
   ],
   "source": [
    "s = \"0123456789\"\n",
    "result = '-'.join([s[i:i+2] for i in range(0, len(s), 2)])\n",
    "result"
   ]
  },
  {
   "cell_type": "code",
   "execution_count": null,
   "id": "b090ecd4-4010-4a2a-9941-debd8eac8881",
   "metadata": {},
   "outputs": [],
   "source": []
  },
  {
   "cell_type": "code",
   "execution_count": 48,
   "id": "e7cf22c8-1b14-45cd-87d0-7050f98a4afe",
   "metadata": {},
   "outputs": [
    {
     "data": {
      "text/plain": [
       "['PROG', 'PY']"
      ]
     },
     "execution_count": 48,
     "metadata": {},
     "output_type": "execute_result"
    }
   ],
   "source": [
    "napis = 'prog.py'\n",
    "napis.upper().split('.')"
   ]
  },
  {
   "cell_type": "markdown",
   "id": "dfa4b5bd-f68c-4786-b13f-3fd241f11b2e",
   "metadata": {},
   "source": [
    "#### o cięciu łańcuchów tekstowych słów kilka"
   ]
  },
  {
   "cell_type": "code",
   "execution_count": 49,
   "id": "197f337b-dfe5-49a2-958a-fef3a16f3a6a",
   "metadata": {},
   "outputs": [],
   "source": [
    "lancuch=\"123456789\""
   ]
  },
  {
   "cell_type": "code",
   "execution_count": 50,
   "id": "5c951c7a-29e0-4377-934a-1be0d8db9f94",
   "metadata": {},
   "outputs": [
    {
     "data": {
      "text/plain": [
       "'3'"
      ]
     },
     "execution_count": 50,
     "metadata": {},
     "output_type": "execute_result"
    }
   ],
   "source": [
    "lancuch[2]"
   ]
  },
  {
   "cell_type": "code",
   "execution_count": 51,
   "id": "90efa53c-d5ff-4797-bb81-f716980d72e3",
   "metadata": {},
   "outputs": [
    {
     "data": {
      "text/plain": [
       "'8'"
      ]
     },
     "execution_count": 51,
     "metadata": {},
     "output_type": "execute_result"
    }
   ],
   "source": [
    "lancuch[-2]"
   ]
  },
  {
   "cell_type": "code",
   "execution_count": 52,
   "id": "ace55b3d-379e-4dc8-87d3-021cdfe91a6e",
   "metadata": {},
   "outputs": [
    {
     "data": {
      "text/plain": [
       "'345'"
      ]
     },
     "execution_count": 52,
     "metadata": {},
     "output_type": "execute_result"
    }
   ],
   "source": [
    "lancuch[2:5]"
   ]
  },
  {
   "cell_type": "code",
   "execution_count": 53,
   "id": "cabc941b-3e60-4823-bb94-c7f61c892969",
   "metadata": {},
   "outputs": [
    {
     "data": {
      "text/plain": [
       "'135'"
      ]
     },
     "execution_count": 53,
     "metadata": {},
     "output_type": "execute_result"
    }
   ],
   "source": [
    "lancuch[0:6:2]"
   ]
  },
  {
   "cell_type": "code",
   "execution_count": 54,
   "id": "7a22ea49-3ae9-4166-ae7f-707749512150",
   "metadata": {},
   "outputs": [],
   "source": [
    "import pandas as pd"
   ]
  },
  {
   "cell_type": "code",
   "execution_count": 55,
   "id": "c0517a6d-23c5-4fe8-acda-ab277d28c546",
   "metadata": {},
   "outputs": [
    {
     "data": {
      "text/plain": [
       "a     3.00\n",
       "a     1.00\n",
       "c     2.71\n",
       "d   -10.00\n",
       "dtype: float64"
      ]
     },
     "execution_count": 55,
     "metadata": {},
     "output_type": "execute_result"
    }
   ],
   "source": [
    "s = pd.Series([3, 1, 2.71, -10], index=['a', 'a', 'c', 'd'])\n",
    "s"
   ]
  },
  {
   "cell_type": "code",
   "execution_count": 56,
   "id": "f37c6286-f526-4363-92da-efb0d005577b",
   "metadata": {},
   "outputs": [
    {
     "data": {
      "text/plain": [
       "a      3,0\n",
       "a      1,0\n",
       "c     2,71\n",
       "d    -10,0\n",
       "dtype: object"
      ]
     },
     "execution_count": 56,
     "metadata": {},
     "output_type": "execute_result"
    }
   ],
   "source": [
    "s.apply(lambda x: str(x).replace('.', ','))"
   ]
  }
 ],
 "metadata": {
  "kernelspec": {
   "display_name": "Python 3 (ipykernel)",
   "language": "python",
   "name": "python3"
  },
  "language_info": {
   "codemirror_mode": {
    "name": "ipython",
    "version": 3
   },
   "file_extension": ".py",
   "mimetype": "text/x-python",
   "name": "python",
   "nbconvert_exporter": "python",
   "pygments_lexer": "ipython3",
   "version": "3.9.20"
  }
 },
 "nbformat": 4,
 "nbformat_minor": 5
}
