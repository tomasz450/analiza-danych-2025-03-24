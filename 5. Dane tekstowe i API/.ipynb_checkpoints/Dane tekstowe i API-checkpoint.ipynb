{
 "cells": [
  {
   "cell_type": "markdown",
   "id": "1621539a",
   "metadata": {},
   "source": [
    "### 6.Dane tekstowe i API\n",
    "- Proste operacje tekstowe\n",
    "- Łączenie z API i pobieranie danych\n",
    "- Pozyskiwanie ze stron (requests)\n",
    "- Parsowanie stron internetowych (BeautifulSoup)\n",
    "- Przetwarzanie i zapisywanie\n"
   ]
  },
  {
   "cell_type": "markdown",
   "id": "f81d7bec-1f37-42a7-9d79-d39e90838b99",
   "metadata": {},
   "source": [
    "#### Proste operacje tekstowe"
   ]
  },
  {
   "cell_type": "code",
   "execution_count": 1,
   "id": "c32c77f6-73e2-44ab-ad64-5694142bdeb0",
   "metadata": {},
   "outputs": [],
   "source": [
    "text = 'Python'"
   ]
  },
  {
   "cell_type": "code",
   "execution_count": 2,
   "id": "20b51f0e-fbe1-42cf-ab99-08556643c05b",
   "metadata": {},
   "outputs": [
    {
     "name": "stdout",
     "output_type": "stream",
     "text": [
      "['__add__', '__class__', '__contains__', '__delattr__', '__dir__', '__doc__', '__eq__', '__format__', '__ge__', '__getattribute__', '__getitem__', '__getnewargs__', '__gt__', '__hash__', '__init__', '__init_subclass__', '__iter__', '__le__', '__len__', '__lt__', '__mod__', '__mul__', '__ne__', '__new__', '__reduce__', '__reduce_ex__', '__repr__', '__rmod__', '__rmul__', '__setattr__', '__sizeof__', '__str__', '__subclasshook__', 'capitalize', 'casefold', 'center', 'count', 'encode', 'endswith', 'expandtabs', 'find', 'format', 'format_map', 'index', 'isalnum', 'isalpha', 'isascii', 'isdecimal', 'isdigit', 'isidentifier', 'islower', 'isnumeric', 'isprintable', 'isspace', 'istitle', 'isupper', 'join', 'ljust', 'lower', 'lstrip', 'maketrans', 'partition', 'removeprefix', 'removesuffix', 'replace', 'rfind', 'rindex', 'rjust', 'rpartition', 'rsplit', 'rstrip', 'split', 'splitlines', 'startswith', 'strip', 'swapcase', 'title', 'translate', 'upper', 'zfill']\n"
     ]
    }
   ],
   "source": [
    "print(dir(text))"
   ]
  },
  {
   "cell_type": "code",
   "execution_count": 3,
   "id": "6bdfabc4-70b9-4989-b25d-12c07d00e2ba",
   "metadata": {},
   "outputs": [
    {
     "data": {
      "text/plain": [
       "'python'"
      ]
     },
     "execution_count": 3,
     "metadata": {},
     "output_type": "execute_result"
    }
   ],
   "source": [
    "napis = 'python'\n",
    "napis"
   ]
  },
  {
   "cell_type": "code",
   "execution_count": 4,
   "id": "b4194864-0f32-40f6-9775-4164d703cb05",
   "metadata": {},
   "outputs": [
    {
     "data": {
      "text/plain": [
       "'Python'"
      ]
     },
     "execution_count": 4,
     "metadata": {},
     "output_type": "execute_result"
    }
   ],
   "source": [
    "napis.title()"
   ]
  },
  {
   "cell_type": "code",
   "execution_count": 5,
   "id": "c0aec844-5cb6-48a7-a28e-e2244ade7d27",
   "metadata": {},
   "outputs": [
    {
     "data": {
      "text/plain": [
       "'Python'"
      ]
     },
     "execution_count": 5,
     "metadata": {},
     "output_type": "execute_result"
    }
   ],
   "source": [
    "text"
   ]
  },
  {
   "cell_type": "code",
   "execution_count": 7,
   "id": "68af7c4c-3d85-44b5-8e13-d82e52584618",
   "metadata": {},
   "outputs": [
    {
     "data": {
      "text/plain": [
       "'python'"
      ]
     },
     "execution_count": 7,
     "metadata": {},
     "output_type": "execute_result"
    }
   ],
   "source": [
    "text.lower()\n",
    "# Tomek\n",
    "# TOMEK\n",
    "# tomek"
   ]
  },
  {
   "cell_type": "code",
   "execution_count": 8,
   "id": "20d6597f-ac6e-4f02-a326-4617ea97392a",
   "metadata": {},
   "outputs": [
    {
     "data": {
      "text/plain": [
       "'PYTHON'"
      ]
     },
     "execution_count": 8,
     "metadata": {},
     "output_type": "execute_result"
    }
   ],
   "source": [
    "text.upper()"
   ]
  },
  {
   "cell_type": "code",
   "execution_count": 9,
   "id": "01ceea24-7b84-479a-93d3-7940b48648fb",
   "metadata": {},
   "outputs": [],
   "source": [
    "text = 'Python '"
   ]
  },
  {
   "cell_type": "code",
   "execution_count": 10,
   "id": "c17c462f-b514-449f-b6c9-265cb7e1c336",
   "metadata": {},
   "outputs": [
    {
     "data": {
      "text/plain": [
       "'Python'"
      ]
     },
     "execution_count": 10,
     "metadata": {},
     "output_type": "execute_result"
    }
   ],
   "source": [
    "text.strip() # usunięcie białych znaków"
   ]
  },
  {
   "cell_type": "code",
   "execution_count": 11,
   "id": "017a92dd-7283-4e61-99b7-1b2450d9d6ce",
   "metadata": {},
   "outputs": [],
   "source": [
    "napis = '1,3'"
   ]
  },
  {
   "cell_type": "code",
   "execution_count": 12,
   "id": "54dd218c-8357-47b3-8380-0c2194350d58",
   "metadata": {},
   "outputs": [
    {
     "data": {
      "text/plain": [
       "'1.3'"
      ]
     },
     "execution_count": 12,
     "metadata": {},
     "output_type": "execute_result"
    }
   ],
   "source": [
    "napis.replace(',','.')"
   ]
  },
  {
   "cell_type": "code",
   "execution_count": 13,
   "id": "8c96408d-7321-47f4-ae0c-d24dd22a6ffd",
   "metadata": {},
   "outputs": [],
   "source": [
    "napis = 'python'"
   ]
  },
  {
   "cell_type": "code",
   "execution_count": 15,
   "id": "0e5e68a3-0f66-425a-b305-6da2728fe259",
   "metadata": {},
   "outputs": [
    {
     "data": {
      "text/plain": [
       "True"
      ]
     },
     "execution_count": 15,
     "metadata": {},
     "output_type": "execute_result"
    }
   ],
   "source": [
    "len(napis) == 6"
   ]
  },
  {
   "cell_type": "code",
   "execution_count": 16,
   "id": "41be89a0-de79-4cba-a75a-78a04ae1078d",
   "metadata": {},
   "outputs": [],
   "source": [
    "napis = 'python'"
   ]
  },
  {
   "cell_type": "code",
   "execution_count": 17,
   "id": "b6bc7fca-cbbc-468c-b533-498432d29678",
   "metadata": {},
   "outputs": [
    {
     "data": {
      "text/plain": [
       "1"
      ]
     },
     "execution_count": 17,
     "metadata": {},
     "output_type": "execute_result"
    }
   ],
   "source": [
    "napis.count('p')"
   ]
  },
  {
   "cell_type": "code",
   "execution_count": 18,
   "id": "51dc4283-69d1-43ee-bb2d-21272f973063",
   "metadata": {},
   "outputs": [],
   "source": [
    "numer = '123,345,45'"
   ]
  },
  {
   "cell_type": "code",
   "execution_count": 20,
   "id": "a51445a9-7787-47eb-8bdb-7a892635953c",
   "metadata": {},
   "outputs": [
    {
     "data": {
      "text/plain": [
       "['123', '345', '45']"
      ]
     },
     "execution_count": 20,
     "metadata": {},
     "output_type": "execute_result"
    }
   ],
   "source": [
    "numer.split(',')"
   ]
  },
  {
   "cell_type": "code",
   "execution_count": 21,
   "id": "a0aea060-5a35-42db-bffe-d3a199e71346",
   "metadata": {},
   "outputs": [],
   "source": [
    "telefon = '999-999-999'"
   ]
  },
  {
   "cell_type": "code",
   "execution_count": 22,
   "id": "66827a21-8e37-49fa-bd36-6366595b74ca",
   "metadata": {},
   "outputs": [
    {
     "data": {
      "text/plain": [
       "'999999999'"
      ]
     },
     "execution_count": 22,
     "metadata": {},
     "output_type": "execute_result"
    }
   ],
   "source": [
    "telefon.replace('-', '')"
   ]
  },
  {
   "cell_type": "code",
   "execution_count": 31,
   "id": "d3bc233b-fc08-4a08-8b72-54673415e3fc",
   "metadata": {},
   "outputs": [
    {
     "data": {
      "text/plain": [
       "['999', '999', '999']"
      ]
     },
     "execution_count": 31,
     "metadata": {},
     "output_type": "execute_result"
    }
   ],
   "source": [
    "telefon = '999-999-999'\n",
    "telefon = telefon.split('-')\n",
    "telefon"
   ]
  },
  {
   "cell_type": "code",
   "execution_count": 25,
   "id": "23ff903c-3409-4ba1-addd-56730d21364d",
   "metadata": {},
   "outputs": [
    {
     "data": {
      "text/plain": [
       "'999-999-999'"
      ]
     },
     "execution_count": 25,
     "metadata": {},
     "output_type": "execute_result"
    }
   ],
   "source": [
    "telefon = '999-999-999'\n",
    "telefon = telefon.split('-')\n",
    "'-'.join(telefon)"
   ]
  },
  {
   "cell_type": "code",
   "execution_count": 27,
   "id": "4ab11e1c-d195-4c33-b430-0e9b7501cfe2",
   "metadata": {},
   "outputs": [
    {
     "data": {
      "text/plain": [
       "'sport#python#free#time'"
      ]
     },
     "execution_count": 27,
     "metadata": {},
     "output_type": "execute_result"
    }
   ],
   "source": [
    "words = ['sport', 'python', 'free', 'time']\n",
    "joined_words = '#'.join(words)\n",
    "joined_words"
   ]
  },
  {
   "cell_type": "markdown",
   "id": "10fbe6e4-29f4-4e1b-94d5-e7c2cdf59571",
   "metadata": {},
   "source": [
    "##### Przykład"
   ]
  },
  {
   "cell_type": "code",
   "execution_count": 32,
   "id": "aac6754e-4f58-43db-a7d5-8fa367560ef1",
   "metadata": {},
   "outputs": [],
   "source": [
    "'0123456789'\n",
    "wynik = '01-23-45-67-89'"
   ]
  },
  {
   "cell_type": "code",
   "execution_count": 37,
   "id": "e2373662-a0ff-4ab2-9df1-a99e3c85dd00",
   "metadata": {},
   "outputs": [],
   "source": [
    "s = \"0123456789\""
   ]
  },
  {
   "cell_type": "code",
   "execution_count": 38,
   "id": "564180db-b17c-43f6-82b9-64a451e172d3",
   "metadata": {},
   "outputs": [
    {
     "data": {
      "text/plain": [
       "'01'"
      ]
     },
     "execution_count": 38,
     "metadata": {},
     "output_type": "execute_result"
    }
   ],
   "source": [
    "s[0:2]"
   ]
  },
  {
   "cell_type": "code",
   "execution_count": 42,
   "id": "b8a33081-4473-4bba-8b2d-38423fb3fc5c",
   "metadata": {},
   "outputs": [
    {
     "data": {
      "text/plain": [
       "'01-23-45-67-89'"
      ]
     },
     "execution_count": 42,
     "metadata": {},
     "output_type": "execute_result"
    }
   ],
   "source": [
    "l = []\n",
    "\n",
    "for i in range(0,len(s), 2):\n",
    "    l.append(s[i:i+2])\n",
    "'-'.join(l)"
   ]
  },
  {
   "cell_type": "code",
   "execution_count": 43,
   "id": "50f0cf31-7d3c-40b2-915a-8fe900e0a9f3",
   "metadata": {},
   "outputs": [
    {
     "data": {
      "text/plain": [
       "'01-23-45-67-89'"
      ]
     },
     "execution_count": 43,
     "metadata": {},
     "output_type": "execute_result"
    }
   ],
   "source": [
    "s = \"0123456789\"\n",
    "result = '-'.join([s[i:i+2] for i in range(0, len(s), 2)])\n",
    "result"
   ]
  },
  {
   "cell_type": "code",
   "execution_count": null,
   "id": "b090ecd4-4010-4a2a-9941-debd8eac8881",
   "metadata": {},
   "outputs": [],
   "source": []
  },
  {
   "cell_type": "code",
   "execution_count": 48,
   "id": "e7cf22c8-1b14-45cd-87d0-7050f98a4afe",
   "metadata": {},
   "outputs": [
    {
     "data": {
      "text/plain": [
       "['PROG', 'PY']"
      ]
     },
     "execution_count": 48,
     "metadata": {},
     "output_type": "execute_result"
    }
   ],
   "source": [
    "napis = 'prog.py'\n",
    "napis.upper().split('.')"
   ]
  },
  {
   "cell_type": "markdown",
   "id": "dfa4b5bd-f68c-4786-b13f-3fd241f11b2e",
   "metadata": {},
   "source": [
    "#### o cięciu łańcuchów tekstowych słów kilka"
   ]
  },
  {
   "cell_type": "code",
   "execution_count": 49,
   "id": "197f337b-dfe5-49a2-958a-fef3a16f3a6a",
   "metadata": {},
   "outputs": [],
   "source": [
    "lancuch=\"123456789\""
   ]
  },
  {
   "cell_type": "code",
   "execution_count": 50,
   "id": "5c951c7a-29e0-4377-934a-1be0d8db9f94",
   "metadata": {},
   "outputs": [
    {
     "data": {
      "text/plain": [
       "'3'"
      ]
     },
     "execution_count": 50,
     "metadata": {},
     "output_type": "execute_result"
    }
   ],
   "source": [
    "lancuch[2]"
   ]
  },
  {
   "cell_type": "code",
   "execution_count": 51,
   "id": "90efa53c-d5ff-4797-bb81-f716980d72e3",
   "metadata": {},
   "outputs": [
    {
     "data": {
      "text/plain": [
       "'8'"
      ]
     },
     "execution_count": 51,
     "metadata": {},
     "output_type": "execute_result"
    }
   ],
   "source": [
    "lancuch[-2]"
   ]
  },
  {
   "cell_type": "code",
   "execution_count": 52,
   "id": "ace55b3d-379e-4dc8-87d3-021cdfe91a6e",
   "metadata": {},
   "outputs": [
    {
     "data": {
      "text/plain": [
       "'345'"
      ]
     },
     "execution_count": 52,
     "metadata": {},
     "output_type": "execute_result"
    }
   ],
   "source": [
    "lancuch[2:5]"
   ]
  },
  {
   "cell_type": "code",
   "execution_count": 53,
   "id": "cabc941b-3e60-4823-bb94-c7f61c892969",
   "metadata": {},
   "outputs": [
    {
     "data": {
      "text/plain": [
       "'135'"
      ]
     },
     "execution_count": 53,
     "metadata": {},
     "output_type": "execute_result"
    }
   ],
   "source": [
    "lancuch[0:6:2]"
   ]
  },
  {
   "cell_type": "code",
   "execution_count": 54,
   "id": "7a22ea49-3ae9-4166-ae7f-707749512150",
   "metadata": {},
   "outputs": [],
   "source": [
    "import pandas as pd"
   ]
  },
  {
   "cell_type": "code",
   "execution_count": 55,
   "id": "c0517a6d-23c5-4fe8-acda-ab277d28c546",
   "metadata": {},
   "outputs": [
    {
     "data": {
      "text/plain": [
       "a     3.00\n",
       "a     1.00\n",
       "c     2.71\n",
       "d   -10.00\n",
       "dtype: float64"
      ]
     },
     "execution_count": 55,
     "metadata": {},
     "output_type": "execute_result"
    }
   ],
   "source": [
    "s = pd.Series([3, 1, 2.71, -10], index=['a', 'a', 'c', 'd'])\n",
    "s"
   ]
  },
  {
   "cell_type": "code",
   "execution_count": 56,
   "id": "f37c6286-f526-4363-92da-efb0d005577b",
   "metadata": {},
   "outputs": [
    {
     "data": {
      "text/plain": [
       "a      3,0\n",
       "a      1,0\n",
       "c     2,71\n",
       "d    -10,0\n",
       "dtype: object"
      ]
     },
     "execution_count": 56,
     "metadata": {},
     "output_type": "execute_result"
    }
   ],
   "source": [
    "s.apply(lambda x: str(x).replace('.', ','))"
   ]
  },
  {
   "cell_type": "code",
   "execution_count": null,
   "id": "aa8e2d6e-cadb-4355-a712-ee15797c5578",
   "metadata": {},
   "outputs": [],
   "source": []
  },
  {
   "cell_type": "markdown",
   "id": "be055359-0f10-4e0c-bdcc-4e596e857703",
   "metadata": {},
   "source": [
    "### Łączenie z API i pobieranie danych\n",
    "\n",
    "Łączenie się z API (Application Programming Interface) i pobieranie danych to element analizy danych, który pozwala na dostęp do dynamicznych i często aktualizowanych źródeł informacji. API umożliwiają programistom komunikację z różnymi usługami internetowymi, takimi jak serwisy pogodowe, platformy społecznościowe czy bazy danych finansowych.\n",
    "\n",
    "#### Podstawy łączenia się z API\n",
    "\n",
    "API zazwyczaj działają na zasadzie wysyłania żądań HTTP i otrzymywania odpowiedzi, zazwyczaj w formacie JSON lub XML. W Pythonie najpopularniejszą biblioteką do wysyłania żądań HTTP jest `requests`.\n",
    "\n",
    "\n",
    "\n",
    "### Podsumowanie\n",
    "\n",
    "Łączenie się z API i pobieranie danych jest fundamentalnym aspektem analizy danych, pozwalającym na dostęp do dynamicznych i aktualizowanych źródeł informacji. Korzystanie z biblioteki `requests` w Pythonie umożliwia łatwe wysyłanie zapytań HTTP GET i POST, zarówno do publicznych API, jak i tych wymagających autoryzacji. Dzięki temu można pobierać, przetwarzać i analizować dane z różnorodnych źródeł, co jest kluczowe dla nowoczesnych aplikacji analitycznych i naukowych."
   ]
  },
  {
   "cell_type": "markdown",
   "id": "9c2007de-4c4a-44c2-826c-82a36a36920e",
   "metadata": {},
   "source": [
    "### https://api.nbp.pl/"
   ]
  },
  {
   "cell_type": "code",
   "execution_count": 57,
   "id": "addd41b7-82f3-4320-aad3-fb626b8daa86",
   "metadata": {},
   "outputs": [],
   "source": [
    "import pandas as pd"
   ]
  },
  {
   "cell_type": "code",
   "execution_count": 58,
   "id": "4eb15e8d-bcc8-481b-af8d-8c35d8bf19c6",
   "metadata": {},
   "outputs": [
    {
     "data": {
      "text/html": [
       "<div>\n",
       "<style scoped>\n",
       "    .dataframe tbody tr th:only-of-type {\n",
       "        vertical-align: middle;\n",
       "    }\n",
       "\n",
       "    .dataframe tbody tr th {\n",
       "        vertical-align: top;\n",
       "    }\n",
       "\n",
       "    .dataframe thead th {\n",
       "        text-align: right;\n",
       "    }\n",
       "</style>\n",
       "<table border=\"1\" class=\"dataframe\">\n",
       "  <thead>\n",
       "    <tr style=\"text-align: right;\">\n",
       "      <th></th>\n",
       "      <th>table</th>\n",
       "      <th>currency</th>\n",
       "      <th>code</th>\n",
       "      <th>rates</th>\n",
       "    </tr>\n",
       "  </thead>\n",
       "  <tbody>\n",
       "    <tr>\n",
       "      <th>0</th>\n",
       "      <td>A</td>\n",
       "      <td>dolar amerykański</td>\n",
       "      <td>USD</td>\n",
       "      <td>{'no': '058/A/NBP/2025', 'effectiveDate': '202...</td>\n",
       "    </tr>\n",
       "  </tbody>\n",
       "</table>\n",
       "</div>"
      ],
      "text/plain": [
       "  table           currency code  \\\n",
       "0     A  dolar amerykański  USD   \n",
       "\n",
       "                                               rates  \n",
       "0  {'no': '058/A/NBP/2025', 'effectiveDate': '202...  "
      ]
     },
     "execution_count": 58,
     "metadata": {},
     "output_type": "execute_result"
    }
   ],
   "source": [
    "a = pd.read_json('http://api.nbp.pl/api/exchangerates/rates/a/USD/')\n",
    "a"
   ]
  },
  {
   "cell_type": "code",
   "execution_count": 65,
   "id": "23406a5c-73a9-4225-90a4-e597c80901bd",
   "metadata": {},
   "outputs": [
    {
     "data": {
      "text/plain": [
       "3.8578"
      ]
     },
     "execution_count": 65,
     "metadata": {},
     "output_type": "execute_result"
    }
   ],
   "source": [
    "aktualna_cena_dolara = a['rates'].values[0]['mid']\n",
    "aktualna_cena_dolara"
   ]
  },
  {
   "cell_type": "code",
   "execution_count": 66,
   "id": "401cf5a3-54a7-4c6b-b37c-42dc4b8dd4c3",
   "metadata": {},
   "outputs": [
    {
     "data": {
      "text/html": [
       "<div>\n",
       "<style scoped>\n",
       "    .dataframe tbody tr th:only-of-type {\n",
       "        vertical-align: middle;\n",
       "    }\n",
       "\n",
       "    .dataframe tbody tr th {\n",
       "        vertical-align: top;\n",
       "    }\n",
       "\n",
       "    .dataframe thead th {\n",
       "        text-align: right;\n",
       "    }\n",
       "</style>\n",
       "<table border=\"1\" class=\"dataframe\">\n",
       "  <thead>\n",
       "    <tr style=\"text-align: right;\">\n",
       "      <th></th>\n",
       "      <th>data</th>\n",
       "      <th>cena</th>\n",
       "    </tr>\n",
       "  </thead>\n",
       "  <tbody>\n",
       "    <tr>\n",
       "      <th>0</th>\n",
       "      <td>2025-03-26</td>\n",
       "      <td>375.21</td>\n",
       "    </tr>\n",
       "  </tbody>\n",
       "</table>\n",
       "</div>"
      ],
      "text/plain": [
       "         data    cena\n",
       "0  2025-03-26  375.21"
      ]
     },
     "execution_count": 66,
     "metadata": {},
     "output_type": "execute_result"
    }
   ],
   "source": [
    "pd.read_json('http://api.nbp.pl/api/cenyzlota/')"
   ]
  },
  {
   "cell_type": "code",
   "execution_count": 67,
   "id": "76c6b8de-fdf1-49bf-a419-562c6d5cc837",
   "metadata": {},
   "outputs": [
    {
     "data": {
      "text/plain": [
       "0    375.21\n",
       "Name: cena, dtype: float64"
      ]
     },
     "execution_count": 67,
     "metadata": {},
     "output_type": "execute_result"
    }
   ],
   "source": [
    "cena_złota_dzis = pd.read_json('http://api.nbp.pl/api/cenyzlota/')\n",
    "cena_złota_dzis.cena"
   ]
  },
  {
   "cell_type": "code",
   "execution_count": 72,
   "id": "91d42e0a-c3eb-4f19-830d-c4f948eef1fa",
   "metadata": {},
   "outputs": [
    {
     "data": {
      "text/plain": [
       "'2025-03-25'"
      ]
     },
     "execution_count": 72,
     "metadata": {},
     "output_type": "execute_result"
    }
   ],
   "source": []
  },
  {
   "cell_type": "code",
   "execution_count": 73,
   "id": "678f57a2-5dc1-4495-9695-73adea0f9de4",
   "metadata": {},
   "outputs": [],
   "source": [
    "waluta = 'USD'\n",
    "start = '2025-01-01'\n",
    "end = (pd.Timestamp.today() - pd.Timedelta(days=1)).strftime('%Y-%m-%d')"
   ]
  },
  {
   "cell_type": "code",
   "execution_count": 74,
   "id": "0de2f628-6ca6-4cd8-b395-cbf255d3f16a",
   "metadata": {},
   "outputs": [],
   "source": [
    "query = 'http://api.nbp.pl/api/exchangerates/rates/a/' + waluta +'/' + start + '/' + end + '/'"
   ]
  },
  {
   "cell_type": "code",
   "execution_count": 75,
   "id": "e50d3791-8ed3-4d3c-ab51-74b22efa4f50",
   "metadata": {},
   "outputs": [
    {
     "data": {
      "text/html": [
       "<div>\n",
       "<style scoped>\n",
       "    .dataframe tbody tr th:only-of-type {\n",
       "        vertical-align: middle;\n",
       "    }\n",
       "\n",
       "    .dataframe tbody tr th {\n",
       "        vertical-align: top;\n",
       "    }\n",
       "\n",
       "    .dataframe thead th {\n",
       "        text-align: right;\n",
       "    }\n",
       "</style>\n",
       "<table border=\"1\" class=\"dataframe\">\n",
       "  <thead>\n",
       "    <tr style=\"text-align: right;\">\n",
       "      <th></th>\n",
       "      <th>table</th>\n",
       "      <th>currency</th>\n",
       "      <th>code</th>\n",
       "      <th>rates</th>\n",
       "    </tr>\n",
       "  </thead>\n",
       "  <tbody>\n",
       "    <tr>\n",
       "      <th>0</th>\n",
       "      <td>A</td>\n",
       "      <td>dolar amerykański</td>\n",
       "      <td>USD</td>\n",
       "      <td>{'no': '001/A/NBP/2025', 'effectiveDate': '202...</td>\n",
       "    </tr>\n",
       "    <tr>\n",
       "      <th>1</th>\n",
       "      <td>A</td>\n",
       "      <td>dolar amerykański</td>\n",
       "      <td>USD</td>\n",
       "      <td>{'no': '002/A/NBP/2025', 'effectiveDate': '202...</td>\n",
       "    </tr>\n",
       "    <tr>\n",
       "      <th>2</th>\n",
       "      <td>A</td>\n",
       "      <td>dolar amerykański</td>\n",
       "      <td>USD</td>\n",
       "      <td>{'no': '003/A/NBP/2025', 'effectiveDate': '202...</td>\n",
       "    </tr>\n",
       "    <tr>\n",
       "      <th>3</th>\n",
       "      <td>A</td>\n",
       "      <td>dolar amerykański</td>\n",
       "      <td>USD</td>\n",
       "      <td>{'no': '004/A/NBP/2025', 'effectiveDate': '202...</td>\n",
       "    </tr>\n",
       "    <tr>\n",
       "      <th>4</th>\n",
       "      <td>A</td>\n",
       "      <td>dolar amerykański</td>\n",
       "      <td>USD</td>\n",
       "      <td>{'no': '005/A/NBP/2025', 'effectiveDate': '202...</td>\n",
       "    </tr>\n",
       "    <tr>\n",
       "      <th>5</th>\n",
       "      <td>A</td>\n",
       "      <td>dolar amerykański</td>\n",
       "      <td>USD</td>\n",
       "      <td>{'no': '006/A/NBP/2025', 'effectiveDate': '202...</td>\n",
       "    </tr>\n",
       "    <tr>\n",
       "      <th>6</th>\n",
       "      <td>A</td>\n",
       "      <td>dolar amerykański</td>\n",
       "      <td>USD</td>\n",
       "      <td>{'no': '007/A/NBP/2025', 'effectiveDate': '202...</td>\n",
       "    </tr>\n",
       "    <tr>\n",
       "      <th>7</th>\n",
       "      <td>A</td>\n",
       "      <td>dolar amerykański</td>\n",
       "      <td>USD</td>\n",
       "      <td>{'no': '008/A/NBP/2025', 'effectiveDate': '202...</td>\n",
       "    </tr>\n",
       "    <tr>\n",
       "      <th>8</th>\n",
       "      <td>A</td>\n",
       "      <td>dolar amerykański</td>\n",
       "      <td>USD</td>\n",
       "      <td>{'no': '009/A/NBP/2025', 'effectiveDate': '202...</td>\n",
       "    </tr>\n",
       "    <tr>\n",
       "      <th>9</th>\n",
       "      <td>A</td>\n",
       "      <td>dolar amerykański</td>\n",
       "      <td>USD</td>\n",
       "      <td>{'no': '010/A/NBP/2025', 'effectiveDate': '202...</td>\n",
       "    </tr>\n",
       "    <tr>\n",
       "      <th>10</th>\n",
       "      <td>A</td>\n",
       "      <td>dolar amerykański</td>\n",
       "      <td>USD</td>\n",
       "      <td>{'no': '011/A/NBP/2025', 'effectiveDate': '202...</td>\n",
       "    </tr>\n",
       "    <tr>\n",
       "      <th>11</th>\n",
       "      <td>A</td>\n",
       "      <td>dolar amerykański</td>\n",
       "      <td>USD</td>\n",
       "      <td>{'no': '012/A/NBP/2025', 'effectiveDate': '202...</td>\n",
       "    </tr>\n",
       "    <tr>\n",
       "      <th>12</th>\n",
       "      <td>A</td>\n",
       "      <td>dolar amerykański</td>\n",
       "      <td>USD</td>\n",
       "      <td>{'no': '013/A/NBP/2025', 'effectiveDate': '202...</td>\n",
       "    </tr>\n",
       "    <tr>\n",
       "      <th>13</th>\n",
       "      <td>A</td>\n",
       "      <td>dolar amerykański</td>\n",
       "      <td>USD</td>\n",
       "      <td>{'no': '014/A/NBP/2025', 'effectiveDate': '202...</td>\n",
       "    </tr>\n",
       "    <tr>\n",
       "      <th>14</th>\n",
       "      <td>A</td>\n",
       "      <td>dolar amerykański</td>\n",
       "      <td>USD</td>\n",
       "      <td>{'no': '015/A/NBP/2025', 'effectiveDate': '202...</td>\n",
       "    </tr>\n",
       "    <tr>\n",
       "      <th>15</th>\n",
       "      <td>A</td>\n",
       "      <td>dolar amerykański</td>\n",
       "      <td>USD</td>\n",
       "      <td>{'no': '016/A/NBP/2025', 'effectiveDate': '202...</td>\n",
       "    </tr>\n",
       "    <tr>\n",
       "      <th>16</th>\n",
       "      <td>A</td>\n",
       "      <td>dolar amerykański</td>\n",
       "      <td>USD</td>\n",
       "      <td>{'no': '017/A/NBP/2025', 'effectiveDate': '202...</td>\n",
       "    </tr>\n",
       "    <tr>\n",
       "      <th>17</th>\n",
       "      <td>A</td>\n",
       "      <td>dolar amerykański</td>\n",
       "      <td>USD</td>\n",
       "      <td>{'no': '018/A/NBP/2025', 'effectiveDate': '202...</td>\n",
       "    </tr>\n",
       "    <tr>\n",
       "      <th>18</th>\n",
       "      <td>A</td>\n",
       "      <td>dolar amerykański</td>\n",
       "      <td>USD</td>\n",
       "      <td>{'no': '019/A/NBP/2025', 'effectiveDate': '202...</td>\n",
       "    </tr>\n",
       "    <tr>\n",
       "      <th>19</th>\n",
       "      <td>A</td>\n",
       "      <td>dolar amerykański</td>\n",
       "      <td>USD</td>\n",
       "      <td>{'no': '020/A/NBP/2025', 'effectiveDate': '202...</td>\n",
       "    </tr>\n",
       "    <tr>\n",
       "      <th>20</th>\n",
       "      <td>A</td>\n",
       "      <td>dolar amerykański</td>\n",
       "      <td>USD</td>\n",
       "      <td>{'no': '021/A/NBP/2025', 'effectiveDate': '202...</td>\n",
       "    </tr>\n",
       "    <tr>\n",
       "      <th>21</th>\n",
       "      <td>A</td>\n",
       "      <td>dolar amerykański</td>\n",
       "      <td>USD</td>\n",
       "      <td>{'no': '022/A/NBP/2025', 'effectiveDate': '202...</td>\n",
       "    </tr>\n",
       "    <tr>\n",
       "      <th>22</th>\n",
       "      <td>A</td>\n",
       "      <td>dolar amerykański</td>\n",
       "      <td>USD</td>\n",
       "      <td>{'no': '023/A/NBP/2025', 'effectiveDate': '202...</td>\n",
       "    </tr>\n",
       "    <tr>\n",
       "      <th>23</th>\n",
       "      <td>A</td>\n",
       "      <td>dolar amerykański</td>\n",
       "      <td>USD</td>\n",
       "      <td>{'no': '024/A/NBP/2025', 'effectiveDate': '202...</td>\n",
       "    </tr>\n",
       "    <tr>\n",
       "      <th>24</th>\n",
       "      <td>A</td>\n",
       "      <td>dolar amerykański</td>\n",
       "      <td>USD</td>\n",
       "      <td>{'no': '025/A/NBP/2025', 'effectiveDate': '202...</td>\n",
       "    </tr>\n",
       "    <tr>\n",
       "      <th>25</th>\n",
       "      <td>A</td>\n",
       "      <td>dolar amerykański</td>\n",
       "      <td>USD</td>\n",
       "      <td>{'no': '026/A/NBP/2025', 'effectiveDate': '202...</td>\n",
       "    </tr>\n",
       "    <tr>\n",
       "      <th>26</th>\n",
       "      <td>A</td>\n",
       "      <td>dolar amerykański</td>\n",
       "      <td>USD</td>\n",
       "      <td>{'no': '027/A/NBP/2025', 'effectiveDate': '202...</td>\n",
       "    </tr>\n",
       "    <tr>\n",
       "      <th>27</th>\n",
       "      <td>A</td>\n",
       "      <td>dolar amerykański</td>\n",
       "      <td>USD</td>\n",
       "      <td>{'no': '028/A/NBP/2025', 'effectiveDate': '202...</td>\n",
       "    </tr>\n",
       "    <tr>\n",
       "      <th>28</th>\n",
       "      <td>A</td>\n",
       "      <td>dolar amerykański</td>\n",
       "      <td>USD</td>\n",
       "      <td>{'no': '029/A/NBP/2025', 'effectiveDate': '202...</td>\n",
       "    </tr>\n",
       "    <tr>\n",
       "      <th>29</th>\n",
       "      <td>A</td>\n",
       "      <td>dolar amerykański</td>\n",
       "      <td>USD</td>\n",
       "      <td>{'no': '030/A/NBP/2025', 'effectiveDate': '202...</td>\n",
       "    </tr>\n",
       "    <tr>\n",
       "      <th>30</th>\n",
       "      <td>A</td>\n",
       "      <td>dolar amerykański</td>\n",
       "      <td>USD</td>\n",
       "      <td>{'no': '031/A/NBP/2025', 'effectiveDate': '202...</td>\n",
       "    </tr>\n",
       "    <tr>\n",
       "      <th>31</th>\n",
       "      <td>A</td>\n",
       "      <td>dolar amerykański</td>\n",
       "      <td>USD</td>\n",
       "      <td>{'no': '032/A/NBP/2025', 'effectiveDate': '202...</td>\n",
       "    </tr>\n",
       "    <tr>\n",
       "      <th>32</th>\n",
       "      <td>A</td>\n",
       "      <td>dolar amerykański</td>\n",
       "      <td>USD</td>\n",
       "      <td>{'no': '033/A/NBP/2025', 'effectiveDate': '202...</td>\n",
       "    </tr>\n",
       "    <tr>\n",
       "      <th>33</th>\n",
       "      <td>A</td>\n",
       "      <td>dolar amerykański</td>\n",
       "      <td>USD</td>\n",
       "      <td>{'no': '034/A/NBP/2025', 'effectiveDate': '202...</td>\n",
       "    </tr>\n",
       "    <tr>\n",
       "      <th>34</th>\n",
       "      <td>A</td>\n",
       "      <td>dolar amerykański</td>\n",
       "      <td>USD</td>\n",
       "      <td>{'no': '035/A/NBP/2025', 'effectiveDate': '202...</td>\n",
       "    </tr>\n",
       "    <tr>\n",
       "      <th>35</th>\n",
       "      <td>A</td>\n",
       "      <td>dolar amerykański</td>\n",
       "      <td>USD</td>\n",
       "      <td>{'no': '036/A/NBP/2025', 'effectiveDate': '202...</td>\n",
       "    </tr>\n",
       "    <tr>\n",
       "      <th>36</th>\n",
       "      <td>A</td>\n",
       "      <td>dolar amerykański</td>\n",
       "      <td>USD</td>\n",
       "      <td>{'no': '037/A/NBP/2025', 'effectiveDate': '202...</td>\n",
       "    </tr>\n",
       "    <tr>\n",
       "      <th>37</th>\n",
       "      <td>A</td>\n",
       "      <td>dolar amerykański</td>\n",
       "      <td>USD</td>\n",
       "      <td>{'no': '038/A/NBP/2025', 'effectiveDate': '202...</td>\n",
       "    </tr>\n",
       "    <tr>\n",
       "      <th>38</th>\n",
       "      <td>A</td>\n",
       "      <td>dolar amerykański</td>\n",
       "      <td>USD</td>\n",
       "      <td>{'no': '039/A/NBP/2025', 'effectiveDate': '202...</td>\n",
       "    </tr>\n",
       "    <tr>\n",
       "      <th>39</th>\n",
       "      <td>A</td>\n",
       "      <td>dolar amerykański</td>\n",
       "      <td>USD</td>\n",
       "      <td>{'no': '040/A/NBP/2025', 'effectiveDate': '202...</td>\n",
       "    </tr>\n",
       "    <tr>\n",
       "      <th>40</th>\n",
       "      <td>A</td>\n",
       "      <td>dolar amerykański</td>\n",
       "      <td>USD</td>\n",
       "      <td>{'no': '041/A/NBP/2025', 'effectiveDate': '202...</td>\n",
       "    </tr>\n",
       "    <tr>\n",
       "      <th>41</th>\n",
       "      <td>A</td>\n",
       "      <td>dolar amerykański</td>\n",
       "      <td>USD</td>\n",
       "      <td>{'no': '042/A/NBP/2025', 'effectiveDate': '202...</td>\n",
       "    </tr>\n",
       "    <tr>\n",
       "      <th>42</th>\n",
       "      <td>A</td>\n",
       "      <td>dolar amerykański</td>\n",
       "      <td>USD</td>\n",
       "      <td>{'no': '043/A/NBP/2025', 'effectiveDate': '202...</td>\n",
       "    </tr>\n",
       "    <tr>\n",
       "      <th>43</th>\n",
       "      <td>A</td>\n",
       "      <td>dolar amerykański</td>\n",
       "      <td>USD</td>\n",
       "      <td>{'no': '044/A/NBP/2025', 'effectiveDate': '202...</td>\n",
       "    </tr>\n",
       "    <tr>\n",
       "      <th>44</th>\n",
       "      <td>A</td>\n",
       "      <td>dolar amerykański</td>\n",
       "      <td>USD</td>\n",
       "      <td>{'no': '045/A/NBP/2025', 'effectiveDate': '202...</td>\n",
       "    </tr>\n",
       "    <tr>\n",
       "      <th>45</th>\n",
       "      <td>A</td>\n",
       "      <td>dolar amerykański</td>\n",
       "      <td>USD</td>\n",
       "      <td>{'no': '046/A/NBP/2025', 'effectiveDate': '202...</td>\n",
       "    </tr>\n",
       "    <tr>\n",
       "      <th>46</th>\n",
       "      <td>A</td>\n",
       "      <td>dolar amerykański</td>\n",
       "      <td>USD</td>\n",
       "      <td>{'no': '047/A/NBP/2025', 'effectiveDate': '202...</td>\n",
       "    </tr>\n",
       "    <tr>\n",
       "      <th>47</th>\n",
       "      <td>A</td>\n",
       "      <td>dolar amerykański</td>\n",
       "      <td>USD</td>\n",
       "      <td>{'no': '048/A/NBP/2025', 'effectiveDate': '202...</td>\n",
       "    </tr>\n",
       "    <tr>\n",
       "      <th>48</th>\n",
       "      <td>A</td>\n",
       "      <td>dolar amerykański</td>\n",
       "      <td>USD</td>\n",
       "      <td>{'no': '049/A/NBP/2025', 'effectiveDate': '202...</td>\n",
       "    </tr>\n",
       "    <tr>\n",
       "      <th>49</th>\n",
       "      <td>A</td>\n",
       "      <td>dolar amerykański</td>\n",
       "      <td>USD</td>\n",
       "      <td>{'no': '050/A/NBP/2025', 'effectiveDate': '202...</td>\n",
       "    </tr>\n",
       "    <tr>\n",
       "      <th>50</th>\n",
       "      <td>A</td>\n",
       "      <td>dolar amerykański</td>\n",
       "      <td>USD</td>\n",
       "      <td>{'no': '051/A/NBP/2025', 'effectiveDate': '202...</td>\n",
       "    </tr>\n",
       "    <tr>\n",
       "      <th>51</th>\n",
       "      <td>A</td>\n",
       "      <td>dolar amerykański</td>\n",
       "      <td>USD</td>\n",
       "      <td>{'no': '052/A/NBP/2025', 'effectiveDate': '202...</td>\n",
       "    </tr>\n",
       "    <tr>\n",
       "      <th>52</th>\n",
       "      <td>A</td>\n",
       "      <td>dolar amerykański</td>\n",
       "      <td>USD</td>\n",
       "      <td>{'no': '053/A/NBP/2025', 'effectiveDate': '202...</td>\n",
       "    </tr>\n",
       "    <tr>\n",
       "      <th>53</th>\n",
       "      <td>A</td>\n",
       "      <td>dolar amerykański</td>\n",
       "      <td>USD</td>\n",
       "      <td>{'no': '054/A/NBP/2025', 'effectiveDate': '202...</td>\n",
       "    </tr>\n",
       "    <tr>\n",
       "      <th>54</th>\n",
       "      <td>A</td>\n",
       "      <td>dolar amerykański</td>\n",
       "      <td>USD</td>\n",
       "      <td>{'no': '055/A/NBP/2025', 'effectiveDate': '202...</td>\n",
       "    </tr>\n",
       "    <tr>\n",
       "      <th>55</th>\n",
       "      <td>A</td>\n",
       "      <td>dolar amerykański</td>\n",
       "      <td>USD</td>\n",
       "      <td>{'no': '056/A/NBP/2025', 'effectiveDate': '202...</td>\n",
       "    </tr>\n",
       "    <tr>\n",
       "      <th>56</th>\n",
       "      <td>A</td>\n",
       "      <td>dolar amerykański</td>\n",
       "      <td>USD</td>\n",
       "      <td>{'no': '057/A/NBP/2025', 'effectiveDate': '202...</td>\n",
       "    </tr>\n",
       "    <tr>\n",
       "      <th>57</th>\n",
       "      <td>A</td>\n",
       "      <td>dolar amerykański</td>\n",
       "      <td>USD</td>\n",
       "      <td>{'no': '058/A/NBP/2025', 'effectiveDate': '202...</td>\n",
       "    </tr>\n",
       "  </tbody>\n",
       "</table>\n",
       "</div>"
      ],
      "text/plain": [
       "   table           currency code  \\\n",
       "0      A  dolar amerykański  USD   \n",
       "1      A  dolar amerykański  USD   \n",
       "2      A  dolar amerykański  USD   \n",
       "3      A  dolar amerykański  USD   \n",
       "4      A  dolar amerykański  USD   \n",
       "5      A  dolar amerykański  USD   \n",
       "6      A  dolar amerykański  USD   \n",
       "7      A  dolar amerykański  USD   \n",
       "8      A  dolar amerykański  USD   \n",
       "9      A  dolar amerykański  USD   \n",
       "10     A  dolar amerykański  USD   \n",
       "11     A  dolar amerykański  USD   \n",
       "12     A  dolar amerykański  USD   \n",
       "13     A  dolar amerykański  USD   \n",
       "14     A  dolar amerykański  USD   \n",
       "15     A  dolar amerykański  USD   \n",
       "16     A  dolar amerykański  USD   \n",
       "17     A  dolar amerykański  USD   \n",
       "18     A  dolar amerykański  USD   \n",
       "19     A  dolar amerykański  USD   \n",
       "20     A  dolar amerykański  USD   \n",
       "21     A  dolar amerykański  USD   \n",
       "22     A  dolar amerykański  USD   \n",
       "23     A  dolar amerykański  USD   \n",
       "24     A  dolar amerykański  USD   \n",
       "25     A  dolar amerykański  USD   \n",
       "26     A  dolar amerykański  USD   \n",
       "27     A  dolar amerykański  USD   \n",
       "28     A  dolar amerykański  USD   \n",
       "29     A  dolar amerykański  USD   \n",
       "30     A  dolar amerykański  USD   \n",
       "31     A  dolar amerykański  USD   \n",
       "32     A  dolar amerykański  USD   \n",
       "33     A  dolar amerykański  USD   \n",
       "34     A  dolar amerykański  USD   \n",
       "35     A  dolar amerykański  USD   \n",
       "36     A  dolar amerykański  USD   \n",
       "37     A  dolar amerykański  USD   \n",
       "38     A  dolar amerykański  USD   \n",
       "39     A  dolar amerykański  USD   \n",
       "40     A  dolar amerykański  USD   \n",
       "41     A  dolar amerykański  USD   \n",
       "42     A  dolar amerykański  USD   \n",
       "43     A  dolar amerykański  USD   \n",
       "44     A  dolar amerykański  USD   \n",
       "45     A  dolar amerykański  USD   \n",
       "46     A  dolar amerykański  USD   \n",
       "47     A  dolar amerykański  USD   \n",
       "48     A  dolar amerykański  USD   \n",
       "49     A  dolar amerykański  USD   \n",
       "50     A  dolar amerykański  USD   \n",
       "51     A  dolar amerykański  USD   \n",
       "52     A  dolar amerykański  USD   \n",
       "53     A  dolar amerykański  USD   \n",
       "54     A  dolar amerykański  USD   \n",
       "55     A  dolar amerykański  USD   \n",
       "56     A  dolar amerykański  USD   \n",
       "57     A  dolar amerykański  USD   \n",
       "\n",
       "                                                rates  \n",
       "0   {'no': '001/A/NBP/2025', 'effectiveDate': '202...  \n",
       "1   {'no': '002/A/NBP/2025', 'effectiveDate': '202...  \n",
       "2   {'no': '003/A/NBP/2025', 'effectiveDate': '202...  \n",
       "3   {'no': '004/A/NBP/2025', 'effectiveDate': '202...  \n",
       "4   {'no': '005/A/NBP/2025', 'effectiveDate': '202...  \n",
       "5   {'no': '006/A/NBP/2025', 'effectiveDate': '202...  \n",
       "6   {'no': '007/A/NBP/2025', 'effectiveDate': '202...  \n",
       "7   {'no': '008/A/NBP/2025', 'effectiveDate': '202...  \n",
       "8   {'no': '009/A/NBP/2025', 'effectiveDate': '202...  \n",
       "9   {'no': '010/A/NBP/2025', 'effectiveDate': '202...  \n",
       "10  {'no': '011/A/NBP/2025', 'effectiveDate': '202...  \n",
       "11  {'no': '012/A/NBP/2025', 'effectiveDate': '202...  \n",
       "12  {'no': '013/A/NBP/2025', 'effectiveDate': '202...  \n",
       "13  {'no': '014/A/NBP/2025', 'effectiveDate': '202...  \n",
       "14  {'no': '015/A/NBP/2025', 'effectiveDate': '202...  \n",
       "15  {'no': '016/A/NBP/2025', 'effectiveDate': '202...  \n",
       "16  {'no': '017/A/NBP/2025', 'effectiveDate': '202...  \n",
       "17  {'no': '018/A/NBP/2025', 'effectiveDate': '202...  \n",
       "18  {'no': '019/A/NBP/2025', 'effectiveDate': '202...  \n",
       "19  {'no': '020/A/NBP/2025', 'effectiveDate': '202...  \n",
       "20  {'no': '021/A/NBP/2025', 'effectiveDate': '202...  \n",
       "21  {'no': '022/A/NBP/2025', 'effectiveDate': '202...  \n",
       "22  {'no': '023/A/NBP/2025', 'effectiveDate': '202...  \n",
       "23  {'no': '024/A/NBP/2025', 'effectiveDate': '202...  \n",
       "24  {'no': '025/A/NBP/2025', 'effectiveDate': '202...  \n",
       "25  {'no': '026/A/NBP/2025', 'effectiveDate': '202...  \n",
       "26  {'no': '027/A/NBP/2025', 'effectiveDate': '202...  \n",
       "27  {'no': '028/A/NBP/2025', 'effectiveDate': '202...  \n",
       "28  {'no': '029/A/NBP/2025', 'effectiveDate': '202...  \n",
       "29  {'no': '030/A/NBP/2025', 'effectiveDate': '202...  \n",
       "30  {'no': '031/A/NBP/2025', 'effectiveDate': '202...  \n",
       "31  {'no': '032/A/NBP/2025', 'effectiveDate': '202...  \n",
       "32  {'no': '033/A/NBP/2025', 'effectiveDate': '202...  \n",
       "33  {'no': '034/A/NBP/2025', 'effectiveDate': '202...  \n",
       "34  {'no': '035/A/NBP/2025', 'effectiveDate': '202...  \n",
       "35  {'no': '036/A/NBP/2025', 'effectiveDate': '202...  \n",
       "36  {'no': '037/A/NBP/2025', 'effectiveDate': '202...  \n",
       "37  {'no': '038/A/NBP/2025', 'effectiveDate': '202...  \n",
       "38  {'no': '039/A/NBP/2025', 'effectiveDate': '202...  \n",
       "39  {'no': '040/A/NBP/2025', 'effectiveDate': '202...  \n",
       "40  {'no': '041/A/NBP/2025', 'effectiveDate': '202...  \n",
       "41  {'no': '042/A/NBP/2025', 'effectiveDate': '202...  \n",
       "42  {'no': '043/A/NBP/2025', 'effectiveDate': '202...  \n",
       "43  {'no': '044/A/NBP/2025', 'effectiveDate': '202...  \n",
       "44  {'no': '045/A/NBP/2025', 'effectiveDate': '202...  \n",
       "45  {'no': '046/A/NBP/2025', 'effectiveDate': '202...  \n",
       "46  {'no': '047/A/NBP/2025', 'effectiveDate': '202...  \n",
       "47  {'no': '048/A/NBP/2025', 'effectiveDate': '202...  \n",
       "48  {'no': '049/A/NBP/2025', 'effectiveDate': '202...  \n",
       "49  {'no': '050/A/NBP/2025', 'effectiveDate': '202...  \n",
       "50  {'no': '051/A/NBP/2025', 'effectiveDate': '202...  \n",
       "51  {'no': '052/A/NBP/2025', 'effectiveDate': '202...  \n",
       "52  {'no': '053/A/NBP/2025', 'effectiveDate': '202...  \n",
       "53  {'no': '054/A/NBP/2025', 'effectiveDate': '202...  \n",
       "54  {'no': '055/A/NBP/2025', 'effectiveDate': '202...  \n",
       "55  {'no': '056/A/NBP/2025', 'effectiveDate': '202...  \n",
       "56  {'no': '057/A/NBP/2025', 'effectiveDate': '202...  \n",
       "57  {'no': '058/A/NBP/2025', 'effectiveDate': '202...  "
      ]
     },
     "execution_count": 75,
     "metadata": {},
     "output_type": "execute_result"
    }
   ],
   "source": [
    "zapytanie = pd.read_json(query)\n",
    "zapytanie"
   ]
  },
  {
   "cell_type": "code",
   "execution_count": 80,
   "id": "1a911396-4461-4bf5-87df-7a391a169a83",
   "metadata": {},
   "outputs": [],
   "source": [
    "k = zapytanie['rates'].values"
   ]
  },
  {
   "cell_type": "code",
   "execution_count": 86,
   "id": "9839daad-6d05-4f64-b7f1-362218a5931c",
   "metadata": {},
   "outputs": [
    {
     "name": "stdout",
     "output_type": "stream",
     "text": [
      "{'no': '001/A/NBP/2025', 'effectiveDate': '2025-01-02', 'mid': 4.1219}\n",
      "{'no': '002/A/NBP/2025', 'effectiveDate': '2025-01-03', 'mid': 4.1512}\n",
      "{'no': '003/A/NBP/2025', 'effectiveDate': '2025-01-07', 'mid': 4.077}\n",
      "{'no': '004/A/NBP/2025', 'effectiveDate': '2025-01-08', 'mid': 4.1335}\n",
      "{'no': '005/A/NBP/2025', 'effectiveDate': '2025-01-09', 'mid': 4.1523}\n",
      "{'no': '006/A/NBP/2025', 'effectiveDate': '2025-01-10', 'mid': 4.1415}\n",
      "{'no': '007/A/NBP/2025', 'effectiveDate': '2025-01-13', 'mid': 4.1904}\n",
      "{'no': '008/A/NBP/2025', 'effectiveDate': '2025-01-14', 'mid': 4.1658}\n",
      "{'no': '009/A/NBP/2025', 'effectiveDate': '2025-01-15', 'mid': 4.133}\n",
      "{'no': '010/A/NBP/2025', 'effectiveDate': '2025-01-16', 'mid': 4.1433}\n",
      "{'no': '011/A/NBP/2025', 'effectiveDate': '2025-01-17', 'mid': 4.1462}\n",
      "{'no': '012/A/NBP/2025', 'effectiveDate': '2025-01-20', 'mid': 4.1321}\n",
      "{'no': '013/A/NBP/2025', 'effectiveDate': '2025-01-21', 'mid': 4.1101}\n",
      "{'no': '014/A/NBP/2025', 'effectiveDate': '2025-01-22', 'mid': 4.0646}\n",
      "{'no': '015/A/NBP/2025', 'effectiveDate': '2025-01-23', 'mid': 4.0515}\n",
      "{'no': '016/A/NBP/2025', 'effectiveDate': '2025-01-24', 'mid': 4.0124}\n",
      "{'no': '017/A/NBP/2025', 'effectiveDate': '2025-01-27', 'mid': 4.021}\n",
      "{'no': '018/A/NBP/2025', 'effectiveDate': '2025-01-28', 'mid': 4.0337}\n",
      "{'no': '019/A/NBP/2025', 'effectiveDate': '2025-01-29', 'mid': 4.0443}\n",
      "{'no': '020/A/NBP/2025', 'effectiveDate': '2025-01-30', 'mid': 4.0393}\n",
      "{'no': '021/A/NBP/2025', 'effectiveDate': '2025-01-31', 'mid': 4.0576}\n",
      "{'no': '022/A/NBP/2025', 'effectiveDate': '2025-02-03', 'mid': 4.1352}\n",
      "{'no': '023/A/NBP/2025', 'effectiveDate': '2025-02-04', 'mid': 4.0864}\n",
      "{'no': '024/A/NBP/2025', 'effectiveDate': '2025-02-05', 'mid': 4.0426}\n",
      "{'no': '025/A/NBP/2025', 'effectiveDate': '2025-02-06', 'mid': 4.0613}\n",
      "{'no': '026/A/NBP/2025', 'effectiveDate': '2025-02-07', 'mid': 4.0321}\n",
      "{'no': '027/A/NBP/2025', 'effectiveDate': '2025-02-10', 'mid': 4.0548}\n",
      "{'no': '028/A/NBP/2025', 'effectiveDate': '2025-02-11', 'mid': 4.0497}\n",
      "{'no': '029/A/NBP/2025', 'effectiveDate': '2025-02-12', 'mid': 4.0215}\n",
      "{'no': '030/A/NBP/2025', 'effectiveDate': '2025-02-13', 'mid': 3.996}\n",
      "{'no': '031/A/NBP/2025', 'effectiveDate': '2025-02-14', 'mid': 3.972}\n",
      "{'no': '032/A/NBP/2025', 'effectiveDate': '2025-02-17', 'mid': 3.9749}\n",
      "{'no': '033/A/NBP/2025', 'effectiveDate': '2025-02-18', 'mid': 3.9729}\n",
      "{'no': '034/A/NBP/2025', 'effectiveDate': '2025-02-19', 'mid': 3.9875}\n",
      "{'no': '035/A/NBP/2025', 'effectiveDate': '2025-02-20', 'mid': 3.9974}\n",
      "{'no': '036/A/NBP/2025', 'effectiveDate': '2025-02-21', 'mid': 3.9835000000000003}\n",
      "{'no': '037/A/NBP/2025', 'effectiveDate': '2025-02-24', 'mid': 3.9734}\n",
      "{'no': '038/A/NBP/2025', 'effectiveDate': '2025-02-25', 'mid': 3.947}\n",
      "{'no': '039/A/NBP/2025', 'effectiveDate': '2025-02-26', 'mid': 3.9434}\n",
      "{'no': '040/A/NBP/2025', 'effectiveDate': '2025-02-27', 'mid': 3.9459}\n",
      "{'no': '041/A/NBP/2025', 'effectiveDate': '2025-02-28', 'mid': 3.9993}\n",
      "{'no': '042/A/NBP/2025', 'effectiveDate': '2025-03-03', 'mid': 4.0112}\n",
      "{'no': '043/A/NBP/2025', 'effectiveDate': '2025-03-04', 'mid': 3.9543}\n",
      "{'no': '044/A/NBP/2025', 'effectiveDate': '2025-03-05', 'mid': 3.8785}\n",
      "{'no': '045/A/NBP/2025', 'effectiveDate': '2025-03-06', 'mid': 3.8674}\n",
      "{'no': '046/A/NBP/2025', 'effectiveDate': '2025-03-07', 'mid': 3.8448}\n",
      "{'no': '047/A/NBP/2025', 'effectiveDate': '2025-03-10', 'mid': 3.8573}\n",
      "{'no': '048/A/NBP/2025', 'effectiveDate': '2025-03-11', 'mid': 3.8481}\n",
      "{'no': '049/A/NBP/2025', 'effectiveDate': '2025-03-12', 'mid': 3.8496}\n",
      "{'no': '050/A/NBP/2025', 'effectiveDate': '2025-03-13', 'mid': 3.8568}\n",
      "{'no': '051/A/NBP/2025', 'effectiveDate': '2025-03-14', 'mid': 3.8509}\n",
      "{'no': '052/A/NBP/2025', 'effectiveDate': '2025-03-17', 'mid': 3.8329}\n",
      "{'no': '053/A/NBP/2025', 'effectiveDate': '2025-03-18', 'mid': 3.8152}\n",
      "{'no': '054/A/NBP/2025', 'effectiveDate': '2025-03-19', 'mid': 3.8473}\n",
      "{'no': '055/A/NBP/2025', 'effectiveDate': '2025-03-20', 'mid': 3.8675}\n",
      "{'no': '056/A/NBP/2025', 'effectiveDate': '2025-03-21', 'mid': 3.8774}\n",
      "{'no': '057/A/NBP/2025', 'effectiveDate': '2025-03-24', 'mid': 3.859}\n",
      "{'no': '058/A/NBP/2025', 'effectiveDate': '2025-03-25', 'mid': 3.8578}\n"
     ]
    }
   ],
   "source": [
    "for i, zap1 in enumerate(zapytanie['rates']):\n",
    "    print(zap1)"
   ]
  },
  {
   "cell_type": "code",
   "execution_count": 81,
   "id": "942df75a-eff2-4a01-ae9a-4fa5b311edc5",
   "metadata": {},
   "outputs": [],
   "source": [
    "l = []\n",
    "data = []\n",
    "for i, zap1 in enumerate(zapytanie['rates']):\n",
    "    l.append(zap1['mid'])\n",
    "    data.append(zap1['effectiveDate'])\n",
    "\n"
   ]
  },
  {
   "cell_type": "code",
   "execution_count": 82,
   "id": "d2241078-6f51-46de-be42-d4e8936b2d0a",
   "metadata": {},
   "outputs": [
    {
     "data": {
      "text/html": [
       "<div>\n",
       "<style scoped>\n",
       "    .dataframe tbody tr th:only-of-type {\n",
       "        vertical-align: middle;\n",
       "    }\n",
       "\n",
       "    .dataframe tbody tr th {\n",
       "        vertical-align: top;\n",
       "    }\n",
       "\n",
       "    .dataframe thead th {\n",
       "        text-align: right;\n",
       "    }\n",
       "</style>\n",
       "<table border=\"1\" class=\"dataframe\">\n",
       "  <thead>\n",
       "    <tr style=\"text-align: right;\">\n",
       "      <th></th>\n",
       "      <th>data</th>\n",
       "      <th>cena</th>\n",
       "    </tr>\n",
       "  </thead>\n",
       "  <tbody>\n",
       "    <tr>\n",
       "      <th>0</th>\n",
       "      <td>2025-01-02</td>\n",
       "      <td>4.1219</td>\n",
       "    </tr>\n",
       "    <tr>\n",
       "      <th>1</th>\n",
       "      <td>2025-01-03</td>\n",
       "      <td>4.1512</td>\n",
       "    </tr>\n",
       "    <tr>\n",
       "      <th>2</th>\n",
       "      <td>2025-01-07</td>\n",
       "      <td>4.0770</td>\n",
       "    </tr>\n",
       "    <tr>\n",
       "      <th>3</th>\n",
       "      <td>2025-01-08</td>\n",
       "      <td>4.1335</td>\n",
       "    </tr>\n",
       "    <tr>\n",
       "      <th>4</th>\n",
       "      <td>2025-01-09</td>\n",
       "      <td>4.1523</td>\n",
       "    </tr>\n",
       "    <tr>\n",
       "      <th>5</th>\n",
       "      <td>2025-01-10</td>\n",
       "      <td>4.1415</td>\n",
       "    </tr>\n",
       "    <tr>\n",
       "      <th>6</th>\n",
       "      <td>2025-01-13</td>\n",
       "      <td>4.1904</td>\n",
       "    </tr>\n",
       "    <tr>\n",
       "      <th>7</th>\n",
       "      <td>2025-01-14</td>\n",
       "      <td>4.1658</td>\n",
       "    </tr>\n",
       "    <tr>\n",
       "      <th>8</th>\n",
       "      <td>2025-01-15</td>\n",
       "      <td>4.1330</td>\n",
       "    </tr>\n",
       "    <tr>\n",
       "      <th>9</th>\n",
       "      <td>2025-01-16</td>\n",
       "      <td>4.1433</td>\n",
       "    </tr>\n",
       "    <tr>\n",
       "      <th>10</th>\n",
       "      <td>2025-01-17</td>\n",
       "      <td>4.1462</td>\n",
       "    </tr>\n",
       "    <tr>\n",
       "      <th>11</th>\n",
       "      <td>2025-01-20</td>\n",
       "      <td>4.1321</td>\n",
       "    </tr>\n",
       "    <tr>\n",
       "      <th>12</th>\n",
       "      <td>2025-01-21</td>\n",
       "      <td>4.1101</td>\n",
       "    </tr>\n",
       "    <tr>\n",
       "      <th>13</th>\n",
       "      <td>2025-01-22</td>\n",
       "      <td>4.0646</td>\n",
       "    </tr>\n",
       "    <tr>\n",
       "      <th>14</th>\n",
       "      <td>2025-01-23</td>\n",
       "      <td>4.0515</td>\n",
       "    </tr>\n",
       "    <tr>\n",
       "      <th>15</th>\n",
       "      <td>2025-01-24</td>\n",
       "      <td>4.0124</td>\n",
       "    </tr>\n",
       "    <tr>\n",
       "      <th>16</th>\n",
       "      <td>2025-01-27</td>\n",
       "      <td>4.0210</td>\n",
       "    </tr>\n",
       "    <tr>\n",
       "      <th>17</th>\n",
       "      <td>2025-01-28</td>\n",
       "      <td>4.0337</td>\n",
       "    </tr>\n",
       "    <tr>\n",
       "      <th>18</th>\n",
       "      <td>2025-01-29</td>\n",
       "      <td>4.0443</td>\n",
       "    </tr>\n",
       "    <tr>\n",
       "      <th>19</th>\n",
       "      <td>2025-01-30</td>\n",
       "      <td>4.0393</td>\n",
       "    </tr>\n",
       "    <tr>\n",
       "      <th>20</th>\n",
       "      <td>2025-01-31</td>\n",
       "      <td>4.0576</td>\n",
       "    </tr>\n",
       "    <tr>\n",
       "      <th>21</th>\n",
       "      <td>2025-02-03</td>\n",
       "      <td>4.1352</td>\n",
       "    </tr>\n",
       "    <tr>\n",
       "      <th>22</th>\n",
       "      <td>2025-02-04</td>\n",
       "      <td>4.0864</td>\n",
       "    </tr>\n",
       "    <tr>\n",
       "      <th>23</th>\n",
       "      <td>2025-02-05</td>\n",
       "      <td>4.0426</td>\n",
       "    </tr>\n",
       "    <tr>\n",
       "      <th>24</th>\n",
       "      <td>2025-02-06</td>\n",
       "      <td>4.0613</td>\n",
       "    </tr>\n",
       "    <tr>\n",
       "      <th>25</th>\n",
       "      <td>2025-02-07</td>\n",
       "      <td>4.0321</td>\n",
       "    </tr>\n",
       "    <tr>\n",
       "      <th>26</th>\n",
       "      <td>2025-02-10</td>\n",
       "      <td>4.0548</td>\n",
       "    </tr>\n",
       "    <tr>\n",
       "      <th>27</th>\n",
       "      <td>2025-02-11</td>\n",
       "      <td>4.0497</td>\n",
       "    </tr>\n",
       "    <tr>\n",
       "      <th>28</th>\n",
       "      <td>2025-02-12</td>\n",
       "      <td>4.0215</td>\n",
       "    </tr>\n",
       "    <tr>\n",
       "      <th>29</th>\n",
       "      <td>2025-02-13</td>\n",
       "      <td>3.9960</td>\n",
       "    </tr>\n",
       "    <tr>\n",
       "      <th>30</th>\n",
       "      <td>2025-02-14</td>\n",
       "      <td>3.9720</td>\n",
       "    </tr>\n",
       "    <tr>\n",
       "      <th>31</th>\n",
       "      <td>2025-02-17</td>\n",
       "      <td>3.9749</td>\n",
       "    </tr>\n",
       "    <tr>\n",
       "      <th>32</th>\n",
       "      <td>2025-02-18</td>\n",
       "      <td>3.9729</td>\n",
       "    </tr>\n",
       "    <tr>\n",
       "      <th>33</th>\n",
       "      <td>2025-02-19</td>\n",
       "      <td>3.9875</td>\n",
       "    </tr>\n",
       "    <tr>\n",
       "      <th>34</th>\n",
       "      <td>2025-02-20</td>\n",
       "      <td>3.9974</td>\n",
       "    </tr>\n",
       "    <tr>\n",
       "      <th>35</th>\n",
       "      <td>2025-02-21</td>\n",
       "      <td>3.9835</td>\n",
       "    </tr>\n",
       "    <tr>\n",
       "      <th>36</th>\n",
       "      <td>2025-02-24</td>\n",
       "      <td>3.9734</td>\n",
       "    </tr>\n",
       "    <tr>\n",
       "      <th>37</th>\n",
       "      <td>2025-02-25</td>\n",
       "      <td>3.9470</td>\n",
       "    </tr>\n",
       "    <tr>\n",
       "      <th>38</th>\n",
       "      <td>2025-02-26</td>\n",
       "      <td>3.9434</td>\n",
       "    </tr>\n",
       "    <tr>\n",
       "      <th>39</th>\n",
       "      <td>2025-02-27</td>\n",
       "      <td>3.9459</td>\n",
       "    </tr>\n",
       "    <tr>\n",
       "      <th>40</th>\n",
       "      <td>2025-02-28</td>\n",
       "      <td>3.9993</td>\n",
       "    </tr>\n",
       "    <tr>\n",
       "      <th>41</th>\n",
       "      <td>2025-03-03</td>\n",
       "      <td>4.0112</td>\n",
       "    </tr>\n",
       "    <tr>\n",
       "      <th>42</th>\n",
       "      <td>2025-03-04</td>\n",
       "      <td>3.9543</td>\n",
       "    </tr>\n",
       "    <tr>\n",
       "      <th>43</th>\n",
       "      <td>2025-03-05</td>\n",
       "      <td>3.8785</td>\n",
       "    </tr>\n",
       "    <tr>\n",
       "      <th>44</th>\n",
       "      <td>2025-03-06</td>\n",
       "      <td>3.8674</td>\n",
       "    </tr>\n",
       "    <tr>\n",
       "      <th>45</th>\n",
       "      <td>2025-03-07</td>\n",
       "      <td>3.8448</td>\n",
       "    </tr>\n",
       "    <tr>\n",
       "      <th>46</th>\n",
       "      <td>2025-03-10</td>\n",
       "      <td>3.8573</td>\n",
       "    </tr>\n",
       "    <tr>\n",
       "      <th>47</th>\n",
       "      <td>2025-03-11</td>\n",
       "      <td>3.8481</td>\n",
       "    </tr>\n",
       "    <tr>\n",
       "      <th>48</th>\n",
       "      <td>2025-03-12</td>\n",
       "      <td>3.8496</td>\n",
       "    </tr>\n",
       "    <tr>\n",
       "      <th>49</th>\n",
       "      <td>2025-03-13</td>\n",
       "      <td>3.8568</td>\n",
       "    </tr>\n",
       "    <tr>\n",
       "      <th>50</th>\n",
       "      <td>2025-03-14</td>\n",
       "      <td>3.8509</td>\n",
       "    </tr>\n",
       "    <tr>\n",
       "      <th>51</th>\n",
       "      <td>2025-03-17</td>\n",
       "      <td>3.8329</td>\n",
       "    </tr>\n",
       "    <tr>\n",
       "      <th>52</th>\n",
       "      <td>2025-03-18</td>\n",
       "      <td>3.8152</td>\n",
       "    </tr>\n",
       "    <tr>\n",
       "      <th>53</th>\n",
       "      <td>2025-03-19</td>\n",
       "      <td>3.8473</td>\n",
       "    </tr>\n",
       "    <tr>\n",
       "      <th>54</th>\n",
       "      <td>2025-03-20</td>\n",
       "      <td>3.8675</td>\n",
       "    </tr>\n",
       "    <tr>\n",
       "      <th>55</th>\n",
       "      <td>2025-03-21</td>\n",
       "      <td>3.8774</td>\n",
       "    </tr>\n",
       "    <tr>\n",
       "      <th>56</th>\n",
       "      <td>2025-03-24</td>\n",
       "      <td>3.8590</td>\n",
       "    </tr>\n",
       "    <tr>\n",
       "      <th>57</th>\n",
       "      <td>2025-03-25</td>\n",
       "      <td>3.8578</td>\n",
       "    </tr>\n",
       "  </tbody>\n",
       "</table>\n",
       "</div>"
      ],
      "text/plain": [
       "          data    cena\n",
       "0   2025-01-02  4.1219\n",
       "1   2025-01-03  4.1512\n",
       "2   2025-01-07  4.0770\n",
       "3   2025-01-08  4.1335\n",
       "4   2025-01-09  4.1523\n",
       "5   2025-01-10  4.1415\n",
       "6   2025-01-13  4.1904\n",
       "7   2025-01-14  4.1658\n",
       "8   2025-01-15  4.1330\n",
       "9   2025-01-16  4.1433\n",
       "10  2025-01-17  4.1462\n",
       "11  2025-01-20  4.1321\n",
       "12  2025-01-21  4.1101\n",
       "13  2025-01-22  4.0646\n",
       "14  2025-01-23  4.0515\n",
       "15  2025-01-24  4.0124\n",
       "16  2025-01-27  4.0210\n",
       "17  2025-01-28  4.0337\n",
       "18  2025-01-29  4.0443\n",
       "19  2025-01-30  4.0393\n",
       "20  2025-01-31  4.0576\n",
       "21  2025-02-03  4.1352\n",
       "22  2025-02-04  4.0864\n",
       "23  2025-02-05  4.0426\n",
       "24  2025-02-06  4.0613\n",
       "25  2025-02-07  4.0321\n",
       "26  2025-02-10  4.0548\n",
       "27  2025-02-11  4.0497\n",
       "28  2025-02-12  4.0215\n",
       "29  2025-02-13  3.9960\n",
       "30  2025-02-14  3.9720\n",
       "31  2025-02-17  3.9749\n",
       "32  2025-02-18  3.9729\n",
       "33  2025-02-19  3.9875\n",
       "34  2025-02-20  3.9974\n",
       "35  2025-02-21  3.9835\n",
       "36  2025-02-24  3.9734\n",
       "37  2025-02-25  3.9470\n",
       "38  2025-02-26  3.9434\n",
       "39  2025-02-27  3.9459\n",
       "40  2025-02-28  3.9993\n",
       "41  2025-03-03  4.0112\n",
       "42  2025-03-04  3.9543\n",
       "43  2025-03-05  3.8785\n",
       "44  2025-03-06  3.8674\n",
       "45  2025-03-07  3.8448\n",
       "46  2025-03-10  3.8573\n",
       "47  2025-03-11  3.8481\n",
       "48  2025-03-12  3.8496\n",
       "49  2025-03-13  3.8568\n",
       "50  2025-03-14  3.8509\n",
       "51  2025-03-17  3.8329\n",
       "52  2025-03-18  3.8152\n",
       "53  2025-03-19  3.8473\n",
       "54  2025-03-20  3.8675\n",
       "55  2025-03-21  3.8774\n",
       "56  2025-03-24  3.8590\n",
       "57  2025-03-25  3.8578"
      ]
     },
     "execution_count": 82,
     "metadata": {},
     "output_type": "execute_result"
    }
   ],
   "source": [
    "test = pd.DataFrame(l, data).reset_index()\n",
    "test.columns = ['data', 'cena']\n",
    "test"
   ]
  }
 ],
 "metadata": {
  "kernelspec": {
   "display_name": "Python 3 (ipykernel)",
   "language": "python",
   "name": "python3"
  },
  "language_info": {
   "codemirror_mode": {
    "name": "ipython",
    "version": 3
   },
   "file_extension": ".py",
   "mimetype": "text/x-python",
   "name": "python",
   "nbconvert_exporter": "python",
   "pygments_lexer": "ipython3",
   "version": "3.9.20"
  }
 },
 "nbformat": 4,
 "nbformat_minor": 5
}
